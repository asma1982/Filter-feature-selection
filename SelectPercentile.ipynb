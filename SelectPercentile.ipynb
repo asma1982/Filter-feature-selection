{
 "cells": [
  {
   "cell_type": "markdown",
   "metadata": {},
   "source": [
    "## Filter feature selection\n",
    "\n",
    "### SelectPercentile\n",
    "\n",
    "## Feature Selection by Percentile BY 55%>>>>>> 88%\n",
    "\n",
    "## ‘Age', 'FBS', 'ALB', 'CA15', 'CEA', 'WBC', 'RBC', 'HGB', 'PLT', 'ESR', 'LDH\n",
    "\n",
    "## (2437, 11)\n"
   ]
  },
  {
   "cell_type": "code",
   "execution_count": 1,
   "metadata": {},
   "outputs": [],
   "source": [
    "#Import Libraries\n",
    "import numpy as np\n",
    "import matplotlib.pyplot as plt\n",
    "import pandas as pd\n",
    "pd.set_option('display.max_columns', None)\n",
    "import seaborn as sns\n",
    "\n",
    "from sklearn.feature_selection import SelectPercentile\n",
    "from sklearn.feature_selection import chi2 , f_classif \n",
    "#----------------------------------------------------\n"
   ]
  },
  {
   "cell_type": "code",
   "execution_count": 2,
   "metadata": {},
   "outputs": [],
   "source": [
    "#load breast cancer data\n",
    "\n",
    "BC = pd.read_csv('bc_with_mis_90.csv')\n",
    "\n",
    "\n"
   ]
  },
  {
   "cell_type": "code",
   "execution_count": 3,
   "metadata": {},
   "outputs": [
    {
     "data": {
      "text/html": [
       "<div>\n",
       "<style scoped>\n",
       "    .dataframe tbody tr th:only-of-type {\n",
       "        vertical-align: middle;\n",
       "    }\n",
       "\n",
       "    .dataframe tbody tr th {\n",
       "        vertical-align: top;\n",
       "    }\n",
       "\n",
       "    .dataframe thead th {\n",
       "        text-align: right;\n",
       "    }\n",
       "</style>\n",
       "<table border=\"1\" class=\"dataframe\">\n",
       "  <thead>\n",
       "    <tr style=\"text-align: right;\">\n",
       "      <th></th>\n",
       "      <th>Sex</th>\n",
       "      <th>Age</th>\n",
       "      <th>Adress</th>\n",
       "      <th>FBS</th>\n",
       "      <th>Urea</th>\n",
       "      <th>Creatinin</th>\n",
       "      <th>ALB</th>\n",
       "      <th>TCa</th>\n",
       "      <th>GPT</th>\n",
       "      <th>GOT</th>\n",
       "      <th>ALP</th>\n",
       "      <th>CA15</th>\n",
       "      <th>CEA</th>\n",
       "      <th>WBC</th>\n",
       "      <th>RBC</th>\n",
       "      <th>HGB</th>\n",
       "      <th>PLT</th>\n",
       "      <th>ESR</th>\n",
       "      <th>LDH</th>\n",
       "      <th>Na</th>\n",
       "      <th>K</th>\n",
       "      <th>CL</th>\n",
       "      <th>CLASS</th>\n",
       "    </tr>\n",
       "  </thead>\n",
       "  <tbody>\n",
       "    <tr>\n",
       "      <td>0</td>\n",
       "      <td>1</td>\n",
       "      <td>60</td>\n",
       "      <td>Tragan</td>\n",
       "      <td>200.0</td>\n",
       "      <td>23.0</td>\n",
       "      <td>0.8</td>\n",
       "      <td>3.400000</td>\n",
       "      <td>1.0</td>\n",
       "      <td>2.0</td>\n",
       "      <td>1.0</td>\n",
       "      <td>124.000000</td>\n",
       "      <td>69.120000</td>\n",
       "      <td>8.020000</td>\n",
       "      <td>3.4</td>\n",
       "      <td>4.60</td>\n",
       "      <td>13.4</td>\n",
       "      <td>500.000000</td>\n",
       "      <td>25.0</td>\n",
       "      <td>150.0</td>\n",
       "      <td>145.0</td>\n",
       "      <td>4.50</td>\n",
       "      <td>19.1</td>\n",
       "      <td>0</td>\n",
       "    </tr>\n",
       "    <tr>\n",
       "      <td>1</td>\n",
       "      <td>1</td>\n",
       "      <td>53</td>\n",
       "      <td>Sabha</td>\n",
       "      <td>400.0</td>\n",
       "      <td>22.0</td>\n",
       "      <td>0.7</td>\n",
       "      <td>4.461508</td>\n",
       "      <td>9.6</td>\n",
       "      <td>3.0</td>\n",
       "      <td>7.0</td>\n",
       "      <td>133.000000</td>\n",
       "      <td>51.820000</td>\n",
       "      <td>7.910000</td>\n",
       "      <td>4.4</td>\n",
       "      <td>5.00</td>\n",
       "      <td>12.5</td>\n",
       "      <td>283.554362</td>\n",
       "      <td>15.0</td>\n",
       "      <td>260.0</td>\n",
       "      <td>137.8</td>\n",
       "      <td>4.18</td>\n",
       "      <td>19.1</td>\n",
       "      <td>0</td>\n",
       "    </tr>\n",
       "    <tr>\n",
       "      <td>2</td>\n",
       "      <td>1</td>\n",
       "      <td>50</td>\n",
       "      <td>Sabha</td>\n",
       "      <td>450.0</td>\n",
       "      <td>27.0</td>\n",
       "      <td>0.6</td>\n",
       "      <td>3.500000</td>\n",
       "      <td>9.3</td>\n",
       "      <td>11.0</td>\n",
       "      <td>17.0</td>\n",
       "      <td>155.000000</td>\n",
       "      <td>50.000000</td>\n",
       "      <td>8.740000</td>\n",
       "      <td>5.1</td>\n",
       "      <td>4.46</td>\n",
       "      <td>12.5</td>\n",
       "      <td>456.000000</td>\n",
       "      <td>2.0</td>\n",
       "      <td>169.0</td>\n",
       "      <td>139.2</td>\n",
       "      <td>4.17</td>\n",
       "      <td>16.4</td>\n",
       "      <td>0</td>\n",
       "    </tr>\n",
       "    <tr>\n",
       "      <td>3</td>\n",
       "      <td>1</td>\n",
       "      <td>36</td>\n",
       "      <td>Obaree-center</td>\n",
       "      <td>300.0</td>\n",
       "      <td>15.0</td>\n",
       "      <td>1.1</td>\n",
       "      <td>4.200000</td>\n",
       "      <td>8.5</td>\n",
       "      <td>13.0</td>\n",
       "      <td>1.0</td>\n",
       "      <td>140.701195</td>\n",
       "      <td>40.110000</td>\n",
       "      <td>10.340000</td>\n",
       "      <td>3.1</td>\n",
       "      <td>4.33</td>\n",
       "      <td>13.8</td>\n",
       "      <td>600.000000</td>\n",
       "      <td>15.0</td>\n",
       "      <td>138.0</td>\n",
       "      <td>14.0</td>\n",
       "      <td>4.00</td>\n",
       "      <td>1.1</td>\n",
       "      <td>0</td>\n",
       "    </tr>\n",
       "    <tr>\n",
       "      <td>4</td>\n",
       "      <td>1</td>\n",
       "      <td>30</td>\n",
       "      <td>Obaree-center</td>\n",
       "      <td>345.0</td>\n",
       "      <td>2.0</td>\n",
       "      <td>1.0</td>\n",
       "      <td>3.000000</td>\n",
       "      <td>8.0</td>\n",
       "      <td>7.0</td>\n",
       "      <td>13.0</td>\n",
       "      <td>125.000000</td>\n",
       "      <td>67.630000</td>\n",
       "      <td>7.310000</td>\n",
       "      <td>4.2</td>\n",
       "      <td>4.13</td>\n",
       "      <td>1.7</td>\n",
       "      <td>543.000000</td>\n",
       "      <td>25.0</td>\n",
       "      <td>154.0</td>\n",
       "      <td>136.4</td>\n",
       "      <td>4.60</td>\n",
       "      <td>17.1</td>\n",
       "      <td>0</td>\n",
       "    </tr>\n",
       "    <tr>\n",
       "      <td>...</td>\n",
       "      <td>...</td>\n",
       "      <td>...</td>\n",
       "      <td>...</td>\n",
       "      <td>...</td>\n",
       "      <td>...</td>\n",
       "      <td>...</td>\n",
       "      <td>...</td>\n",
       "      <td>...</td>\n",
       "      <td>...</td>\n",
       "      <td>...</td>\n",
       "      <td>...</td>\n",
       "      <td>...</td>\n",
       "      <td>...</td>\n",
       "      <td>...</td>\n",
       "      <td>...</td>\n",
       "      <td>...</td>\n",
       "      <td>...</td>\n",
       "      <td>...</td>\n",
       "      <td>...</td>\n",
       "      <td>...</td>\n",
       "      <td>...</td>\n",
       "      <td>...</td>\n",
       "      <td>...</td>\n",
       "    </tr>\n",
       "    <tr>\n",
       "      <td>2432</td>\n",
       "      <td>1</td>\n",
       "      <td>30</td>\n",
       "      <td>Algatroon</td>\n",
       "      <td>70.0</td>\n",
       "      <td>28.0</td>\n",
       "      <td>0.7</td>\n",
       "      <td>5.900000</td>\n",
       "      <td>9.5</td>\n",
       "      <td>63.0</td>\n",
       "      <td>23.0</td>\n",
       "      <td>234.000000</td>\n",
       "      <td>21.000000</td>\n",
       "      <td>1.120000</td>\n",
       "      <td>3.9</td>\n",
       "      <td>5.23</td>\n",
       "      <td>11.3</td>\n",
       "      <td>288.000000</td>\n",
       "      <td>15.0</td>\n",
       "      <td>254.0</td>\n",
       "      <td>138.7</td>\n",
       "      <td>4.35</td>\n",
       "      <td>103.6</td>\n",
       "      <td>1</td>\n",
       "    </tr>\n",
       "    <tr>\n",
       "      <td>2433</td>\n",
       "      <td>1</td>\n",
       "      <td>47</td>\n",
       "      <td>Sabha</td>\n",
       "      <td>98.0</td>\n",
       "      <td>32.0</td>\n",
       "      <td>0.8</td>\n",
       "      <td>10.200000</td>\n",
       "      <td>8.8</td>\n",
       "      <td>82.0</td>\n",
       "      <td>23.0</td>\n",
       "      <td>190.000000</td>\n",
       "      <td>21.370000</td>\n",
       "      <td>2.020000</td>\n",
       "      <td>4.8</td>\n",
       "      <td>4.57</td>\n",
       "      <td>13.2</td>\n",
       "      <td>249.000000</td>\n",
       "      <td>12.0</td>\n",
       "      <td>254.0</td>\n",
       "      <td>142.3</td>\n",
       "      <td>4.40</td>\n",
       "      <td>102.7</td>\n",
       "      <td>1</td>\n",
       "    </tr>\n",
       "    <tr>\n",
       "      <td>2434</td>\n",
       "      <td>1</td>\n",
       "      <td>43</td>\n",
       "      <td>Sabha</td>\n",
       "      <td>76.0</td>\n",
       "      <td>15.0</td>\n",
       "      <td>0.6</td>\n",
       "      <td>11.400000</td>\n",
       "      <td>8.1</td>\n",
       "      <td>22.0</td>\n",
       "      <td>15.0</td>\n",
       "      <td>143.000000</td>\n",
       "      <td>8.500000</td>\n",
       "      <td>0.500000</td>\n",
       "      <td>4.4</td>\n",
       "      <td>4.32</td>\n",
       "      <td>11.1</td>\n",
       "      <td>249.000000</td>\n",
       "      <td>8.0</td>\n",
       "      <td>254.0</td>\n",
       "      <td>137.8</td>\n",
       "      <td>4.25</td>\n",
       "      <td>110.2</td>\n",
       "      <td>1</td>\n",
       "    </tr>\n",
       "    <tr>\n",
       "      <td>2435</td>\n",
       "      <td>1</td>\n",
       "      <td>60</td>\n",
       "      <td>Sabha</td>\n",
       "      <td>120.0</td>\n",
       "      <td>29.0</td>\n",
       "      <td>0.9</td>\n",
       "      <td>10.900000</td>\n",
       "      <td>8.2</td>\n",
       "      <td>51.0</td>\n",
       "      <td>17.0</td>\n",
       "      <td>104.000000</td>\n",
       "      <td>30.967314</td>\n",
       "      <td>4.536407</td>\n",
       "      <td>4.5</td>\n",
       "      <td>4.41</td>\n",
       "      <td>12.9</td>\n",
       "      <td>293.000000</td>\n",
       "      <td>13.0</td>\n",
       "      <td>254.0</td>\n",
       "      <td>147.5</td>\n",
       "      <td>3.15</td>\n",
       "      <td>107.5</td>\n",
       "      <td>1</td>\n",
       "    </tr>\n",
       "    <tr>\n",
       "      <td>2436</td>\n",
       "      <td>1</td>\n",
       "      <td>68</td>\n",
       "      <td>Sabha</td>\n",
       "      <td>90.0</td>\n",
       "      <td>29.0</td>\n",
       "      <td>0.6</td>\n",
       "      <td>5.300000</td>\n",
       "      <td>8.5</td>\n",
       "      <td>83.0</td>\n",
       "      <td>20.0</td>\n",
       "      <td>178.000000</td>\n",
       "      <td>30.967314</td>\n",
       "      <td>4.536407</td>\n",
       "      <td>3.4</td>\n",
       "      <td>4.42</td>\n",
       "      <td>11.0</td>\n",
       "      <td>199.000000</td>\n",
       "      <td>15.0</td>\n",
       "      <td>254.0</td>\n",
       "      <td>142.3</td>\n",
       "      <td>3.23</td>\n",
       "      <td>107.5</td>\n",
       "      <td>1</td>\n",
       "    </tr>\n",
       "  </tbody>\n",
       "</table>\n",
       "<p>2437 rows × 23 columns</p>\n",
       "</div>"
      ],
      "text/plain": [
       "      Sex  Age         Adress    FBS  Urea  Creatinin        ALB  TCa   GPT  \\\n",
       "0       1   60         Tragan  200.0  23.0        0.8   3.400000  1.0   2.0   \n",
       "1       1   53          Sabha  400.0  22.0        0.7   4.461508  9.6   3.0   \n",
       "2       1   50          Sabha  450.0  27.0        0.6   3.500000  9.3  11.0   \n",
       "3       1   36  Obaree-center  300.0  15.0        1.1   4.200000  8.5  13.0   \n",
       "4       1   30  Obaree-center  345.0   2.0        1.0   3.000000  8.0   7.0   \n",
       "...   ...  ...            ...    ...   ...        ...        ...  ...   ...   \n",
       "2432    1   30      Algatroon   70.0  28.0        0.7   5.900000  9.5  63.0   \n",
       "2433    1   47          Sabha   98.0  32.0        0.8  10.200000  8.8  82.0   \n",
       "2434    1   43          Sabha   76.0  15.0        0.6  11.400000  8.1  22.0   \n",
       "2435    1   60          Sabha  120.0  29.0        0.9  10.900000  8.2  51.0   \n",
       "2436    1   68          Sabha   90.0  29.0        0.6   5.300000  8.5  83.0   \n",
       "\n",
       "       GOT         ALP       CA15        CEA  WBC   RBC   HGB         PLT  \\\n",
       "0      1.0  124.000000  69.120000   8.020000  3.4  4.60  13.4  500.000000   \n",
       "1      7.0  133.000000  51.820000   7.910000  4.4  5.00  12.5  283.554362   \n",
       "2     17.0  155.000000  50.000000   8.740000  5.1  4.46  12.5  456.000000   \n",
       "3      1.0  140.701195  40.110000  10.340000  3.1  4.33  13.8  600.000000   \n",
       "4     13.0  125.000000  67.630000   7.310000  4.2  4.13   1.7  543.000000   \n",
       "...    ...         ...        ...        ...  ...   ...   ...         ...   \n",
       "2432  23.0  234.000000  21.000000   1.120000  3.9  5.23  11.3  288.000000   \n",
       "2433  23.0  190.000000  21.370000   2.020000  4.8  4.57  13.2  249.000000   \n",
       "2434  15.0  143.000000   8.500000   0.500000  4.4  4.32  11.1  249.000000   \n",
       "2435  17.0  104.000000  30.967314   4.536407  4.5  4.41  12.9  293.000000   \n",
       "2436  20.0  178.000000  30.967314   4.536407  3.4  4.42  11.0  199.000000   \n",
       "\n",
       "       ESR    LDH     Na     K     CL  CLASS  \n",
       "0     25.0  150.0  145.0  4.50   19.1      0  \n",
       "1     15.0  260.0  137.8  4.18   19.1      0  \n",
       "2      2.0  169.0  139.2  4.17   16.4      0  \n",
       "3     15.0  138.0   14.0  4.00    1.1      0  \n",
       "4     25.0  154.0  136.4  4.60   17.1      0  \n",
       "...    ...    ...    ...   ...    ...    ...  \n",
       "2432  15.0  254.0  138.7  4.35  103.6      1  \n",
       "2433  12.0  254.0  142.3  4.40  102.7      1  \n",
       "2434   8.0  254.0  137.8  4.25  110.2      1  \n",
       "2435  13.0  254.0  147.5  3.15  107.5      1  \n",
       "2436  15.0  254.0  142.3  3.23  107.5      1  \n",
       "\n",
       "[2437 rows x 23 columns]"
      ]
     },
     "execution_count": 3,
     "metadata": {},
     "output_type": "execute_result"
    }
   ],
   "source": [
    "BC[\"FBS\"].fillna(BC[\"FBS\"].mean(), inplace=True)\n",
    "BC[\"Urea\"].fillna(BC[\"Urea\"].mean(), inplace=True)\n",
    "BC[\"Creatinin\"].fillna(BC[\"Creatinin\"].mean(), inplace=True)\n",
    "BC[\"ALB\"].fillna(BC[\"ALB\"].mean(), inplace=True)\n",
    "BC[\"TCa\"].fillna(BC[\"TCa\"].mean(), inplace=True)\n",
    "BC[\"GPT\"].fillna(BC[\"GPT\"].mean(), inplace=True)\n",
    "BC[\"GOT\"].fillna(BC[\"GOT\"].mean(), inplace=True)\n",
    "BC[\"ALP\"].fillna(BC[\"ALP\"].mean(), inplace=True)\n",
    "BC[\"WBC\"].fillna(BC[\"WBC\"].mean(), inplace=True)\n",
    "BC[\"HGB\"].fillna(BC[\"HGB\"].mean(), inplace=True)\n",
    "BC[\"RBC\"].fillna(BC[\"RBC\"].mean(), inplace=True)\n",
    "BC[\"PLT\"].fillna(BC[\"PLT\"].mean(), inplace=True)\n",
    "BC[\"ESR\"].fillna(BC[\"ESR\"].mean(), inplace=True)\n",
    "BC[\"LDH\"].fillna(BC[\"LDH\"].mean(), inplace=True)\n",
    "BC[\"Na\"].fillna(BC[\"Na\"].mean(), inplace=True)\n",
    "BC[\"K\"].fillna(BC[\"K\"].mean(), inplace=True)\n",
    "BC[\"CL\"].fillna(BC[\"CL\"].mean(), inplace=True)\n",
    "BC[\"CA15\"].fillna(BC[\"CA15\"].mean(), inplace=True)\n",
    "BC[\"CEA\"].fillna(BC[\"CEA\"].mean(), inplace=True)\n",
    "BC"
   ]
  },
  {
   "cell_type": "markdown",
   "metadata": {},
   "source": [
    "## outlires by Z-score"
   ]
  },
  {
   "cell_type": "code",
   "execution_count": 4,
   "metadata": {},
   "outputs": [],
   "source": [
    "BC[\"ZScore_FBS\"] = (BC.FBS - BC.FBS.mean())/(BC.FBS.std())\n",
    "BC[\"ZScore_Urea\"] = (BC.Urea - BC.Urea.mean())/(BC.Urea.std())\n",
    "BC[\"ZScore_creatinine\"] = (BC.Creatinin - BC.Creatinin.mean())/(BC.Creatinin.std())\n",
    "BC[\"ZScore_ALB\"] = (BC.ALB - BC.ALB.mean())/(BC.ALB.std())\n",
    "BC[\"ZScore_TCa\"] = (BC.TCa - BC.TCa.mean())/(BC.TCa.std())\n",
    "\n",
    "BC[\"ZScore_GPT\"] = (BC.GPT - BC.GPT.mean())/(BC.GPT.std())\n",
    "BC[\"ZScore_GOT\"] = (BC.GOT - BC.GOT.mean())/(BC.GOT.std())\n",
    "BC[\"ZScore_ALP\"] = (BC.ALP - BC.ALP.mean())/(BC.ALP.std())\n",
    "BC[\"ZScore_CA15\"] = (BC.CA15 - BC.CA15.mean())/(BC.CA15.std())\n",
    "BC[\"ZScore_CEA\"] = (BC.CEA - BC.CEA.mean())/(BC.CEA.std())\n",
    "BC[\"ZScore_WBC\"] = (BC.WBC - BC.WBC.mean())/(BC.WBC.std())\n",
    "BC[\"ZScore_RBC\"] = (BC.RBC - BC.RBC.mean())/(BC.RBC.std())\n",
    "BC[\"ZScore_HGB\"] = (BC.HGB - BC.HGB.mean())/(BC.HGB.std())\n",
    "BC[\"ZScore_PLT\"] = (BC.PLT - BC.PLT.mean())/(BC.PLT.std())\n",
    "BC[\"ZScore_ESR\"] = (BC.ESR - BC.ESR.mean())/(BC.ESR.std())\n",
    "BC[\"ZScore_LDH\"] = (BC.LDH - BC.LDH.mean())/(BC.LDH.std())\n",
    "BC[\"ZScore_Na\"] = (BC.Na - BC.Na.mean())/(BC.Na.std())\n",
    "BC[\"ZScore_CL\"] = (BC.CL - BC.CL.mean())/(BC.CL.std())\n",
    "BC[\"ZScore_K\"] = (BC.K - BC.K.mean())/(BC.K.std())\n",
    "\n"
   ]
  },
  {
   "cell_type": "code",
   "execution_count": 5,
   "metadata": {},
   "outputs": [],
   "source": [
    "BC_FBS_outlier_Z = BC[(BC.ZScore_FBS>3) | (BC.ZScore_FBS<-3)]\n",
    "BC_Urea_outlier_Z = BC[(BC.ZScore_Urea>3) | (BC.ZScore_Urea<-3)]\n",
    "BC_creatinine_outlier_Z = BC[(BC.ZScore_creatinine>3) | (BC.ZScore_creatinine<-3)]\n",
    "BC_ALB_outlier_Z = BC[(BC.ZScore_ALB>3) | (BC.ZScore_ALB<-3)]\n",
    "BC_TCa_outlier_Z = BC[(BC.ZScore_TCa>3) | (BC.ZScore_TCa<-3)]\n",
    "\n",
    "BC_GPT_outlier_Z = BC[(BC.ZScore_GPT>3) | (BC.ZScore_GPT<-3)]\n",
    "BC_GOT_outlier_Z = BC[(BC.ZScore_GOT>3) | (BC.ZScore_GOT<-3)]\n",
    "BC_ALP_outlier_Z = BC[(BC.ZScore_ALP>3) | (BC.ZScore_ALP<-3)]\n",
    "BC_CA15_outlier_Z = BC[(BC.ZScore_CA15>3) | (BC.ZScore_CA15<-3)]\n",
    "BC_CEA_outlier_Z = BC[(BC.ZScore_CEA>3) | (BC.ZScore_CEA<-3)]\n",
    "BC_WBC_outlier_Z = BC[(BC.ZScore_WBC>3) | (BC.ZScore_WBC<-3)]\n",
    "BC_RBC_outlier_Z = BC[(BC.ZScore_RBC>3) | (BC.ZScore_RBC<-3)]\n",
    "BC_HGB_outlier_Z = BC[(BC.ZScore_HGB>3) | (BC.ZScore_HGB<-3)]\n",
    "BC_PLT_outlier_Z = BC[(BC.ZScore_PLT>3) | (BC.ZScore_PLT<-3)]\n",
    "BC_ESR_outlier_Z = BC[(BC.ZScore_ESR>3) | (BC.ZScore_ESR<-3)]\n",
    "BC_LDH_outlier_Z = BC[(BC.ZScore_LDH>3) | (BC.ZScore_LDH<-3)]\n",
    "BC_Na_outlier_Z = BC[(BC.ZScore_Na>3) | (BC.ZScore_Na<-3)]\n",
    "BC_K_outlier_Z = BC[(BC.ZScore_CL>3) | (BC.ZScore_CL<-3)]\n",
    "BC_CL_outlier_Z = BC[(BC.ZScore_K>3) | (BC.ZScore_K<-3)]\n"
   ]
  },
  {
   "cell_type": "code",
   "execution_count": 6,
   "metadata": {},
   "outputs": [
    {
     "data": {
      "text/plain": [
       "Sex                  0\n",
       "Age                  0\n",
       "Adress               0\n",
       "FBS                  0\n",
       "Urea                 0\n",
       "Creatinin            0\n",
       "ALB                  0\n",
       "TCa                  0\n",
       "GPT                  0\n",
       "GOT                  0\n",
       "ALP                  0\n",
       "CA15                 0\n",
       "CEA                  0\n",
       "WBC                  0\n",
       "RBC                  0\n",
       "HGB                  0\n",
       "PLT                  0\n",
       "ESR                  0\n",
       "LDH                  0\n",
       "Na                   0\n",
       "K                    0\n",
       "CL                   0\n",
       "CLASS                0\n",
       "ZScore_FBS           0\n",
       "ZScore_Urea          0\n",
       "ZScore_creatinine    0\n",
       "ZScore_ALB           0\n",
       "ZScore_TCa           0\n",
       "ZScore_GPT           0\n",
       "ZScore_GOT           0\n",
       "ZScore_ALP           0\n",
       "ZScore_CA15          0\n",
       "ZScore_CEA           0\n",
       "ZScore_WBC           0\n",
       "ZScore_RBC           0\n",
       "ZScore_HGB           0\n",
       "ZScore_PLT           0\n",
       "ZScore_ESR           0\n",
       "ZScore_LDH           0\n",
       "ZScore_Na            0\n",
       "ZScore_CL            0\n",
       "ZScore_K             0\n",
       "dtype: int64"
      ]
     },
     "execution_count": 6,
     "metadata": {},
     "output_type": "execute_result"
    }
   ],
   "source": [
    "BC.isnull().sum()"
   ]
  },
  {
   "cell_type": "code",
   "execution_count": 7,
   "metadata": {},
   "outputs": [],
   "source": [
    "#assigning nan to the outliers\n",
    "\n",
    "BC['FBS'].values[BC['ZScore_FBS'] > 3] = np.nan\n",
    "BC['FBS'].values[BC['ZScore_FBS'] < -3] = np.nan\n",
    "\n",
    "BC['Urea'].values[BC['ZScore_Urea'] > 3] = np.nan\n",
    "BC['Urea'].values[BC['ZScore_Urea'] < -3] = np.nan\n",
    "\n",
    "BC['Creatinin'].values[BC['ZScore_creatinine'] > 3] = np.nan\n",
    "BC['Creatinin'].values[BC['ZScore_creatinine'] < -3] = np.nan\n",
    "\n",
    "BC['ALB'].values[BC['ZScore_ALB'] > 3] = np.nan\n",
    "BC['ALB'].values[BC['ZScore_ALB'] < -3] = np.nan\n",
    "\n",
    "BC['TCa'].values[BC['ZScore_TCa'] > 3] = np.nan\n",
    "BC['TCa'].values[BC['ZScore_TCa'] < -3] = np.nan\n",
    "\n",
    "\n",
    "BC['GPT'].values[BC['ZScore_GPT'] > 3] = np.nan\n",
    "BC['GPT'].values[BC['ZScore_GPT'] < -3] = np.nan\n",
    "\n",
    "BC['GOT'].values[BC['ZScore_GOT'] > 3] = np.nan\n",
    "BC['GOT'].values[BC['ZScore_GOT'] < -3] = np.nan\n",
    "\n",
    "BC['ALP'].values[BC['ZScore_ALP'] > 3] = np.nan\n",
    "BC['ALP'].values[BC['ZScore_ALP'] < -3] = np.nan\n",
    "\n",
    "BC['CA15'].values[BC['ZScore_CA15'] > 3] = np.nan\n",
    "BC['CA15'].values[BC['ZScore_CA15'] < -3] = np.nan\n",
    "\n",
    "BC['CEA'].values[BC['ZScore_CEA'] > 3] = np.nan\n",
    "BC['CEA'].values[BC['ZScore_CEA'] < -3] = np.nan\n",
    "\n",
    "BC['WBC'].values[BC['ZScore_WBC'] > 3] = np.nan\n",
    "BC['WBC'].values[BC['ZScore_WBC'] < -3] = np.nan\n",
    "\n",
    "BC['RBC'].values[BC['ZScore_RBC'] > 3] = np.nan\n",
    "BC['RBC'].values[BC['ZScore_RBC'] < -3] = np.nan\n",
    "\n",
    "BC['HGB'].values[BC['ZScore_HGB'] > 3] = np.nan\n",
    "BC['HGB'].values[BC['ZScore_HGB'] < -3] = np.nan\n",
    "\n",
    "BC['PLT'].values[BC['ZScore_PLT'] > 3] = np.nan\n",
    "BC['PLT'].values[BC['ZScore_PLT'] < -3] = np.nan\n",
    "\n",
    "BC['ESR'].values[BC['ZScore_ESR'] > 3] = np.nan\n",
    "BC['ESR'].values[BC['ZScore_ESR'] < -3] = np.nan\n",
    "\n",
    "BC['LDH'].values[BC['ZScore_LDH'] > 3] = np.nan\n",
    "BC['LDH'].values[BC['ZScore_LDH'] < -3] = np.nan\n",
    "\n",
    "BC['Na'].values[BC['ZScore_Na'] > 3] = np.nan\n",
    "BC['Na'].values[BC['ZScore_Na'] < -3] = np.nan\n",
    "\n",
    "BC['CL'].values[BC['ZScore_CL'] > 3] = np.nan\n",
    "BC['CL'].values[BC['ZScore_CL'] < -3] = np.nan\n",
    "\n",
    "BC['K'].values[BC['ZScore_K'] > 3] = np.nan\n",
    "BC['K'].values[BC['ZScore_K'] < -3] = np.nan"
   ]
  },
  {
   "cell_type": "code",
   "execution_count": 8,
   "metadata": {},
   "outputs": [
    {
     "data": {
      "text/plain": [
       "Sex           0\n",
       "Age           0\n",
       "Adress        0\n",
       "FBS          50\n",
       "Urea         66\n",
       "Creatinin    27\n",
       "ALB          60\n",
       "TCa           8\n",
       "GPT          61\n",
       "GOT          43\n",
       "ALP          28\n",
       "CA15          3\n",
       "CEA           1\n",
       "WBC          13\n",
       "RBC           4\n",
       "HGB           3\n",
       "PLT           3\n",
       "ESR          30\n",
       "LDH          12\n",
       "Na            1\n",
       "K             8\n",
       "CL            3\n",
       "CLASS         0\n",
       "dtype: int64"
      ]
     },
     "execution_count": 8,
     "metadata": {},
     "output_type": "execute_result"
    }
   ],
   "source": [
    "BC.drop([\"ZScore_FBS\",\"ZScore_Urea\",\"ZScore_creatinine\",\"ZScore_ALB\",\"ZScore_TCa\",\"ZScore_GPT\",\"ZScore_GOT\",\"ZScore_ALP\",\n",
    "        \"ZScore_CA15\",\"ZScore_CEA\",\"ZScore_WBC\",\"ZScore_RBC\",\"ZScore_HGB\",\"ZScore_PLT\",\"ZScore_ESR\",\"ZScore_LDH\",\n",
    "        \"ZScore_Na\",\"ZScore_CL\",\"ZScore_K\"],axis=1,inplace=True)\n",
    "\n",
    "BC.isnull().sum()"
   ]
  },
  {
   "cell_type": "code",
   "execution_count": 9,
   "metadata": {},
   "outputs": [
    {
     "data": {
      "text/html": [
       "<div>\n",
       "<style scoped>\n",
       "    .dataframe tbody tr th:only-of-type {\n",
       "        vertical-align: middle;\n",
       "    }\n",
       "\n",
       "    .dataframe tbody tr th {\n",
       "        vertical-align: top;\n",
       "    }\n",
       "\n",
       "    .dataframe thead th {\n",
       "        text-align: right;\n",
       "    }\n",
       "</style>\n",
       "<table border=\"1\" class=\"dataframe\">\n",
       "  <thead>\n",
       "    <tr style=\"text-align: right;\">\n",
       "      <th></th>\n",
       "      <th>Sex</th>\n",
       "      <th>Age</th>\n",
       "      <th>Adress</th>\n",
       "      <th>FBS</th>\n",
       "      <th>Urea</th>\n",
       "      <th>Creatinin</th>\n",
       "      <th>ALB</th>\n",
       "      <th>TCa</th>\n",
       "      <th>GPT</th>\n",
       "      <th>GOT</th>\n",
       "      <th>ALP</th>\n",
       "      <th>CA15</th>\n",
       "      <th>CEA</th>\n",
       "      <th>WBC</th>\n",
       "      <th>RBC</th>\n",
       "      <th>HGB</th>\n",
       "      <th>PLT</th>\n",
       "      <th>ESR</th>\n",
       "      <th>LDH</th>\n",
       "      <th>Na</th>\n",
       "      <th>K</th>\n",
       "      <th>CL</th>\n",
       "      <th>CLASS</th>\n",
       "    </tr>\n",
       "  </thead>\n",
       "  <tbody>\n",
       "    <tr>\n",
       "      <td>0</td>\n",
       "      <td>1</td>\n",
       "      <td>60</td>\n",
       "      <td>Tragan</td>\n",
       "      <td>200.00000</td>\n",
       "      <td>23.0</td>\n",
       "      <td>0.8</td>\n",
       "      <td>3.400000</td>\n",
       "      <td>1.0</td>\n",
       "      <td>2.000000</td>\n",
       "      <td>1.0</td>\n",
       "      <td>124.000000</td>\n",
       "      <td>69.120000</td>\n",
       "      <td>8.020000</td>\n",
       "      <td>3.4</td>\n",
       "      <td>4.60</td>\n",
       "      <td>13.4</td>\n",
       "      <td>500.000000</td>\n",
       "      <td>25.0</td>\n",
       "      <td>150.0</td>\n",
       "      <td>145.0</td>\n",
       "      <td>4.50</td>\n",
       "      <td>19.1</td>\n",
       "      <td>0</td>\n",
       "    </tr>\n",
       "    <tr>\n",
       "      <td>1</td>\n",
       "      <td>1</td>\n",
       "      <td>53</td>\n",
       "      <td>Sabha</td>\n",
       "      <td>154.36173</td>\n",
       "      <td>22.0</td>\n",
       "      <td>0.7</td>\n",
       "      <td>4.461508</td>\n",
       "      <td>9.6</td>\n",
       "      <td>3.000000</td>\n",
       "      <td>7.0</td>\n",
       "      <td>133.000000</td>\n",
       "      <td>51.820000</td>\n",
       "      <td>7.910000</td>\n",
       "      <td>4.4</td>\n",
       "      <td>5.00</td>\n",
       "      <td>12.5</td>\n",
       "      <td>283.554362</td>\n",
       "      <td>15.0</td>\n",
       "      <td>260.0</td>\n",
       "      <td>137.8</td>\n",
       "      <td>4.18</td>\n",
       "      <td>19.1</td>\n",
       "      <td>0</td>\n",
       "    </tr>\n",
       "    <tr>\n",
       "      <td>2</td>\n",
       "      <td>1</td>\n",
       "      <td>50</td>\n",
       "      <td>Sabha</td>\n",
       "      <td>154.36173</td>\n",
       "      <td>27.0</td>\n",
       "      <td>0.6</td>\n",
       "      <td>3.500000</td>\n",
       "      <td>9.3</td>\n",
       "      <td>11.000000</td>\n",
       "      <td>17.0</td>\n",
       "      <td>155.000000</td>\n",
       "      <td>50.000000</td>\n",
       "      <td>8.740000</td>\n",
       "      <td>5.1</td>\n",
       "      <td>4.46</td>\n",
       "      <td>12.5</td>\n",
       "      <td>456.000000</td>\n",
       "      <td>2.0</td>\n",
       "      <td>169.0</td>\n",
       "      <td>139.2</td>\n",
       "      <td>4.17</td>\n",
       "      <td>16.4</td>\n",
       "      <td>0</td>\n",
       "    </tr>\n",
       "    <tr>\n",
       "      <td>3</td>\n",
       "      <td>1</td>\n",
       "      <td>36</td>\n",
       "      <td>Obaree-center</td>\n",
       "      <td>300.00000</td>\n",
       "      <td>15.0</td>\n",
       "      <td>1.1</td>\n",
       "      <td>4.200000</td>\n",
       "      <td>8.5</td>\n",
       "      <td>13.000000</td>\n",
       "      <td>1.0</td>\n",
       "      <td>140.701195</td>\n",
       "      <td>40.110000</td>\n",
       "      <td>10.340000</td>\n",
       "      <td>3.1</td>\n",
       "      <td>4.33</td>\n",
       "      <td>13.8</td>\n",
       "      <td>600.000000</td>\n",
       "      <td>15.0</td>\n",
       "      <td>138.0</td>\n",
       "      <td>14.0</td>\n",
       "      <td>4.00</td>\n",
       "      <td>1.1</td>\n",
       "      <td>0</td>\n",
       "    </tr>\n",
       "    <tr>\n",
       "      <td>4</td>\n",
       "      <td>1</td>\n",
       "      <td>30</td>\n",
       "      <td>Obaree-center</td>\n",
       "      <td>345.00000</td>\n",
       "      <td>2.0</td>\n",
       "      <td>1.0</td>\n",
       "      <td>3.000000</td>\n",
       "      <td>8.0</td>\n",
       "      <td>7.000000</td>\n",
       "      <td>13.0</td>\n",
       "      <td>125.000000</td>\n",
       "      <td>67.630000</td>\n",
       "      <td>7.310000</td>\n",
       "      <td>4.2</td>\n",
       "      <td>4.13</td>\n",
       "      <td>1.7</td>\n",
       "      <td>543.000000</td>\n",
       "      <td>25.0</td>\n",
       "      <td>154.0</td>\n",
       "      <td>136.4</td>\n",
       "      <td>4.60</td>\n",
       "      <td>17.1</td>\n",
       "      <td>0</td>\n",
       "    </tr>\n",
       "    <tr>\n",
       "      <td>...</td>\n",
       "      <td>...</td>\n",
       "      <td>...</td>\n",
       "      <td>...</td>\n",
       "      <td>...</td>\n",
       "      <td>...</td>\n",
       "      <td>...</td>\n",
       "      <td>...</td>\n",
       "      <td>...</td>\n",
       "      <td>...</td>\n",
       "      <td>...</td>\n",
       "      <td>...</td>\n",
       "      <td>...</td>\n",
       "      <td>...</td>\n",
       "      <td>...</td>\n",
       "      <td>...</td>\n",
       "      <td>...</td>\n",
       "      <td>...</td>\n",
       "      <td>...</td>\n",
       "      <td>...</td>\n",
       "      <td>...</td>\n",
       "      <td>...</td>\n",
       "      <td>...</td>\n",
       "      <td>...</td>\n",
       "    </tr>\n",
       "    <tr>\n",
       "      <td>2432</td>\n",
       "      <td>1</td>\n",
       "      <td>30</td>\n",
       "      <td>Algatroon</td>\n",
       "      <td>70.00000</td>\n",
       "      <td>28.0</td>\n",
       "      <td>0.7</td>\n",
       "      <td>5.900000</td>\n",
       "      <td>9.5</td>\n",
       "      <td>13.882247</td>\n",
       "      <td>23.0</td>\n",
       "      <td>234.000000</td>\n",
       "      <td>21.000000</td>\n",
       "      <td>1.120000</td>\n",
       "      <td>3.9</td>\n",
       "      <td>5.23</td>\n",
       "      <td>11.3</td>\n",
       "      <td>288.000000</td>\n",
       "      <td>15.0</td>\n",
       "      <td>254.0</td>\n",
       "      <td>138.7</td>\n",
       "      <td>4.35</td>\n",
       "      <td>103.6</td>\n",
       "      <td>1</td>\n",
       "    </tr>\n",
       "    <tr>\n",
       "      <td>2433</td>\n",
       "      <td>1</td>\n",
       "      <td>47</td>\n",
       "      <td>Sabha</td>\n",
       "      <td>98.00000</td>\n",
       "      <td>32.0</td>\n",
       "      <td>0.8</td>\n",
       "      <td>10.200000</td>\n",
       "      <td>8.8</td>\n",
       "      <td>13.882247</td>\n",
       "      <td>23.0</td>\n",
       "      <td>190.000000</td>\n",
       "      <td>21.370000</td>\n",
       "      <td>2.020000</td>\n",
       "      <td>4.8</td>\n",
       "      <td>4.57</td>\n",
       "      <td>13.2</td>\n",
       "      <td>249.000000</td>\n",
       "      <td>12.0</td>\n",
       "      <td>254.0</td>\n",
       "      <td>142.3</td>\n",
       "      <td>4.40</td>\n",
       "      <td>102.7</td>\n",
       "      <td>1</td>\n",
       "    </tr>\n",
       "    <tr>\n",
       "      <td>2434</td>\n",
       "      <td>1</td>\n",
       "      <td>43</td>\n",
       "      <td>Sabha</td>\n",
       "      <td>76.00000</td>\n",
       "      <td>15.0</td>\n",
       "      <td>0.6</td>\n",
       "      <td>11.400000</td>\n",
       "      <td>8.1</td>\n",
       "      <td>22.000000</td>\n",
       "      <td>15.0</td>\n",
       "      <td>143.000000</td>\n",
       "      <td>8.500000</td>\n",
       "      <td>0.500000</td>\n",
       "      <td>4.4</td>\n",
       "      <td>4.32</td>\n",
       "      <td>11.1</td>\n",
       "      <td>249.000000</td>\n",
       "      <td>8.0</td>\n",
       "      <td>254.0</td>\n",
       "      <td>137.8</td>\n",
       "      <td>4.25</td>\n",
       "      <td>110.2</td>\n",
       "      <td>1</td>\n",
       "    </tr>\n",
       "    <tr>\n",
       "      <td>2435</td>\n",
       "      <td>1</td>\n",
       "      <td>60</td>\n",
       "      <td>Sabha</td>\n",
       "      <td>120.00000</td>\n",
       "      <td>29.0</td>\n",
       "      <td>0.9</td>\n",
       "      <td>10.900000</td>\n",
       "      <td>8.2</td>\n",
       "      <td>51.000000</td>\n",
       "      <td>17.0</td>\n",
       "      <td>104.000000</td>\n",
       "      <td>30.967314</td>\n",
       "      <td>4.536407</td>\n",
       "      <td>4.5</td>\n",
       "      <td>4.41</td>\n",
       "      <td>12.9</td>\n",
       "      <td>293.000000</td>\n",
       "      <td>13.0</td>\n",
       "      <td>254.0</td>\n",
       "      <td>147.5</td>\n",
       "      <td>3.15</td>\n",
       "      <td>107.5</td>\n",
       "      <td>1</td>\n",
       "    </tr>\n",
       "    <tr>\n",
       "      <td>2436</td>\n",
       "      <td>1</td>\n",
       "      <td>68</td>\n",
       "      <td>Sabha</td>\n",
       "      <td>90.00000</td>\n",
       "      <td>29.0</td>\n",
       "      <td>0.6</td>\n",
       "      <td>5.300000</td>\n",
       "      <td>8.5</td>\n",
       "      <td>13.882247</td>\n",
       "      <td>20.0</td>\n",
       "      <td>178.000000</td>\n",
       "      <td>30.967314</td>\n",
       "      <td>4.536407</td>\n",
       "      <td>3.4</td>\n",
       "      <td>4.42</td>\n",
       "      <td>11.0</td>\n",
       "      <td>199.000000</td>\n",
       "      <td>15.0</td>\n",
       "      <td>254.0</td>\n",
       "      <td>142.3</td>\n",
       "      <td>3.23</td>\n",
       "      <td>107.5</td>\n",
       "      <td>1</td>\n",
       "    </tr>\n",
       "  </tbody>\n",
       "</table>\n",
       "<p>2437 rows × 23 columns</p>\n",
       "</div>"
      ],
      "text/plain": [
       "      Sex  Age         Adress        FBS  Urea  Creatinin        ALB  TCa  \\\n",
       "0       1   60         Tragan  200.00000  23.0        0.8   3.400000  1.0   \n",
       "1       1   53          Sabha  154.36173  22.0        0.7   4.461508  9.6   \n",
       "2       1   50          Sabha  154.36173  27.0        0.6   3.500000  9.3   \n",
       "3       1   36  Obaree-center  300.00000  15.0        1.1   4.200000  8.5   \n",
       "4       1   30  Obaree-center  345.00000   2.0        1.0   3.000000  8.0   \n",
       "...   ...  ...            ...        ...   ...        ...        ...  ...   \n",
       "2432    1   30      Algatroon   70.00000  28.0        0.7   5.900000  9.5   \n",
       "2433    1   47          Sabha   98.00000  32.0        0.8  10.200000  8.8   \n",
       "2434    1   43          Sabha   76.00000  15.0        0.6  11.400000  8.1   \n",
       "2435    1   60          Sabha  120.00000  29.0        0.9  10.900000  8.2   \n",
       "2436    1   68          Sabha   90.00000  29.0        0.6   5.300000  8.5   \n",
       "\n",
       "            GPT   GOT         ALP       CA15        CEA  WBC   RBC   HGB  \\\n",
       "0      2.000000   1.0  124.000000  69.120000   8.020000  3.4  4.60  13.4   \n",
       "1      3.000000   7.0  133.000000  51.820000   7.910000  4.4  5.00  12.5   \n",
       "2     11.000000  17.0  155.000000  50.000000   8.740000  5.1  4.46  12.5   \n",
       "3     13.000000   1.0  140.701195  40.110000  10.340000  3.1  4.33  13.8   \n",
       "4      7.000000  13.0  125.000000  67.630000   7.310000  4.2  4.13   1.7   \n",
       "...         ...   ...         ...        ...        ...  ...   ...   ...   \n",
       "2432  13.882247  23.0  234.000000  21.000000   1.120000  3.9  5.23  11.3   \n",
       "2433  13.882247  23.0  190.000000  21.370000   2.020000  4.8  4.57  13.2   \n",
       "2434  22.000000  15.0  143.000000   8.500000   0.500000  4.4  4.32  11.1   \n",
       "2435  51.000000  17.0  104.000000  30.967314   4.536407  4.5  4.41  12.9   \n",
       "2436  13.882247  20.0  178.000000  30.967314   4.536407  3.4  4.42  11.0   \n",
       "\n",
       "             PLT   ESR    LDH     Na     K     CL  CLASS  \n",
       "0     500.000000  25.0  150.0  145.0  4.50   19.1      0  \n",
       "1     283.554362  15.0  260.0  137.8  4.18   19.1      0  \n",
       "2     456.000000   2.0  169.0  139.2  4.17   16.4      0  \n",
       "3     600.000000  15.0  138.0   14.0  4.00    1.1      0  \n",
       "4     543.000000  25.0  154.0  136.4  4.60   17.1      0  \n",
       "...          ...   ...    ...    ...   ...    ...    ...  \n",
       "2432  288.000000  15.0  254.0  138.7  4.35  103.6      1  \n",
       "2433  249.000000  12.0  254.0  142.3  4.40  102.7      1  \n",
       "2434  249.000000   8.0  254.0  137.8  4.25  110.2      1  \n",
       "2435  293.000000  13.0  254.0  147.5  3.15  107.5      1  \n",
       "2436  199.000000  15.0  254.0  142.3  3.23  107.5      1  \n",
       "\n",
       "[2437 rows x 23 columns]"
      ]
     },
     "execution_count": 9,
     "metadata": {},
     "output_type": "execute_result"
    }
   ],
   "source": [
    "#imputing nan values\n",
    "\n",
    "BC[\"FBS\"].fillna(BC[\"FBS\"].mean(), inplace=True)\n",
    "BC[\"Urea\"].fillna(BC[\"Urea\"].mean(), inplace=True)\n",
    "BC[\"Creatinin\"].fillna(BC[\"Creatinin\"].mean(), inplace=True)\n",
    "BC[\"ALB\"].fillna(BC[\"ALB\"].mean(), inplace=True)\n",
    "BC[\"TCa\"].fillna(BC[\"TCa\"].mean(), inplace=True)\n",
    "BC[\"GPT\"].fillna(BC[\"GPT\"].mean(), inplace=True)\n",
    "BC[\"GOT\"].fillna(BC[\"GOT\"].mean(), inplace=True)\n",
    "BC[\"ALP\"].fillna(BC[\"ALP\"].mean(), inplace=True)\n",
    "BC[\"WBC\"].fillna(BC[\"WBC\"].mean(), inplace=True)\n",
    "BC[\"HGB\"].fillna(BC[\"HGB\"].mean(), inplace=True)\n",
    "BC[\"RBC\"].fillna(BC[\"RBC\"].mean(), inplace=True)\n",
    "BC[\"PLT\"].fillna(BC[\"PLT\"].mean(), inplace=True)\n",
    "BC[\"ESR\"].fillna(BC[\"ESR\"].mean(), inplace=True)\n",
    "BC[\"LDH\"].fillna(BC[\"LDH\"].mean(), inplace=True)\n",
    "BC[\"Na\"].fillna(BC[\"Na\"].mean(), inplace=True)\n",
    "BC[\"K\"].fillna(BC[\"K\"].mean(), inplace=True)\n",
    "BC[\"CL\"].fillna(BC[\"CL\"].mean(), inplace=True)\n",
    "BC[\"CA15\"].fillna(BC[\"CA15\"].mean(), inplace=True)\n",
    "BC[\"CEA\"].fillna(BC[\"CEA\"].mean(), inplace=True)\n",
    "BC"
   ]
  },
  {
   "cell_type": "code",
   "execution_count": 10,
   "metadata": {},
   "outputs": [],
   "source": [
    "from sklearn.preprocessing import LabelEncoder\n",
    "le = LabelEncoder()\n",
    "cols = BC.columns.tolist()\n",
    "for column in cols:\n",
    "    if BC[column].dtype == 'object':\n",
    "        BC[column] = le.fit_transform(BC[column])\n"
   ]
  },
  {
   "cell_type": "code",
   "execution_count": 11,
   "metadata": {},
   "outputs": [
    {
     "data": {
      "text/html": [
       "<div>\n",
       "<style scoped>\n",
       "    .dataframe tbody tr th:only-of-type {\n",
       "        vertical-align: middle;\n",
       "    }\n",
       "\n",
       "    .dataframe tbody tr th {\n",
       "        vertical-align: top;\n",
       "    }\n",
       "\n",
       "    .dataframe thead th {\n",
       "        text-align: right;\n",
       "    }\n",
       "</style>\n",
       "<table border=\"1\" class=\"dataframe\">\n",
       "  <thead>\n",
       "    <tr style=\"text-align: right;\">\n",
       "      <th></th>\n",
       "      <th>Sex</th>\n",
       "      <th>Age</th>\n",
       "      <th>Adress</th>\n",
       "      <th>FBS</th>\n",
       "      <th>Urea</th>\n",
       "      <th>Creatinin</th>\n",
       "      <th>ALB</th>\n",
       "      <th>TCa</th>\n",
       "      <th>GPT</th>\n",
       "      <th>GOT</th>\n",
       "      <th>ALP</th>\n",
       "      <th>CA15</th>\n",
       "      <th>CEA</th>\n",
       "      <th>WBC</th>\n",
       "      <th>RBC</th>\n",
       "      <th>HGB</th>\n",
       "      <th>PLT</th>\n",
       "      <th>ESR</th>\n",
       "      <th>LDH</th>\n",
       "      <th>Na</th>\n",
       "      <th>K</th>\n",
       "      <th>CL</th>\n",
       "    </tr>\n",
       "  </thead>\n",
       "  <tbody>\n",
       "    <tr>\n",
       "      <td>0</td>\n",
       "      <td>1</td>\n",
       "      <td>60</td>\n",
       "      <td>24</td>\n",
       "      <td>200.00000</td>\n",
       "      <td>23.0</td>\n",
       "      <td>0.8</td>\n",
       "      <td>3.400000</td>\n",
       "      <td>1.0</td>\n",
       "      <td>2.0</td>\n",
       "      <td>1.0</td>\n",
       "      <td>124.000000</td>\n",
       "      <td>69.12</td>\n",
       "      <td>8.02</td>\n",
       "      <td>3.4</td>\n",
       "      <td>4.60</td>\n",
       "      <td>13.4</td>\n",
       "      <td>500.000000</td>\n",
       "      <td>25.0</td>\n",
       "      <td>150.0</td>\n",
       "      <td>145.0</td>\n",
       "      <td>4.50</td>\n",
       "      <td>19.1</td>\n",
       "    </tr>\n",
       "    <tr>\n",
       "      <td>1</td>\n",
       "      <td>1</td>\n",
       "      <td>53</td>\n",
       "      <td>19</td>\n",
       "      <td>154.36173</td>\n",
       "      <td>22.0</td>\n",
       "      <td>0.7</td>\n",
       "      <td>4.461508</td>\n",
       "      <td>9.6</td>\n",
       "      <td>3.0</td>\n",
       "      <td>7.0</td>\n",
       "      <td>133.000000</td>\n",
       "      <td>51.82</td>\n",
       "      <td>7.91</td>\n",
       "      <td>4.4</td>\n",
       "      <td>5.00</td>\n",
       "      <td>12.5</td>\n",
       "      <td>283.554362</td>\n",
       "      <td>15.0</td>\n",
       "      <td>260.0</td>\n",
       "      <td>137.8</td>\n",
       "      <td>4.18</td>\n",
       "      <td>19.1</td>\n",
       "    </tr>\n",
       "    <tr>\n",
       "      <td>2</td>\n",
       "      <td>1</td>\n",
       "      <td>50</td>\n",
       "      <td>19</td>\n",
       "      <td>154.36173</td>\n",
       "      <td>27.0</td>\n",
       "      <td>0.6</td>\n",
       "      <td>3.500000</td>\n",
       "      <td>9.3</td>\n",
       "      <td>11.0</td>\n",
       "      <td>17.0</td>\n",
       "      <td>155.000000</td>\n",
       "      <td>50.00</td>\n",
       "      <td>8.74</td>\n",
       "      <td>5.1</td>\n",
       "      <td>4.46</td>\n",
       "      <td>12.5</td>\n",
       "      <td>456.000000</td>\n",
       "      <td>2.0</td>\n",
       "      <td>169.0</td>\n",
       "      <td>139.2</td>\n",
       "      <td>4.17</td>\n",
       "      <td>16.4</td>\n",
       "    </tr>\n",
       "    <tr>\n",
       "      <td>3</td>\n",
       "      <td>1</td>\n",
       "      <td>36</td>\n",
       "      <td>17</td>\n",
       "      <td>300.00000</td>\n",
       "      <td>15.0</td>\n",
       "      <td>1.1</td>\n",
       "      <td>4.200000</td>\n",
       "      <td>8.5</td>\n",
       "      <td>13.0</td>\n",
       "      <td>1.0</td>\n",
       "      <td>140.701195</td>\n",
       "      <td>40.11</td>\n",
       "      <td>10.34</td>\n",
       "      <td>3.1</td>\n",
       "      <td>4.33</td>\n",
       "      <td>13.8</td>\n",
       "      <td>600.000000</td>\n",
       "      <td>15.0</td>\n",
       "      <td>138.0</td>\n",
       "      <td>14.0</td>\n",
       "      <td>4.00</td>\n",
       "      <td>1.1</td>\n",
       "    </tr>\n",
       "    <tr>\n",
       "      <td>4</td>\n",
       "      <td>1</td>\n",
       "      <td>30</td>\n",
       "      <td>17</td>\n",
       "      <td>345.00000</td>\n",
       "      <td>2.0</td>\n",
       "      <td>1.0</td>\n",
       "      <td>3.000000</td>\n",
       "      <td>8.0</td>\n",
       "      <td>7.0</td>\n",
       "      <td>13.0</td>\n",
       "      <td>125.000000</td>\n",
       "      <td>67.63</td>\n",
       "      <td>7.31</td>\n",
       "      <td>4.2</td>\n",
       "      <td>4.13</td>\n",
       "      <td>1.7</td>\n",
       "      <td>543.000000</td>\n",
       "      <td>25.0</td>\n",
       "      <td>154.0</td>\n",
       "      <td>136.4</td>\n",
       "      <td>4.60</td>\n",
       "      <td>17.1</td>\n",
       "    </tr>\n",
       "  </tbody>\n",
       "</table>\n",
       "</div>"
      ],
      "text/plain": [
       "   Sex  Age  Adress        FBS  Urea  Creatinin       ALB  TCa   GPT   GOT  \\\n",
       "0    1   60      24  200.00000  23.0        0.8  3.400000  1.0   2.0   1.0   \n",
       "1    1   53      19  154.36173  22.0        0.7  4.461508  9.6   3.0   7.0   \n",
       "2    1   50      19  154.36173  27.0        0.6  3.500000  9.3  11.0  17.0   \n",
       "3    1   36      17  300.00000  15.0        1.1  4.200000  8.5  13.0   1.0   \n",
       "4    1   30      17  345.00000   2.0        1.0  3.000000  8.0   7.0  13.0   \n",
       "\n",
       "          ALP   CA15    CEA  WBC   RBC   HGB         PLT   ESR    LDH     Na  \\\n",
       "0  124.000000  69.12   8.02  3.4  4.60  13.4  500.000000  25.0  150.0  145.0   \n",
       "1  133.000000  51.82   7.91  4.4  5.00  12.5  283.554362  15.0  260.0  137.8   \n",
       "2  155.000000  50.00   8.74  5.1  4.46  12.5  456.000000   2.0  169.0  139.2   \n",
       "3  140.701195  40.11  10.34  3.1  4.33  13.8  600.000000  15.0  138.0   14.0   \n",
       "4  125.000000  67.63   7.31  4.2  4.13   1.7  543.000000  25.0  154.0  136.4   \n",
       "\n",
       "      K    CL  \n",
       "0  4.50  19.1  \n",
       "1  4.18  19.1  \n",
       "2  4.17  16.4  \n",
       "3  4.00   1.1  \n",
       "4  4.60  17.1  "
      ]
     },
     "execution_count": 11,
     "metadata": {},
     "output_type": "execute_result"
    }
   ],
   "source": [
    "# y includes our labels and x includes our features\n",
    "y = BC.CLASS                          # M or B \n",
    "list = ['CLASS']\n",
    "x = BC.drop(list,axis = 1 )\n",
    "x.head()"
   ]
  },
  {
   "cell_type": "markdown",
   "metadata": {},
   "source": [
    "## Feature Selection by Percentile"
   ]
  },
  {
   "cell_type": "code",
   "execution_count": 12,
   "metadata": {},
   "outputs": [],
   "source": [
    "\n",
    "#print('Original X Shape is ' , X.shape)\n",
    "FeatureSelection = SelectPercentile(score_func = f_classif, percentile=10) # score_func can = f_classif\n",
    "X = FeatureSelection.fit_transform(x, y)\n"
   ]
  },
  {
   "cell_type": "code",
   "execution_count": 13,
   "metadata": {},
   "outputs": [
    {
     "name": "stdout",
     "output_type": "stream",
     "text": [
      "Selected Features are :  [False False False False False False False False False False False  True\n",
      "  True False  True False False False False False False False]\n"
     ]
    },
    {
     "data": {
      "text/plain": [
       "Index(['CA15', 'CEA', 'RBC'], dtype='object')"
      ]
     },
     "execution_count": 13,
     "metadata": {},
     "output_type": "execute_result"
    }
   ],
   "source": [
    "#showing X Dimension \n",
    "#print('X Shape is ' , X.shape)\n",
    "print('Selected Features are : ' , FeatureSelection.get_support())\n",
    "\n",
    "\n",
    "x.columns[FeatureSelection.get_support()]\n"
   ]
  },
  {
   "cell_type": "code",
   "execution_count": 14,
   "metadata": {},
   "outputs": [
    {
     "data": {
      "text/plain": [
       "(2437, 3)"
      ]
     },
     "execution_count": 14,
     "metadata": {},
     "output_type": "execute_result"
    }
   ],
   "source": [
    "## تدريب النموذج علي أفضل 5 سمة بعد معالجة القيم المفقودة\n",
    "\n",
    "\n",
    "X=BC.drop([\"CLASS\",\"Sex\",\"Age\",\"FBS\",\"Adress\",\"Urea\",\"Creatinin\",\"ALB\",\"TCa\",\"GPT\",\"GOT\",\"ALP\",\"WBC\",\"PLT\",\"ESR\",\"LDH\",\"K\",\"Na\",\"CL\",\"HGB\"],axis=1)\n",
    "Y=BC[\"CLASS\"] \n",
    "\n",
    "\n",
    "X.shape\n"
   ]
  },
  {
   "cell_type": "code",
   "execution_count": 15,
   "metadata": {},
   "outputs": [],
   "source": [
    "\n",
    "from sklearn.model_selection import train_test_split\n",
    "x_train, x_test, y_train, y_test = train_test_split(X, Y, \n",
    "                                                    test_size=0.25)\n"
   ]
  },
  {
   "cell_type": "code",
   "execution_count": 16,
   "metadata": {},
   "outputs": [
    {
     "data": {
      "text/plain": [
       "DecisionTreeClassifier(class_weight=None, criterion='gini', max_depth=None,\n",
       "                       max_features=None, max_leaf_nodes=None,\n",
       "                       min_impurity_decrease=0.0, min_impurity_split=None,\n",
       "                       min_samples_leaf=1, min_samples_split=2,\n",
       "                       min_weight_fraction_leaf=0.0, presort=False,\n",
       "                       random_state=0, splitter='best')"
      ]
     },
     "execution_count": 16,
     "metadata": {},
     "output_type": "execute_result"
    }
   ],
   "source": [
    "from sklearn.tree import DecisionTreeClassifier\n",
    "\n",
    "D_classifier= DecisionTreeClassifier(random_state=0) \n",
    "D_classifier.fit(x_train,y_train) \n",
    "\n",
    "\n"
   ]
  },
  {
   "cell_type": "code",
   "execution_count": 17,
   "metadata": {},
   "outputs": [],
   "source": [
    "y_pred=D_classifier.predict_proba(x_test)[:,1]\n",
    "\n"
   ]
  },
  {
   "cell_type": "code",
   "execution_count": 18,
   "metadata": {},
   "outputs": [],
   "source": [
    "new_y=[]\n",
    "for i in range (len(y_pred)):\n",
    "    if y_pred[i]<0.5:\n",
    "        new_y.append(0)\n",
    "    else:\n",
    "        new_y.append(1)\n",
    "\n"
   ]
  },
  {
   "cell_type": "code",
   "execution_count": 19,
   "metadata": {},
   "outputs": [
    {
     "data": {
      "text/plain": [
       "0.7147540983606557"
      ]
     },
     "execution_count": 19,
     "metadata": {},
     "output_type": "execute_result"
    }
   ],
   "source": [
    "from sklearn.metrics import accuracy_score\n",
    "\n",
    "\n",
    "accuracy_score(y_test,new_y)\n",
    "\n",
    "\n"
   ]
  },
  {
   "cell_type": "code",
   "execution_count": 20,
   "metadata": {},
   "outputs": [
    {
     "name": "stdout",
     "output_type": "stream",
     "text": [
      "mean_absolute_error is = 0.28524590163934427\n",
      "mean_squared_error is = 0.5340841709312721\n"
     ]
    }
   ],
   "source": [
    "\n",
    "from sklearn.metrics import mean_absolute_error\n",
    "from sklearn.metrics import mean_squared_error\n",
    "\n",
    "\n",
    "MAEVale=mean_absolute_error(y_test,y_pred,multioutput=\"uniform_average\")\n",
    "print(\"mean_absolute_error is =\",MAEVale)\n",
    "\n",
    "MSEVale=mean_squared_error(y_test,y_pred,multioutput=\"uniform_average\")\n",
    "RmseVal=np.sqrt(MSEVale)\n",
    "print(\"mean_squared_error is =\",RmseVal)\n"
   ]
  },
  {
   "cell_type": "code",
   "execution_count": 21,
   "metadata": {},
   "outputs": [
    {
     "name": "stdout",
     "output_type": "stream",
     "text": [
      "Decision Tree  classifiers  confusion_matrix\n",
      "Decision Tree classifier Trining Accurcy = 0.9989053092501369\n",
      "Decision Tree classifier Testing Accurcy =  0.7147540983606557\n",
      "[[265  83]\n",
      " [ 91 171]]\n"
     ]
    },
    {
     "data": {
      "text/plain": [
       "Text(33.0, 0.5, 'Acutl')"
      ]
     },
     "execution_count": 21,
     "metadata": {},
     "output_type": "execute_result"
    },
    {
     "data": {
      "image/png": "[encoded data removed]",
      "text/plain": [
       "<Figure size 432x288 with 2 Axes>"
      ]
     },
     "metadata": {
      "needs_background": "light"
     },
     "output_type": "display_data"
    }
   ],
   "source": [
    "from sklearn.metrics import confusion_matrix\n",
    "\n",
    "print(\"Decision Tree  classifiers  confusion_matrix\")\n",
    "cm=confusion_matrix(y_test,new_y)\n",
    "TN=cm[0][0]\n",
    "TP=cm[1][1]\n",
    "FP=cm[0][1]\n",
    "FN=cm[1][0]\n",
    "\n",
    "print('Decision Tree classifier Trining Accurcy =',D_classifier.score(x_train,y_train) )\n",
    "print('Decision Tree classifier Testing Accurcy = ',(TP+TN)/(TP+TN+FP+FN))\n",
    "print(cm)\n",
    "sns.heatmap(cm,annot=True)\n",
    "plt.title(\"Decision Tree classifier confusion_matrix \")\n",
    "plt.xlabel(\"Predication\")\n",
    "plt.ylabel(\"Acutl\")\n"
   ]
  },
  {
   "cell_type": "code",
   "execution_count": 22,
   "metadata": {},
   "outputs": [
    {
     "name": "stdout",
     "output_type": "stream",
     "text": [
      "classification_report Decision Tree\n",
      ".......................................\n",
      "              precision    recall  f1-score   support\n",
      "\n",
      "           0       0.74      0.76      0.75       348\n",
      "           1       0.67      0.65      0.66       262\n",
      "\n",
      "    accuracy                           0.71       610\n",
      "   macro avg       0.71      0.71      0.71       610\n",
      "weighted avg       0.71      0.71      0.71       610\n",
      "\n",
      "accuracy_score= 0.7147540983606557\n"
     ]
    }
   ],
   "source": [
    "\n",
    "### CLASSIFACTION Report\n",
    "\n",
    "from sklearn.metrics import classification_report\n",
    "from sklearn.metrics import accuracy_score\n",
    "\n",
    "y_pred=D_classifier.predict(x_test)\n",
    "print('classification_report Decision Tree')\n",
    "print('.......................................') \n",
    "\n",
    "print(classification_report(y_test,y_pred)) \n",
    "print(\"accuracy_score=\",accuracy_score(y_test,y_pred)) \n"
   ]
  },
  {
   "cell_type": "markdown",
   "metadata": {},
   "source": [
    "## Feature Selection by Percentile BY 15%"
   ]
  },
  {
   "cell_type": "code",
   "execution_count": 23,
   "metadata": {},
   "outputs": [],
   "source": [
    "#print('Original X Shape is ' , X.shape)\n",
    "FeatureSelection = SelectPercentile(score_func = f_classif, percentile=15) # score_func can = f_classif\n",
    "X = FeatureSelection.fit_transform(x, y)\n"
   ]
  },
  {
   "cell_type": "code",
   "execution_count": 24,
   "metadata": {},
   "outputs": [
    {
     "name": "stdout",
     "output_type": "stream",
     "text": [
      "Selected Features are :  [False False False False False False False False False False False  True\n",
      "  True  True  True False False False False False False False]\n"
     ]
    },
    {
     "data": {
      "text/plain": [
       "Index(['CA15', 'CEA', 'WBC', 'RBC'], dtype='object')"
      ]
     },
     "execution_count": 24,
     "metadata": {},
     "output_type": "execute_result"
    }
   ],
   "source": [
    "#showing X Dimension \n",
    "#print('X Shape is ' , X.shape)\n",
    "print('Selected Features are : ' , FeatureSelection.get_support())\n",
    "\n",
    "\n",
    "x.columns[FeatureSelection.get_support()]\n"
   ]
  },
  {
   "cell_type": "code",
   "execution_count": 25,
   "metadata": {},
   "outputs": [
    {
     "data": {
      "text/plain": [
       "(2437, 4)"
      ]
     },
     "execution_count": 25,
     "metadata": {},
     "output_type": "execute_result"
    }
   ],
   "source": [
    "X=BC.drop([\"CLASS\",\"Sex\",\"Age\",\"FBS\",\"Adress\",\"Urea\",\"Creatinin\",\"ALB\",\"TCa\",\"GPT\",\"GOT\",\"ALP\",\"PLT\",\"ESR\",\"LDH\",\"K\",\"Na\",\"CL\",\"HGB\"],axis=1)\n",
    "Y=BC[\"CLASS\"] \n",
    "\n",
    "\n",
    "X.shape\n"
   ]
  },
  {
   "cell_type": "code",
   "execution_count": 26,
   "metadata": {},
   "outputs": [
    {
     "data": {
      "text/plain": [
       "DecisionTreeClassifier(class_weight=None, criterion='gini', max_depth=None,\n",
       "                       max_features=None, max_leaf_nodes=None,\n",
       "                       min_impurity_decrease=0.0, min_impurity_split=None,\n",
       "                       min_samples_leaf=1, min_samples_split=2,\n",
       "                       min_weight_fraction_leaf=0.0, presort=False,\n",
       "                       random_state=0, splitter='best')"
      ]
     },
     "execution_count": 26,
     "metadata": {},
     "output_type": "execute_result"
    }
   ],
   "source": [
    "from sklearn.model_selection import train_test_split\n",
    "x_train, x_test, y_train, y_test = train_test_split(X, Y, \n",
    "                                                    test_size=0.25)\n",
    "\n",
    "\n",
    "from sklearn.tree import DecisionTreeClassifier\n",
    "\n",
    "D_classifier= DecisionTreeClassifier(random_state=0) \n",
    "D_classifier.fit(x_train,y_train) \n"
   ]
  },
  {
   "cell_type": "code",
   "execution_count": 27,
   "metadata": {},
   "outputs": [],
   "source": [
    "y_pred=D_classifier.predict_proba(x_test)[:,1]\n",
    "\n",
    "\n",
    "\n",
    "new_y=[]\n",
    "for i in range (len(y_pred)):\n",
    "    if y_pred[i]<0.5:\n",
    "        new_y.append(0)\n",
    "    else:\n",
    "        new_y.append(1)\n"
   ]
  },
  {
   "cell_type": "code",
   "execution_count": 28,
   "metadata": {},
   "outputs": [
    {
     "data": {
      "text/plain": [
       "0.7491803278688525"
      ]
     },
     "execution_count": 28,
     "metadata": {},
     "output_type": "execute_result"
    }
   ],
   "source": [
    "from sklearn.metrics import accuracy_score\n",
    "\n",
    "\n",
    "accuracy_score(y_test,new_y)\n",
    "\n"
   ]
  },
  {
   "cell_type": "code",
   "execution_count": 29,
   "metadata": {},
   "outputs": [
    {
     "name": "stdout",
     "output_type": "stream",
     "text": [
      "mean_absolute_error is = 0.25081967213114753\n",
      "mean_squared_error is = 0.5008190013679069\n"
     ]
    }
   ],
   "source": [
    "from sklearn.metrics import mean_absolute_error\n",
    "from sklearn.metrics import mean_squared_error\n",
    "\n",
    "\n",
    "MAEVale=mean_absolute_error(y_test,y_pred,multioutput=\"uniform_average\")\n",
    "print(\"mean_absolute_error is =\",MAEVale)\n",
    "\n",
    "MSEVale=mean_squared_error(y_test,y_pred,multioutput=\"uniform_average\")\n",
    "RmseVal=np.sqrt(MSEVale)\n",
    "print(\"mean_squared_error is =\",RmseVal)\n",
    "\n"
   ]
  },
  {
   "cell_type": "code",
   "execution_count": 30,
   "metadata": {},
   "outputs": [
    {
     "name": "stdout",
     "output_type": "stream",
     "text": [
      "Decision Tree  classifiers  confusion_matrix\n",
      "Decision Tree classifier Trining Accurcy = 1.0\n",
      "Decision Tree classifier Testing Accurcy =  0.7491803278688525\n",
      "[[262  81]\n",
      " [ 72 195]]\n"
     ]
    },
    {
     "data": {
      "text/plain": [
       "Text(33.0, 0.5, 'Acutl')"
      ]
     },
     "execution_count": 30,
     "metadata": {},
     "output_type": "execute_result"
    },
    {
     "data": {
      "image/png": "[encoded data removed]",
      "text/plain": [
       "<Figure size 432x288 with 2 Axes>"
      ]
     },
     "metadata": {
      "needs_background": "light"
     },
     "output_type": "display_data"
    }
   ],
   "source": [
    "from sklearn.metrics import confusion_matrix\n",
    "\n",
    "print(\"Decision Tree  classifiers  confusion_matrix\")\n",
    "cm=confusion_matrix(y_test,new_y)\n",
    "TN=cm[0][0]\n",
    "TP=cm[1][1]\n",
    "FP=cm[0][1]\n",
    "FN=cm[1][0]\n",
    "\n",
    "print('Decision Tree classifier Trining Accurcy =',D_classifier.score(x_train,y_train) )\n",
    "print('Decision Tree classifier Testing Accurcy = ',(TP+TN)/(TP+TN+FP+FN))\n",
    "print(cm)\n",
    "sns.heatmap(cm,annot=True)\n",
    "plt.title(\"Decision Tree classifier confusion_matrix \")\n",
    "plt.xlabel(\"Predication\")\n",
    "plt.ylabel(\"Acutl\")\n"
   ]
  },
  {
   "cell_type": "code",
   "execution_count": 31,
   "metadata": {},
   "outputs": [
    {
     "name": "stdout",
     "output_type": "stream",
     "text": [
      "classification_report Decision Tree\n",
      ".......................................\n",
      "              precision    recall  f1-score   support\n",
      "\n",
      "           0       0.78      0.76      0.77       343\n",
      "           1       0.71      0.73      0.72       267\n",
      "\n",
      "    accuracy                           0.75       610\n",
      "   macro avg       0.75      0.75      0.75       610\n",
      "weighted avg       0.75      0.75      0.75       610\n",
      "\n",
      "accuracy_score= 0.7491803278688525\n"
     ]
    }
   ],
   "source": [
    "### CLASSIFACTION Report\n",
    "\n",
    "from sklearn.metrics import classification_report\n",
    "from sklearn.metrics import accuracy_score\n",
    "\n",
    "y_pred=D_classifier.predict(x_test)\n",
    "print('classification_report Decision Tree')\n",
    "print('.......................................') \n",
    "\n",
    "print(classification_report(y_test,y_pred)) \n",
    "print(\"accuracy_score=\",accuracy_score(y_test,y_pred)) \n"
   ]
  },
  {
   "cell_type": "markdown",
   "metadata": {},
   "source": [
    "## Feature Selection by Percentile BY 20%"
   ]
  },
  {
   "cell_type": "code",
   "execution_count": 32,
   "metadata": {},
   "outputs": [],
   "source": [
    "#print('Original X Shape is ' , X.shape)\n",
    "FeatureSelection = SelectPercentile(score_func = f_classif, percentile=20) # score_func can = f_classif\n",
    "X = FeatureSelection.fit_transform(x, y)\n"
   ]
  },
  {
   "cell_type": "code",
   "execution_count": 33,
   "metadata": {},
   "outputs": [
    {
     "name": "stdout",
     "output_type": "stream",
     "text": [
      "Selected Features are :  [False False False False False False False False False False False  True\n",
      "  True  True  True False False  True False False False False]\n"
     ]
    },
    {
     "data": {
      "text/plain": [
       "Index(['CA15', 'CEA', 'WBC', 'RBC', 'ESR'], dtype='object')"
      ]
     },
     "execution_count": 33,
     "metadata": {},
     "output_type": "execute_result"
    }
   ],
   "source": [
    "#showing X Dimension \n",
    "#print('X Shape is ' , X.shape)\n",
    "print('Selected Features are : ' , FeatureSelection.get_support())\n",
    "\n",
    "\n",
    "x.columns[FeatureSelection.get_support()]\n"
   ]
  },
  {
   "cell_type": "code",
   "execution_count": 34,
   "metadata": {},
   "outputs": [
    {
     "data": {
      "text/plain": [
       "(2437, 5)"
      ]
     },
     "execution_count": 34,
     "metadata": {},
     "output_type": "execute_result"
    }
   ],
   "source": [
    "X=BC.drop([\"CLASS\",\"Sex\",\"Age\",\"FBS\",\"Adress\",\"Urea\",\"Creatinin\",\"ALB\",\"TCa\",\"GPT\",\"GOT\",\"ALP\",\"PLT\",\"LDH\",\"K\",\"Na\",\"CL\",\"HGB\"],axis=1)\n",
    "Y=BC[\"CLASS\"] \n",
    "\n",
    "\n",
    "X.shape\n"
   ]
  },
  {
   "cell_type": "code",
   "execution_count": 35,
   "metadata": {},
   "outputs": [],
   "source": [
    "from sklearn.model_selection import train_test_split\n",
    "x_train, x_test, y_train, y_test = train_test_split(X, Y, \n",
    "                                                    test_size=0.25)\n"
   ]
  },
  {
   "cell_type": "code",
   "execution_count": 36,
   "metadata": {},
   "outputs": [
    {
     "data": {
      "text/plain": [
       "DecisionTreeClassifier(class_weight=None, criterion='gini', max_depth=None,\n",
       "                       max_features=None, max_leaf_nodes=None,\n",
       "                       min_impurity_decrease=0.0, min_impurity_split=None,\n",
       "                       min_samples_leaf=1, min_samples_split=2,\n",
       "                       min_weight_fraction_leaf=0.0, presort=False,\n",
       "                       random_state=0, splitter='best')"
      ]
     },
     "execution_count": 36,
     "metadata": {},
     "output_type": "execute_result"
    }
   ],
   "source": [
    "from sklearn.tree import DecisionTreeClassifier\n",
    "\n",
    "D_classifier= DecisionTreeClassifier(random_state=0) \n",
    "D_classifier.fit(x_train,y_train) \n"
   ]
  },
  {
   "cell_type": "code",
   "execution_count": 37,
   "metadata": {},
   "outputs": [],
   "source": [
    "y_pred=D_classifier.predict_proba(x_test)[:,1]\n",
    "\n",
    "\n",
    "\n",
    "new_y=[]\n",
    "for i in range (len(y_pred)):\n",
    "    if y_pred[i]<0.5:\n",
    "        new_y.append(0)\n",
    "    else:\n",
    "        new_y.append(1)\n"
   ]
  },
  {
   "cell_type": "code",
   "execution_count": 38,
   "metadata": {},
   "outputs": [
    {
     "data": {
      "text/plain": [
       "0.7442622950819672"
      ]
     },
     "execution_count": 38,
     "metadata": {},
     "output_type": "execute_result"
    }
   ],
   "source": [
    "from sklearn.metrics import accuracy_score\n",
    "\n",
    "\n",
    "accuracy_score(y_test,new_y)\n"
   ]
  },
  {
   "cell_type": "code",
   "execution_count": 39,
   "metadata": {},
   "outputs": [
    {
     "name": "stdout",
     "output_type": "stream",
     "text": [
      "mean_absolute_error is = 0.25573770491803277\n",
      "mean_squared_error is = 0.505705156111773\n"
     ]
    }
   ],
   "source": [
    "from sklearn.metrics import mean_absolute_error\n",
    "from sklearn.metrics import mean_squared_error\n",
    "\n",
    "\n",
    "MAEVale=mean_absolute_error(y_test,y_pred,multioutput=\"uniform_average\")\n",
    "print(\"mean_absolute_error is =\",MAEVale)\n",
    "\n",
    "MSEVale=mean_squared_error(y_test,y_pred,multioutput=\"uniform_average\")\n",
    "RmseVal=np.sqrt(MSEVale)\n",
    "print(\"mean_squared_error is =\",RmseVal)\n"
   ]
  },
  {
   "cell_type": "code",
   "execution_count": 40,
   "metadata": {},
   "outputs": [
    {
     "name": "stdout",
     "output_type": "stream",
     "text": [
      "Decision Tree  classifiers  confusion_matrix\n",
      "Decision Tree classifier Trining Accurcy = 1.0\n",
      "Decision Tree classifier Testing Accurcy =  0.7442622950819672\n",
      "[[255  80]\n",
      " [ 76 199]]\n"
     ]
    },
    {
     "data": {
      "text/plain": [
       "Text(33.0, 0.5, 'Acutl')"
      ]
     },
     "execution_count": 40,
     "metadata": {},
     "output_type": "execute_result"
    },
    {
     "data": {
      "image/png": "[encoded data removed]",
      "text/plain": [
       "<Figure size 432x288 with 2 Axes>"
      ]
     },
     "metadata": {
      "needs_background": "light"
     },
     "output_type": "display_data"
    }
   ],
   "source": [
    "from sklearn.metrics import confusion_matrix\n",
    "\n",
    "print(\"Decision Tree  classifiers  confusion_matrix\")\n",
    "cm=confusion_matrix(y_test,new_y)\n",
    "TN=cm[0][0]\n",
    "TP=cm[1][1]\n",
    "FP=cm[0][1]\n",
    "FN=cm[1][0]\n",
    "\n",
    "print('Decision Tree classifier Trining Accurcy =',D_classifier.score(x_train,y_train) )\n",
    "print('Decision Tree classifier Testing Accurcy = ',(TP+TN)/(TP+TN+FP+FN))\n",
    "print(cm)\n",
    "sns.heatmap(cm,annot=True)\n",
    "plt.title(\"Decision Tree classifier confusion_matrix \")\n",
    "plt.xlabel(\"Predication\")\n",
    "plt.ylabel(\"Acutl\")\n"
   ]
  },
  {
   "cell_type": "code",
   "execution_count": 41,
   "metadata": {
    "scrolled": true
   },
   "outputs": [
    {
     "name": "stdout",
     "output_type": "stream",
     "text": [
      "classification_report Decision Tree\n",
      ".......................................\n",
      "              precision    recall  f1-score   support\n",
      "\n",
      "           0       0.77      0.76      0.77       335\n",
      "           1       0.71      0.72      0.72       275\n",
      "\n",
      "    accuracy                           0.74       610\n",
      "   macro avg       0.74      0.74      0.74       610\n",
      "weighted avg       0.74      0.74      0.74       610\n",
      "\n",
      "accuracy_score= 0.7442622950819672\n"
     ]
    }
   ],
   "source": [
    "### CLASSIFACTION Report\n",
    "\n",
    "from sklearn.metrics import classification_report\n",
    "from sklearn.metrics import accuracy_score\n",
    "\n",
    "y_pred=D_classifier.predict(x_test)\n",
    "print('classification_report Decision Tree')\n",
    "print('.......................................') \n",
    "\n",
    "print(classification_report(y_test,y_pred)) \n",
    "print(\"accuracy_score=\",accuracy_score(y_test,y_pred)) \n"
   ]
  },
  {
   "cell_type": "markdown",
   "metadata": {},
   "source": [
    "## Feature Selection by Percentile BY 25%"
   ]
  },
  {
   "cell_type": "code",
   "execution_count": 42,
   "metadata": {},
   "outputs": [],
   "source": [
    "#print('Original X Shape is ' , X.shape)\n",
    "FeatureSelection = SelectPercentile(score_func = f_classif, percentile=25) # score_func can = f_classif\n",
    "X = FeatureSelection.fit_transform(x, y)\n"
   ]
  },
  {
   "cell_type": "code",
   "execution_count": 43,
   "metadata": {},
   "outputs": [
    {
     "name": "stdout",
     "output_type": "stream",
     "text": [
      "Selected Features are :  [False False False False False False False False False False False  True\n",
      "  True  True  True False  True  True False False False False]\n"
     ]
    },
    {
     "data": {
      "text/plain": [
       "Index(['CA15', 'CEA', 'WBC', 'RBC', 'PLT', 'ESR'], dtype='object')"
      ]
     },
     "execution_count": 43,
     "metadata": {},
     "output_type": "execute_result"
    }
   ],
   "source": [
    "#showing X Dimension \n",
    "#print('X Shape is ' , X.shape)\n",
    "print('Selected Features are : ' , FeatureSelection.get_support())\n",
    "\n",
    "x.columns[FeatureSelection.get_support()]\n"
   ]
  },
  {
   "cell_type": "code",
   "execution_count": 44,
   "metadata": {},
   "outputs": [
    {
     "data": {
      "text/plain": [
       "(2437, 6)"
      ]
     },
     "execution_count": 44,
     "metadata": {},
     "output_type": "execute_result"
    }
   ],
   "source": [
    "X=BC.drop([\"CLASS\",\"Sex\",\"Age\",\"FBS\",\"Adress\",\"Urea\",\"Creatinin\",\"ALB\",\"TCa\",\"GPT\",\"GOT\",\"ALP\",\"LDH\",\"K\",\"Na\",\"CL\",\"HGB\"],axis=1)\n",
    "Y=BC[\"CLASS\"] \n",
    "\n",
    "\n",
    "X.shape\n"
   ]
  },
  {
   "cell_type": "code",
   "execution_count": 45,
   "metadata": {},
   "outputs": [],
   "source": [
    "from sklearn.model_selection import train_test_split\n",
    "x_train, x_test, y_train, y_test = train_test_split(X, Y, \n",
    "                                                    test_size=0.25)\n"
   ]
  },
  {
   "cell_type": "code",
   "execution_count": 46,
   "metadata": {},
   "outputs": [
    {
     "data": {
      "text/plain": [
       "DecisionTreeClassifier(class_weight=None, criterion='gini', max_depth=None,\n",
       "                       max_features=None, max_leaf_nodes=None,\n",
       "                       min_impurity_decrease=0.0, min_impurity_split=None,\n",
       "                       min_samples_leaf=1, min_samples_split=2,\n",
       "                       min_weight_fraction_leaf=0.0, presort=False,\n",
       "                       random_state=0, splitter='best')"
      ]
     },
     "execution_count": 46,
     "metadata": {},
     "output_type": "execute_result"
    }
   ],
   "source": [
    "from sklearn.tree import DecisionTreeClassifier\n",
    "\n",
    "D_classifier= DecisionTreeClassifier(random_state=0) \n",
    "D_classifier.fit(x_train,y_train) \n"
   ]
  },
  {
   "cell_type": "code",
   "execution_count": 47,
   "metadata": {},
   "outputs": [],
   "source": [
    "y_pred=D_classifier.predict_proba(x_test)[:,1]\n",
    "\n",
    "\n",
    "\n",
    "new_y=[]\n",
    "for i in range (len(y_pred)):\n",
    "    if y_pred[i]<0.5:\n",
    "        new_y.append(0)\n",
    "    else:\n",
    "        new_y.append(1)\n"
   ]
  },
  {
   "cell_type": "code",
   "execution_count": 48,
   "metadata": {},
   "outputs": [
    {
     "data": {
      "text/plain": [
       "0.7852459016393443"
      ]
     },
     "execution_count": 48,
     "metadata": {},
     "output_type": "execute_result"
    }
   ],
   "source": [
    "from sklearn.metrics import accuracy_score\n",
    "\n",
    "\n",
    "accuracy_score(y_test,new_y)\n"
   ]
  },
  {
   "cell_type": "code",
   "execution_count": 49,
   "metadata": {},
   "outputs": [
    {
     "name": "stdout",
     "output_type": "stream",
     "text": [
      "mean_absolute_error is = 0.21475409836065573\n",
      "mean_squared_error is = 0.46341568635584157\n"
     ]
    }
   ],
   "source": [
    "\n",
    "\n",
    "from sklearn.metrics import mean_absolute_error\n",
    "from sklearn.metrics import mean_squared_error\n",
    "\n",
    "\n",
    "MAEVale=mean_absolute_error(y_test,y_pred,multioutput=\"uniform_average\")\n",
    "print(\"mean_absolute_error is =\",MAEVale)\n",
    "\n",
    "MSEVale=mean_squared_error(y_test,y_pred,multioutput=\"uniform_average\")\n",
    "RmseVal=np.sqrt(MSEVale)\n",
    "print(\"mean_squared_error is =\",RmseVal)\n",
    "\n"
   ]
  },
  {
   "cell_type": "code",
   "execution_count": 50,
   "metadata": {},
   "outputs": [
    {
     "name": "stdout",
     "output_type": "stream",
     "text": [
      "Decision Tree  classifiers  confusion_matrix\n",
      "Decision Tree classifier Trining Accurcy = 1.0\n",
      "Decision Tree classifier Testing Accurcy =  0.7852459016393443\n",
      "[[257  73]\n",
      " [ 58 222]]\n"
     ]
    },
    {
     "data": {
      "text/plain": [
       "Text(33.0, 0.5, 'Acutl')"
      ]
     },
     "execution_count": 50,
     "metadata": {},
     "output_type": "execute_result"
    },
    {
     "data": {
      "image/png": "[encoded data removed]",
      "text/plain": [
       "<Figure size 432x288 with 2 Axes>"
      ]
     },
     "metadata": {
      "needs_background": "light"
     },
     "output_type": "display_data"
    }
   ],
   "source": [
    "from sklearn.metrics import confusion_matrix\n",
    "\n",
    "print(\"Decision Tree  classifiers  confusion_matrix\")\n",
    "cm=confusion_matrix(y_test,new_y)\n",
    "TN=cm[0][0]\n",
    "TP=cm[1][1]\n",
    "FP=cm[0][1]\n",
    "FN=cm[1][0]\n",
    "\n",
    "print('Decision Tree classifier Trining Accurcy =',D_classifier.score(x_train,y_train) )\n",
    "print('Decision Tree classifier Testing Accurcy = ',(TP+TN)/(TP+TN+FP+FN))\n",
    "print(cm)\n",
    "sns.heatmap(cm,annot=True)\n",
    "plt.title(\"Decision Tree classifier confusion_matrix \")\n",
    "plt.xlabel(\"Predication\")\n",
    "plt.ylabel(\"Acutl\")\n"
   ]
  },
  {
   "cell_type": "code",
   "execution_count": 51,
   "metadata": {},
   "outputs": [
    {
     "name": "stdout",
     "output_type": "stream",
     "text": [
      "classification_report Decision Tree\n",
      ".......................................\n",
      "              precision    recall  f1-score   support\n",
      "\n",
      "           0       0.82      0.78      0.80       330\n",
      "           1       0.75      0.79      0.77       280\n",
      "\n",
      "    accuracy                           0.79       610\n",
      "   macro avg       0.78      0.79      0.78       610\n",
      "weighted avg       0.79      0.79      0.79       610\n",
      "\n",
      "accuracy_score= 0.7852459016393443\n"
     ]
    }
   ],
   "source": [
    "### CLASSIFACTION Report\n",
    "\n",
    "from sklearn.metrics import classification_report\n",
    "from sklearn.metrics import accuracy_score\n",
    "\n",
    "y_pred=D_classifier.predict(x_test)\n",
    "print('classification_report Decision Tree')\n",
    "print('.......................................') \n",
    "\n",
    "print(classification_report(y_test,y_pred)) \n",
    "print(\"accuracy_score=\",accuracy_score(y_test,y_pred)) \n"
   ]
  },
  {
   "cell_type": "markdown",
   "metadata": {},
   "source": [
    "## Feature Selection by Percentile BY 30%"
   ]
  },
  {
   "cell_type": "code",
   "execution_count": 52,
   "metadata": {},
   "outputs": [],
   "source": [
    "#print('Original X Shape is ' , X.shape)\n",
    "FeatureSelection = SelectPercentile(score_func = f_classif, percentile=30) # score_func can = f_classif\n",
    "X = FeatureSelection.fit_transform(x, y)\n"
   ]
  },
  {
   "cell_type": "code",
   "execution_count": 53,
   "metadata": {},
   "outputs": [
    {
     "name": "stdout",
     "output_type": "stream",
     "text": [
      "Selected Features are :  [False False False  True False False False False False False False  True\n",
      "  True  True  True False  True  True False False False False]\n"
     ]
    },
    {
     "data": {
      "text/plain": [
       "Index(['FBS', 'CA15', 'CEA', 'WBC', 'RBC', 'PLT', 'ESR'], dtype='object')"
      ]
     },
     "execution_count": 53,
     "metadata": {},
     "output_type": "execute_result"
    }
   ],
   "source": [
    "#showing X Dimension \n",
    "#print('X Shape is ' , X.shape)\n",
    "print('Selected Features are : ' , FeatureSelection.get_support())\n",
    "\n",
    "x.columns[FeatureSelection.get_support()]\n"
   ]
  },
  {
   "cell_type": "code",
   "execution_count": 54,
   "metadata": {},
   "outputs": [
    {
     "data": {
      "text/plain": [
       "(2437, 7)"
      ]
     },
     "execution_count": 54,
     "metadata": {},
     "output_type": "execute_result"
    }
   ],
   "source": [
    "X=BC.drop([\"CLASS\",\"Sex\",\"Age\",\"Adress\",\"Urea\",\"Creatinin\",\"ALB\",\"TCa\",\"GPT\",\"GOT\",\"ALP\",\"LDH\",\"K\",\"Na\",\"CL\",\"HGB\"],axis=1)\n",
    "Y=BC[\"CLASS\"] \n",
    "\n",
    "\n",
    "X.shape\n"
   ]
  },
  {
   "cell_type": "code",
   "execution_count": 55,
   "metadata": {},
   "outputs": [],
   "source": [
    "from sklearn.model_selection import train_test_split\n",
    "x_train, x_test, y_train, y_test = train_test_split(X, Y, \n",
    "                                                    test_size=0.25)\n"
   ]
  },
  {
   "cell_type": "code",
   "execution_count": 56,
   "metadata": {},
   "outputs": [
    {
     "data": {
      "text/plain": [
       "DecisionTreeClassifier(class_weight=None, criterion='gini', max_depth=None,\n",
       "                       max_features=None, max_leaf_nodes=None,\n",
       "                       min_impurity_decrease=0.0, min_impurity_split=None,\n",
       "                       min_samples_leaf=1, min_samples_split=2,\n",
       "                       min_weight_fraction_leaf=0.0, presort=False,\n",
       "                       random_state=0, splitter='best')"
      ]
     },
     "execution_count": 56,
     "metadata": {},
     "output_type": "execute_result"
    }
   ],
   "source": [
    "from sklearn.tree import DecisionTreeClassifier\n",
    "\n",
    "D_classifier= DecisionTreeClassifier(random_state=0) \n",
    "D_classifier.fit(x_train,y_train) \n",
    "\n"
   ]
  },
  {
   "cell_type": "code",
   "execution_count": 57,
   "metadata": {},
   "outputs": [],
   "source": [
    "y_pred=D_classifier.predict_proba(x_test)[:,1]\n",
    "\n",
    "\n",
    "\n",
    "new_y=[]\n",
    "for i in range (len(y_pred)):\n",
    "    if y_pred[i]<0.5:\n",
    "        new_y.append(0)\n",
    "    else:\n",
    "        new_y.append(1)\n"
   ]
  },
  {
   "cell_type": "code",
   "execution_count": 58,
   "metadata": {},
   "outputs": [
    {
     "data": {
      "text/plain": [
       "0.8245901639344262"
      ]
     },
     "execution_count": 58,
     "metadata": {},
     "output_type": "execute_result"
    }
   ],
   "source": [
    "from sklearn.metrics import accuracy_score\n",
    "\n",
    "\n",
    "accuracy_score(y_test,new_y)\n",
    "\n"
   ]
  },
  {
   "cell_type": "code",
   "execution_count": 59,
   "metadata": {},
   "outputs": [
    {
     "name": "stdout",
     "output_type": "stream",
     "text": [
      "mean_absolute_error is = 0.17540983606557378\n",
      "mean_squared_error is = 0.4188195745969543\n"
     ]
    }
   ],
   "source": [
    "from sklearn.metrics import mean_absolute_error\n",
    "from sklearn.metrics import mean_squared_error\n",
    "\n",
    "\n",
    "MAEVale=mean_absolute_error(y_test,y_pred,multioutput=\"uniform_average\")\n",
    "print(\"mean_absolute_error is =\",MAEVale)\n",
    "\n",
    "MSEVale=mean_squared_error(y_test,y_pred,multioutput=\"uniform_average\")\n",
    "RmseVal=np.sqrt(MSEVale)\n",
    "print(\"mean_squared_error is =\",RmseVal)\n",
    "\n",
    "\n"
   ]
  },
  {
   "cell_type": "code",
   "execution_count": 60,
   "metadata": {},
   "outputs": [
    {
     "name": "stdout",
     "output_type": "stream",
     "text": [
      "Decision Tree  classifiers  confusion_matrix\n",
      "Decision Tree classifier Trining Accurcy = 1.0\n",
      "Decision Tree classifier Testing Accurcy =  0.8245901639344262\n",
      "[[269  52]\n",
      " [ 55 234]]\n"
     ]
    },
    {
     "data": {
      "text/plain": [
       "Text(33.0, 0.5, 'Acutl')"
      ]
     },
     "execution_count": 60,
     "metadata": {},
     "output_type": "execute_result"
    },
    {
     "data": {
      "image/png": "[encoded data removed]",
      "text/plain": [
       "<Figure size 432x288 with 2 Axes>"
      ]
     },
     "metadata": {
      "needs_background": "light"
     },
     "output_type": "display_data"
    }
   ],
   "source": [
    "from sklearn.metrics import confusion_matrix\n",
    "\n",
    "print(\"Decision Tree  classifiers  confusion_matrix\")\n",
    "cm=confusion_matrix(y_test,new_y)\n",
    "TN=cm[0][0]\n",
    "TP=cm[1][1]\n",
    "FP=cm[0][1]\n",
    "FN=cm[1][0]\n",
    "\n",
    "print('Decision Tree classifier Trining Accurcy =',D_classifier.score(x_train,y_train) )\n",
    "print('Decision Tree classifier Testing Accurcy = ',(TP+TN)/(TP+TN+FP+FN))\n",
    "print(cm)\n",
    "sns.heatmap(cm,annot=True)\n",
    "plt.title(\"Decision Tree classifier confusion_matrix \")\n",
    "plt.xlabel(\"Predication\")\n",
    "plt.ylabel(\"Acutl\")\n",
    "\n"
   ]
  },
  {
   "cell_type": "code",
   "execution_count": 61,
   "metadata": {},
   "outputs": [
    {
     "name": "stdout",
     "output_type": "stream",
     "text": [
      "classification_report Decision Tree\n",
      ".......................................\n",
      "              precision    recall  f1-score   support\n",
      "\n",
      "           0       0.83      0.84      0.83       321\n",
      "           1       0.82      0.81      0.81       289\n",
      "\n",
      "    accuracy                           0.82       610\n",
      "   macro avg       0.82      0.82      0.82       610\n",
      "weighted avg       0.82      0.82      0.82       610\n",
      "\n",
      "accuracy_score= 0.8245901639344262\n"
     ]
    }
   ],
   "source": [
    "\n",
    "\n",
    "### CLASSIFACTION Report\n",
    "\n",
    "from sklearn.metrics import classification_report\n",
    "from sklearn.metrics import accuracy_score\n",
    "\n",
    "y_pred=D_classifier.predict(x_test)\n",
    "print('classification_report Decision Tree')\n",
    "print('.......................................') \n",
    "\n",
    "print(classification_report(y_test,y_pred)) \n",
    "print(\"accuracy_score=\",accuracy_score(y_test,y_pred)) \n",
    "\n",
    "\n"
   ]
  },
  {
   "cell_type": "markdown",
   "metadata": {},
   "source": [
    "## Feature Selection by Percentile BY 35%"
   ]
  },
  {
   "cell_type": "code",
   "execution_count": 62,
   "metadata": {},
   "outputs": [],
   "source": [
    "#print('Original X Shape is ' , X.shape)\n",
    "FeatureSelection = SelectPercentile(score_func = f_classif, percentile=35) # score_func can = f_classif\n",
    "X = FeatureSelection.fit_transform(x, y)\n",
    "\n"
   ]
  },
  {
   "cell_type": "code",
   "execution_count": 63,
   "metadata": {},
   "outputs": [
    {
     "name": "stdout",
     "output_type": "stream",
     "text": [
      "Selected Features are :  [False False False  True False False  True False False False False  True\n",
      "  True  True  True False  True  True False False False False]\n"
     ]
    },
    {
     "data": {
      "text/plain": [
       "Index(['FBS', 'ALB', 'CA15', 'CEA', 'WBC', 'RBC', 'PLT', 'ESR'], dtype='object')"
      ]
     },
     "execution_count": 63,
     "metadata": {},
     "output_type": "execute_result"
    }
   ],
   "source": [
    "#showing X Dimension \n",
    "#print('X Shape is ' , X.shape)\n",
    "print('Selected Features are : ' , FeatureSelection.get_support())\n",
    "\n",
    "x.columns[FeatureSelection.get_support()]\n",
    "\n"
   ]
  },
  {
   "cell_type": "code",
   "execution_count": 65,
   "metadata": {},
   "outputs": [
    {
     "data": {
      "text/plain": [
       "(2437, 8)"
      ]
     },
     "execution_count": 65,
     "metadata": {},
     "output_type": "execute_result"
    }
   ],
   "source": [
    "X=BC.drop([\"CLASS\",\"Sex\",\"Age\",\"Adress\",\"Urea\",\"Creatinin\",\"TCa\",\"GPT\",\"GOT\",\"ALP\",\"LDH\",\"K\",\"Na\",\"CL\",\"HGB\"],axis=1)\n",
    "Y=BC[\"CLASS\"] \n",
    "X.shape\n"
   ]
  },
  {
   "cell_type": "code",
   "execution_count": 66,
   "metadata": {},
   "outputs": [],
   "source": [
    "from sklearn.model_selection import train_test_split\n",
    "x_train, x_test, y_train, y_test = train_test_split(X, Y, \n",
    "                                                    test_size=0.25)\n",
    "\n"
   ]
  },
  {
   "cell_type": "code",
   "execution_count": 67,
   "metadata": {},
   "outputs": [
    {
     "data": {
      "text/plain": [
       "DecisionTreeClassifier(class_weight=None, criterion='gini', max_depth=None,\n",
       "                       max_features=None, max_leaf_nodes=None,\n",
       "                       min_impurity_decrease=0.0, min_impurity_split=None,\n",
       "                       min_samples_leaf=1, min_samples_split=2,\n",
       "                       min_weight_fraction_leaf=0.0, presort=False,\n",
       "                       random_state=0, splitter='best')"
      ]
     },
     "execution_count": 67,
     "metadata": {},
     "output_type": "execute_result"
    }
   ],
   "source": [
    "from sklearn.tree import DecisionTreeClassifier\n",
    "\n",
    "D_classifier= DecisionTreeClassifier(random_state=0) \n",
    "D_classifier.fit(x_train,y_train) \n",
    "\n"
   ]
  },
  {
   "cell_type": "code",
   "execution_count": 68,
   "metadata": {},
   "outputs": [],
   "source": [
    "y_pred=D_classifier.predict_proba(x_test)[:,1]\n",
    "\n",
    "\n",
    "\n",
    "new_y=[]\n",
    "for i in range (len(y_pred)):\n",
    "    if y_pred[i]<0.5:\n",
    "        new_y.append(0)\n",
    "    else:\n",
    "        new_y.append(1)\n"
   ]
  },
  {
   "cell_type": "code",
   "execution_count": 69,
   "metadata": {},
   "outputs": [
    {
     "data": {
      "text/plain": [
       "0.840983606557377"
      ]
     },
     "execution_count": 69,
     "metadata": {},
     "output_type": "execute_result"
    }
   ],
   "source": [
    "from sklearn.metrics import accuracy_score\n",
    "\n",
    "\n",
    "accuracy_score(y_test,new_y)\n"
   ]
  },
  {
   "cell_type": "code",
   "execution_count": 70,
   "metadata": {},
   "outputs": [
    {
     "name": "stdout",
     "output_type": "stream",
     "text": [
      "mean_absolute_error is = 0.15901639344262294\n",
      "mean_squared_error is = 0.39876859635962175\n"
     ]
    }
   ],
   "source": [
    "from sklearn.metrics import mean_absolute_error\n",
    "from sklearn.metrics import mean_squared_error\n",
    "\n",
    "\n",
    "MAEVale=mean_absolute_error(y_test,y_pred,multioutput=\"uniform_average\")\n",
    "print(\"mean_absolute_error is =\",MAEVale)\n",
    "\n",
    "MSEVale=mean_squared_error(y_test,y_pred,multioutput=\"uniform_average\")\n",
    "RmseVal=np.sqrt(MSEVale)\n",
    "print(\"mean_squared_error is =\",RmseVal)\n"
   ]
  },
  {
   "cell_type": "code",
   "execution_count": 71,
   "metadata": {},
   "outputs": [
    {
     "name": "stdout",
     "output_type": "stream",
     "text": [
      "Decision Tree  classifiers  confusion_matrix\n",
      "Decision Tree classifier Trining Accurcy = 1.0\n",
      "Decision Tree classifier Testing Accurcy =  0.840983606557377\n",
      "[[268  38]\n",
      " [ 59 245]]\n"
     ]
    },
    {
     "data": {
      "text/plain": [
       "Text(33.0, 0.5, 'Acutl')"
      ]
     },
     "execution_count": 71,
     "metadata": {},
     "output_type": "execute_result"
    },
    {
     "data": {
      "image/png": "[encoded data removed]",
      "text/plain": [
       "<Figure size 432x288 with 2 Axes>"
      ]
     },
     "metadata": {
      "needs_background": "light"
     },
     "output_type": "display_data"
    }
   ],
   "source": [
    "from sklearn.metrics import confusion_matrix\n",
    "\n",
    "print(\"Decision Tree  classifiers  confusion_matrix\")\n",
    "cm=confusion_matrix(y_test,new_y)\n",
    "TN=cm[0][0]\n",
    "TP=cm[1][1]\n",
    "FP=cm[0][1]\n",
    "FN=cm[1][0]\n",
    "\n",
    "print('Decision Tree classifier Trining Accurcy =',D_classifier.score(x_train,y_train) )\n",
    "print('Decision Tree classifier Testing Accurcy = ',(TP+TN)/(TP+TN+FP+FN))\n",
    "print(cm)\n",
    "sns.heatmap(cm,annot=True)\n",
    "plt.title(\"Decision Tree classifier confusion_matrix \")\n",
    "plt.xlabel(\"Predication\")\n",
    "plt.ylabel(\"Acutl\")\n",
    "\n"
   ]
  },
  {
   "cell_type": "code",
   "execution_count": 72,
   "metadata": {},
   "outputs": [
    {
     "name": "stdout",
     "output_type": "stream",
     "text": [
      "classification_report Decision Tree\n",
      ".......................................\n",
      "              precision    recall  f1-score   support\n",
      "\n",
      "           0       0.82      0.88      0.85       306\n",
      "           1       0.87      0.81      0.83       304\n",
      "\n",
      "    accuracy                           0.84       610\n",
      "   macro avg       0.84      0.84      0.84       610\n",
      "weighted avg       0.84      0.84      0.84       610\n",
      "\n",
      "accuracy_score= 0.840983606557377\n"
     ]
    }
   ],
   "source": [
    "### CLASSIFACTION Report\n",
    "\n",
    "from sklearn.metrics import classification_report\n",
    "from sklearn.metrics import accuracy_score\n",
    "\n",
    "y_pred=D_classifier.predict(x_test)\n",
    "print('classification_report Decision Tree')\n",
    "print('.......................................') \n",
    "\n",
    "print(classification_report(y_test,y_pred)) \n",
    "print(\"accuracy_score=\",accuracy_score(y_test,y_pred)) \n"
   ]
  },
  {
   "cell_type": "markdown",
   "metadata": {},
   "source": [
    "## Feature Selection by Percentile BY 40%"
   ]
  },
  {
   "cell_type": "code",
   "execution_count": 73,
   "metadata": {},
   "outputs": [],
   "source": [
    "#print('Original X Shape is ' , X.shape)\n",
    "FeatureSelection = SelectPercentile(score_func = f_classif, percentile=40) # score_func can = f_classif\n",
    "X = FeatureSelection.fit_transform(x, y)\n",
    "\n"
   ]
  },
  {
   "cell_type": "code",
   "execution_count": 74,
   "metadata": {},
   "outputs": [
    {
     "name": "stdout",
     "output_type": "stream",
     "text": [
      "Selected Features are :  [False False False  True False False  True False False False False  True\n",
      "  True  True  True False  True  True  True False False False]\n"
     ]
    },
    {
     "data": {
      "text/plain": [
       "Index(['FBS', 'ALB', 'CA15', 'CEA', 'WBC', 'RBC', 'PLT', 'ESR', 'LDH'], dtype='object')"
      ]
     },
     "execution_count": 74,
     "metadata": {},
     "output_type": "execute_result"
    }
   ],
   "source": [
    "#showing X Dimension \n",
    "#print('X Shape is ' , X.shape)\n",
    "print('Selected Features are : ' , FeatureSelection.get_support())\n",
    "\n",
    "x.columns[FeatureSelection.get_support()]\n"
   ]
  },
  {
   "cell_type": "code",
   "execution_count": 75,
   "metadata": {},
   "outputs": [
    {
     "data": {
      "text/plain": [
       "(2437, 9)"
      ]
     },
     "execution_count": 75,
     "metadata": {},
     "output_type": "execute_result"
    }
   ],
   "source": [
    "X=BC.drop([\"CLASS\",\"Sex\",\"Age\",\"Adress\",\"Urea\",\"Creatinin\",\"TCa\",\"GPT\",\"GOT\",\"ALP\",\"K\",\"Na\",\"CL\",\"HGB\"],axis=1)\n",
    "Y=BC[\"CLASS\"] \n",
    "X.shape\n"
   ]
  },
  {
   "cell_type": "code",
   "execution_count": 76,
   "metadata": {},
   "outputs": [],
   "source": [
    "from sklearn.model_selection import train_test_split\n",
    "x_train, x_test, y_train, y_test = train_test_split(X, Y, \n",
    "                                                    test_size=0.25)\n"
   ]
  },
  {
   "cell_type": "code",
   "execution_count": 77,
   "metadata": {},
   "outputs": [
    {
     "data": {
      "text/plain": [
       "DecisionTreeClassifier(class_weight=None, criterion='gini', max_depth=None,\n",
       "                       max_features=None, max_leaf_nodes=None,\n",
       "                       min_impurity_decrease=0.0, min_impurity_split=None,\n",
       "                       min_samples_leaf=1, min_samples_split=2,\n",
       "                       min_weight_fraction_leaf=0.0, presort=False,\n",
       "                       random_state=0, splitter='best')"
      ]
     },
     "execution_count": 77,
     "metadata": {},
     "output_type": "execute_result"
    }
   ],
   "source": [
    "from sklearn.tree import DecisionTreeClassifier\n",
    "\n",
    "D_classifier= DecisionTreeClassifier(random_state=0) \n",
    "D_classifier.fit(x_train,y_train) \n"
   ]
  },
  {
   "cell_type": "code",
   "execution_count": 78,
   "metadata": {},
   "outputs": [],
   "source": [
    "y_pred=D_classifier.predict_proba(x_test)[:,1]\n",
    "\n",
    "\n",
    "\n",
    "new_y=[]\n",
    "for i in range (len(y_pred)):\n",
    "    if y_pred[i]<0.5:\n",
    "        new_y.append(0)\n",
    "    else:\n",
    "        new_y.append(1)\n"
   ]
  },
  {
   "cell_type": "code",
   "execution_count": 79,
   "metadata": {},
   "outputs": [
    {
     "data": {
      "text/plain": [
       "0.8655737704918033"
      ]
     },
     "execution_count": 79,
     "metadata": {},
     "output_type": "execute_result"
    }
   ],
   "source": [
    "from sklearn.metrics import accuracy_score\n",
    "\n",
    "\n",
    "accuracy_score(y_test,new_y)\n",
    "\n"
   ]
  },
  {
   "cell_type": "code",
   "execution_count": 80,
   "metadata": {},
   "outputs": [
    {
     "name": "stdout",
     "output_type": "stream",
     "text": [
      "mean_absolute_error is = 0.13442622950819672\n",
      "mean_squared_error is = 0.3666418272758807\n"
     ]
    }
   ],
   "source": [
    "from sklearn.metrics import mean_absolute_error\n",
    "from sklearn.metrics import mean_squared_error\n",
    "\n",
    "\n",
    "MAEVale=mean_absolute_error(y_test,y_pred,multioutput=\"uniform_average\")\n",
    "print(\"mean_absolute_error is =\",MAEVale)\n",
    "\n",
    "MSEVale=mean_squared_error(y_test,y_pred,multioutput=\"uniform_average\")\n",
    "RmseVal=np.sqrt(MSEVale)\n",
    "print(\"mean_squared_error is =\",RmseVal)\n"
   ]
  },
  {
   "cell_type": "code",
   "execution_count": 81,
   "metadata": {},
   "outputs": [
    {
     "name": "stdout",
     "output_type": "stream",
     "text": [
      "Decision Tree  classifiers  confusion_matrix\n",
      "Decision Tree classifier Trining Accurcy = 1.0\n",
      "Decision Tree classifier Testing Accurcy =  0.8655737704918033\n",
      "[[287  41]\n",
      " [ 41 241]]\n"
     ]
    },
    {
     "data": {
      "text/plain": [
       "Text(33.0, 0.5, 'Acutl')"
      ]
     },
     "execution_count": 81,
     "metadata": {},
     "output_type": "execute_result"
    },
    {
     "data": {
      "image/png": "[encoded data removed]",
      "text/plain": [
       "<Figure size 432x288 with 2 Axes>"
      ]
     },
     "metadata": {
      "needs_background": "light"
     },
     "output_type": "display_data"
    }
   ],
   "source": [
    "from sklearn.metrics import confusion_matrix\n",
    "\n",
    "print(\"Decision Tree  classifiers  confusion_matrix\")\n",
    "cm=confusion_matrix(y_test,new_y)\n",
    "TN=cm[0][0]\n",
    "TP=cm[1][1]\n",
    "FP=cm[0][1]\n",
    "FN=cm[1][0]\n",
    "\n",
    "print('Decision Tree classifier Trining Accurcy =',D_classifier.score(x_train,y_train) )\n",
    "print('Decision Tree classifier Testing Accurcy = ',(TP+TN)/(TP+TN+FP+FN))\n",
    "print(cm)\n",
    "sns.heatmap(cm,annot=True)\n",
    "plt.title(\"Decision Tree classifier confusion_matrix \")\n",
    "plt.xlabel(\"Predication\")\n",
    "plt.ylabel(\"Acutl\")\n"
   ]
  },
  {
   "cell_type": "code",
   "execution_count": 82,
   "metadata": {},
   "outputs": [
    {
     "name": "stdout",
     "output_type": "stream",
     "text": [
      "classification_report Decision Tree\n",
      ".......................................\n",
      "              precision    recall  f1-score   support\n",
      "\n",
      "           0       0.88      0.88      0.88       328\n",
      "           1       0.85      0.85      0.85       282\n",
      "\n",
      "    accuracy                           0.87       610\n",
      "   macro avg       0.86      0.86      0.86       610\n",
      "weighted avg       0.87      0.87      0.87       610\n",
      "\n",
      "accuracy_score= 0.8655737704918033\n"
     ]
    }
   ],
   "source": [
    "\n",
    "### CLASSIFACTION Report\n",
    "\n",
    "from sklearn.metrics import classification_report\n",
    "from sklearn.metrics import accuracy_score\n",
    "\n",
    "y_pred=D_classifier.predict(x_test)\n",
    "print('classification_report Decision Tree')\n",
    "print('.......................................') \n",
    "\n",
    "print(classification_report(y_test,y_pred)) \n",
    "print(\"accuracy_score=\",accuracy_score(y_test,y_pred)) \n",
    "\n",
    "\n",
    "\n"
   ]
  },
  {
   "cell_type": "markdown",
   "metadata": {},
   "source": [
    "## Feature Selection by Percentile BY 45%"
   ]
  },
  {
   "cell_type": "code",
   "execution_count": 83,
   "metadata": {},
   "outputs": [],
   "source": [
    "#print('Original X Shape is ' , X.shape)\n",
    "FeatureSelection = SelectPercentile(score_func = f_classif, percentile=45) # score_func can = f_classif\n",
    "X = FeatureSelection.fit_transform(x, y)\n",
    "\n",
    "\n"
   ]
  },
  {
   "cell_type": "code",
   "execution_count": 84,
   "metadata": {},
   "outputs": [
    {
     "name": "stdout",
     "output_type": "stream",
     "text": [
      "Selected Features are :  [False False False  True False  True  True False False False False  True\n",
      "  True  True  True False  True  True  True False False False]\n"
     ]
    },
    {
     "data": {
      "text/plain": [
       "Index(['FBS', 'Creatinin', 'ALB', 'CA15', 'CEA', 'WBC', 'RBC', 'PLT', 'ESR',\n",
       "       'LDH'],\n",
       "      dtype='object')"
      ]
     },
     "execution_count": 84,
     "metadata": {},
     "output_type": "execute_result"
    }
   ],
   "source": [
    "#showing X Dimension \n",
    "#print('X Shape is ' , X.shape)\n",
    "print('Selected Features are : ' , FeatureSelection.get_support())\n",
    "\n",
    "x.columns[FeatureSelection.get_support()]\n"
   ]
  },
  {
   "cell_type": "code",
   "execution_count": 85,
   "metadata": {},
   "outputs": [
    {
     "data": {
      "text/plain": [
       "(2437, 10)"
      ]
     },
     "execution_count": 85,
     "metadata": {},
     "output_type": "execute_result"
    }
   ],
   "source": [
    "X=BC.drop([\"CLASS\",\"Sex\",\"Age\",\"Adress\",\"Urea\",\"TCa\",\"GPT\",\"GOT\",\"ALP\",\"K\",\"Na\",\"CL\",\"HGB\"],axis=1)\n",
    "Y=BC[\"CLASS\"] \n",
    "X.shape\n"
   ]
  },
  {
   "cell_type": "code",
   "execution_count": 86,
   "metadata": {},
   "outputs": [],
   "source": [
    "from sklearn.model_selection import train_test_split\n",
    "x_train, x_test, y_train, y_test = train_test_split(X, Y, \n",
    "                                                    test_size=0.25)\n",
    "\n"
   ]
  },
  {
   "cell_type": "code",
   "execution_count": 87,
   "metadata": {},
   "outputs": [
    {
     "data": {
      "text/plain": [
       "DecisionTreeClassifier(class_weight=None, criterion='gini', max_depth=None,\n",
       "                       max_features=None, max_leaf_nodes=None,\n",
       "                       min_impurity_decrease=0.0, min_impurity_split=None,\n",
       "                       min_samples_leaf=1, min_samples_split=2,\n",
       "                       min_weight_fraction_leaf=0.0, presort=False,\n",
       "                       random_state=0, splitter='best')"
      ]
     },
     "execution_count": 87,
     "metadata": {},
     "output_type": "execute_result"
    }
   ],
   "source": [
    "from sklearn.tree import DecisionTreeClassifier\n",
    "\n",
    "D_classifier= DecisionTreeClassifier(random_state=0) \n",
    "D_classifier.fit(x_train,y_train) \n"
   ]
  },
  {
   "cell_type": "code",
   "execution_count": 88,
   "metadata": {},
   "outputs": [],
   "source": [
    "y_pred=D_classifier.predict_proba(x_test)[:,1]\n",
    "\n",
    "\n",
    "\n",
    "new_y=[]\n",
    "for i in range (len(y_pred)):\n",
    "    if y_pred[i]<0.5:\n",
    "        new_y.append(0)\n",
    "    else:\n",
    "        new_y.append(1)\n"
   ]
  },
  {
   "cell_type": "code",
   "execution_count": 89,
   "metadata": {},
   "outputs": [
    {
     "data": {
      "text/plain": [
       "0.8622950819672132"
      ]
     },
     "execution_count": 89,
     "metadata": {},
     "output_type": "execute_result"
    }
   ],
   "source": [
    "from sklearn.metrics import accuracy_score\n",
    "\n",
    "\n",
    "accuracy_score(y_test,new_y)\n",
    "\n"
   ]
  },
  {
   "cell_type": "code",
   "execution_count": 90,
   "metadata": {},
   "outputs": [
    {
     "name": "stdout",
     "output_type": "stream",
     "text": [
      "mean_absolute_error is = 0.1377049180327869\n",
      "mean_squared_error is = 0.3710861329028436\n"
     ]
    }
   ],
   "source": [
    "from sklearn.metrics import mean_absolute_error\n",
    "from sklearn.metrics import mean_squared_error\n",
    "\n",
    "\n",
    "MAEVale=mean_absolute_error(y_test,y_pred,multioutput=\"uniform_average\")\n",
    "print(\"mean_absolute_error is =\",MAEVale)\n",
    "\n",
    "MSEVale=mean_squared_error(y_test,y_pred,multioutput=\"uniform_average\")\n",
    "RmseVal=np.sqrt(MSEVale)\n",
    "print(\"mean_squared_error is =\",RmseVal)\n"
   ]
  },
  {
   "cell_type": "code",
   "execution_count": 91,
   "metadata": {},
   "outputs": [
    {
     "name": "stdout",
     "output_type": "stream",
     "text": [
      "Decision Tree  classifiers  confusion_matrix\n",
      "Decision Tree classifier Trining Accurcy = 1.0\n",
      "Decision Tree classifier Testing Accurcy =  0.8622950819672132\n",
      "[[301  37]\n",
      " [ 47 225]]\n"
     ]
    },
    {
     "data": {
      "text/plain": [
       "Text(33.0, 0.5, 'Acutl')"
      ]
     },
     "execution_count": 91,
     "metadata": {},
     "output_type": "execute_result"
    },
    {
     "data": {
      "image/png": "[encoded data removed]",
      "text/plain": [
       "<Figure size 432x288 with 2 Axes>"
      ]
     },
     "metadata": {
      "needs_background": "light"
     },
     "output_type": "display_data"
    }
   ],
   "source": [
    "from sklearn.metrics import confusion_matrix\n",
    "\n",
    "print(\"Decision Tree  classifiers  confusion_matrix\")\n",
    "cm=confusion_matrix(y_test,new_y)\n",
    "TN=cm[0][0]\n",
    "TP=cm[1][1]\n",
    "FP=cm[0][1]\n",
    "FN=cm[1][0]\n",
    "\n",
    "print('Decision Tree classifier Trining Accurcy =',D_classifier.score(x_train,y_train) )\n",
    "print('Decision Tree classifier Testing Accurcy = ',(TP+TN)/(TP+TN+FP+FN))\n",
    "print(cm)\n",
    "sns.heatmap(cm,annot=True)\n",
    "plt.title(\"Decision Tree classifier confusion_matrix \")\n",
    "plt.xlabel(\"Predication\")\n",
    "plt.ylabel(\"Acutl\")\n"
   ]
  },
  {
   "cell_type": "code",
   "execution_count": 92,
   "metadata": {},
   "outputs": [
    {
     "name": "stdout",
     "output_type": "stream",
     "text": [
      "classification_report Decision Tree\n",
      ".......................................\n",
      "              precision    recall  f1-score   support\n",
      "\n",
      "           0       0.86      0.89      0.88       338\n",
      "           1       0.86      0.83      0.84       272\n",
      "\n",
      "    accuracy                           0.86       610\n",
      "   macro avg       0.86      0.86      0.86       610\n",
      "weighted avg       0.86      0.86      0.86       610\n",
      "\n",
      "accuracy_score= 0.8622950819672132\n"
     ]
    }
   ],
   "source": [
    "### CLASSIFACTION Report\n",
    "\n",
    "from sklearn.metrics import classification_report\n",
    "from sklearn.metrics import accuracy_score\n",
    "\n",
    "y_pred=D_classifier.predict(x_test)\n",
    "print('classification_report Decision Tree')\n",
    "print('.......................................') \n",
    "\n",
    "print(classification_report(y_test,y_pred)) \n",
    "print(\"accuracy_score=\",accuracy_score(y_test,y_pred)) \n",
    "\n",
    "\n",
    "\n"
   ]
  },
  {
   "cell_type": "markdown",
   "metadata": {},
   "source": [
    "## Feature Selection by Percentile BY 50%"
   ]
  },
  {
   "cell_type": "code",
   "execution_count": 93,
   "metadata": {},
   "outputs": [],
   "source": [
    "#print('Original X Shape is ' , X.shape)\n",
    "FeatureSelection = SelectPercentile(score_func = f_classif, percentile=50) # score_func can = f_classif\n",
    "X = FeatureSelection.fit_transform(x, y)\n",
    "\n"
   ]
  },
  {
   "cell_type": "code",
   "execution_count": 94,
   "metadata": {},
   "outputs": [
    {
     "name": "stdout",
     "output_type": "stream",
     "text": [
      "Selected Features are :  [False False False  True False  True  True False False False False  True\n",
      "  True  True  True  True  True  True  True False False False]\n"
     ]
    },
    {
     "data": {
      "text/plain": [
       "Index(['FBS', 'Creatinin', 'ALB', 'CA15', 'CEA', 'WBC', 'RBC', 'HGB', 'PLT',\n",
       "       'ESR', 'LDH'],\n",
       "      dtype='object')"
      ]
     },
     "execution_count": 94,
     "metadata": {},
     "output_type": "execute_result"
    }
   ],
   "source": [
    "#showing X Dimension \n",
    "#print('X Shape is ' , X.shape)\n",
    "print('Selected Features are : ' , FeatureSelection.get_support())\n",
    "\n",
    "x.columns[FeatureSelection.get_support()]\n"
   ]
  },
  {
   "cell_type": "code",
   "execution_count": 96,
   "metadata": {},
   "outputs": [
    {
     "data": {
      "text/plain": [
       "(2437, 11)"
      ]
     },
     "execution_count": 96,
     "metadata": {},
     "output_type": "execute_result"
    }
   ],
   "source": [
    "\n",
    "X=BC.drop([\"CLASS\",\"Sex\",\"Age\",\"Adress\",\"Urea\",\"TCa\",\"GPT\",\"GOT\",\"ALP\",\"K\",\"Na\",\"CL\"],axis=1)\n",
    "Y=BC[\"CLASS\"] \n",
    "X.shape\n",
    "\n"
   ]
  },
  {
   "cell_type": "code",
   "execution_count": 97,
   "metadata": {},
   "outputs": [],
   "source": [
    "from sklearn.model_selection import train_test_split\n",
    "x_train, x_test, y_train, y_test = train_test_split(X, Y, \n",
    "                                                    test_size=0.25)\n",
    "\n"
   ]
  },
  {
   "cell_type": "code",
   "execution_count": 98,
   "metadata": {},
   "outputs": [
    {
     "data": {
      "text/plain": [
       "DecisionTreeClassifier(class_weight=None, criterion='gini', max_depth=None,\n",
       "                       max_features=None, max_leaf_nodes=None,\n",
       "                       min_impurity_decrease=0.0, min_impurity_split=None,\n",
       "                       min_samples_leaf=1, min_samples_split=2,\n",
       "                       min_weight_fraction_leaf=0.0, presort=False,\n",
       "                       random_state=0, splitter='best')"
      ]
     },
     "execution_count": 98,
     "metadata": {},
     "output_type": "execute_result"
    }
   ],
   "source": [
    "from sklearn.tree import DecisionTreeClassifier\n",
    "\n",
    "D_classifier= DecisionTreeClassifier(random_state=0) \n",
    "D_classifier.fit(x_train,y_train) \n"
   ]
  },
  {
   "cell_type": "code",
   "execution_count": 99,
   "metadata": {},
   "outputs": [],
   "source": [
    "y_pred=D_classifier.predict_proba(x_test)[:,1]\n",
    "\n",
    "\n",
    "\n",
    "new_y=[]\n",
    "for i in range (len(y_pred)):\n",
    "    if y_pred[i]<0.5:\n",
    "        new_y.append(0)\n",
    "    else:\n",
    "        new_y.append(1)\n",
    "\n"
   ]
  },
  {
   "cell_type": "code",
   "execution_count": 100,
   "metadata": {},
   "outputs": [
    {
     "data": {
      "text/plain": [
       "0.8442622950819673"
      ]
     },
     "execution_count": 100,
     "metadata": {},
     "output_type": "execute_result"
    }
   ],
   "source": [
    "from sklearn.metrics import accuracy_score\n",
    "\n",
    "\n",
    "accuracy_score(y_test,new_y)\n",
    "\n"
   ]
  },
  {
   "cell_type": "code",
   "execution_count": 101,
   "metadata": {},
   "outputs": [
    {
     "name": "stdout",
     "output_type": "stream",
     "text": [
      "mean_absolute_error is = 0.1557377049180328\n",
      "mean_squared_error is = 0.39463616777740074\n"
     ]
    }
   ],
   "source": [
    "from sklearn.metrics import mean_absolute_error\n",
    "from sklearn.metrics import mean_squared_error\n",
    "\n",
    "\n",
    "MAEVale=mean_absolute_error(y_test,y_pred,multioutput=\"uniform_average\")\n",
    "print(\"mean_absolute_error is =\",MAEVale)\n",
    "\n",
    "MSEVale=mean_squared_error(y_test,y_pred,multioutput=\"uniform_average\")\n",
    "RmseVal=np.sqrt(MSEVale)\n",
    "print(\"mean_squared_error is =\",RmseVal)\n"
   ]
  },
  {
   "cell_type": "code",
   "execution_count": 102,
   "metadata": {},
   "outputs": [
    {
     "name": "stdout",
     "output_type": "stream",
     "text": [
      "Decision Tree  classifiers  confusion_matrix\n",
      "Decision Tree classifier Trining Accurcy = 1.0\n",
      "Decision Tree classifier Testing Accurcy =  0.8442622950819673\n",
      "[[295  56]\n",
      " [ 39 220]]\n"
     ]
    },
    {
     "data": {
      "text/plain": [
       "Text(33.0, 0.5, 'Acutl')"
      ]
     },
     "execution_count": 102,
     "metadata": {},
     "output_type": "execute_result"
    },
    {
     "data": {
      "image/png": "[encoded data removed]",
      "text/plain": [
       "<Figure size 432x288 with 2 Axes>"
      ]
     },
     "metadata": {
      "needs_background": "light"
     },
     "output_type": "display_data"
    }
   ],
   "source": [
    "from sklearn.metrics import confusion_matrix\n",
    "\n",
    "print(\"Decision Tree  classifiers  confusion_matrix\")\n",
    "cm=confusion_matrix(y_test,new_y)\n",
    "TN=cm[0][0]\n",
    "TP=cm[1][1]\n",
    "FP=cm[0][1]\n",
    "FN=cm[1][0]\n",
    "\n",
    "print('Decision Tree classifier Trining Accurcy =',D_classifier.score(x_train,y_train) )\n",
    "print('Decision Tree classifier Testing Accurcy = ',(TP+TN)/(TP+TN+FP+FN))\n",
    "print(cm)\n",
    "sns.heatmap(cm,annot=True)\n",
    "plt.title(\"Decision Tree classifier confusion_matrix \")\n",
    "plt.xlabel(\"Predication\")\n",
    "plt.ylabel(\"Acutl\")\n"
   ]
  },
  {
   "cell_type": "code",
   "execution_count": 103,
   "metadata": {},
   "outputs": [
    {
     "name": "stdout",
     "output_type": "stream",
     "text": [
      "classification_report Decision Tree\n",
      ".......................................\n",
      "              precision    recall  f1-score   support\n",
      "\n",
      "           0       0.88      0.84      0.86       351\n",
      "           1       0.80      0.85      0.82       259\n",
      "\n",
      "    accuracy                           0.84       610\n",
      "   macro avg       0.84      0.84      0.84       610\n",
      "weighted avg       0.85      0.84      0.84       610\n",
      "\n",
      "accuracy_score= 0.8442622950819673\n"
     ]
    }
   ],
   "source": [
    "### CLASSIFACTION Report\n",
    "\n",
    "from sklearn.metrics import classification_report\n",
    "from sklearn.metrics import accuracy_score\n",
    "\n",
    "y_pred=D_classifier.predict(x_test)\n",
    "print('classification_report Decision Tree')\n",
    "print('.......................................') \n",
    "\n",
    "print(classification_report(y_test,y_pred)) \n",
    "print(\"accuracy_score=\",accuracy_score(y_test,y_pred)) \n"
   ]
  },
  {
   "cell_type": "markdown",
   "metadata": {},
   "source": [
    "## Feature Selection by Percentile BY 55%"
   ]
  },
  {
   "cell_type": "code",
   "execution_count": 104,
   "metadata": {},
   "outputs": [],
   "source": [
    "#print('Original X Shape is ' , X.shape)\n",
    "FeatureSelection = SelectPercentile(score_func = f_classif, percentile=55) # score_func can = f_classif\n",
    "X = FeatureSelection.fit_transform(x, y)\n",
    "\n"
   ]
  },
  {
   "cell_type": "code",
   "execution_count": 105,
   "metadata": {},
   "outputs": [
    {
     "name": "stdout",
     "output_type": "stream",
     "text": [
      "Selected Features are :  [False  True False  True False  True  True False False False False  True\n",
      "  True  True  True  True  True  True  True False False False]\n"
     ]
    },
    {
     "data": {
      "text/plain": [
       "Index(['Age', 'FBS', 'Creatinin', 'ALB', 'CA15', 'CEA', 'WBC', 'RBC', 'HGB',\n",
       "       'PLT', 'ESR', 'LDH'],\n",
       "      dtype='object')"
      ]
     },
     "execution_count": 105,
     "metadata": {},
     "output_type": "execute_result"
    }
   ],
   "source": [
    "#showing X Dimension \n",
    "#print('X Shape is ' , X.shape)\n",
    "print('Selected Features are : ' , FeatureSelection.get_support())\n",
    "\n",
    "x.columns[FeatureSelection.get_support()]\n",
    "\n"
   ]
  },
  {
   "cell_type": "code",
   "execution_count": 108,
   "metadata": {},
   "outputs": [
    {
     "data": {
      "text/plain": [
       "(2437, 12)"
      ]
     },
     "execution_count": 108,
     "metadata": {},
     "output_type": "execute_result"
    }
   ],
   "source": [
    "X=BC.drop([\"CLASS\",\"Sex\",\"Adress\",\"Urea\",\"TCa\",\"GPT\",\"GOT\",\"ALP\",\"K\",\"Na\",\"CL\"],axis=1)\n",
    "Y=BC[\"CLASS\"] \n",
    "X.shape\n",
    "\n"
   ]
  },
  {
   "cell_type": "code",
   "execution_count": 109,
   "metadata": {},
   "outputs": [],
   "source": [
    "\n",
    "from sklearn.model_selection import train_test_split\n",
    "x_train, x_test, y_train, y_test = train_test_split(X, Y, \n",
    "                                                    test_size=0.25)\n"
   ]
  },
  {
   "cell_type": "code",
   "execution_count": 110,
   "metadata": {},
   "outputs": [
    {
     "data": {
      "text/plain": [
       "DecisionTreeClassifier(class_weight=None, criterion='gini', max_depth=None,\n",
       "                       max_features=None, max_leaf_nodes=None,\n",
       "                       min_impurity_decrease=0.0, min_impurity_split=None,\n",
       "                       min_samples_leaf=1, min_samples_split=2,\n",
       "                       min_weight_fraction_leaf=0.0, presort=False,\n",
       "                       random_state=0, splitter='best')"
      ]
     },
     "execution_count": 110,
     "metadata": {},
     "output_type": "execute_result"
    }
   ],
   "source": [
    "\n",
    "\n",
    "\n",
    "from sklearn.tree import DecisionTreeClassifier\n",
    "\n",
    "D_classifier= DecisionTreeClassifier(random_state=0) \n",
    "D_classifier.fit(x_train,y_train) \n"
   ]
  },
  {
   "cell_type": "code",
   "execution_count": 111,
   "metadata": {},
   "outputs": [],
   "source": [
    "y_pred=D_classifier.predict_proba(x_test)[:,1]\n",
    "\n",
    "\n",
    "\n",
    "new_y=[]\n",
    "for i in range (len(y_pred)):\n",
    "    if y_pred[i]<0.5:\n",
    "        new_y.append(0)\n",
    "    else:\n",
    "        new_y.append(1)\n",
    "\n"
   ]
  },
  {
   "cell_type": "code",
   "execution_count": 112,
   "metadata": {},
   "outputs": [
    {
     "data": {
      "text/plain": [
       "0.8803278688524591"
      ]
     },
     "execution_count": 112,
     "metadata": {},
     "output_type": "execute_result"
    }
   ],
   "source": [
    "from sklearn.metrics import accuracy_score\n",
    "\n",
    "\n",
    "accuracy_score(y_test,new_y)\n",
    "\n"
   ]
  },
  {
   "cell_type": "code",
   "execution_count": 113,
   "metadata": {},
   "outputs": [
    {
     "name": "stdout",
     "output_type": "stream",
     "text": [
      "mean_absolute_error is = 0.11967213114754098\n",
      "mean_squared_error is = 0.3459365998959072\n"
     ]
    }
   ],
   "source": [
    "from sklearn.metrics import mean_absolute_error\n",
    "from sklearn.metrics import mean_squared_error\n",
    "\n",
    "\n",
    "MAEVale=mean_absolute_error(y_test,y_pred,multioutput=\"uniform_average\")\n",
    "print(\"mean_absolute_error is =\",MAEVale)\n",
    "\n",
    "MSEVale=mean_squared_error(y_test,y_pred,multioutput=\"uniform_average\")\n",
    "RmseVal=np.sqrt(MSEVale)\n",
    "print(\"mean_squared_error is =\",RmseVal)\n"
   ]
  },
  {
   "cell_type": "code",
   "execution_count": 114,
   "metadata": {},
   "outputs": [
    {
     "name": "stdout",
     "output_type": "stream",
     "text": [
      "Decision Tree  classifiers  confusion_matrix\n",
      "Decision Tree classifier Trining Accurcy = 1.0\n",
      "Decision Tree classifier Testing Accurcy =  0.8803278688524591\n",
      "[[296  33]\n",
      " [ 40 241]]\n"
     ]
    },
    {
     "data": {
      "text/plain": [
       "Text(33.0, 0.5, 'Acutl')"
      ]
     },
     "execution_count": 114,
     "metadata": {},
     "output_type": "execute_result"
    },
    {
     "data": {
      "image/png": "[encoded data removed]",
      "text/plain": [
       "<Figure size 432x288 with 2 Axes>"
      ]
     },
     "metadata": {
      "needs_background": "light"
     },
     "output_type": "display_data"
    }
   ],
   "source": [
    "from sklearn.metrics import confusion_matrix\n",
    "\n",
    "print(\"Decision Tree  classifiers  confusion_matrix\")\n",
    "cm=confusion_matrix(y_test,new_y)\n",
    "TN=cm[0][0]\n",
    "TP=cm[1][1]\n",
    "FP=cm[0][1]\n",
    "FN=cm[1][0]\n",
    "\n",
    "print('Decision Tree classifier Trining Accurcy =',D_classifier.score(x_train,y_train) )\n",
    "print('Decision Tree classifier Testing Accurcy = ',(TP+TN)/(TP+TN+FP+FN))\n",
    "print(cm)\n",
    "sns.heatmap(cm,annot=True)\n",
    "plt.title(\"Decision Tree classifier confusion_matrix \")\n",
    "plt.xlabel(\"Predication\")\n",
    "plt.ylabel(\"Acutl\")\n"
   ]
  },
  {
   "cell_type": "code",
   "execution_count": 115,
   "metadata": {},
   "outputs": [
    {
     "name": "stdout",
     "output_type": "stream",
     "text": [
      "classification_report Decision Tree\n",
      ".......................................\n",
      "              precision    recall  f1-score   support\n",
      "\n",
      "           0       0.88      0.90      0.89       329\n",
      "           1       0.88      0.86      0.87       281\n",
      "\n",
      "    accuracy                           0.88       610\n",
      "   macro avg       0.88      0.88      0.88       610\n",
      "weighted avg       0.88      0.88      0.88       610\n",
      "\n",
      "accuracy_score= 0.8803278688524591\n"
     ]
    }
   ],
   "source": [
    "### CLASSIFACTION Report\n",
    "\n",
    "from sklearn.metrics import classification_report\n",
    "from sklearn.metrics import accuracy_score\n",
    "\n",
    "y_pred=D_classifier.predict(x_test)\n",
    "print('classification_report Decision Tree')\n",
    "print('.......................................') \n",
    "\n",
    "print(classification_report(y_test,y_pred)) \n",
    "print(\"accuracy_score=\",accuracy_score(y_test,y_pred)) \n"
   ]
  },
  {
   "cell_type": "markdown",
   "metadata": {},
   "source": [
    "## Feature Selection by Percentile BY 60%\n"
   ]
  },
  {
   "cell_type": "code",
   "execution_count": 116,
   "metadata": {},
   "outputs": [],
   "source": [
    "#print('Original X Shape is ' , X.shape)\n",
    "FeatureSelection = SelectPercentile(score_func = f_classif, percentile=60) # score_func can = f_classif\n",
    "X = FeatureSelection.fit_transform(x, y)\n"
   ]
  },
  {
   "cell_type": "code",
   "execution_count": 117,
   "metadata": {},
   "outputs": [
    {
     "name": "stdout",
     "output_type": "stream",
     "text": [
      "Selected Features are :  [False  True  True  True False  True  True False False False False  True\n",
      "  True  True  True  True  True  True  True False False False]\n"
     ]
    },
    {
     "data": {
      "text/plain": [
       "Index(['Age', 'Adress', 'FBS', 'Creatinin', 'ALB', 'CA15', 'CEA', 'WBC', 'RBC',\n",
       "       'HGB', 'PLT', 'ESR', 'LDH'],\n",
       "      dtype='object')"
      ]
     },
     "execution_count": 117,
     "metadata": {},
     "output_type": "execute_result"
    }
   ],
   "source": [
    "#showing X Dimension \n",
    "#print('X Shape is ' , X.shape)\n",
    "print('Selected Features are : ' , FeatureSelection.get_support())\n",
    "\n",
    "x.columns[FeatureSelection.get_support()]\n"
   ]
  },
  {
   "cell_type": "code",
   "execution_count": 120,
   "metadata": {},
   "outputs": [
    {
     "data": {
      "text/plain": [
       "(2437, 13)"
      ]
     },
     "execution_count": 120,
     "metadata": {},
     "output_type": "execute_result"
    }
   ],
   "source": [
    "X=BC.drop([\"CLASS\",\"Sex\",\"Urea\",\"TCa\",\"GPT\",\"GOT\",\"ALP\",\"K\",\"Na\",\"CL\"],axis=1)\n",
    "Y=BC[\"CLASS\"] \n",
    "X.shape\n",
    "\n"
   ]
  },
  {
   "cell_type": "code",
   "execution_count": 121,
   "metadata": {},
   "outputs": [],
   "source": [
    "from sklearn.model_selection import train_test_split\n",
    "x_train, x_test, y_train, y_test = train_test_split(X, Y, \n",
    "                                                    test_size=0.25)\n"
   ]
  },
  {
   "cell_type": "code",
   "execution_count": 122,
   "metadata": {},
   "outputs": [
    {
     "data": {
      "text/plain": [
       "DecisionTreeClassifier(class_weight=None, criterion='gini', max_depth=None,\n",
       "                       max_features=None, max_leaf_nodes=None,\n",
       "                       min_impurity_decrease=0.0, min_impurity_split=None,\n",
       "                       min_samples_leaf=1, min_samples_split=2,\n",
       "                       min_weight_fraction_leaf=0.0, presort=False,\n",
       "                       random_state=0, splitter='best')"
      ]
     },
     "execution_count": 122,
     "metadata": {},
     "output_type": "execute_result"
    }
   ],
   "source": [
    "from sklearn.tree import DecisionTreeClassifier\n",
    "\n",
    "D_classifier= DecisionTreeClassifier(random_state=0) \n",
    "D_classifier.fit(x_train,y_train) \n",
    "\n"
   ]
  },
  {
   "cell_type": "code",
   "execution_count": 123,
   "metadata": {},
   "outputs": [],
   "source": [
    "y_pred=D_classifier.predict_proba(x_test)[:,1]\n",
    "\n",
    "\n",
    "\n",
    "new_y=[]\n",
    "for i in range (len(y_pred)):\n",
    "    if y_pred[i]<0.5:\n",
    "        new_y.append(0)\n",
    "    else:\n",
    "        new_y.append(1)\n",
    "\n"
   ]
  },
  {
   "cell_type": "code",
   "execution_count": 124,
   "metadata": {},
   "outputs": [
    {
     "data": {
      "text/plain": [
       "0.8426229508196721"
      ]
     },
     "execution_count": 124,
     "metadata": {},
     "output_type": "execute_result"
    }
   ],
   "source": [
    "from sklearn.metrics import accuracy_score\n",
    "\n",
    "\n",
    "accuracy_score(y_test,new_y)\n"
   ]
  },
  {
   "cell_type": "code",
   "execution_count": 125,
   "metadata": {},
   "outputs": [
    {
     "name": "stdout",
     "output_type": "stream",
     "text": [
      "mean_absolute_error is = 0.15737704918032788\n",
      "mean_squared_error is = 0.39670776294437177\n"
     ]
    }
   ],
   "source": [
    "from sklearn.metrics import mean_absolute_error\n",
    "from sklearn.metrics import mean_squared_error\n",
    "\n",
    "\n",
    "MAEVale=mean_absolute_error(y_test,y_pred,multioutput=\"uniform_average\")\n",
    "print(\"mean_absolute_error is =\",MAEVale)\n",
    "\n",
    "MSEVale=mean_squared_error(y_test,y_pred,multioutput=\"uniform_average\")\n",
    "RmseVal=np.sqrt(MSEVale)\n",
    "print(\"mean_squared_error is =\",RmseVal)\n",
    "\n"
   ]
  },
  {
   "cell_type": "code",
   "execution_count": 126,
   "metadata": {},
   "outputs": [
    {
     "name": "stdout",
     "output_type": "stream",
     "text": [
      "Decision Tree  classifiers  confusion_matrix\n",
      "Decision Tree classifier Trining Accurcy = 1.0\n",
      "Decision Tree classifier Testing Accurcy =  0.8426229508196721\n",
      "[[293  59]\n",
      " [ 37 221]]\n"
     ]
    },
    {
     "data": {
      "text/plain": [
       "Text(33.0, 0.5, 'Acutl')"
      ]
     },
     "execution_count": 126,
     "metadata": {},
     "output_type": "execute_result"
    },
    {
     "data": {
      "image/png": "[encoded data removed]",
      "text/plain": [
       "<Figure size 432x288 with 2 Axes>"
      ]
     },
     "metadata": {
      "needs_background": "light"
     },
     "output_type": "display_data"
    }
   ],
   "source": [
    "from sklearn.metrics import confusion_matrix\n",
    "\n",
    "print(\"Decision Tree  classifiers  confusion_matrix\")\n",
    "cm=confusion_matrix(y_test,new_y)\n",
    "TN=cm[0][0]\n",
    "TP=cm[1][1]\n",
    "FP=cm[0][1]\n",
    "FN=cm[1][0]\n",
    "\n",
    "print('Decision Tree classifier Trining Accurcy =',D_classifier.score(x_train,y_train) )\n",
    "print('Decision Tree classifier Testing Accurcy = ',(TP+TN)/(TP+TN+FP+FN))\n",
    "print(cm)\n",
    "sns.heatmap(cm,annot=True)\n",
    "plt.title(\"Decision Tree classifier confusion_matrix \")\n",
    "plt.xlabel(\"Predication\")\n",
    "plt.ylabel(\"Acutl\")\n"
   ]
  },
  {
   "cell_type": "code",
   "execution_count": 127,
   "metadata": {
    "scrolled": true
   },
   "outputs": [
    {
     "name": "stdout",
     "output_type": "stream",
     "text": [
      "classification_report Decision Tree\n",
      ".......................................\n",
      "              precision    recall  f1-score   support\n",
      "\n",
      "           0       0.89      0.83      0.86       352\n",
      "           1       0.79      0.86      0.82       258\n",
      "\n",
      "    accuracy                           0.84       610\n",
      "   macro avg       0.84      0.84      0.84       610\n",
      "weighted avg       0.85      0.84      0.84       610\n",
      "\n",
      "accuracy_score= 0.8426229508196721\n"
     ]
    }
   ],
   "source": [
    "### CLASSIFACTION Report\n",
    "\n",
    "from sklearn.metrics import classification_report\n",
    "from sklearn.metrics import accuracy_score\n",
    "\n",
    "y_pred=D_classifier.predict(x_test)\n",
    "print('classification_report Decision Tree')\n",
    "print('.......................................') \n",
    "\n",
    "print(classification_report(y_test,y_pred)) \n",
    "print(\"accuracy_score=\",accuracy_score(y_test,y_pred)) \n"
   ]
  },
  {
   "cell_type": "markdown",
   "metadata": {},
   "source": [
    "\n",
    "## Feature Selection by Percentile BY 65%\n"
   ]
  },
  {
   "cell_type": "code",
   "execution_count": 128,
   "metadata": {},
   "outputs": [],
   "source": [
    "#print('Original X Shape is ' , X.shape)\n",
    "FeatureSelection = SelectPercentile(score_func = f_classif, percentile=65) # score_func can = f_classif\n",
    "X = FeatureSelection.fit_transform(x, y)\n"
   ]
  },
  {
   "cell_type": "code",
   "execution_count": 129,
   "metadata": {},
   "outputs": [
    {
     "name": "stdout",
     "output_type": "stream",
     "text": [
      "Selected Features are :  [False  True  True  True False  True  True False  True False False  True\n",
      "  True  True  True  True  True  True  True False False False]\n"
     ]
    },
    {
     "data": {
      "text/plain": [
       "Index(['Age', 'Adress', 'FBS', 'Creatinin', 'ALB', 'GPT', 'CA15', 'CEA', 'WBC',\n",
       "       'RBC', 'HGB', 'PLT', 'ESR', 'LDH'],\n",
       "      dtype='object')"
      ]
     },
     "execution_count": 129,
     "metadata": {},
     "output_type": "execute_result"
    }
   ],
   "source": [
    "#showing X Dimension \n",
    "#print('X Shape is ' , X.shape)\n",
    "print('Selected Features are : ' , FeatureSelection.get_support())\n",
    "\n",
    "x.columns[FeatureSelection.get_support()]\n",
    "\n"
   ]
  },
  {
   "cell_type": "code",
   "execution_count": 130,
   "metadata": {},
   "outputs": [
    {
     "data": {
      "text/plain": [
       "(2437, 14)"
      ]
     },
     "execution_count": 130,
     "metadata": {},
     "output_type": "execute_result"
    }
   ],
   "source": [
    "X=BC.drop([\"CLASS\",\"Sex\",\"Urea\",\"TCa\",\"GOT\",\"ALP\",\"K\",\"Na\",\"CL\"],axis=1)\n",
    "Y=BC[\"CLASS\"] \n",
    "X.shape\n",
    "\n",
    "\n"
   ]
  },
  {
   "cell_type": "code",
   "execution_count": 131,
   "metadata": {},
   "outputs": [],
   "source": [
    "\n",
    "from sklearn.model_selection import train_test_split\n",
    "x_train, x_test, y_train, y_test = train_test_split(X, Y, \n",
    "                                                    test_size=0.25)\n",
    "\n"
   ]
  },
  {
   "cell_type": "code",
   "execution_count": 132,
   "metadata": {},
   "outputs": [
    {
     "data": {
      "text/plain": [
       "DecisionTreeClassifier(class_weight=None, criterion='gini', max_depth=None,\n",
       "                       max_features=None, max_leaf_nodes=None,\n",
       "                       min_impurity_decrease=0.0, min_impurity_split=None,\n",
       "                       min_samples_leaf=1, min_samples_split=2,\n",
       "                       min_weight_fraction_leaf=0.0, presort=False,\n",
       "                       random_state=0, splitter='best')"
      ]
     },
     "execution_count": 132,
     "metadata": {},
     "output_type": "execute_result"
    }
   ],
   "source": [
    "from sklearn.tree import DecisionTreeClassifier\n",
    "\n",
    "D_classifier= DecisionTreeClassifier(random_state=0) \n",
    "D_classifier.fit(x_train,y_train) \n",
    "\n",
    "\n"
   ]
  },
  {
   "cell_type": "code",
   "execution_count": 133,
   "metadata": {},
   "outputs": [],
   "source": [
    "y_pred=D_classifier.predict_proba(x_test)[:,1]\n",
    "\n",
    "\n",
    "\n",
    "new_y=[]\n",
    "for i in range (len(y_pred)):\n",
    "    if y_pred[i]<0.5:\n",
    "        new_y.append(0)\n",
    "    else:\n",
    "        new_y.append(1)\n",
    "\n"
   ]
  },
  {
   "cell_type": "code",
   "execution_count": 134,
   "metadata": {},
   "outputs": [
    {
     "data": {
      "text/plain": [
       "0.8557377049180328"
      ]
     },
     "execution_count": 134,
     "metadata": {},
     "output_type": "execute_result"
    }
   ],
   "source": [
    "from sklearn.metrics import accuracy_score\n",
    "\n",
    "\n",
    "accuracy_score(y_test,new_y)\n"
   ]
  },
  {
   "cell_type": "code",
   "execution_count": 135,
   "metadata": {},
   "outputs": [
    {
     "name": "stdout",
     "output_type": "stream",
     "text": [
      "mean_absolute_error is = 0.14426229508196722\n",
      "mean_squared_error is = 0.3798187661003169\n"
     ]
    }
   ],
   "source": [
    "from sklearn.metrics import mean_absolute_error\n",
    "from sklearn.metrics import mean_squared_error\n",
    "\n",
    "\n",
    "MAEVale=mean_absolute_error(y_test,y_pred,multioutput=\"uniform_average\")\n",
    "print(\"mean_absolute_error is =\",MAEVale)\n",
    "\n",
    "MSEVale=mean_squared_error(y_test,y_pred,multioutput=\"uniform_average\")\n",
    "RmseVal=np.sqrt(MSEVale)\n",
    "print(\"mean_squared_error is =\",RmseVal)\n"
   ]
  },
  {
   "cell_type": "code",
   "execution_count": 136,
   "metadata": {},
   "outputs": [
    {
     "name": "stdout",
     "output_type": "stream",
     "text": [
      "Decision Tree  classifiers  confusion_matrix\n",
      "Decision Tree classifier Trining Accurcy = 1.0\n",
      "Decision Tree classifier Testing Accurcy =  0.8557377049180328\n",
      "[[295  35]\n",
      " [ 53 227]]\n"
     ]
    },
    {
     "data": {
      "text/plain": [
       "Text(33.0, 0.5, 'Acutl')"
      ]
     },
     "execution_count": 136,
     "metadata": {},
     "output_type": "execute_result"
    },
    {
     "data": {
      "image/png": "[encoded data removed]",
      "text/plain": [
       "<Figure size 432x288 with 2 Axes>"
      ]
     },
     "metadata": {
      "needs_background": "light"
     },
     "output_type": "display_data"
    }
   ],
   "source": [
    "from sklearn.metrics import confusion_matrix\n",
    "\n",
    "print(\"Decision Tree  classifiers  confusion_matrix\")\n",
    "cm=confusion_matrix(y_test,new_y)\n",
    "TN=cm[0][0]\n",
    "TP=cm[1][1]\n",
    "FP=cm[0][1]\n",
    "FN=cm[1][0]\n",
    "\n",
    "print('Decision Tree classifier Trining Accurcy =',D_classifier.score(x_train,y_train) )\n",
    "print('Decision Tree classifier Testing Accurcy = ',(TP+TN)/(TP+TN+FP+FN))\n",
    "print(cm)\n",
    "sns.heatmap(cm,annot=True)\n",
    "plt.title(\"Decision Tree classifier confusion_matrix \")\n",
    "plt.xlabel(\"Predication\")\n",
    "plt.ylabel(\"Acutl\")\n"
   ]
  },
  {
   "cell_type": "code",
   "execution_count": 137,
   "metadata": {},
   "outputs": [
    {
     "name": "stdout",
     "output_type": "stream",
     "text": [
      "classification_report Decision Tree\n",
      ".......................................\n",
      "              precision    recall  f1-score   support\n",
      "\n",
      "           0       0.85      0.89      0.87       330\n",
      "           1       0.87      0.81      0.84       280\n",
      "\n",
      "    accuracy                           0.86       610\n",
      "   macro avg       0.86      0.85      0.85       610\n",
      "weighted avg       0.86      0.86      0.86       610\n",
      "\n",
      "accuracy_score= 0.8557377049180328\n"
     ]
    }
   ],
   "source": [
    "### CLASSIFACTION Report\n",
    "\n",
    "from sklearn.metrics import classification_report\n",
    "from sklearn.metrics import accuracy_score\n",
    "\n",
    "y_pred=D_classifier.predict(x_test)\n",
    "print('classification_report Decision Tree')\n",
    "print('.......................................') \n",
    "\n",
    "print(classification_report(y_test,y_pred)) \n",
    "print(\"accuracy_score=\",accuracy_score(y_test,y_pred)) \n"
   ]
  },
  {
   "cell_type": "markdown",
   "metadata": {},
   "source": [
    "## Feature Selection by Percentile BY 70%"
   ]
  },
  {
   "cell_type": "code",
   "execution_count": 138,
   "metadata": {},
   "outputs": [],
   "source": [
    "#print('Original X Shape is ' , X.shape)\n",
    "FeatureSelection = SelectPercentile(score_func = f_classif, percentile=70) # score_func can = f_classif\n",
    "X = FeatureSelection.fit_transform(x, y)\n"
   ]
  },
  {
   "cell_type": "code",
   "execution_count": 139,
   "metadata": {},
   "outputs": [
    {
     "name": "stdout",
     "output_type": "stream",
     "text": [
      "Selected Features are :  [False  True  True  True False  True  True False  True  True False  True\n",
      "  True  True  True  True  True  True  True False False False]\n"
     ]
    },
    {
     "data": {
      "text/plain": [
       "Index(['Age', 'Adress', 'FBS', 'Creatinin', 'ALB', 'GPT', 'GOT', 'CA15', 'CEA',\n",
       "       'WBC', 'RBC', 'HGB', 'PLT', 'ESR', 'LDH'],\n",
       "      dtype='object')"
      ]
     },
     "execution_count": 139,
     "metadata": {},
     "output_type": "execute_result"
    }
   ],
   "source": [
    "#showing X Dimension \n",
    "#print('X Shape is ' , X.shape)\n",
    "print('Selected Features are : ' , FeatureSelection.get_support())\n",
    "\n",
    "x.columns[FeatureSelection.get_support()]\n",
    "\n"
   ]
  },
  {
   "cell_type": "code",
   "execution_count": 140,
   "metadata": {},
   "outputs": [
    {
     "data": {
      "text/plain": [
       "(2437, 15)"
      ]
     },
     "execution_count": 140,
     "metadata": {},
     "output_type": "execute_result"
    }
   ],
   "source": [
    "X=BC.drop([\"CLASS\",\"Sex\",\"Urea\",\"TCa\",\"ALP\",\"K\",\"Na\",\"CL\"],axis=1)\n",
    "Y=BC[\"CLASS\"] \n",
    "X.shape\n",
    "\n",
    "\n",
    "\n"
   ]
  },
  {
   "cell_type": "code",
   "execution_count": 141,
   "metadata": {},
   "outputs": [],
   "source": [
    "from sklearn.model_selection import train_test_split\n",
    "x_train, x_test, y_train, y_test = train_test_split(X, Y, \n",
    "                                                    test_size=0.25)\n"
   ]
  },
  {
   "cell_type": "code",
   "execution_count": 142,
   "metadata": {},
   "outputs": [
    {
     "data": {
      "text/plain": [
       "DecisionTreeClassifier(class_weight=None, criterion='gini', max_depth=None,\n",
       "                       max_features=None, max_leaf_nodes=None,\n",
       "                       min_impurity_decrease=0.0, min_impurity_split=None,\n",
       "                       min_samples_leaf=1, min_samples_split=2,\n",
       "                       min_weight_fraction_leaf=0.0, presort=False,\n",
       "                       random_state=0, splitter='best')"
      ]
     },
     "execution_count": 142,
     "metadata": {},
     "output_type": "execute_result"
    }
   ],
   "source": [
    "from sklearn.tree import DecisionTreeClassifier\n",
    "\n",
    "D_classifier= DecisionTreeClassifier(random_state=0) \n",
    "D_classifier.fit(x_train,y_train) \n",
    "\n"
   ]
  },
  {
   "cell_type": "code",
   "execution_count": 143,
   "metadata": {},
   "outputs": [],
   "source": [
    "y_pred=D_classifier.predict_proba(x_test)[:,1]\n",
    "\n",
    "\n",
    "\n",
    "new_y=[]\n",
    "for i in range (len(y_pred)):\n",
    "    if y_pred[i]<0.5:\n",
    "        new_y.append(0)\n",
    "    else:\n",
    "        new_y.append(1)\n",
    "\n"
   ]
  },
  {
   "cell_type": "code",
   "execution_count": 144,
   "metadata": {},
   "outputs": [
    {
     "data": {
      "text/plain": [
       "0.8770491803278688"
      ]
     },
     "execution_count": 144,
     "metadata": {},
     "output_type": "execute_result"
    }
   ],
   "source": [
    "from sklearn.metrics import accuracy_score\n",
    "\n",
    "\n",
    "accuracy_score(y_test,new_y)\n",
    "\n"
   ]
  },
  {
   "cell_type": "code",
   "execution_count": 145,
   "metadata": {},
   "outputs": [
    {
     "name": "stdout",
     "output_type": "stream",
     "text": [
      "mean_absolute_error is = 0.12295081967213115\n",
      "mean_squared_error is = 0.35064343665913833\n"
     ]
    }
   ],
   "source": [
    "from sklearn.metrics import mean_absolute_error\n",
    "from sklearn.metrics import mean_squared_error\n",
    "\n",
    "\n",
    "MAEVale=mean_absolute_error(y_test,y_pred,multioutput=\"uniform_average\")\n",
    "print(\"mean_absolute_error is =\",MAEVale)\n",
    "\n",
    "MSEVale=mean_squared_error(y_test,y_pred,multioutput=\"uniform_average\")\n",
    "RmseVal=np.sqrt(MSEVale)\n",
    "print(\"mean_squared_error is =\",RmseVal)\n"
   ]
  },
  {
   "cell_type": "code",
   "execution_count": 146,
   "metadata": {},
   "outputs": [
    {
     "name": "stdout",
     "output_type": "stream",
     "text": [
      "Decision Tree  classifiers  confusion_matrix\n",
      "Decision Tree classifier Trining Accurcy = 1.0\n",
      "Decision Tree classifier Testing Accurcy =  0.8770491803278688\n",
      "[[311  34]\n",
      " [ 41 224]]\n"
     ]
    },
    {
     "data": {
      "text/plain": [
       "Text(33.0, 0.5, 'Acutl')"
      ]
     },
     "execution_count": 146,
     "metadata": {},
     "output_type": "execute_result"
    },
    {
     "data": {
      "image/png": "[encoded data removed]",
      "text/plain": [
       "<Figure size 432x288 with 2 Axes>"
      ]
     },
     "metadata": {
      "needs_background": "light"
     },
     "output_type": "display_data"
    }
   ],
   "source": [
    "from sklearn.metrics import confusion_matrix\n",
    "\n",
    "print(\"Decision Tree  classifiers  confusion_matrix\")\n",
    "cm=confusion_matrix(y_test,new_y)\n",
    "TN=cm[0][0]\n",
    "TP=cm[1][1]\n",
    "FP=cm[0][1]\n",
    "FN=cm[1][0]\n",
    "\n",
    "print('Decision Tree classifier Trining Accurcy =',D_classifier.score(x_train,y_train) )\n",
    "print('Decision Tree classifier Testing Accurcy = ',(TP+TN)/(TP+TN+FP+FN))\n",
    "print(cm)\n",
    "sns.heatmap(cm,annot=True)\n",
    "plt.title(\"Decision Tree classifier confusion_matrix \")\n",
    "plt.xlabel(\"Predication\")\n",
    "plt.ylabel(\"Acutl\")\n",
    "\n"
   ]
  },
  {
   "cell_type": "code",
   "execution_count": 147,
   "metadata": {},
   "outputs": [
    {
     "name": "stdout",
     "output_type": "stream",
     "text": [
      "classification_report Decision Tree\n",
      ".......................................\n",
      "              precision    recall  f1-score   support\n",
      "\n",
      "           0       0.88      0.90      0.89       345\n",
      "           1       0.87      0.85      0.86       265\n",
      "\n",
      "    accuracy                           0.88       610\n",
      "   macro avg       0.88      0.87      0.87       610\n",
      "weighted avg       0.88      0.88      0.88       610\n",
      "\n",
      "accuracy_score= 0.8770491803278688\n"
     ]
    }
   ],
   "source": [
    "### CLASSIFACTION Report\n",
    "\n",
    "from sklearn.metrics import classification_report\n",
    "from sklearn.metrics import accuracy_score\n",
    "\n",
    "y_pred=D_classifier.predict(x_test)\n",
    "print('classification_report Decision Tree')\n",
    "print('.......................................') \n",
    "\n",
    "print(classification_report(y_test,y_pred)) \n",
    "print(\"accuracy_score=\",accuracy_score(y_test,y_pred)) \n",
    "\n"
   ]
  },
  {
   "cell_type": "markdown",
   "metadata": {},
   "source": [
    "## Feature Selection by Percentile BY 75%"
   ]
  },
  {
   "cell_type": "code",
   "execution_count": 148,
   "metadata": {},
   "outputs": [],
   "source": [
    "#print('Original X Shape is ' , X.shape)\n",
    "FeatureSelection = SelectPercentile(score_func = f_classif, percentile=75) # score_func can = f_classif\n",
    "X = FeatureSelection.fit_transform(x, y)\n"
   ]
  },
  {
   "cell_type": "code",
   "execution_count": 149,
   "metadata": {},
   "outputs": [
    {
     "name": "stdout",
     "output_type": "stream",
     "text": [
      "Selected Features are :  [False  True  True  True  True  True  True False  True  True False  True\n",
      "  True  True  True  True  True  True  True False False False]\n"
     ]
    },
    {
     "data": {
      "text/plain": [
       "Index(['Age', 'Adress', 'FBS', 'Urea', 'Creatinin', 'ALB', 'GPT', 'GOT',\n",
       "       'CA15', 'CEA', 'WBC', 'RBC', 'HGB', 'PLT', 'ESR', 'LDH'],\n",
       "      dtype='object')"
      ]
     },
     "execution_count": 149,
     "metadata": {},
     "output_type": "execute_result"
    }
   ],
   "source": [
    "#showing X Dimension \n",
    "#print('X Shape is ' , X.shape)\n",
    "print('Selected Features are : ' , FeatureSelection.get_support())\n",
    "\n",
    "x.columns[FeatureSelection.get_support()]\n"
   ]
  },
  {
   "cell_type": "code",
   "execution_count": 150,
   "metadata": {},
   "outputs": [
    {
     "data": {
      "text/plain": [
       "(2437, 16)"
      ]
     },
     "execution_count": 150,
     "metadata": {},
     "output_type": "execute_result"
    }
   ],
   "source": [
    "X=BC.drop([\"CLASS\",\"Sex\",\"TCa\",\"ALP\",\"K\",\"Na\",\"CL\"],axis=1)\n",
    "Y=BC[\"CLASS\"] \n",
    "X.shape\n",
    "\n"
   ]
  },
  {
   "cell_type": "code",
   "execution_count": 151,
   "metadata": {},
   "outputs": [],
   "source": [
    "from sklearn.model_selection import train_test_split\n",
    "x_train, x_test, y_train, y_test = train_test_split(X, Y, \n",
    "                                                    test_size=0.25)\n"
   ]
  },
  {
   "cell_type": "code",
   "execution_count": 152,
   "metadata": {},
   "outputs": [
    {
     "data": {
      "text/plain": [
       "DecisionTreeClassifier(class_weight=None, criterion='gini', max_depth=None,\n",
       "                       max_features=None, max_leaf_nodes=None,\n",
       "                       min_impurity_decrease=0.0, min_impurity_split=None,\n",
       "                       min_samples_leaf=1, min_samples_split=2,\n",
       "                       min_weight_fraction_leaf=0.0, presort=False,\n",
       "                       random_state=0, splitter='best')"
      ]
     },
     "execution_count": 152,
     "metadata": {},
     "output_type": "execute_result"
    }
   ],
   "source": [
    "from sklearn.tree import DecisionTreeClassifier\n",
    "\n",
    "D_classifier= DecisionTreeClassifier(random_state=0) \n",
    "D_classifier.fit(x_train,y_train) \n"
   ]
  },
  {
   "cell_type": "code",
   "execution_count": 153,
   "metadata": {},
   "outputs": [],
   "source": [
    "y_pred=D_classifier.predict_proba(x_test)[:,1]\n",
    "\n",
    "\n",
    "\n",
    "new_y=[]\n",
    "for i in range (len(y_pred)):\n",
    "    if y_pred[i]<0.5:\n",
    "        new_y.append(0)\n",
    "    else:\n",
    "        new_y.append(1)\n"
   ]
  },
  {
   "cell_type": "code",
   "execution_count": 154,
   "metadata": {},
   "outputs": [
    {
     "data": {
      "text/plain": [
       "0.8508196721311475"
      ]
     },
     "execution_count": 154,
     "metadata": {},
     "output_type": "execute_result"
    }
   ],
   "source": [
    "from sklearn.metrics import accuracy_score\n",
    "\n",
    "\n",
    "accuracy_score(y_test,new_y)\n",
    "\n"
   ]
  },
  {
   "cell_type": "code",
   "execution_count": 155,
   "metadata": {},
   "outputs": [
    {
     "name": "stdout",
     "output_type": "stream",
     "text": [
      "mean_absolute_error is = 0.14918032786885246\n",
      "mean_squared_error is = 0.38623869286861\n"
     ]
    }
   ],
   "source": [
    "from sklearn.metrics import mean_absolute_error\n",
    "from sklearn.metrics import mean_squared_error\n",
    "\n",
    "\n",
    "MAEVale=mean_absolute_error(y_test,y_pred,multioutput=\"uniform_average\")\n",
    "print(\"mean_absolute_error is =\",MAEVale)\n",
    "\n",
    "MSEVale=mean_squared_error(y_test,y_pred,multioutput=\"uniform_average\")\n",
    "RmseVal=np.sqrt(MSEVale)\n",
    "print(\"mean_squared_error is =\",RmseVal)\n"
   ]
  },
  {
   "cell_type": "code",
   "execution_count": 156,
   "metadata": {},
   "outputs": [
    {
     "name": "stdout",
     "output_type": "stream",
     "text": [
      "Decision Tree  classifiers  confusion_matrix\n",
      "Decision Tree classifier Trining Accurcy = 1.0\n",
      "Decision Tree classifier Testing Accurcy =  0.8508196721311475\n",
      "[[285  41]\n",
      " [ 50 234]]\n"
     ]
    },
    {
     "data": {
      "text/plain": [
       "Text(33.0, 0.5, 'Acutl')"
      ]
     },
     "execution_count": 156,
     "metadata": {},
     "output_type": "execute_result"
    },
    {
     "data": {
      "image/png": "[encoded data removed]",
      "text/plain": [
       "<Figure size 432x288 with 2 Axes>"
      ]
     },
     "metadata": {
      "needs_background": "light"
     },
     "output_type": "display_data"
    }
   ],
   "source": [
    "from sklearn.metrics import confusion_matrix\n",
    "\n",
    "print(\"Decision Tree  classifiers  confusion_matrix\")\n",
    "cm=confusion_matrix(y_test,new_y)\n",
    "TN=cm[0][0]\n",
    "TP=cm[1][1]\n",
    "FP=cm[0][1]\n",
    "FN=cm[1][0]\n",
    "\n",
    "print('Decision Tree classifier Trining Accurcy =',D_classifier.score(x_train,y_train) )\n",
    "print('Decision Tree classifier Testing Accurcy = ',(TP+TN)/(TP+TN+FP+FN))\n",
    "print(cm)\n",
    "sns.heatmap(cm,annot=True)\n",
    "plt.title(\"Decision Tree classifier confusion_matrix \")\n",
    "plt.xlabel(\"Predication\")\n",
    "plt.ylabel(\"Acutl\")\n"
   ]
  },
  {
   "cell_type": "code",
   "execution_count": 157,
   "metadata": {},
   "outputs": [
    {
     "name": "stdout",
     "output_type": "stream",
     "text": [
      "classification_report Decision Tree\n",
      ".......................................\n",
      "              precision    recall  f1-score   support\n",
      "\n",
      "           0       0.85      0.87      0.86       326\n",
      "           1       0.85      0.82      0.84       284\n",
      "\n",
      "    accuracy                           0.85       610\n",
      "   macro avg       0.85      0.85      0.85       610\n",
      "weighted avg       0.85      0.85      0.85       610\n",
      "\n",
      "accuracy_score= 0.8508196721311475\n"
     ]
    }
   ],
   "source": [
    "### CLASSIFACTION Report\n",
    "\n",
    "from sklearn.metrics import classification_report\n",
    "from sklearn.metrics import accuracy_score\n",
    "\n",
    "y_pred=D_classifier.predict(x_test)\n",
    "print('classification_report Decision Tree')\n",
    "print('.......................................') \n",
    "\n",
    "print(classification_report(y_test,y_pred)) \n",
    "print(\"accuracy_score=\",accuracy_score(y_test,y_pred)) \n",
    "\n"
   ]
  },
  {
   "cell_type": "markdown",
   "metadata": {},
   "source": [
    "## Feature Selection by Percentile BY 80%"
   ]
  },
  {
   "cell_type": "code",
   "execution_count": 158,
   "metadata": {},
   "outputs": [],
   "source": [
    "#print('Original X Shape is ' , X.shape)\n",
    "FeatureSelection = SelectPercentile(score_func = f_classif, percentile=80) # score_func can = f_classif\n",
    "X = FeatureSelection.fit_transform(x, y)\n",
    "\n"
   ]
  },
  {
   "cell_type": "code",
   "execution_count": 159,
   "metadata": {},
   "outputs": [
    {
     "name": "stdout",
     "output_type": "stream",
     "text": [
      "Selected Features are :  [False  True  True  True  True  True  True False  True  True  True  True\n",
      "  True  True  True  True  True  True  True False False False]\n"
     ]
    },
    {
     "data": {
      "text/plain": [
       "Index(['Age', 'Adress', 'FBS', 'Urea', 'Creatinin', 'ALB', 'GPT', 'GOT', 'ALP',\n",
       "       'CA15', 'CEA', 'WBC', 'RBC', 'HGB', 'PLT', 'ESR', 'LDH'],\n",
       "      dtype='object')"
      ]
     },
     "execution_count": 159,
     "metadata": {},
     "output_type": "execute_result"
    }
   ],
   "source": [
    "#showing X Dimension \n",
    "#print('X Shape is ' , X.shape)\n",
    "print('Selected Features are : ' , FeatureSelection.get_support())\n",
    "\n",
    "x.columns[FeatureSelection.get_support()]\n"
   ]
  },
  {
   "cell_type": "code",
   "execution_count": 160,
   "metadata": {},
   "outputs": [
    {
     "data": {
      "text/plain": [
       "(2437, 17)"
      ]
     },
     "execution_count": 160,
     "metadata": {},
     "output_type": "execute_result"
    }
   ],
   "source": [
    "X=BC.drop([\"CLASS\",\"Sex\",\"TCa\",\"K\",\"Na\",\"CL\"],axis=1)\n",
    "Y=BC[\"CLASS\"] \n",
    "X.shape\n"
   ]
  },
  {
   "cell_type": "code",
   "execution_count": 161,
   "metadata": {},
   "outputs": [],
   "source": [
    "\n",
    "from sklearn.model_selection import train_test_split\n",
    "x_train, x_test, y_train, y_test = train_test_split(X, Y, \n",
    "                                                    test_size=0.25)\n"
   ]
  },
  {
   "cell_type": "code",
   "execution_count": 162,
   "metadata": {},
   "outputs": [
    {
     "data": {
      "text/plain": [
       "DecisionTreeClassifier(class_weight=None, criterion='gini', max_depth=None,\n",
       "                       max_features=None, max_leaf_nodes=None,\n",
       "                       min_impurity_decrease=0.0, min_impurity_split=None,\n",
       "                       min_samples_leaf=1, min_samples_split=2,\n",
       "                       min_weight_fraction_leaf=0.0, presort=False,\n",
       "                       random_state=0, splitter='best')"
      ]
     },
     "execution_count": 162,
     "metadata": {},
     "output_type": "execute_result"
    }
   ],
   "source": [
    "from sklearn.tree import DecisionTreeClassifier\n",
    "\n",
    "D_classifier= DecisionTreeClassifier(random_state=0) \n",
    "D_classifier.fit(x_train,y_train) \n"
   ]
  },
  {
   "cell_type": "code",
   "execution_count": 163,
   "metadata": {},
   "outputs": [],
   "source": [
    "y_pred=D_classifier.predict_proba(x_test)[:,1]\n",
    "\n",
    "\n",
    "\n",
    "new_y=[]\n",
    "for i in range (len(y_pred)):\n",
    "    if y_pred[i]<0.5:\n",
    "        new_y.append(0)\n",
    "    else:\n",
    "        new_y.append(1)\n"
   ]
  },
  {
   "cell_type": "code",
   "execution_count": 164,
   "metadata": {},
   "outputs": [
    {
     "data": {
      "text/plain": [
       "0.8754098360655738"
      ]
     },
     "execution_count": 164,
     "metadata": {},
     "output_type": "execute_result"
    }
   ],
   "source": [
    "from sklearn.metrics import accuracy_score\n",
    "\n",
    "\n",
    "accuracy_score(y_test,new_y)\n",
    "\n"
   ]
  },
  {
   "cell_type": "code",
   "execution_count": 165,
   "metadata": {},
   "outputs": [
    {
     "name": "stdout",
     "output_type": "stream",
     "text": [
      "mean_absolute_error is = 0.12459016393442623\n",
      "mean_squared_error is = 0.35297331901211204\n"
     ]
    }
   ],
   "source": [
    "from sklearn.metrics import mean_absolute_error\n",
    "from sklearn.metrics import mean_squared_error\n",
    "\n",
    "\n",
    "MAEVale=mean_absolute_error(y_test,y_pred,multioutput=\"uniform_average\")\n",
    "print(\"mean_absolute_error is =\",MAEVale)\n",
    "\n",
    "MSEVale=mean_squared_error(y_test,y_pred,multioutput=\"uniform_average\")\n",
    "RmseVal=np.sqrt(MSEVale)\n",
    "print(\"mean_squared_error is =\",RmseVal)\n",
    "\n"
   ]
  },
  {
   "cell_type": "code",
   "execution_count": 166,
   "metadata": {},
   "outputs": [
    {
     "name": "stdout",
     "output_type": "stream",
     "text": [
      "Decision Tree  classifiers  confusion_matrix\n",
      "Decision Tree classifier Trining Accurcy = 1.0\n",
      "Decision Tree classifier Testing Accurcy =  0.8754098360655738\n",
      "[[301  44]\n",
      " [ 32 233]]\n"
     ]
    },
    {
     "data": {
      "text/plain": [
       "Text(33.0, 0.5, 'Acutl')"
      ]
     },
     "execution_count": 166,
     "metadata": {},
     "output_type": "execute_result"
    },
    {
     "data": {
      "image/png": "[encoded data removed]",
      "text/plain": [
       "<Figure size 432x288 with 2 Axes>"
      ]
     },
     "metadata": {
      "needs_background": "light"
     },
     "output_type": "display_data"
    }
   ],
   "source": [
    "\n",
    "from sklearn.metrics import confusion_matrix\n",
    "\n",
    "print(\"Decision Tree  classifiers  confusion_matrix\")\n",
    "cm=confusion_matrix(y_test,new_y)\n",
    "TN=cm[0][0]\n",
    "TP=cm[1][1]\n",
    "FP=cm[0][1]\n",
    "FN=cm[1][0]\n",
    "\n",
    "print('Decision Tree classifier Trining Accurcy =',D_classifier.score(x_train,y_train) )\n",
    "print('Decision Tree classifier Testing Accurcy = ',(TP+TN)/(TP+TN+FP+FN))\n",
    "print(cm)\n",
    "sns.heatmap(cm,annot=True)\n",
    "plt.title(\"Decision Tree classifier confusion_matrix \")\n",
    "plt.xlabel(\"Predication\")\n",
    "plt.ylabel(\"Acutl\")\n"
   ]
  },
  {
   "cell_type": "code",
   "execution_count": 167,
   "metadata": {},
   "outputs": [
    {
     "name": "stdout",
     "output_type": "stream",
     "text": [
      "classification_report Decision Tree\n",
      ".......................................\n",
      "              precision    recall  f1-score   support\n",
      "\n",
      "           0       0.90      0.87      0.89       345\n",
      "           1       0.84      0.88      0.86       265\n",
      "\n",
      "    accuracy                           0.88       610\n",
      "   macro avg       0.87      0.88      0.87       610\n",
      "weighted avg       0.88      0.88      0.88       610\n",
      "\n",
      "accuracy_score= 0.8754098360655738\n"
     ]
    }
   ],
   "source": [
    "### CLASSIFACTION Report\n",
    "\n",
    "from sklearn.metrics import classification_report\n",
    "from sklearn.metrics import accuracy_score\n",
    "\n",
    "y_pred=D_classifier.predict(x_test)\n",
    "print('classification_report Decision Tree')\n",
    "print('.......................................') \n",
    "\n",
    "print(classification_report(y_test,y_pred)) \n",
    "print(\"accuracy_score=\",accuracy_score(y_test,y_pred)) \n",
    "\n"
   ]
  },
  {
   "cell_type": "markdown",
   "metadata": {},
   "source": [
    "## Feature Selection by Percentile BY 85%"
   ]
  },
  {
   "cell_type": "code",
   "execution_count": 168,
   "metadata": {},
   "outputs": [],
   "source": [
    "#print('Original X Shape is ' , X.shape)\n",
    "FeatureSelection = SelectPercentile(score_func = f_classif, percentile=85) # score_func can = f_classif\n",
    "X = FeatureSelection.fit_transform(x, y)\n",
    "\n"
   ]
  },
  {
   "cell_type": "code",
   "execution_count": 169,
   "metadata": {},
   "outputs": [
    {
     "name": "stdout",
     "output_type": "stream",
     "text": [
      "Selected Features are :  [False  True  True  True  True  True  True False  True  True  True  True\n",
      "  True  True  True  True  True  True  True  True False False]\n"
     ]
    },
    {
     "data": {
      "text/plain": [
       "Index(['Age', 'Adress', 'FBS', 'Urea', 'Creatinin', 'ALB', 'GPT', 'GOT', 'ALP',\n",
       "       'CA15', 'CEA', 'WBC', 'RBC', 'HGB', 'PLT', 'ESR', 'LDH', 'Na'],\n",
       "      dtype='object')"
      ]
     },
     "execution_count": 169,
     "metadata": {},
     "output_type": "execute_result"
    }
   ],
   "source": [
    "#showing X Dimension \n",
    "#print('X Shape is ' , X.shape)\n",
    "print('Selected Features are : ' , FeatureSelection.get_support())\n",
    "\n",
    "x.columns[FeatureSelection.get_support()]\n",
    "\n"
   ]
  },
  {
   "cell_type": "code",
   "execution_count": 171,
   "metadata": {},
   "outputs": [
    {
     "data": {
      "text/plain": [
       "(2437, 18)"
      ]
     },
     "execution_count": 171,
     "metadata": {},
     "output_type": "execute_result"
    }
   ],
   "source": [
    "X=BC.drop([\"CLASS\",\"Sex\",\"TCa\",\"K\",\"CL\"],axis=1)\n",
    "Y=BC[\"CLASS\"] \n",
    "X.shape\n",
    "\n"
   ]
  },
  {
   "cell_type": "code",
   "execution_count": 172,
   "metadata": {},
   "outputs": [],
   "source": [
    "from sklearn.model_selection import train_test_split\n",
    "x_train, x_test, y_train, y_test = train_test_split(X, Y, \n",
    "                                                    test_size=0.25)\n",
    "\n"
   ]
  },
  {
   "cell_type": "code",
   "execution_count": 173,
   "metadata": {},
   "outputs": [
    {
     "data": {
      "text/plain": [
       "DecisionTreeClassifier(class_weight=None, criterion='gini', max_depth=None,\n",
       "                       max_features=None, max_leaf_nodes=None,\n",
       "                       min_impurity_decrease=0.0, min_impurity_split=None,\n",
       "                       min_samples_leaf=1, min_samples_split=2,\n",
       "                       min_weight_fraction_leaf=0.0, presort=False,\n",
       "                       random_state=0, splitter='best')"
      ]
     },
     "execution_count": 173,
     "metadata": {},
     "output_type": "execute_result"
    }
   ],
   "source": [
    "from sklearn.tree import DecisionTreeClassifier\n",
    "\n",
    "D_classifier= DecisionTreeClassifier(random_state=0) \n",
    "D_classifier.fit(x_train,y_train) \n",
    "\n"
   ]
  },
  {
   "cell_type": "code",
   "execution_count": 174,
   "metadata": {},
   "outputs": [],
   "source": [
    "y_pred=D_classifier.predict_proba(x_test)[:,1]\n",
    "\n",
    "\n",
    "\n",
    "new_y=[]\n",
    "for i in range (len(y_pred)):\n",
    "    if y_pred[i]<0.5:\n",
    "        new_y.append(0)\n",
    "    else:\n",
    "        new_y.append(1)\n"
   ]
  },
  {
   "cell_type": "code",
   "execution_count": 175,
   "metadata": {},
   "outputs": [
    {
     "data": {
      "text/plain": [
       "0.8803278688524591"
      ]
     },
     "execution_count": 175,
     "metadata": {},
     "output_type": "execute_result"
    }
   ],
   "source": [
    "from sklearn.metrics import accuracy_score\n",
    "\n",
    "\n",
    "accuracy_score(y_test,new_y)\n",
    "\n"
   ]
  },
  {
   "cell_type": "code",
   "execution_count": 176,
   "metadata": {},
   "outputs": [
    {
     "name": "stdout",
     "output_type": "stream",
     "text": [
      "mean_absolute_error is = 0.11967213114754098\n",
      "mean_squared_error is = 0.3459365998959072\n"
     ]
    }
   ],
   "source": [
    "\n",
    "\n",
    "from sklearn.metrics import mean_absolute_error\n",
    "from sklearn.metrics import mean_squared_error\n",
    "\n",
    "\n",
    "MAEVale=mean_absolute_error(y_test,y_pred,multioutput=\"uniform_average\")\n",
    "print(\"mean_absolute_error is =\",MAEVale)\n",
    "\n",
    "MSEVale=mean_squared_error(y_test,y_pred,multioutput=\"uniform_average\")\n",
    "RmseVal=np.sqrt(MSEVale)\n",
    "print(\"mean_squared_error is =\",RmseVal)\n",
    "\n"
   ]
  },
  {
   "cell_type": "code",
   "execution_count": 177,
   "metadata": {},
   "outputs": [
    {
     "name": "stdout",
     "output_type": "stream",
     "text": [
      "Decision Tree  classifiers  confusion_matrix\n",
      "Decision Tree classifier Trining Accurcy = 1.0\n",
      "Decision Tree classifier Testing Accurcy =  0.8803278688524591\n",
      "[[289  33]\n",
      " [ 40 248]]\n"
     ]
    },
    {
     "data": {
      "text/plain": [
       "Text(33.0, 0.5, 'Acutl')"
      ]
     },
     "execution_count": 177,
     "metadata": {},
     "output_type": "execute_result"
    },
    {
     "data": {
      "image/png": "[encoded data removed]",
      "text/plain": [
       "<Figure size 432x288 with 2 Axes>"
      ]
     },
     "metadata": {
      "needs_background": "light"
     },
     "output_type": "display_data"
    }
   ],
   "source": [
    "from sklearn.metrics import confusion_matrix\n",
    "\n",
    "print(\"Decision Tree  classifiers  confusion_matrix\")\n",
    "cm=confusion_matrix(y_test,new_y)\n",
    "TN=cm[0][0]\n",
    "TP=cm[1][1]\n",
    "FP=cm[0][1]\n",
    "FN=cm[1][0]\n",
    "\n",
    "print('Decision Tree classifier Trining Accurcy =',D_classifier.score(x_train,y_train) )\n",
    "print('Decision Tree classifier Testing Accurcy = ',(TP+TN)/(TP+TN+FP+FN))\n",
    "print(cm)\n",
    "sns.heatmap(cm,annot=True)\n",
    "plt.title(\"Decision Tree classifier confusion_matrix \")\n",
    "plt.xlabel(\"Predication\")\n",
    "plt.ylabel(\"Acutl\")\n",
    "\n"
   ]
  },
  {
   "cell_type": "code",
   "execution_count": 178,
   "metadata": {},
   "outputs": [
    {
     "name": "stdout",
     "output_type": "stream",
     "text": [
      "classification_report Decision Tree\n",
      ".......................................\n",
      "              precision    recall  f1-score   support\n",
      "\n",
      "           0       0.88      0.90      0.89       322\n",
      "           1       0.88      0.86      0.87       288\n",
      "\n",
      "    accuracy                           0.88       610\n",
      "   macro avg       0.88      0.88      0.88       610\n",
      "weighted avg       0.88      0.88      0.88       610\n",
      "\n",
      "accuracy_score= 0.8803278688524591\n"
     ]
    }
   ],
   "source": [
    "\n",
    "\n",
    "### CLASSIFACTION Report\n",
    "\n",
    "from sklearn.metrics import classification_report\n",
    "from sklearn.metrics import accuracy_score\n",
    "\n",
    "y_pred=D_classifier.predict(x_test)\n",
    "print('classification_report Decision Tree')\n",
    "print('.......................................') \n",
    "\n",
    "print(classification_report(y_test,y_pred)) \n",
    "print(\"accuracy_score=\",accuracy_score(y_test,y_pred)) \n",
    "\n"
   ]
  },
  {
   "cell_type": "markdown",
   "metadata": {},
   "source": [
    "## Feature Selection by Percentile BY 90%"
   ]
  },
  {
   "cell_type": "code",
   "execution_count": 179,
   "metadata": {},
   "outputs": [],
   "source": [
    "#print('Original X Shape is ' , X.shape)\n",
    "FeatureSelection = SelectPercentile(score_func = f_classif, percentile=90) # score_func can = f_classif\n",
    "X = FeatureSelection.fit_transform(x, y)\n"
   ]
  },
  {
   "cell_type": "code",
   "execution_count": 180,
   "metadata": {},
   "outputs": [
    {
     "name": "stdout",
     "output_type": "stream",
     "text": [
      "Selected Features are :  [ True  True  True  True  True  True  True False  True  True  True  True\n",
      "  True  True  True  True  True  True  True  True False False]\n"
     ]
    },
    {
     "data": {
      "text/plain": [
       "Index(['Sex', 'Age', 'Adress', 'FBS', 'Urea', 'Creatinin', 'ALB', 'GPT', 'GOT',\n",
       "       'ALP', 'CA15', 'CEA', 'WBC', 'RBC', 'HGB', 'PLT', 'ESR', 'LDH', 'Na'],\n",
       "      dtype='object')"
      ]
     },
     "execution_count": 180,
     "metadata": {},
     "output_type": "execute_result"
    }
   ],
   "source": [
    "#showing X Dimension \n",
    "#print('X Shape is ' , X.shape)\n",
    "print('Selected Features are : ' , FeatureSelection.get_support())\n",
    "\n",
    "x.columns[FeatureSelection.get_support()]\n"
   ]
  },
  {
   "cell_type": "code",
   "execution_count": 182,
   "metadata": {},
   "outputs": [
    {
     "data": {
      "text/plain": [
       "(2437, 19)"
      ]
     },
     "execution_count": 182,
     "metadata": {},
     "output_type": "execute_result"
    }
   ],
   "source": [
    "X=BC.drop([\"CLASS\",\"TCa\",\"K\",\"CL\"],axis=1)\n",
    "Y=BC[\"CLASS\"] \n",
    "X.shape\n",
    "\n"
   ]
  },
  {
   "cell_type": "code",
   "execution_count": 183,
   "metadata": {},
   "outputs": [],
   "source": [
    "from sklearn.model_selection import train_test_split\n",
    "x_train, x_test, y_train, y_test = train_test_split(X, Y, \n",
    "                                                    test_size=0.25)\n",
    "\n"
   ]
  },
  {
   "cell_type": "code",
   "execution_count": 184,
   "metadata": {},
   "outputs": [
    {
     "data": {
      "text/plain": [
       "DecisionTreeClassifier(class_weight=None, criterion='gini', max_depth=None,\n",
       "                       max_features=None, max_leaf_nodes=None,\n",
       "                       min_impurity_decrease=0.0, min_impurity_split=None,\n",
       "                       min_samples_leaf=1, min_samples_split=2,\n",
       "                       min_weight_fraction_leaf=0.0, presort=False,\n",
       "                       random_state=0, splitter='best')"
      ]
     },
     "execution_count": 184,
     "metadata": {},
     "output_type": "execute_result"
    }
   ],
   "source": [
    "from sklearn.tree import DecisionTreeClassifier\n",
    "\n",
    "D_classifier= DecisionTreeClassifier(random_state=0) \n",
    "D_classifier.fit(x_train,y_train) \n",
    "\n"
   ]
  },
  {
   "cell_type": "code",
   "execution_count": 185,
   "metadata": {},
   "outputs": [],
   "source": [
    "y_pred=D_classifier.predict_proba(x_test)[:,1]\n",
    "\n",
    "\n",
    "\n",
    "new_y=[]\n",
    "for i in range (len(y_pred)):\n",
    "    if y_pred[i]<0.5:\n",
    "        new_y.append(0)\n",
    "    else:\n",
    "        new_y.append(1)\n",
    "\n"
   ]
  },
  {
   "cell_type": "code",
   "execution_count": 186,
   "metadata": {},
   "outputs": [
    {
     "data": {
      "text/plain": [
       "0.8868852459016393"
      ]
     },
     "execution_count": 186,
     "metadata": {},
     "output_type": "execute_result"
    }
   ],
   "source": [
    "from sklearn.metrics import accuracy_score\n",
    "\n",
    "\n",
    "accuracy_score(y_test,new_y)\n",
    "\n",
    "\n"
   ]
  },
  {
   "cell_type": "code",
   "execution_count": 187,
   "metadata": {},
   "outputs": [
    {
     "name": "stdout",
     "output_type": "stream",
     "text": [
      "mean_absolute_error is = 0.11311475409836065\n",
      "mean_squared_error is = 0.33632536939452046\n"
     ]
    }
   ],
   "source": [
    "from sklearn.metrics import mean_absolute_error\n",
    "from sklearn.metrics import mean_squared_error\n",
    "\n",
    "\n",
    "MAEVale=mean_absolute_error(y_test,y_pred,multioutput=\"uniform_average\")\n",
    "print(\"mean_absolute_error is =\",MAEVale)\n",
    "\n",
    "MSEVale=mean_squared_error(y_test,y_pred,multioutput=\"uniform_average\")\n",
    "RmseVal=np.sqrt(MSEVale)\n",
    "print(\"mean_squared_error is =\",RmseVal)\n"
   ]
  },
  {
   "cell_type": "code",
   "execution_count": 188,
   "metadata": {},
   "outputs": [
    {
     "name": "stdout",
     "output_type": "stream",
     "text": [
      "Decision Tree  classifiers  confusion_matrix\n",
      "Decision Tree classifier Trining Accurcy = 1.0\n",
      "Decision Tree classifier Testing Accurcy =  0.8868852459016393\n",
      "[[328  31]\n",
      " [ 38 213]]\n"
     ]
    },
    {
     "data": {
      "text/plain": [
       "Text(33.0, 0.5, 'Acutl')"
      ]
     },
     "execution_count": 188,
     "metadata": {},
     "output_type": "execute_result"
    },
    {
     "data": {
      "image/png": "[encoded data removed]",
      "text/plain": [
       "<Figure size 432x288 with 2 Axes>"
      ]
     },
     "metadata": {
      "needs_background": "light"
     },
     "output_type": "display_data"
    }
   ],
   "source": [
    "from sklearn.metrics import confusion_matrix\n",
    "\n",
    "print(\"Decision Tree  classifiers  confusion_matrix\")\n",
    "cm=confusion_matrix(y_test,new_y)\n",
    "TN=cm[0][0]\n",
    "TP=cm[1][1]\n",
    "FP=cm[0][1]\n",
    "FN=cm[1][0]\n",
    "\n",
    "print('Decision Tree classifier Trining Accurcy =',D_classifier.score(x_train,y_train) )\n",
    "print('Decision Tree classifier Testing Accurcy = ',(TP+TN)/(TP+TN+FP+FN))\n",
    "print(cm)\n",
    "sns.heatmap(cm,annot=True)\n",
    "plt.title(\"Decision Tree classifier confusion_matrix \")\n",
    "plt.xlabel(\"Predication\")\n",
    "plt.ylabel(\"Acutl\")\n",
    "\n"
   ]
  },
  {
   "cell_type": "code",
   "execution_count": 189,
   "metadata": {
    "scrolled": true
   },
   "outputs": [
    {
     "name": "stdout",
     "output_type": "stream",
     "text": [
      "classification_report Decision Tree\n",
      ".......................................\n",
      "              precision    recall  f1-score   support\n",
      "\n",
      "           0       0.90      0.91      0.90       359\n",
      "           1       0.87      0.85      0.86       251\n",
      "\n",
      "    accuracy                           0.89       610\n",
      "   macro avg       0.88      0.88      0.88       610\n",
      "weighted avg       0.89      0.89      0.89       610\n",
      "\n",
      "accuracy_score= 0.8868852459016393\n"
     ]
    }
   ],
   "source": [
    "### CLASSIFACTION Report\n",
    "\n",
    "from sklearn.metrics import classification_report\n",
    "from sklearn.metrics import accuracy_score\n",
    "\n",
    "y_pred=D_classifier.predict(x_test)\n",
    "print('classification_report Decision Tree')\n",
    "print('.......................................') \n",
    "\n",
    "print(classification_report(y_test,y_pred)) \n",
    "print(\"accuracy_score=\",accuracy_score(y_test,y_pred)) \n"
   ]
  },
  {
   "cell_type": "markdown",
   "metadata": {},
   "source": [
    "## Feature Selection by Percentile BY 95%"
   ]
  },
  {
   "cell_type": "code",
   "execution_count": 190,
   "metadata": {},
   "outputs": [],
   "source": [
    "#print('Original X Shape is ' , X.shape)\n",
    "FeatureSelection = SelectPercentile(score_func = f_classif, percentile=95) # score_func can = f_classif\n",
    "X = FeatureSelection.fit_transform(x, y)\n",
    "\n"
   ]
  },
  {
   "cell_type": "code",
   "execution_count": 191,
   "metadata": {},
   "outputs": [
    {
     "name": "stdout",
     "output_type": "stream",
     "text": [
      "Selected Features are :  [ True  True  True  True  True  True  True  True  True  True  True  True\n",
      "  True  True  True  True  True  True  True  True False False]\n"
     ]
    },
    {
     "data": {
      "text/plain": [
       "Index(['Sex', 'Age', 'Adress', 'FBS', 'Urea', 'Creatinin', 'ALB', 'TCa', 'GPT',\n",
       "       'GOT', 'ALP', 'CA15', 'CEA', 'WBC', 'RBC', 'HGB', 'PLT', 'ESR', 'LDH',\n",
       "       'Na'],\n",
       "      dtype='object')"
      ]
     },
     "execution_count": 191,
     "metadata": {},
     "output_type": "execute_result"
    }
   ],
   "source": [
    "#showing X Dimension \n",
    "#print('X Shape is ' , X.shape)\n",
    "print('Selected Features are : ' , FeatureSelection.get_support())\n",
    "\n",
    "x.columns[FeatureSelection.get_support()]\n"
   ]
  },
  {
   "cell_type": "code",
   "execution_count": 192,
   "metadata": {},
   "outputs": [
    {
     "data": {
      "text/plain": [
       "(2437, 20)"
      ]
     },
     "execution_count": 192,
     "metadata": {},
     "output_type": "execute_result"
    }
   ],
   "source": [
    "X=BC.drop([\"CLASS\",\"K\",\"CL\"],axis=1)\n",
    "Y=BC[\"CLASS\"] \n",
    "X.shape\n",
    "\n"
   ]
  },
  {
   "cell_type": "code",
   "execution_count": 193,
   "metadata": {},
   "outputs": [],
   "source": [
    "from sklearn.model_selection import train_test_split\n",
    "x_train, x_test, y_train, y_test = train_test_split(X, Y, \n",
    "                                                    test_size=0.25)\n"
   ]
  },
  {
   "cell_type": "code",
   "execution_count": 194,
   "metadata": {},
   "outputs": [
    {
     "data": {
      "text/plain": [
       "DecisionTreeClassifier(class_weight=None, criterion='gini', max_depth=None,\n",
       "                       max_features=None, max_leaf_nodes=None,\n",
       "                       min_impurity_decrease=0.0, min_impurity_split=None,\n",
       "                       min_samples_leaf=1, min_samples_split=2,\n",
       "                       min_weight_fraction_leaf=0.0, presort=False,\n",
       "                       random_state=0, splitter='best')"
      ]
     },
     "execution_count": 194,
     "metadata": {},
     "output_type": "execute_result"
    }
   ],
   "source": [
    "from sklearn.tree import DecisionTreeClassifier\n",
    "\n",
    "D_classifier= DecisionTreeClassifier(random_state=0) \n",
    "D_classifier.fit(x_train,y_train) \n"
   ]
  },
  {
   "cell_type": "code",
   "execution_count": 195,
   "metadata": {},
   "outputs": [],
   "source": [
    "y_pred=D_classifier.predict_proba(x_test)[:,1]\n",
    "\n",
    "\n",
    "\n",
    "new_y=[]\n",
    "for i in range (len(y_pred)):\n",
    "    if y_pred[i]<0.5:\n",
    "        new_y.append(0)\n",
    "    else:\n",
    "        new_y.append(1)"
   ]
  },
  {
   "cell_type": "code",
   "execution_count": 196,
   "metadata": {},
   "outputs": [
    {
     "data": {
      "text/plain": [
       "0.8754098360655738"
      ]
     },
     "execution_count": 196,
     "metadata": {},
     "output_type": "execute_result"
    }
   ],
   "source": [
    "from sklearn.metrics import accuracy_score\n",
    "\n",
    "\n",
    "accuracy_score(y_test,new_y)\n",
    "\n"
   ]
  },
  {
   "cell_type": "code",
   "execution_count": 197,
   "metadata": {},
   "outputs": [
    {
     "name": "stdout",
     "output_type": "stream",
     "text": [
      "mean_absolute_error is = 0.12459016393442623\n",
      "mean_squared_error is = 0.35297331901211204\n"
     ]
    }
   ],
   "source": [
    "\n",
    "from sklearn.metrics import mean_absolute_error\n",
    "from sklearn.metrics import mean_squared_error\n",
    "\n",
    "\n",
    "MAEVale=mean_absolute_error(y_test,y_pred,multioutput=\"uniform_average\")\n",
    "print(\"mean_absolute_error is =\",MAEVale)\n",
    "\n",
    "MSEVale=mean_squared_error(y_test,y_pred,multioutput=\"uniform_average\")\n",
    "RmseVal=np.sqrt(MSEVale)\n",
    "print(\"mean_squared_error is =\",RmseVal)\n"
   ]
  },
  {
   "cell_type": "code",
   "execution_count": 198,
   "metadata": {},
   "outputs": [
    {
     "name": "stdout",
     "output_type": "stream",
     "text": [
      "Decision Tree  classifiers  confusion_matrix\n",
      "Decision Tree classifier Trining Accurcy = 1.0\n",
      "Decision Tree classifier Testing Accurcy =  0.8754098360655738\n",
      "[[296  37]\n",
      " [ 39 238]]\n"
     ]
    },
    {
     "data": {
      "text/plain": [
       "Text(33.0, 0.5, 'Acutl')"
      ]
     },
     "execution_count": 198,
     "metadata": {},
     "output_type": "execute_result"
    },
    {
     "data": {
      "image/png": "[encoded data removed]",
      "text/plain": [
       "<Figure size 432x288 with 2 Axes>"
      ]
     },
     "metadata": {
      "needs_background": "light"
     },
     "output_type": "display_data"
    }
   ],
   "source": [
    "from sklearn.metrics import confusion_matrix\n",
    "\n",
    "print(\"Decision Tree  classifiers  confusion_matrix\")\n",
    "cm=confusion_matrix(y_test,new_y)\n",
    "TN=cm[0][0]\n",
    "TP=cm[1][1]\n",
    "FP=cm[0][1]\n",
    "FN=cm[1][0]\n",
    "\n",
    "print('Decision Tree classifier Trining Accurcy =',D_classifier.score(x_train,y_train) )\n",
    "print('Decision Tree classifier Testing Accurcy = ',(TP+TN)/(TP+TN+FP+FN))\n",
    "print(cm)\n",
    "sns.heatmap(cm,annot=True)\n",
    "plt.title(\"Decision Tree classifier confusion_matrix \")\n",
    "plt.xlabel(\"Predication\")\n",
    "plt.ylabel(\"Acutl\")\n"
   ]
  },
  {
   "cell_type": "code",
   "execution_count": 199,
   "metadata": {},
   "outputs": [
    {
     "name": "stdout",
     "output_type": "stream",
     "text": [
      "classification_report Decision Tree\n",
      ".......................................\n",
      "              precision    recall  f1-score   support\n",
      "\n",
      "           0       0.88      0.89      0.89       333\n",
      "           1       0.87      0.86      0.86       277\n",
      "\n",
      "    accuracy                           0.88       610\n",
      "   macro avg       0.87      0.87      0.87       610\n",
      "weighted avg       0.88      0.88      0.88       610\n",
      "\n",
      "accuracy_score= 0.8754098360655738\n"
     ]
    }
   ],
   "source": [
    "### CLASSIFACTION Report\n",
    "\n",
    "from sklearn.metrics import classification_report\n",
    "from sklearn.metrics import accuracy_score\n",
    "\n",
    "y_pred=D_classifier.predict(x_test)\n",
    "print('classification_report Decision Tree')\n",
    "print('.......................................') \n",
    "\n",
    "print(classification_report(y_test,y_pred)) \n",
    "print(\"accuracy_score=\",accuracy_score(y_test,y_pred)) \n",
    "\n"
   ]
  },
  {
   "cell_type": "markdown",
   "metadata": {},
   "source": [
    "## Feature Selection by Percentile BY 100%"
   ]
  },
  {
   "cell_type": "code",
   "execution_count": 200,
   "metadata": {},
   "outputs": [],
   "source": [
    "#print('Original X Shape is ' , X.shape)\n",
    "FeatureSelection = SelectPercentile(score_func = f_classif, percentile=100) # score_func can = f_classif\n",
    "X = FeatureSelection.fit_transform(x, y)\n",
    "\n",
    "\n"
   ]
  },
  {
   "cell_type": "code",
   "execution_count": 201,
   "metadata": {},
   "outputs": [
    {
     "name": "stdout",
     "output_type": "stream",
     "text": [
      "Selected Features are :  [ True  True  True  True  True  True  True  True  True  True  True  True\n",
      "  True  True  True  True  True  True  True  True  True  True]\n"
     ]
    },
    {
     "data": {
      "text/plain": [
       "Index(['Sex', 'Age', 'Adress', 'FBS', 'Urea', 'Creatinin', 'ALB', 'TCa', 'GPT',\n",
       "       'GOT', 'ALP', 'CA15', 'CEA', 'WBC', 'RBC', 'HGB', 'PLT', 'ESR', 'LDH',\n",
       "       'Na', 'K', 'CL'],\n",
       "      dtype='object')"
      ]
     },
     "execution_count": 201,
     "metadata": {},
     "output_type": "execute_result"
    }
   ],
   "source": [
    "#showing X Dimension \n",
    "#print('X Shape is ' , X.shape)\n",
    "print('Selected Features are : ' , FeatureSelection.get_support())\n",
    "\n",
    "x.columns[FeatureSelection.get_support()]\n"
   ]
  },
  {
   "cell_type": "code",
   "execution_count": 202,
   "metadata": {},
   "outputs": [
    {
     "data": {
      "text/plain": [
       "(2437, 22)"
      ]
     },
     "execution_count": 202,
     "metadata": {},
     "output_type": "execute_result"
    }
   ],
   "source": [
    "X=BC.drop([\"CLASS\"],axis=1)\n",
    "Y=BC[\"CLASS\"] \n",
    "X.shape\n"
   ]
  },
  {
   "cell_type": "code",
   "execution_count": 203,
   "metadata": {},
   "outputs": [],
   "source": [
    "from sklearn.model_selection import train_test_split\n",
    "x_train, x_test, y_train, y_test = train_test_split(X, Y, \n",
    "                                                    test_size=0.25)\n",
    "\n"
   ]
  },
  {
   "cell_type": "code",
   "execution_count": 204,
   "metadata": {},
   "outputs": [
    {
     "data": {
      "text/plain": [
       "DecisionTreeClassifier(class_weight=None, criterion='gini', max_depth=None,\n",
       "                       max_features=None, max_leaf_nodes=None,\n",
       "                       min_impurity_decrease=0.0, min_impurity_split=None,\n",
       "                       min_samples_leaf=1, min_samples_split=2,\n",
       "                       min_weight_fraction_leaf=0.0, presort=False,\n",
       "                       random_state=0, splitter='best')"
      ]
     },
     "execution_count": 204,
     "metadata": {},
     "output_type": "execute_result"
    }
   ],
   "source": [
    "from sklearn.tree import DecisionTreeClassifier\n",
    "\n",
    "D_classifier= DecisionTreeClassifier(random_state=0) \n",
    "D_classifier.fit(x_train,y_train) \n",
    "\n"
   ]
  },
  {
   "cell_type": "code",
   "execution_count": 205,
   "metadata": {},
   "outputs": [],
   "source": [
    "y_pred=D_classifier.predict_proba(x_test)[:,1]\n",
    "\n",
    "\n",
    "\n",
    "new_y=[]\n",
    "for i in range (len(y_pred)):\n",
    "    if y_pred[i]<0.5:\n",
    "        new_y.append(0)\n",
    "    else:\n",
    "        new_y.append(1)\n"
   ]
  },
  {
   "cell_type": "code",
   "execution_count": 206,
   "metadata": {},
   "outputs": [
    {
     "data": {
      "text/plain": [
       "0.8557377049180328"
      ]
     },
     "execution_count": 206,
     "metadata": {},
     "output_type": "execute_result"
    }
   ],
   "source": [
    "from sklearn.metrics import accuracy_score\n",
    "\n",
    "\n",
    "accuracy_score(y_test,new_y)\n",
    "\n"
   ]
  },
  {
   "cell_type": "code",
   "execution_count": 207,
   "metadata": {},
   "outputs": [
    {
     "name": "stdout",
     "output_type": "stream",
     "text": [
      "mean_absolute_error is = 0.14426229508196722\n",
      "mean_squared_error is = 0.3798187661003169\n"
     ]
    }
   ],
   "source": [
    "\n",
    "from sklearn.metrics import mean_absolute_error\n",
    "from sklearn.metrics import mean_squared_error\n",
    "\n",
    "\n",
    "MAEVale=mean_absolute_error(y_test,y_pred,multioutput=\"uniform_average\")\n",
    "print(\"mean_absolute_error is =\",MAEVale)\n",
    "\n",
    "MSEVale=mean_squared_error(y_test,y_pred,multioutput=\"uniform_average\")\n",
    "RmseVal=np.sqrt(MSEVale)\n",
    "print(\"mean_squared_error is =\",RmseVal)\n",
    "\n"
   ]
  },
  {
   "cell_type": "code",
   "execution_count": 208,
   "metadata": {},
   "outputs": [
    {
     "name": "stdout",
     "output_type": "stream",
     "text": [
      "Decision Tree  classifiers  confusion_matrix\n",
      "Decision Tree classifier Trining Accurcy = 1.0\n",
      "Decision Tree classifier Testing Accurcy =  0.8557377049180328\n",
      "[[298  57]\n",
      " [ 31 224]]\n"
     ]
    },
    {
     "data": {
      "text/plain": [
       "Text(33.0, 0.5, 'Acutl')"
      ]
     },
     "execution_count": 208,
     "metadata": {},
     "output_type": "execute_result"
    },
    {
     "data": {
      "image/png": "[encoded data removed]",
      "text/plain": [
       "<Figure size 432x288 with 2 Axes>"
      ]
     },
     "metadata": {
      "needs_background": "light"
     },
     "output_type": "display_data"
    }
   ],
   "source": [
    "from sklearn.metrics import confusion_matrix\n",
    "\n",
    "print(\"Decision Tree  classifiers  confusion_matrix\")\n",
    "cm=confusion_matrix(y_test,new_y)\n",
    "TN=cm[0][0]\n",
    "TP=cm[1][1]\n",
    "FP=cm[0][1]\n",
    "FN=cm[1][0]\n",
    "\n",
    "print('Decision Tree classifier Trining Accurcy =',D_classifier.score(x_train,y_train) )\n",
    "print('Decision Tree classifier Testing Accurcy = ',(TP+TN)/(TP+TN+FP+FN))\n",
    "print(cm)\n",
    "sns.heatmap(cm,annot=True)\n",
    "plt.title(\"Decision Tree classifier confusion_matrix \")\n",
    "plt.xlabel(\"Predication\")\n",
    "plt.ylabel(\"Acutl\")\n"
   ]
  },
  {
   "cell_type": "code",
   "execution_count": 209,
   "metadata": {},
   "outputs": [
    {
     "name": "stdout",
     "output_type": "stream",
     "text": [
      "classification_report Decision Tree\n",
      ".......................................\n",
      "              precision    recall  f1-score   support\n",
      "\n",
      "           0       0.91      0.84      0.87       355\n",
      "           1       0.80      0.88      0.84       255\n",
      "\n",
      "    accuracy                           0.86       610\n",
      "   macro avg       0.85      0.86      0.85       610\n",
      "weighted avg       0.86      0.86      0.86       610\n",
      "\n",
      "accuracy_score= 0.8557377049180328\n"
     ]
    }
   ],
   "source": [
    "### CLASSIFACTION Report\n",
    "\n",
    "from sklearn.metrics import classification_report\n",
    "from sklearn.metrics import accuracy_score\n",
    "\n",
    "y_pred=D_classifier.predict(x_test)\n",
    "print('classification_report Decision Tree')\n",
    "print('.......................................') \n",
    "\n",
    "print(classification_report(y_test,y_pred)) \n",
    "print(\"accuracy_score=\",accuracy_score(y_test,y_pred)) \n",
    "\n"
   ]
  },
  {
   "cell_type": "code",
   "execution_count": 212,
   "metadata": {},
   "outputs": [
    {
     "data": {
      "text/html": [
       "<div>\n",
       "<style scoped>\n",
       "    .dataframe tbody tr th:only-of-type {\n",
       "        vertical-align: middle;\n",
       "    }\n",
       "\n",
       "    .dataframe tbody tr th {\n",
       "        vertical-align: top;\n",
       "    }\n",
       "\n",
       "    .dataframe thead th {\n",
       "        text-align: right;\n",
       "    }\n",
       "</style>\n",
       "<table border=\"1\" class=\"dataframe\">\n",
       "  <thead>\n",
       "    <tr style=\"text-align: right;\">\n",
       "      <th></th>\n",
       "      <th>Percentile_best</th>\n",
       "      <th>validation_accuracy</th>\n",
       "    </tr>\n",
       "  </thead>\n",
       "  <tbody>\n",
       "    <tr>\n",
       "      <td>0</td>\n",
       "      <td>10%</td>\n",
       "      <td>71</td>\n",
       "    </tr>\n",
       "    <tr>\n",
       "      <td>1</td>\n",
       "      <td>15%</td>\n",
       "      <td>74</td>\n",
       "    </tr>\n",
       "    <tr>\n",
       "      <td>2</td>\n",
       "      <td>20%</td>\n",
       "      <td>74</td>\n",
       "    </tr>\n",
       "    <tr>\n",
       "      <td>3</td>\n",
       "      <td>25%</td>\n",
       "      <td>78</td>\n",
       "    </tr>\n",
       "    <tr>\n",
       "      <td>4</td>\n",
       "      <td>30%</td>\n",
       "      <td>82</td>\n",
       "    </tr>\n",
       "    <tr>\n",
       "      <td>5</td>\n",
       "      <td>35%</td>\n",
       "      <td>84</td>\n",
       "    </tr>\n",
       "    <tr>\n",
       "      <td>6</td>\n",
       "      <td>40%</td>\n",
       "      <td>86</td>\n",
       "    </tr>\n",
       "    <tr>\n",
       "      <td>7</td>\n",
       "      <td>45%</td>\n",
       "      <td>86</td>\n",
       "    </tr>\n",
       "    <tr>\n",
       "      <td>8</td>\n",
       "      <td>50%</td>\n",
       "      <td>84</td>\n",
       "    </tr>\n",
       "    <tr>\n",
       "      <td>9</td>\n",
       "      <td>55%</td>\n",
       "      <td>88</td>\n",
       "    </tr>\n",
       "    <tr>\n",
       "      <td>10</td>\n",
       "      <td>60%</td>\n",
       "      <td>84</td>\n",
       "    </tr>\n",
       "    <tr>\n",
       "      <td>11</td>\n",
       "      <td>65%</td>\n",
       "      <td>85</td>\n",
       "    </tr>\n",
       "    <tr>\n",
       "      <td>12</td>\n",
       "      <td>70%</td>\n",
       "      <td>87</td>\n",
       "    </tr>\n",
       "    <tr>\n",
       "      <td>13</td>\n",
       "      <td>75%</td>\n",
       "      <td>85</td>\n",
       "    </tr>\n",
       "    <tr>\n",
       "      <td>14</td>\n",
       "      <td>80%</td>\n",
       "      <td>87</td>\n",
       "    </tr>\n",
       "    <tr>\n",
       "      <td>15</td>\n",
       "      <td>85%</td>\n",
       "      <td>88</td>\n",
       "    </tr>\n",
       "    <tr>\n",
       "      <td>16</td>\n",
       "      <td>90%</td>\n",
       "      <td>88</td>\n",
       "    </tr>\n",
       "    <tr>\n",
       "      <td>17</td>\n",
       "      <td>95%</td>\n",
       "      <td>87</td>\n",
       "    </tr>\n",
       "    <tr>\n",
       "      <td>18</td>\n",
       "      <td>100%</td>\n",
       "      <td>85</td>\n",
       "    </tr>\n",
       "  </tbody>\n",
       "</table>\n",
       "</div>"
      ],
      "text/plain": [
       "   Percentile_best  validation_accuracy\n",
       "0              10%                   71\n",
       "1              15%                   74\n",
       "2              20%                   74\n",
       "3              25%                   78\n",
       "4              30%                   82\n",
       "5              35%                   84\n",
       "6              40%                   86\n",
       "7              45%                   86\n",
       "8              50%                   84\n",
       "9              55%                   88\n",
       "10             60%                   84\n",
       "11             65%                   85\n",
       "12             70%                   87\n",
       "13             75%                   85\n",
       "14             80%                   87\n",
       "15             85%                   88\n",
       "16             90%                   88\n",
       "17             95%                   87\n",
       "18            100%                   85"
      ]
     },
     "execution_count": 212,
     "metadata": {},
     "output_type": "execute_result"
    }
   ],
   "source": [
    "Percentile_best= ['10%',\"15%\",\"20%\",\"25%\",\"30%\",\"35%\",\"40%\",\"45%\",\"50%\",\"55%\",\"60%\",\"65%\",\"70%\",\"75%\",\"80%\",\"85%\",\"90%\",\"95%\",\"100%\"]\n",
    "validation_accuracy = [71,74,74,78,82,84,86,86,84,88,84,85,87,85,87,88,88,87,85]\n",
    "                                   \n",
    "List = zip(Percentile_best,validation_accuracy)\n",
    "df = pd.DataFrame(data = List, columns=['Percentile_best','validation_accuracy'],)\n",
    "df"
   ]
  },
  {
   "cell_type": "code",
   "execution_count": 215,
   "metadata": {},
   "outputs": [
    {
     "name": "stderr",
     "output_type": "stream",
     "text": [
      "C:\\Users\\TOSHIBA\\Anaconda3\\lib\\site-packages\\ipykernel_launcher.py:8: MatplotlibDeprecationWarning: Unrecognized location 'bst'. Falling back on 'best'; valid locations are\n",
      "\tbest\n",
      "\tupper right\n",
      "\tupper left\n",
      "\tlower left\n",
      "\tlower right\n",
      "\tright\n",
      "\tcenter left\n",
      "\tcenter right\n",
      "\tlower center\n",
      "\tupper center\n",
      "\tcenter\n",
      "This will raise an exception in 3.3.\n",
      "  \n"
     ]
    },
    {
     "name": "stdout",
     "output_type": "stream",
     "text": [
      "the best Percentile of fs by SelectPercentile %80 :\n",
      "Age, FBS, Creatinin, ALB, CA15, CEA, WBC, RBC, HGB, PLT, ESR, LDH\n"
     ]
    },
    {
     "data": {
      "image/png": "[encoded data removed]",
      "text/plain": [
       "<Figure size 864x432 with 1 Axes>"
      ]
     },
     "metadata": {
      "needs_background": "light"
     },
     "output_type": "display_data"
    }
   ],
   "source": [
    "plt.figure(figsize=(12,6))\n",
    "plt.plot(df['Percentile_best'],df['validation_accuracy'],label='Percentile of fs %55 was Acc=88',marker='o')\n",
    "\n",
    "plt.title(\"CART algorithm accuracy based on SelectPercentile\",fontsize=18)\n",
    "plt.axvline(x=9, color='orange', linestyle='--')\n",
    "plt.xlabel('Num_best_Fs',labelpad=10, fontsize=14)\n",
    "plt.ylabel('performance',labelpad=10, fontsize=14)\n",
    "plt.legend(loc='bst',fontsize=14)\n",
    "\n",
    "print(\"the best Percentile of fs by SelectPercentile %80 :\")\n",
    "\n",
    "print(\"Age, FBS, Creatinin, ALB, CA15, CEA, WBC, RBC, HGB, PLT, ESR, LDH\")\n",
    "plt.show()"
   ]
  },
  {
   "cell_type": "code",
   "execution_count": null,
   "metadata": {},
   "outputs": [],
   "source": []
  }
 ],
 "metadata": {
  "kernelspec": {
   "display_name": "Python 3 (ipykernel)",
   "language": "python",
   "name": "python3"
  },
  "language_info": {
   "codemirror_mode": {
    "name": "ipython",
    "version": 3
   },
   "file_extension": ".py",
   "mimetype": "text/x-python",
   "name": "python",
   "nbconvert_exporter": "python",
   "pygments_lexer": "ipython3",
   "version": "3.9.13"
  }
 },
 "nbformat": 4,
 "nbformat_minor": 2
}
