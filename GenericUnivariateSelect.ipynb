{
 "cells": [
  {
   "cell_type": "markdown",
   "metadata": {},
   "source": [
    "## Filter feature selection\n",
    "\n",
    "### GenericUnivariateSelect\n",
    "\n",
    "## X Shape is  (2437, 19\n",
    "## 90%\n",
    "## ‘Sex', 'Age', 'Adress', 'FBS', 'Urea', 'Creatinin', 'ALB', 'TCa', 'GPT','GOT', 'ALP', 'CA15', 'CEA', 'WBC', 'RBC', 'HGB', 'PLT', 'ESR', 'LDH'"
   ]
  },
  {
   "cell_type": "code",
   "execution_count": 1,
   "metadata": {},
   "outputs": [],
   "source": [
    "#Import Libraries\n",
    "import numpy as np\n",
    "\n",
    "import pandas as pd\n",
    "pd.set_option('display.max_columns', None)\n",
    "\n",
    "import matplotlib.pyplot as plt\n",
    "import pandas as pd # data processing, CSV file I/O (e.g. pd.read_csv)\n",
    "import seaborn as sns\n",
    "\n",
    "from sklearn.feature_selection import GenericUnivariateSelect\n",
    "from sklearn.feature_selection import chi2 , f_classif \n",
    "#----------------------------------------------------"
   ]
  },
  {
   "cell_type": "code",
   "execution_count": 2,
   "metadata": {},
   "outputs": [],
   "source": [
    "#load breast cancer data\n",
    "\n",
    "BC = pd.read_csv('bc_with_mis_90.csv')\n"
   ]
  },
  {
   "cell_type": "code",
   "execution_count": 3,
   "metadata": {},
   "outputs": [
    {
     "data": {
      "text/html": [
       "<div>\n",
       "<style scoped>\n",
       "    .dataframe tbody tr th:only-of-type {\n",
       "        vertical-align: middle;\n",
       "    }\n",
       "\n",
       "    .dataframe tbody tr th {\n",
       "        vertical-align: top;\n",
       "    }\n",
       "\n",
       "    .dataframe thead th {\n",
       "        text-align: right;\n",
       "    }\n",
       "</style>\n",
       "<table border=\"1\" class=\"dataframe\">\n",
       "  <thead>\n",
       "    <tr style=\"text-align: right;\">\n",
       "      <th></th>\n",
       "      <th>Sex</th>\n",
       "      <th>Age</th>\n",
       "      <th>Adress</th>\n",
       "      <th>FBS</th>\n",
       "      <th>Urea</th>\n",
       "      <th>Creatinin</th>\n",
       "      <th>ALB</th>\n",
       "      <th>TCa</th>\n",
       "      <th>GPT</th>\n",
       "      <th>GOT</th>\n",
       "      <th>ALP</th>\n",
       "      <th>CA15</th>\n",
       "      <th>CEA</th>\n",
       "      <th>WBC</th>\n",
       "      <th>RBC</th>\n",
       "      <th>HGB</th>\n",
       "      <th>PLT</th>\n",
       "      <th>ESR</th>\n",
       "      <th>LDH</th>\n",
       "      <th>Na</th>\n",
       "      <th>K</th>\n",
       "      <th>CL</th>\n",
       "      <th>CLASS</th>\n",
       "    </tr>\n",
       "  </thead>\n",
       "  <tbody>\n",
       "    <tr>\n",
       "      <td>0</td>\n",
       "      <td>1</td>\n",
       "      <td>60</td>\n",
       "      <td>Tragan</td>\n",
       "      <td>200.0</td>\n",
       "      <td>23.0</td>\n",
       "      <td>0.8</td>\n",
       "      <td>3.400000</td>\n",
       "      <td>1.0</td>\n",
       "      <td>2.0</td>\n",
       "      <td>1.0</td>\n",
       "      <td>124.000000</td>\n",
       "      <td>69.120000</td>\n",
       "      <td>8.020000</td>\n",
       "      <td>3.4</td>\n",
       "      <td>4.60</td>\n",
       "      <td>13.4</td>\n",
       "      <td>500.000000</td>\n",
       "      <td>25.0</td>\n",
       "      <td>150.0</td>\n",
       "      <td>145.0</td>\n",
       "      <td>4.50</td>\n",
       "      <td>19.1</td>\n",
       "      <td>0</td>\n",
       "    </tr>\n",
       "    <tr>\n",
       "      <td>1</td>\n",
       "      <td>1</td>\n",
       "      <td>53</td>\n",
       "      <td>Sabha</td>\n",
       "      <td>400.0</td>\n",
       "      <td>22.0</td>\n",
       "      <td>0.7</td>\n",
       "      <td>4.461508</td>\n",
       "      <td>9.6</td>\n",
       "      <td>3.0</td>\n",
       "      <td>7.0</td>\n",
       "      <td>133.000000</td>\n",
       "      <td>51.820000</td>\n",
       "      <td>7.910000</td>\n",
       "      <td>4.4</td>\n",
       "      <td>5.00</td>\n",
       "      <td>12.5</td>\n",
       "      <td>283.554362</td>\n",
       "      <td>15.0</td>\n",
       "      <td>260.0</td>\n",
       "      <td>137.8</td>\n",
       "      <td>4.18</td>\n",
       "      <td>19.1</td>\n",
       "      <td>0</td>\n",
       "    </tr>\n",
       "    <tr>\n",
       "      <td>2</td>\n",
       "      <td>1</td>\n",
       "      <td>50</td>\n",
       "      <td>Sabha</td>\n",
       "      <td>450.0</td>\n",
       "      <td>27.0</td>\n",
       "      <td>0.6</td>\n",
       "      <td>3.500000</td>\n",
       "      <td>9.3</td>\n",
       "      <td>11.0</td>\n",
       "      <td>17.0</td>\n",
       "      <td>155.000000</td>\n",
       "      <td>50.000000</td>\n",
       "      <td>8.740000</td>\n",
       "      <td>5.1</td>\n",
       "      <td>4.46</td>\n",
       "      <td>12.5</td>\n",
       "      <td>456.000000</td>\n",
       "      <td>2.0</td>\n",
       "      <td>169.0</td>\n",
       "      <td>139.2</td>\n",
       "      <td>4.17</td>\n",
       "      <td>16.4</td>\n",
       "      <td>0</td>\n",
       "    </tr>\n",
       "    <tr>\n",
       "      <td>3</td>\n",
       "      <td>1</td>\n",
       "      <td>36</td>\n",
       "      <td>Obaree-center</td>\n",
       "      <td>300.0</td>\n",
       "      <td>15.0</td>\n",
       "      <td>1.1</td>\n",
       "      <td>4.200000</td>\n",
       "      <td>8.5</td>\n",
       "      <td>13.0</td>\n",
       "      <td>1.0</td>\n",
       "      <td>140.701195</td>\n",
       "      <td>40.110000</td>\n",
       "      <td>10.340000</td>\n",
       "      <td>3.1</td>\n",
       "      <td>4.33</td>\n",
       "      <td>13.8</td>\n",
       "      <td>600.000000</td>\n",
       "      <td>15.0</td>\n",
       "      <td>138.0</td>\n",
       "      <td>14.0</td>\n",
       "      <td>4.00</td>\n",
       "      <td>1.1</td>\n",
       "      <td>0</td>\n",
       "    </tr>\n",
       "    <tr>\n",
       "      <td>4</td>\n",
       "      <td>1</td>\n",
       "      <td>30</td>\n",
       "      <td>Obaree-center</td>\n",
       "      <td>345.0</td>\n",
       "      <td>2.0</td>\n",
       "      <td>1.0</td>\n",
       "      <td>3.000000</td>\n",
       "      <td>8.0</td>\n",
       "      <td>7.0</td>\n",
       "      <td>13.0</td>\n",
       "      <td>125.000000</td>\n",
       "      <td>67.630000</td>\n",
       "      <td>7.310000</td>\n",
       "      <td>4.2</td>\n",
       "      <td>4.13</td>\n",
       "      <td>1.7</td>\n",
       "      <td>543.000000</td>\n",
       "      <td>25.0</td>\n",
       "      <td>154.0</td>\n",
       "      <td>136.4</td>\n",
       "      <td>4.60</td>\n",
       "      <td>17.1</td>\n",
       "      <td>0</td>\n",
       "    </tr>\n",
       "    <tr>\n",
       "      <td>...</td>\n",
       "      <td>...</td>\n",
       "      <td>...</td>\n",
       "      <td>...</td>\n",
       "      <td>...</td>\n",
       "      <td>...</td>\n",
       "      <td>...</td>\n",
       "      <td>...</td>\n",
       "      <td>...</td>\n",
       "      <td>...</td>\n",
       "      <td>...</td>\n",
       "      <td>...</td>\n",
       "      <td>...</td>\n",
       "      <td>...</td>\n",
       "      <td>...</td>\n",
       "      <td>...</td>\n",
       "      <td>...</td>\n",
       "      <td>...</td>\n",
       "      <td>...</td>\n",
       "      <td>...</td>\n",
       "      <td>...</td>\n",
       "      <td>...</td>\n",
       "      <td>...</td>\n",
       "      <td>...</td>\n",
       "    </tr>\n",
       "    <tr>\n",
       "      <td>2432</td>\n",
       "      <td>1</td>\n",
       "      <td>30</td>\n",
       "      <td>Algatroon</td>\n",
       "      <td>70.0</td>\n",
       "      <td>28.0</td>\n",
       "      <td>0.7</td>\n",
       "      <td>5.900000</td>\n",
       "      <td>9.5</td>\n",
       "      <td>63.0</td>\n",
       "      <td>23.0</td>\n",
       "      <td>234.000000</td>\n",
       "      <td>21.000000</td>\n",
       "      <td>1.120000</td>\n",
       "      <td>3.9</td>\n",
       "      <td>5.23</td>\n",
       "      <td>11.3</td>\n",
       "      <td>288.000000</td>\n",
       "      <td>15.0</td>\n",
       "      <td>254.0</td>\n",
       "      <td>138.7</td>\n",
       "      <td>4.35</td>\n",
       "      <td>103.6</td>\n",
       "      <td>1</td>\n",
       "    </tr>\n",
       "    <tr>\n",
       "      <td>2433</td>\n",
       "      <td>1</td>\n",
       "      <td>47</td>\n",
       "      <td>Sabha</td>\n",
       "      <td>98.0</td>\n",
       "      <td>32.0</td>\n",
       "      <td>0.8</td>\n",
       "      <td>10.200000</td>\n",
       "      <td>8.8</td>\n",
       "      <td>82.0</td>\n",
       "      <td>23.0</td>\n",
       "      <td>190.000000</td>\n",
       "      <td>21.370000</td>\n",
       "      <td>2.020000</td>\n",
       "      <td>4.8</td>\n",
       "      <td>4.57</td>\n",
       "      <td>13.2</td>\n",
       "      <td>249.000000</td>\n",
       "      <td>12.0</td>\n",
       "      <td>254.0</td>\n",
       "      <td>142.3</td>\n",
       "      <td>4.40</td>\n",
       "      <td>102.7</td>\n",
       "      <td>1</td>\n",
       "    </tr>\n",
       "    <tr>\n",
       "      <td>2434</td>\n",
       "      <td>1</td>\n",
       "      <td>43</td>\n",
       "      <td>Sabha</td>\n",
       "      <td>76.0</td>\n",
       "      <td>15.0</td>\n",
       "      <td>0.6</td>\n",
       "      <td>11.400000</td>\n",
       "      <td>8.1</td>\n",
       "      <td>22.0</td>\n",
       "      <td>15.0</td>\n",
       "      <td>143.000000</td>\n",
       "      <td>8.500000</td>\n",
       "      <td>0.500000</td>\n",
       "      <td>4.4</td>\n",
       "      <td>4.32</td>\n",
       "      <td>11.1</td>\n",
       "      <td>249.000000</td>\n",
       "      <td>8.0</td>\n",
       "      <td>254.0</td>\n",
       "      <td>137.8</td>\n",
       "      <td>4.25</td>\n",
       "      <td>110.2</td>\n",
       "      <td>1</td>\n",
       "    </tr>\n",
       "    <tr>\n",
       "      <td>2435</td>\n",
       "      <td>1</td>\n",
       "      <td>60</td>\n",
       "      <td>Sabha</td>\n",
       "      <td>120.0</td>\n",
       "      <td>29.0</td>\n",
       "      <td>0.9</td>\n",
       "      <td>10.900000</td>\n",
       "      <td>8.2</td>\n",
       "      <td>51.0</td>\n",
       "      <td>17.0</td>\n",
       "      <td>104.000000</td>\n",
       "      <td>30.967314</td>\n",
       "      <td>4.536407</td>\n",
       "      <td>4.5</td>\n",
       "      <td>4.41</td>\n",
       "      <td>12.9</td>\n",
       "      <td>293.000000</td>\n",
       "      <td>13.0</td>\n",
       "      <td>254.0</td>\n",
       "      <td>147.5</td>\n",
       "      <td>3.15</td>\n",
       "      <td>107.5</td>\n",
       "      <td>1</td>\n",
       "    </tr>\n",
       "    <tr>\n",
       "      <td>2436</td>\n",
       "      <td>1</td>\n",
       "      <td>68</td>\n",
       "      <td>Sabha</td>\n",
       "      <td>90.0</td>\n",
       "      <td>29.0</td>\n",
       "      <td>0.6</td>\n",
       "      <td>5.300000</td>\n",
       "      <td>8.5</td>\n",
       "      <td>83.0</td>\n",
       "      <td>20.0</td>\n",
       "      <td>178.000000</td>\n",
       "      <td>30.967314</td>\n",
       "      <td>4.536407</td>\n",
       "      <td>3.4</td>\n",
       "      <td>4.42</td>\n",
       "      <td>11.0</td>\n",
       "      <td>199.000000</td>\n",
       "      <td>15.0</td>\n",
       "      <td>254.0</td>\n",
       "      <td>142.3</td>\n",
       "      <td>3.23</td>\n",
       "      <td>107.5</td>\n",
       "      <td>1</td>\n",
       "    </tr>\n",
       "  </tbody>\n",
       "</table>\n",
       "<p>2437 rows × 23 columns</p>\n",
       "</div>"
      ],
      "text/plain": [
       "      Sex  Age         Adress    FBS  Urea  Creatinin        ALB  TCa   GPT  \\\n",
       "0       1   60         Tragan  200.0  23.0        0.8   3.400000  1.0   2.0   \n",
       "1       1   53          Sabha  400.0  22.0        0.7   4.461508  9.6   3.0   \n",
       "2       1   50          Sabha  450.0  27.0        0.6   3.500000  9.3  11.0   \n",
       "3       1   36  Obaree-center  300.0  15.0        1.1   4.200000  8.5  13.0   \n",
       "4       1   30  Obaree-center  345.0   2.0        1.0   3.000000  8.0   7.0   \n",
       "...   ...  ...            ...    ...   ...        ...        ...  ...   ...   \n",
       "2432    1   30      Algatroon   70.0  28.0        0.7   5.900000  9.5  63.0   \n",
       "2433    1   47          Sabha   98.0  32.0        0.8  10.200000  8.8  82.0   \n",
       "2434    1   43          Sabha   76.0  15.0        0.6  11.400000  8.1  22.0   \n",
       "2435    1   60          Sabha  120.0  29.0        0.9  10.900000  8.2  51.0   \n",
       "2436    1   68          Sabha   90.0  29.0        0.6   5.300000  8.5  83.0   \n",
       "\n",
       "       GOT         ALP       CA15        CEA  WBC   RBC   HGB         PLT  \\\n",
       "0      1.0  124.000000  69.120000   8.020000  3.4  4.60  13.4  500.000000   \n",
       "1      7.0  133.000000  51.820000   7.910000  4.4  5.00  12.5  283.554362   \n",
       "2     17.0  155.000000  50.000000   8.740000  5.1  4.46  12.5  456.000000   \n",
       "3      1.0  140.701195  40.110000  10.340000  3.1  4.33  13.8  600.000000   \n",
       "4     13.0  125.000000  67.630000   7.310000  4.2  4.13   1.7  543.000000   \n",
       "...    ...         ...        ...        ...  ...   ...   ...         ...   \n",
       "2432  23.0  234.000000  21.000000   1.120000  3.9  5.23  11.3  288.000000   \n",
       "2433  23.0  190.000000  21.370000   2.020000  4.8  4.57  13.2  249.000000   \n",
       "2434  15.0  143.000000   8.500000   0.500000  4.4  4.32  11.1  249.000000   \n",
       "2435  17.0  104.000000  30.967314   4.536407  4.5  4.41  12.9  293.000000   \n",
       "2436  20.0  178.000000  30.967314   4.536407  3.4  4.42  11.0  199.000000   \n",
       "\n",
       "       ESR    LDH     Na     K     CL  CLASS  \n",
       "0     25.0  150.0  145.0  4.50   19.1      0  \n",
       "1     15.0  260.0  137.8  4.18   19.1      0  \n",
       "2      2.0  169.0  139.2  4.17   16.4      0  \n",
       "3     15.0  138.0   14.0  4.00    1.1      0  \n",
       "4     25.0  154.0  136.4  4.60   17.1      0  \n",
       "...    ...    ...    ...   ...    ...    ...  \n",
       "2432  15.0  254.0  138.7  4.35  103.6      1  \n",
       "2433  12.0  254.0  142.3  4.40  102.7      1  \n",
       "2434   8.0  254.0  137.8  4.25  110.2      1  \n",
       "2435  13.0  254.0  147.5  3.15  107.5      1  \n",
       "2436  15.0  254.0  142.3  3.23  107.5      1  \n",
       "\n",
       "[2437 rows x 23 columns]"
      ]
     },
     "execution_count": 3,
     "metadata": {},
     "output_type": "execute_result"
    }
   ],
   "source": [
    "BC[\"FBS\"].fillna(BC[\"FBS\"].mean(), inplace=True)\n",
    "BC[\"Urea\"].fillna(BC[\"Urea\"].mean(), inplace=True)\n",
    "BC[\"Creatinin\"].fillna(BC[\"Creatinin\"].mean(), inplace=True)\n",
    "BC[\"ALB\"].fillna(BC[\"ALB\"].mean(), inplace=True)\n",
    "BC[\"TCa\"].fillna(BC[\"TCa\"].mean(), inplace=True)\n",
    "BC[\"GPT\"].fillna(BC[\"GPT\"].mean(), inplace=True)\n",
    "BC[\"GOT\"].fillna(BC[\"GOT\"].mean(), inplace=True)\n",
    "BC[\"ALP\"].fillna(BC[\"ALP\"].mean(), inplace=True)\n",
    "BC[\"WBC\"].fillna(BC[\"WBC\"].mean(), inplace=True)\n",
    "BC[\"HGB\"].fillna(BC[\"HGB\"].mean(), inplace=True)\n",
    "BC[\"RBC\"].fillna(BC[\"RBC\"].mean(), inplace=True)\n",
    "BC[\"PLT\"].fillna(BC[\"PLT\"].mean(), inplace=True)\n",
    "BC[\"ESR\"].fillna(BC[\"ESR\"].mean(), inplace=True)\n",
    "BC[\"LDH\"].fillna(BC[\"LDH\"].mean(), inplace=True)\n",
    "BC[\"Na\"].fillna(BC[\"Na\"].mean(), inplace=True)\n",
    "BC[\"K\"].fillna(BC[\"K\"].mean(), inplace=True)\n",
    "BC[\"CL\"].fillna(BC[\"CL\"].mean(), inplace=True)\n",
    "BC[\"CA15\"].fillna(BC[\"CA15\"].mean(), inplace=True)\n",
    "BC[\"CEA\"].fillna(BC[\"CEA\"].mean(), inplace=True)\n",
    "BC"
   ]
  },
  {
   "cell_type": "code",
   "execution_count": 4,
   "metadata": {},
   "outputs": [
    {
     "data": {
      "text/plain": [
       "Sex          0\n",
       "Age          0\n",
       "Adress       0\n",
       "FBS          0\n",
       "Urea         0\n",
       "Creatinin    0\n",
       "ALB          0\n",
       "TCa          0\n",
       "GPT          0\n",
       "GOT          0\n",
       "ALP          0\n",
       "CA15         0\n",
       "CEA          0\n",
       "WBC          0\n",
       "RBC          0\n",
       "HGB          0\n",
       "PLT          0\n",
       "ESR          0\n",
       "LDH          0\n",
       "Na           0\n",
       "K            0\n",
       "CL           0\n",
       "CLASS        0\n",
       "dtype: int64"
      ]
     },
     "execution_count": 4,
     "metadata": {},
     "output_type": "execute_result"
    }
   ],
   "source": [
    "BC.isnull().sum()"
   ]
  },
  {
   "cell_type": "markdown",
   "metadata": {},
   "source": [
    "## outlires by Z-score"
   ]
  },
  {
   "cell_type": "code",
   "execution_count": 5,
   "metadata": {},
   "outputs": [],
   "source": [
    "BC[\"ZScore_FBS\"] = (BC.FBS - BC.FBS.mean())/(BC.FBS.std())\n",
    "BC[\"ZScore_Urea\"] = (BC.Urea - BC.Urea.mean())/(BC.Urea.std())\n",
    "BC[\"ZScore_creatinine\"] = (BC.Creatinin - BC.Creatinin.mean())/(BC.Creatinin.std())\n",
    "BC[\"ZScore_ALB\"] = (BC.ALB - BC.ALB.mean())/(BC.ALB.std())\n",
    "BC[\"ZScore_TCa\"] = (BC.TCa - BC.TCa.mean())/(BC.TCa.std())\n",
    "BC[\"ZScore_GPT\"] = (BC.GPT - BC.GPT.mean())/(BC.GPT.std())\n",
    "BC[\"ZScore_GOT\"] = (BC.GOT - BC.GOT.mean())/(BC.GOT.std())\n",
    "BC[\"ZScore_ALP\"] = (BC.ALP - BC.ALP.mean())/(BC.ALP.std())\n",
    "BC[\"ZScore_CA15\"] = (BC.CA15 - BC.CA15.mean())/(BC.CA15.std())\n",
    "BC[\"ZScore_CEA\"] = (BC.CEA - BC.CEA.mean())/(BC.CEA.std())\n",
    "BC[\"ZScore_WBC\"] = (BC.WBC - BC.WBC.mean())/(BC.WBC.std())\n",
    "BC[\"ZScore_RBC\"] = (BC.RBC - BC.RBC.mean())/(BC.RBC.std())\n",
    "BC[\"ZScore_HGB\"] = (BC.HGB - BC.HGB.mean())/(BC.HGB.std())\n",
    "BC[\"ZScore_PLT\"] = (BC.PLT - BC.PLT.mean())/(BC.PLT.std())\n",
    "BC[\"ZScore_ESR\"] = (BC.ESR - BC.ESR.mean())/(BC.ESR.std())\n",
    "BC[\"ZScore_LDH\"] = (BC.LDH - BC.LDH.mean())/(BC.LDH.std())\n",
    "BC[\"ZScore_Na\"] = (BC.Na - BC.Na.mean())/(BC.Na.std())\n",
    "BC[\"ZScore_CL\"] = (BC.CL - BC.CL.mean())/(BC.CL.std())\n",
    "BC[\"ZScore_K\"] = (BC.K - BC.K.mean())/(BC.K.std())\n"
   ]
  },
  {
   "cell_type": "code",
   "execution_count": 6,
   "metadata": {},
   "outputs": [],
   "source": [
    "BC_FBS_outlier_Z = BC[(BC.ZScore_FBS>3) | (BC.ZScore_FBS<-3)]\n",
    "BC_Urea_outlier_Z = BC[(BC.ZScore_Urea>3) | (BC.ZScore_Urea<-3)]\n",
    "BC_creatinine_outlier_Z = BC[(BC.ZScore_creatinine>3) | (BC.ZScore_creatinine<-3)]\n",
    "BC_ALB_outlier_Z = BC[(BC.ZScore_ALB>3) | (BC.ZScore_ALB<-3)]\n",
    "BC_TCa_outlier_Z = BC[(BC.ZScore_TCa>3) | (BC.ZScore_TCa<-3)]\n",
    "BC_GPT_outlier_Z = BC[(BC.ZScore_GPT>3) | (BC.ZScore_GPT<-3)]\n",
    "BC_GOT_outlier_Z = BC[(BC.ZScore_GOT>3) | (BC.ZScore_GOT<-3)]\n",
    "BC_ALP_outlier_Z = BC[(BC.ZScore_ALP>3) | (BC.ZScore_ALP<-3)]\n",
    "BC_CA15_outlier_Z = BC[(BC.ZScore_CA15>3) | (BC.ZScore_CA15<-3)]\n",
    "BC_CEA_outlier_Z = BC[(BC.ZScore_CEA>3) | (BC.ZScore_CEA<-3)]\n",
    "BC_WBC_outlier_Z = BC[(BC.ZScore_WBC>3) | (BC.ZScore_WBC<-3)]\n",
    "BC_RBC_outlier_Z = BC[(BC.ZScore_RBC>3) | (BC.ZScore_RBC<-3)]\n",
    "BC_HGB_outlier_Z = BC[(BC.ZScore_HGB>3) | (BC.ZScore_HGB<-3)]\n",
    "BC_PLT_outlier_Z = BC[(BC.ZScore_PLT>3) | (BC.ZScore_PLT<-3)]\n",
    "BC_ESR_outlier_Z = BC[(BC.ZScore_ESR>3) | (BC.ZScore_ESR<-3)]\n",
    "BC_LDH_outlier_Z = BC[(BC.ZScore_LDH>3) | (BC.ZScore_LDH<-3)]\n",
    "BC_Na_outlier_Z = BC[(BC.ZScore_Na>3) | (BC.ZScore_Na<-3)]\n",
    "BC_K_outlier_Z = BC[(BC.ZScore_CL>3) | (BC.ZScore_CL<-3)]\n",
    "BC_CL_outlier_Z = BC[(BC.ZScore_K>3) | (BC.ZScore_K<-3)]\n",
    "\n"
   ]
  },
  {
   "cell_type": "code",
   "execution_count": 7,
   "metadata": {},
   "outputs": [],
   "source": [
    "#assigning nan to the outliers\n",
    "\n",
    "BC['FBS'].values[BC['ZScore_FBS'] > 3] = np.nan\n",
    "BC['FBS'].values[BC['ZScore_FBS'] < -3] = np.nan\n",
    "\n",
    "BC['Urea'].values[BC['ZScore_Urea'] > 3] = np.nan\n",
    "BC['Urea'].values[BC['ZScore_Urea'] < -3] = np.nan\n",
    "\n",
    "BC['Creatinin'].values[BC['ZScore_creatinine'] > 3] = np.nan\n",
    "BC['Creatinin'].values[BC['ZScore_creatinine'] < -3] = np.nan\n",
    "\n",
    "BC['ALB'].values[BC['ZScore_ALB'] > 3] = np.nan\n",
    "BC['ALB'].values[BC['ZScore_ALB'] < -3] = np.nan\n",
    "\n",
    "BC['TCa'].values[BC['ZScore_TCa'] > 3] = np.nan\n",
    "BC['TCa'].values[BC['ZScore_TCa'] < -3] = np.nan\n",
    "\n",
    "BC['GPT'].values[BC['ZScore_GPT'] > 3] = np.nan\n",
    "BC['GPT'].values[BC['ZScore_GPT'] < -3] = np.nan\n",
    "\n",
    "BC['GOT'].values[BC['ZScore_GOT'] > 3] = np.nan\n",
    "BC['GOT'].values[BC['ZScore_GOT'] < -3] = np.nan\n",
    "\n",
    "BC['ALP'].values[BC['ZScore_ALP'] > 3] = np.nan\n",
    "BC['ALP'].values[BC['ZScore_ALP'] < -3] = np.nan\n",
    "\n",
    "BC['CA15'].values[BC['ZScore_CA15'] > 3] = np.nan\n",
    "BC['CA15'].values[BC['ZScore_CA15'] < -3] = np.nan\n",
    "\n",
    "BC['CEA'].values[BC['ZScore_CEA'] > 3] = np.nan\n",
    "BC['CEA'].values[BC['ZScore_CEA'] < -3] = np.nan\n",
    "\n",
    "BC['WBC'].values[BC['ZScore_WBC'] > 3] = np.nan\n",
    "BC['WBC'].values[BC['ZScore_WBC'] < -3] = np.nan\n",
    "\n",
    "BC['RBC'].values[BC['ZScore_RBC'] > 3] = np.nan\n",
    "BC['RBC'].values[BC['ZScore_RBC'] < -3] = np.nan\n",
    "\n",
    "BC['HGB'].values[BC['ZScore_HGB'] > 3] = np.nan\n",
    "BC['HGB'].values[BC['ZScore_HGB'] < -3] = np.nan\n",
    "\n",
    "BC['PLT'].values[BC['ZScore_PLT'] > 3] = np.nan\n",
    "BC['PLT'].values[BC['ZScore_PLT'] < -3] = np.nan\n",
    "\n",
    "BC['ESR'].values[BC['ZScore_ESR'] > 3] = np.nan\n",
    "BC['ESR'].values[BC['ZScore_ESR'] < -3] = np.nan\n",
    "\n",
    "BC['LDH'].values[BC['ZScore_LDH'] > 3] = np.nan\n",
    "BC['LDH'].values[BC['ZScore_LDH'] < -3] = np.nan\n",
    "\n",
    "BC['Na'].values[BC['ZScore_Na'] > 3] = np.nan\n",
    "BC['Na'].values[BC['ZScore_Na'] < -3] = np.nan\n",
    "\n",
    "BC['CL'].values[BC['ZScore_CL'] > 3] = np.nan\n",
    "BC['CL'].values[BC['ZScore_CL'] < -3] = np.nan\n",
    "\n",
    "BC['K'].values[BC['ZScore_K'] > 3] = np.nan\n",
    "BC['K'].values[BC['ZScore_K'] < -3] = np.nan\n"
   ]
  },
  {
   "cell_type": "code",
   "execution_count": 8,
   "metadata": {},
   "outputs": [
    {
     "data": {
      "text/plain": [
       "Sex           0\n",
       "Age           0\n",
       "Adress        0\n",
       "FBS          50\n",
       "Urea         66\n",
       "Creatinin    27\n",
       "ALB          60\n",
       "TCa           8\n",
       "GPT          61\n",
       "GOT          43\n",
       "ALP          28\n",
       "CA15          3\n",
       "CEA           1\n",
       "WBC          13\n",
       "RBC           4\n",
       "HGB           3\n",
       "PLT           3\n",
       "ESR          30\n",
       "LDH          12\n",
       "Na            1\n",
       "K             8\n",
       "CL            3\n",
       "CLASS         0\n",
       "dtype: int64"
      ]
     },
     "execution_count": 8,
     "metadata": {},
     "output_type": "execute_result"
    }
   ],
   "source": [
    "BC.drop([\"ZScore_FBS\",\"ZScore_Urea\",\"ZScore_creatinine\",\"ZScore_ALB\",\"ZScore_TCa\",\"ZScore_GPT\",\"ZScore_GOT\",\"ZScore_ALP\",\n",
    "        \"ZScore_CA15\",\"ZScore_CEA\",\"ZScore_WBC\",\"ZScore_RBC\",\"ZScore_HGB\",\"ZScore_PLT\",\"ZScore_ESR\",\"ZScore_LDH\",\n",
    "        \"ZScore_Na\",\"ZScore_CL\",\"ZScore_K\"],axis=1,inplace=True)\n",
    "\n",
    "BC.isnull().sum()\n"
   ]
  },
  {
   "cell_type": "code",
   "execution_count": 9,
   "metadata": {},
   "outputs": [
    {
     "data": {
      "text/html": [
       "<div>\n",
       "<style scoped>\n",
       "    .dataframe tbody tr th:only-of-type {\n",
       "        vertical-align: middle;\n",
       "    }\n",
       "\n",
       "    .dataframe tbody tr th {\n",
       "        vertical-align: top;\n",
       "    }\n",
       "\n",
       "    .dataframe thead th {\n",
       "        text-align: right;\n",
       "    }\n",
       "</style>\n",
       "<table border=\"1\" class=\"dataframe\">\n",
       "  <thead>\n",
       "    <tr style=\"text-align: right;\">\n",
       "      <th></th>\n",
       "      <th>Sex</th>\n",
       "      <th>Age</th>\n",
       "      <th>Adress</th>\n",
       "      <th>FBS</th>\n",
       "      <th>Urea</th>\n",
       "      <th>Creatinin</th>\n",
       "      <th>ALB</th>\n",
       "      <th>TCa</th>\n",
       "      <th>GPT</th>\n",
       "      <th>GOT</th>\n",
       "      <th>ALP</th>\n",
       "      <th>CA15</th>\n",
       "      <th>CEA</th>\n",
       "      <th>WBC</th>\n",
       "      <th>RBC</th>\n",
       "      <th>HGB</th>\n",
       "      <th>PLT</th>\n",
       "      <th>ESR</th>\n",
       "      <th>LDH</th>\n",
       "      <th>Na</th>\n",
       "      <th>K</th>\n",
       "      <th>CL</th>\n",
       "      <th>CLASS</th>\n",
       "    </tr>\n",
       "  </thead>\n",
       "  <tbody>\n",
       "    <tr>\n",
       "      <td>0</td>\n",
       "      <td>1</td>\n",
       "      <td>60</td>\n",
       "      <td>Tragan</td>\n",
       "      <td>200.00000</td>\n",
       "      <td>23.0</td>\n",
       "      <td>0.8</td>\n",
       "      <td>3.400000</td>\n",
       "      <td>1.0</td>\n",
       "      <td>2.000000</td>\n",
       "      <td>1.0</td>\n",
       "      <td>124.000000</td>\n",
       "      <td>69.120000</td>\n",
       "      <td>8.020000</td>\n",
       "      <td>3.4</td>\n",
       "      <td>4.60</td>\n",
       "      <td>13.4</td>\n",
       "      <td>500.000000</td>\n",
       "      <td>25.0</td>\n",
       "      <td>150.0</td>\n",
       "      <td>145.0</td>\n",
       "      <td>4.50</td>\n",
       "      <td>19.1</td>\n",
       "      <td>0</td>\n",
       "    </tr>\n",
       "    <tr>\n",
       "      <td>1</td>\n",
       "      <td>1</td>\n",
       "      <td>53</td>\n",
       "      <td>Sabha</td>\n",
       "      <td>154.36173</td>\n",
       "      <td>22.0</td>\n",
       "      <td>0.7</td>\n",
       "      <td>4.461508</td>\n",
       "      <td>9.6</td>\n",
       "      <td>3.000000</td>\n",
       "      <td>7.0</td>\n",
       "      <td>133.000000</td>\n",
       "      <td>51.820000</td>\n",
       "      <td>7.910000</td>\n",
       "      <td>4.4</td>\n",
       "      <td>5.00</td>\n",
       "      <td>12.5</td>\n",
       "      <td>283.554362</td>\n",
       "      <td>15.0</td>\n",
       "      <td>260.0</td>\n",
       "      <td>137.8</td>\n",
       "      <td>4.18</td>\n",
       "      <td>19.1</td>\n",
       "      <td>0</td>\n",
       "    </tr>\n",
       "    <tr>\n",
       "      <td>2</td>\n",
       "      <td>1</td>\n",
       "      <td>50</td>\n",
       "      <td>Sabha</td>\n",
       "      <td>154.36173</td>\n",
       "      <td>27.0</td>\n",
       "      <td>0.6</td>\n",
       "      <td>3.500000</td>\n",
       "      <td>9.3</td>\n",
       "      <td>11.000000</td>\n",
       "      <td>17.0</td>\n",
       "      <td>155.000000</td>\n",
       "      <td>50.000000</td>\n",
       "      <td>8.740000</td>\n",
       "      <td>5.1</td>\n",
       "      <td>4.46</td>\n",
       "      <td>12.5</td>\n",
       "      <td>456.000000</td>\n",
       "      <td>2.0</td>\n",
       "      <td>169.0</td>\n",
       "      <td>139.2</td>\n",
       "      <td>4.17</td>\n",
       "      <td>16.4</td>\n",
       "      <td>0</td>\n",
       "    </tr>\n",
       "    <tr>\n",
       "      <td>3</td>\n",
       "      <td>1</td>\n",
       "      <td>36</td>\n",
       "      <td>Obaree-center</td>\n",
       "      <td>300.00000</td>\n",
       "      <td>15.0</td>\n",
       "      <td>1.1</td>\n",
       "      <td>4.200000</td>\n",
       "      <td>8.5</td>\n",
       "      <td>13.000000</td>\n",
       "      <td>1.0</td>\n",
       "      <td>140.701195</td>\n",
       "      <td>40.110000</td>\n",
       "      <td>10.340000</td>\n",
       "      <td>3.1</td>\n",
       "      <td>4.33</td>\n",
       "      <td>13.8</td>\n",
       "      <td>600.000000</td>\n",
       "      <td>15.0</td>\n",
       "      <td>138.0</td>\n",
       "      <td>14.0</td>\n",
       "      <td>4.00</td>\n",
       "      <td>1.1</td>\n",
       "      <td>0</td>\n",
       "    </tr>\n",
       "    <tr>\n",
       "      <td>4</td>\n",
       "      <td>1</td>\n",
       "      <td>30</td>\n",
       "      <td>Obaree-center</td>\n",
       "      <td>345.00000</td>\n",
       "      <td>2.0</td>\n",
       "      <td>1.0</td>\n",
       "      <td>3.000000</td>\n",
       "      <td>8.0</td>\n",
       "      <td>7.000000</td>\n",
       "      <td>13.0</td>\n",
       "      <td>125.000000</td>\n",
       "      <td>67.630000</td>\n",
       "      <td>7.310000</td>\n",
       "      <td>4.2</td>\n",
       "      <td>4.13</td>\n",
       "      <td>1.7</td>\n",
       "      <td>543.000000</td>\n",
       "      <td>25.0</td>\n",
       "      <td>154.0</td>\n",
       "      <td>136.4</td>\n",
       "      <td>4.60</td>\n",
       "      <td>17.1</td>\n",
       "      <td>0</td>\n",
       "    </tr>\n",
       "    <tr>\n",
       "      <td>...</td>\n",
       "      <td>...</td>\n",
       "      <td>...</td>\n",
       "      <td>...</td>\n",
       "      <td>...</td>\n",
       "      <td>...</td>\n",
       "      <td>...</td>\n",
       "      <td>...</td>\n",
       "      <td>...</td>\n",
       "      <td>...</td>\n",
       "      <td>...</td>\n",
       "      <td>...</td>\n",
       "      <td>...</td>\n",
       "      <td>...</td>\n",
       "      <td>...</td>\n",
       "      <td>...</td>\n",
       "      <td>...</td>\n",
       "      <td>...</td>\n",
       "      <td>...</td>\n",
       "      <td>...</td>\n",
       "      <td>...</td>\n",
       "      <td>...</td>\n",
       "      <td>...</td>\n",
       "      <td>...</td>\n",
       "    </tr>\n",
       "    <tr>\n",
       "      <td>2432</td>\n",
       "      <td>1</td>\n",
       "      <td>30</td>\n",
       "      <td>Algatroon</td>\n",
       "      <td>70.00000</td>\n",
       "      <td>28.0</td>\n",
       "      <td>0.7</td>\n",
       "      <td>5.900000</td>\n",
       "      <td>9.5</td>\n",
       "      <td>13.882247</td>\n",
       "      <td>23.0</td>\n",
       "      <td>234.000000</td>\n",
       "      <td>21.000000</td>\n",
       "      <td>1.120000</td>\n",
       "      <td>3.9</td>\n",
       "      <td>5.23</td>\n",
       "      <td>11.3</td>\n",
       "      <td>288.000000</td>\n",
       "      <td>15.0</td>\n",
       "      <td>254.0</td>\n",
       "      <td>138.7</td>\n",
       "      <td>4.35</td>\n",
       "      <td>103.6</td>\n",
       "      <td>1</td>\n",
       "    </tr>\n",
       "    <tr>\n",
       "      <td>2433</td>\n",
       "      <td>1</td>\n",
       "      <td>47</td>\n",
       "      <td>Sabha</td>\n",
       "      <td>98.00000</td>\n",
       "      <td>32.0</td>\n",
       "      <td>0.8</td>\n",
       "      <td>10.200000</td>\n",
       "      <td>8.8</td>\n",
       "      <td>13.882247</td>\n",
       "      <td>23.0</td>\n",
       "      <td>190.000000</td>\n",
       "      <td>21.370000</td>\n",
       "      <td>2.020000</td>\n",
       "      <td>4.8</td>\n",
       "      <td>4.57</td>\n",
       "      <td>13.2</td>\n",
       "      <td>249.000000</td>\n",
       "      <td>12.0</td>\n",
       "      <td>254.0</td>\n",
       "      <td>142.3</td>\n",
       "      <td>4.40</td>\n",
       "      <td>102.7</td>\n",
       "      <td>1</td>\n",
       "    </tr>\n",
       "    <tr>\n",
       "      <td>2434</td>\n",
       "      <td>1</td>\n",
       "      <td>43</td>\n",
       "      <td>Sabha</td>\n",
       "      <td>76.00000</td>\n",
       "      <td>15.0</td>\n",
       "      <td>0.6</td>\n",
       "      <td>11.400000</td>\n",
       "      <td>8.1</td>\n",
       "      <td>22.000000</td>\n",
       "      <td>15.0</td>\n",
       "      <td>143.000000</td>\n",
       "      <td>8.500000</td>\n",
       "      <td>0.500000</td>\n",
       "      <td>4.4</td>\n",
       "      <td>4.32</td>\n",
       "      <td>11.1</td>\n",
       "      <td>249.000000</td>\n",
       "      <td>8.0</td>\n",
       "      <td>254.0</td>\n",
       "      <td>137.8</td>\n",
       "      <td>4.25</td>\n",
       "      <td>110.2</td>\n",
       "      <td>1</td>\n",
       "    </tr>\n",
       "    <tr>\n",
       "      <td>2435</td>\n",
       "      <td>1</td>\n",
       "      <td>60</td>\n",
       "      <td>Sabha</td>\n",
       "      <td>120.00000</td>\n",
       "      <td>29.0</td>\n",
       "      <td>0.9</td>\n",
       "      <td>10.900000</td>\n",
       "      <td>8.2</td>\n",
       "      <td>51.000000</td>\n",
       "      <td>17.0</td>\n",
       "      <td>104.000000</td>\n",
       "      <td>30.967314</td>\n",
       "      <td>4.536407</td>\n",
       "      <td>4.5</td>\n",
       "      <td>4.41</td>\n",
       "      <td>12.9</td>\n",
       "      <td>293.000000</td>\n",
       "      <td>13.0</td>\n",
       "      <td>254.0</td>\n",
       "      <td>147.5</td>\n",
       "      <td>3.15</td>\n",
       "      <td>107.5</td>\n",
       "      <td>1</td>\n",
       "    </tr>\n",
       "    <tr>\n",
       "      <td>2436</td>\n",
       "      <td>1</td>\n",
       "      <td>68</td>\n",
       "      <td>Sabha</td>\n",
       "      <td>90.00000</td>\n",
       "      <td>29.0</td>\n",
       "      <td>0.6</td>\n",
       "      <td>5.300000</td>\n",
       "      <td>8.5</td>\n",
       "      <td>13.882247</td>\n",
       "      <td>20.0</td>\n",
       "      <td>178.000000</td>\n",
       "      <td>30.967314</td>\n",
       "      <td>4.536407</td>\n",
       "      <td>3.4</td>\n",
       "      <td>4.42</td>\n",
       "      <td>11.0</td>\n",
       "      <td>199.000000</td>\n",
       "      <td>15.0</td>\n",
       "      <td>254.0</td>\n",
       "      <td>142.3</td>\n",
       "      <td>3.23</td>\n",
       "      <td>107.5</td>\n",
       "      <td>1</td>\n",
       "    </tr>\n",
       "  </tbody>\n",
       "</table>\n",
       "<p>2437 rows × 23 columns</p>\n",
       "</div>"
      ],
      "text/plain": [
       "      Sex  Age         Adress        FBS  Urea  Creatinin        ALB  TCa  \\\n",
       "0       1   60         Tragan  200.00000  23.0        0.8   3.400000  1.0   \n",
       "1       1   53          Sabha  154.36173  22.0        0.7   4.461508  9.6   \n",
       "2       1   50          Sabha  154.36173  27.0        0.6   3.500000  9.3   \n",
       "3       1   36  Obaree-center  300.00000  15.0        1.1   4.200000  8.5   \n",
       "4       1   30  Obaree-center  345.00000   2.0        1.0   3.000000  8.0   \n",
       "...   ...  ...            ...        ...   ...        ...        ...  ...   \n",
       "2432    1   30      Algatroon   70.00000  28.0        0.7   5.900000  9.5   \n",
       "2433    1   47          Sabha   98.00000  32.0        0.8  10.200000  8.8   \n",
       "2434    1   43          Sabha   76.00000  15.0        0.6  11.400000  8.1   \n",
       "2435    1   60          Sabha  120.00000  29.0        0.9  10.900000  8.2   \n",
       "2436    1   68          Sabha   90.00000  29.0        0.6   5.300000  8.5   \n",
       "\n",
       "            GPT   GOT         ALP       CA15        CEA  WBC   RBC   HGB  \\\n",
       "0      2.000000   1.0  124.000000  69.120000   8.020000  3.4  4.60  13.4   \n",
       "1      3.000000   7.0  133.000000  51.820000   7.910000  4.4  5.00  12.5   \n",
       "2     11.000000  17.0  155.000000  50.000000   8.740000  5.1  4.46  12.5   \n",
       "3     13.000000   1.0  140.701195  40.110000  10.340000  3.1  4.33  13.8   \n",
       "4      7.000000  13.0  125.000000  67.630000   7.310000  4.2  4.13   1.7   \n",
       "...         ...   ...         ...        ...        ...  ...   ...   ...   \n",
       "2432  13.882247  23.0  234.000000  21.000000   1.120000  3.9  5.23  11.3   \n",
       "2433  13.882247  23.0  190.000000  21.370000   2.020000  4.8  4.57  13.2   \n",
       "2434  22.000000  15.0  143.000000   8.500000   0.500000  4.4  4.32  11.1   \n",
       "2435  51.000000  17.0  104.000000  30.967314   4.536407  4.5  4.41  12.9   \n",
       "2436  13.882247  20.0  178.000000  30.967314   4.536407  3.4  4.42  11.0   \n",
       "\n",
       "             PLT   ESR    LDH     Na     K     CL  CLASS  \n",
       "0     500.000000  25.0  150.0  145.0  4.50   19.1      0  \n",
       "1     283.554362  15.0  260.0  137.8  4.18   19.1      0  \n",
       "2     456.000000   2.0  169.0  139.2  4.17   16.4      0  \n",
       "3     600.000000  15.0  138.0   14.0  4.00    1.1      0  \n",
       "4     543.000000  25.0  154.0  136.4  4.60   17.1      0  \n",
       "...          ...   ...    ...    ...   ...    ...    ...  \n",
       "2432  288.000000  15.0  254.0  138.7  4.35  103.6      1  \n",
       "2433  249.000000  12.0  254.0  142.3  4.40  102.7      1  \n",
       "2434  249.000000   8.0  254.0  137.8  4.25  110.2      1  \n",
       "2435  293.000000  13.0  254.0  147.5  3.15  107.5      1  \n",
       "2436  199.000000  15.0  254.0  142.3  3.23  107.5      1  \n",
       "\n",
       "[2437 rows x 23 columns]"
      ]
     },
     "execution_count": 9,
     "metadata": {},
     "output_type": "execute_result"
    }
   ],
   "source": [
    "#imputing nan values\n",
    "\n",
    "BC[\"FBS\"].fillna(BC[\"FBS\"].mean(), inplace=True)\n",
    "BC[\"Urea\"].fillna(BC[\"Urea\"].mean(), inplace=True)\n",
    "BC[\"Creatinin\"].fillna(BC[\"Creatinin\"].mean(), inplace=True)\n",
    "BC[\"ALB\"].fillna(BC[\"ALB\"].mean(), inplace=True)\n",
    "BC[\"TCa\"].fillna(BC[\"TCa\"].mean(), inplace=True)\n",
    "BC[\"GPT\"].fillna(BC[\"GPT\"].mean(), inplace=True)\n",
    "BC[\"GOT\"].fillna(BC[\"GOT\"].mean(), inplace=True)\n",
    "BC[\"ALP\"].fillna(BC[\"ALP\"].mean(), inplace=True)\n",
    "BC[\"WBC\"].fillna(BC[\"WBC\"].mean(), inplace=True)\n",
    "BC[\"HGB\"].fillna(BC[\"HGB\"].mean(), inplace=True)\n",
    "BC[\"RBC\"].fillna(BC[\"RBC\"].mean(), inplace=True)\n",
    "BC[\"PLT\"].fillna(BC[\"PLT\"].mean(), inplace=True)\n",
    "BC[\"ESR\"].fillna(BC[\"ESR\"].mean(), inplace=True)\n",
    "BC[\"LDH\"].fillna(BC[\"LDH\"].mean(), inplace=True)\n",
    "BC[\"Na\"].fillna(BC[\"Na\"].mean(), inplace=True)\n",
    "BC[\"K\"].fillna(BC[\"K\"].mean(), inplace=True)\n",
    "BC[\"CL\"].fillna(BC[\"CL\"].mean(), inplace=True)\n",
    "BC[\"CA15\"].fillna(BC[\"CA15\"].mean(), inplace=True)\n",
    "BC[\"CEA\"].fillna(BC[\"CEA\"].mean(), inplace=True)\n",
    "BC\n"
   ]
  },
  {
   "cell_type": "code",
   "execution_count": 10,
   "metadata": {},
   "outputs": [],
   "source": [
    "\n",
    "from sklearn.preprocessing import LabelEncoder\n",
    "le = LabelEncoder()\n",
    "cols = BC.columns.tolist()\n",
    "for column in cols:\n",
    "    if BC[column].dtype == 'object':\n",
    "        BC[column] = le.fit_transform(BC[column])\n"
   ]
  },
  {
   "cell_type": "code",
   "execution_count": 11,
   "metadata": {},
   "outputs": [
    {
     "data": {
      "text/html": [
       "<div>\n",
       "<style scoped>\n",
       "    .dataframe tbody tr th:only-of-type {\n",
       "        vertical-align: middle;\n",
       "    }\n",
       "\n",
       "    .dataframe tbody tr th {\n",
       "        vertical-align: top;\n",
       "    }\n",
       "\n",
       "    .dataframe thead th {\n",
       "        text-align: right;\n",
       "    }\n",
       "</style>\n",
       "<table border=\"1\" class=\"dataframe\">\n",
       "  <thead>\n",
       "    <tr style=\"text-align: right;\">\n",
       "      <th></th>\n",
       "      <th>Sex</th>\n",
       "      <th>Age</th>\n",
       "      <th>Adress</th>\n",
       "      <th>FBS</th>\n",
       "      <th>Urea</th>\n",
       "      <th>Creatinin</th>\n",
       "      <th>ALB</th>\n",
       "      <th>TCa</th>\n",
       "      <th>GPT</th>\n",
       "      <th>GOT</th>\n",
       "      <th>ALP</th>\n",
       "      <th>CA15</th>\n",
       "      <th>CEA</th>\n",
       "      <th>WBC</th>\n",
       "      <th>RBC</th>\n",
       "      <th>HGB</th>\n",
       "      <th>PLT</th>\n",
       "      <th>ESR</th>\n",
       "      <th>LDH</th>\n",
       "      <th>Na</th>\n",
       "      <th>K</th>\n",
       "      <th>CL</th>\n",
       "    </tr>\n",
       "  </thead>\n",
       "  <tbody>\n",
       "    <tr>\n",
       "      <td>0</td>\n",
       "      <td>1</td>\n",
       "      <td>60</td>\n",
       "      <td>24</td>\n",
       "      <td>200.00000</td>\n",
       "      <td>23.0</td>\n",
       "      <td>0.8</td>\n",
       "      <td>3.400000</td>\n",
       "      <td>1.0</td>\n",
       "      <td>2.0</td>\n",
       "      <td>1.0</td>\n",
       "      <td>124.000000</td>\n",
       "      <td>69.12</td>\n",
       "      <td>8.02</td>\n",
       "      <td>3.4</td>\n",
       "      <td>4.60</td>\n",
       "      <td>13.4</td>\n",
       "      <td>500.000000</td>\n",
       "      <td>25.0</td>\n",
       "      <td>150.0</td>\n",
       "      <td>145.0</td>\n",
       "      <td>4.50</td>\n",
       "      <td>19.1</td>\n",
       "    </tr>\n",
       "    <tr>\n",
       "      <td>1</td>\n",
       "      <td>1</td>\n",
       "      <td>53</td>\n",
       "      <td>19</td>\n",
       "      <td>154.36173</td>\n",
       "      <td>22.0</td>\n",
       "      <td>0.7</td>\n",
       "      <td>4.461508</td>\n",
       "      <td>9.6</td>\n",
       "      <td>3.0</td>\n",
       "      <td>7.0</td>\n",
       "      <td>133.000000</td>\n",
       "      <td>51.82</td>\n",
       "      <td>7.91</td>\n",
       "      <td>4.4</td>\n",
       "      <td>5.00</td>\n",
       "      <td>12.5</td>\n",
       "      <td>283.554362</td>\n",
       "      <td>15.0</td>\n",
       "      <td>260.0</td>\n",
       "      <td>137.8</td>\n",
       "      <td>4.18</td>\n",
       "      <td>19.1</td>\n",
       "    </tr>\n",
       "    <tr>\n",
       "      <td>2</td>\n",
       "      <td>1</td>\n",
       "      <td>50</td>\n",
       "      <td>19</td>\n",
       "      <td>154.36173</td>\n",
       "      <td>27.0</td>\n",
       "      <td>0.6</td>\n",
       "      <td>3.500000</td>\n",
       "      <td>9.3</td>\n",
       "      <td>11.0</td>\n",
       "      <td>17.0</td>\n",
       "      <td>155.000000</td>\n",
       "      <td>50.00</td>\n",
       "      <td>8.74</td>\n",
       "      <td>5.1</td>\n",
       "      <td>4.46</td>\n",
       "      <td>12.5</td>\n",
       "      <td>456.000000</td>\n",
       "      <td>2.0</td>\n",
       "      <td>169.0</td>\n",
       "      <td>139.2</td>\n",
       "      <td>4.17</td>\n",
       "      <td>16.4</td>\n",
       "    </tr>\n",
       "    <tr>\n",
       "      <td>3</td>\n",
       "      <td>1</td>\n",
       "      <td>36</td>\n",
       "      <td>17</td>\n",
       "      <td>300.00000</td>\n",
       "      <td>15.0</td>\n",
       "      <td>1.1</td>\n",
       "      <td>4.200000</td>\n",
       "      <td>8.5</td>\n",
       "      <td>13.0</td>\n",
       "      <td>1.0</td>\n",
       "      <td>140.701195</td>\n",
       "      <td>40.11</td>\n",
       "      <td>10.34</td>\n",
       "      <td>3.1</td>\n",
       "      <td>4.33</td>\n",
       "      <td>13.8</td>\n",
       "      <td>600.000000</td>\n",
       "      <td>15.0</td>\n",
       "      <td>138.0</td>\n",
       "      <td>14.0</td>\n",
       "      <td>4.00</td>\n",
       "      <td>1.1</td>\n",
       "    </tr>\n",
       "    <tr>\n",
       "      <td>4</td>\n",
       "      <td>1</td>\n",
       "      <td>30</td>\n",
       "      <td>17</td>\n",
       "      <td>345.00000</td>\n",
       "      <td>2.0</td>\n",
       "      <td>1.0</td>\n",
       "      <td>3.000000</td>\n",
       "      <td>8.0</td>\n",
       "      <td>7.0</td>\n",
       "      <td>13.0</td>\n",
       "      <td>125.000000</td>\n",
       "      <td>67.63</td>\n",
       "      <td>7.31</td>\n",
       "      <td>4.2</td>\n",
       "      <td>4.13</td>\n",
       "      <td>1.7</td>\n",
       "      <td>543.000000</td>\n",
       "      <td>25.0</td>\n",
       "      <td>154.0</td>\n",
       "      <td>136.4</td>\n",
       "      <td>4.60</td>\n",
       "      <td>17.1</td>\n",
       "    </tr>\n",
       "  </tbody>\n",
       "</table>\n",
       "</div>"
      ],
      "text/plain": [
       "   Sex  Age  Adress        FBS  Urea  Creatinin       ALB  TCa   GPT   GOT  \\\n",
       "0    1   60      24  200.00000  23.0        0.8  3.400000  1.0   2.0   1.0   \n",
       "1    1   53      19  154.36173  22.0        0.7  4.461508  9.6   3.0   7.0   \n",
       "2    1   50      19  154.36173  27.0        0.6  3.500000  9.3  11.0  17.0   \n",
       "3    1   36      17  300.00000  15.0        1.1  4.200000  8.5  13.0   1.0   \n",
       "4    1   30      17  345.00000   2.0        1.0  3.000000  8.0   7.0  13.0   \n",
       "\n",
       "          ALP   CA15    CEA  WBC   RBC   HGB         PLT   ESR    LDH     Na  \\\n",
       "0  124.000000  69.12   8.02  3.4  4.60  13.4  500.000000  25.0  150.0  145.0   \n",
       "1  133.000000  51.82   7.91  4.4  5.00  12.5  283.554362  15.0  260.0  137.8   \n",
       "2  155.000000  50.00   8.74  5.1  4.46  12.5  456.000000   2.0  169.0  139.2   \n",
       "3  140.701195  40.11  10.34  3.1  4.33  13.8  600.000000  15.0  138.0   14.0   \n",
       "4  125.000000  67.63   7.31  4.2  4.13   1.7  543.000000  25.0  154.0  136.4   \n",
       "\n",
       "      K    CL  \n",
       "0  4.50  19.1  \n",
       "1  4.18  19.1  \n",
       "2  4.17  16.4  \n",
       "3  4.00   1.1  \n",
       "4  4.60  17.1  "
      ]
     },
     "execution_count": 11,
     "metadata": {},
     "output_type": "execute_result"
    }
   ],
   "source": [
    "y = BC.CLASS                          # M or B \n",
    "list = ['CLASS']\n",
    "x = BC.drop(list,axis = 1 )\n",
    "x.head()"
   ]
  },
  {
   "cell_type": "markdown",
   "metadata": {},
   "source": [
    "## Feature Selection by Generic\n"
   ]
  },
  {
   "cell_type": "code",
   "execution_count": 12,
   "metadata": {},
   "outputs": [],
   "source": [
    "#print('Original X Shape is ' , X.shape)\n",
    "FeatureSelection = GenericUnivariateSelect(score_func= chi2, mode= 'k_best', param=2) # score_func can = f_classif : mode can = percentile,fpr,fdr,fwe \n",
    "X = FeatureSelection.fit_transform(x, y)\n"
   ]
  },
  {
   "cell_type": "code",
   "execution_count": 13,
   "metadata": {},
   "outputs": [
    {
     "name": "stdout",
     "output_type": "stream",
     "text": [
      "X Shape is  (2437, 2)\n"
     ]
    }
   ],
   "source": [
    "#showing X Dimension \n",
    "print('X Shape is ' , X.shape)\n",
    "\n"
   ]
  },
  {
   "cell_type": "code",
   "execution_count": 14,
   "metadata": {},
   "outputs": [
    {
     "name": "stdout",
     "output_type": "stream",
     "text": [
      "Selected Features are :  [False False False False False False False False False False False  True\n",
      " False False False False  True False False False False False]\n"
     ]
    },
    {
     "data": {
      "text/plain": [
       "Index(['CA15', 'PLT'], dtype='object')"
      ]
     },
     "execution_count": 14,
     "metadata": {},
     "output_type": "execute_result"
    }
   ],
   "source": [
    "#showing X Dimension \n",
    "#print('X Shape is ' , X.shape)\n",
    "print('Selected Features are : ' , FeatureSelection.get_support())\n",
    "x.columns[FeatureSelection.get_support()]\n",
    "\n"
   ]
  },
  {
   "cell_type": "code",
   "execution_count": 15,
   "metadata": {},
   "outputs": [],
   "source": [
    "X=BC.drop([\"CLASS\",\"Sex\",\"Age\",\"FBS\",\"Adress\",\"Urea\",\"Creatinin\",\"ALB\",\"TCa\",\"GPT\",\"GOT\",\"ALP\",\"CEA\",\"WBC\",\"RBC\",\"ESR\",\"LDH\",\"K\",\"Na\",\"CL\",\"HGB\"],axis=1)\n",
    "Y=BC[\"CLASS\"] \n"
   ]
  },
  {
   "cell_type": "code",
   "execution_count": 16,
   "metadata": {},
   "outputs": [
    {
     "data": {
      "text/plain": [
       "(2437, 2)"
      ]
     },
     "execution_count": 16,
     "metadata": {},
     "output_type": "execute_result"
    }
   ],
   "source": [
    "X.shape\n"
   ]
  },
  {
   "cell_type": "code",
   "execution_count": 17,
   "metadata": {},
   "outputs": [],
   "source": [
    "from sklearn.model_selection import train_test_split\n",
    "x_train, x_test, y_train, y_test = train_test_split(X, Y, \n",
    "                                                    test_size=0.25)\n",
    "\n"
   ]
  },
  {
   "cell_type": "code",
   "execution_count": 18,
   "metadata": {},
   "outputs": [
    {
     "data": {
      "text/plain": [
       "DecisionTreeClassifier(class_weight=None, criterion='gini', max_depth=None,\n",
       "                       max_features=None, max_leaf_nodes=None,\n",
       "                       min_impurity_decrease=0.0, min_impurity_split=None,\n",
       "                       min_samples_leaf=1, min_samples_split=2,\n",
       "                       min_weight_fraction_leaf=0.0, presort=False,\n",
       "                       random_state=0, splitter='best')"
      ]
     },
     "execution_count": 18,
     "metadata": {},
     "output_type": "execute_result"
    }
   ],
   "source": [
    "from sklearn.tree import DecisionTreeClassifier\n",
    "\n",
    "D_classifier= DecisionTreeClassifier(random_state=0) \n",
    "D_classifier.fit(x_train,y_train) \n",
    "\n"
   ]
  },
  {
   "cell_type": "code",
   "execution_count": 19,
   "metadata": {},
   "outputs": [],
   "source": [
    "y_pred=D_classifier.predict_proba(x_test)[:,1]\n",
    "\n",
    "\n",
    "new_y=[]\n",
    "for i in range (len(y_pred)):\n",
    "    if y_pred[i]<0.5:\n",
    "        new_y.append(0)\n",
    "    else:\n",
    "        new_y.append(1)\n",
    "\n"
   ]
  },
  {
   "cell_type": "code",
   "execution_count": 20,
   "metadata": {},
   "outputs": [
    {
     "data": {
      "text/plain": [
       "0.7"
      ]
     },
     "execution_count": 20,
     "metadata": {},
     "output_type": "execute_result"
    }
   ],
   "source": [
    "from sklearn.metrics import accuracy_score\n",
    "\n",
    "\n",
    "accuracy_score(y_test,new_y)\n"
   ]
  },
  {
   "cell_type": "code",
   "execution_count": 21,
   "metadata": {},
   "outputs": [
    {
     "name": "stdout",
     "output_type": "stream",
     "text": [
      "mean_absolute_error is = 0.29918032786885246\n",
      "mean_squared_error is = 0.54593213346841\n"
     ]
    }
   ],
   "source": [
    "from sklearn.metrics import mean_absolute_error\n",
    "from sklearn.metrics import mean_squared_error\n",
    "\n",
    "\n",
    "MAEVale=mean_absolute_error(y_test,y_pred,multioutput=\"uniform_average\")\n",
    "print(\"mean_absolute_error is =\",MAEVale)\n",
    "\n",
    "MSEVale=mean_squared_error(y_test,y_pred,multioutput=\"uniform_average\")\n",
    "RmseVal=np.sqrt(MSEVale)\n",
    "print(\"mean_squared_error is =\",RmseVal)\n"
   ]
  },
  {
   "cell_type": "code",
   "execution_count": 22,
   "metadata": {},
   "outputs": [
    {
     "name": "stdout",
     "output_type": "stream",
     "text": [
      "Decision Tree  classifiers  confusion_matrix\n",
      "Decision Tree classifier Trining Accurcy = 0.9939792008757526\n",
      "Decision Tree classifier Testing Accurcy =  0.7\n",
      "[[242  97]\n",
      " [ 86 185]]\n"
     ]
    },
    {
     "data": {
      "text/plain": [
       "Text(33.0, 0.5, 'Acutl')"
      ]
     },
     "execution_count": 22,
     "metadata": {},
     "output_type": "execute_result"
    },
    {
     "data": {
      "image/png": "[encoded data removed]",
      "text/plain": [
       "<Figure size 432x288 with 2 Axes>"
      ]
     },
     "metadata": {
      "needs_background": "light"
     },
     "output_type": "display_data"
    }
   ],
   "source": [
    "from sklearn.metrics import confusion_matrix\n",
    "\n",
    "print(\"Decision Tree  classifiers  confusion_matrix\")\n",
    "cm=confusion_matrix(y_test,new_y)\n",
    "TN=cm[0][0]\n",
    "TP=cm[1][1]\n",
    "FP=cm[0][1]\n",
    "FN=cm[1][0]\n",
    "\n",
    "print('Decision Tree classifier Trining Accurcy =',D_classifier.score(x_train,y_train) )\n",
    "print('Decision Tree classifier Testing Accurcy = ',(TP+TN)/(TP+TN+FP+FN))\n",
    "print(cm)\n",
    "sns.heatmap(cm,annot=True)\n",
    "plt.title(\"Decision Tree classifier confusion_matrix \")\n",
    "plt.xlabel(\"Predication\")\n",
    "plt.ylabel(\"Acutl\")\n",
    "\n"
   ]
  },
  {
   "cell_type": "code",
   "execution_count": 23,
   "metadata": {},
   "outputs": [
    {
     "name": "stdout",
     "output_type": "stream",
     "text": [
      "classification_report Decision Tree\n",
      ".......................................\n",
      "              precision    recall  f1-score   support\n",
      "\n",
      "           0       0.74      0.72      0.73       339\n",
      "           1       0.66      0.68      0.67       271\n",
      "\n",
      "    accuracy                           0.70       610\n",
      "   macro avg       0.70      0.70      0.70       610\n",
      "weighted avg       0.70      0.70      0.70       610\n",
      "\n",
      "accuracy_score= 0.7016393442622951\n"
     ]
    }
   ],
   "source": [
    "\n",
    "\n",
    "### CLASSIFACTION Report\n",
    "\n",
    "from sklearn.metrics import classification_report\n",
    "from sklearn.metrics import accuracy_score\n",
    "\n",
    "y_pred=D_classifier.predict(x_test)\n",
    "print('classification_report Decision Tree')\n",
    "print('.......................................') \n",
    "\n",
    "print(classification_report(y_test,y_pred)) \n",
    "print(\"accuracy_score=\",accuracy_score(y_test,y_pred)) \n",
    "\n",
    "\n"
   ]
  },
  {
   "cell_type": "markdown",
   "metadata": {},
   "source": [
    "## Feature Selection by Generic BY 3FS"
   ]
  },
  {
   "cell_type": "code",
   "execution_count": 24,
   "metadata": {},
   "outputs": [],
   "source": [
    "\n",
    "\n",
    "\n",
    "#print('Original X Shape is ' , X.shape)\n",
    "FeatureSelection = GenericUnivariateSelect(score_func= chi2, mode= 'k_best', param=3) # score_func can = f_classif : mode can = percentile,fpr,fdr,fwe \n",
    "X = FeatureSelection.fit_transform(x, y)\n"
   ]
  },
  {
   "cell_type": "code",
   "execution_count": 25,
   "metadata": {},
   "outputs": [
    {
     "name": "stdout",
     "output_type": "stream",
     "text": [
      "X Shape is  (2437, 3)\n"
     ]
    }
   ],
   "source": [
    "#showing X Dimension \n",
    "print('X Shape is ' , X.shape)\n"
   ]
  },
  {
   "cell_type": "code",
   "execution_count": 26,
   "metadata": {},
   "outputs": [
    {
     "name": "stdout",
     "output_type": "stream",
     "text": [
      "Selected Features are :  [False False False False False False False False False False False  True\n",
      " False False False False  True False  True False False False]\n"
     ]
    },
    {
     "data": {
      "text/plain": [
       "Index(['CA15', 'PLT', 'LDH'], dtype='object')"
      ]
     },
     "execution_count": 26,
     "metadata": {},
     "output_type": "execute_result"
    }
   ],
   "source": [
    "#showing X Dimension \n",
    "#print('X Shape is ' , X.shape)\n",
    "print('Selected Features are : ' , FeatureSelection.get_support())\n",
    "x.columns[FeatureSelection.get_support()]\n",
    "\n"
   ]
  },
  {
   "cell_type": "code",
   "execution_count": 27,
   "metadata": {},
   "outputs": [],
   "source": [
    "X=BC.drop([\"CLASS\",\"Sex\",\"Age\",\"FBS\",\"Adress\",\"Urea\",\"Creatinin\",\"ALB\",\"TCa\",\"GPT\",\"GOT\",\"ALP\",\"CEA\",\"WBC\",\"RBC\",\"ESR\",\"K\",\"Na\",\"CL\",\"HGB\"],axis=1)\n",
    "Y=BC[\"CLASS\"] \n",
    "\n"
   ]
  },
  {
   "cell_type": "code",
   "execution_count": 28,
   "metadata": {},
   "outputs": [],
   "source": [
    "from sklearn.model_selection import train_test_split\n",
    "x_train, x_test, y_train, y_test = train_test_split(X, Y, \n",
    "                                                    test_size=0.25)\n"
   ]
  },
  {
   "cell_type": "code",
   "execution_count": 29,
   "metadata": {},
   "outputs": [
    {
     "data": {
      "text/plain": [
       "DecisionTreeClassifier(class_weight=None, criterion='gini', max_depth=None,\n",
       "                       max_features=None, max_leaf_nodes=None,\n",
       "                       min_impurity_decrease=0.0, min_impurity_split=None,\n",
       "                       min_samples_leaf=1, min_samples_split=2,\n",
       "                       min_weight_fraction_leaf=0.0, presort=False,\n",
       "                       random_state=0, splitter='best')"
      ]
     },
     "execution_count": 29,
     "metadata": {},
     "output_type": "execute_result"
    }
   ],
   "source": [
    "from sklearn.tree import DecisionTreeClassifier\n",
    "\n",
    "D_classifier= DecisionTreeClassifier(random_state=0) \n",
    "D_classifier.fit(x_train,y_train) \n"
   ]
  },
  {
   "cell_type": "code",
   "execution_count": 30,
   "metadata": {},
   "outputs": [],
   "source": [
    "y_pred=D_classifier.predict_proba(x_test)[:,1]\n",
    "\n",
    "\n",
    "new_y=[]\n",
    "for i in range (len(y_pred)):\n",
    "    if y_pred[i]<0.5:\n",
    "        new_y.append(0)\n",
    "    else:\n",
    "        new_y.append(1)\n"
   ]
  },
  {
   "cell_type": "code",
   "execution_count": 31,
   "metadata": {},
   "outputs": [
    {
     "data": {
      "text/plain": [
       "0.7704918032786885"
      ]
     },
     "execution_count": 31,
     "metadata": {},
     "output_type": "execute_result"
    }
   ],
   "source": [
    "from sklearn.metrics import accuracy_score\n",
    "\n",
    "\n",
    "accuracy_score(y_test,new_y)\n"
   ]
  },
  {
   "cell_type": "code",
   "execution_count": 32,
   "metadata": {},
   "outputs": [
    {
     "name": "stdout",
     "output_type": "stream",
     "text": [
      "mean_absolute_error is = 0.22950819672131148\n",
      "mean_squared_error is = 0.47907013758040845\n"
     ]
    }
   ],
   "source": [
    "from sklearn.metrics import mean_absolute_error\n",
    "from sklearn.metrics import mean_squared_error\n",
    "\n",
    "\n",
    "MAEVale=mean_absolute_error(y_test,y_pred,multioutput=\"uniform_average\")\n",
    "print(\"mean_absolute_error is =\",MAEVale)\n",
    "\n",
    "MSEVale=mean_squared_error(y_test,y_pred,multioutput=\"uniform_average\")\n",
    "RmseVal=np.sqrt(MSEVale)\n",
    "print(\"mean_squared_error is =\",RmseVal)\n",
    "\n"
   ]
  },
  {
   "cell_type": "code",
   "execution_count": 33,
   "metadata": {},
   "outputs": [
    {
     "name": "stdout",
     "output_type": "stream",
     "text": [
      "Decision Tree  classifiers  confusion_matrix\n",
      "Decision Tree classifier Trining Accurcy = 0.9994526546250684\n",
      "Decision Tree classifier Testing Accurcy =  0.7704918032786885\n",
      "[[284  69]\n",
      " [ 71 186]]\n"
     ]
    },
    {
     "data": {
      "text/plain": [
       "Text(33.0, 0.5, 'Acutl')"
      ]
     },
     "execution_count": 33,
     "metadata": {},
     "output_type": "execute_result"
    },
    {
     "data": {
      "image/png": "[encoded data removed]",
      "text/plain": [
       "<Figure size 432x288 with 2 Axes>"
      ]
     },
     "metadata": {
      "needs_background": "light"
     },
     "output_type": "display_data"
    }
   ],
   "source": [
    "from sklearn.metrics import confusion_matrix\n",
    "\n",
    "print(\"Decision Tree  classifiers  confusion_matrix\")\n",
    "cm=confusion_matrix(y_test,new_y)\n",
    "TN=cm[0][0]\n",
    "TP=cm[1][1]\n",
    "FP=cm[0][1]\n",
    "FN=cm[1][0]\n",
    "\n",
    "print('Decision Tree classifier Trining Accurcy =',D_classifier.score(x_train,y_train) )\n",
    "print('Decision Tree classifier Testing Accurcy = ',(TP+TN)/(TP+TN+FP+FN))\n",
    "print(cm)\n",
    "sns.heatmap(cm,annot=True)\n",
    "plt.title(\"Decision Tree classifier confusion_matrix \")\n",
    "plt.xlabel(\"Predication\")\n",
    "plt.ylabel(\"Acutl\")\n"
   ]
  },
  {
   "cell_type": "code",
   "execution_count": 34,
   "metadata": {},
   "outputs": [
    {
     "name": "stdout",
     "output_type": "stream",
     "text": [
      "classification_report Decision Tree\n",
      ".......................................\n",
      "              precision    recall  f1-score   support\n",
      "\n",
      "           0       0.80      0.80      0.80       353\n",
      "           1       0.73      0.72      0.73       257\n",
      "\n",
      "    accuracy                           0.77       610\n",
      "   macro avg       0.76      0.76      0.76       610\n",
      "weighted avg       0.77      0.77      0.77       610\n",
      "\n",
      "accuracy_score= 0.7704918032786885\n"
     ]
    }
   ],
   "source": [
    "### CLASSIFACTION Report\n",
    "\n",
    "from sklearn.metrics import classification_report\n",
    "from sklearn.metrics import accuracy_score\n",
    "\n",
    "y_pred=D_classifier.predict(x_test)\n",
    "print('classification_report Decision Tree')\n",
    "print('.......................................') \n",
    "\n",
    "print(classification_report(y_test,y_pred)) \n",
    "print(\"accuracy_score=\",accuracy_score(y_test,y_pred)) \n"
   ]
  },
  {
   "cell_type": "markdown",
   "metadata": {},
   "source": [
    "## Feature Selection by Generic BY 4FS"
   ]
  },
  {
   "cell_type": "code",
   "execution_count": 35,
   "metadata": {},
   "outputs": [
    {
     "name": "stdout",
     "output_type": "stream",
     "text": [
      "X Shape is  (2437, 4)\n"
     ]
    }
   ],
   "source": [
    "#print('Original X Shape is ' , X.shape)\n",
    "FeatureSelection = GenericUnivariateSelect(score_func= chi2, mode= 'k_best', param=4) # score_func can = f_classif : mode can = percentile,fpr,fdr,fwe \n",
    "X = FeatureSelection.fit_transform(x, y)\n",
    "#showing X Dimension \n",
    "print('X Shape is ' , X.shape)\n"
   ]
  },
  {
   "cell_type": "code",
   "execution_count": 36,
   "metadata": {},
   "outputs": [
    {
     "name": "stdout",
     "output_type": "stream",
     "text": [
      "Selected Features are :  [False False False  True False False False False False False False  True\n",
      " False False False False  True False  True False False False]\n"
     ]
    },
    {
     "data": {
      "text/plain": [
       "Index(['FBS', 'CA15', 'PLT', 'LDH'], dtype='object')"
      ]
     },
     "execution_count": 36,
     "metadata": {},
     "output_type": "execute_result"
    }
   ],
   "source": [
    "#showing X Dimension \n",
    "#print('X Shape is ' , X.shape)\n",
    "print('Selected Features are : ' , FeatureSelection.get_support())\n",
    "x.columns[FeatureSelection.get_support()]\n"
   ]
  },
  {
   "cell_type": "code",
   "execution_count": 37,
   "metadata": {},
   "outputs": [],
   "source": [
    "X=BC.drop([\"CLASS\",\"Sex\",\"Age\",\"Adress\",\"Urea\",\"Creatinin\",\"ALB\",\"TCa\",\"GPT\",\"GOT\",\"ALP\",\"CEA\",\"WBC\",\"RBC\",\"ESR\",\"K\",\"Na\",\"CL\",\"HGB\"],axis=1)\n",
    "Y=BC[\"CLASS\"] \n",
    "\n"
   ]
  },
  {
   "cell_type": "code",
   "execution_count": 38,
   "metadata": {},
   "outputs": [],
   "source": [
    "from sklearn.model_selection import train_test_split\n",
    "x_train, x_test, y_train, y_test = train_test_split(X, Y, \n",
    "                                                    test_size=0.25)\n"
   ]
  },
  {
   "cell_type": "code",
   "execution_count": 39,
   "metadata": {},
   "outputs": [
    {
     "data": {
      "text/plain": [
       "DecisionTreeClassifier(class_weight=None, criterion='gini', max_depth=None,\n",
       "                       max_features=None, max_leaf_nodes=None,\n",
       "                       min_impurity_decrease=0.0, min_impurity_split=None,\n",
       "                       min_samples_leaf=1, min_samples_split=2,\n",
       "                       min_weight_fraction_leaf=0.0, presort=False,\n",
       "                       random_state=0, splitter='best')"
      ]
     },
     "execution_count": 39,
     "metadata": {},
     "output_type": "execute_result"
    }
   ],
   "source": [
    "from sklearn.tree import DecisionTreeClassifier\n",
    "\n",
    "D_classifier= DecisionTreeClassifier(random_state=0) \n",
    "D_classifier.fit(x_train,y_train) \n",
    "\n"
   ]
  },
  {
   "cell_type": "code",
   "execution_count": 40,
   "metadata": {},
   "outputs": [],
   "source": [
    "y_pred=D_classifier.predict_proba(x_test)[:,1]\n",
    "\n",
    "\n",
    "new_y=[]\n",
    "for i in range (len(y_pred)):\n",
    "    if y_pred[i]<0.5:\n",
    "        new_y.append(0)\n",
    "    else:\n",
    "        new_y.append(1)\n",
    "\n"
   ]
  },
  {
   "cell_type": "code",
   "execution_count": 41,
   "metadata": {},
   "outputs": [
    {
     "data": {
      "text/plain": [
       "0.8016393442622951"
      ]
     },
     "execution_count": 41,
     "metadata": {},
     "output_type": "execute_result"
    }
   ],
   "source": [
    "from sklearn.metrics import accuracy_score\n",
    "\n",
    "\n",
    "accuracy_score(y_test,new_y)\n",
    "\n"
   ]
  },
  {
   "cell_type": "code",
   "execution_count": 42,
   "metadata": {},
   "outputs": [
    {
     "name": "stdout",
     "output_type": "stream",
     "text": [
      "mean_absolute_error is = 0.19836065573770492\n",
      "mean_squared_error is = 0.44537698159840383\n"
     ]
    }
   ],
   "source": [
    "from sklearn.metrics import mean_absolute_error\n",
    "from sklearn.metrics import mean_squared_error\n",
    "\n",
    "\n",
    "MAEVale=mean_absolute_error(y_test,y_pred,multioutput=\"uniform_average\")\n",
    "print(\"mean_absolute_error is =\",MAEVale)\n",
    "\n",
    "MSEVale=mean_squared_error(y_test,y_pred,multioutput=\"uniform_average\")\n",
    "RmseVal=np.sqrt(MSEVale)\n",
    "print(\"mean_squared_error is =\",RmseVal)\n"
   ]
  },
  {
   "cell_type": "code",
   "execution_count": 43,
   "metadata": {},
   "outputs": [
    {
     "name": "stdout",
     "output_type": "stream",
     "text": [
      "Decision Tree  classifiers  confusion_matrix\n",
      "Decision Tree classifier Trining Accurcy = 1.0\n",
      "Decision Tree classifier Testing Accurcy =  0.8016393442622951\n",
      "[[273  60]\n",
      " [ 61 216]]\n"
     ]
    },
    {
     "data": {
      "text/plain": [
       "Text(33.0, 0.5, 'Acutl')"
      ]
     },
     "execution_count": 43,
     "metadata": {},
     "output_type": "execute_result"
    },
    {
     "data": {
      "image/png": "[encoded data removed]",
      "text/plain": [
       "<Figure size 432x288 with 2 Axes>"
      ]
     },
     "metadata": {
      "needs_background": "light"
     },
     "output_type": "display_data"
    }
   ],
   "source": [
    "from sklearn.metrics import confusion_matrix\n",
    "\n",
    "print(\"Decision Tree  classifiers  confusion_matrix\")\n",
    "cm=confusion_matrix(y_test,new_y)\n",
    "TN=cm[0][0]\n",
    "TP=cm[1][1]\n",
    "FP=cm[0][1]\n",
    "FN=cm[1][0]\n",
    "\n",
    "print('Decision Tree classifier Trining Accurcy =',D_classifier.score(x_train,y_train) )\n",
    "print('Decision Tree classifier Testing Accurcy = ',(TP+TN)/(TP+TN+FP+FN))\n",
    "print(cm)\n",
    "sns.heatmap(cm,annot=True)\n",
    "plt.title(\"Decision Tree classifier confusion_matrix \")\n",
    "plt.xlabel(\"Predication\")\n",
    "plt.ylabel(\"Acutl\")\n",
    "\n"
   ]
  },
  {
   "cell_type": "code",
   "execution_count": 44,
   "metadata": {},
   "outputs": [
    {
     "name": "stdout",
     "output_type": "stream",
     "text": [
      "classification_report Decision Tree\n",
      ".......................................\n",
      "              precision    recall  f1-score   support\n",
      "\n",
      "           0       0.82      0.82      0.82       333\n",
      "           1       0.78      0.78      0.78       277\n",
      "\n",
      "    accuracy                           0.80       610\n",
      "   macro avg       0.80      0.80      0.80       610\n",
      "weighted avg       0.80      0.80      0.80       610\n",
      "\n",
      "accuracy_score= 0.8016393442622951\n"
     ]
    }
   ],
   "source": [
    "\n",
    "### CLASSIFACTION Report\n",
    "\n",
    "from sklearn.metrics import classification_report\n",
    "from sklearn.metrics import accuracy_score\n",
    "\n",
    "y_pred=D_classifier.predict(x_test)\n",
    "print('classification_report Decision Tree')\n",
    "print('.......................................') \n",
    "\n",
    "print(classification_report(y_test,y_pred)) \n",
    "print(\"accuracy_score=\",accuracy_score(y_test,y_pred)) \n"
   ]
  },
  {
   "cell_type": "markdown",
   "metadata": {},
   "source": [
    "## Feature Selection by Generic BY 5FS"
   ]
  },
  {
   "cell_type": "code",
   "execution_count": 45,
   "metadata": {},
   "outputs": [
    {
     "name": "stdout",
     "output_type": "stream",
     "text": [
      "X Shape is  (2437, 5)\n"
     ]
    }
   ],
   "source": [
    "#print('Original X Shape is ' , X.shape)\n",
    "FeatureSelection = GenericUnivariateSelect(score_func= chi2, mode= 'k_best', param=5) # score_func can = f_classif : mode can = percentile,fpr,fdr,fwe \n",
    "X = FeatureSelection.fit_transform(x, y)\n",
    "\n",
    "\n",
    "#showing X Dimension \n",
    "print('X Shape is ' , X.shape)\n"
   ]
  },
  {
   "cell_type": "code",
   "execution_count": 46,
   "metadata": {},
   "outputs": [
    {
     "name": "stdout",
     "output_type": "stream",
     "text": [
      "Selected Features are :  [False False False  True False False False False False False False  True\n",
      " False False False False  True  True  True False False False]\n"
     ]
    },
    {
     "data": {
      "text/plain": [
       "Index(['FBS', 'CA15', 'PLT', 'ESR', 'LDH'], dtype='object')"
      ]
     },
     "execution_count": 46,
     "metadata": {},
     "output_type": "execute_result"
    }
   ],
   "source": [
    "#showing X Dimension \n",
    "#print('X Shape is ' , X.shape)\n",
    "print('Selected Features are : ' , FeatureSelection.get_support())\n",
    "x.columns[FeatureSelection.get_support()]\n"
   ]
  },
  {
   "cell_type": "code",
   "execution_count": 47,
   "metadata": {},
   "outputs": [],
   "source": [
    "\n",
    "X=BC.drop([\"CLASS\",\"Sex\",\"Age\",\"Adress\",\"Urea\",\"Creatinin\",\"ALB\",\"TCa\",\"GPT\",\"GOT\",\"ALP\",\"CEA\",\"WBC\",\"RBC\",\"K\",\"Na\",\"CL\",\"HGB\"],axis=1)\n",
    "Y=BC[\"CLASS\"] \n",
    "\n"
   ]
  },
  {
   "cell_type": "code",
   "execution_count": 48,
   "metadata": {},
   "outputs": [
    {
     "data": {
      "text/plain": [
       "(2437, 5)"
      ]
     },
     "execution_count": 48,
     "metadata": {},
     "output_type": "execute_result"
    }
   ],
   "source": [
    " X.shape"
   ]
  },
  {
   "cell_type": "code",
   "execution_count": 49,
   "metadata": {},
   "outputs": [],
   "source": [
    "from sklearn.model_selection import train_test_split\n",
    "x_train, x_test, y_train, y_test = train_test_split(X, Y, \n",
    "                                                    test_size=0.25)\n"
   ]
  },
  {
   "cell_type": "code",
   "execution_count": 50,
   "metadata": {},
   "outputs": [
    {
     "data": {
      "text/plain": [
       "DecisionTreeClassifier(class_weight=None, criterion='gini', max_depth=None,\n",
       "                       max_features=None, max_leaf_nodes=None,\n",
       "                       min_impurity_decrease=0.0, min_impurity_split=None,\n",
       "                       min_samples_leaf=1, min_samples_split=2,\n",
       "                       min_weight_fraction_leaf=0.0, presort=False,\n",
       "                       random_state=0, splitter='best')"
      ]
     },
     "execution_count": 50,
     "metadata": {},
     "output_type": "execute_result"
    }
   ],
   "source": [
    "from sklearn.tree import DecisionTreeClassifier\n",
    "\n",
    "D_classifier= DecisionTreeClassifier(random_state=0) \n",
    "D_classifier.fit(x_train,y_train) \n"
   ]
  },
  {
   "cell_type": "code",
   "execution_count": 51,
   "metadata": {},
   "outputs": [],
   "source": [
    "y_pred=D_classifier.predict_proba(x_test)[:,1]\n",
    "\n",
    "\n",
    "new_y=[]\n",
    "for i in range (len(y_pred)):\n",
    "    if y_pred[i]<0.5:\n",
    "        new_y.append(0)\n",
    "    else:\n",
    "        new_y.append(1)\n",
    "\n"
   ]
  },
  {
   "cell_type": "code",
   "execution_count": 52,
   "metadata": {},
   "outputs": [
    {
     "data": {
      "text/plain": [
       "0.8229508196721311"
      ]
     },
     "execution_count": 52,
     "metadata": {},
     "output_type": "execute_result"
    }
   ],
   "source": [
    "from sklearn.metrics import accuracy_score\n",
    "\n",
    "\n",
    "accuracy_score(y_test,new_y)\n"
   ]
  },
  {
   "cell_type": "code",
   "execution_count": 53,
   "metadata": {},
   "outputs": [
    {
     "name": "stdout",
     "output_type": "stream",
     "text": [
      "mean_absolute_error is = 0.17704918032786884\n",
      "mean_squared_error is = 0.420772123990966\n"
     ]
    }
   ],
   "source": [
    "\n",
    "\n",
    "from sklearn.metrics import mean_absolute_error\n",
    "from sklearn.metrics import mean_squared_error\n",
    "\n",
    "\n",
    "MAEVale=mean_absolute_error(y_test,y_pred,multioutput=\"uniform_average\")\n",
    "print(\"mean_absolute_error is =\",MAEVale)\n",
    "\n",
    "MSEVale=mean_squared_error(y_test,y_pred,multioutput=\"uniform_average\")\n",
    "RmseVal=np.sqrt(MSEVale)\n",
    "print(\"mean_squared_error is =\",RmseVal)\n",
    "\n"
   ]
  },
  {
   "cell_type": "code",
   "execution_count": 54,
   "metadata": {},
   "outputs": [
    {
     "name": "stdout",
     "output_type": "stream",
     "text": [
      "Decision Tree  classifiers  confusion_matrix\n",
      "Decision Tree classifier Trining Accurcy = 1.0\n",
      "Decision Tree classifier Testing Accurcy =  0.8229508196721311\n",
      "[[280  59]\n",
      " [ 49 222]]\n"
     ]
    },
    {
     "data": {
      "text/plain": [
       "Text(33.0, 0.5, 'Acutl')"
      ]
     },
     "execution_count": 54,
     "metadata": {},
     "output_type": "execute_result"
    },
    {
     "data": {
      "image/png": "[encoded data removed]",
      "text/plain": [
       "<Figure size 432x288 with 2 Axes>"
      ]
     },
     "metadata": {
      "needs_background": "light"
     },
     "output_type": "display_data"
    }
   ],
   "source": [
    "from sklearn.metrics import confusion_matrix\n",
    "\n",
    "print(\"Decision Tree  classifiers  confusion_matrix\")\n",
    "cm=confusion_matrix(y_test,new_y)\n",
    "TN=cm[0][0]\n",
    "TP=cm[1][1]\n",
    "FP=cm[0][1]\n",
    "FN=cm[1][0]\n",
    "\n",
    "print('Decision Tree classifier Trining Accurcy =',D_classifier.score(x_train,y_train) )\n",
    "print('Decision Tree classifier Testing Accurcy = ',(TP+TN)/(TP+TN+FP+FN))\n",
    "print(cm)\n",
    "sns.heatmap(cm,annot=True)\n",
    "plt.title(\"Decision Tree classifier confusion_matrix \")\n",
    "plt.xlabel(\"Predication\")\n",
    "plt.ylabel(\"Acutl\")\n"
   ]
  },
  {
   "cell_type": "code",
   "execution_count": 55,
   "metadata": {},
   "outputs": [
    {
     "name": "stdout",
     "output_type": "stream",
     "text": [
      "classification_report Decision Tree\n",
      ".......................................\n",
      "              precision    recall  f1-score   support\n",
      "\n",
      "           0       0.85      0.83      0.84       339\n",
      "           1       0.79      0.82      0.80       271\n",
      "\n",
      "    accuracy                           0.82       610\n",
      "   macro avg       0.82      0.82      0.82       610\n",
      "weighted avg       0.82      0.82      0.82       610\n",
      "\n",
      "accuracy_score= 0.8229508196721311\n"
     ]
    }
   ],
   "source": [
    "\n",
    "### CLASSIFACTION Report\n",
    "\n",
    "from sklearn.metrics import classification_report\n",
    "from sklearn.metrics import accuracy_score\n",
    "\n",
    "y_pred=D_classifier.predict(x_test)\n",
    "print('classification_report Decision Tree')\n",
    "print('.......................................') \n",
    "\n",
    "print(classification_report(y_test,y_pred)) \n",
    "print(\"accuracy_score=\",accuracy_score(y_test,y_pred)) \n"
   ]
  },
  {
   "cell_type": "markdown",
   "metadata": {},
   "source": [
    "## Feature Selection by Generic BY 6FS"
   ]
  },
  {
   "cell_type": "code",
   "execution_count": 56,
   "metadata": {},
   "outputs": [],
   "source": [
    "#print('Original X Shape is ' , X.shape)\n",
    "FeatureSelection = GenericUnivariateSelect(score_func= chi2, mode= 'k_best', param=6) # score_func can = f_classif : mode can = percentile,fpr,fdr,fwe \n",
    "X = FeatureSelection.fit_transform(x, y)\n"
   ]
  },
  {
   "cell_type": "code",
   "execution_count": 57,
   "metadata": {},
   "outputs": [
    {
     "name": "stdout",
     "output_type": "stream",
     "text": [
      "X Shape is  (2437, 6)\n"
     ]
    }
   ],
   "source": [
    "#showing X Dimension \n",
    "print('X Shape is ' , X.shape)\n",
    "\n"
   ]
  },
  {
   "cell_type": "code",
   "execution_count": 58,
   "metadata": {},
   "outputs": [
    {
     "name": "stdout",
     "output_type": "stream",
     "text": [
      "Selected Features are :  [False False False  True False False False False False False False  True\n",
      "  True False False False  True  True  True False False False]\n"
     ]
    },
    {
     "data": {
      "text/plain": [
       "Index(['FBS', 'CA15', 'CEA', 'PLT', 'ESR', 'LDH'], dtype='object')"
      ]
     },
     "execution_count": 58,
     "metadata": {},
     "output_type": "execute_result"
    }
   ],
   "source": [
    "#showing X Dimension \n",
    "#print('X Shape is ' , X.shape)\n",
    "print('Selected Features are : ' , FeatureSelection.get_support())\n",
    "x.columns[FeatureSelection.get_support()]\n"
   ]
  },
  {
   "cell_type": "code",
   "execution_count": 59,
   "metadata": {},
   "outputs": [],
   "source": [
    "X=BC.drop([\"CLASS\",\"Sex\",\"Age\",\"Adress\",\"Urea\",\"Creatinin\",\"ALB\",\"TCa\",\"GPT\",\"GOT\",\"ALP\",\"WBC\",\"RBC\",\"K\",\"Na\",\"CL\",\"HGB\"],axis=1)\n",
    "Y=BC[\"CLASS\"] \n",
    "\n"
   ]
  },
  {
   "cell_type": "code",
   "execution_count": 60,
   "metadata": {},
   "outputs": [
    {
     "data": {
      "text/plain": [
       "(2437, 6)"
      ]
     },
     "execution_count": 60,
     "metadata": {},
     "output_type": "execute_result"
    }
   ],
   "source": [
    "X.shape"
   ]
  },
  {
   "cell_type": "code",
   "execution_count": 61,
   "metadata": {},
   "outputs": [],
   "source": [
    "from sklearn.model_selection import train_test_split\n",
    "x_train, x_test, y_train, y_test = train_test_split(X, Y, \n",
    "                                                    test_size=0.25)\n"
   ]
  },
  {
   "cell_type": "code",
   "execution_count": 62,
   "metadata": {},
   "outputs": [
    {
     "data": {
      "text/plain": [
       "DecisionTreeClassifier(class_weight=None, criterion='gini', max_depth=None,\n",
       "                       max_features=None, max_leaf_nodes=None,\n",
       "                       min_impurity_decrease=0.0, min_impurity_split=None,\n",
       "                       min_samples_leaf=1, min_samples_split=2,\n",
       "                       min_weight_fraction_leaf=0.0, presort=False,\n",
       "                       random_state=0, splitter='best')"
      ]
     },
     "execution_count": 62,
     "metadata": {},
     "output_type": "execute_result"
    }
   ],
   "source": [
    "from sklearn.tree import DecisionTreeClassifier\n",
    "\n",
    "D_classifier= DecisionTreeClassifier(random_state=0) \n",
    "D_classifier.fit(x_train,y_train) \n"
   ]
  },
  {
   "cell_type": "code",
   "execution_count": 63,
   "metadata": {},
   "outputs": [],
   "source": [
    "y_pred=D_classifier.predict_proba(x_test)[:,1]\n",
    "\n",
    "\n",
    "new_y=[]\n",
    "for i in range (len(y_pred)):\n",
    "    if y_pred[i]<0.5:\n",
    "        new_y.append(0)\n",
    "    else:\n",
    "        new_y.append(1)\n"
   ]
  },
  {
   "cell_type": "code",
   "execution_count": 64,
   "metadata": {},
   "outputs": [
    {
     "data": {
      "text/plain": [
       "0.8114754098360656"
      ]
     },
     "execution_count": 64,
     "metadata": {},
     "output_type": "execute_result"
    }
   ],
   "source": [
    "from sklearn.metrics import accuracy_score\n",
    "\n",
    "\n",
    "accuracy_score(y_test,new_y)\n"
   ]
  },
  {
   "cell_type": "code",
   "execution_count": 65,
   "metadata": {},
   "outputs": [
    {
     "name": "stdout",
     "output_type": "stream",
     "text": [
      "mean_absolute_error is = 0.1885245901639344\n",
      "mean_squared_error is = 0.4341941848573452\n"
     ]
    }
   ],
   "source": [
    "from sklearn.metrics import mean_absolute_error\n",
    "from sklearn.metrics import mean_squared_error\n",
    "\n",
    "\n",
    "MAEVale=mean_absolute_error(y_test,y_pred,multioutput=\"uniform_average\")\n",
    "print(\"mean_absolute_error is =\",MAEVale)\n",
    "\n",
    "MSEVale=mean_squared_error(y_test,y_pred,multioutput=\"uniform_average\")\n",
    "RmseVal=np.sqrt(MSEVale)\n",
    "print(\"mean_squared_error is =\",RmseVal)\n"
   ]
  },
  {
   "cell_type": "code",
   "execution_count": 66,
   "metadata": {},
   "outputs": [
    {
     "name": "stdout",
     "output_type": "stream",
     "text": [
      "Decision Tree  classifiers  confusion_matrix\n",
      "Decision Tree classifier Trining Accurcy = 1.0\n",
      "Decision Tree classifier Testing Accurcy =  0.8114754098360656\n",
      "[[270  58]\n",
      " [ 57 225]]\n"
     ]
    },
    {
     "data": {
      "text/plain": [
       "Text(33.0, 0.5, 'Acutl')"
      ]
     },
     "execution_count": 66,
     "metadata": {},
     "output_type": "execute_result"
    },
    {
     "data": {
      "image/png": "[encoded data removed]",
      "text/plain": [
       "<Figure size 432x288 with 2 Axes>"
      ]
     },
     "metadata": {
      "needs_background": "light"
     },
     "output_type": "display_data"
    }
   ],
   "source": [
    "from sklearn.metrics import confusion_matrix\n",
    "\n",
    "print(\"Decision Tree  classifiers  confusion_matrix\")\n",
    "cm=confusion_matrix(y_test,new_y)\n",
    "TN=cm[0][0]\n",
    "TP=cm[1][1]\n",
    "FP=cm[0][1]\n",
    "FN=cm[1][0]\n",
    "\n",
    "print('Decision Tree classifier Trining Accurcy =',D_classifier.score(x_train,y_train) )\n",
    "print('Decision Tree classifier Testing Accurcy = ',(TP+TN)/(TP+TN+FP+FN))\n",
    "print(cm)\n",
    "sns.heatmap(cm,annot=True)\n",
    "plt.title(\"Decision Tree classifier confusion_matrix \")\n",
    "plt.xlabel(\"Predication\")\n",
    "plt.ylabel(\"Acutl\")\n"
   ]
  },
  {
   "cell_type": "code",
   "execution_count": 67,
   "metadata": {},
   "outputs": [
    {
     "name": "stdout",
     "output_type": "stream",
     "text": [
      "classification_report Decision Tree\n",
      ".......................................\n",
      "              precision    recall  f1-score   support\n",
      "\n",
      "           0       0.83      0.82      0.82       328\n",
      "           1       0.80      0.80      0.80       282\n",
      "\n",
      "    accuracy                           0.81       610\n",
      "   macro avg       0.81      0.81      0.81       610\n",
      "weighted avg       0.81      0.81      0.81       610\n",
      "\n",
      "accuracy_score= 0.8114754098360656\n"
     ]
    }
   ],
   "source": [
    "\n",
    "### CLASSIFACTION Report\n",
    "\n",
    "from sklearn.metrics import classification_report\n",
    "from sklearn.metrics import accuracy_score\n",
    "\n",
    "y_pred=D_classifier.predict(x_test)\n",
    "print('classification_report Decision Tree')\n",
    "print('.......................................') \n",
    "\n",
    "print(classification_report(y_test,y_pred)) \n",
    "print(\"accuracy_score=\",accuracy_score(y_test,y_pred)) \n"
   ]
  },
  {
   "cell_type": "markdown",
   "metadata": {},
   "source": [
    "## Feature Selection by Generic BY 7FS"
   ]
  },
  {
   "cell_type": "code",
   "execution_count": 68,
   "metadata": {},
   "outputs": [],
   "source": [
    "#print('Original X Shape is ' , X.shape)\n",
    "FeatureSelection = GenericUnivariateSelect(score_func= chi2, mode= 'k_best', param=7) # score_func can = f_classif : mode can = percentile,fpr,fdr,fwe \n",
    "X = FeatureSelection.fit_transform(x, y)\n",
    "\n"
   ]
  },
  {
   "cell_type": "code",
   "execution_count": 69,
   "metadata": {},
   "outputs": [
    {
     "name": "stdout",
     "output_type": "stream",
     "text": [
      "X Shape is  (2437, 7)\n"
     ]
    }
   ],
   "source": [
    "#showing X Dimension \n",
    "print('X Shape is ' , X.shape)\n"
   ]
  },
  {
   "cell_type": "code",
   "execution_count": 70,
   "metadata": {},
   "outputs": [
    {
     "name": "stdout",
     "output_type": "stream",
     "text": [
      "Selected Features are :  [False False False  True False False False False False False False  True\n",
      "  True False  True False  True  True  True False False False]\n"
     ]
    },
    {
     "data": {
      "text/plain": [
       "Index(['FBS', 'CA15', 'CEA', 'RBC', 'PLT', 'ESR', 'LDH'], dtype='object')"
      ]
     },
     "execution_count": 70,
     "metadata": {},
     "output_type": "execute_result"
    }
   ],
   "source": [
    "#showing X Dimension \n",
    "#print('X Shape is ' , X.shape)\n",
    "print('Selected Features are : ' , FeatureSelection.get_support())\n",
    "x.columns[FeatureSelection.get_support()]\n"
   ]
  },
  {
   "cell_type": "code",
   "execution_count": 71,
   "metadata": {},
   "outputs": [
    {
     "data": {
      "text/plain": [
       "(2437, 7)"
      ]
     },
     "execution_count": 71,
     "metadata": {},
     "output_type": "execute_result"
    }
   ],
   "source": [
    "X=BC.drop([\"CLASS\",\"Sex\",\"Age\",\"Adress\",\"Urea\",\"Creatinin\",\"ALB\",\"TCa\",\"GPT\",\"GOT\",\"ALP\",\"WBC\",\"K\",\"Na\",\"CL\",\"HGB\"],axis=1)\n",
    "Y=BC[\"CLASS\"] \n",
    "\n",
    "\n",
    "\n",
    "X.shape\n"
   ]
  },
  {
   "cell_type": "code",
   "execution_count": 72,
   "metadata": {},
   "outputs": [],
   "source": [
    "\n",
    "\n",
    "\n",
    "from sklearn.model_selection import train_test_split\n",
    "x_train, x_test, y_train, y_test = train_test_split(X, Y, \n",
    "                                                    test_size=0.25)\n",
    "\n"
   ]
  },
  {
   "cell_type": "code",
   "execution_count": 73,
   "metadata": {},
   "outputs": [
    {
     "data": {
      "text/plain": [
       "DecisionTreeClassifier(class_weight=None, criterion='gini', max_depth=None,\n",
       "                       max_features=None, max_leaf_nodes=None,\n",
       "                       min_impurity_decrease=0.0, min_impurity_split=None,\n",
       "                       min_samples_leaf=1, min_samples_split=2,\n",
       "                       min_weight_fraction_leaf=0.0, presort=False,\n",
       "                       random_state=0, splitter='best')"
      ]
     },
     "execution_count": 73,
     "metadata": {},
     "output_type": "execute_result"
    }
   ],
   "source": [
    "\n",
    "from sklearn.tree import DecisionTreeClassifier\n",
    "\n",
    "D_classifier= DecisionTreeClassifier(random_state=0) \n",
    "D_classifier.fit(x_train,y_train) \n"
   ]
  },
  {
   "cell_type": "code",
   "execution_count": 74,
   "metadata": {},
   "outputs": [],
   "source": [
    "y_pred=D_classifier.predict_proba(x_test)[:,1]\n",
    "\n",
    "\n",
    "new_y=[]\n",
    "for i in range (len(y_pred)):\n",
    "    if y_pred[i]<0.5:\n",
    "        new_y.append(0)\n",
    "    else:\n",
    "        new_y.append(1)\n",
    "\n"
   ]
  },
  {
   "cell_type": "code",
   "execution_count": 75,
   "metadata": {},
   "outputs": [
    {
     "data": {
      "text/plain": [
       "0.8327868852459016"
      ]
     },
     "execution_count": 75,
     "metadata": {},
     "output_type": "execute_result"
    }
   ],
   "source": [
    "from sklearn.metrics import accuracy_score\n",
    "\n",
    "\n",
    "accuracy_score(y_test,new_y)\n"
   ]
  },
  {
   "cell_type": "code",
   "execution_count": 76,
   "metadata": {},
   "outputs": [
    {
     "name": "stdout",
     "output_type": "stream",
     "text": [
      "mean_absolute_error is = 0.16721311475409836\n",
      "mean_squared_error is = 0.4089170022805341\n"
     ]
    }
   ],
   "source": [
    "from sklearn.metrics import mean_absolute_error\n",
    "from sklearn.metrics import mean_squared_error\n",
    "\n",
    "\n",
    "MAEVale=mean_absolute_error(y_test,y_pred,multioutput=\"uniform_average\")\n",
    "print(\"mean_absolute_error is =\",MAEVale)\n",
    "\n",
    "MSEVale=mean_squared_error(y_test,y_pred,multioutput=\"uniform_average\")\n",
    "RmseVal=np.sqrt(MSEVale)\n",
    "print(\"mean_squared_error is =\",RmseVal)\n"
   ]
  },
  {
   "cell_type": "code",
   "execution_count": 77,
   "metadata": {},
   "outputs": [
    {
     "name": "stdout",
     "output_type": "stream",
     "text": [
      "Decision Tree  classifiers  confusion_matrix\n",
      "Decision Tree classifier Trining Accurcy = 1.0\n",
      "Decision Tree classifier Testing Accurcy =  0.8327868852459016\n",
      "[[299  60]\n",
      " [ 42 209]]\n"
     ]
    },
    {
     "data": {
      "text/plain": [
       "Text(33.0, 0.5, 'Acutl')"
      ]
     },
     "execution_count": 77,
     "metadata": {},
     "output_type": "execute_result"
    },
    {
     "data": {
      "image/png": "[encoded data removed]",
      "text/plain": [
       "<Figure size 432x288 with 2 Axes>"
      ]
     },
     "metadata": {
      "needs_background": "light"
     },
     "output_type": "display_data"
    }
   ],
   "source": [
    "from sklearn.metrics import confusion_matrix\n",
    "\n",
    "print(\"Decision Tree  classifiers  confusion_matrix\")\n",
    "cm=confusion_matrix(y_test,new_y)\n",
    "TN=cm[0][0]\n",
    "TP=cm[1][1]\n",
    "FP=cm[0][1]\n",
    "FN=cm[1][0]\n",
    "\n",
    "print('Decision Tree classifier Trining Accurcy =',D_classifier.score(x_train,y_train) )\n",
    "print('Decision Tree classifier Testing Accurcy = ',(TP+TN)/(TP+TN+FP+FN))\n",
    "print(cm)\n",
    "sns.heatmap(cm,annot=True)\n",
    "plt.title(\"Decision Tree classifier confusion_matrix \")\n",
    "plt.xlabel(\"Predication\")\n",
    "plt.ylabel(\"Acutl\")\n"
   ]
  },
  {
   "cell_type": "code",
   "execution_count": 78,
   "metadata": {},
   "outputs": [
    {
     "name": "stdout",
     "output_type": "stream",
     "text": [
      "classification_report Decision Tree\n",
      ".......................................\n",
      "              precision    recall  f1-score   support\n",
      "\n",
      "           0       0.88      0.83      0.85       359\n",
      "           1       0.78      0.83      0.80       251\n",
      "\n",
      "    accuracy                           0.83       610\n",
      "   macro avg       0.83      0.83      0.83       610\n",
      "weighted avg       0.84      0.83      0.83       610\n",
      "\n",
      "accuracy_score= 0.8327868852459016\n"
     ]
    }
   ],
   "source": [
    "\n",
    "### CLASSIFACTION Report\n",
    "\n",
    "from sklearn.metrics import classification_report\n",
    "from sklearn.metrics import accuracy_score\n",
    "\n",
    "y_pred=D_classifier.predict(x_test)\n",
    "print('classification_report Decision Tree')\n",
    "print('.......................................') \n",
    "\n",
    "print(classification_report(y_test,y_pred)) \n",
    "print(\"accuracy_score=\",accuracy_score(y_test,y_pred)) \n"
   ]
  },
  {
   "cell_type": "markdown",
   "metadata": {},
   "source": [
    "## Feature Selection by Generic BY 8FS"
   ]
  },
  {
   "cell_type": "code",
   "execution_count": 79,
   "metadata": {},
   "outputs": [
    {
     "name": "stdout",
     "output_type": "stream",
     "text": [
      "X Shape is  (2437, 8)\n"
     ]
    }
   ],
   "source": [
    "#print('Original X Shape is ' , X.shape)\n",
    "FeatureSelection = GenericUnivariateSelect(score_func= chi2, mode= 'k_best', param=8) # score_func can = f_classif : mode can = percentile,fpr,fdr,fwe \n",
    "X = FeatureSelection.fit_transform(x, y)\n",
    "\n",
    "\n",
    "\n",
    "#showing X Dimension \n",
    "print('X Shape is ' , X.shape)\n",
    "\n"
   ]
  },
  {
   "cell_type": "code",
   "execution_count": 80,
   "metadata": {},
   "outputs": [
    {
     "name": "stdout",
     "output_type": "stream",
     "text": [
      "X Shape is  (2437, 8)\n",
      "Selected Features are :  [False False False  True False False False False False False False  True\n",
      "  True  True  True False  True  True  True False False False]\n"
     ]
    },
    {
     "data": {
      "text/plain": [
       "Index(['FBS', 'CA15', 'CEA', 'WBC', 'RBC', 'PLT', 'ESR', 'LDH'], dtype='object')"
      ]
     },
     "execution_count": 80,
     "metadata": {},
     "output_type": "execute_result"
    }
   ],
   "source": [
    "## showing X Dimension \n",
    "print('X Shape is ' , X.shape)\n",
    "print('Selected Features are : ' , FeatureSelection.get_support())\n",
    "x.columns[FeatureSelection.get_support()]\n",
    "\n"
   ]
  },
  {
   "cell_type": "code",
   "execution_count": 81,
   "metadata": {},
   "outputs": [
    {
     "data": {
      "text/plain": [
       "(2437, 8)"
      ]
     },
     "execution_count": 81,
     "metadata": {},
     "output_type": "execute_result"
    }
   ],
   "source": [
    "X=BC.drop([\"CLASS\",\"Sex\",\"Age\",\"Adress\",\"Urea\",\"Creatinin\",\"ALB\",\"TCa\",\"GPT\",\"GOT\",\"ALP\",\"K\",\"Na\",\"CL\",\"HGB\"],axis=1)\n",
    "Y=BC[\"CLASS\"] \n",
    "\n",
    "\n",
    "\n",
    "X.shape\n",
    "\n"
   ]
  },
  {
   "cell_type": "code",
   "execution_count": 82,
   "metadata": {},
   "outputs": [],
   "source": [
    "\n",
    "from sklearn.model_selection import train_test_split\n",
    "x_train, x_test, y_train, y_test = train_test_split(X, Y, \n",
    "                                                    test_size=0.25)\n",
    "\n"
   ]
  },
  {
   "cell_type": "code",
   "execution_count": 83,
   "metadata": {},
   "outputs": [
    {
     "data": {
      "text/plain": [
       "DecisionTreeClassifier(class_weight=None, criterion='gini', max_depth=None,\n",
       "                       max_features=None, max_leaf_nodes=None,\n",
       "                       min_impurity_decrease=0.0, min_impurity_split=None,\n",
       "                       min_samples_leaf=1, min_samples_split=2,\n",
       "                       min_weight_fraction_leaf=0.0, presort=False,\n",
       "                       random_state=0, splitter='best')"
      ]
     },
     "execution_count": 83,
     "metadata": {},
     "output_type": "execute_result"
    }
   ],
   "source": [
    "from sklearn.tree import DecisionTreeClassifier\n",
    "\n",
    "D_classifier= DecisionTreeClassifier(random_state=0) \n",
    "D_classifier.fit(x_train,y_train) \n"
   ]
  },
  {
   "cell_type": "code",
   "execution_count": 84,
   "metadata": {},
   "outputs": [],
   "source": [
    "y_pred=D_classifier.predict_proba(x_test)[:,1]\n",
    "\n",
    "\n",
    "new_y=[]\n",
    "for i in range (len(y_pred)):\n",
    "    if y_pred[i]<0.5:\n",
    "        new_y.append(0)\n",
    "    else:\n",
    "        new_y.append(1)\n"
   ]
  },
  {
   "cell_type": "code",
   "execution_count": 85,
   "metadata": {},
   "outputs": [
    {
     "data": {
      "text/plain": [
       "0.8377049180327869"
      ]
     },
     "execution_count": 85,
     "metadata": {},
     "output_type": "execute_result"
    }
   ],
   "source": [
    "from sklearn.metrics import accuracy_score\n",
    "\n",
    "\n",
    "accuracy_score(y_test,new_y)\n"
   ]
  },
  {
   "cell_type": "code",
   "execution_count": 86,
   "metadata": {},
   "outputs": [
    {
     "name": "stdout",
     "output_type": "stream",
     "text": [
      "mean_absolute_error is = 0.16229508196721312\n",
      "mean_squared_error is = 0.40285863769716185\n"
     ]
    }
   ],
   "source": [
    "from sklearn.metrics import mean_absolute_error\n",
    "from sklearn.metrics import mean_squared_error\n",
    "\n",
    "\n",
    "MAEVale=mean_absolute_error(y_test,y_pred,multioutput=\"uniform_average\")\n",
    "print(\"mean_absolute_error is =\",MAEVale)\n",
    "\n",
    "MSEVale=mean_squared_error(y_test,y_pred,multioutput=\"uniform_average\")\n",
    "RmseVal=np.sqrt(MSEVale)\n",
    "print(\"mean_squared_error is =\",RmseVal)\n"
   ]
  },
  {
   "cell_type": "code",
   "execution_count": 87,
   "metadata": {},
   "outputs": [
    {
     "name": "stdout",
     "output_type": "stream",
     "text": [
      "Decision Tree  classifiers  confusion_matrix\n",
      "Decision Tree classifier Trining Accurcy = 1.0\n",
      "Decision Tree classifier Testing Accurcy =  0.8377049180327869\n",
      "[[291  59]\n",
      " [ 40 220]]\n"
     ]
    },
    {
     "data": {
      "text/plain": [
       "Text(33.0, 0.5, 'Acutl')"
      ]
     },
     "execution_count": 87,
     "metadata": {},
     "output_type": "execute_result"
    },
    {
     "data": {
      "image/png": "[encoded data removed]",
      "text/plain": [
       "<Figure size 432x288 with 2 Axes>"
      ]
     },
     "metadata": {
      "needs_background": "light"
     },
     "output_type": "display_data"
    }
   ],
   "source": [
    "from sklearn.metrics import confusion_matrix\n",
    "\n",
    "print(\"Decision Tree  classifiers  confusion_matrix\")\n",
    "cm=confusion_matrix(y_test,new_y)\n",
    "TN=cm[0][0]\n",
    "TP=cm[1][1]\n",
    "FP=cm[0][1]\n",
    "FN=cm[1][0]\n",
    "\n",
    "print('Decision Tree classifier Trining Accurcy =',D_classifier.score(x_train,y_train) )\n",
    "print('Decision Tree classifier Testing Accurcy = ',(TP+TN)/(TP+TN+FP+FN))\n",
    "print(cm)\n",
    "sns.heatmap(cm,annot=True)\n",
    "plt.title(\"Decision Tree classifier confusion_matrix \")\n",
    "plt.xlabel(\"Predication\")\n",
    "plt.ylabel(\"Acutl\")\n",
    "\n",
    "\n"
   ]
  },
  {
   "cell_type": "code",
   "execution_count": 88,
   "metadata": {},
   "outputs": [
    {
     "name": "stdout",
     "output_type": "stream",
     "text": [
      "classification_report Decision Tree\n",
      ".......................................\n",
      "              precision    recall  f1-score   support\n",
      "\n",
      "           0       0.88      0.83      0.85       350\n",
      "           1       0.79      0.85      0.82       260\n",
      "\n",
      "    accuracy                           0.84       610\n",
      "   macro avg       0.83      0.84      0.84       610\n",
      "weighted avg       0.84      0.84      0.84       610\n",
      "\n",
      "accuracy_score= 0.8377049180327869\n"
     ]
    }
   ],
   "source": [
    "\n",
    "### CLASSIFACTION Report\n",
    "\n",
    "from sklearn.metrics import classification_report\n",
    "from sklearn.metrics import accuracy_score\n",
    "\n",
    "y_pred=D_classifier.predict(x_test)\n",
    "print('classification_report Decision Tree')\n",
    "print('.......................................') \n",
    "\n",
    "print(classification_report(y_test,y_pred)) \n",
    "print(\"accuracy_score=\",accuracy_score(y_test,y_pred)) \n"
   ]
  },
  {
   "cell_type": "markdown",
   "metadata": {},
   "source": [
    "## Feature Selection by Generic BY 9FS"
   ]
  },
  {
   "cell_type": "code",
   "execution_count": 89,
   "metadata": {},
   "outputs": [
    {
     "name": "stdout",
     "output_type": "stream",
     "text": [
      "X Shape is  (2437, 9)\n"
     ]
    }
   ],
   "source": [
    "#print('Original X Shape is ' , X.shape)\n",
    "FeatureSelection = GenericUnivariateSelect(score_func= chi2, mode= 'k_best', param=9) # score_func can = f_classif : mode can = percentile,fpr,fdr,fwe \n",
    "X = FeatureSelection.fit_transform(x, y)\n",
    "\n",
    "\n",
    "\n",
    "#showing X Dimension \n",
    "print('X Shape is ' , X.shape)\n",
    "\n"
   ]
  },
  {
   "cell_type": "code",
   "execution_count": 90,
   "metadata": {},
   "outputs": [
    {
     "name": "stdout",
     "output_type": "stream",
     "text": [
      "X Shape is  (2437, 9)\n",
      "Selected Features are :  [False False False  True False False False False False False  True  True\n",
      "  True  True  True False  True  True  True False False False]\n"
     ]
    },
    {
     "data": {
      "text/plain": [
       "Index(['FBS', 'ALP', 'CA15', 'CEA', 'WBC', 'RBC', 'PLT', 'ESR', 'LDH'], dtype='object')"
      ]
     },
     "execution_count": 90,
     "metadata": {},
     "output_type": "execute_result"
    }
   ],
   "source": [
    "## showing X Dimension \n",
    "print('X Shape is ' , X.shape)\n",
    "print('Selected Features are : ' , FeatureSelection.get_support())\n",
    "x.columns[FeatureSelection.get_support()]\n",
    "\n",
    "\n"
   ]
  },
  {
   "cell_type": "code",
   "execution_count": 91,
   "metadata": {},
   "outputs": [
    {
     "data": {
      "text/plain": [
       "(2437, 9)"
      ]
     },
     "execution_count": 91,
     "metadata": {},
     "output_type": "execute_result"
    }
   ],
   "source": [
    "X=BC.drop([\"CLASS\",\"Sex\",\"Age\",\"Adress\",\"Urea\",\"Creatinin\",\"ALB\",\"TCa\",\"GPT\",\"GOT\",\"K\",\"Na\",\"CL\",\"HGB\"],axis=1)\n",
    "Y=BC[\"CLASS\"] \n",
    "\n",
    "\n",
    "\n",
    "X.shape\n"
   ]
  },
  {
   "cell_type": "code",
   "execution_count": 92,
   "metadata": {},
   "outputs": [],
   "source": [
    "from sklearn.model_selection import train_test_split\n",
    "x_train, x_test, y_train, y_test = train_test_split(X, Y, \n",
    "                                                    test_size=0.25)\n"
   ]
  },
  {
   "cell_type": "code",
   "execution_count": 93,
   "metadata": {},
   "outputs": [
    {
     "data": {
      "text/plain": [
       "DecisionTreeClassifier(class_weight=None, criterion='gini', max_depth=None,\n",
       "                       max_features=None, max_leaf_nodes=None,\n",
       "                       min_impurity_decrease=0.0, min_impurity_split=None,\n",
       "                       min_samples_leaf=1, min_samples_split=2,\n",
       "                       min_weight_fraction_leaf=0.0, presort=False,\n",
       "                       random_state=0, splitter='best')"
      ]
     },
     "execution_count": 93,
     "metadata": {},
     "output_type": "execute_result"
    }
   ],
   "source": [
    "\n",
    "from sklearn.tree import DecisionTreeClassifier\n",
    "\n",
    "D_classifier= DecisionTreeClassifier(random_state=0) \n",
    "D_classifier.fit(x_train,y_train) \n"
   ]
  },
  {
   "cell_type": "code",
   "execution_count": 94,
   "metadata": {},
   "outputs": [],
   "source": [
    "y_pred=D_classifier.predict_proba(x_test)[:,1]\n",
    "\n",
    "\n",
    "new_y=[]\n",
    "for i in range (len(y_pred)):\n",
    "    if y_pred[i]<0.5:\n",
    "        new_y.append(0)\n",
    "    else:\n",
    "        new_y.append(1)\n"
   ]
  },
  {
   "cell_type": "code",
   "execution_count": 95,
   "metadata": {},
   "outputs": [
    {
     "data": {
      "text/plain": [
       "0.8278688524590164"
      ]
     },
     "execution_count": 95,
     "metadata": {},
     "output_type": "execute_result"
    }
   ],
   "source": [
    "from sklearn.metrics import accuracy_score\n",
    "\n",
    "\n",
    "accuracy_score(y_test,new_y)\n"
   ]
  },
  {
   "cell_type": "code",
   "execution_count": 96,
   "metadata": {},
   "outputs": [
    {
     "name": "stdout",
     "output_type": "stream",
     "text": [
      "mean_absolute_error is = 0.1721311475409836\n",
      "mean_squared_error is = 0.4148869093391398\n"
     ]
    }
   ],
   "source": [
    "\n",
    "\n",
    "from sklearn.metrics import mean_absolute_error\n",
    "from sklearn.metrics import mean_squared_error\n",
    "\n",
    "\n",
    "MAEVale=mean_absolute_error(y_test,y_pred,multioutput=\"uniform_average\")\n",
    "print(\"mean_absolute_error is =\",MAEVale)\n",
    "\n",
    "MSEVale=mean_squared_error(y_test,y_pred,multioutput=\"uniform_average\")\n",
    "RmseVal=np.sqrt(MSEVale)\n",
    "print(\"mean_squared_error is =\",RmseVal)\n",
    "\n"
   ]
  },
  {
   "cell_type": "code",
   "execution_count": 97,
   "metadata": {},
   "outputs": [
    {
     "name": "stdout",
     "output_type": "stream",
     "text": [
      "Decision Tree  classifiers  confusion_matrix\n",
      "Decision Tree classifier Trining Accurcy = 1.0\n",
      "Decision Tree classifier Testing Accurcy =  0.8278688524590164\n",
      "[[278  59]\n",
      " [ 46 227]]\n"
     ]
    },
    {
     "data": {
      "text/plain": [
       "Text(33.0, 0.5, 'Acutl')"
      ]
     },
     "execution_count": 97,
     "metadata": {},
     "output_type": "execute_result"
    },
    {
     "data": {
      "image/png": "[encoded data removed]",
      "text/plain": [
       "<Figure size 432x288 with 2 Axes>"
      ]
     },
     "metadata": {
      "needs_background": "light"
     },
     "output_type": "display_data"
    }
   ],
   "source": [
    "from sklearn.metrics import confusion_matrix\n",
    "\n",
    "print(\"Decision Tree  classifiers  confusion_matrix\")\n",
    "cm=confusion_matrix(y_test,new_y)\n",
    "TN=cm[0][0]\n",
    "TP=cm[1][1]\n",
    "FP=cm[0][1]\n",
    "FN=cm[1][0]\n",
    "\n",
    "print('Decision Tree classifier Trining Accurcy =',D_classifier.score(x_train,y_train) )\n",
    "print('Decision Tree classifier Testing Accurcy = ',(TP+TN)/(TP+TN+FP+FN))\n",
    "print(cm)\n",
    "sns.heatmap(cm,annot=True)\n",
    "plt.title(\"Decision Tree classifier confusion_matrix \")\n",
    "plt.xlabel(\"Predication\")\n",
    "plt.ylabel(\"Acutl\")\n"
   ]
  },
  {
   "cell_type": "code",
   "execution_count": 98,
   "metadata": {},
   "outputs": [
    {
     "name": "stdout",
     "output_type": "stream",
     "text": [
      "classification_report Decision Tree\n",
      ".......................................\n",
      "              precision    recall  f1-score   support\n",
      "\n",
      "           0       0.86      0.82      0.84       337\n",
      "           1       0.79      0.83      0.81       273\n",
      "\n",
      "    accuracy                           0.83       610\n",
      "   macro avg       0.83      0.83      0.83       610\n",
      "weighted avg       0.83      0.83      0.83       610\n",
      "\n",
      "accuracy_score= 0.8278688524590164\n"
     ]
    }
   ],
   "source": [
    "\n",
    "### CLASSIFACTION Report\n",
    "\n",
    "from sklearn.metrics import classification_report\n",
    "from sklearn.metrics import accuracy_score\n",
    "\n",
    "y_pred=D_classifier.predict(x_test)\n",
    "print('classification_report Decision Tree')\n",
    "print('.......................................') \n",
    "\n",
    "print(classification_report(y_test,y_pred)) \n",
    "print(\"accuracy_score=\",accuracy_score(y_test,y_pred)) \n"
   ]
  },
  {
   "cell_type": "markdown",
   "metadata": {},
   "source": [
    "## Feature Selection by Generic BY 10FS"
   ]
  },
  {
   "cell_type": "code",
   "execution_count": 99,
   "metadata": {},
   "outputs": [
    {
     "name": "stdout",
     "output_type": "stream",
     "text": [
      "X Shape is  (2437, 10)\n"
     ]
    }
   ],
   "source": [
    "#print('Original X Shape is ' , X.shape)\n",
    "FeatureSelection = GenericUnivariateSelect(score_func= chi2, mode= 'k_best', param=10) # score_func can = f_classif : mode can = percentile,fpr,fdr,fwe \n",
    "X = FeatureSelection.fit_transform(x, y)\n",
    "\n",
    "\n",
    "\n",
    "#showing X Dimension \n",
    "print('X Shape is ' , X.shape)\n",
    "\n"
   ]
  },
  {
   "cell_type": "code",
   "execution_count": 100,
   "metadata": {},
   "outputs": [
    {
     "name": "stdout",
     "output_type": "stream",
     "text": [
      "X Shape is  (2437, 10)\n",
      "Selected Features are :  [False False False  True False False False False  True False  True  True\n",
      "  True  True  True False  True  True  True False False False]\n"
     ]
    },
    {
     "data": {
      "text/plain": [
       "Index(['FBS', 'GPT', 'ALP', 'CA15', 'CEA', 'WBC', 'RBC', 'PLT', 'ESR', 'LDH'], dtype='object')"
      ]
     },
     "execution_count": 100,
     "metadata": {},
     "output_type": "execute_result"
    }
   ],
   "source": [
    "## showing X Dimension \n",
    "print('X Shape is ' , X.shape)\n",
    "print('Selected Features are : ' , FeatureSelection.get_support())\n",
    "x.columns[FeatureSelection.get_support()]\n"
   ]
  },
  {
   "cell_type": "code",
   "execution_count": 101,
   "metadata": {},
   "outputs": [
    {
     "data": {
      "text/plain": [
       "(2437, 10)"
      ]
     },
     "execution_count": 101,
     "metadata": {},
     "output_type": "execute_result"
    }
   ],
   "source": [
    "X=BC.drop([\"CLASS\",\"Sex\",\"Age\",\"Adress\",\"Urea\",\"Creatinin\",\"ALB\",\"TCa\",\"GOT\",\"K\",\"Na\",\"CL\",\"HGB\"],axis=1)\n",
    "Y=BC[\"CLASS\"] \n",
    "\n",
    "\n",
    "\n",
    "X.shape\n"
   ]
  },
  {
   "cell_type": "code",
   "execution_count": 102,
   "metadata": {},
   "outputs": [],
   "source": [
    "from sklearn.model_selection import train_test_split\n",
    "x_train, x_test, y_train, y_test = train_test_split(X, Y, \n",
    "                                                    test_size=0.25)\n",
    "\n"
   ]
  },
  {
   "cell_type": "code",
   "execution_count": 103,
   "metadata": {},
   "outputs": [
    {
     "data": {
      "text/plain": [
       "DecisionTreeClassifier(class_weight=None, criterion='gini', max_depth=None,\n",
       "                       max_features=None, max_leaf_nodes=None,\n",
       "                       min_impurity_decrease=0.0, min_impurity_split=None,\n",
       "                       min_samples_leaf=1, min_samples_split=2,\n",
       "                       min_weight_fraction_leaf=0.0, presort=False,\n",
       "                       random_state=0, splitter='best')"
      ]
     },
     "execution_count": 103,
     "metadata": {},
     "output_type": "execute_result"
    }
   ],
   "source": [
    "from sklearn.tree import DecisionTreeClassifier\n",
    "\n",
    "D_classifier= DecisionTreeClassifier(random_state=0) \n",
    "D_classifier.fit(x_train,y_train) \n"
   ]
  },
  {
   "cell_type": "code",
   "execution_count": 104,
   "metadata": {},
   "outputs": [],
   "source": [
    "y_pred=D_classifier.predict_proba(x_test)[:,1]\n",
    "\n",
    "\n",
    "new_y=[]\n",
    "for i in range (len(y_pred)):\n",
    "    if y_pred[i]<0.5:\n",
    "        new_y.append(0)\n",
    "    else:\n",
    "        new_y.append(1)\n"
   ]
  },
  {
   "cell_type": "code",
   "execution_count": 105,
   "metadata": {},
   "outputs": [
    {
     "data": {
      "text/plain": [
       "0.8540983606557377"
      ]
     },
     "execution_count": 105,
     "metadata": {},
     "output_type": "execute_result"
    }
   ],
   "source": [
    "from sklearn.metrics import accuracy_score\n",
    "\n",
    "\n",
    "accuracy_score(y_test,new_y)\n",
    "\n",
    "\n"
   ]
  },
  {
   "cell_type": "code",
   "execution_count": 106,
   "metadata": {},
   "outputs": [
    {
     "name": "stdout",
     "output_type": "stream",
     "text": [
      "mean_absolute_error is = 0.14590163934426228\n",
      "mean_squared_error is = 0.3819707310046966\n"
     ]
    }
   ],
   "source": [
    "from sklearn.metrics import mean_absolute_error\n",
    "from sklearn.metrics import mean_squared_error\n",
    "\n",
    "\n",
    "MAEVale=mean_absolute_error(y_test,y_pred,multioutput=\"uniform_average\")\n",
    "print(\"mean_absolute_error is =\",MAEVale)\n",
    "\n",
    "MSEVale=mean_squared_error(y_test,y_pred,multioutput=\"uniform_average\")\n",
    "RmseVal=np.sqrt(MSEVale)\n",
    "print(\"mean_squared_error is =\",RmseVal)\n",
    "\n"
   ]
  },
  {
   "cell_type": "code",
   "execution_count": 107,
   "metadata": {},
   "outputs": [
    {
     "name": "stdout",
     "output_type": "stream",
     "text": [
      "Decision Tree  classifiers  confusion_matrix\n",
      "Decision Tree classifier Trining Accurcy = 1.0\n",
      "Decision Tree classifier Testing Accurcy =  0.8540983606557377\n",
      "[[305  41]\n",
      " [ 48 216]]\n"
     ]
    },
    {
     "data": {
      "text/plain": [
       "Text(33.0, 0.5, 'Acutl')"
      ]
     },
     "execution_count": 107,
     "metadata": {},
     "output_type": "execute_result"
    },
    {
     "data": {
      "image/png": "[encoded data removed]",
      "text/plain": [
       "<Figure size 432x288 with 2 Axes>"
      ]
     },
     "metadata": {
      "needs_background": "light"
     },
     "output_type": "display_data"
    }
   ],
   "source": [
    "from sklearn.metrics import confusion_matrix\n",
    "\n",
    "print(\"Decision Tree  classifiers  confusion_matrix\")\n",
    "cm=confusion_matrix(y_test,new_y)\n",
    "TN=cm[0][0]\n",
    "TP=cm[1][1]\n",
    "FP=cm[0][1]\n",
    "FN=cm[1][0]\n",
    "\n",
    "print('Decision Tree classifier Trining Accurcy =',D_classifier.score(x_train,y_train) )\n",
    "print('Decision Tree classifier Testing Accurcy = ',(TP+TN)/(TP+TN+FP+FN))\n",
    "print(cm)\n",
    "sns.heatmap(cm,annot=True)\n",
    "plt.title(\"Decision Tree classifier confusion_matrix \")\n",
    "plt.xlabel(\"Predication\")\n",
    "plt.ylabel(\"Acutl\")\n"
   ]
  },
  {
   "cell_type": "code",
   "execution_count": 108,
   "metadata": {},
   "outputs": [
    {
     "name": "stdout",
     "output_type": "stream",
     "text": [
      "classification_report Decision Tree\n",
      ".......................................\n",
      "              precision    recall  f1-score   support\n",
      "\n",
      "           0       0.86      0.88      0.87       346\n",
      "           1       0.84      0.82      0.83       264\n",
      "\n",
      "    accuracy                           0.85       610\n",
      "   macro avg       0.85      0.85      0.85       610\n",
      "weighted avg       0.85      0.85      0.85       610\n",
      "\n",
      "accuracy_score= 0.8540983606557377\n"
     ]
    }
   ],
   "source": [
    "### CLASSIFACTION Report\n",
    "\n",
    "from sklearn.metrics import classification_report\n",
    "from sklearn.metrics import accuracy_score\n",
    "\n",
    "y_pred=D_classifier.predict(x_test)\n",
    "print('classification_report Decision Tree')\n",
    "print('.......................................') \n",
    "\n",
    "print(classification_report(y_test,y_pred)) \n",
    "print(\"accuracy_score=\",accuracy_score(y_test,y_pred)) \n"
   ]
  },
  {
   "cell_type": "markdown",
   "metadata": {},
   "source": [
    "## Feature Selection by Generic BY 11FS"
   ]
  },
  {
   "cell_type": "code",
   "execution_count": 109,
   "metadata": {},
   "outputs": [
    {
     "name": "stdout",
     "output_type": "stream",
     "text": [
      "X Shape is  (2437, 11)\n"
     ]
    }
   ],
   "source": [
    "#print('Original X Shape is ' , X.shape)\n",
    "FeatureSelection = GenericUnivariateSelect(score_func= chi2, mode= 'k_best', param=11) # score_func can = f_classif : mode can = percentile,fpr,fdr,fwe \n",
    "X = FeatureSelection.fit_transform(x, y)\n",
    "\n",
    "\n",
    "\n",
    "#showing X Dimension \n",
    "print('X Shape is ' , X.shape)\n"
   ]
  },
  {
   "cell_type": "code",
   "execution_count": 110,
   "metadata": {},
   "outputs": [
    {
     "name": "stdout",
     "output_type": "stream",
     "text": [
      "X Shape is  (2437, 11)\n",
      "Selected Features are :  [False False False  True False False False False  True  True  True  True\n",
      "  True  True  True False  True  True  True False False False]\n"
     ]
    },
    {
     "data": {
      "text/plain": [
       "Index(['FBS', 'GPT', 'GOT', 'ALP', 'CA15', 'CEA', 'WBC', 'RBC', 'PLT', 'ESR',\n",
       "       'LDH'],\n",
       "      dtype='object')"
      ]
     },
     "execution_count": 110,
     "metadata": {},
     "output_type": "execute_result"
    }
   ],
   "source": [
    "## showing X Dimension \n",
    "print('X Shape is ' , X.shape)\n",
    "print('Selected Features are : ' , FeatureSelection.get_support())\n",
    "x.columns[FeatureSelection.get_support()]\n"
   ]
  },
  {
   "cell_type": "code",
   "execution_count": 111,
   "metadata": {},
   "outputs": [
    {
     "data": {
      "text/plain": [
       "(2437, 11)"
      ]
     },
     "execution_count": 111,
     "metadata": {},
     "output_type": "execute_result"
    }
   ],
   "source": [
    "X=BC.drop([\"CLASS\",\"Sex\",\"Age\",\"Adress\",\"Urea\",\"Creatinin\",\"ALB\",\"TCa\",\"K\",\"Na\",\"CL\",\"HGB\"],axis=1)\n",
    "Y=BC[\"CLASS\"] \n",
    "\n",
    "\n",
    "\n",
    "X.shape\n"
   ]
  },
  {
   "cell_type": "code",
   "execution_count": 112,
   "metadata": {},
   "outputs": [],
   "source": [
    "from sklearn.model_selection import train_test_split\n",
    "x_train, x_test, y_train, y_test = train_test_split(X, Y, \n",
    "                                                    test_size=0.25)\n",
    "\n"
   ]
  },
  {
   "cell_type": "code",
   "execution_count": 113,
   "metadata": {},
   "outputs": [
    {
     "data": {
      "text/plain": [
       "DecisionTreeClassifier(class_weight=None, criterion='gini', max_depth=None,\n",
       "                       max_features=None, max_leaf_nodes=None,\n",
       "                       min_impurity_decrease=0.0, min_impurity_split=None,\n",
       "                       min_samples_leaf=1, min_samples_split=2,\n",
       "                       min_weight_fraction_leaf=0.0, presort=False,\n",
       "                       random_state=0, splitter='best')"
      ]
     },
     "execution_count": 113,
     "metadata": {},
     "output_type": "execute_result"
    }
   ],
   "source": [
    "from sklearn.tree import DecisionTreeClassifier\n",
    "\n",
    "D_classifier= DecisionTreeClassifier(random_state=0) \n",
    "D_classifier.fit(x_train,y_train) \n"
   ]
  },
  {
   "cell_type": "code",
   "execution_count": 114,
   "metadata": {},
   "outputs": [],
   "source": [
    "y_pred=D_classifier.predict_proba(x_test)[:,1]\n",
    "\n",
    "\n",
    "new_y=[]\n",
    "for i in range (len(y_pred)):\n",
    "    if y_pred[i]<0.5:\n",
    "        new_y.append(0)\n",
    "    else:\n",
    "        new_y.append(1)\n"
   ]
  },
  {
   "cell_type": "code",
   "execution_count": 115,
   "metadata": {},
   "outputs": [
    {
     "data": {
      "text/plain": [
       "0.8459016393442623"
      ]
     },
     "execution_count": 115,
     "metadata": {},
     "output_type": "execute_result"
    }
   ],
   "source": [
    "from sklearn.metrics import accuracy_score\n",
    "\n",
    "\n",
    "accuracy_score(y_test,new_y)\n",
    "\n"
   ]
  },
  {
   "cell_type": "code",
   "execution_count": 116,
   "metadata": {},
   "outputs": [
    {
     "name": "stdout",
     "output_type": "stream",
     "text": [
      "mean_absolute_error is = 0.1540983606557377\n",
      "mean_squared_error is = 0.3925536404820846\n"
     ]
    }
   ],
   "source": [
    "from sklearn.metrics import mean_absolute_error\n",
    "from sklearn.metrics import mean_squared_error\n",
    "\n",
    "\n",
    "MAEVale=mean_absolute_error(y_test,y_pred,multioutput=\"uniform_average\")\n",
    "print(\"mean_absolute_error is =\",MAEVale)\n",
    "\n",
    "MSEVale=mean_squared_error(y_test,y_pred,multioutput=\"uniform_average\")\n",
    "RmseVal=np.sqrt(MSEVale)\n",
    "print(\"mean_squared_error is =\",RmseVal)\n",
    "\n"
   ]
  },
  {
   "cell_type": "code",
   "execution_count": 117,
   "metadata": {},
   "outputs": [
    {
     "name": "stdout",
     "output_type": "stream",
     "text": [
      "Decision Tree  classifiers  confusion_matrix\n",
      "Decision Tree classifier Trining Accurcy = 1.0\n",
      "Decision Tree classifier Testing Accurcy =  0.8459016393442623\n",
      "[[278  61]\n",
      " [ 33 238]]\n"
     ]
    },
    {
     "data": {
      "text/plain": [
       "Text(33.0, 0.5, 'Acutl')"
      ]
     },
     "execution_count": 117,
     "metadata": {},
     "output_type": "execute_result"
    },
    {
     "data": {
      "image/png": "[encoded data removed]",
      "text/plain": [
       "<Figure size 432x288 with 2 Axes>"
      ]
     },
     "metadata": {
      "needs_background": "light"
     },
     "output_type": "display_data"
    }
   ],
   "source": [
    "from sklearn.metrics import confusion_matrix\n",
    "\n",
    "print(\"Decision Tree  classifiers  confusion_matrix\")\n",
    "cm=confusion_matrix(y_test,new_y)\n",
    "TN=cm[0][0]\n",
    "TP=cm[1][1]\n",
    "FP=cm[0][1]\n",
    "FN=cm[1][0]\n",
    "\n",
    "print('Decision Tree classifier Trining Accurcy =',D_classifier.score(x_train,y_train) )\n",
    "print('Decision Tree classifier Testing Accurcy = ',(TP+TN)/(TP+TN+FP+FN))\n",
    "print(cm)\n",
    "sns.heatmap(cm,annot=True)\n",
    "plt.title(\"Decision Tree classifier confusion_matrix \")\n",
    "plt.xlabel(\"Predication\")\n",
    "plt.ylabel(\"Acutl\")\n"
   ]
  },
  {
   "cell_type": "code",
   "execution_count": 118,
   "metadata": {},
   "outputs": [
    {
     "name": "stdout",
     "output_type": "stream",
     "text": [
      "classification_report Decision Tree\n",
      ".......................................\n",
      "              precision    recall  f1-score   support\n",
      "\n",
      "           0       0.89      0.82      0.86       339\n",
      "           1       0.80      0.88      0.84       271\n",
      "\n",
      "    accuracy                           0.85       610\n",
      "   macro avg       0.84      0.85      0.85       610\n",
      "weighted avg       0.85      0.85      0.85       610\n",
      "\n",
      "accuracy_score= 0.8459016393442623\n"
     ]
    }
   ],
   "source": [
    "\n",
    "\n",
    "### CLASSIFACTION Report\n",
    "\n",
    "from sklearn.metrics import classification_report\n",
    "from sklearn.metrics import accuracy_score\n",
    "\n",
    "y_pred=D_classifier.predict(x_test)\n",
    "print('classification_report Decision Tree')\n",
    "print('.......................................') \n",
    "\n",
    "print(classification_report(y_test,y_pred)) \n",
    "print(\"accuracy_score=\",accuracy_score(y_test,y_pred)) \n",
    "\n",
    "\n"
   ]
  },
  {
   "cell_type": "markdown",
   "metadata": {},
   "source": [
    "## Feature Selection by Generic BY 12FS\n"
   ]
  },
  {
   "cell_type": "code",
   "execution_count": 119,
   "metadata": {},
   "outputs": [
    {
     "name": "stdout",
     "output_type": "stream",
     "text": [
      "X Shape is  (2437, 12)\n"
     ]
    }
   ],
   "source": [
    "#print('Original X Shape is ' , X.shape)\n",
    "FeatureSelection = GenericUnivariateSelect(score_func= chi2, mode= 'k_best', param=12) # score_func can = f_classif : mode can = percentile,fpr,fdr,fwe \n",
    "X = FeatureSelection.fit_transform(x, y)\n",
    "#showing X Dimension \n",
    "print('X Shape is ' , X.shape)\n"
   ]
  },
  {
   "cell_type": "code",
   "execution_count": 120,
   "metadata": {},
   "outputs": [
    {
     "name": "stdout",
     "output_type": "stream",
     "text": [
      "X Shape is  (2437, 12)\n",
      "Selected Features are :  [False False False  True  True False False False  True  True  True  True\n",
      "  True  True  True False  True  True  True False False False]\n"
     ]
    },
    {
     "data": {
      "text/plain": [
       "Index(['FBS', 'Urea', 'GPT', 'GOT', 'ALP', 'CA15', 'CEA', 'WBC', 'RBC', 'PLT',\n",
       "       'ESR', 'LDH'],\n",
       "      dtype='object')"
      ]
     },
     "execution_count": 120,
     "metadata": {},
     "output_type": "execute_result"
    }
   ],
   "source": [
    "## showing X Dimension \n",
    "print('X Shape is ' , X.shape)\n",
    "print('Selected Features are : ' , FeatureSelection.get_support())\n",
    "x.columns[FeatureSelection.get_support()]\n",
    "\n"
   ]
  },
  {
   "cell_type": "code",
   "execution_count": 121,
   "metadata": {},
   "outputs": [
    {
     "data": {
      "text/plain": [
       "(2437, 12)"
      ]
     },
     "execution_count": 121,
     "metadata": {},
     "output_type": "execute_result"
    }
   ],
   "source": [
    "X=BC.drop([\"CLASS\",\"Sex\",\"Age\",\"Adress\",\"Creatinin\",\"ALB\",\"TCa\",\"K\",\"Na\",\"CL\",\"HGB\"],axis=1)\n",
    "Y=BC[\"CLASS\"] \n",
    "\n",
    "\n",
    "\n",
    "X.shape\n"
   ]
  },
  {
   "cell_type": "code",
   "execution_count": 122,
   "metadata": {},
   "outputs": [],
   "source": [
    "from sklearn.model_selection import train_test_split\n",
    "x_train, x_test, y_train, y_test = train_test_split(X, Y, \n",
    "                                                    test_size=0.25)\n",
    "\n"
   ]
  },
  {
   "cell_type": "code",
   "execution_count": 123,
   "metadata": {},
   "outputs": [
    {
     "data": {
      "text/plain": [
       "DecisionTreeClassifier(class_weight=None, criterion='gini', max_depth=None,\n",
       "                       max_features=None, max_leaf_nodes=None,\n",
       "                       min_impurity_decrease=0.0, min_impurity_split=None,\n",
       "                       min_samples_leaf=1, min_samples_split=2,\n",
       "                       min_weight_fraction_leaf=0.0, presort=False,\n",
       "                       random_state=0, splitter='best')"
      ]
     },
     "execution_count": 123,
     "metadata": {},
     "output_type": "execute_result"
    }
   ],
   "source": [
    "from sklearn.tree import DecisionTreeClassifier\n",
    "\n",
    "D_classifier= DecisionTreeClassifier(random_state=0) \n",
    "D_classifier.fit(x_train,y_train) \n"
   ]
  },
  {
   "cell_type": "code",
   "execution_count": 124,
   "metadata": {},
   "outputs": [],
   "source": [
    "y_pred=D_classifier.predict_proba(x_test)[:,1]\n",
    "\n",
    "\n",
    "new_y=[]\n",
    "for i in range (len(y_pred)):\n",
    "    if y_pred[i]<0.5:\n",
    "        new_y.append(0)\n",
    "    else:\n",
    "        new_y.append(1)\n"
   ]
  },
  {
   "cell_type": "code",
   "execution_count": 125,
   "metadata": {},
   "outputs": [
    {
     "data": {
      "text/plain": [
       "0.8229508196721311"
      ]
     },
     "execution_count": 125,
     "metadata": {},
     "output_type": "execute_result"
    }
   ],
   "source": [
    "from sklearn.metrics import accuracy_score\n",
    "\n",
    "\n",
    "accuracy_score(y_test,new_y)\n",
    "\n"
   ]
  },
  {
   "cell_type": "code",
   "execution_count": 126,
   "metadata": {},
   "outputs": [
    {
     "name": "stdout",
     "output_type": "stream",
     "text": [
      "mean_absolute_error is = 0.17704918032786884\n",
      "mean_squared_error is = 0.420772123990966\n"
     ]
    }
   ],
   "source": [
    "from sklearn.metrics import mean_absolute_error\n",
    "from sklearn.metrics import mean_squared_error\n",
    "\n",
    "\n",
    "MAEVale=mean_absolute_error(y_test,y_pred,multioutput=\"uniform_average\")\n",
    "print(\"mean_absolute_error is =\",MAEVale)\n",
    "\n",
    "MSEVale=mean_squared_error(y_test,y_pred,multioutput=\"uniform_average\")\n",
    "RmseVal=np.sqrt(MSEVale)\n",
    "print(\"mean_squared_error is =\",RmseVal)\n",
    "\n"
   ]
  },
  {
   "cell_type": "code",
   "execution_count": 127,
   "metadata": {},
   "outputs": [
    {
     "name": "stdout",
     "output_type": "stream",
     "text": [
      "Decision Tree  classifiers  confusion_matrix\n",
      "Decision Tree classifier Trining Accurcy = 1.0\n",
      "Decision Tree classifier Testing Accurcy =  0.8229508196721311\n",
      "[[290  49]\n",
      " [ 59 212]]\n"
     ]
    },
    {
     "data": {
      "text/plain": [
       "Text(33.0, 0.5, 'Acutl')"
      ]
     },
     "execution_count": 127,
     "metadata": {},
     "output_type": "execute_result"
    },
    {
     "data": {
      "image/png": "[encoded data removed]",
      "text/plain": [
       "<Figure size 432x288 with 2 Axes>"
      ]
     },
     "metadata": {
      "needs_background": "light"
     },
     "output_type": "display_data"
    }
   ],
   "source": [
    "from sklearn.metrics import confusion_matrix\n",
    "\n",
    "print(\"Decision Tree  classifiers  confusion_matrix\")\n",
    "cm=confusion_matrix(y_test,new_y)\n",
    "TN=cm[0][0]\n",
    "TP=cm[1][1]\n",
    "FP=cm[0][1]\n",
    "FN=cm[1][0]\n",
    "\n",
    "print('Decision Tree classifier Trining Accurcy =',D_classifier.score(x_train,y_train) )\n",
    "print('Decision Tree classifier Testing Accurcy = ',(TP+TN)/(TP+TN+FP+FN))\n",
    "print(cm)\n",
    "sns.heatmap(cm,annot=True)\n",
    "plt.title(\"Decision Tree classifier confusion_matrix \")\n",
    "plt.xlabel(\"Predication\")\n",
    "plt.ylabel(\"Acutl\")\n",
    "\n"
   ]
  },
  {
   "cell_type": "code",
   "execution_count": 128,
   "metadata": {},
   "outputs": [
    {
     "name": "stdout",
     "output_type": "stream",
     "text": [
      "classification_report Decision Tree\n",
      ".......................................\n",
      "              precision    recall  f1-score   support\n",
      "\n",
      "           0       0.83      0.86      0.84       339\n",
      "           1       0.81      0.78      0.80       271\n",
      "\n",
      "    accuracy                           0.82       610\n",
      "   macro avg       0.82      0.82      0.82       610\n",
      "weighted avg       0.82      0.82      0.82       610\n",
      "\n",
      "accuracy_score= 0.8229508196721311\n"
     ]
    }
   ],
   "source": [
    "\n",
    "\n",
    "### CLASSIFACTION Report\n",
    "\n",
    "from sklearn.metrics import classification_report\n",
    "from sklearn.metrics import accuracy_score\n",
    "\n",
    "y_pred=D_classifier.predict(x_test)\n",
    "print('classification_report Decision Tree')\n",
    "print('.......................................') \n",
    "\n",
    "print(classification_report(y_test,y_pred)) \n",
    "print(\"accuracy_score=\",accuracy_score(y_test,y_pred)) \n",
    "\n",
    "\n"
   ]
  },
  {
   "cell_type": "markdown",
   "metadata": {},
   "source": [
    "## Feature Selection by Generic BY 13FS\n"
   ]
  },
  {
   "cell_type": "code",
   "execution_count": 129,
   "metadata": {},
   "outputs": [
    {
     "name": "stdout",
     "output_type": "stream",
     "text": [
      "X Shape is  (2437, 13)\n"
     ]
    }
   ],
   "source": [
    "#print('Original X Shape is ' , X.shape)\n",
    "FeatureSelection = GenericUnivariateSelect(score_func= chi2, mode= 'k_best', param=13) # score_func can = f_classif : mode can = percentile,fpr,fdr,fwe \n",
    "X = FeatureSelection.fit_transform(x, y)\n",
    "#showing X Dimension \n",
    "print('X Shape is ' , X.shape)\n"
   ]
  },
  {
   "cell_type": "code",
   "execution_count": 130,
   "metadata": {},
   "outputs": [
    {
     "name": "stdout",
     "output_type": "stream",
     "text": [
      "X Shape is  (2437, 13)\n",
      "Selected Features are :  [False False  True  True  True False False False  True  True  True  True\n",
      "  True  True  True False  True  True  True False False False]\n"
     ]
    },
    {
     "data": {
      "text/plain": [
       "Index(['Adress', 'FBS', 'Urea', 'GPT', 'GOT', 'ALP', 'CA15', 'CEA', 'WBC',\n",
       "       'RBC', 'PLT', 'ESR', 'LDH'],\n",
       "      dtype='object')"
      ]
     },
     "execution_count": 130,
     "metadata": {},
     "output_type": "execute_result"
    }
   ],
   "source": [
    "## showing X Dimension \n",
    "print('X Shape is ' , X.shape)\n",
    "print('Selected Features are : ' , FeatureSelection.get_support())\n",
    "x.columns[FeatureSelection.get_support()]\n"
   ]
  },
  {
   "cell_type": "code",
   "execution_count": 131,
   "metadata": {},
   "outputs": [
    {
     "data": {
      "text/plain": [
       "(2437, 13)"
      ]
     },
     "execution_count": 131,
     "metadata": {},
     "output_type": "execute_result"
    }
   ],
   "source": [
    "X=BC.drop([\"CLASS\",\"Sex\",\"Age\",\"Creatinin\",\"ALB\",\"TCa\",\"K\",\"Na\",\"CL\",\"HGB\"],axis=1)\n",
    "Y=BC[\"CLASS\"] \n",
    "\n",
    "\n",
    "\n",
    "X.shape\n"
   ]
  },
  {
   "cell_type": "code",
   "execution_count": 132,
   "metadata": {},
   "outputs": [],
   "source": [
    "from sklearn.model_selection import train_test_split\n",
    "x_train, x_test, y_train, y_test = train_test_split(X, Y, \n",
    "                                                    test_size=0.25)\n",
    "\n"
   ]
  },
  {
   "cell_type": "code",
   "execution_count": 133,
   "metadata": {},
   "outputs": [
    {
     "data": {
      "text/plain": [
       "DecisionTreeClassifier(class_weight=None, criterion='gini', max_depth=None,\n",
       "                       max_features=None, max_leaf_nodes=None,\n",
       "                       min_impurity_decrease=0.0, min_impurity_split=None,\n",
       "                       min_samples_leaf=1, min_samples_split=2,\n",
       "                       min_weight_fraction_leaf=0.0, presort=False,\n",
       "                       random_state=0, splitter='best')"
      ]
     },
     "execution_count": 133,
     "metadata": {},
     "output_type": "execute_result"
    }
   ],
   "source": [
    "from sklearn.tree import DecisionTreeClassifier\n",
    "\n",
    "D_classifier= DecisionTreeClassifier(random_state=0) \n",
    "D_classifier.fit(x_train,y_train) \n"
   ]
  },
  {
   "cell_type": "code",
   "execution_count": 134,
   "metadata": {},
   "outputs": [],
   "source": [
    "y_pred=D_classifier.predict_proba(x_test)[:,1]\n",
    "\n",
    "\n",
    "new_y=[]\n",
    "for i in range (len(y_pred)):\n",
    "    if y_pred[i]<0.5:\n",
    "        new_y.append(0)\n",
    "    else:\n",
    "        new_y.append(1)\n"
   ]
  },
  {
   "cell_type": "code",
   "execution_count": 135,
   "metadata": {},
   "outputs": [
    {
     "data": {
      "text/plain": [
       "0.8278688524590164"
      ]
     },
     "execution_count": 135,
     "metadata": {},
     "output_type": "execute_result"
    }
   ],
   "source": [
    "from sklearn.metrics import accuracy_score\n",
    "\n",
    "\n",
    "accuracy_score(y_test,new_y)\n",
    "\n"
   ]
  },
  {
   "cell_type": "code",
   "execution_count": 136,
   "metadata": {},
   "outputs": [
    {
     "name": "stdout",
     "output_type": "stream",
     "text": [
      "mean_absolute_error is = 0.1721311475409836\n",
      "mean_squared_error is = 0.4148869093391398\n"
     ]
    }
   ],
   "source": [
    "from sklearn.metrics import mean_absolute_error\n",
    "from sklearn.metrics import mean_squared_error\n",
    "\n",
    "\n",
    "MAEVale=mean_absolute_error(y_test,y_pred,multioutput=\"uniform_average\")\n",
    "print(\"mean_absolute_error is =\",MAEVale)\n",
    "\n",
    "MSEVale=mean_squared_error(y_test,y_pred,multioutput=\"uniform_average\")\n",
    "RmseVal=np.sqrt(MSEVale)\n",
    "print(\"mean_squared_error is =\",RmseVal)\n",
    "\n"
   ]
  },
  {
   "cell_type": "code",
   "execution_count": 137,
   "metadata": {},
   "outputs": [
    {
     "name": "stdout",
     "output_type": "stream",
     "text": [
      "Decision Tree  classifiers  confusion_matrix\n",
      "Decision Tree classifier Trining Accurcy = 1.0\n",
      "Decision Tree classifier Testing Accurcy =  0.8278688524590164\n",
      "[[292  51]\n",
      " [ 54 213]]\n"
     ]
    },
    {
     "data": {
      "text/plain": [
       "Text(33.0, 0.5, 'Acutl')"
      ]
     },
     "execution_count": 137,
     "metadata": {},
     "output_type": "execute_result"
    },
    {
     "data": {
      "image/png": "[encoded data removed]",
      "text/plain": [
       "<Figure size 432x288 with 2 Axes>"
      ]
     },
     "metadata": {
      "needs_background": "light"
     },
     "output_type": "display_data"
    }
   ],
   "source": [
    "from sklearn.metrics import confusion_matrix\n",
    "\n",
    "print(\"Decision Tree  classifiers  confusion_matrix\")\n",
    "cm=confusion_matrix(y_test,new_y)\n",
    "TN=cm[0][0]\n",
    "TP=cm[1][1]\n",
    "FP=cm[0][1]\n",
    "FN=cm[1][0]\n",
    "\n",
    "print('Decision Tree classifier Trining Accurcy =',D_classifier.score(x_train,y_train) )\n",
    "print('Decision Tree classifier Testing Accurcy = ',(TP+TN)/(TP+TN+FP+FN))\n",
    "print(cm)\n",
    "sns.heatmap(cm,annot=True)\n",
    "plt.title(\"Decision Tree classifier confusion_matrix \")\n",
    "plt.xlabel(\"Predication\")\n",
    "plt.ylabel(\"Acutl\")\n"
   ]
  },
  {
   "cell_type": "code",
   "execution_count": 138,
   "metadata": {},
   "outputs": [
    {
     "name": "stdout",
     "output_type": "stream",
     "text": [
      "classification_report Decision Tree\n",
      ".......................................\n",
      "              precision    recall  f1-score   support\n",
      "\n",
      "           0       0.84      0.85      0.85       343\n",
      "           1       0.81      0.80      0.80       267\n",
      "\n",
      "    accuracy                           0.83       610\n",
      "   macro avg       0.83      0.82      0.82       610\n",
      "weighted avg       0.83      0.83      0.83       610\n",
      "\n",
      "accuracy_score= 0.8278688524590164\n"
     ]
    }
   ],
   "source": [
    "### CLASSIFACTION Report\n",
    "\n",
    "from sklearn.metrics import classification_report\n",
    "from sklearn.metrics import accuracy_score\n",
    "\n",
    "y_pred=D_classifier.predict(x_test)\n",
    "print('classification_report Decision Tree')\n",
    "print('.......................................') \n",
    "\n",
    "print(classification_report(y_test,y_pred)) \n",
    "print(\"accuracy_score=\",accuracy_score(y_test,y_pred)) \n",
    "\n"
   ]
  },
  {
   "cell_type": "markdown",
   "metadata": {},
   "source": [
    "## Feature Selection by Generic BY 14FS\n"
   ]
  },
  {
   "cell_type": "code",
   "execution_count": 139,
   "metadata": {},
   "outputs": [
    {
     "name": "stdout",
     "output_type": "stream",
     "text": [
      "X Shape is  (2437, 14)\n"
     ]
    }
   ],
   "source": [
    "\n",
    "#print('Original X Shape is ' , X.shape)\n",
    "FeatureSelection = GenericUnivariateSelect(score_func= chi2, mode= 'k_best', param=14) # score_func can = f_classif : mode can = percentile,fpr,fdr,fwe \n",
    "X = FeatureSelection.fit_transform(x, y)\n",
    "#showing X Dimension \n",
    "print('X Shape is ' , X.shape)\n"
   ]
  },
  {
   "cell_type": "code",
   "execution_count": 140,
   "metadata": {},
   "outputs": [
    {
     "name": "stdout",
     "output_type": "stream",
     "text": [
      "X Shape is  (2437, 14)\n",
      "Selected Features are :  [False  True  True  True  True False False False  True  True  True  True\n",
      "  True  True  True False  True  True  True False False False]\n"
     ]
    },
    {
     "data": {
      "text/plain": [
       "Index(['Age', 'Adress', 'FBS', 'Urea', 'GPT', 'GOT', 'ALP', 'CA15', 'CEA',\n",
       "       'WBC', 'RBC', 'PLT', 'ESR', 'LDH'],\n",
       "      dtype='object')"
      ]
     },
     "execution_count": 140,
     "metadata": {},
     "output_type": "execute_result"
    }
   ],
   "source": [
    "## showing X Dimension \n",
    "print('X Shape is ' , X.shape)\n",
    "print('Selected Features are : ' , FeatureSelection.get_support())\n",
    "x.columns[FeatureSelection.get_support()]\n",
    "\n"
   ]
  },
  {
   "cell_type": "code",
   "execution_count": 141,
   "metadata": {},
   "outputs": [
    {
     "data": {
      "text/plain": [
       "(2437, 14)"
      ]
     },
     "execution_count": 141,
     "metadata": {},
     "output_type": "execute_result"
    }
   ],
   "source": [
    "X=BC.drop([\"CLASS\",\"Sex\",\"Creatinin\",\"ALB\",\"TCa\",\"K\",\"Na\",\"CL\",\"HGB\"],axis=1)\n",
    "Y=BC[\"CLASS\"] \n",
    "\n",
    "\n",
    "\n",
    "X.shape\n"
   ]
  },
  {
   "cell_type": "code",
   "execution_count": 142,
   "metadata": {},
   "outputs": [],
   "source": [
    "from sklearn.model_selection import train_test_split\n",
    "x_train, x_test, y_train, y_test = train_test_split(X, Y, \n",
    "                                                    test_size=0.25)\n"
   ]
  },
  {
   "cell_type": "code",
   "execution_count": 143,
   "metadata": {},
   "outputs": [
    {
     "data": {
      "text/plain": [
       "DecisionTreeClassifier(class_weight=None, criterion='gini', max_depth=None,\n",
       "                       max_features=None, max_leaf_nodes=None,\n",
       "                       min_impurity_decrease=0.0, min_impurity_split=None,\n",
       "                       min_samples_leaf=1, min_samples_split=2,\n",
       "                       min_weight_fraction_leaf=0.0, presort=False,\n",
       "                       random_state=0, splitter='best')"
      ]
     },
     "execution_count": 143,
     "metadata": {},
     "output_type": "execute_result"
    }
   ],
   "source": [
    "from sklearn.tree import DecisionTreeClassifier\n",
    "\n",
    "D_classifier= DecisionTreeClassifier(random_state=0) \n",
    "D_classifier.fit(x_train,y_train) \n"
   ]
  },
  {
   "cell_type": "code",
   "execution_count": 144,
   "metadata": {},
   "outputs": [],
   "source": [
    "y_pred=D_classifier.predict_proba(x_test)[:,1]\n",
    "\n",
    "\n",
    "new_y=[]\n",
    "for i in range (len(y_pred)):\n",
    "    if y_pred[i]<0.5:\n",
    "        new_y.append(0)\n",
    "    else:\n",
    "        new_y.append(1)\n"
   ]
  },
  {
   "cell_type": "code",
   "execution_count": 145,
   "metadata": {},
   "outputs": [
    {
     "data": {
      "text/plain": [
       "0.8491803278688524"
      ]
     },
     "execution_count": 145,
     "metadata": {},
     "output_type": "execute_result"
    }
   ],
   "source": [
    "from sklearn.metrics import accuracy_score\n",
    "\n",
    "\n",
    "accuracy_score(y_test,new_y)\n",
    "\n"
   ]
  },
  {
   "cell_type": "code",
   "execution_count": 146,
   "metadata": {},
   "outputs": [
    {
     "name": "stdout",
     "output_type": "stream",
     "text": [
      "mean_absolute_error is = 0.15081967213114755\n",
      "mean_squared_error is = 0.38835508511045347\n"
     ]
    }
   ],
   "source": [
    "from sklearn.metrics import mean_absolute_error\n",
    "from sklearn.metrics import mean_squared_error\n",
    "\n",
    "\n",
    "MAEVale=mean_absolute_error(y_test,y_pred,multioutput=\"uniform_average\")\n",
    "print(\"mean_absolute_error is =\",MAEVale)\n",
    "\n",
    "MSEVale=mean_squared_error(y_test,y_pred,multioutput=\"uniform_average\")\n",
    "RmseVal=np.sqrt(MSEVale)\n",
    "print(\"mean_squared_error is =\",RmseVal)\n",
    "\n"
   ]
  },
  {
   "cell_type": "code",
   "execution_count": 147,
   "metadata": {},
   "outputs": [
    {
     "name": "stdout",
     "output_type": "stream",
     "text": [
      "Decision Tree  classifiers  confusion_matrix\n",
      "Decision Tree classifier Trining Accurcy = 1.0\n",
      "Decision Tree classifier Testing Accurcy =  0.8491803278688524\n",
      "[[288  50]\n",
      " [ 42 230]]\n"
     ]
    },
    {
     "data": {
      "text/plain": [
       "Text(33.0, 0.5, 'Acutl')"
      ]
     },
     "execution_count": 147,
     "metadata": {},
     "output_type": "execute_result"
    },
    {
     "data": {
      "image/png": "[encoded data removed]",
      "text/plain": [
       "<Figure size 432x288 with 2 Axes>"
      ]
     },
     "metadata": {
      "needs_background": "light"
     },
     "output_type": "display_data"
    }
   ],
   "source": [
    "from sklearn.metrics import confusion_matrix\n",
    "\n",
    "print(\"Decision Tree  classifiers  confusion_matrix\")\n",
    "cm=confusion_matrix(y_test,new_y)\n",
    "TN=cm[0][0]\n",
    "TP=cm[1][1]\n",
    "FP=cm[0][1]\n",
    "FN=cm[1][0]\n",
    "\n",
    "print('Decision Tree classifier Trining Accurcy =',D_classifier.score(x_train,y_train) )\n",
    "print('Decision Tree classifier Testing Accurcy = ',(TP+TN)/(TP+TN+FP+FN))\n",
    "print(cm)\n",
    "sns.heatmap(cm,annot=True)\n",
    "plt.title(\"Decision Tree classifier confusion_matrix \")\n",
    "plt.xlabel(\"Predication\")\n",
    "plt.ylabel(\"Acutl\")\n"
   ]
  },
  {
   "cell_type": "code",
   "execution_count": 148,
   "metadata": {},
   "outputs": [
    {
     "name": "stdout",
     "output_type": "stream",
     "text": [
      "classification_report Decision Tree\n",
      ".......................................\n",
      "              precision    recall  f1-score   support\n",
      "\n",
      "           0       0.87      0.85      0.86       338\n",
      "           1       0.82      0.85      0.83       272\n",
      "\n",
      "    accuracy                           0.85       610\n",
      "   macro avg       0.85      0.85      0.85       610\n",
      "weighted avg       0.85      0.85      0.85       610\n",
      "\n",
      "accuracy_score= 0.8491803278688524\n"
     ]
    }
   ],
   "source": [
    "### CLASSIFACTION Report\n",
    "\n",
    "from sklearn.metrics import classification_report\n",
    "from sklearn.metrics import accuracy_score\n",
    "\n",
    "y_pred=D_classifier.predict(x_test)\n",
    "print('classification_report Decision Tree')\n",
    "print('.......................................') \n",
    "\n",
    "print(classification_report(y_test,y_pred)) \n",
    "print(\"accuracy_score=\",accuracy_score(y_test,y_pred)) \n",
    "\n"
   ]
  },
  {
   "cell_type": "markdown",
   "metadata": {},
   "source": [
    "\n",
    "## Feature Selection by Generic BY 15FS\n"
   ]
  },
  {
   "cell_type": "code",
   "execution_count": 149,
   "metadata": {},
   "outputs": [
    {
     "name": "stdout",
     "output_type": "stream",
     "text": [
      "X Shape is  (2437, 15)\n"
     ]
    }
   ],
   "source": [
    "#print('Original X Shape is ' , X.shape)\n",
    "FeatureSelection = GenericUnivariateSelect(score_func= chi2, mode= 'k_best', param=15) # score_func can = f_classif : mode can = percentile,fpr,fdr,fwe \n",
    "X = FeatureSelection.fit_transform(x, y)\n",
    "#showing X Dimension \n",
    "print('X Shape is ' , X.shape)\n",
    "\n"
   ]
  },
  {
   "cell_type": "code",
   "execution_count": 150,
   "metadata": {},
   "outputs": [
    {
     "name": "stdout",
     "output_type": "stream",
     "text": [
      "X Shape is  (2437, 15)\n",
      "Selected Features are :  [False  True  True  True  True False  True False  True  True  True  True\n",
      "  True  True  True False  True  True  True False False False]\n"
     ]
    },
    {
     "data": {
      "text/plain": [
       "Index(['Age', 'Adress', 'FBS', 'Urea', 'ALB', 'GPT', 'GOT', 'ALP', 'CA15',\n",
       "       'CEA', 'WBC', 'RBC', 'PLT', 'ESR', 'LDH'],\n",
       "      dtype='object')"
      ]
     },
     "execution_count": 150,
     "metadata": {},
     "output_type": "execute_result"
    }
   ],
   "source": [
    "## showing X Dimension \n",
    "print('X Shape is ' , X.shape)\n",
    "print('Selected Features are : ' , FeatureSelection.get_support())\n",
    "x.columns[FeatureSelection.get_support()]\n",
    "\n"
   ]
  },
  {
   "cell_type": "code",
   "execution_count": 151,
   "metadata": {},
   "outputs": [
    {
     "data": {
      "text/plain": [
       "(2437, 15)"
      ]
     },
     "execution_count": 151,
     "metadata": {},
     "output_type": "execute_result"
    }
   ],
   "source": [
    "X=BC.drop([\"CLASS\",\"Sex\",\"Creatinin\",\"TCa\",\"K\",\"Na\",\"CL\",\"HGB\"],axis=1)\n",
    "Y=BC[\"CLASS\"] \n",
    "\n",
    "\n",
    "\n",
    "X.shape\n"
   ]
  },
  {
   "cell_type": "code",
   "execution_count": 152,
   "metadata": {},
   "outputs": [],
   "source": [
    "from sklearn.model_selection import train_test_split\n",
    "x_train, x_test, y_train, y_test = train_test_split(X, Y, \n",
    "                                                    test_size=0.25)\n",
    "\n"
   ]
  },
  {
   "cell_type": "code",
   "execution_count": 153,
   "metadata": {},
   "outputs": [
    {
     "data": {
      "text/plain": [
       "DecisionTreeClassifier(class_weight=None, criterion='gini', max_depth=None,\n",
       "                       max_features=None, max_leaf_nodes=None,\n",
       "                       min_impurity_decrease=0.0, min_impurity_split=None,\n",
       "                       min_samples_leaf=1, min_samples_split=2,\n",
       "                       min_weight_fraction_leaf=0.0, presort=False,\n",
       "                       random_state=0, splitter='best')"
      ]
     },
     "execution_count": 153,
     "metadata": {},
     "output_type": "execute_result"
    }
   ],
   "source": [
    "from sklearn.tree import DecisionTreeClassifier\n",
    "\n",
    "D_classifier= DecisionTreeClassifier(random_state=0) \n",
    "D_classifier.fit(x_train,y_train) \n",
    "\n"
   ]
  },
  {
   "cell_type": "code",
   "execution_count": 154,
   "metadata": {},
   "outputs": [],
   "source": [
    "y_pred=D_classifier.predict_proba(x_test)[:,1]\n",
    "\n",
    "\n",
    "new_y=[]\n",
    "for i in range (len(y_pred)):\n",
    "    if y_pred[i]<0.5:\n",
    "        new_y.append(0)\n",
    "    else:\n",
    "        new_y.append(1)\n"
   ]
  },
  {
   "cell_type": "code",
   "execution_count": 155,
   "metadata": {},
   "outputs": [
    {
     "data": {
      "text/plain": [
       "0.8622950819672132"
      ]
     },
     "execution_count": 155,
     "metadata": {},
     "output_type": "execute_result"
    }
   ],
   "source": [
    "from sklearn.metrics import accuracy_score\n",
    "\n",
    "\n",
    "accuracy_score(y_test,new_y)\n",
    "\n"
   ]
  },
  {
   "cell_type": "code",
   "execution_count": 156,
   "metadata": {},
   "outputs": [
    {
     "name": "stdout",
     "output_type": "stream",
     "text": [
      "mean_absolute_error is = 0.1377049180327869\n",
      "mean_squared_error is = 0.3710861329028436\n"
     ]
    }
   ],
   "source": [
    "from sklearn.metrics import mean_absolute_error\n",
    "from sklearn.metrics import mean_squared_error\n",
    "\n",
    "\n",
    "MAEVale=mean_absolute_error(y_test,y_pred,multioutput=\"uniform_average\")\n",
    "print(\"mean_absolute_error is =\",MAEVale)\n",
    "\n",
    "MSEVale=mean_squared_error(y_test,y_pred,multioutput=\"uniform_average\")\n",
    "RmseVal=np.sqrt(MSEVale)\n",
    "print(\"mean_squared_error is =\",RmseVal)\n",
    "\n"
   ]
  },
  {
   "cell_type": "code",
   "execution_count": 157,
   "metadata": {},
   "outputs": [
    {
     "name": "stdout",
     "output_type": "stream",
     "text": [
      "Decision Tree  classifiers  confusion_matrix\n",
      "Decision Tree classifier Trining Accurcy = 1.0\n",
      "Decision Tree classifier Testing Accurcy =  0.8622950819672132\n",
      "[[293  37]\n",
      " [ 47 233]]\n"
     ]
    },
    {
     "data": {
      "text/plain": [
       "Text(33.0, 0.5, 'Acutl')"
      ]
     },
     "execution_count": 157,
     "metadata": {},
     "output_type": "execute_result"
    },
    {
     "data": {
      "image/png": "[encoded data removed]",
      "text/plain": [
       "<Figure size 432x288 with 2 Axes>"
      ]
     },
     "metadata": {
      "needs_background": "light"
     },
     "output_type": "display_data"
    }
   ],
   "source": [
    "from sklearn.metrics import confusion_matrix\n",
    "\n",
    "print(\"Decision Tree  classifiers  confusion_matrix\")\n",
    "cm=confusion_matrix(y_test,new_y)\n",
    "TN=cm[0][0]\n",
    "TP=cm[1][1]\n",
    "FP=cm[0][1]\n",
    "FN=cm[1][0]\n",
    "\n",
    "print('Decision Tree classifier Trining Accurcy =',D_classifier.score(x_train,y_train) )\n",
    "print('Decision Tree classifier Testing Accurcy = ',(TP+TN)/(TP+TN+FP+FN))\n",
    "print(cm)\n",
    "sns.heatmap(cm,annot=True)\n",
    "plt.title(\"Decision Tree classifier confusion_matrix \")\n",
    "plt.xlabel(\"Predication\")\n",
    "plt.ylabel(\"Acutl\")\n"
   ]
  },
  {
   "cell_type": "code",
   "execution_count": 158,
   "metadata": {},
   "outputs": [
    {
     "name": "stdout",
     "output_type": "stream",
     "text": [
      "classification_report Decision Tree\n",
      ".......................................\n",
      "              precision    recall  f1-score   support\n",
      "\n",
      "           0       0.86      0.89      0.87       330\n",
      "           1       0.86      0.83      0.85       280\n",
      "\n",
      "    accuracy                           0.86       610\n",
      "   macro avg       0.86      0.86      0.86       610\n",
      "weighted avg       0.86      0.86      0.86       610\n",
      "\n",
      "accuracy_score= 0.8622950819672132\n"
     ]
    }
   ],
   "source": [
    "### CLASSIFACTION Report\n",
    "\n",
    "from sklearn.metrics import classification_report\n",
    "from sklearn.metrics import accuracy_score\n",
    "\n",
    "y_pred=D_classifier.predict(x_test)\n",
    "print('classification_report Decision Tree')\n",
    "print('.......................................') \n",
    "\n",
    "print(classification_report(y_test,y_pred)) \n",
    "print(\"accuracy_score=\",accuracy_score(y_test,y_pred)) \n"
   ]
  },
  {
   "cell_type": "markdown",
   "metadata": {},
   "source": [
    "## Feature Selection by Generic BY 16FS\n"
   ]
  },
  {
   "cell_type": "code",
   "execution_count": 159,
   "metadata": {},
   "outputs": [
    {
     "name": "stdout",
     "output_type": "stream",
     "text": [
      "X Shape is  (2437, 16)\n"
     ]
    }
   ],
   "source": [
    "#print('Original X Shape is ' , X.shape)\n",
    "FeatureSelection = GenericUnivariateSelect(score_func= chi2, mode= 'k_best', param=16) # score_func can = f_classif : mode can = percentile,fpr,fdr,fwe \n",
    "X = FeatureSelection.fit_transform(x, y)\n",
    "#showing X Dimension \n",
    "print('X Shape is ' , X.shape)\n"
   ]
  },
  {
   "cell_type": "code",
   "execution_count": 160,
   "metadata": {},
   "outputs": [
    {
     "name": "stdout",
     "output_type": "stream",
     "text": [
      "X Shape is  (2437, 16)\n",
      "Selected Features are :  [False  True  True  True  True False  True False  True  True  True  True\n",
      "  True  True  True  True  True  True  True False False False]\n"
     ]
    },
    {
     "data": {
      "text/plain": [
       "Index(['Age', 'Adress', 'FBS', 'Urea', 'ALB', 'GPT', 'GOT', 'ALP', 'CA15',\n",
       "       'CEA', 'WBC', 'RBC', 'HGB', 'PLT', 'ESR', 'LDH'],\n",
       "      dtype='object')"
      ]
     },
     "execution_count": 160,
     "metadata": {},
     "output_type": "execute_result"
    }
   ],
   "source": [
    "## showing X Dimension \n",
    "print('X Shape is ' , X.shape)\n",
    "print('Selected Features are : ' , FeatureSelection.get_support())\n",
    "x.columns[FeatureSelection.get_support()]\n"
   ]
  },
  {
   "cell_type": "code",
   "execution_count": 161,
   "metadata": {},
   "outputs": [
    {
     "data": {
      "text/plain": [
       "(2437, 16)"
      ]
     },
     "execution_count": 161,
     "metadata": {},
     "output_type": "execute_result"
    }
   ],
   "source": [
    "X=BC.drop([\"CLASS\",\"Sex\",\"Creatinin\",\"TCa\",\"K\",\"Na\",\"CL\"],axis=1)\n",
    "Y=BC[\"CLASS\"] \n",
    "X.shape"
   ]
  },
  {
   "cell_type": "code",
   "execution_count": 162,
   "metadata": {},
   "outputs": [],
   "source": [
    "\n",
    "from sklearn.model_selection import train_test_split\n",
    "x_train, x_test, y_train, y_test = train_test_split(X, Y, \n",
    "                                                    test_size=0.25)\n",
    "\n"
   ]
  },
  {
   "cell_type": "code",
   "execution_count": 163,
   "metadata": {},
   "outputs": [
    {
     "data": {
      "text/plain": [
       "DecisionTreeClassifier(class_weight=None, criterion='gini', max_depth=None,\n",
       "                       max_features=None, max_leaf_nodes=None,\n",
       "                       min_impurity_decrease=0.0, min_impurity_split=None,\n",
       "                       min_samples_leaf=1, min_samples_split=2,\n",
       "                       min_weight_fraction_leaf=0.0, presort=False,\n",
       "                       random_state=0, splitter='best')"
      ]
     },
     "execution_count": 163,
     "metadata": {},
     "output_type": "execute_result"
    }
   ],
   "source": [
    "from sklearn.tree import DecisionTreeClassifier\n",
    "\n",
    "D_classifier= DecisionTreeClassifier(random_state=0) \n",
    "D_classifier.fit(x_train,y_train) \n",
    "\n"
   ]
  },
  {
   "cell_type": "code",
   "execution_count": 164,
   "metadata": {},
   "outputs": [],
   "source": [
    "y_pred=D_classifier.predict_proba(x_test)[:,1]\n",
    "\n",
    "\n",
    "new_y=[]\n",
    "for i in range (len(y_pred)):\n",
    "    if y_pred[i]<0.5:\n",
    "        new_y.append(0)\n",
    "    else:\n",
    "        new_y.append(1)\n"
   ]
  },
  {
   "cell_type": "code",
   "execution_count": 165,
   "metadata": {},
   "outputs": [
    {
     "data": {
      "text/plain": [
       "0.8786885245901639"
      ]
     },
     "execution_count": 165,
     "metadata": {},
     "output_type": "execute_result"
    }
   ],
   "source": [
    "from sklearn.metrics import accuracy_score\n",
    "\n",
    "\n",
    "accuracy_score(y_test,new_y)\n"
   ]
  },
  {
   "cell_type": "code",
   "execution_count": 166,
   "metadata": {},
   "outputs": [
    {
     "name": "stdout",
     "output_type": "stream",
     "text": [
      "mean_absolute_error is = 0.12131147540983607\n",
      "mean_squared_error is = 0.3482979692875571\n"
     ]
    }
   ],
   "source": [
    "from sklearn.metrics import mean_absolute_error\n",
    "from sklearn.metrics import mean_squared_error\n",
    "\n",
    "\n",
    "MAEVale=mean_absolute_error(y_test,y_pred,multioutput=\"uniform_average\")\n",
    "print(\"mean_absolute_error is =\",MAEVale)\n",
    "\n",
    "MSEVale=mean_squared_error(y_test,y_pred,multioutput=\"uniform_average\")\n",
    "RmseVal=np.sqrt(MSEVale)\n",
    "print(\"mean_squared_error is =\",RmseVal)\n",
    "\n"
   ]
  },
  {
   "cell_type": "code",
   "execution_count": 167,
   "metadata": {},
   "outputs": [
    {
     "name": "stdout",
     "output_type": "stream",
     "text": [
      "Decision Tree  classifiers  confusion_matrix\n",
      "Decision Tree classifier Trining Accurcy = 1.0\n",
      "Decision Tree classifier Testing Accurcy =  0.8786885245901639\n",
      "[[307  34]\n",
      " [ 40 229]]\n"
     ]
    },
    {
     "data": {
      "text/plain": [
       "Text(33.0, 0.5, 'Acutl')"
      ]
     },
     "execution_count": 167,
     "metadata": {},
     "output_type": "execute_result"
    },
    {
     "data": {
      "image/png": "[encoded data removed]",
      "text/plain": [
       "<Figure size 432x288 with 2 Axes>"
      ]
     },
     "metadata": {
      "needs_background": "light"
     },
     "output_type": "display_data"
    }
   ],
   "source": [
    "from sklearn.metrics import confusion_matrix\n",
    "\n",
    "print(\"Decision Tree  classifiers  confusion_matrix\")\n",
    "cm=confusion_matrix(y_test,new_y)\n",
    "TN=cm[0][0]\n",
    "TP=cm[1][1]\n",
    "FP=cm[0][1]\n",
    "FN=cm[1][0]\n",
    "\n",
    "print('Decision Tree classifier Trining Accurcy =',D_classifier.score(x_train,y_train) )\n",
    "print('Decision Tree classifier Testing Accurcy = ',(TP+TN)/(TP+TN+FP+FN))\n",
    "print(cm)\n",
    "sns.heatmap(cm,annot=True)\n",
    "plt.title(\"Decision Tree classifier confusion_matrix \")\n",
    "plt.xlabel(\"Predication\")\n",
    "plt.ylabel(\"Acutl\")\n"
   ]
  },
  {
   "cell_type": "code",
   "execution_count": 168,
   "metadata": {},
   "outputs": [
    {
     "name": "stdout",
     "output_type": "stream",
     "text": [
      "classification_report Decision Tree\n",
      ".......................................\n",
      "              precision    recall  f1-score   support\n",
      "\n",
      "           0       0.88      0.90      0.89       341\n",
      "           1       0.87      0.85      0.86       269\n",
      "\n",
      "    accuracy                           0.88       610\n",
      "   macro avg       0.88      0.88      0.88       610\n",
      "weighted avg       0.88      0.88      0.88       610\n",
      "\n",
      "accuracy_score= 0.8786885245901639\n"
     ]
    }
   ],
   "source": [
    "### CLASSIFACTION Report\n",
    "\n",
    "from sklearn.metrics import classification_report\n",
    "from sklearn.metrics import accuracy_score\n",
    "\n",
    "y_pred=D_classifier.predict(x_test)\n",
    "print('classification_report Decision Tree')\n",
    "print('.......................................') \n",
    "\n",
    "print(classification_report(y_test,y_pred)) \n",
    "print(\"accuracy_score=\",accuracy_score(y_test,y_pred)) \n",
    "\n"
   ]
  },
  {
   "cell_type": "markdown",
   "metadata": {},
   "source": [
    "## Feature Selection by Generic BY 17FS"
   ]
  },
  {
   "cell_type": "code",
   "execution_count": 169,
   "metadata": {},
   "outputs": [
    {
     "name": "stdout",
     "output_type": "stream",
     "text": [
      "X Shape is  (2437, 17)\n"
     ]
    }
   ],
   "source": [
    "#print('Original X Shape is ' , X.shape)\n",
    "FeatureSelection = GenericUnivariateSelect(score_func= chi2, mode= 'k_best', param=17) # score_func can = f_classif : mode can = percentile,fpr,fdr,fwe \n",
    "X = FeatureSelection.fit_transform(x, y)\n",
    "#showing X Dimension \n",
    "print('X Shape is ' , X.shape)\n"
   ]
  },
  {
   "cell_type": "code",
   "execution_count": 170,
   "metadata": {},
   "outputs": [
    {
     "name": "stdout",
     "output_type": "stream",
     "text": [
      "X Shape is  (2437, 17)\n",
      "Selected Features are :  [False  True  True  True  True False  True False  True  True  True  True\n",
      "  True  True  True  True  True  True  True  True False False]\n"
     ]
    },
    {
     "data": {
      "text/plain": [
       "Index(['Age', 'Adress', 'FBS', 'Urea', 'ALB', 'GPT', 'GOT', 'ALP', 'CA15',\n",
       "       'CEA', 'WBC', 'RBC', 'HGB', 'PLT', 'ESR', 'LDH', 'Na'],\n",
       "      dtype='object')"
      ]
     },
     "execution_count": 170,
     "metadata": {},
     "output_type": "execute_result"
    }
   ],
   "source": [
    "## showing X Dimension \n",
    "print('X Shape is ' , X.shape)\n",
    "print('Selected Features are : ' , FeatureSelection.get_support())\n",
    "x.columns[FeatureSelection.get_support()]\n"
   ]
  },
  {
   "cell_type": "code",
   "execution_count": 171,
   "metadata": {},
   "outputs": [
    {
     "data": {
      "text/plain": [
       "(2437, 17)"
      ]
     },
     "execution_count": 171,
     "metadata": {},
     "output_type": "execute_result"
    }
   ],
   "source": [
    "X=BC.drop([\"CLASS\",\"Sex\",\"Creatinin\",\"TCa\",\"K\",\"CL\"],axis=1)\n",
    "Y=BC[\"CLASS\"] \n",
    "X.shape\n"
   ]
  },
  {
   "cell_type": "code",
   "execution_count": 172,
   "metadata": {},
   "outputs": [],
   "source": [
    "from sklearn.model_selection import train_test_split\n",
    "x_train, x_test, y_train, y_test = train_test_split(X, Y, \n",
    "                                                    test_size=0.25)\n"
   ]
  },
  {
   "cell_type": "code",
   "execution_count": 173,
   "metadata": {},
   "outputs": [
    {
     "data": {
      "text/plain": [
       "DecisionTreeClassifier(class_weight=None, criterion='gini', max_depth=None,\n",
       "                       max_features=None, max_leaf_nodes=None,\n",
       "                       min_impurity_decrease=0.0, min_impurity_split=None,\n",
       "                       min_samples_leaf=1, min_samples_split=2,\n",
       "                       min_weight_fraction_leaf=0.0, presort=False,\n",
       "                       random_state=0, splitter='best')"
      ]
     },
     "execution_count": 173,
     "metadata": {},
     "output_type": "execute_result"
    }
   ],
   "source": [
    "from sklearn.tree import DecisionTreeClassifier\n",
    "\n",
    "D_classifier= DecisionTreeClassifier(random_state=0) \n",
    "D_classifier.fit(x_train,y_train) \n",
    "\n"
   ]
  },
  {
   "cell_type": "code",
   "execution_count": 174,
   "metadata": {},
   "outputs": [],
   "source": [
    "y_pred=D_classifier.predict_proba(x_test)[:,1]\n",
    "\n",
    "\n",
    "new_y=[]\n",
    "for i in range (len(y_pred)):\n",
    "    if y_pred[i]<0.5:\n",
    "        new_y.append(0)\n",
    "    else:\n",
    "        new_y.append(1)\n"
   ]
  },
  {
   "cell_type": "code",
   "execution_count": 175,
   "metadata": {},
   "outputs": [
    {
     "data": {
      "text/plain": [
       "0.8836065573770492"
      ]
     },
     "execution_count": 175,
     "metadata": {},
     "output_type": "execute_result"
    }
   ],
   "source": [
    "\n",
    "from sklearn.metrics import accuracy_score\n",
    "\n",
    "\n",
    "accuracy_score(y_test,new_y)\n",
    "\n"
   ]
  },
  {
   "cell_type": "code",
   "execution_count": 176,
   "metadata": {},
   "outputs": [
    {
     "name": "stdout",
     "output_type": "stream",
     "text": [
      "mean_absolute_error is = 0.11639344262295082\n",
      "mean_squared_error is = 0.34116483204303283\n"
     ]
    }
   ],
   "source": [
    "from sklearn.metrics import mean_absolute_error\n",
    "from sklearn.metrics import mean_squared_error\n",
    "\n",
    "\n",
    "MAEVale=mean_absolute_error(y_test,y_pred,multioutput=\"uniform_average\")\n",
    "print(\"mean_absolute_error is =\",MAEVale)\n",
    "\n",
    "MSEVale=mean_squared_error(y_test,y_pred,multioutput=\"uniform_average\")\n",
    "RmseVal=np.sqrt(MSEVale)\n",
    "print(\"mean_squared_error is =\",RmseVal)\n",
    "\n",
    "\n"
   ]
  },
  {
   "cell_type": "code",
   "execution_count": 177,
   "metadata": {},
   "outputs": [
    {
     "name": "stdout",
     "output_type": "stream",
     "text": [
      "Decision Tree  classifiers  confusion_matrix\n",
      "Decision Tree classifier Trining Accurcy = 1.0\n",
      "Decision Tree classifier Testing Accurcy =  0.8836065573770492\n",
      "[[292  34]\n",
      " [ 37 247]]\n"
     ]
    },
    {
     "data": {
      "text/plain": [
       "Text(33.0, 0.5, 'Acutl')"
      ]
     },
     "execution_count": 177,
     "metadata": {},
     "output_type": "execute_result"
    },
    {
     "data": {
      "image/png": "[encoded data removed]",
      "text/plain": [
       "<Figure size 432x288 with 2 Axes>"
      ]
     },
     "metadata": {
      "needs_background": "light"
     },
     "output_type": "display_data"
    }
   ],
   "source": [
    "from sklearn.metrics import confusion_matrix\n",
    "\n",
    "print(\"Decision Tree  classifiers  confusion_matrix\")\n",
    "cm=confusion_matrix(y_test,new_y)\n",
    "TN=cm[0][0]\n",
    "TP=cm[1][1]\n",
    "FP=cm[0][1]\n",
    "FN=cm[1][0]\n",
    "\n",
    "print('Decision Tree classifier Trining Accurcy =',D_classifier.score(x_train,y_train) )\n",
    "print('Decision Tree classifier Testing Accurcy = ',(TP+TN)/(TP+TN+FP+FN))\n",
    "print(cm)\n",
    "sns.heatmap(cm,annot=True)\n",
    "plt.title(\"Decision Tree classifier confusion_matrix \")\n",
    "plt.xlabel(\"Predication\")\n",
    "plt.ylabel(\"Acutl\")\n"
   ]
  },
  {
   "cell_type": "code",
   "execution_count": 178,
   "metadata": {},
   "outputs": [
    {
     "name": "stdout",
     "output_type": "stream",
     "text": [
      "classification_report Decision Tree\n",
      ".......................................\n",
      "              precision    recall  f1-score   support\n",
      "\n",
      "           0       0.89      0.90      0.89       326\n",
      "           1       0.88      0.87      0.87       284\n",
      "\n",
      "    accuracy                           0.88       610\n",
      "   macro avg       0.88      0.88      0.88       610\n",
      "weighted avg       0.88      0.88      0.88       610\n",
      "\n",
      "accuracy_score= 0.8836065573770492\n"
     ]
    }
   ],
   "source": [
    "### CLASSIFACTION Report\n",
    "\n",
    "from sklearn.metrics import classification_report\n",
    "from sklearn.metrics import accuracy_score\n",
    "\n",
    "y_pred=D_classifier.predict(x_test)\n",
    "print('classification_report Decision Tree')\n",
    "print('.......................................') \n",
    "\n",
    "print(classification_report(y_test,y_pred)) \n",
    "print(\"accuracy_score=\",accuracy_score(y_test,y_pred)) \n",
    "\n"
   ]
  },
  {
   "cell_type": "markdown",
   "metadata": {},
   "source": [
    "   ## Feature Selection by Generic BY 18FS"
   ]
  },
  {
   "cell_type": "code",
   "execution_count": 179,
   "metadata": {},
   "outputs": [
    {
     "name": "stdout",
     "output_type": "stream",
     "text": [
      "X Shape is  (2437, 18)\n"
     ]
    }
   ],
   "source": [
    "#print('Original X Shape is ' , X.shape)\n",
    "FeatureSelection = GenericUnivariateSelect(score_func= chi2, mode= 'k_best', param=18) # score_func can = f_classif : mode can = percentile,fpr,fdr,fwe \n",
    "X = FeatureSelection.fit_transform(x, y)\n",
    "#showing X Dimension \n",
    "print('X Shape is ' , X.shape)\n"
   ]
  },
  {
   "cell_type": "code",
   "execution_count": 180,
   "metadata": {},
   "outputs": [
    {
     "name": "stdout",
     "output_type": "stream",
     "text": [
      "X Shape is  (2437, 18)\n",
      "Selected Features are :  [False  True  True  True  True  True  True False  True  True  True  True\n",
      "  True  True  True  True  True  True  True  True False False]\n"
     ]
    },
    {
     "data": {
      "text/plain": [
       "Index(['Age', 'Adress', 'FBS', 'Urea', 'Creatinin', 'ALB', 'GPT', 'GOT', 'ALP',\n",
       "       'CA15', 'CEA', 'WBC', 'RBC', 'HGB', 'PLT', 'ESR', 'LDH', 'Na'],\n",
       "      dtype='object')"
      ]
     },
     "execution_count": 180,
     "metadata": {},
     "output_type": "execute_result"
    }
   ],
   "source": [
    "## showing X Dimension \n",
    "print('X Shape is ' , X.shape)\n",
    "print('Selected Features are : ' , FeatureSelection.get_support())\n",
    "x.columns[FeatureSelection.get_support()]\n"
   ]
  },
  {
   "cell_type": "code",
   "execution_count": 181,
   "metadata": {},
   "outputs": [
    {
     "data": {
      "text/plain": [
       "(2437, 18)"
      ]
     },
     "execution_count": 181,
     "metadata": {},
     "output_type": "execute_result"
    }
   ],
   "source": [
    "X=BC.drop([\"CLASS\",\"Sex\",\"TCa\",\"K\",\"CL\"],axis=1)\n",
    "Y=BC[\"CLASS\"] \n",
    "X.shape\n"
   ]
  },
  {
   "cell_type": "code",
   "execution_count": 182,
   "metadata": {},
   "outputs": [],
   "source": [
    "from sklearn.model_selection import train_test_split\n",
    "x_train, x_test, y_train, y_test = train_test_split(X, Y, \n",
    "                                                    test_size=0.25)\n"
   ]
  },
  {
   "cell_type": "code",
   "execution_count": 183,
   "metadata": {},
   "outputs": [
    {
     "data": {
      "text/plain": [
       "DecisionTreeClassifier(class_weight=None, criterion='gini', max_depth=None,\n",
       "                       max_features=None, max_leaf_nodes=None,\n",
       "                       min_impurity_decrease=0.0, min_impurity_split=None,\n",
       "                       min_samples_leaf=1, min_samples_split=2,\n",
       "                       min_weight_fraction_leaf=0.0, presort=False,\n",
       "                       random_state=0, splitter='best')"
      ]
     },
     "execution_count": 183,
     "metadata": {},
     "output_type": "execute_result"
    }
   ],
   "source": [
    "from sklearn.tree import DecisionTreeClassifier\n",
    "\n",
    "D_classifier= DecisionTreeClassifier(random_state=0) \n",
    "D_classifier.fit(x_train,y_train) \n"
   ]
  },
  {
   "cell_type": "code",
   "execution_count": 184,
   "metadata": {},
   "outputs": [],
   "source": [
    "y_pred=D_classifier.predict_proba(x_test)[:,1]\n",
    "\n",
    "\n",
    "new_y=[]\n",
    "for i in range (len(y_pred)):\n",
    "    if y_pred[i]<0.5:\n",
    "        new_y.append(0)\n",
    "    else:\n",
    "        new_y.append(1)\n"
   ]
  },
  {
   "cell_type": "code",
   "execution_count": 185,
   "metadata": {},
   "outputs": [
    {
     "data": {
      "text/plain": [
       "0.8672131147540983"
      ]
     },
     "execution_count": 185,
     "metadata": {},
     "output_type": "execute_result"
    }
   ],
   "source": [
    "from sklearn.metrics import accuracy_score\n",
    "\n",
    "\n",
    "accuracy_score(y_test,new_y)\n"
   ]
  },
  {
   "cell_type": "code",
   "execution_count": 186,
   "metadata": {},
   "outputs": [
    {
     "name": "stdout",
     "output_type": "stream",
     "text": [
      "mean_absolute_error is = 0.13278688524590163\n",
      "mean_squared_error is = 0.3643993485805122\n"
     ]
    }
   ],
   "source": [
    "\n",
    "from sklearn.metrics import mean_absolute_error\n",
    "from sklearn.metrics import mean_squared_error\n",
    "\n",
    "\n",
    "MAEVale=mean_absolute_error(y_test,y_pred,multioutput=\"uniform_average\")\n",
    "print(\"mean_absolute_error is =\",MAEVale)\n",
    "\n",
    "MSEVale=mean_squared_error(y_test,y_pred,multioutput=\"uniform_average\")\n",
    "RmseVal=np.sqrt(MSEVale)\n",
    "print(\"mean_squared_error is =\",RmseVal)\n",
    "\n"
   ]
  },
  {
   "cell_type": "code",
   "execution_count": 187,
   "metadata": {},
   "outputs": [
    {
     "name": "stdout",
     "output_type": "stream",
     "text": [
      "Decision Tree  classifiers  confusion_matrix\n",
      "Decision Tree classifier Trining Accurcy = 1.0\n",
      "Decision Tree classifier Testing Accurcy =  0.8672131147540983\n",
      "[[290  50]\n",
      " [ 31 239]]\n"
     ]
    },
    {
     "data": {
      "text/plain": [
       "Text(33.0, 0.5, 'Acutl')"
      ]
     },
     "execution_count": 187,
     "metadata": {},
     "output_type": "execute_result"
    },
    {
     "data": {
      "image/png": "[encoded data removed]",
      "text/plain": [
       "<Figure size 432x288 with 2 Axes>"
      ]
     },
     "metadata": {
      "needs_background": "light"
     },
     "output_type": "display_data"
    }
   ],
   "source": [
    "from sklearn.metrics import confusion_matrix\n",
    "\n",
    "print(\"Decision Tree  classifiers  confusion_matrix\")\n",
    "cm=confusion_matrix(y_test,new_y)\n",
    "TN=cm[0][0]\n",
    "TP=cm[1][1]\n",
    "FP=cm[0][1]\n",
    "FN=cm[1][0]\n",
    "\n",
    "print('Decision Tree classifier Trining Accurcy =',D_classifier.score(x_train,y_train) )\n",
    "print('Decision Tree classifier Testing Accurcy = ',(TP+TN)/(TP+TN+FP+FN))\n",
    "print(cm)\n",
    "sns.heatmap(cm,annot=True)\n",
    "plt.title(\"Decision Tree classifier confusion_matrix \")\n",
    "plt.xlabel(\"Predication\")\n",
    "plt.ylabel(\"Acutl\")\n"
   ]
  },
  {
   "cell_type": "code",
   "execution_count": 188,
   "metadata": {},
   "outputs": [
    {
     "name": "stdout",
     "output_type": "stream",
     "text": [
      "classification_report Decision Tree\n",
      ".......................................\n",
      "              precision    recall  f1-score   support\n",
      "\n",
      "           0       0.90      0.85      0.88       340\n",
      "           1       0.83      0.89      0.86       270\n",
      "\n",
      "    accuracy                           0.87       610\n",
      "   macro avg       0.87      0.87      0.87       610\n",
      "weighted avg       0.87      0.87      0.87       610\n",
      "\n",
      "accuracy_score= 0.8672131147540983\n"
     ]
    }
   ],
   "source": [
    "\n",
    "### CLASSIFACTION Report\n",
    "\n",
    "from sklearn.metrics import classification_report\n",
    "from sklearn.metrics import accuracy_score\n",
    "\n",
    "y_pred=D_classifier.predict(x_test)\n",
    "print('classification_report Decision Tree')\n",
    "print('.......................................') \n",
    "\n",
    "print(classification_report(y_test,y_pred)) \n",
    "print(\"accuracy_score=\",accuracy_score(y_test,y_pred)) \n"
   ]
  },
  {
   "cell_type": "markdown",
   "metadata": {},
   "source": [
    " ## Feature Selection by Generic BY 19FS\n"
   ]
  },
  {
   "cell_type": "code",
   "execution_count": 189,
   "metadata": {},
   "outputs": [
    {
     "name": "stdout",
     "output_type": "stream",
     "text": [
      "X Shape is  (2437, 19)\n"
     ]
    }
   ],
   "source": [
    "#print('Original X Shape is ' , X.shape)\n",
    "FeatureSelection = GenericUnivariateSelect(score_func= chi2, mode= 'k_best', param=19) # score_func can = f_classif : mode can = percentile,fpr,fdr,fwe \n",
    "X = FeatureSelection.fit_transform(x, y)\n",
    "#showing X Dimension \n",
    "print('X Shape is ' , X.shape)\n"
   ]
  },
  {
   "cell_type": "code",
   "execution_count": 190,
   "metadata": {},
   "outputs": [
    {
     "name": "stdout",
     "output_type": "stream",
     "text": [
      "X Shape is  (2437, 19)\n",
      "Selected Features are :  [False  True  True  True  True  True  True False  True  True  True  True\n",
      "  True  True  True  True  True  True  True  True False  True]\n"
     ]
    },
    {
     "data": {
      "text/plain": [
       "Index(['Age', 'Adress', 'FBS', 'Urea', 'Creatinin', 'ALB', 'GPT', 'GOT', 'ALP',\n",
       "       'CA15', 'CEA', 'WBC', 'RBC', 'HGB', 'PLT', 'ESR', 'LDH', 'Na', 'CL'],\n",
       "      dtype='object')"
      ]
     },
     "execution_count": 190,
     "metadata": {},
     "output_type": "execute_result"
    }
   ],
   "source": [
    "## showing X Dimension \n",
    "print('X Shape is ' , X.shape)\n",
    "print('Selected Features are : ' , FeatureSelection.get_support())\n",
    "x.columns[FeatureSelection.get_support()]\n",
    "\n"
   ]
  },
  {
   "cell_type": "code",
   "execution_count": 191,
   "metadata": {},
   "outputs": [
    {
     "data": {
      "text/plain": [
       "(2437, 19)"
      ]
     },
     "execution_count": 191,
     "metadata": {},
     "output_type": "execute_result"
    }
   ],
   "source": [
    "X=BC.drop([\"CLASS\",\"Sex\",\"TCa\",\"K\"],axis=1)\n",
    "Y=BC[\"CLASS\"] \n",
    "X.shape\n"
   ]
  },
  {
   "cell_type": "code",
   "execution_count": 192,
   "metadata": {},
   "outputs": [],
   "source": [
    "\n",
    "from sklearn.model_selection import train_test_split\n",
    "x_train, x_test, y_train, y_test = train_test_split(X, Y, \n",
    "                                                    test_size=0.25)\n",
    "\n"
   ]
  },
  {
   "cell_type": "code",
   "execution_count": 193,
   "metadata": {},
   "outputs": [
    {
     "data": {
      "text/plain": [
       "DecisionTreeClassifier(class_weight=None, criterion='gini', max_depth=None,\n",
       "                       max_features=None, max_leaf_nodes=None,\n",
       "                       min_impurity_decrease=0.0, min_impurity_split=None,\n",
       "                       min_samples_leaf=1, min_samples_split=2,\n",
       "                       min_weight_fraction_leaf=0.0, presort=False,\n",
       "                       random_state=0, splitter='best')"
      ]
     },
     "execution_count": 193,
     "metadata": {},
     "output_type": "execute_result"
    }
   ],
   "source": [
    "from sklearn.tree import DecisionTreeClassifier\n",
    "\n",
    "D_classifier= DecisionTreeClassifier(random_state=0) \n",
    "D_classifier.fit(x_train,y_train) \n",
    "\n"
   ]
  },
  {
   "cell_type": "code",
   "execution_count": 194,
   "metadata": {},
   "outputs": [],
   "source": [
    "y_pred=D_classifier.predict_proba(x_test)[:,1]\n",
    "\n",
    "\n",
    "new_y=[]\n",
    "for i in range (len(y_pred)):\n",
    "    if y_pred[i]<0.5:\n",
    "        new_y.append(0)\n",
    "    else:\n",
    "        new_y.append(1)\n"
   ]
  },
  {
   "cell_type": "code",
   "execution_count": 195,
   "metadata": {},
   "outputs": [
    {
     "data": {
      "text/plain": [
       "0.8770491803278688"
      ]
     },
     "execution_count": 195,
     "metadata": {},
     "output_type": "execute_result"
    }
   ],
   "source": [
    "from sklearn.metrics import accuracy_score\n",
    "\n",
    "\n",
    "accuracy_score(y_test,new_y)\n"
   ]
  },
  {
   "cell_type": "code",
   "execution_count": 196,
   "metadata": {},
   "outputs": [
    {
     "name": "stdout",
     "output_type": "stream",
     "text": [
      "mean_absolute_error is = 0.12295081967213115\n",
      "mean_squared_error is = 0.35064343665913833\n"
     ]
    }
   ],
   "source": [
    "from sklearn.metrics import mean_absolute_error\n",
    "from sklearn.metrics import mean_squared_error\n",
    "\n",
    "\n",
    "MAEVale=mean_absolute_error(y_test,y_pred,multioutput=\"uniform_average\")\n",
    "print(\"mean_absolute_error is =\",MAEVale)\n",
    "\n",
    "MSEVale=mean_squared_error(y_test,y_pred,multioutput=\"uniform_average\")\n",
    "RmseVal=np.sqrt(MSEVale)\n",
    "print(\"mean_squared_error is =\",RmseVal)\n"
   ]
  },
  {
   "cell_type": "code",
   "execution_count": 197,
   "metadata": {},
   "outputs": [
    {
     "name": "stdout",
     "output_type": "stream",
     "text": [
      "Decision Tree  classifiers  confusion_matrix\n",
      "Decision Tree classifier Trining Accurcy = 1.0\n",
      "Decision Tree classifier Testing Accurcy =  0.8770491803278688\n",
      "[[296  43]\n",
      " [ 32 239]]\n"
     ]
    },
    {
     "data": {
      "text/plain": [
       "Text(33.0, 0.5, 'Acutl')"
      ]
     },
     "execution_count": 197,
     "metadata": {},
     "output_type": "execute_result"
    },
    {
     "data": {
      "image/png": "[encoded data removed]",
      "text/plain": [
       "<Figure size 432x288 with 2 Axes>"
      ]
     },
     "metadata": {
      "needs_background": "light"
     },
     "output_type": "display_data"
    }
   ],
   "source": [
    "from sklearn.metrics import confusion_matrix\n",
    "\n",
    "print(\"Decision Tree  classifiers  confusion_matrix\")\n",
    "cm=confusion_matrix(y_test,new_y)\n",
    "TN=cm[0][0]\n",
    "TP=cm[1][1]\n",
    "FP=cm[0][1]\n",
    "FN=cm[1][0]\n",
    "\n",
    "print('Decision Tree classifier Trining Accurcy =',D_classifier.score(x_train,y_train) )\n",
    "print('Decision Tree classifier Testing Accurcy = ',(TP+TN)/(TP+TN+FP+FN))\n",
    "print(cm)\n",
    "sns.heatmap(cm,annot=True)\n",
    "plt.title(\"Decision Tree classifier confusion_matrix \")\n",
    "plt.xlabel(\"Predication\")\n",
    "plt.ylabel(\"Acutl\")\n"
   ]
  },
  {
   "cell_type": "code",
   "execution_count": 198,
   "metadata": {},
   "outputs": [
    {
     "name": "stdout",
     "output_type": "stream",
     "text": [
      "classification_report Decision Tree\n",
      ".......................................\n",
      "              precision    recall  f1-score   support\n",
      "\n",
      "           0       0.90      0.87      0.89       339\n",
      "           1       0.85      0.88      0.86       271\n",
      "\n",
      "    accuracy                           0.88       610\n",
      "   macro avg       0.87      0.88      0.88       610\n",
      "weighted avg       0.88      0.88      0.88       610\n",
      "\n",
      "accuracy_score= 0.8770491803278688\n"
     ]
    }
   ],
   "source": [
    "  \n",
    "\n",
    "### CLASSIFACTION Report\n",
    "\n",
    "from sklearn.metrics import classification_report\n",
    "from sklearn.metrics import accuracy_score\n",
    "\n",
    "y_pred=D_classifier.predict(x_test)\n",
    "print('classification_report Decision Tree')\n",
    "print('.......................................') \n",
    "\n",
    "print(classification_report(y_test,y_pred)) \n",
    "print(\"accuracy_score=\",accuracy_score(y_test,y_pred)) \n"
   ]
  },
  {
   "cell_type": "markdown",
   "metadata": {},
   "source": [
    " ## Feature Selection by Generic BY 20FS"
   ]
  },
  {
   "cell_type": "code",
   "execution_count": 199,
   "metadata": {},
   "outputs": [
    {
     "name": "stdout",
     "output_type": "stream",
     "text": [
      "X Shape is  (2437, 20)\n"
     ]
    }
   ],
   "source": [
    "#print('Original X Shape is ' , X.shape)\n",
    "FeatureSelection = GenericUnivariateSelect(score_func= chi2, mode= 'k_best', param=20) # score_func can = f_classif : mode can = percentile,fpr,fdr,fwe \n",
    "X = FeatureSelection.fit_transform(x, y)\n",
    "#showing X Dimension \n",
    "print('X Shape is ' , X.shape)\n",
    "\n"
   ]
  },
  {
   "cell_type": "code",
   "execution_count": 200,
   "metadata": {},
   "outputs": [
    {
     "name": "stdout",
     "output_type": "stream",
     "text": [
      "X Shape is  (2437, 20)\n",
      "Selected Features are :  [False  True  True  True  True  True  True  True  True  True  True  True\n",
      "  True  True  True  True  True  True  True  True False  True]\n"
     ]
    },
    {
     "data": {
      "text/plain": [
       "Index(['Age', 'Adress', 'FBS', 'Urea', 'Creatinin', 'ALB', 'TCa', 'GPT', 'GOT',\n",
       "       'ALP', 'CA15', 'CEA', 'WBC', 'RBC', 'HGB', 'PLT', 'ESR', 'LDH', 'Na',\n",
       "       'CL'],\n",
       "      dtype='object')"
      ]
     },
     "execution_count": 200,
     "metadata": {},
     "output_type": "execute_result"
    }
   ],
   "source": [
    "## showing X Dimension \n",
    "print('X Shape is ' , X.shape)\n",
    "print('Selected Features are : ' , FeatureSelection.get_support())\n",
    "x.columns[FeatureSelection.get_support()]\n",
    "\n"
   ]
  },
  {
   "cell_type": "code",
   "execution_count": 201,
   "metadata": {},
   "outputs": [
    {
     "data": {
      "text/plain": [
       "(2437, 20)"
      ]
     },
     "execution_count": 201,
     "metadata": {},
     "output_type": "execute_result"
    }
   ],
   "source": [
    "X=BC.drop([\"CLASS\",\"Sex\",\"K\"],axis=1)\n",
    "Y=BC[\"CLASS\"] \n",
    "X.shape\n"
   ]
  },
  {
   "cell_type": "code",
   "execution_count": 202,
   "metadata": {},
   "outputs": [],
   "source": [
    "from sklearn.model_selection import train_test_split\n",
    "x_train, x_test, y_train, y_test = train_test_split(X, Y, \n",
    "                                                    test_size=0.25)\n"
   ]
  },
  {
   "cell_type": "code",
   "execution_count": 203,
   "metadata": {},
   "outputs": [
    {
     "data": {
      "text/plain": [
       "DecisionTreeClassifier(class_weight=None, criterion='gini', max_depth=None,\n",
       "                       max_features=None, max_leaf_nodes=None,\n",
       "                       min_impurity_decrease=0.0, min_impurity_split=None,\n",
       "                       min_samples_leaf=1, min_samples_split=2,\n",
       "                       min_weight_fraction_leaf=0.0, presort=False,\n",
       "                       random_state=0, splitter='best')"
      ]
     },
     "execution_count": 203,
     "metadata": {},
     "output_type": "execute_result"
    }
   ],
   "source": [
    "from sklearn.tree import DecisionTreeClassifier\n",
    "\n",
    "D_classifier= DecisionTreeClassifier(random_state=0) \n",
    "D_classifier.fit(x_train,y_train) \n",
    "\n"
   ]
  },
  {
   "cell_type": "code",
   "execution_count": 204,
   "metadata": {},
   "outputs": [],
   "source": [
    "y_pred=D_classifier.predict_proba(x_test)[:,1]\n",
    "\n",
    "\n",
    "new_y=[]\n",
    "for i in range (len(y_pred)):\n",
    "    if y_pred[i]<0.5:\n",
    "        new_y.append(0)\n",
    "    else:\n",
    "        new_y.append(1)\n"
   ]
  },
  {
   "cell_type": "code",
   "execution_count": 205,
   "metadata": {},
   "outputs": [
    {
     "data": {
      "text/plain": [
       "0.8737704918032787"
      ]
     },
     "execution_count": 205,
     "metadata": {},
     "output_type": "execute_result"
    }
   ],
   "source": [
    "\n",
    "\n",
    "from sklearn.metrics import accuracy_score\n",
    "\n",
    "\n",
    "accuracy_score(y_test,new_y)\n",
    "\n"
   ]
  },
  {
   "cell_type": "code",
   "execution_count": 206,
   "metadata": {},
   "outputs": [
    {
     "name": "stdout",
     "output_type": "stream",
     "text": [
      "mean_absolute_error is = 0.12622950819672132\n",
      "mean_squared_error is = 0.35528792295365363\n"
     ]
    }
   ],
   "source": [
    "from sklearn.metrics import mean_absolute_error\n",
    "from sklearn.metrics import mean_squared_error\n",
    "\n",
    "\n",
    "MAEVale=mean_absolute_error(y_test,y_pred,multioutput=\"uniform_average\")\n",
    "print(\"mean_absolute_error is =\",MAEVale)\n",
    "\n",
    "MSEVale=mean_squared_error(y_test,y_pred,multioutput=\"uniform_average\")\n",
    "RmseVal=np.sqrt(MSEVale)\n",
    "print(\"mean_squared_error is =\",RmseVal)\n",
    "\n"
   ]
  },
  {
   "cell_type": "code",
   "execution_count": 207,
   "metadata": {},
   "outputs": [
    {
     "name": "stdout",
     "output_type": "stream",
     "text": [
      "Decision Tree  classifiers  confusion_matrix\n",
      "Decision Tree classifier Trining Accurcy = 1.0\n",
      "Decision Tree classifier Testing Accurcy =  0.8737704918032787\n",
      "[[300  33]\n",
      " [ 44 233]]\n"
     ]
    },
    {
     "data": {
      "text/plain": [
       "Text(33.0, 0.5, 'Acutl')"
      ]
     },
     "execution_count": 207,
     "metadata": {},
     "output_type": "execute_result"
    },
    {
     "data": {
      "image/png": "[encoded data removed]",
      "text/plain": [
       "<Figure size 432x288 with 2 Axes>"
      ]
     },
     "metadata": {
      "needs_background": "light"
     },
     "output_type": "display_data"
    }
   ],
   "source": [
    "\n",
    "\n",
    "\n",
    "from sklearn.metrics import confusion_matrix\n",
    "\n",
    "print(\"Decision Tree  classifiers  confusion_matrix\")\n",
    "cm=confusion_matrix(y_test,new_y)\n",
    "TN=cm[0][0]\n",
    "TP=cm[1][1]\n",
    "FP=cm[0][1]\n",
    "FN=cm[1][0]\n",
    "\n",
    "print('Decision Tree classifier Trining Accurcy =',D_classifier.score(x_train,y_train) )\n",
    "print('Decision Tree classifier Testing Accurcy = ',(TP+TN)/(TP+TN+FP+FN))\n",
    "print(cm)\n",
    "sns.heatmap(cm,annot=True)\n",
    "plt.title(\"Decision Tree classifier confusion_matrix \")\n",
    "plt.xlabel(\"Predication\")\n",
    "plt.ylabel(\"Acutl\")\n",
    "\n"
   ]
  },
  {
   "cell_type": "code",
   "execution_count": 208,
   "metadata": {},
   "outputs": [
    {
     "name": "stdout",
     "output_type": "stream",
     "text": [
      "classification_report Decision Tree\n",
      ".......................................\n",
      "              precision    recall  f1-score   support\n",
      "\n",
      "           0       0.87      0.90      0.89       333\n",
      "           1       0.88      0.84      0.86       277\n",
      "\n",
      "    accuracy                           0.87       610\n",
      "   macro avg       0.87      0.87      0.87       610\n",
      "weighted avg       0.87      0.87      0.87       610\n",
      "\n",
      "accuracy_score= 0.8737704918032787\n"
     ]
    }
   ],
   "source": [
    "### CLASSIFACTION Report\n",
    "\n",
    "from sklearn.metrics import classification_report\n",
    "from sklearn.metrics import accuracy_score\n",
    "\n",
    "y_pred=D_classifier.predict(x_test)\n",
    "print('classification_report Decision Tree')\n",
    "print('.......................................') \n",
    "\n",
    "print(classification_report(y_test,y_pred)) \n",
    "print(\"accuracy_score=\",accuracy_score(y_test,y_pred)) \n"
   ]
  },
  {
   "cell_type": "markdown",
   "metadata": {},
   "source": [
    " ## Feature Selection by Generic BY 21FS\n"
   ]
  },
  {
   "cell_type": "code",
   "execution_count": 209,
   "metadata": {},
   "outputs": [
    {
     "name": "stdout",
     "output_type": "stream",
     "text": [
      "X Shape is  (2437, 21)\n"
     ]
    }
   ],
   "source": [
    "#print('Original X Shape is ' , X.shape)\n",
    "FeatureSelection = GenericUnivariateSelect(score_func= chi2, mode= 'k_best', param=21) # score_func can = f_classif : mode can = percentile,fpr,fdr,fwe \n",
    "X = FeatureSelection.fit_transform(x, y)\n",
    "#showing X Dimension \n",
    "print('X Shape is ' , X.shape)\n"
   ]
  },
  {
   "cell_type": "code",
   "execution_count": 210,
   "metadata": {},
   "outputs": [
    {
     "name": "stdout",
     "output_type": "stream",
     "text": [
      "X Shape is  (2437, 21)\n",
      "Selected Features are :  [ True  True  True  True  True  True  True  True  True  True  True  True\n",
      "  True  True  True  True  True  True  True  True False  True]\n"
     ]
    },
    {
     "data": {
      "text/plain": [
       "Index(['Sex', 'Age', 'Adress', 'FBS', 'Urea', 'Creatinin', 'ALB', 'TCa', 'GPT',\n",
       "       'GOT', 'ALP', 'CA15', 'CEA', 'WBC', 'RBC', 'HGB', 'PLT', 'ESR', 'LDH',\n",
       "       'Na', 'CL'],\n",
       "      dtype='object')"
      ]
     },
     "execution_count": 210,
     "metadata": {},
     "output_type": "execute_result"
    }
   ],
   "source": [
    "## showing X Dimension \n",
    "print('X Shape is ' , X.shape)\n",
    "print('Selected Features are : ' , FeatureSelection.get_support())\n",
    "x.columns[FeatureSelection.get_support()]\n",
    "\n"
   ]
  },
  {
   "cell_type": "code",
   "execution_count": 211,
   "metadata": {},
   "outputs": [
    {
     "data": {
      "text/plain": [
       "(2437, 21)"
      ]
     },
     "execution_count": 211,
     "metadata": {},
     "output_type": "execute_result"
    }
   ],
   "source": [
    "X=BC.drop([\"CLASS\",\"K\"],axis=1)\n",
    "Y=BC[\"CLASS\"] \n",
    "X.shape\n",
    "\n"
   ]
  },
  {
   "cell_type": "code",
   "execution_count": 212,
   "metadata": {},
   "outputs": [],
   "source": [
    "\n",
    "from sklearn.model_selection import train_test_split\n",
    "x_train, x_test, y_train, y_test = train_test_split(X, Y, \n",
    "                                                    test_size=0.25)\n"
   ]
  },
  {
   "cell_type": "code",
   "execution_count": 213,
   "metadata": {},
   "outputs": [
    {
     "data": {
      "text/plain": [
       "DecisionTreeClassifier(class_weight=None, criterion='gini', max_depth=None,\n",
       "                       max_features=None, max_leaf_nodes=None,\n",
       "                       min_impurity_decrease=0.0, min_impurity_split=None,\n",
       "                       min_samples_leaf=1, min_samples_split=2,\n",
       "                       min_weight_fraction_leaf=0.0, presort=False,\n",
       "                       random_state=0, splitter='best')"
      ]
     },
     "execution_count": 213,
     "metadata": {},
     "output_type": "execute_result"
    }
   ],
   "source": [
    "\n",
    "from sklearn.tree import DecisionTreeClassifier\n",
    "\n",
    "D_classifier= DecisionTreeClassifier(random_state=0) \n",
    "D_classifier.fit(x_train,y_train) \n"
   ]
  },
  {
   "cell_type": "code",
   "execution_count": 214,
   "metadata": {},
   "outputs": [],
   "source": [
    "y_pred=D_classifier.predict_proba(x_test)[:,1]\n",
    "\n",
    "\n",
    "new_y=[]\n",
    "for i in range (len(y_pred)):\n",
    "    if y_pred[i]<0.5:\n",
    "        new_y.append(0)\n",
    "    else:\n",
    "        new_y.append(1)\n"
   ]
  },
  {
   "cell_type": "code",
   "execution_count": 215,
   "metadata": {},
   "outputs": [
    {
     "data": {
      "text/plain": [
       "0.9016393442622951"
      ]
     },
     "execution_count": 215,
     "metadata": {},
     "output_type": "execute_result"
    }
   ],
   "source": [
    "from sklearn.metrics import accuracy_score\n",
    "\n",
    "\n",
    "accuracy_score(y_test,new_y)\n",
    "\n",
    "\n"
   ]
  },
  {
   "cell_type": "code",
   "execution_count": 216,
   "metadata": {},
   "outputs": [
    {
     "name": "stdout",
     "output_type": "stream",
     "text": [
      "mean_absolute_error is = 0.09836065573770492\n",
      "mean_squared_error is = 0.31362502409359\n"
     ]
    }
   ],
   "source": [
    "from sklearn.metrics import mean_absolute_error\n",
    "from sklearn.metrics import mean_squared_error\n",
    "\n",
    "\n",
    "MAEVale=mean_absolute_error(y_test,y_pred,multioutput=\"uniform_average\")\n",
    "print(\"mean_absolute_error is =\",MAEVale)\n",
    "\n",
    "MSEVale=mean_squared_error(y_test,y_pred,multioutput=\"uniform_average\")\n",
    "RmseVal=np.sqrt(MSEVale)\n",
    "print(\"mean_squared_error is =\",RmseVal)\n",
    "\n"
   ]
  },
  {
   "cell_type": "code",
   "execution_count": 217,
   "metadata": {},
   "outputs": [
    {
     "name": "stdout",
     "output_type": "stream",
     "text": [
      "Decision Tree  classifiers  confusion_matrix\n",
      "Decision Tree classifier Trining Accurcy = 1.0\n",
      "Decision Tree classifier Testing Accurcy =  0.9016393442622951\n",
      "[[305  32]\n",
      " [ 28 245]]\n"
     ]
    },
    {
     "data": {
      "text/plain": [
       "Text(33.0, 0.5, 'Acutl')"
      ]
     },
     "execution_count": 217,
     "metadata": {},
     "output_type": "execute_result"
    },
    {
     "data": {
      "image/png": "[encoded data removed]",
      "text/plain": [
       "<Figure size 432x288 with 2 Axes>"
      ]
     },
     "metadata": {
      "needs_background": "light"
     },
     "output_type": "display_data"
    }
   ],
   "source": [
    "\n",
    "from sklearn.metrics import confusion_matrix\n",
    "\n",
    "print(\"Decision Tree  classifiers  confusion_matrix\")\n",
    "cm=confusion_matrix(y_test,new_y)\n",
    "TN=cm[0][0]\n",
    "TP=cm[1][1]\n",
    "FP=cm[0][1]\n",
    "FN=cm[1][0]\n",
    "\n",
    "print('Decision Tree classifier Trining Accurcy =',D_classifier.score(x_train,y_train) )\n",
    "print('Decision Tree classifier Testing Accurcy = ',(TP+TN)/(TP+TN+FP+FN))\n",
    "print(cm)\n",
    "sns.heatmap(cm,annot=True)\n",
    "plt.title(\"Decision Tree classifier confusion_matrix \")\n",
    "plt.xlabel(\"Predication\")\n",
    "plt.ylabel(\"Acutl\")\n"
   ]
  },
  {
   "cell_type": "code",
   "execution_count": 218,
   "metadata": {},
   "outputs": [
    {
     "name": "stdout",
     "output_type": "stream",
     "text": [
      "classification_report Decision Tree\n",
      ".......................................\n",
      "              precision    recall  f1-score   support\n",
      "\n",
      "           0       0.92      0.91      0.91       337\n",
      "           1       0.88      0.90      0.89       273\n",
      "\n",
      "    accuracy                           0.90       610\n",
      "   macro avg       0.90      0.90      0.90       610\n",
      "weighted avg       0.90      0.90      0.90       610\n",
      "\n",
      "accuracy_score= 0.9016393442622951\n"
     ]
    }
   ],
   "source": [
    "\n",
    "### CLASSIFACTION Report\n",
    "\n",
    "from sklearn.metrics import classification_report\n",
    "from sklearn.metrics import accuracy_score\n",
    "\n",
    "y_pred=D_classifier.predict(x_test)\n",
    "print('classification_report Decision Tree')\n",
    "print('.......................................') \n",
    "\n",
    "print(classification_report(y_test,y_pred)) \n",
    "print(\"accuracy_score=\",accuracy_score(y_test,y_pred)) \n"
   ]
  },
  {
   "cell_type": "markdown",
   "metadata": {},
   "source": [
    " ## Feature Selection by Generic BY 22FS"
   ]
  },
  {
   "cell_type": "code",
   "execution_count": 219,
   "metadata": {},
   "outputs": [
    {
     "name": "stdout",
     "output_type": "stream",
     "text": [
      "X Shape is  (2437, 22)\n"
     ]
    }
   ],
   "source": [
    "#print('Original X Shape is ' , X.shape)\n",
    "FeatureSelection = GenericUnivariateSelect(score_func= chi2, mode= 'k_best', param=22) # score_func can = f_classif : mode can = percentile,fpr,fdr,fwe \n",
    "X = FeatureSelection.fit_transform(x, y)\n",
    "#showing X Dimension \n",
    "print('X Shape is ' , X.shape)\n",
    "\n"
   ]
  },
  {
   "cell_type": "code",
   "execution_count": 220,
   "metadata": {},
   "outputs": [
    {
     "name": "stdout",
     "output_type": "stream",
     "text": [
      "X Shape is  (2437, 22)\n",
      "Selected Features are :  [ True  True  True  True  True  True  True  True  True  True  True  True\n",
      "  True  True  True  True  True  True  True  True  True  True]\n"
     ]
    },
    {
     "data": {
      "text/plain": [
       "Index(['Sex', 'Age', 'Adress', 'FBS', 'Urea', 'Creatinin', 'ALB', 'TCa', 'GPT',\n",
       "       'GOT', 'ALP', 'CA15', 'CEA', 'WBC', 'RBC', 'HGB', 'PLT', 'ESR', 'LDH',\n",
       "       'Na', 'K', 'CL'],\n",
       "      dtype='object')"
      ]
     },
     "execution_count": 220,
     "metadata": {},
     "output_type": "execute_result"
    }
   ],
   "source": [
    "## showing X Dimension \n",
    "print('X Shape is ' , X.shape)\n",
    "print('Selected Features are : ' , FeatureSelection.get_support())\n",
    "x.columns[FeatureSelection.get_support()]\n",
    "\n",
    "\n"
   ]
  },
  {
   "cell_type": "code",
   "execution_count": 221,
   "metadata": {},
   "outputs": [
    {
     "data": {
      "text/plain": [
       "(2437, 22)"
      ]
     },
     "execution_count": 221,
     "metadata": {},
     "output_type": "execute_result"
    }
   ],
   "source": [
    "X=BC.drop([\"CLASS\"],axis=1)\n",
    "Y=BC[\"CLASS\"] \n",
    "X.shape\n"
   ]
  },
  {
   "cell_type": "code",
   "execution_count": 222,
   "metadata": {},
   "outputs": [],
   "source": [
    "from sklearn.model_selection import train_test_split\n",
    "x_train, x_test, y_train, y_test = train_test_split(X, Y, \n",
    "                                                    test_size=0.25)\n",
    "\n"
   ]
  },
  {
   "cell_type": "code",
   "execution_count": 223,
   "metadata": {},
   "outputs": [
    {
     "data": {
      "text/plain": [
       "DecisionTreeClassifier(class_weight=None, criterion='gini', max_depth=None,\n",
       "                       max_features=None, max_leaf_nodes=None,\n",
       "                       min_impurity_decrease=0.0, min_impurity_split=None,\n",
       "                       min_samples_leaf=1, min_samples_split=2,\n",
       "                       min_weight_fraction_leaf=0.0, presort=False,\n",
       "                       random_state=0, splitter='best')"
      ]
     },
     "execution_count": 223,
     "metadata": {},
     "output_type": "execute_result"
    }
   ],
   "source": [
    "\n",
    "from sklearn.tree import DecisionTreeClassifier\n",
    "\n",
    "D_classifier= DecisionTreeClassifier(random_state=0) \n",
    "D_classifier.fit(x_train,y_train) \n",
    "\n"
   ]
  },
  {
   "cell_type": "code",
   "execution_count": 224,
   "metadata": {},
   "outputs": [],
   "source": [
    "y_pred=D_classifier.predict_proba(x_test)[:,1]\n",
    "\n",
    "\n",
    "new_y=[]\n",
    "for i in range (len(y_pred)):\n",
    "    if y_pred[i]<0.5:\n",
    "        new_y.append(0)\n",
    "    else:\n",
    "        new_y.append(1)\n"
   ]
  },
  {
   "cell_type": "code",
   "execution_count": 225,
   "metadata": {},
   "outputs": [
    {
     "data": {
      "text/plain": [
       "0.8918032786885246"
      ]
     },
     "execution_count": 225,
     "metadata": {},
     "output_type": "execute_result"
    }
   ],
   "source": [
    "from sklearn.metrics import accuracy_score\n",
    "\n",
    "\n",
    "accuracy_score(y_test,new_y)\n",
    "\n"
   ]
  },
  {
   "cell_type": "code",
   "execution_count": 226,
   "metadata": {},
   "outputs": [
    {
     "name": "stdout",
     "output_type": "stream",
     "text": [
      "mean_absolute_error is = 0.10819672131147541\n",
      "mean_squared_error is = 0.32893270027693416\n"
     ]
    }
   ],
   "source": [
    "\n",
    "\n",
    "from sklearn.metrics import mean_absolute_error\n",
    "from sklearn.metrics import mean_squared_error\n",
    "\n",
    "\n",
    "MAEVale=mean_absolute_error(y_test,y_pred,multioutput=\"uniform_average\")\n",
    "print(\"mean_absolute_error is =\",MAEVale)\n",
    "\n",
    "MSEVale=mean_squared_error(y_test,y_pred,multioutput=\"uniform_average\")\n",
    "RmseVal=np.sqrt(MSEVale)\n",
    "print(\"mean_squared_error is =\",RmseVal)\n",
    "\n"
   ]
  },
  {
   "cell_type": "code",
   "execution_count": 227,
   "metadata": {},
   "outputs": [
    {
     "name": "stdout",
     "output_type": "stream",
     "text": [
      "Decision Tree  classifiers  confusion_matrix\n",
      "Decision Tree classifier Trining Accurcy = 1.0\n",
      "Decision Tree classifier Testing Accurcy =  0.8918032786885246\n",
      "[[304  32]\n",
      " [ 34 240]]\n"
     ]
    },
    {
     "data": {
      "text/plain": [
       "Text(33.0, 0.5, 'Acutl')"
      ]
     },
     "execution_count": 227,
     "metadata": {},
     "output_type": "execute_result"
    },
    {
     "data": {
      "image/png": "[encoded data removed]",
      "text/plain": [
       "<Figure size 432x288 with 2 Axes>"
      ]
     },
     "metadata": {
      "needs_background": "light"
     },
     "output_type": "display_data"
    }
   ],
   "source": [
    "from sklearn.metrics import confusion_matrix\n",
    "\n",
    "print(\"Decision Tree  classifiers  confusion_matrix\")\n",
    "cm=confusion_matrix(y_test,new_y)\n",
    "TN=cm[0][0]\n",
    "TP=cm[1][1]\n",
    "FP=cm[0][1]\n",
    "FN=cm[1][0]\n",
    "\n",
    "print('Decision Tree classifier Trining Accurcy =',D_classifier.score(x_train,y_train) )\n",
    "print('Decision Tree classifier Testing Accurcy = ',(TP+TN)/(TP+TN+FP+FN))\n",
    "print(cm)\n",
    "sns.heatmap(cm,annot=True)\n",
    "plt.title(\"Decision Tree classifier confusion_matrix \")\n",
    "plt.xlabel(\"Predication\")\n",
    "plt.ylabel(\"Acutl\")\n"
   ]
  },
  {
   "cell_type": "code",
   "execution_count": 228,
   "metadata": {},
   "outputs": [
    {
     "name": "stdout",
     "output_type": "stream",
     "text": [
      "classification_report Decision Tree\n",
      ".......................................\n",
      "              precision    recall  f1-score   support\n",
      "\n",
      "           0       0.90      0.90      0.90       336\n",
      "           1       0.88      0.88      0.88       274\n",
      "\n",
      "    accuracy                           0.89       610\n",
      "   macro avg       0.89      0.89      0.89       610\n",
      "weighted avg       0.89      0.89      0.89       610\n",
      "\n",
      "accuracy_score= 0.8918032786885246\n"
     ]
    }
   ],
   "source": [
    "\n",
    "\n",
    "### CLASSIFACTION Report\n",
    "\n",
    "from sklearn.metrics import classification_report\n",
    "from sklearn.metrics import accuracy_score\n",
    "\n",
    "y_pred=D_classifier.predict(x_test)\n",
    "print('classification_report Decision Tree')\n",
    "print('.......................................') \n",
    "\n",
    "print(classification_report(y_test,y_pred)) \n",
    "print(\"accuracy_score=\",accuracy_score(y_test,y_pred)) \n"
   ]
  },
  {
   "cell_type": "code",
   "execution_count": 231,
   "metadata": {},
   "outputs": [
    {
     "data": {
      "text/html": [
       "<div>\n",
       "<style scoped>\n",
       "    .dataframe tbody tr th:only-of-type {\n",
       "        vertical-align: middle;\n",
       "    }\n",
       "\n",
       "    .dataframe tbody tr th {\n",
       "        vertical-align: top;\n",
       "    }\n",
       "\n",
       "    .dataframe thead th {\n",
       "        text-align: right;\n",
       "    }\n",
       "</style>\n",
       "<table border=\"1\" class=\"dataframe\">\n",
       "  <thead>\n",
       "    <tr style=\"text-align: right;\">\n",
       "      <th></th>\n",
       "      <th>Num_best</th>\n",
       "      <th>validation_accuracy</th>\n",
       "    </tr>\n",
       "  </thead>\n",
       "  <tbody>\n",
       "    <tr>\n",
       "      <td>0</td>\n",
       "      <td>2</td>\n",
       "      <td>70</td>\n",
       "    </tr>\n",
       "    <tr>\n",
       "      <td>1</td>\n",
       "      <td>3</td>\n",
       "      <td>77</td>\n",
       "    </tr>\n",
       "    <tr>\n",
       "      <td>2</td>\n",
       "      <td>4</td>\n",
       "      <td>80</td>\n",
       "    </tr>\n",
       "    <tr>\n",
       "      <td>3</td>\n",
       "      <td>5</td>\n",
       "      <td>82</td>\n",
       "    </tr>\n",
       "    <tr>\n",
       "      <td>4</td>\n",
       "      <td>6</td>\n",
       "      <td>81</td>\n",
       "    </tr>\n",
       "    <tr>\n",
       "      <td>5</td>\n",
       "      <td>7</td>\n",
       "      <td>83</td>\n",
       "    </tr>\n",
       "    <tr>\n",
       "      <td>6</td>\n",
       "      <td>8</td>\n",
       "      <td>83</td>\n",
       "    </tr>\n",
       "    <tr>\n",
       "      <td>7</td>\n",
       "      <td>9</td>\n",
       "      <td>82</td>\n",
       "    </tr>\n",
       "    <tr>\n",
       "      <td>8</td>\n",
       "      <td>10</td>\n",
       "      <td>85</td>\n",
       "    </tr>\n",
       "    <tr>\n",
       "      <td>9</td>\n",
       "      <td>11</td>\n",
       "      <td>84</td>\n",
       "    </tr>\n",
       "    <tr>\n",
       "      <td>10</td>\n",
       "      <td>12</td>\n",
       "      <td>82</td>\n",
       "    </tr>\n",
       "    <tr>\n",
       "      <td>11</td>\n",
       "      <td>13</td>\n",
       "      <td>82</td>\n",
       "    </tr>\n",
       "    <tr>\n",
       "      <td>12</td>\n",
       "      <td>14</td>\n",
       "      <td>84</td>\n",
       "    </tr>\n",
       "    <tr>\n",
       "      <td>13</td>\n",
       "      <td>15</td>\n",
       "      <td>86</td>\n",
       "    </tr>\n",
       "    <tr>\n",
       "      <td>14</td>\n",
       "      <td>16</td>\n",
       "      <td>87</td>\n",
       "    </tr>\n",
       "    <tr>\n",
       "      <td>15</td>\n",
       "      <td>17</td>\n",
       "      <td>88</td>\n",
       "    </tr>\n",
       "    <tr>\n",
       "      <td>16</td>\n",
       "      <td>18</td>\n",
       "      <td>86</td>\n",
       "    </tr>\n",
       "    <tr>\n",
       "      <td>17</td>\n",
       "      <td>19</td>\n",
       "      <td>87</td>\n",
       "    </tr>\n",
       "    <tr>\n",
       "      <td>18</td>\n",
       "      <td>20</td>\n",
       "      <td>87</td>\n",
       "    </tr>\n",
       "    <tr>\n",
       "      <td>19</td>\n",
       "      <td>21</td>\n",
       "      <td>90</td>\n",
       "    </tr>\n",
       "    <tr>\n",
       "      <td>20</td>\n",
       "      <td>22</td>\n",
       "      <td>89</td>\n",
       "    </tr>\n",
       "  </tbody>\n",
       "</table>\n",
       "</div>"
      ],
      "text/plain": [
       "    Num_best  validation_accuracy\n",
       "0          2                   70\n",
       "1          3                   77\n",
       "2          4                   80\n",
       "3          5                   82\n",
       "4          6                   81\n",
       "5          7                   83\n",
       "6          8                   83\n",
       "7          9                   82\n",
       "8         10                   85\n",
       "9         11                   84\n",
       "10        12                   82\n",
       "11        13                   82\n",
       "12        14                   84\n",
       "13        15                   86\n",
       "14        16                   87\n",
       "15        17                   88\n",
       "16        18                   86\n",
       "17        19                   87\n",
       "18        20                   87\n",
       "19        21                   90\n",
       "20        22                   89"
      ]
     },
     "execution_count": 231,
     "metadata": {},
     "output_type": "execute_result"
    }
   ],
   "source": [
    "Num_best= [2,3,4,5,6,7,8,9,10,11,12,13,14,15,16,17,18,19,20,21,22]\n",
    "validation_accuracy = [70,77,80,82,81,83,83,82,85,84,82,82,84,86,87,88,86,87,87,90,89]\n",
    "                                   \n",
    "List = zip(Num_best,validation_accuracy)\n",
    "df = pd.DataFrame(data = List, columns=['Num_best','validation_accuracy'],)\n",
    "df\n"
   ]
  },
  {
   "cell_type": "code",
   "execution_count": 235,
   "metadata": {},
   "outputs": [
    {
     "name": "stderr",
     "output_type": "stream",
     "text": [
      "C:\\Users\\TOSHIBA\\Anaconda3\\lib\\site-packages\\ipykernel_launcher.py:8: MatplotlibDeprecationWarning: Unrecognized location 'bst'. Falling back on 'best'; valid locations are\n",
      "\tbest\n",
      "\tupper right\n",
      "\tupper left\n",
      "\tlower left\n",
      "\tlower right\n",
      "\tright\n",
      "\tcenter left\n",
      "\tcenter right\n",
      "\tlower center\n",
      "\tupper center\n",
      "\tcenter\n",
      "This will raise an exception in 3.3.\n",
      "  \n"
     ]
    },
    {
     "name": "stdout",
     "output_type": "stream",
     "text": [
      "the best fretures number by GenericUnivariateSelect are 21:\n",
      "Sex, Age, Adress, FBS, Urea, Creatinin, ALB, TCa, GPT, GOT, ALP, CA15, CEA, WBC, RBC, HGB, PLT, ESR, LDH, Na, CL\n"
     ]
    },
    {
     "data": {
      "image/png": "[encoded data removed]",
      "text/plain": [
       "<Figure size 864x432 with 1 Axes>"
      ]
     },
     "metadata": {
      "needs_background": "light"
     },
     "output_type": "display_data"
    }
   ],
   "source": [
    "plt.figure(figsize=(12,6))\n",
    "plt.plot(df['Num_best'],df['validation_accuracy'],label='Number fs=21 with Acc=90',marker='o')\n",
    "\n",
    "plt.title(\"CART algorithm accuracy based on GenericUnivariateSelect\",fontsize=18)\n",
    "plt.axvline(x=21, color='orange', linestyle='--')\n",
    "plt.xlabel('Num_best_Fs',labelpad=10, fontsize=14)\n",
    "plt.ylabel('performance',labelpad=10, fontsize=14)\n",
    "plt.legend(loc='bst',fontsize=14)\n",
    "\n",
    "print(\"the best fretures number by GenericUnivariateSelect are 21:\")\n",
    "print(\"Sex, Age, Adress, FBS, Urea, Creatinin, ALB, TCa, GPT, GOT, ALP, CA15, CEA, WBC, RBC, HGB, PLT, ESR, LDH, Na, CL\")\n",
    "plt.show()"
   ]
  },
  {
   "cell_type": "code",
   "execution_count": null,
   "metadata": {},
   "outputs": [],
   "source": []
  }
 ],
 "metadata": {
  "kernelspec": {
   "display_name": "Python 3 (ipykernel)",
   "language": "python",
   "name": "python3"
  },
  "language_info": {
   "codemirror_mode": {
    "name": "ipython",
    "version": 3
   },
   "file_extension": ".py",
   "mimetype": "text/x-python",
   "name": "python",
   "nbconvert_exporter": "python",
   "pygments_lexer": "ipython3",
   "version": "3.9.13"
  }
 },
 "nbformat": 4,
 "nbformat_minor": 2
}
