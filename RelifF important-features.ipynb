{
 "cells": [
  {
   "cell_type": "markdown",
   "metadata": {
    "_kg_hide-input": true,
    "_kg_hide-output": true,
    "execution": {
     "iopub.execute_input": "2020-11-11T18:40:21.117762Z",
     "iopub.status.busy": "2020-11-11T18:40:21.116875Z",
     "iopub.status.idle": "2020-11-11T18:40:32.778597Z",
     "shell.execute_reply": "2020-11-11T18:40:32.777871Z"
    },
    "papermill": {
     "duration": 11.720885,
     "end_time": "2020-11-11T18:40:32.778753",
     "exception": false,
     "start_time": "2020-11-11T18:40:21.057868",
     "status": "completed"
    },
    "tags": []
   },
   "source": [
    "## Filter feature selection\n",
    "\n",
    "\n",
    "##  ReliefF\n",
    "\n",
    "## Top-20 features: \n",
    "\n",
    " ### ['Sex', 'Adress', 'LDH', 'CL', 'Creatinin', 'FBS', 'ESR', 'GPT', 'ALP', 'GOT', 'ALB', 'TCa', 'PLT', 'Urea', 'Age', 'HGB', 'WBC', 'RBC', 'CEA']\n",
    " \n",
    " ## 78%"
   ]
  },
  {
   "cell_type": "code",
   "execution_count": 1,
   "metadata": {
    "_cell_guid": "b1076dfc-b9ad-4769-8c92-a6c4dae69d19",
    "_kg_hide-input": true,
    "_kg_hide-output": true,
    "_uuid": "8f2839f25d086af736a60e9eeb907d3b93b6e0e5",
    "execution": {
     "iopub.execute_input": "2020-11-11T18:40:32.905550Z",
     "iopub.status.busy": "2020-11-11T18:40:32.904720Z",
     "iopub.status.idle": "2020-11-11T18:40:34.017908Z",
     "shell.execute_reply": "2020-11-11T18:40:34.016983Z"
    },
    "papermill": {
     "duration": 1.181091,
     "end_time": "2020-11-11T18:40:34.018089",
     "exception": false,
     "start_time": "2020-11-11T18:40:32.836998",
     "status": "completed"
    },
    "tags": []
   },
   "outputs": [],
   "source": [
    "import numpy as np \n",
    "\n",
    "import pandas as pd \n",
    "pd.set_option('display.max_columns', None)\n",
    "\n",
    "import seaborn as sns\n",
    "import matplotlib.pyplot as plt\n",
    "\n",
    "sns.set_style(style=\"darkgrid\")\n",
    "sns.set_palette(palette = 'pastel')\n",
    "# color palette for seaborn\n",
    "cmap = sns.diverging_palette(220, 10, as_cmap=True)\n",
    "\n",
    "from ReliefF import ReliefF\n",
    "\n",
    "\n"
   ]
  },
  {
   "cell_type": "code",
   "execution_count": 54,
   "metadata": {
    "_kg_hide-input": true,
    "_kg_hide-output": true,
    "execution": {
     "iopub.execute_input": "2020-11-11T18:40:34.158197Z",
     "iopub.status.busy": "2020-11-11T18:40:34.157025Z",
     "iopub.status.idle": "2020-11-11T18:40:34.162374Z",
     "shell.execute_reply": "2020-11-11T18:40:34.161748Z"
    },
    "papermill": {
     "duration": 0.069173,
     "end_time": "2020-11-11T18:40:34.162524",
     "exception": false,
     "start_time": "2020-11-11T18:40:34.093351",
     "status": "completed"
    },
    "tags": []
   },
   "outputs": [
    {
     "data": {
      "text/plain": [
       "'0.11.0'"
      ]
     },
     "execution_count": 54,
     "metadata": {},
     "output_type": "execute_result"
    }
   ],
   "source": [
    "sns.__version__"
   ]
  },
  {
   "cell_type": "markdown",
   "metadata": {
    "papermill": {
     "duration": 0.057774,
     "end_time": "2020-11-11T18:40:34.277780",
     "exception": false,
     "start_time": "2020-11-11T18:40:34.220006",
     "status": "completed"
    },
    "tags": []
   },
   "source": [
    "<center> At first, let's exploring mental health in the tech industry in 2014. Then, comparing results with data from 2016 and adding data from word-happiness in 2016. </center>"
   ]
  },
  {
   "cell_type": "markdown",
   "metadata": {
    "papermill": {
     "duration": 0.057803,
     "end_time": "2020-11-11T18:40:34.393528",
     "exception": false,
     "start_time": "2020-11-11T18:40:34.335725",
     "status": "completed"
    },
    "tags": []
   },
   "source": [
    "# <center>Exploring mental health in the tech industry in 2014</center>\n",
    "\n",
    "Some information about explored data:\n",
    "\n",
    "- \"*This dataset is from a 2014 survey that measures attitudes towards mental health and frequency of mental health disorders in the tech workplace*\". \n",
    "- **Features:**\n",
    "\n",
    "<table>\n",
    "<thead>\n",
    "<tr><th>Feature name</th><th>Description</th></tr>\n",
    "</thead>\n",
    "<tbody>\n",
    "<tr><td>Timestamp</td><td> - </td></tr>\n",
    "<tr><td>Age</td><td> - </td></tr>\n",
    "<tr><td>Gender</td><td> - </td></tr>\n",
    "<tr><td>Country</td><td> - </td></tr>\n",
    "<tr><td>State</td><td> (only for US) </td></tr>\n",
    "<tr><td>Self employed</td><td> Are you self-employed? </td></tr>\n",
    "<tr><td>Family history</td><td> Family history of mental illness </td></tr>\n",
    "<tr><td>Treatment</td><td>Is treatment for a mental health condition was?</td></tr>\n",
    "<tr><td>Work interfere</td><td> Is mental health condition affects work? </td></tr>\n",
    "<tr><td>No employees</td><td> The number of employees in your company or organization </td></tr>\n",
    "<tr><td>Remote work</td><td> Having remote work (outside of an office) at least 50% of the time </td></tr>\n",
    "<tr><td>Tech company</td><td> The employer is primarily a tech company/organization </td></tr>\n",
    "<tr><td>Benefits</td><td> Providing mental health benefits by the employer </td></tr>\n",
    "<tr><td>Care options:</td><td> Providing options for mental health care by the employer </td></tr>\n",
    "<tr><td>Wellness program</td><td> Discussion about mental health as part of an employee wellness program by the employes </td></tr>\n",
    "<tr><td>Seek help</td><td> Providing resources by the employer to learn more about mental health issues and how to seek help </td></tr>\n",
    "<tr><td>Anonymity</td><td> Protecting anonymity if you choose to take advantage of mental health or substance abuse treatment resources</td></tr>\n",
    "<tr><td>Leave</td><td> How easy is it for you to take medical leave for a mental health condition? </td></tr>\n",
    "<tr><td>Mental-health consequence: </td><td>  Having negative consequences caused by discussing a mental health issue with your employer</td></tr>\n",
    "<tr><td>Phys-health consequence</td><td> Having negative consequences caused by discussing a physical health issue with your employer </td></tr>\n",
    "<tr><td>Coworkers</td><td> Would you be willing to discuss a mental health issue with your coworkers?</td></tr>\n",
    "<tr><td>Supervisor</td><td> Would you be willing to discuss a mental health issue with your direct supervisor(s)? </td></tr>\n",
    "<tr><td>Mental health interview:</td><td> Would you bring up a mental health issue with a potential employer in an interview? </td></tr>\n",
    "<tr><td>Phys health interview</td><td> Would you bring up a physical health issue with a potential employer in an interview? </td></tr>\n",
    "<tr><td>Mental vs Physical</td><td> Do you feel that your employer takes mental health as seriously as physical health? </td></tr>\n",
    "<tr><td>Obs consequence</td><td> Have you heard of or observed negative consequences for coworkers with mental health conditions in your workplace? </td></tr>\n",
    "<tr><td>Comments</td><td> Any additional notes or comments </td></tr>\n",
    "</tbody>\n",
    "</table>\n"
   ]
  },
  {
   "cell_type": "markdown",
   "metadata": {
    "papermill": {
     "duration": 0.056965,
     "end_time": "2020-11-11T18:40:34.507998",
     "exception": false,
     "start_time": "2020-11-11T18:40:34.451033",
     "status": "completed"
    },
    "tags": []
   },
   "source": [
    "\n",
    "\n",
    "\n",
    "\n",
    "# **<center> Table of content: </center>**\n",
    "\n",
    "**November, 2020.**\n",
    "\n",
    " - [Exploratory data analysis](#EDA:) \n",
    " - [Feature Selection](##Feature-Selection:) \n",
    " - ...\n",
    " \n",
    " \n",
    "<p> <font size=\"3\" color=\"red\"> will be updated, if u find it useful, please upvote :) </font> </p>"
   ]
  },
  {
   "cell_type": "markdown",
   "metadata": {
    "papermill": {
     "duration": 0.056894,
     "end_time": "2020-11-11T18:40:34.628544",
     "exception": false,
     "start_time": "2020-11-11T18:40:34.571650",
     "status": "completed"
    },
    "tags": []
   },
   "source": [
    "# EDA:"
   ]
  },
  {
   "cell_type": "markdown",
   "metadata": {
    "papermill": {
     "duration": 0.073002,
     "end_time": "2020-11-11T18:40:34.768419",
     "exception": false,
     "start_time": "2020-11-11T18:40:34.695417",
     "status": "completed"
    },
    "tags": []
   },
   "source": [
    "Well, we have 27 columns (features) and 1259 rows (values - candidates, who answered the questions):"
   ]
  },
  {
   "cell_type": "code",
   "execution_count": 2,
   "metadata": {
    "_cell_guid": "79c7e3d0-c299-4dcb-8224-4455121ee9b0",
    "_kg_hide-input": true,
    "_uuid": "d629ff2d2480ee46fbb7e2d37f6b5fab8052498a",
    "execution": {
     "iopub.execute_input": "2020-11-11T18:40:34.899286Z",
     "iopub.status.busy": "2020-11-11T18:40:34.898482Z",
     "iopub.status.idle": "2020-11-11T18:40:34.957831Z",
     "shell.execute_reply": "2020-11-11T18:40:34.957227Z"
    },
    "papermill": {
     "duration": 0.123941,
     "end_time": "2020-11-11T18:40:34.957961",
     "exception": false,
     "start_time": "2020-11-11T18:40:34.834020",
     "status": "completed"
    },
    "tags": []
   },
   "outputs": [
    {
     "data": {
      "text/html": [
       "<div>\n",
       "<style scoped>\n",
       "    .dataframe tbody tr th:only-of-type {\n",
       "        vertical-align: middle;\n",
       "    }\n",
       "\n",
       "    .dataframe tbody tr th {\n",
       "        vertical-align: top;\n",
       "    }\n",
       "\n",
       "    .dataframe thead th {\n",
       "        text-align: right;\n",
       "    }\n",
       "</style>\n",
       "<table border=\"1\" class=\"dataframe\">\n",
       "  <thead>\n",
       "    <tr style=\"text-align: right;\">\n",
       "      <th></th>\n",
       "      <th>Sex</th>\n",
       "      <th>Age</th>\n",
       "      <th>Adress</th>\n",
       "      <th>FBS</th>\n",
       "      <th>Urea</th>\n",
       "      <th>Creatinin</th>\n",
       "      <th>ALB</th>\n",
       "      <th>TCa</th>\n",
       "      <th>GPT</th>\n",
       "      <th>GOT</th>\n",
       "      <th>ALP</th>\n",
       "      <th>CA15</th>\n",
       "      <th>CEA</th>\n",
       "      <th>WBC</th>\n",
       "      <th>RBC</th>\n",
       "      <th>HGB</th>\n",
       "      <th>PLT</th>\n",
       "      <th>ESR</th>\n",
       "      <th>LDH</th>\n",
       "      <th>Na</th>\n",
       "      <th>K</th>\n",
       "      <th>CL</th>\n",
       "      <th>CLASS</th>\n",
       "    </tr>\n",
       "  </thead>\n",
       "  <tbody>\n",
       "    <tr>\n",
       "      <td>0</td>\n",
       "      <td>1</td>\n",
       "      <td>60</td>\n",
       "      <td>Tragan</td>\n",
       "      <td>200.0</td>\n",
       "      <td>23.0</td>\n",
       "      <td>0.8</td>\n",
       "      <td>3.4</td>\n",
       "      <td>1.0</td>\n",
       "      <td>2.0</td>\n",
       "      <td>1.0</td>\n",
       "      <td>124.0</td>\n",
       "      <td>69.12</td>\n",
       "      <td>8.02</td>\n",
       "      <td>3.4</td>\n",
       "      <td>4.6</td>\n",
       "      <td>13.4</td>\n",
       "      <td>500.0</td>\n",
       "      <td>25.0</td>\n",
       "      <td>150.0</td>\n",
       "      <td>145.0</td>\n",
       "      <td>4.50</td>\n",
       "      <td>19.1</td>\n",
       "      <td>0</td>\n",
       "    </tr>\n",
       "    <tr>\n",
       "      <td>1</td>\n",
       "      <td>1</td>\n",
       "      <td>53</td>\n",
       "      <td>Sabha</td>\n",
       "      <td>400.0</td>\n",
       "      <td>22.0</td>\n",
       "      <td>0.7</td>\n",
       "      <td>NaN</td>\n",
       "      <td>9.6</td>\n",
       "      <td>3.0</td>\n",
       "      <td>7.0</td>\n",
       "      <td>133.0</td>\n",
       "      <td>51.82</td>\n",
       "      <td>7.91</td>\n",
       "      <td>4.4</td>\n",
       "      <td>5.0</td>\n",
       "      <td>12.5</td>\n",
       "      <td>NaN</td>\n",
       "      <td>15.0</td>\n",
       "      <td>260.0</td>\n",
       "      <td>137.8</td>\n",
       "      <td>4.18</td>\n",
       "      <td>19.1</td>\n",
       "      <td>0</td>\n",
       "    </tr>\n",
       "  </tbody>\n",
       "</table>\n",
       "</div>"
      ],
      "text/plain": [
       "   Sex  Age  Adress    FBS  Urea  Creatinin  ALB  TCa  GPT  GOT    ALP   CA15  \\\n",
       "0    1   60  Tragan  200.0  23.0        0.8  3.4  1.0  2.0  1.0  124.0  69.12   \n",
       "1    1   53   Sabha  400.0  22.0        0.7  NaN  9.6  3.0  7.0  133.0  51.82   \n",
       "\n",
       "    CEA  WBC  RBC   HGB    PLT   ESR    LDH     Na     K    CL  CLASS  \n",
       "0  8.02  3.4  4.6  13.4  500.0  25.0  150.0  145.0  4.50  19.1      0  \n",
       "1  7.91  4.4  5.0  12.5    NaN  15.0  260.0  137.8  4.18  19.1      0  "
      ]
     },
     "execution_count": 2,
     "metadata": {},
     "output_type": "execute_result"
    }
   ],
   "source": [
    "BC = pd.read_csv('bc_with_mis_90.csv')\n",
    "BC.head(2)"
   ]
  },
  {
   "cell_type": "markdown",
   "metadata": {
    "papermill": {
     "duration": 0.058757,
     "end_time": "2020-11-11T18:40:35.077480",
     "exception": false,
     "start_time": "2020-11-11T18:40:35.018723",
     "status": "completed"
    },
    "tags": []
   },
   "source": [
    "Have we got any *NULL-values*? Let's plot them:"
   ]
  },
  {
   "cell_type": "code",
   "execution_count": 3,
   "metadata": {
    "_kg_hide-input": true,
    "execution": {
     "iopub.execute_input": "2020-11-11T18:40:35.203917Z",
     "iopub.status.busy": "2020-11-11T18:40:35.203047Z",
     "iopub.status.idle": "2020-11-11T18:40:35.475427Z",
     "shell.execute_reply": "2020-11-11T18:40:35.474610Z"
    },
    "papermill": {
     "duration": 0.339257,
     "end_time": "2020-11-11T18:40:35.475561",
     "exception": false,
     "start_time": "2020-11-11T18:40:35.136304",
     "status": "completed"
    },
    "tags": []
   },
   "outputs": [
    {
     "data": {
      "image/png": "[encoded data removed]",
      "text/plain": [
       "<Figure size 1080x720 with 1 Axes>"
      ]
     },
     "metadata": {
      "needs_background": "light"
     },
     "output_type": "display_data"
    }
   ],
   "source": [
    "plt.figure(figsize=(15,10))\n",
    "\n",
    "null_values = BC.isnull().sum().sort_values(ascending=False).to_frame()\n",
    "null_values = null_values.loc[null_values[0] != 0]\n",
    "ax = sns.barplot(x=null_values.index, y=null_values[0], data=null_values,  palette=\"ch:.25\")\n",
    "for p in ax.patches:\n",
    "    ax.annotate(format(p.get_height(), '.1f'), \n",
    "                   (p.get_x() + p.get_width() / 2., p.get_height()), \n",
    "                   ha = 'center', va = 'center', \n",
    "                   xytext = (0, 9), \n",
    "                   textcoords = 'offset points')\n",
    "    \n",
    "ax = ax.set(ylabel=\"count\", title='Parameters with NULL-values')"
   ]
  },
  {
   "cell_type": "code",
   "execution_count": 4,
   "metadata": {},
   "outputs": [
    {
     "data": {
      "text/html": [
       "<div>\n",
       "<style scoped>\n",
       "    .dataframe tbody tr th:only-of-type {\n",
       "        vertical-align: middle;\n",
       "    }\n",
       "\n",
       "    .dataframe tbody tr th {\n",
       "        vertical-align: top;\n",
       "    }\n",
       "\n",
       "    .dataframe thead th {\n",
       "        text-align: right;\n",
       "    }\n",
       "</style>\n",
       "<table border=\"1\" class=\"dataframe\">\n",
       "  <thead>\n",
       "    <tr style=\"text-align: right;\">\n",
       "      <th></th>\n",
       "      <th>Sex</th>\n",
       "      <th>Age</th>\n",
       "      <th>Adress</th>\n",
       "      <th>FBS</th>\n",
       "      <th>Urea</th>\n",
       "      <th>Creatinin</th>\n",
       "      <th>ALB</th>\n",
       "      <th>TCa</th>\n",
       "      <th>GPT</th>\n",
       "      <th>GOT</th>\n",
       "      <th>ALP</th>\n",
       "      <th>CA15</th>\n",
       "      <th>CEA</th>\n",
       "      <th>WBC</th>\n",
       "      <th>RBC</th>\n",
       "      <th>HGB</th>\n",
       "      <th>PLT</th>\n",
       "      <th>ESR</th>\n",
       "      <th>LDH</th>\n",
       "      <th>Na</th>\n",
       "      <th>K</th>\n",
       "      <th>CL</th>\n",
       "      <th>CLASS</th>\n",
       "    </tr>\n",
       "  </thead>\n",
       "  <tbody>\n",
       "    <tr>\n",
       "      <td>0</td>\n",
       "      <td>1</td>\n",
       "      <td>60</td>\n",
       "      <td>Tragan</td>\n",
       "      <td>200.0</td>\n",
       "      <td>23.0</td>\n",
       "      <td>0.8</td>\n",
       "      <td>3.400000</td>\n",
       "      <td>1.0</td>\n",
       "      <td>2.0</td>\n",
       "      <td>1.0</td>\n",
       "      <td>124.000000</td>\n",
       "      <td>69.120000</td>\n",
       "      <td>8.020000</td>\n",
       "      <td>3.4</td>\n",
       "      <td>4.60</td>\n",
       "      <td>13.4</td>\n",
       "      <td>500.000000</td>\n",
       "      <td>25.0</td>\n",
       "      <td>150.0</td>\n",
       "      <td>145.0</td>\n",
       "      <td>4.50</td>\n",
       "      <td>19.1</td>\n",
       "      <td>0</td>\n",
       "    </tr>\n",
       "    <tr>\n",
       "      <td>1</td>\n",
       "      <td>1</td>\n",
       "      <td>53</td>\n",
       "      <td>Sabha</td>\n",
       "      <td>400.0</td>\n",
       "      <td>22.0</td>\n",
       "      <td>0.7</td>\n",
       "      <td>4.461508</td>\n",
       "      <td>9.6</td>\n",
       "      <td>3.0</td>\n",
       "      <td>7.0</td>\n",
       "      <td>133.000000</td>\n",
       "      <td>51.820000</td>\n",
       "      <td>7.910000</td>\n",
       "      <td>4.4</td>\n",
       "      <td>5.00</td>\n",
       "      <td>12.5</td>\n",
       "      <td>283.554362</td>\n",
       "      <td>15.0</td>\n",
       "      <td>260.0</td>\n",
       "      <td>137.8</td>\n",
       "      <td>4.18</td>\n",
       "      <td>19.1</td>\n",
       "      <td>0</td>\n",
       "    </tr>\n",
       "    <tr>\n",
       "      <td>2</td>\n",
       "      <td>1</td>\n",
       "      <td>50</td>\n",
       "      <td>Sabha</td>\n",
       "      <td>450.0</td>\n",
       "      <td>27.0</td>\n",
       "      <td>0.6</td>\n",
       "      <td>3.500000</td>\n",
       "      <td>9.3</td>\n",
       "      <td>11.0</td>\n",
       "      <td>17.0</td>\n",
       "      <td>155.000000</td>\n",
       "      <td>50.000000</td>\n",
       "      <td>8.740000</td>\n",
       "      <td>5.1</td>\n",
       "      <td>4.46</td>\n",
       "      <td>12.5</td>\n",
       "      <td>456.000000</td>\n",
       "      <td>2.0</td>\n",
       "      <td>169.0</td>\n",
       "      <td>139.2</td>\n",
       "      <td>4.17</td>\n",
       "      <td>16.4</td>\n",
       "      <td>0</td>\n",
       "    </tr>\n",
       "    <tr>\n",
       "      <td>3</td>\n",
       "      <td>1</td>\n",
       "      <td>36</td>\n",
       "      <td>Obaree-center</td>\n",
       "      <td>300.0</td>\n",
       "      <td>15.0</td>\n",
       "      <td>1.1</td>\n",
       "      <td>4.200000</td>\n",
       "      <td>8.5</td>\n",
       "      <td>13.0</td>\n",
       "      <td>1.0</td>\n",
       "      <td>140.701195</td>\n",
       "      <td>40.110000</td>\n",
       "      <td>10.340000</td>\n",
       "      <td>3.1</td>\n",
       "      <td>4.33</td>\n",
       "      <td>13.8</td>\n",
       "      <td>600.000000</td>\n",
       "      <td>15.0</td>\n",
       "      <td>138.0</td>\n",
       "      <td>14.0</td>\n",
       "      <td>4.00</td>\n",
       "      <td>1.1</td>\n",
       "      <td>0</td>\n",
       "    </tr>\n",
       "    <tr>\n",
       "      <td>4</td>\n",
       "      <td>1</td>\n",
       "      <td>30</td>\n",
       "      <td>Obaree-center</td>\n",
       "      <td>345.0</td>\n",
       "      <td>2.0</td>\n",
       "      <td>1.0</td>\n",
       "      <td>3.000000</td>\n",
       "      <td>8.0</td>\n",
       "      <td>7.0</td>\n",
       "      <td>13.0</td>\n",
       "      <td>125.000000</td>\n",
       "      <td>67.630000</td>\n",
       "      <td>7.310000</td>\n",
       "      <td>4.2</td>\n",
       "      <td>4.13</td>\n",
       "      <td>1.7</td>\n",
       "      <td>543.000000</td>\n",
       "      <td>25.0</td>\n",
       "      <td>154.0</td>\n",
       "      <td>136.4</td>\n",
       "      <td>4.60</td>\n",
       "      <td>17.1</td>\n",
       "      <td>0</td>\n",
       "    </tr>\n",
       "    <tr>\n",
       "      <td>...</td>\n",
       "      <td>...</td>\n",
       "      <td>...</td>\n",
       "      <td>...</td>\n",
       "      <td>...</td>\n",
       "      <td>...</td>\n",
       "      <td>...</td>\n",
       "      <td>...</td>\n",
       "      <td>...</td>\n",
       "      <td>...</td>\n",
       "      <td>...</td>\n",
       "      <td>...</td>\n",
       "      <td>...</td>\n",
       "      <td>...</td>\n",
       "      <td>...</td>\n",
       "      <td>...</td>\n",
       "      <td>...</td>\n",
       "      <td>...</td>\n",
       "      <td>...</td>\n",
       "      <td>...</td>\n",
       "      <td>...</td>\n",
       "      <td>...</td>\n",
       "      <td>...</td>\n",
       "      <td>...</td>\n",
       "    </tr>\n",
       "    <tr>\n",
       "      <td>2432</td>\n",
       "      <td>1</td>\n",
       "      <td>30</td>\n",
       "      <td>Algatroon</td>\n",
       "      <td>70.0</td>\n",
       "      <td>28.0</td>\n",
       "      <td>0.7</td>\n",
       "      <td>5.900000</td>\n",
       "      <td>9.5</td>\n",
       "      <td>63.0</td>\n",
       "      <td>23.0</td>\n",
       "      <td>234.000000</td>\n",
       "      <td>21.000000</td>\n",
       "      <td>1.120000</td>\n",
       "      <td>3.9</td>\n",
       "      <td>5.23</td>\n",
       "      <td>11.3</td>\n",
       "      <td>288.000000</td>\n",
       "      <td>15.0</td>\n",
       "      <td>254.0</td>\n",
       "      <td>138.7</td>\n",
       "      <td>4.35</td>\n",
       "      <td>103.6</td>\n",
       "      <td>1</td>\n",
       "    </tr>\n",
       "    <tr>\n",
       "      <td>2433</td>\n",
       "      <td>1</td>\n",
       "      <td>47</td>\n",
       "      <td>Sabha</td>\n",
       "      <td>98.0</td>\n",
       "      <td>32.0</td>\n",
       "      <td>0.8</td>\n",
       "      <td>10.200000</td>\n",
       "      <td>8.8</td>\n",
       "      <td>82.0</td>\n",
       "      <td>23.0</td>\n",
       "      <td>190.000000</td>\n",
       "      <td>21.370000</td>\n",
       "      <td>2.020000</td>\n",
       "      <td>4.8</td>\n",
       "      <td>4.57</td>\n",
       "      <td>13.2</td>\n",
       "      <td>249.000000</td>\n",
       "      <td>12.0</td>\n",
       "      <td>254.0</td>\n",
       "      <td>142.3</td>\n",
       "      <td>4.40</td>\n",
       "      <td>102.7</td>\n",
       "      <td>1</td>\n",
       "    </tr>\n",
       "    <tr>\n",
       "      <td>2434</td>\n",
       "      <td>1</td>\n",
       "      <td>43</td>\n",
       "      <td>Sabha</td>\n",
       "      <td>76.0</td>\n",
       "      <td>15.0</td>\n",
       "      <td>0.6</td>\n",
       "      <td>11.400000</td>\n",
       "      <td>8.1</td>\n",
       "      <td>22.0</td>\n",
       "      <td>15.0</td>\n",
       "      <td>143.000000</td>\n",
       "      <td>8.500000</td>\n",
       "      <td>0.500000</td>\n",
       "      <td>4.4</td>\n",
       "      <td>4.32</td>\n",
       "      <td>11.1</td>\n",
       "      <td>249.000000</td>\n",
       "      <td>8.0</td>\n",
       "      <td>254.0</td>\n",
       "      <td>137.8</td>\n",
       "      <td>4.25</td>\n",
       "      <td>110.2</td>\n",
       "      <td>1</td>\n",
       "    </tr>\n",
       "    <tr>\n",
       "      <td>2435</td>\n",
       "      <td>1</td>\n",
       "      <td>60</td>\n",
       "      <td>Sabha</td>\n",
       "      <td>120.0</td>\n",
       "      <td>29.0</td>\n",
       "      <td>0.9</td>\n",
       "      <td>10.900000</td>\n",
       "      <td>8.2</td>\n",
       "      <td>51.0</td>\n",
       "      <td>17.0</td>\n",
       "      <td>104.000000</td>\n",
       "      <td>30.967314</td>\n",
       "      <td>4.536407</td>\n",
       "      <td>4.5</td>\n",
       "      <td>4.41</td>\n",
       "      <td>12.9</td>\n",
       "      <td>293.000000</td>\n",
       "      <td>13.0</td>\n",
       "      <td>254.0</td>\n",
       "      <td>147.5</td>\n",
       "      <td>3.15</td>\n",
       "      <td>107.5</td>\n",
       "      <td>1</td>\n",
       "    </tr>\n",
       "    <tr>\n",
       "      <td>2436</td>\n",
       "      <td>1</td>\n",
       "      <td>68</td>\n",
       "      <td>Sabha</td>\n",
       "      <td>90.0</td>\n",
       "      <td>29.0</td>\n",
       "      <td>0.6</td>\n",
       "      <td>5.300000</td>\n",
       "      <td>8.5</td>\n",
       "      <td>83.0</td>\n",
       "      <td>20.0</td>\n",
       "      <td>178.000000</td>\n",
       "      <td>30.967314</td>\n",
       "      <td>4.536407</td>\n",
       "      <td>3.4</td>\n",
       "      <td>4.42</td>\n",
       "      <td>11.0</td>\n",
       "      <td>199.000000</td>\n",
       "      <td>15.0</td>\n",
       "      <td>254.0</td>\n",
       "      <td>142.3</td>\n",
       "      <td>3.23</td>\n",
       "      <td>107.5</td>\n",
       "      <td>1</td>\n",
       "    </tr>\n",
       "  </tbody>\n",
       "</table>\n",
       "<p>2437 rows × 23 columns</p>\n",
       "</div>"
      ],
      "text/plain": [
       "      Sex  Age         Adress    FBS  Urea  Creatinin        ALB  TCa   GPT  \\\n",
       "0       1   60         Tragan  200.0  23.0        0.8   3.400000  1.0   2.0   \n",
       "1       1   53          Sabha  400.0  22.0        0.7   4.461508  9.6   3.0   \n",
       "2       1   50          Sabha  450.0  27.0        0.6   3.500000  9.3  11.0   \n",
       "3       1   36  Obaree-center  300.0  15.0        1.1   4.200000  8.5  13.0   \n",
       "4       1   30  Obaree-center  345.0   2.0        1.0   3.000000  8.0   7.0   \n",
       "...   ...  ...            ...    ...   ...        ...        ...  ...   ...   \n",
       "2432    1   30      Algatroon   70.0  28.0        0.7   5.900000  9.5  63.0   \n",
       "2433    1   47          Sabha   98.0  32.0        0.8  10.200000  8.8  82.0   \n",
       "2434    1   43          Sabha   76.0  15.0        0.6  11.400000  8.1  22.0   \n",
       "2435    1   60          Sabha  120.0  29.0        0.9  10.900000  8.2  51.0   \n",
       "2436    1   68          Sabha   90.0  29.0        0.6   5.300000  8.5  83.0   \n",
       "\n",
       "       GOT         ALP       CA15        CEA  WBC   RBC   HGB         PLT  \\\n",
       "0      1.0  124.000000  69.120000   8.020000  3.4  4.60  13.4  500.000000   \n",
       "1      7.0  133.000000  51.820000   7.910000  4.4  5.00  12.5  283.554362   \n",
       "2     17.0  155.000000  50.000000   8.740000  5.1  4.46  12.5  456.000000   \n",
       "3      1.0  140.701195  40.110000  10.340000  3.1  4.33  13.8  600.000000   \n",
       "4     13.0  125.000000  67.630000   7.310000  4.2  4.13   1.7  543.000000   \n",
       "...    ...         ...        ...        ...  ...   ...   ...         ...   \n",
       "2432  23.0  234.000000  21.000000   1.120000  3.9  5.23  11.3  288.000000   \n",
       "2433  23.0  190.000000  21.370000   2.020000  4.8  4.57  13.2  249.000000   \n",
       "2434  15.0  143.000000   8.500000   0.500000  4.4  4.32  11.1  249.000000   \n",
       "2435  17.0  104.000000  30.967314   4.536407  4.5  4.41  12.9  293.000000   \n",
       "2436  20.0  178.000000  30.967314   4.536407  3.4  4.42  11.0  199.000000   \n",
       "\n",
       "       ESR    LDH     Na     K     CL  CLASS  \n",
       "0     25.0  150.0  145.0  4.50   19.1      0  \n",
       "1     15.0  260.0  137.8  4.18   19.1      0  \n",
       "2      2.0  169.0  139.2  4.17   16.4      0  \n",
       "3     15.0  138.0   14.0  4.00    1.1      0  \n",
       "4     25.0  154.0  136.4  4.60   17.1      0  \n",
       "...    ...    ...    ...   ...    ...    ...  \n",
       "2432  15.0  254.0  138.7  4.35  103.6      1  \n",
       "2433  12.0  254.0  142.3  4.40  102.7      1  \n",
       "2434   8.0  254.0  137.8  4.25  110.2      1  \n",
       "2435  13.0  254.0  147.5  3.15  107.5      1  \n",
       "2436  15.0  254.0  142.3  3.23  107.5      1  \n",
       "\n",
       "[2437 rows x 23 columns]"
      ]
     },
     "execution_count": 4,
     "metadata": {},
     "output_type": "execute_result"
    }
   ],
   "source": [
    "\n",
    "#imputing nan values\n",
    "\n",
    "BC[\"FBS\"].fillna(BC[\"FBS\"].mean(), inplace=True)\n",
    "BC[\"Urea\"].fillna(BC[\"Urea\"].mean(), inplace=True)\n",
    "BC[\"Creatinin\"].fillna(BC[\"Creatinin\"].mean(), inplace=True)\n",
    "BC[\"ALB\"].fillna(BC[\"ALB\"].mean(), inplace=True)\n",
    "BC[\"TCa\"].fillna(BC[\"TCa\"].mean(), inplace=True)\n",
    "BC[\"GPT\"].fillna(BC[\"GPT\"].mean(), inplace=True)\n",
    "BC[\"GOT\"].fillna(BC[\"GOT\"].mean(), inplace=True)\n",
    "BC[\"ALP\"].fillna(BC[\"ALP\"].mean(), inplace=True)\n",
    "BC[\"WBC\"].fillna(BC[\"WBC\"].mean(), inplace=True)\n",
    "BC[\"HGB\"].fillna(BC[\"HGB\"].mean(), inplace=True)\n",
    "BC[\"RBC\"].fillna(BC[\"RBC\"].mean(), inplace=True)\n",
    "BC[\"PLT\"].fillna(BC[\"PLT\"].mean(), inplace=True)\n",
    "BC[\"ESR\"].fillna(BC[\"ESR\"].mean(), inplace=True)\n",
    "BC[\"LDH\"].fillna(BC[\"LDH\"].mean(), inplace=True)\n",
    "BC[\"Na\"].fillna(BC[\"Na\"].mean(), inplace=True)\n",
    "BC[\"K\"].fillna(BC[\"K\"].mean(), inplace=True)\n",
    "BC[\"CL\"].fillna(BC[\"CL\"].mean(), inplace=True)\n",
    "BC[\"CA15\"].fillna(BC[\"CA15\"].mean(), inplace=True)\n",
    "BC[\"CEA\"].fillna(BC[\"CEA\"].mean(), inplace=True)\n",
    "BC"
   ]
  },
  {
   "cell_type": "code",
   "execution_count": 6,
   "metadata": {},
   "outputs": [],
   "source": [
    "BC[\"ZScore_FBS\"] = (BC.FBS - BC.FBS.mean())/(BC.FBS.std())\n",
    "BC[\"ZScore_Urea\"] = (BC.Urea - BC.Urea.mean())/(BC.Urea.std())\n",
    "BC[\"ZScore_creatinine\"] = (BC.Creatinin - BC.Creatinin.mean())/(BC.Creatinin.std())\n",
    "BC[\"ZScore_ALB\"] = (BC.ALB - BC.ALB.mean())/(BC.ALB.std())\n",
    "BC[\"ZScore_TCa\"] = (BC.TCa - BC.TCa.mean())/(BC.TCa.std())\n",
    "\n",
    "BC[\"ZScore_GPT\"] = (BC.GPT - BC.GPT.mean())/(BC.GPT.std())\n",
    "BC[\"ZScore_GOT\"] = (BC.GOT - BC.GOT.mean())/(BC.GOT.std())\n",
    "BC[\"ZScore_ALP\"] = (BC.ALP - BC.ALP.mean())/(BC.ALP.std())\n",
    "BC[\"ZScore_CA15\"] = (BC.CA15 - BC.CA15.mean())/(BC.CA15.std())\n",
    "BC[\"ZScore_CEA\"] = (BC.CEA - BC.CEA.mean())/(BC.CEA.std())\n",
    "BC[\"ZScore_WBC\"] = (BC.WBC - BC.WBC.mean())/(BC.WBC.std())\n",
    "BC[\"ZScore_RBC\"] = (BC.RBC - BC.RBC.mean())/(BC.RBC.std())\n",
    "BC[\"ZScore_HGB\"] = (BC.HGB - BC.HGB.mean())/(BC.HGB.std())\n",
    "BC[\"ZScore_PLT\"] = (BC.PLT - BC.PLT.mean())/(BC.PLT.std())\n",
    "BC[\"ZScore_ESR\"] = (BC.ESR - BC.ESR.mean())/(BC.ESR.std())\n",
    "BC[\"ZScore_LDH\"] = (BC.LDH - BC.LDH.mean())/(BC.LDH.std())\n",
    "BC[\"ZScore_Na\"] = (BC.Na - BC.Na.mean())/(BC.Na.std())\n",
    "BC[\"ZScore_CL\"] = (BC.CL - BC.CL.mean())/(BC.CL.std())\n",
    "BC[\"ZScore_K\"] = (BC.K - BC.K.mean())/(BC.K.std())\n"
   ]
  },
  {
   "cell_type": "code",
   "execution_count": 7,
   "metadata": {},
   "outputs": [
    {
     "data": {
      "text/plain": [
       "Sex                  0\n",
       "Age                  0\n",
       "Adress               0\n",
       "FBS                  0\n",
       "Urea                 0\n",
       "Creatinin            0\n",
       "ALB                  0\n",
       "TCa                  0\n",
       "GPT                  0\n",
       "GOT                  0\n",
       "ALP                  0\n",
       "CA15                 0\n",
       "CEA                  0\n",
       "WBC                  0\n",
       "RBC                  0\n",
       "HGB                  0\n",
       "PLT                  0\n",
       "ESR                  0\n",
       "LDH                  0\n",
       "Na                   0\n",
       "K                    0\n",
       "CL                   0\n",
       "CLASS                0\n",
       "ZScore_FBS           0\n",
       "ZScore_Urea          0\n",
       "ZScore_creatinine    0\n",
       "ZScore_ALB           0\n",
       "ZScore_TCa           0\n",
       "ZScore_GPT           0\n",
       "ZScore_GOT           0\n",
       "ZScore_ALP           0\n",
       "ZScore_CA15          0\n",
       "ZScore_CEA           0\n",
       "ZScore_WBC           0\n",
       "ZScore_RBC           0\n",
       "ZScore_HGB           0\n",
       "ZScore_PLT           0\n",
       "ZScore_ESR           0\n",
       "ZScore_LDH           0\n",
       "ZScore_Na            0\n",
       "ZScore_CL            0\n",
       "ZScore_K             0\n",
       "dtype: int64"
      ]
     },
     "execution_count": 7,
     "metadata": {},
     "output_type": "execute_result"
    }
   ],
   "source": [
    "BC.isnull().sum()"
   ]
  },
  {
   "cell_type": "code",
   "execution_count": 8,
   "metadata": {},
   "outputs": [],
   "source": [
    "#assigning nan to the outliers\n",
    "\n",
    "BC['FBS'].values[BC['ZScore_FBS'] > 3] = np.nan\n",
    "BC['FBS'].values[BC['ZScore_FBS'] < -3] = np.nan\n",
    "\n",
    "BC['Urea'].values[BC['ZScore_Urea'] > 3] = np.nan\n",
    "BC['Urea'].values[BC['ZScore_Urea'] < -3] = np.nan\n",
    "\n",
    "BC['Creatinin'].values[BC['ZScore_creatinine'] > 3] = np.nan\n",
    "BC['Creatinin'].values[BC['ZScore_creatinine'] < -3] = np.nan\n",
    "\n",
    "BC['ALB'].values[BC['ZScore_ALB'] > 3] = np.nan\n",
    "BC['ALB'].values[BC['ZScore_ALB'] < -3] = np.nan\n",
    "\n",
    "BC['TCa'].values[BC['ZScore_TCa'] > 3] = np.nan\n",
    "BC['TCa'].values[BC['ZScore_TCa'] < -3] = np.nan\n",
    "\n",
    "\n",
    "BC['GPT'].values[BC['ZScore_GPT'] > 3] = np.nan\n",
    "BC['GPT'].values[BC['ZScore_GPT'] < -3] = np.nan\n",
    "\n",
    "BC['GOT'].values[BC['ZScore_GOT'] > 3] = np.nan\n",
    "BC['GOT'].values[BC['ZScore_GOT'] < -3] = np.nan\n",
    "\n",
    "BC['ALP'].values[BC['ZScore_ALP'] > 3] = np.nan\n",
    "BC['ALP'].values[BC['ZScore_ALP'] < -3] = np.nan\n",
    "\n",
    "BC['CA15'].values[BC['ZScore_CA15'] > 3] = np.nan\n",
    "BC['CA15'].values[BC['ZScore_CA15'] < -3] = np.nan\n",
    "\n",
    "BC['CEA'].values[BC['ZScore_CEA'] > 3] = np.nan\n",
    "BC['CEA'].values[BC['ZScore_CEA'] < -3] = np.nan\n",
    "\n",
    "BC['WBC'].values[BC['ZScore_WBC'] > 3] = np.nan\n",
    "BC['WBC'].values[BC['ZScore_WBC'] < -3] = np.nan\n",
    "\n",
    "BC['RBC'].values[BC['ZScore_RBC'] > 3] = np.nan\n",
    "BC['RBC'].values[BC['ZScore_RBC'] < -3] = np.nan\n",
    "\n",
    "BC['HGB'].values[BC['ZScore_HGB'] > 3] = np.nan\n",
    "BC['HGB'].values[BC['ZScore_HGB'] < -3] = np.nan\n",
    "\n",
    "BC['PLT'].values[BC['ZScore_PLT'] > 3] = np.nan\n",
    "BC['PLT'].values[BC['ZScore_PLT'] < -3] = np.nan\n",
    "\n",
    "BC['ESR'].values[BC['ZScore_ESR'] > 3] = np.nan\n",
    "BC['ESR'].values[BC['ZScore_ESR'] < -3] = np.nan\n",
    "\n",
    "BC['LDH'].values[BC['ZScore_LDH'] > 3] = np.nan\n",
    "BC['LDH'].values[BC['ZScore_LDH'] < -3] = np.nan\n",
    "\n",
    "BC['Na'].values[BC['ZScore_Na'] > 3] = np.nan\n",
    "BC['Na'].values[BC['ZScore_Na'] < -3] = np.nan\n",
    "\n",
    "BC['CL'].values[BC['ZScore_CL'] > 3] = np.nan\n",
    "BC['CL'].values[BC['ZScore_CL'] < -3] = np.nan\n",
    "\n",
    "BC['K'].values[BC['ZScore_K'] > 3] = np.nan\n",
    "BC['K'].values[BC['ZScore_K'] < -3] = np.nan\n"
   ]
  },
  {
   "cell_type": "code",
   "execution_count": 9,
   "metadata": {},
   "outputs": [],
   "source": [
    "BC.drop([\"ZScore_FBS\",\"ZScore_Urea\",\"ZScore_creatinine\",\"ZScore_ALB\",\"ZScore_TCa\",\"ZScore_GPT\",\"ZScore_GOT\",\"ZScore_ALP\",\n",
    "        \"ZScore_CA15\",\"ZScore_CEA\",\"ZScore_WBC\",\"ZScore_RBC\",\"ZScore_HGB\",\"ZScore_PLT\",\"ZScore_ESR\",\"ZScore_LDH\",\n",
    "        \"ZScore_Na\",\"ZScore_CL\",\"ZScore_K\"],axis=1,inplace=True)\n"
   ]
  },
  {
   "cell_type": "code",
   "execution_count": 10,
   "metadata": {},
   "outputs": [
    {
     "data": {
      "text/plain": [
       "Sex           0\n",
       "Age           0\n",
       "Adress        0\n",
       "FBS          50\n",
       "Urea         66\n",
       "Creatinin    27\n",
       "ALB          60\n",
       "TCa           8\n",
       "GPT          61\n",
       "GOT          43\n",
       "ALP          28\n",
       "CA15          3\n",
       "CEA           1\n",
       "WBC          13\n",
       "RBC           4\n",
       "HGB           3\n",
       "PLT           3\n",
       "ESR          30\n",
       "LDH          12\n",
       "Na            1\n",
       "K             8\n",
       "CL            3\n",
       "CLASS         0\n",
       "dtype: int64"
      ]
     },
     "execution_count": 10,
     "metadata": {},
     "output_type": "execute_result"
    }
   ],
   "source": [
    "BC.isnull().sum()\n"
   ]
  },
  {
   "cell_type": "code",
   "execution_count": 11,
   "metadata": {},
   "outputs": [
    {
     "data": {
      "text/html": [
       "<div>\n",
       "<style scoped>\n",
       "    .dataframe tbody tr th:only-of-type {\n",
       "        vertical-align: middle;\n",
       "    }\n",
       "\n",
       "    .dataframe tbody tr th {\n",
       "        vertical-align: top;\n",
       "    }\n",
       "\n",
       "    .dataframe thead th {\n",
       "        text-align: right;\n",
       "    }\n",
       "</style>\n",
       "<table border=\"1\" class=\"dataframe\">\n",
       "  <thead>\n",
       "    <tr style=\"text-align: right;\">\n",
       "      <th></th>\n",
       "      <th>Sex</th>\n",
       "      <th>Age</th>\n",
       "      <th>Adress</th>\n",
       "      <th>FBS</th>\n",
       "      <th>Urea</th>\n",
       "      <th>Creatinin</th>\n",
       "      <th>ALB</th>\n",
       "      <th>TCa</th>\n",
       "      <th>GPT</th>\n",
       "      <th>GOT</th>\n",
       "      <th>ALP</th>\n",
       "      <th>CA15</th>\n",
       "      <th>CEA</th>\n",
       "      <th>WBC</th>\n",
       "      <th>RBC</th>\n",
       "      <th>HGB</th>\n",
       "      <th>PLT</th>\n",
       "      <th>ESR</th>\n",
       "      <th>LDH</th>\n",
       "      <th>Na</th>\n",
       "      <th>K</th>\n",
       "      <th>CL</th>\n",
       "      <th>CLASS</th>\n",
       "    </tr>\n",
       "  </thead>\n",
       "  <tbody>\n",
       "    <tr>\n",
       "      <td>0</td>\n",
       "      <td>1</td>\n",
       "      <td>60</td>\n",
       "      <td>Tragan</td>\n",
       "      <td>200.00000</td>\n",
       "      <td>23.0</td>\n",
       "      <td>0.8</td>\n",
       "      <td>3.400000</td>\n",
       "      <td>1.0</td>\n",
       "      <td>2.000000</td>\n",
       "      <td>1.0</td>\n",
       "      <td>124.000000</td>\n",
       "      <td>69.120000</td>\n",
       "      <td>8.020000</td>\n",
       "      <td>3.4</td>\n",
       "      <td>4.60</td>\n",
       "      <td>13.4</td>\n",
       "      <td>500.000000</td>\n",
       "      <td>25.0</td>\n",
       "      <td>150.0</td>\n",
       "      <td>145.0</td>\n",
       "      <td>4.50</td>\n",
       "      <td>19.1</td>\n",
       "      <td>0</td>\n",
       "    </tr>\n",
       "    <tr>\n",
       "      <td>1</td>\n",
       "      <td>1</td>\n",
       "      <td>53</td>\n",
       "      <td>Sabha</td>\n",
       "      <td>154.36173</td>\n",
       "      <td>22.0</td>\n",
       "      <td>0.7</td>\n",
       "      <td>4.461508</td>\n",
       "      <td>9.6</td>\n",
       "      <td>3.000000</td>\n",
       "      <td>7.0</td>\n",
       "      <td>133.000000</td>\n",
       "      <td>51.820000</td>\n",
       "      <td>7.910000</td>\n",
       "      <td>4.4</td>\n",
       "      <td>5.00</td>\n",
       "      <td>12.5</td>\n",
       "      <td>283.554362</td>\n",
       "      <td>15.0</td>\n",
       "      <td>260.0</td>\n",
       "      <td>137.8</td>\n",
       "      <td>4.18</td>\n",
       "      <td>19.1</td>\n",
       "      <td>0</td>\n",
       "    </tr>\n",
       "    <tr>\n",
       "      <td>2</td>\n",
       "      <td>1</td>\n",
       "      <td>50</td>\n",
       "      <td>Sabha</td>\n",
       "      <td>154.36173</td>\n",
       "      <td>27.0</td>\n",
       "      <td>0.6</td>\n",
       "      <td>3.500000</td>\n",
       "      <td>9.3</td>\n",
       "      <td>11.000000</td>\n",
       "      <td>17.0</td>\n",
       "      <td>155.000000</td>\n",
       "      <td>50.000000</td>\n",
       "      <td>8.740000</td>\n",
       "      <td>5.1</td>\n",
       "      <td>4.46</td>\n",
       "      <td>12.5</td>\n",
       "      <td>456.000000</td>\n",
       "      <td>2.0</td>\n",
       "      <td>169.0</td>\n",
       "      <td>139.2</td>\n",
       "      <td>4.17</td>\n",
       "      <td>16.4</td>\n",
       "      <td>0</td>\n",
       "    </tr>\n",
       "    <tr>\n",
       "      <td>3</td>\n",
       "      <td>1</td>\n",
       "      <td>36</td>\n",
       "      <td>Obaree-center</td>\n",
       "      <td>300.00000</td>\n",
       "      <td>15.0</td>\n",
       "      <td>1.1</td>\n",
       "      <td>4.200000</td>\n",
       "      <td>8.5</td>\n",
       "      <td>13.000000</td>\n",
       "      <td>1.0</td>\n",
       "      <td>140.701195</td>\n",
       "      <td>40.110000</td>\n",
       "      <td>10.340000</td>\n",
       "      <td>3.1</td>\n",
       "      <td>4.33</td>\n",
       "      <td>13.8</td>\n",
       "      <td>600.000000</td>\n",
       "      <td>15.0</td>\n",
       "      <td>138.0</td>\n",
       "      <td>14.0</td>\n",
       "      <td>4.00</td>\n",
       "      <td>1.1</td>\n",
       "      <td>0</td>\n",
       "    </tr>\n",
       "    <tr>\n",
       "      <td>4</td>\n",
       "      <td>1</td>\n",
       "      <td>30</td>\n",
       "      <td>Obaree-center</td>\n",
       "      <td>345.00000</td>\n",
       "      <td>2.0</td>\n",
       "      <td>1.0</td>\n",
       "      <td>3.000000</td>\n",
       "      <td>8.0</td>\n",
       "      <td>7.000000</td>\n",
       "      <td>13.0</td>\n",
       "      <td>125.000000</td>\n",
       "      <td>67.630000</td>\n",
       "      <td>7.310000</td>\n",
       "      <td>4.2</td>\n",
       "      <td>4.13</td>\n",
       "      <td>1.7</td>\n",
       "      <td>543.000000</td>\n",
       "      <td>25.0</td>\n",
       "      <td>154.0</td>\n",
       "      <td>136.4</td>\n",
       "      <td>4.60</td>\n",
       "      <td>17.1</td>\n",
       "      <td>0</td>\n",
       "    </tr>\n",
       "    <tr>\n",
       "      <td>...</td>\n",
       "      <td>...</td>\n",
       "      <td>...</td>\n",
       "      <td>...</td>\n",
       "      <td>...</td>\n",
       "      <td>...</td>\n",
       "      <td>...</td>\n",
       "      <td>...</td>\n",
       "      <td>...</td>\n",
       "      <td>...</td>\n",
       "      <td>...</td>\n",
       "      <td>...</td>\n",
       "      <td>...</td>\n",
       "      <td>...</td>\n",
       "      <td>...</td>\n",
       "      <td>...</td>\n",
       "      <td>...</td>\n",
       "      <td>...</td>\n",
       "      <td>...</td>\n",
       "      <td>...</td>\n",
       "      <td>...</td>\n",
       "      <td>...</td>\n",
       "      <td>...</td>\n",
       "      <td>...</td>\n",
       "    </tr>\n",
       "    <tr>\n",
       "      <td>2432</td>\n",
       "      <td>1</td>\n",
       "      <td>30</td>\n",
       "      <td>Algatroon</td>\n",
       "      <td>70.00000</td>\n",
       "      <td>28.0</td>\n",
       "      <td>0.7</td>\n",
       "      <td>5.900000</td>\n",
       "      <td>9.5</td>\n",
       "      <td>13.882247</td>\n",
       "      <td>23.0</td>\n",
       "      <td>234.000000</td>\n",
       "      <td>21.000000</td>\n",
       "      <td>1.120000</td>\n",
       "      <td>3.9</td>\n",
       "      <td>5.23</td>\n",
       "      <td>11.3</td>\n",
       "      <td>288.000000</td>\n",
       "      <td>15.0</td>\n",
       "      <td>254.0</td>\n",
       "      <td>138.7</td>\n",
       "      <td>4.35</td>\n",
       "      <td>103.6</td>\n",
       "      <td>1</td>\n",
       "    </tr>\n",
       "    <tr>\n",
       "      <td>2433</td>\n",
       "      <td>1</td>\n",
       "      <td>47</td>\n",
       "      <td>Sabha</td>\n",
       "      <td>98.00000</td>\n",
       "      <td>32.0</td>\n",
       "      <td>0.8</td>\n",
       "      <td>10.200000</td>\n",
       "      <td>8.8</td>\n",
       "      <td>13.882247</td>\n",
       "      <td>23.0</td>\n",
       "      <td>190.000000</td>\n",
       "      <td>21.370000</td>\n",
       "      <td>2.020000</td>\n",
       "      <td>4.8</td>\n",
       "      <td>4.57</td>\n",
       "      <td>13.2</td>\n",
       "      <td>249.000000</td>\n",
       "      <td>12.0</td>\n",
       "      <td>254.0</td>\n",
       "      <td>142.3</td>\n",
       "      <td>4.40</td>\n",
       "      <td>102.7</td>\n",
       "      <td>1</td>\n",
       "    </tr>\n",
       "    <tr>\n",
       "      <td>2434</td>\n",
       "      <td>1</td>\n",
       "      <td>43</td>\n",
       "      <td>Sabha</td>\n",
       "      <td>76.00000</td>\n",
       "      <td>15.0</td>\n",
       "      <td>0.6</td>\n",
       "      <td>11.400000</td>\n",
       "      <td>8.1</td>\n",
       "      <td>22.000000</td>\n",
       "      <td>15.0</td>\n",
       "      <td>143.000000</td>\n",
       "      <td>8.500000</td>\n",
       "      <td>0.500000</td>\n",
       "      <td>4.4</td>\n",
       "      <td>4.32</td>\n",
       "      <td>11.1</td>\n",
       "      <td>249.000000</td>\n",
       "      <td>8.0</td>\n",
       "      <td>254.0</td>\n",
       "      <td>137.8</td>\n",
       "      <td>4.25</td>\n",
       "      <td>110.2</td>\n",
       "      <td>1</td>\n",
       "    </tr>\n",
       "    <tr>\n",
       "      <td>2435</td>\n",
       "      <td>1</td>\n",
       "      <td>60</td>\n",
       "      <td>Sabha</td>\n",
       "      <td>120.00000</td>\n",
       "      <td>29.0</td>\n",
       "      <td>0.9</td>\n",
       "      <td>10.900000</td>\n",
       "      <td>8.2</td>\n",
       "      <td>51.000000</td>\n",
       "      <td>17.0</td>\n",
       "      <td>104.000000</td>\n",
       "      <td>30.967314</td>\n",
       "      <td>4.536407</td>\n",
       "      <td>4.5</td>\n",
       "      <td>4.41</td>\n",
       "      <td>12.9</td>\n",
       "      <td>293.000000</td>\n",
       "      <td>13.0</td>\n",
       "      <td>254.0</td>\n",
       "      <td>147.5</td>\n",
       "      <td>3.15</td>\n",
       "      <td>107.5</td>\n",
       "      <td>1</td>\n",
       "    </tr>\n",
       "    <tr>\n",
       "      <td>2436</td>\n",
       "      <td>1</td>\n",
       "      <td>68</td>\n",
       "      <td>Sabha</td>\n",
       "      <td>90.00000</td>\n",
       "      <td>29.0</td>\n",
       "      <td>0.6</td>\n",
       "      <td>5.300000</td>\n",
       "      <td>8.5</td>\n",
       "      <td>13.882247</td>\n",
       "      <td>20.0</td>\n",
       "      <td>178.000000</td>\n",
       "      <td>30.967314</td>\n",
       "      <td>4.536407</td>\n",
       "      <td>3.4</td>\n",
       "      <td>4.42</td>\n",
       "      <td>11.0</td>\n",
       "      <td>199.000000</td>\n",
       "      <td>15.0</td>\n",
       "      <td>254.0</td>\n",
       "      <td>142.3</td>\n",
       "      <td>3.23</td>\n",
       "      <td>107.5</td>\n",
       "      <td>1</td>\n",
       "    </tr>\n",
       "  </tbody>\n",
       "</table>\n",
       "<p>2437 rows × 23 columns</p>\n",
       "</div>"
      ],
      "text/plain": [
       "      Sex  Age         Adress        FBS  Urea  Creatinin        ALB  TCa  \\\n",
       "0       1   60         Tragan  200.00000  23.0        0.8   3.400000  1.0   \n",
       "1       1   53          Sabha  154.36173  22.0        0.7   4.461508  9.6   \n",
       "2       1   50          Sabha  154.36173  27.0        0.6   3.500000  9.3   \n",
       "3       1   36  Obaree-center  300.00000  15.0        1.1   4.200000  8.5   \n",
       "4       1   30  Obaree-center  345.00000   2.0        1.0   3.000000  8.0   \n",
       "...   ...  ...            ...        ...   ...        ...        ...  ...   \n",
       "2432    1   30      Algatroon   70.00000  28.0        0.7   5.900000  9.5   \n",
       "2433    1   47          Sabha   98.00000  32.0        0.8  10.200000  8.8   \n",
       "2434    1   43          Sabha   76.00000  15.0        0.6  11.400000  8.1   \n",
       "2435    1   60          Sabha  120.00000  29.0        0.9  10.900000  8.2   \n",
       "2436    1   68          Sabha   90.00000  29.0        0.6   5.300000  8.5   \n",
       "\n",
       "            GPT   GOT         ALP       CA15        CEA  WBC   RBC   HGB  \\\n",
       "0      2.000000   1.0  124.000000  69.120000   8.020000  3.4  4.60  13.4   \n",
       "1      3.000000   7.0  133.000000  51.820000   7.910000  4.4  5.00  12.5   \n",
       "2     11.000000  17.0  155.000000  50.000000   8.740000  5.1  4.46  12.5   \n",
       "3     13.000000   1.0  140.701195  40.110000  10.340000  3.1  4.33  13.8   \n",
       "4      7.000000  13.0  125.000000  67.630000   7.310000  4.2  4.13   1.7   \n",
       "...         ...   ...         ...        ...        ...  ...   ...   ...   \n",
       "2432  13.882247  23.0  234.000000  21.000000   1.120000  3.9  5.23  11.3   \n",
       "2433  13.882247  23.0  190.000000  21.370000   2.020000  4.8  4.57  13.2   \n",
       "2434  22.000000  15.0  143.000000   8.500000   0.500000  4.4  4.32  11.1   \n",
       "2435  51.000000  17.0  104.000000  30.967314   4.536407  4.5  4.41  12.9   \n",
       "2436  13.882247  20.0  178.000000  30.967314   4.536407  3.4  4.42  11.0   \n",
       "\n",
       "             PLT   ESR    LDH     Na     K     CL  CLASS  \n",
       "0     500.000000  25.0  150.0  145.0  4.50   19.1      0  \n",
       "1     283.554362  15.0  260.0  137.8  4.18   19.1      0  \n",
       "2     456.000000   2.0  169.0  139.2  4.17   16.4      0  \n",
       "3     600.000000  15.0  138.0   14.0  4.00    1.1      0  \n",
       "4     543.000000  25.0  154.0  136.4  4.60   17.1      0  \n",
       "...          ...   ...    ...    ...   ...    ...    ...  \n",
       "2432  288.000000  15.0  254.0  138.7  4.35  103.6      1  \n",
       "2433  249.000000  12.0  254.0  142.3  4.40  102.7      1  \n",
       "2434  249.000000   8.0  254.0  137.8  4.25  110.2      1  \n",
       "2435  293.000000  13.0  254.0  147.5  3.15  107.5      1  \n",
       "2436  199.000000  15.0  254.0  142.3  3.23  107.5      1  \n",
       "\n",
       "[2437 rows x 23 columns]"
      ]
     },
     "execution_count": 11,
     "metadata": {},
     "output_type": "execute_result"
    }
   ],
   "source": [
    "\n",
    "#imputing nan values\n",
    "\n",
    "BC[\"FBS\"].fillna(BC[\"FBS\"].mean(), inplace=True)\n",
    "BC[\"Urea\"].fillna(BC[\"Urea\"].mean(), inplace=True)\n",
    "BC[\"Creatinin\"].fillna(BC[\"Creatinin\"].mean(), inplace=True)\n",
    "BC[\"ALB\"].fillna(BC[\"ALB\"].mean(), inplace=True)\n",
    "BC[\"TCa\"].fillna(BC[\"TCa\"].mean(), inplace=True)\n",
    "BC[\"GPT\"].fillna(BC[\"GPT\"].mean(), inplace=True)\n",
    "BC[\"GOT\"].fillna(BC[\"GOT\"].mean(), inplace=True)\n",
    "BC[\"ALP\"].fillna(BC[\"ALP\"].mean(), inplace=True)\n",
    "BC[\"WBC\"].fillna(BC[\"WBC\"].mean(), inplace=True)\n",
    "BC[\"HGB\"].fillna(BC[\"HGB\"].mean(), inplace=True)\n",
    "BC[\"RBC\"].fillna(BC[\"RBC\"].mean(), inplace=True)\n",
    "BC[\"PLT\"].fillna(BC[\"PLT\"].mean(), inplace=True)\n",
    "BC[\"ESR\"].fillna(BC[\"ESR\"].mean(), inplace=True)\n",
    "BC[\"LDH\"].fillna(BC[\"LDH\"].mean(), inplace=True)\n",
    "BC[\"Na\"].fillna(BC[\"Na\"].mean(), inplace=True)\n",
    "BC[\"K\"].fillna(BC[\"K\"].mean(), inplace=True)\n",
    "BC[\"CL\"].fillna(BC[\"CL\"].mean(), inplace=True)\n",
    "BC[\"CA15\"].fillna(BC[\"CA15\"].mean(), inplace=True)\n",
    "BC[\"CEA\"].fillna(BC[\"CEA\"].mean(), inplace=True)\n",
    "BC"
   ]
  },
  {
   "cell_type": "markdown",
   "metadata": {
    "papermill": {
     "duration": 0.077097,
     "end_time": "2020-11-11T18:40:46.368369",
     "exception": false,
     "start_time": "2020-11-11T18:40:46.291272",
     "status": "completed"
    },
    "tags": []
   },
   "source": [
    "## Encoding features"
   ]
  },
  {
   "cell_type": "markdown",
   "metadata": {
    "papermill": {
     "duration": 0.078119,
     "end_time": "2020-11-11T18:40:46.523408",
     "exception": false,
     "start_time": "2020-11-11T18:40:46.445289",
     "status": "completed"
    },
    "tags": []
   },
   "source": [
    "All of the questions have categorical answers.\n",
    "\n",
    "In the future, we could use categorical encoding for them. I use OrdinalEncoder for all columns with the exception of 'Timestamp', 'comments', 'Age'."
   ]
  },
  {
   "cell_type": "markdown",
   "metadata": {},
   "source": [
    " #!pip install category_encoders\n"
   ]
  },
  {
   "cell_type": "markdown",
   "metadata": {
    "_kg_hide-input": true,
    "_kg_hide-output": true,
    "execution": {
     "iopub.execute_input": "2020-11-11T18:40:46.745318Z",
     "iopub.status.busy": "2020-11-11T18:40:46.744321Z",
     "iopub.status.idle": "2020-11-11T18:40:47.201873Z",
     "shell.execute_reply": "2020-11-11T18:40:47.202476Z"
    },
    "papermill": {
     "duration": 0.598567,
     "end_time": "2020-11-11T18:40:47.202665",
     "exception": false,
     "start_time": "2020-11-11T18:40:46.604098",
     "status": "completed"
    },
    "tags": []
   },
   "source": [
    "from category_encoders.ordinal import OrdinalEncoder\n",
    "\n",
    "data_encoding = data\n",
    "encoder = OrdinalEncoder()\n",
    "data_encoding = encoder.fit_transform(data, axis=1)"
   ]
  },
  {
   "cell_type": "markdown",
   "metadata": {
    "_kg_hide-input": true,
    "execution": {
     "iopub.execute_input": "2020-11-11T18:40:47.385307Z",
     "iopub.status.busy": "2020-11-11T18:40:47.383993Z",
     "iopub.status.idle": "2020-11-11T18:40:47.402596Z",
     "shell.execute_reply": "2020-11-11T18:40:47.401806Z"
    },
    "papermill": {
     "duration": 0.115503,
     "end_time": "2020-11-11T18:40:47.402731",
     "exception": false,
     "start_time": "2020-11-11T18:40:47.287228",
     "status": "completed"
    },
    "tags": []
   },
   "source": [
    "# new DataFrame\n",
    "#data_encoding['Age'] = data.Age\n",
    "data_encoding"
   ]
  },
  {
   "cell_type": "code",
   "execution_count": 12,
   "metadata": {},
   "outputs": [],
   "source": [
    "# LabelEncoder for object featurs\n",
    "\n",
    "from sklearn.preprocessing import LabelEncoder\n",
    "le = LabelEncoder()\n",
    "cols = BC.columns.tolist()\n",
    "for column in cols:\n",
    "    if BC[column].dtype == 'object':\n",
    "        BC[column] = le.fit_transform(BC[column])\n"
   ]
  },
  {
   "cell_type": "markdown",
   "metadata": {
    "papermill": {
     "duration": 0.083015,
     "end_time": "2020-11-11T18:40:47.568676",
     "exception": false,
     "start_time": "2020-11-11T18:40:47.485661",
     "status": "completed"
    },
    "tags": []
   },
   "source": [
    "# Feature Selection:\n",
    "\n",
    "Trying different approaches  and comparing results:\n",
    "\n",
    "- ReliefF."
   ]
  },
  {
   "cell_type": "markdown",
   "metadata": {
    "papermill": {
     "duration": 0.091719,
     "end_time": "2020-11-11T18:41:06.535526",
     "exception": false,
     "start_time": "2020-11-11T18:41:06.443807",
     "status": "completed"
    },
    "tags": []
   },
   "source": [
    "## Relief"
   ]
  },
  {
   "cell_type": "markdown",
   "metadata": {
    "papermill": {
     "duration": 0.092143,
     "end_time": "2020-11-11T18:41:06.718333",
     "exception": false,
     "start_time": "2020-11-11T18:41:06.626190",
     "status": "completed"
    },
    "tags": []
   },
   "source": [
    "This method samples randomly instances from the dataset and updates the relevance of each feature based on the difference between the selected instance and the two nearest instances of the same and opposite classes. If a feature difference is observed in the neighboring instances of the same class ( a ‘hit’), the feature score decreases, alternatively if the feature value difference is observed with a different score (a ‘miss’) then the feature score increases.\n",
    "\n",
    "![](https://miro.medium.com/max/472/1*EjkXuRcsUqQyQ-sw8uCM8w.png)\n",
    "\n",
    "The extended algorithm, ReliefF applies feature weighting and searches for more nearest neighbors."
   ]
  },
  {
   "cell_type": "code",
   "execution_count": 7,
   "metadata": {
    "_kg_hide-input": true,
    "_kg_hide-output": true,
    "execution": {
     "iopub.execute_input": "2020-11-11T18:41:06.907110Z",
     "iopub.status.busy": "2020-11-11T18:41:06.906345Z",
     "iopub.status.idle": "2020-11-11T18:41:18.025956Z",
     "shell.execute_reply": "2020-11-11T18:41:18.025234Z"
    },
    "papermill": {
     "duration": 11.215888,
     "end_time": "2020-11-11T18:41:18.026114",
     "exception": false,
     "start_time": "2020-11-11T18:41:06.810226",
     "status": "completed"
    },
    "tags": []
   },
   "outputs": [],
   "source": [
    "#! pip install ReliefF"
   ]
  },
  {
   "cell_type": "code",
   "execution_count": 13,
   "metadata": {
    "execution": {
     "iopub.execute_input": "2020-11-11T18:41:18.227203Z",
     "iopub.status.busy": "2020-11-11T18:41:18.226087Z",
     "iopub.status.idle": "2020-11-11T18:41:18.425862Z",
     "shell.execute_reply": "2020-11-11T18:41:18.425199Z"
    },
    "papermill": {
     "duration": 0.302323,
     "end_time": "2020-11-11T18:41:18.426001",
     "exception": false,
     "start_time": "2020-11-11T18:41:18.123678",
     "status": "completed"
    },
    "tags": []
   },
   "outputs": [],
   "source": [
    "\n",
    "fs = ReliefF(n_neighbors=1, n_features_to_keep= 2)\n",
    "features = fs.fit_transform(BC.drop(['CLASS'], axis=1).to_numpy(), BC['CLASS'].to_numpy()).T"
   ]
  },
  {
   "cell_type": "markdown",
   "metadata": {},
   "source": [
    "## تدريب النموذج علي أفضل 2 سمة بعد معالجة القيم المفقودة\n"
   ]
  },
  {
   "cell_type": "code",
   "execution_count": 14,
   "metadata": {
    "_kg_hide-input": true,
    "execution": {
     "iopub.execute_input": "2020-11-11T18:41:18.944300Z",
     "iopub.status.busy": "2020-11-11T18:41:18.769095Z",
     "iopub.status.idle": "2020-11-11T18:41:18.949820Z",
     "shell.execute_reply": "2020-11-11T18:41:18.948811Z"
    },
    "papermill": {
     "duration": 0.428698,
     "end_time": "2020-11-11T18:41:18.950308",
     "exception": false,
     "start_time": "2020-11-11T18:41:18.521610",
     "status": "completed"
    },
    "tags": []
   },
   "outputs": [
    {
     "name": "stdout",
     "output_type": "stream",
     "text": [
      "Top-2 features: \n",
      " ['Sex', 'Adress']\n"
     ]
    }
   ],
   "source": [
    "columns = BC.drop(['CLASS'], axis=1).columns.to_list()\n",
    "reliefF_features = []\n",
    "for feature in features:\n",
    "    for column in columns:\n",
    "        idx = (BC.drop(['CLASS'], axis=1)[column] == feature)\n",
    "        if idx.all() == True:\n",
    "            reliefF_features.append(column)\n",
    "\n",
    "print('Top-2 features: \\n', reliefF_features)"
   ]
  },
  {
   "cell_type": "code",
   "execution_count": 15,
   "metadata": {},
   "outputs": [],
   "source": [
    "\n",
    "X=BC.drop([\"CLASS\",\"Age\",\"FBS\",\"Urea\",\"Creatinin\",\"CA15\",\"CEA\",\"ALB\",\"TCa\",\"GPT\",\"GOT\",\"ALP\",\"WBC\",\"RBC\",\"PLT\",\"ESR\",\"LDH\",\"K\",\"Na\",\"CL\",\"HGB\"],axis=1)\n",
    "Y=BC[\"CLASS\"] \n"
   ]
  },
  {
   "cell_type": "code",
   "execution_count": 16,
   "metadata": {},
   "outputs": [
    {
     "data": {
      "text/plain": [
       "((2437, 2), (2437,))"
      ]
     },
     "execution_count": 16,
     "metadata": {},
     "output_type": "execute_result"
    }
   ],
   "source": [
    "X.shape,Y.shape\n",
    "\n"
   ]
  },
  {
   "cell_type": "code",
   "execution_count": 17,
   "metadata": {},
   "outputs": [
    {
     "data": {
      "text/plain": [
       "0.6305418719211823"
      ]
     },
     "execution_count": 17,
     "metadata": {},
     "output_type": "execute_result"
    }
   ],
   "source": [
    "from sklearn.model_selection import train_test_split\n",
    "\n",
    "x_train, x_test, y_train, y_test = train_test_split(X, Y, \n",
    "                                                    test_size=0.25)\n",
    "\n",
    "from sklearn.tree import DecisionTreeClassifier\n",
    "\n",
    "D_classifier= DecisionTreeClassifier(random_state=0) \n",
    "D_classifier.fit(x_train,y_train) \n",
    "D_classifier.score(x_train,y_train)\n",
    "\n"
   ]
  },
  {
   "cell_type": "code",
   "execution_count": 18,
   "metadata": {},
   "outputs": [
    {
     "data": {
      "text/plain": [
       "0.6524590163934426"
      ]
     },
     "execution_count": 18,
     "metadata": {},
     "output_type": "execute_result"
    }
   ],
   "source": [
    "y_pred=D_classifier.predict_proba(x_test)[:,1]\n",
    "\n",
    "\n",
    "new_y=[]\n",
    "for i in range (len(y_pred)):\n",
    "    if y_pred[i]<0.5:\n",
    "        new_y.append(0)\n",
    "    else:\n",
    "        new_y.append(1)\n",
    "\n",
    "from sklearn.metrics import accuracy_score\n",
    "\n",
    "\n",
    "accuracy_score(y_test,new_y)\n",
    "\n"
   ]
  },
  {
   "cell_type": "code",
   "execution_count": 19,
   "metadata": {},
   "outputs": [
    {
     "name": "stdout",
     "output_type": "stream",
     "text": [
      "mean_absolute_error is = 0.4479528503247807\n",
      "mean_squared_error is = 0.4734025145439847\n"
     ]
    }
   ],
   "source": [
    "\n",
    "from sklearn.metrics import mean_absolute_error\n",
    "from sklearn.metrics import mean_squared_error\n",
    "\n",
    "\n",
    "MAEVale=mean_absolute_error(y_test,y_pred,multioutput=\"uniform_average\")\n",
    "print(\"mean_absolute_error is =\",MAEVale)\n",
    "\n",
    "MSEVale=mean_squared_error(y_test,y_pred,multioutput=\"uniform_average\")\n",
    "RmseVal=np.sqrt(MSEVale)\n",
    "print(\"mean_squared_error is =\",RmseVal)\n"
   ]
  },
  {
   "cell_type": "code",
   "execution_count": 20,
   "metadata": {},
   "outputs": [
    {
     "name": "stdout",
     "output_type": "stream",
     "text": [
      "Decision Tree  classifiers  confusion_matrix\n",
      "Decision Tree classifier Trining Accurcy = 0.6305418719211823\n",
      "Decision Tree classifier Testing Accurcy =  0.6524590163934426\n",
      "[[262  90]\n",
      " [122 136]]\n"
     ]
    },
    {
     "data": {
      "text/plain": [
       "Text(34.0, 0.5, 'Acutl')"
      ]
     },
     "execution_count": 20,
     "metadata": {},
     "output_type": "execute_result"
    },
    {
     "data": {
      "image/png": "[encoded data removed]",
      "text/plain": [
       "<Figure size 432x288 with 2 Axes>"
      ]
     },
     "metadata": {
      "needs_background": "light"
     },
     "output_type": "display_data"
    }
   ],
   "source": [
    "from sklearn.metrics import confusion_matrix\n",
    "\n",
    "print(\"Decision Tree  classifiers  confusion_matrix\")\n",
    "cm=confusion_matrix(y_test,new_y)\n",
    "TN=cm[0][0]\n",
    "TP=cm[1][1]\n",
    "FP=cm[0][1]\n",
    "FN=cm[1][0]\n",
    "\n",
    "print('Decision Tree classifier Trining Accurcy =',D_classifier.score(x_train,y_train) )\n",
    "print('Decision Tree classifier Testing Accurcy = ',(TP+TN)/(TP+TN+FP+FN))\n",
    "print(cm)\n",
    "                            \n",
    "sns.heatmap(cm,annot=True)\n",
    "plt.title(\"Decision Tree classifier confusion_matrix \")\n",
    "plt.xlabel(\"Predication\")\n",
    "plt.ylabel(\"Acutl\")"
   ]
  },
  {
   "cell_type": "code",
   "execution_count": 21,
   "metadata": {},
   "outputs": [
    {
     "name": "stdout",
     "output_type": "stream",
     "text": [
      "classification_report Decision Tree\n",
      ".......................................\n",
      "              precision    recall  f1-score   support\n",
      "\n",
      "           0       0.68      0.74      0.71       352\n",
      "           1       0.60      0.52      0.55       258\n",
      "\n",
      "    accuracy                           0.65       610\n",
      "   macro avg       0.64      0.63      0.63       610\n",
      "weighted avg       0.64      0.65      0.64       610\n",
      "\n",
      "accuracy_score= 0.6475409836065574\n"
     ]
    }
   ],
   "source": [
    "\n",
    "### CLASSIFACTION Report\n",
    "\n",
    "from sklearn.metrics import classification_report\n",
    "from sklearn.metrics import accuracy_score\n",
    "\n",
    "y_pred=D_classifier.predict(x_test)\n",
    "print('classification_report Decision Tree')\n",
    "print('.......................................') \n",
    "\n",
    "print(classification_report(y_test,y_pred)) \n",
    "print(\"accuracy_score=\",accuracy_score(y_test,y_pred)) \n"
   ]
  },
  {
   "cell_type": "markdown",
   "metadata": {},
   "source": [
    "## تدريب النموذج علي أفضل 3 سمة بعد معالجة القيم المفقودة\n"
   ]
  },
  {
   "cell_type": "code",
   "execution_count": 22,
   "metadata": {},
   "outputs": [
    {
     "name": "stdout",
     "output_type": "stream",
     "text": [
      "Top-3 features: \n",
      " ['Sex', 'Adress', 'LDH']\n"
     ]
    }
   ],
   "source": [
    "\n",
    "fs = ReliefF(n_neighbors=1, n_features_to_keep= 3)\n",
    "features = fs.fit_transform(BC.drop(['CLASS'], axis=1).to_numpy(), BC['CLASS'].to_numpy()).T\n",
    "\n",
    "columns = BC.drop(['CLASS'], axis=1).columns.to_list()\n",
    "reliefF_features = []\n",
    "for feature in features:\n",
    "    for column in columns:\n",
    "        idx = (BC.drop(['CLASS'], axis=1)[column] == feature)\n",
    "        if idx.all() == True:\n",
    "            reliefF_features.append(column)\n",
    "\n",
    "print('Top-3 features: \\n', reliefF_features)"
   ]
  },
  {
   "cell_type": "code",
   "execution_count": 23,
   "metadata": {},
   "outputs": [
    {
     "data": {
      "text/plain": [
       "(2437, 3)"
      ]
     },
     "execution_count": 23,
     "metadata": {},
     "output_type": "execute_result"
    }
   ],
   "source": [
    "\n",
    "\n",
    "\n",
    "X=BC.drop([\"CLASS\",\"Age\",\"FBS\",\"Urea\",\"Creatinin\",\"CA15\",\"CEA\",\"ALB\",\"TCa\",\"GPT\",\"GOT\",\"ALP\",\"WBC\",\"RBC\",\"PLT\",\"ESR\",\"K\",\"Na\",\"CL\",\"HGB\"],axis=1)\n",
    "Y=BC[\"CLASS\"] \n",
    "\n",
    "\n",
    "X.shape\n"
   ]
  },
  {
   "cell_type": "code",
   "execution_count": 24,
   "metadata": {},
   "outputs": [
    {
     "data": {
      "text/plain": [
       "((2437, 3), (2437,))"
      ]
     },
     "execution_count": 24,
     "metadata": {},
     "output_type": "execute_result"
    }
   ],
   "source": [
    "X.shape,Y.shape\n",
    "\n"
   ]
  },
  {
   "cell_type": "code",
   "execution_count": 25,
   "metadata": {},
   "outputs": [
    {
     "data": {
      "text/plain": [
       "0.8067870826491517"
      ]
     },
     "execution_count": 25,
     "metadata": {},
     "output_type": "execute_result"
    }
   ],
   "source": [
    "from sklearn.model_selection import train_test_split\n",
    "\n",
    "x_train, x_test, y_train, y_test = train_test_split(X, Y, \n",
    "                                                    test_size=0.25)\n",
    "\n",
    "from sklearn.tree import DecisionTreeClassifier\n",
    "\n",
    "D_classifier= DecisionTreeClassifier(random_state=0) \n",
    "D_classifier.fit(x_train,y_train) \n",
    "D_classifier.score(x_train,y_train)\n",
    "\n"
   ]
  },
  {
   "cell_type": "code",
   "execution_count": 26,
   "metadata": {},
   "outputs": [
    {
     "data": {
      "text/plain": [
       "0.7032786885245902"
      ]
     },
     "execution_count": 26,
     "metadata": {},
     "output_type": "execute_result"
    }
   ],
   "source": [
    "y_pred=D_classifier.predict_proba(x_test)[:,1]\n",
    "\n",
    "\n",
    "new_y=[]\n",
    "for i in range (len(y_pred)):\n",
    "    if y_pred[i]<0.5:\n",
    "        new_y.append(0)\n",
    "    else:\n",
    "        new_y.append(1)\n",
    "\n",
    "from sklearn.metrics import accuracy_score\n",
    "\n",
    "\n",
    "accuracy_score(y_test,new_y)\n",
    "\n"
   ]
  },
  {
   "cell_type": "code",
   "execution_count": 27,
   "metadata": {},
   "outputs": [
    {
     "name": "stdout",
     "output_type": "stream",
     "text": [
      "mean_absolute_error is = 0.34749085514455963\n",
      "mean_squared_error is = 0.47871446571324444\n"
     ]
    }
   ],
   "source": [
    "\n",
    "from sklearn.metrics import mean_absolute_error\n",
    "from sklearn.metrics import mean_squared_error\n",
    "\n",
    "\n",
    "MAEVale=mean_absolute_error(y_test,y_pred,multioutput=\"uniform_average\")\n",
    "print(\"mean_absolute_error is =\",MAEVale)\n",
    "\n",
    "MSEVale=mean_squared_error(y_test,y_pred,multioutput=\"uniform_average\")\n",
    "RmseVal=np.sqrt(MSEVale)\n",
    "print(\"mean_squared_error is =\",RmseVal)\n"
   ]
  },
  {
   "cell_type": "code",
   "execution_count": 28,
   "metadata": {},
   "outputs": [
    {
     "name": "stdout",
     "output_type": "stream",
     "text": [
      "Decision Tree  classifiers  confusion_matrix\n",
      "Decision Tree classifier Trining Accurcy = 0.8067870826491517\n",
      "Decision Tree classifier Testing Accurcy =  0.7032786885245902\n",
      "[[233 102]\n",
      " [ 79 196]]\n"
     ]
    },
    {
     "data": {
      "text/plain": [
       "Text(34.0, 0.5, 'Acutl')"
      ]
     },
     "execution_count": 28,
     "metadata": {},
     "output_type": "execute_result"
    },
    {
     "data": {
      "image/png": "[encoded data removed]",
      "text/plain": [
       "<Figure size 432x288 with 2 Axes>"
      ]
     },
     "metadata": {
      "needs_background": "light"
     },
     "output_type": "display_data"
    }
   ],
   "source": [
    "from sklearn.metrics import confusion_matrix\n",
    "\n",
    "print(\"Decision Tree  classifiers  confusion_matrix\")\n",
    "cm=confusion_matrix(y_test,new_y)\n",
    "TN=cm[0][0]\n",
    "TP=cm[1][1]\n",
    "FP=cm[0][1]\n",
    "FN=cm[1][0]\n",
    "\n",
    "print('Decision Tree classifier Trining Accurcy =',D_classifier.score(x_train,y_train) )\n",
    "print('Decision Tree classifier Testing Accurcy = ',(TP+TN)/(TP+TN+FP+FN))\n",
    "print(cm)\n",
    "                            \n",
    "sns.heatmap(cm,annot=True)\n",
    "plt.title(\"Decision Tree classifier confusion_matrix \")\n",
    "plt.xlabel(\"Predication\")\n",
    "plt.ylabel(\"Acutl\")"
   ]
  },
  {
   "cell_type": "code",
   "execution_count": 29,
   "metadata": {},
   "outputs": [
    {
     "name": "stdout",
     "output_type": "stream",
     "text": [
      "classification_report Decision Tree\n",
      ".......................................\n",
      "              precision    recall  f1-score   support\n",
      "\n",
      "           0       0.71      0.75      0.73       335\n",
      "           1       0.67      0.63      0.65       275\n",
      "\n",
      "    accuracy                           0.70       610\n",
      "   macro avg       0.69      0.69      0.69       610\n",
      "weighted avg       0.69      0.70      0.69       610\n",
      "\n",
      "accuracy_score= 0.6950819672131148\n"
     ]
    }
   ],
   "source": [
    "\n",
    "### CLASSIFACTION Report\n",
    "\n",
    "from sklearn.metrics import classification_report\n",
    "from sklearn.metrics import accuracy_score\n",
    "\n",
    "y_pred=D_classifier.predict(x_test)\n",
    "print('classification_report Decision Tree')\n",
    "print('.......................................') \n",
    "\n",
    "print(classification_report(y_test,y_pred)) \n",
    "print(\"accuracy_score=\",accuracy_score(y_test,y_pred)) \n"
   ]
  },
  {
   "cell_type": "markdown",
   "metadata": {},
   "source": [
    "## تدريب النموذج علي أفضل 4 سمة بعد معالجة القيم المفقودة\n"
   ]
  },
  {
   "cell_type": "code",
   "execution_count": 30,
   "metadata": {},
   "outputs": [
    {
     "name": "stdout",
     "output_type": "stream",
     "text": [
      "Top-4 features: \n",
      " ['Sex', 'Adress', 'LDH', 'CL']\n"
     ]
    }
   ],
   "source": [
    "\n",
    "fs = ReliefF(n_neighbors=1, n_features_to_keep= 4)\n",
    "features = fs.fit_transform(BC.drop(['CLASS'], axis=1).to_numpy(), BC['CLASS'].to_numpy()).T\n",
    "\n",
    "columns = BC.drop(['CLASS'], axis=1).columns.to_list()\n",
    "reliefF_features = []\n",
    "for feature in features:\n",
    "    for column in columns:\n",
    "        idx = (BC.drop(['CLASS'], axis=1)[column] == feature)\n",
    "        if idx.all() == True:\n",
    "            reliefF_features.append(column)\n",
    "\n",
    "print('Top-4 features: \\n', reliefF_features)"
   ]
  },
  {
   "cell_type": "code",
   "execution_count": 31,
   "metadata": {},
   "outputs": [
    {
     "data": {
      "text/plain": [
       "(2437, 4)"
      ]
     },
     "execution_count": 31,
     "metadata": {},
     "output_type": "execute_result"
    }
   ],
   "source": [
    "\n",
    "\n",
    "\n",
    "X=BC.drop([\"CLASS\",\"Age\",\"FBS\",\"Urea\",\"Creatinin\",\"CA15\",\"CEA\",\"ALB\",\"TCa\",\"GPT\",\"GOT\",\"ALP\",\"WBC\",\"RBC\",\"PLT\",\"ESR\",\"K\",\"Na\",\"HGB\"],axis=1)\n",
    "Y=BC[\"CLASS\"] \n",
    "\n",
    "\n",
    "X.shape\n"
   ]
  },
  {
   "cell_type": "code",
   "execution_count": 32,
   "metadata": {},
   "outputs": [
    {
     "data": {
      "text/plain": [
       "((2437, 4), (2437,))"
      ]
     },
     "execution_count": 32,
     "metadata": {},
     "output_type": "execute_result"
    }
   ],
   "source": [
    "X.shape,Y.shape\n",
    "\n"
   ]
  },
  {
   "cell_type": "code",
   "execution_count": 33,
   "metadata": {},
   "outputs": [
    {
     "data": {
      "text/plain": [
       "0.9507389162561576"
      ]
     },
     "execution_count": 33,
     "metadata": {},
     "output_type": "execute_result"
    }
   ],
   "source": [
    "from sklearn.model_selection import train_test_split\n",
    "\n",
    "x_train, x_test, y_train, y_test = train_test_split(X, Y, \n",
    "                                                    test_size=0.25)\n",
    "\n",
    "from sklearn.tree import DecisionTreeClassifier\n",
    "\n",
    "D_classifier= DecisionTreeClassifier(random_state=0) \n",
    "D_classifier.fit(x_train,y_train) \n",
    "D_classifier.score(x_train,y_train)\n",
    "\n"
   ]
  },
  {
   "cell_type": "code",
   "execution_count": 34,
   "metadata": {},
   "outputs": [
    {
     "data": {
      "text/plain": [
       "0.6721311475409836"
      ]
     },
     "execution_count": 34,
     "metadata": {},
     "output_type": "execute_result"
    }
   ],
   "source": [
    "y_pred=D_classifier.predict_proba(x_test)[:,1]\n",
    "\n",
    "\n",
    "new_y=[]\n",
    "for i in range (len(y_pred)):\n",
    "    if y_pred[i]<0.5:\n",
    "        new_y.append(0)\n",
    "    else:\n",
    "        new_y.append(1)\n",
    "\n",
    "from sklearn.metrics import accuracy_score\n",
    "\n",
    "\n",
    "accuracy_score(y_test,new_y)\n",
    "\n"
   ]
  },
  {
   "cell_type": "code",
   "execution_count": 35,
   "metadata": {},
   "outputs": [
    {
     "name": "stdout",
     "output_type": "stream",
     "text": [
      "mean_absolute_error is = 0.3343217893217893\n",
      "mean_squared_error is = 0.5547793902827401\n"
     ]
    }
   ],
   "source": [
    "\n",
    "from sklearn.metrics import mean_absolute_error\n",
    "from sklearn.metrics import mean_squared_error\n",
    "\n",
    "\n",
    "MAEVale=mean_absolute_error(y_test,y_pred,multioutput=\"uniform_average\")\n",
    "print(\"mean_absolute_error is =\",MAEVale)\n",
    "\n",
    "MSEVale=mean_squared_error(y_test,y_pred,multioutput=\"uniform_average\")\n",
    "RmseVal=np.sqrt(MSEVale)\n",
    "print(\"mean_squared_error is =\",RmseVal)\n"
   ]
  },
  {
   "cell_type": "code",
   "execution_count": 36,
   "metadata": {},
   "outputs": [
    {
     "name": "stdout",
     "output_type": "stream",
     "text": [
      "Decision Tree  classifiers  confusion_matrix\n",
      "Decision Tree classifier Trining Accurcy = 0.9507389162561576\n",
      "Decision Tree classifier Testing Accurcy =  0.6721311475409836\n",
      "[[225 123]\n",
      " [ 77 185]]\n"
     ]
    },
    {
     "data": {
      "text/plain": [
       "Text(34.0, 0.5, 'Acutl')"
      ]
     },
     "execution_count": 36,
     "metadata": {},
     "output_type": "execute_result"
    },
    {
     "data": {
      "image/png": "[encoded data removed]",
      "text/plain": [
       "<Figure size 432x288 with 2 Axes>"
      ]
     },
     "metadata": {
      "needs_background": "light"
     },
     "output_type": "display_data"
    }
   ],
   "source": [
    "from sklearn.metrics import confusion_matrix\n",
    "\n",
    "print(\"Decision Tree  classifiers  confusion_matrix\")\n",
    "cm=confusion_matrix(y_test,new_y)\n",
    "TN=cm[0][0]\n",
    "TP=cm[1][1]\n",
    "FP=cm[0][1]\n",
    "FN=cm[1][0]\n",
    "\n",
    "print('Decision Tree classifier Trining Accurcy =',D_classifier.score(x_train,y_train) )\n",
    "print('Decision Tree classifier Testing Accurcy = ',(TP+TN)/(TP+TN+FP+FN))\n",
    "print(cm)\n",
    "                            \n",
    "sns.heatmap(cm,annot=True)\n",
    "plt.title(\"Decision Tree classifier confusion_matrix \")\n",
    "plt.xlabel(\"Predication\")\n",
    "plt.ylabel(\"Acutl\")"
   ]
  },
  {
   "cell_type": "code",
   "execution_count": 37,
   "metadata": {},
   "outputs": [
    {
     "name": "stdout",
     "output_type": "stream",
     "text": [
      "classification_report Decision Tree\n",
      ".......................................\n",
      "              precision    recall  f1-score   support\n",
      "\n",
      "           0       0.74      0.68      0.71       348\n",
      "           1       0.62      0.68      0.65       262\n",
      "\n",
      "    accuracy                           0.68       610\n",
      "   macro avg       0.68      0.68      0.68       610\n",
      "weighted avg       0.69      0.68      0.68       610\n",
      "\n",
      "accuracy_score= 0.6819672131147541\n"
     ]
    }
   ],
   "source": [
    "\n",
    "### CLASSIFACTION Report\n",
    "\n",
    "from sklearn.metrics import classification_report\n",
    "from sklearn.metrics import accuracy_score\n",
    "\n",
    "y_pred=D_classifier.predict(x_test)\n",
    "print('classification_report Decision Tree')\n",
    "print('.......................................') \n",
    "\n",
    "print(classification_report(y_test,y_pred)) \n",
    "print(\"accuracy_score=\",accuracy_score(y_test,y_pred)) \n"
   ]
  },
  {
   "cell_type": "markdown",
   "metadata": {},
   "source": [
    "## تدريب النموذج علي أفضل5 سمة بعد معالجة القيم المفقودة\n"
   ]
  },
  {
   "cell_type": "code",
   "execution_count": 38,
   "metadata": {},
   "outputs": [
    {
     "name": "stdout",
     "output_type": "stream",
     "text": [
      "Top-5 features: \n",
      " ['Sex', 'Adress', 'LDH', 'CL', 'Creatinin']\n"
     ]
    }
   ],
   "source": [
    "\n",
    "fs = ReliefF(n_neighbors=1, n_features_to_keep= 5)\n",
    "features = fs.fit_transform(BC.drop(['CLASS'], axis=1).to_numpy(), BC['CLASS'].to_numpy()).T\n",
    "\n",
    "columns = BC.drop(['CLASS'], axis=1).columns.to_list()\n",
    "reliefF_features = []\n",
    "for feature in features:\n",
    "    for column in columns:\n",
    "        idx = (BC.drop(['CLASS'], axis=1)[column] == feature)\n",
    "        if idx.all() == True:\n",
    "            reliefF_features.append(column)\n",
    "\n",
    "print('Top-5 features: \\n', reliefF_features)"
   ]
  },
  {
   "cell_type": "code",
   "execution_count": 39,
   "metadata": {},
   "outputs": [
    {
     "data": {
      "text/plain": [
       "(2437, 5)"
      ]
     },
     "execution_count": 39,
     "metadata": {},
     "output_type": "execute_result"
    }
   ],
   "source": [
    "\n",
    "\n",
    "\n",
    "X=BC.drop([\"CLASS\",\"Age\",\"FBS\",\"Urea\",\"CA15\",\"CEA\",\"ALB\",\"TCa\",\"GPT\",\"GOT\",\"ALP\",\"WBC\",\"RBC\",\"PLT\",\"ESR\",\"K\",\"Na\",\"HGB\"],axis=1)\n",
    "Y=BC[\"CLASS\"] \n",
    "\n",
    "\n",
    "X.shape\n"
   ]
  },
  {
   "cell_type": "code",
   "execution_count": 40,
   "metadata": {},
   "outputs": [
    {
     "data": {
      "text/plain": [
       "((2437, 5), (2437,))"
      ]
     },
     "execution_count": 40,
     "metadata": {},
     "output_type": "execute_result"
    }
   ],
   "source": [
    "X.shape,Y.shape\n",
    "\n"
   ]
  },
  {
   "cell_type": "code",
   "execution_count": 41,
   "metadata": {},
   "outputs": [
    {
     "data": {
      "text/plain": [
       "0.9835796387520526"
      ]
     },
     "execution_count": 41,
     "metadata": {},
     "output_type": "execute_result"
    }
   ],
   "source": [
    "from sklearn.model_selection import train_test_split\n",
    "\n",
    "x_train, x_test, y_train, y_test = train_test_split(X, Y, \n",
    "                                                    test_size=0.25)\n",
    "\n",
    "from sklearn.tree import DecisionTreeClassifier\n",
    "\n",
    "D_classifier= DecisionTreeClassifier(random_state=0) \n",
    "D_classifier.fit(x_train,y_train) \n",
    "D_classifier.score(x_train,y_train)\n",
    "\n"
   ]
  },
  {
   "cell_type": "code",
   "execution_count": 42,
   "metadata": {},
   "outputs": [
    {
     "data": {
      "text/plain": [
       "0.6540983606557377"
      ]
     },
     "execution_count": 42,
     "metadata": {},
     "output_type": "execute_result"
    }
   ],
   "source": [
    "y_pred=D_classifier.predict_proba(x_test)[:,1]\n",
    "\n",
    "\n",
    "new_y=[]\n",
    "for i in range (len(y_pred)):\n",
    "    if y_pred[i]<0.5:\n",
    "        new_y.append(0)\n",
    "    else:\n",
    "        new_y.append(1)\n",
    "\n",
    "from sklearn.metrics import accuracy_score\n",
    "\n",
    "\n",
    "accuracy_score(y_test,new_y)\n",
    "\n"
   ]
  },
  {
   "cell_type": "code",
   "execution_count": 43,
   "metadata": {},
   "outputs": [
    {
     "name": "stdout",
     "output_type": "stream",
     "text": [
      "mean_absolute_error is = 0.34970530835284935\n",
      "mean_squared_error is = 0.5855726050057705\n"
     ]
    }
   ],
   "source": [
    "\n",
    "from sklearn.metrics import mean_absolute_error\n",
    "from sklearn.metrics import mean_squared_error\n",
    "\n",
    "\n",
    "MAEVale=mean_absolute_error(y_test,y_pred,multioutput=\"uniform_average\")\n",
    "print(\"mean_absolute_error is =\",MAEVale)\n",
    "\n",
    "MSEVale=mean_squared_error(y_test,y_pred,multioutput=\"uniform_average\")\n",
    "RmseVal=np.sqrt(MSEVale)\n",
    "print(\"mean_squared_error is =\",RmseVal)\n"
   ]
  },
  {
   "cell_type": "code",
   "execution_count": 44,
   "metadata": {},
   "outputs": [
    {
     "name": "stdout",
     "output_type": "stream",
     "text": [
      "Decision Tree  classifiers  confusion_matrix\n",
      "Decision Tree classifier Trining Accurcy = 0.9835796387520526\n",
      "Decision Tree classifier Testing Accurcy =  0.6540983606557377\n",
      "[[229 111]\n",
      " [100 170]]\n"
     ]
    },
    {
     "data": {
      "text/plain": [
       "Text(34.0, 0.5, 'Acutl')"
      ]
     },
     "execution_count": 44,
     "metadata": {},
     "output_type": "execute_result"
    },
    {
     "data": {
      "image/png": "[encoded data removed]",
      "text/plain": [
       "<Figure size 432x288 with 2 Axes>"
      ]
     },
     "metadata": {
      "needs_background": "light"
     },
     "output_type": "display_data"
    }
   ],
   "source": [
    "from sklearn.metrics import confusion_matrix\n",
    "\n",
    "print(\"Decision Tree  classifiers  confusion_matrix\")\n",
    "cm=confusion_matrix(y_test,new_y)\n",
    "TN=cm[0][0]\n",
    "TP=cm[1][1]\n",
    "FP=cm[0][1]\n",
    "FN=cm[1][0]\n",
    "\n",
    "print('Decision Tree classifier Trining Accurcy =',D_classifier.score(x_train,y_train) )\n",
    "print('Decision Tree classifier Testing Accurcy = ',(TP+TN)/(TP+TN+FP+FN))\n",
    "print(cm)\n",
    "                            \n",
    "sns.heatmap(cm,annot=True)\n",
    "plt.title(\"Decision Tree classifier confusion_matrix \")\n",
    "plt.xlabel(\"Predication\")\n",
    "plt.ylabel(\"Acutl\")"
   ]
  },
  {
   "cell_type": "code",
   "execution_count": 45,
   "metadata": {},
   "outputs": [
    {
     "name": "stdout",
     "output_type": "stream",
     "text": [
      "classification_report Decision Tree\n",
      ".......................................\n",
      "              precision    recall  f1-score   support\n",
      "\n",
      "           0       0.70      0.69      0.69       340\n",
      "           1       0.61      0.62      0.62       270\n",
      "\n",
      "    accuracy                           0.66       610\n",
      "   macro avg       0.65      0.65      0.65       610\n",
      "weighted avg       0.66      0.66      0.66       610\n",
      "\n",
      "accuracy_score= 0.6573770491803279\n"
     ]
    }
   ],
   "source": [
    "\n",
    "### CLASSIFACTION Report\n",
    "\n",
    "from sklearn.metrics import classification_report\n",
    "from sklearn.metrics import accuracy_score\n",
    "\n",
    "y_pred=D_classifier.predict(x_test)\n",
    "print('classification_report Decision Tree')\n",
    "print('.......................................') \n",
    "\n",
    "print(classification_report(y_test,y_pred)) \n",
    "print(\"accuracy_score=\",accuracy_score(y_test,y_pred)) \n"
   ]
  },
  {
   "cell_type": "markdown",
   "metadata": {},
   "source": [
    "## تدريب النموذج علي أفضل 6 سمة بعد معالجة القيم المفقودة\n"
   ]
  },
  {
   "cell_type": "code",
   "execution_count": 46,
   "metadata": {
    "scrolled": true
   },
   "outputs": [
    {
     "name": "stdout",
     "output_type": "stream",
     "text": [
      "Top-6 features: \n",
      " ['Sex', 'Adress', 'LDH', 'CL', 'Creatinin', 'FBS']\n"
     ]
    }
   ],
   "source": [
    "\n",
    "fs = ReliefF(n_neighbors=1, n_features_to_keep= 6)\n",
    "features = fs.fit_transform(BC.drop(['CLASS'], axis=1).to_numpy(), BC['CLASS'].to_numpy()).T\n",
    "\n",
    "columns = BC.drop(['CLASS'], axis=1).columns.to_list()\n",
    "reliefF_features = []\n",
    "for feature in features:\n",
    "    for column in columns:\n",
    "        idx = (BC.drop(['CLASS'], axis=1)[column] == feature)\n",
    "        if idx.all() == True:\n",
    "            reliefF_features.append(column)\n",
    "\n",
    "print('Top-6 features: \\n', reliefF_features)"
   ]
  },
  {
   "cell_type": "code",
   "execution_count": 47,
   "metadata": {},
   "outputs": [
    {
     "data": {
      "text/plain": [
       "(2437, 6)"
      ]
     },
     "execution_count": 47,
     "metadata": {},
     "output_type": "execute_result"
    }
   ],
   "source": [
    "\n",
    "\n",
    "\n",
    "X=BC.drop([\"CLASS\",\"Age\",\"Urea\",\"CA15\",\"CEA\",\"ALB\",\"TCa\",\"GPT\",\"GOT\",\"ALP\",\"WBC\",\"RBC\",\"PLT\",\"ESR\",\"K\",\"Na\",\"HGB\"],axis=1)\n",
    "Y=BC[\"CLASS\"] \n",
    "\n",
    "\n",
    "X.shape\n"
   ]
  },
  {
   "cell_type": "code",
   "execution_count": 48,
   "metadata": {},
   "outputs": [
    {
     "data": {
      "text/plain": [
       "((2437, 6), (2437,))"
      ]
     },
     "execution_count": 48,
     "metadata": {},
     "output_type": "execute_result"
    }
   ],
   "source": [
    "X.shape,Y.shape\n",
    "\n"
   ]
  },
  {
   "cell_type": "code",
   "execution_count": 49,
   "metadata": {},
   "outputs": [
    {
     "data": {
      "text/plain": [
       "1.0"
      ]
     },
     "execution_count": 49,
     "metadata": {},
     "output_type": "execute_result"
    }
   ],
   "source": [
    "from sklearn.model_selection import train_test_split\n",
    "\n",
    "x_train, x_test, y_train, y_test = train_test_split(X, Y, \n",
    "                                                    test_size=0.25)\n",
    "\n",
    "from sklearn.tree import DecisionTreeClassifier\n",
    "\n",
    "D_classifier= DecisionTreeClassifier(random_state=0) \n",
    "D_classifier.fit(x_train,y_train) \n",
    "D_classifier.score(x_train,y_train)\n",
    "\n"
   ]
  },
  {
   "cell_type": "code",
   "execution_count": 50,
   "metadata": {},
   "outputs": [
    {
     "data": {
      "text/plain": [
       "0.7344262295081967"
      ]
     },
     "execution_count": 50,
     "metadata": {},
     "output_type": "execute_result"
    }
   ],
   "source": [
    "y_pred=D_classifier.predict_proba(x_test)[:,1]\n",
    "\n",
    "\n",
    "new_y=[]\n",
    "for i in range (len(y_pred)):\n",
    "    if y_pred[i]<0.5:\n",
    "        new_y.append(0)\n",
    "    else:\n",
    "        new_y.append(1)\n",
    "\n",
    "from sklearn.metrics import accuracy_score\n",
    "\n",
    "\n",
    "accuracy_score(y_test,new_y)\n",
    "\n"
   ]
  },
  {
   "cell_type": "code",
   "execution_count": 51,
   "metadata": {},
   "outputs": [
    {
     "name": "stdout",
     "output_type": "stream",
     "text": [
      "mean_absolute_error is = 0.26557377049180325\n",
      "mean_squared_error is = 0.5153385008824813\n"
     ]
    }
   ],
   "source": [
    "\n",
    "from sklearn.metrics import mean_absolute_error\n",
    "from sklearn.metrics import mean_squared_error\n",
    "\n",
    "\n",
    "MAEVale=mean_absolute_error(y_test,y_pred,multioutput=\"uniform_average\")\n",
    "print(\"mean_absolute_error is =\",MAEVale)\n",
    "\n",
    "MSEVale=mean_squared_error(y_test,y_pred,multioutput=\"uniform_average\")\n",
    "RmseVal=np.sqrt(MSEVale)\n",
    "print(\"mean_squared_error is =\",RmseVal)\n"
   ]
  },
  {
   "cell_type": "code",
   "execution_count": 52,
   "metadata": {},
   "outputs": [
    {
     "name": "stdout",
     "output_type": "stream",
     "text": [
      "Decision Tree  classifiers  confusion_matrix\n",
      "Decision Tree classifier Trining Accurcy = 1.0\n",
      "Decision Tree classifier Testing Accurcy =  0.7344262295081967\n",
      "[[256  93]\n",
      " [ 69 192]]\n"
     ]
    },
    {
     "data": {
      "text/plain": [
       "Text(34.0, 0.5, 'Acutl')"
      ]
     },
     "execution_count": 52,
     "metadata": {},
     "output_type": "execute_result"
    },
    {
     "data": {
      "image/png": "[encoded data removed]",
      "text/plain": [
       "<Figure size 432x288 with 2 Axes>"
      ]
     },
     "metadata": {
      "needs_background": "light"
     },
     "output_type": "display_data"
    }
   ],
   "source": [
    "from sklearn.metrics import confusion_matrix\n",
    "\n",
    "print(\"Decision Tree  classifiers  confusion_matrix\")\n",
    "cm=confusion_matrix(y_test,new_y)\n",
    "TN=cm[0][0]\n",
    "TP=cm[1][1]\n",
    "FP=cm[0][1]\n",
    "FN=cm[1][0]\n",
    "\n",
    "print('Decision Tree classifier Trining Accurcy =',D_classifier.score(x_train,y_train) )\n",
    "print('Decision Tree classifier Testing Accurcy = ',(TP+TN)/(TP+TN+FP+FN))\n",
    "print(cm)\n",
    "                            \n",
    "sns.heatmap(cm,annot=True)\n",
    "plt.title(\"Decision Tree classifier confusion_matrix \")\n",
    "plt.xlabel(\"Predication\")\n",
    "plt.ylabel(\"Acutl\")"
   ]
  },
  {
   "cell_type": "code",
   "execution_count": 53,
   "metadata": {},
   "outputs": [
    {
     "name": "stdout",
     "output_type": "stream",
     "text": [
      "classification_report Decision Tree\n",
      ".......................................\n",
      "              precision    recall  f1-score   support\n",
      "\n",
      "           0       0.79      0.73      0.76       349\n",
      "           1       0.67      0.74      0.70       261\n",
      "\n",
      "    accuracy                           0.73       610\n",
      "   macro avg       0.73      0.73      0.73       610\n",
      "weighted avg       0.74      0.73      0.74       610\n",
      "\n",
      "accuracy_score= 0.7344262295081967\n"
     ]
    }
   ],
   "source": [
    "\n",
    "### CLASSIFACTION Report\n",
    "\n",
    "from sklearn.metrics import classification_report\n",
    "from sklearn.metrics import accuracy_score\n",
    "\n",
    "y_pred=D_classifier.predict(x_test)\n",
    "print('classification_report Decision Tree')\n",
    "print('.......................................') \n",
    "\n",
    "print(classification_report(y_test,y_pred)) \n",
    "print(\"accuracy_score=\",accuracy_score(y_test,y_pred)) \n"
   ]
  },
  {
   "cell_type": "markdown",
   "metadata": {},
   "source": [
    "## تدريب النموذج علي أفضل7 سمة بعد معالجة القيم المفقودة\n"
   ]
  },
  {
   "cell_type": "code",
   "execution_count": 54,
   "metadata": {},
   "outputs": [
    {
     "name": "stdout",
     "output_type": "stream",
     "text": [
      "Top-7 features: \n",
      " ['Sex', 'Adress', 'LDH', 'CL', 'Creatinin', 'FBS', 'ESR']\n"
     ]
    }
   ],
   "source": [
    "\n",
    "fs = ReliefF(n_neighbors=1, n_features_to_keep= 7)\n",
    "features = fs.fit_transform(BC.drop(['CLASS'], axis=1).to_numpy(), BC['CLASS'].to_numpy()).T\n",
    "\n",
    "columns = BC.drop(['CLASS'], axis=1).columns.to_list()\n",
    "reliefF_features = []\n",
    "for feature in features:\n",
    "    for column in columns:\n",
    "        idx = (BC.drop(['CLASS'], axis=1)[column] == feature)\n",
    "        if idx.all() == True:\n",
    "            reliefF_features.append(column)\n",
    "\n",
    "print('Top-7 features: \\n', reliefF_features)"
   ]
  },
  {
   "cell_type": "code",
   "execution_count": 55,
   "metadata": {},
   "outputs": [
    {
     "data": {
      "text/plain": [
       "(2437, 7)"
      ]
     },
     "execution_count": 55,
     "metadata": {},
     "output_type": "execute_result"
    }
   ],
   "source": [
    "\n",
    "\n",
    "\n",
    "X=BC.drop([\"CLASS\",\"Age\",\"Urea\",\"CA15\",\"CEA\",\"ALB\",\"TCa\",\"GPT\",\"GOT\",\"ALP\",\"WBC\",\"RBC\",\"PLT\",\"K\",\"Na\",\"HGB\"],axis=1)\n",
    "Y=BC[\"CLASS\"] \n",
    "\n",
    "\n",
    "X.shape\n"
   ]
  },
  {
   "cell_type": "code",
   "execution_count": 56,
   "metadata": {},
   "outputs": [
    {
     "data": {
      "text/plain": [
       "((2437, 7), (2437,))"
      ]
     },
     "execution_count": 56,
     "metadata": {},
     "output_type": "execute_result"
    }
   ],
   "source": [
    "X.shape,Y.shape\n",
    "\n"
   ]
  },
  {
   "cell_type": "code",
   "execution_count": 57,
   "metadata": {},
   "outputs": [
    {
     "data": {
      "text/plain": [
       "1.0"
      ]
     },
     "execution_count": 57,
     "metadata": {},
     "output_type": "execute_result"
    }
   ],
   "source": [
    "from sklearn.model_selection import train_test_split\n",
    "\n",
    "x_train, x_test, y_train, y_test = train_test_split(X, Y, \n",
    "                                                    test_size=0.25)\n",
    "\n",
    "from sklearn.tree import DecisionTreeClassifier\n",
    "\n",
    "D_classifier= DecisionTreeClassifier(random_state=0) \n",
    "D_classifier.fit(x_train,y_train) \n",
    "D_classifier.score(x_train,y_train)\n",
    "\n"
   ]
  },
  {
   "cell_type": "code",
   "execution_count": 58,
   "metadata": {},
   "outputs": [
    {
     "data": {
      "text/plain": [
       "0.7508196721311475"
      ]
     },
     "execution_count": 58,
     "metadata": {},
     "output_type": "execute_result"
    }
   ],
   "source": [
    "y_pred=D_classifier.predict_proba(x_test)[:,1]\n",
    "\n",
    "\n",
    "new_y=[]\n",
    "for i in range (len(y_pred)):\n",
    "    if y_pred[i]<0.5:\n",
    "        new_y.append(0)\n",
    "    else:\n",
    "        new_y.append(1)\n",
    "\n",
    "from sklearn.metrics import accuracy_score\n",
    "\n",
    "\n",
    "accuracy_score(y_test,new_y)\n",
    "\n"
   ]
  },
  {
   "cell_type": "code",
   "execution_count": 59,
   "metadata": {},
   "outputs": [
    {
     "name": "stdout",
     "output_type": "stream",
     "text": [
      "mean_absolute_error is = 0.24918032786885247\n",
      "mean_squared_error is = 0.49917965490277394\n"
     ]
    }
   ],
   "source": [
    "\n",
    "from sklearn.metrics import mean_absolute_error\n",
    "from sklearn.metrics import mean_squared_error\n",
    "\n",
    "\n",
    "MAEVale=mean_absolute_error(y_test,y_pred,multioutput=\"uniform_average\")\n",
    "print(\"mean_absolute_error is =\",MAEVale)\n",
    "\n",
    "MSEVale=mean_squared_error(y_test,y_pred,multioutput=\"uniform_average\")\n",
    "RmseVal=np.sqrt(MSEVale)\n",
    "print(\"mean_squared_error is =\",RmseVal)\n"
   ]
  },
  {
   "cell_type": "code",
   "execution_count": 60,
   "metadata": {},
   "outputs": [
    {
     "name": "stdout",
     "output_type": "stream",
     "text": [
      "Decision Tree  classifiers  confusion_matrix\n",
      "Decision Tree classifier Trining Accurcy = 1.0\n",
      "Decision Tree classifier Testing Accurcy =  0.7508196721311475\n",
      "[[265  80]\n",
      " [ 72 193]]\n"
     ]
    },
    {
     "data": {
      "text/plain": [
       "Text(34.0, 0.5, 'Acutl')"
      ]
     },
     "execution_count": 60,
     "metadata": {},
     "output_type": "execute_result"
    },
    {
     "data": {
      "image/png": "[encoded data removed]",
      "text/plain": [
       "<Figure size 432x288 with 2 Axes>"
      ]
     },
     "metadata": {
      "needs_background": "light"
     },
     "output_type": "display_data"
    }
   ],
   "source": [
    "from sklearn.metrics import confusion_matrix\n",
    "\n",
    "print(\"Decision Tree  classifiers  confusion_matrix\")\n",
    "cm=confusion_matrix(y_test,new_y)\n",
    "TN=cm[0][0]\n",
    "TP=cm[1][1]\n",
    "FP=cm[0][1]\n",
    "FN=cm[1][0]\n",
    "\n",
    "print('Decision Tree classifier Trining Accurcy =',D_classifier.score(x_train,y_train) )\n",
    "print('Decision Tree classifier Testing Accurcy = ',(TP+TN)/(TP+TN+FP+FN))\n",
    "print(cm)\n",
    "                            \n",
    "sns.heatmap(cm,annot=True)\n",
    "plt.title(\"Decision Tree classifier confusion_matrix \")\n",
    "plt.xlabel(\"Predication\")\n",
    "plt.ylabel(\"Acutl\")"
   ]
  },
  {
   "cell_type": "code",
   "execution_count": 61,
   "metadata": {},
   "outputs": [
    {
     "name": "stdout",
     "output_type": "stream",
     "text": [
      "classification_report Decision Tree\n",
      ".......................................\n",
      "              precision    recall  f1-score   support\n",
      "\n",
      "           0       0.79      0.77      0.78       345\n",
      "           1       0.71      0.73      0.72       265\n",
      "\n",
      "    accuracy                           0.75       610\n",
      "   macro avg       0.75      0.75      0.75       610\n",
      "weighted avg       0.75      0.75      0.75       610\n",
      "\n",
      "accuracy_score= 0.7508196721311475\n"
     ]
    }
   ],
   "source": [
    "\n",
    "### CLASSIFACTION Report\n",
    "\n",
    "from sklearn.metrics import classification_report\n",
    "from sklearn.metrics import accuracy_score\n",
    "\n",
    "y_pred=D_classifier.predict(x_test)\n",
    "print('classification_report Decision Tree')\n",
    "print('.......................................') \n",
    "\n",
    "print(classification_report(y_test,y_pred)) \n",
    "print(\"accuracy_score=\",accuracy_score(y_test,y_pred)) \n"
   ]
  },
  {
   "cell_type": "markdown",
   "metadata": {},
   "source": [
    "## تدريب النموذج علي أفضل 8 سمة بعد معالجة القيم المفقودة\n"
   ]
  },
  {
   "cell_type": "code",
   "execution_count": 62,
   "metadata": {},
   "outputs": [
    {
     "name": "stdout",
     "output_type": "stream",
     "text": [
      "Top-8 features: \n",
      " ['Sex', 'Adress', 'LDH', 'CL', 'Creatinin', 'FBS', 'ESR', 'GPT']\n"
     ]
    }
   ],
   "source": [
    "\n",
    "fs = ReliefF(n_neighbors=1, n_features_to_keep= 8)\n",
    "features = fs.fit_transform(BC.drop(['CLASS'], axis=1).to_numpy(), BC['CLASS'].to_numpy()).T\n",
    "\n",
    "columns = BC.drop(['CLASS'], axis=1).columns.to_list()\n",
    "reliefF_features = []\n",
    "for feature in features:\n",
    "    for column in columns:\n",
    "        idx = (BC.drop(['CLASS'], axis=1)[column] == feature)\n",
    "        if idx.all() == True:\n",
    "            reliefF_features.append(column)\n",
    "\n",
    "print('Top-8 features: \\n', reliefF_features)"
   ]
  },
  {
   "cell_type": "code",
   "execution_count": 63,
   "metadata": {},
   "outputs": [
    {
     "data": {
      "text/plain": [
       "(2437, 8)"
      ]
     },
     "execution_count": 63,
     "metadata": {},
     "output_type": "execute_result"
    }
   ],
   "source": [
    "\n",
    "\n",
    "\n",
    "X=BC.drop([\"CLASS\",\"Age\",\"Urea\",\"CA15\",\"CEA\",\"ALB\",\"TCa\",\"GOT\",\"ALP\",\"WBC\",\"RBC\",\"PLT\",\"K\",\"Na\",\"HGB\"],axis=1)\n",
    "Y=BC[\"CLASS\"] \n",
    "\n",
    "\n",
    "X.shape\n"
   ]
  },
  {
   "cell_type": "code",
   "execution_count": 64,
   "metadata": {},
   "outputs": [
    {
     "data": {
      "text/plain": [
       "((2437, 8), (2437,))"
      ]
     },
     "execution_count": 64,
     "metadata": {},
     "output_type": "execute_result"
    }
   ],
   "source": [
    "X.shape,Y.shape\n",
    "\n"
   ]
  },
  {
   "cell_type": "code",
   "execution_count": 65,
   "metadata": {},
   "outputs": [
    {
     "data": {
      "text/plain": [
       "1.0"
      ]
     },
     "execution_count": 65,
     "metadata": {},
     "output_type": "execute_result"
    }
   ],
   "source": [
    "from sklearn.model_selection import train_test_split\n",
    "\n",
    "x_train, x_test, y_train, y_test = train_test_split(X, Y, \n",
    "                                                    test_size=0.25)\n",
    "\n",
    "from sklearn.tree import DecisionTreeClassifier\n",
    "\n",
    "D_classifier= DecisionTreeClassifier(random_state=0) \n",
    "D_classifier.fit(x_train,y_train) \n",
    "D_classifier.score(x_train,y_train)\n",
    "\n"
   ]
  },
  {
   "cell_type": "code",
   "execution_count": 66,
   "metadata": {},
   "outputs": [
    {
     "data": {
      "text/plain": [
       "0.7311475409836066"
      ]
     },
     "execution_count": 66,
     "metadata": {},
     "output_type": "execute_result"
    }
   ],
   "source": [
    "y_pred=D_classifier.predict_proba(x_test)[:,1]\n",
    "\n",
    "\n",
    "new_y=[]\n",
    "for i in range (len(y_pred)):\n",
    "    if y_pred[i]<0.5:\n",
    "        new_y.append(0)\n",
    "    else:\n",
    "        new_y.append(1)\n",
    "\n",
    "from sklearn.metrics import accuracy_score\n",
    "\n",
    "\n",
    "accuracy_score(y_test,new_y)\n",
    "\n"
   ]
  },
  {
   "cell_type": "code",
   "execution_count": 67,
   "metadata": {},
   "outputs": [
    {
     "name": "stdout",
     "output_type": "stream",
     "text": [
      "mean_absolute_error is = 0.26885245901639343\n",
      "mean_squared_error is = 0.5185098446668042\n"
     ]
    }
   ],
   "source": [
    "\n",
    "from sklearn.metrics import mean_absolute_error\n",
    "from sklearn.metrics import mean_squared_error\n",
    "\n",
    "\n",
    "MAEVale=mean_absolute_error(y_test,y_pred,multioutput=\"uniform_average\")\n",
    "print(\"mean_absolute_error is =\",MAEVale)\n",
    "\n",
    "MSEVale=mean_squared_error(y_test,y_pred,multioutput=\"uniform_average\")\n",
    "RmseVal=np.sqrt(MSEVale)\n",
    "print(\"mean_squared_error is =\",RmseVal)\n"
   ]
  },
  {
   "cell_type": "code",
   "execution_count": 68,
   "metadata": {},
   "outputs": [
    {
     "name": "stdout",
     "output_type": "stream",
     "text": [
      "Decision Tree  classifiers  confusion_matrix\n",
      "Decision Tree classifier Trining Accurcy = 1.0\n",
      "Decision Tree classifier Testing Accurcy =  0.7311475409836066\n",
      "[[255  77]\n",
      " [ 87 191]]\n"
     ]
    },
    {
     "data": {
      "text/plain": [
       "Text(34.0, 0.5, 'Acutl')"
      ]
     },
     "execution_count": 68,
     "metadata": {},
     "output_type": "execute_result"
    },
    {
     "data": {
      "image/png": "[encoded data removed]",
      "text/plain": [
       "<Figure size 432x288 with 2 Axes>"
      ]
     },
     "metadata": {
      "needs_background": "light"
     },
     "output_type": "display_data"
    }
   ],
   "source": [
    "from sklearn.metrics import confusion_matrix\n",
    "\n",
    "print(\"Decision Tree  classifiers  confusion_matrix\")\n",
    "cm=confusion_matrix(y_test,new_y)\n",
    "TN=cm[0][0]\n",
    "TP=cm[1][1]\n",
    "FP=cm[0][1]\n",
    "FN=cm[1][0]\n",
    "\n",
    "print('Decision Tree classifier Trining Accurcy =',D_classifier.score(x_train,y_train) )\n",
    "print('Decision Tree classifier Testing Accurcy = ',(TP+TN)/(TP+TN+FP+FN))\n",
    "print(cm)\n",
    "                            \n",
    "sns.heatmap(cm,annot=True)\n",
    "plt.title(\"Decision Tree classifier confusion_matrix \")\n",
    "plt.xlabel(\"Predication\")\n",
    "plt.ylabel(\"Acutl\")"
   ]
  },
  {
   "cell_type": "code",
   "execution_count": 69,
   "metadata": {},
   "outputs": [
    {
     "name": "stdout",
     "output_type": "stream",
     "text": [
      "classification_report Decision Tree\n",
      ".......................................\n",
      "              precision    recall  f1-score   support\n",
      "\n",
      "           0       0.75      0.77      0.76       332\n",
      "           1       0.71      0.69      0.70       278\n",
      "\n",
      "    accuracy                           0.73       610\n",
      "   macro avg       0.73      0.73      0.73       610\n",
      "weighted avg       0.73      0.73      0.73       610\n",
      "\n",
      "accuracy_score= 0.7311475409836066\n"
     ]
    }
   ],
   "source": [
    "\n",
    "### CLASSIFACTION Report\n",
    "\n",
    "from sklearn.metrics import classification_report\n",
    "from sklearn.metrics import accuracy_score\n",
    "\n",
    "y_pred=D_classifier.predict(x_test)\n",
    "print('classification_report Decision Tree')\n",
    "print('.......................................') \n",
    "\n",
    "print(classification_report(y_test,y_pred)) \n",
    "print(\"accuracy_score=\",accuracy_score(y_test,y_pred)) \n"
   ]
  },
  {
   "cell_type": "markdown",
   "metadata": {},
   "source": [
    "## تدريب النموذج علي أفضل 9 سمة بعد معالجة القيم المفقودة\n"
   ]
  },
  {
   "cell_type": "code",
   "execution_count": 70,
   "metadata": {},
   "outputs": [
    {
     "name": "stdout",
     "output_type": "stream",
     "text": [
      "Top-9 features: \n",
      " ['Sex', 'Adress', 'LDH', 'CL', 'Creatinin', 'FBS', 'ESR', 'GPT', 'ALP']\n"
     ]
    }
   ],
   "source": [
    "\n",
    "fs = ReliefF(n_neighbors=1, n_features_to_keep= 9)\n",
    "features = fs.fit_transform(BC.drop(['CLASS'], axis=1).to_numpy(), BC['CLASS'].to_numpy()).T\n",
    "\n",
    "columns = BC.drop(['CLASS'], axis=1).columns.to_list()\n",
    "reliefF_features = []\n",
    "for feature in features:\n",
    "    for column in columns:\n",
    "        idx = (BC.drop(['CLASS'], axis=1)[column] == feature)\n",
    "        if idx.all() == True:\n",
    "            reliefF_features.append(column)\n",
    "\n",
    "print('Top-9 features: \\n', reliefF_features)"
   ]
  },
  {
   "cell_type": "code",
   "execution_count": 71,
   "metadata": {},
   "outputs": [
    {
     "data": {
      "text/plain": [
       "(2437, 9)"
      ]
     },
     "execution_count": 71,
     "metadata": {},
     "output_type": "execute_result"
    }
   ],
   "source": [
    "\n",
    "\n",
    "\n",
    "X=BC.drop([\"CLASS\",\"Age\",\"Urea\",\"CA15\",\"CEA\",\"ALB\",\"TCa\",\"GOT\",\"WBC\",\"RBC\",\"PLT\",\"K\",\"Na\",\"HGB\"],axis=1)\n",
    "Y=BC[\"CLASS\"] \n",
    "\n",
    "\n",
    "X.shape\n"
   ]
  },
  {
   "cell_type": "code",
   "execution_count": 72,
   "metadata": {},
   "outputs": [
    {
     "data": {
      "text/plain": [
       "((2437, 9), (2437,))"
      ]
     },
     "execution_count": 72,
     "metadata": {},
     "output_type": "execute_result"
    }
   ],
   "source": [
    "X.shape,Y.shape\n",
    "\n"
   ]
  },
  {
   "cell_type": "code",
   "execution_count": 73,
   "metadata": {},
   "outputs": [
    {
     "data": {
      "text/plain": [
       "1.0"
      ]
     },
     "execution_count": 73,
     "metadata": {},
     "output_type": "execute_result"
    }
   ],
   "source": [
    "from sklearn.model_selection import train_test_split\n",
    "\n",
    "x_train, x_test, y_train, y_test = train_test_split(X, Y, \n",
    "                                                    test_size=0.25)\n",
    "\n",
    "from sklearn.tree import DecisionTreeClassifier\n",
    "\n",
    "D_classifier= DecisionTreeClassifier(random_state=0) \n",
    "D_classifier.fit(x_train,y_train) \n",
    "D_classifier.score(x_train,y_train)\n",
    "\n"
   ]
  },
  {
   "cell_type": "code",
   "execution_count": 74,
   "metadata": {},
   "outputs": [
    {
     "data": {
      "text/plain": [
       "0.7278688524590164"
      ]
     },
     "execution_count": 74,
     "metadata": {},
     "output_type": "execute_result"
    }
   ],
   "source": [
    "y_pred=D_classifier.predict_proba(x_test)[:,1]\n",
    "\n",
    "\n",
    "new_y=[]\n",
    "for i in range (len(y_pred)):\n",
    "    if y_pred[i]<0.5:\n",
    "        new_y.append(0)\n",
    "    else:\n",
    "        new_y.append(1)\n",
    "\n",
    "from sklearn.metrics import accuracy_score\n",
    "\n",
    "\n",
    "accuracy_score(y_test,new_y)\n",
    "\n"
   ]
  },
  {
   "cell_type": "code",
   "execution_count": 75,
   "metadata": {},
   "outputs": [
    {
     "name": "stdout",
     "output_type": "stream",
     "text": [
      "mean_absolute_error is = 0.2721311475409836\n",
      "mean_squared_error is = 0.5216619092295158\n"
     ]
    }
   ],
   "source": [
    "\n",
    "from sklearn.metrics import mean_absolute_error\n",
    "from sklearn.metrics import mean_squared_error\n",
    "\n",
    "\n",
    "MAEVale=mean_absolute_error(y_test,y_pred,multioutput=\"uniform_average\")\n",
    "print(\"mean_absolute_error is =\",MAEVale)\n",
    "\n",
    "MSEVale=mean_squared_error(y_test,y_pred,multioutput=\"uniform_average\")\n",
    "RmseVal=np.sqrt(MSEVale)\n",
    "print(\"mean_squared_error is =\",RmseVal)\n"
   ]
  },
  {
   "cell_type": "code",
   "execution_count": 76,
   "metadata": {},
   "outputs": [
    {
     "name": "stdout",
     "output_type": "stream",
     "text": [
      "Decision Tree  classifiers  confusion_matrix\n",
      "Decision Tree classifier Trining Accurcy = 1.0\n",
      "Decision Tree classifier Testing Accurcy =  0.7278688524590164\n",
      "[[259 100]\n",
      " [ 66 185]]\n"
     ]
    },
    {
     "data": {
      "text/plain": [
       "Text(34.0, 0.5, 'Acutl')"
      ]
     },
     "execution_count": 76,
     "metadata": {},
     "output_type": "execute_result"
    },
    {
     "data": {
      "image/png": "[encoded data removed]",
      "text/plain": [
       "<Figure size 432x288 with 2 Axes>"
      ]
     },
     "metadata": {
      "needs_background": "light"
     },
     "output_type": "display_data"
    }
   ],
   "source": [
    "from sklearn.metrics import confusion_matrix\n",
    "\n",
    "print(\"Decision Tree  classifiers  confusion_matrix\")\n",
    "cm=confusion_matrix(y_test,new_y)\n",
    "TN=cm[0][0]\n",
    "TP=cm[1][1]\n",
    "FP=cm[0][1]\n",
    "FN=cm[1][0]\n",
    "\n",
    "print('Decision Tree classifier Trining Accurcy =',D_classifier.score(x_train,y_train) )\n",
    "print('Decision Tree classifier Testing Accurcy = ',(TP+TN)/(TP+TN+FP+FN))\n",
    "print(cm)\n",
    "                            \n",
    "sns.heatmap(cm,annot=True)\n",
    "plt.title(\"Decision Tree classifier confusion_matrix \")\n",
    "plt.xlabel(\"Predication\")\n",
    "plt.ylabel(\"Acutl\")"
   ]
  },
  {
   "cell_type": "code",
   "execution_count": 77,
   "metadata": {},
   "outputs": [
    {
     "name": "stdout",
     "output_type": "stream",
     "text": [
      "classification_report Decision Tree\n",
      ".......................................\n",
      "              precision    recall  f1-score   support\n",
      "\n",
      "           0       0.80      0.72      0.76       359\n",
      "           1       0.65      0.74      0.69       251\n",
      "\n",
      "    accuracy                           0.73       610\n",
      "   macro avg       0.72      0.73      0.72       610\n",
      "weighted avg       0.74      0.73      0.73       610\n",
      "\n",
      "accuracy_score= 0.7278688524590164\n"
     ]
    }
   ],
   "source": [
    "\n",
    "### CLASSIFACTION Report\n",
    "\n",
    "from sklearn.metrics import classification_report\n",
    "from sklearn.metrics import accuracy_score\n",
    "\n",
    "y_pred=D_classifier.predict(x_test)\n",
    "print('classification_report Decision Tree')\n",
    "print('.......................................') \n",
    "\n",
    "print(classification_report(y_test,y_pred)) \n",
    "print(\"accuracy_score=\",accuracy_score(y_test,y_pred)) \n"
   ]
  },
  {
   "cell_type": "markdown",
   "metadata": {},
   "source": [
    "## تدريب النموذج علي أفضل 10 سمة بعد معالجة القيم المفقودة\n"
   ]
  },
  {
   "cell_type": "code",
   "execution_count": 79,
   "metadata": {},
   "outputs": [
    {
     "name": "stdout",
     "output_type": "stream",
     "text": [
      "Top-10 features: \n",
      " ['Sex', 'Adress', 'LDH', 'CL', 'Creatinin', 'FBS', 'ESR', 'GPT', 'ALP', 'GOT']\n"
     ]
    }
   ],
   "source": [
    "\n",
    "fs = ReliefF(n_neighbors=1, n_features_to_keep= 10)\n",
    "features = fs.fit_transform(BC.drop(['CLASS'], axis=1).to_numpy(), BC['CLASS'].to_numpy()).T\n",
    "\n",
    "columns = BC.drop(['CLASS'], axis=1).columns.to_list()\n",
    "reliefF_features = []\n",
    "for feature in features:\n",
    "    for column in columns:\n",
    "        idx = (BC.drop(['CLASS'], axis=1)[column] == feature)\n",
    "        if idx.all() == True:\n",
    "            reliefF_features.append(column)\n",
    "\n",
    "print('Top-10 features: \\n', reliefF_features)"
   ]
  },
  {
   "cell_type": "code",
   "execution_count": 80,
   "metadata": {},
   "outputs": [
    {
     "data": {
      "text/plain": [
       "(2437, 10)"
      ]
     },
     "execution_count": 80,
     "metadata": {},
     "output_type": "execute_result"
    }
   ],
   "source": [
    "\n",
    "\n",
    "\n",
    "X=BC.drop([\"CLASS\",\"Age\",\"Urea\",\"CA15\",\"CEA\",\"ALB\",\"TCa\",\"WBC\",\"RBC\",\"PLT\",\"K\",\"Na\",\"HGB\"],axis=1)\n",
    "Y=BC[\"CLASS\"] \n",
    "\n",
    "\n",
    "X.shape\n"
   ]
  },
  {
   "cell_type": "code",
   "execution_count": 81,
   "metadata": {},
   "outputs": [
    {
     "data": {
      "text/plain": [
       "((2437, 10), (2437,))"
      ]
     },
     "execution_count": 81,
     "metadata": {},
     "output_type": "execute_result"
    }
   ],
   "source": [
    "X.shape,Y.shape\n",
    "\n"
   ]
  },
  {
   "cell_type": "code",
   "execution_count": 82,
   "metadata": {},
   "outputs": [
    {
     "data": {
      "text/plain": [
       "1.0"
      ]
     },
     "execution_count": 82,
     "metadata": {},
     "output_type": "execute_result"
    }
   ],
   "source": [
    "from sklearn.model_selection import train_test_split\n",
    "\n",
    "x_train, x_test, y_train, y_test = train_test_split(X, Y, \n",
    "                                                    test_size=0.25)\n",
    "\n",
    "from sklearn.tree import DecisionTreeClassifier\n",
    "\n",
    "D_classifier= DecisionTreeClassifier(random_state=0) \n",
    "D_classifier.fit(x_train,y_train) \n",
    "D_classifier.score(x_train,y_train)\n",
    "\n"
   ]
  },
  {
   "cell_type": "code",
   "execution_count": 83,
   "metadata": {},
   "outputs": [
    {
     "data": {
      "text/plain": [
       "0.7245901639344262"
      ]
     },
     "execution_count": 83,
     "metadata": {},
     "output_type": "execute_result"
    }
   ],
   "source": [
    "y_pred=D_classifier.predict_proba(x_test)[:,1]\n",
    "\n",
    "\n",
    "new_y=[]\n",
    "for i in range (len(y_pred)):\n",
    "    if y_pred[i]<0.5:\n",
    "        new_y.append(0)\n",
    "    else:\n",
    "        new_y.append(1)\n",
    "\n",
    "from sklearn.metrics import accuracy_score\n",
    "\n",
    "\n",
    "accuracy_score(y_test,new_y)\n",
    "\n"
   ]
  },
  {
   "cell_type": "code",
   "execution_count": 84,
   "metadata": {},
   "outputs": [
    {
     "name": "stdout",
     "output_type": "stream",
     "text": [
      "mean_absolute_error is = 0.2754098360655738\n",
      "mean_squared_error is = 0.5247950419597862\n"
     ]
    }
   ],
   "source": [
    "\n",
    "from sklearn.metrics import mean_absolute_error\n",
    "from sklearn.metrics import mean_squared_error\n",
    "\n",
    "\n",
    "MAEVale=mean_absolute_error(y_test,y_pred,multioutput=\"uniform_average\")\n",
    "print(\"mean_absolute_error is =\",MAEVale)\n",
    "\n",
    "MSEVale=mean_squared_error(y_test,y_pred,multioutput=\"uniform_average\")\n",
    "RmseVal=np.sqrt(MSEVale)\n",
    "print(\"mean_squared_error is =\",RmseVal)\n"
   ]
  },
  {
   "cell_type": "code",
   "execution_count": 85,
   "metadata": {},
   "outputs": [
    {
     "name": "stdout",
     "output_type": "stream",
     "text": [
      "Decision Tree  classifiers  confusion_matrix\n",
      "Decision Tree classifier Trining Accurcy = 1.0\n",
      "Decision Tree classifier Testing Accurcy =  0.7245901639344262\n",
      "[[250  84]\n",
      " [ 84 192]]\n"
     ]
    },
    {
     "data": {
      "text/plain": [
       "Text(34.0, 0.5, 'Acutl')"
      ]
     },
     "execution_count": 85,
     "metadata": {},
     "output_type": "execute_result"
    },
    {
     "data": {
      "image/png": "[encoded data removed]",
      "text/plain": [
       "<Figure size 432x288 with 2 Axes>"
      ]
     },
     "metadata": {
      "needs_background": "light"
     },
     "output_type": "display_data"
    }
   ],
   "source": [
    "from sklearn.metrics import confusion_matrix\n",
    "\n",
    "print(\"Decision Tree  classifiers  confusion_matrix\")\n",
    "cm=confusion_matrix(y_test,new_y)\n",
    "TN=cm[0][0]\n",
    "TP=cm[1][1]\n",
    "FP=cm[0][1]\n",
    "FN=cm[1][0]\n",
    "\n",
    "print('Decision Tree classifier Trining Accurcy =',D_classifier.score(x_train,y_train) )\n",
    "print('Decision Tree classifier Testing Accurcy = ',(TP+TN)/(TP+TN+FP+FN))\n",
    "print(cm)\n",
    "                            \n",
    "sns.heatmap(cm,annot=True)\n",
    "plt.title(\"Decision Tree classifier confusion_matrix \")\n",
    "plt.xlabel(\"Predication\")\n",
    "plt.ylabel(\"Acutl\")"
   ]
  },
  {
   "cell_type": "code",
   "execution_count": 86,
   "metadata": {},
   "outputs": [
    {
     "name": "stdout",
     "output_type": "stream",
     "text": [
      "classification_report Decision Tree\n",
      ".......................................\n",
      "              precision    recall  f1-score   support\n",
      "\n",
      "           0       0.75      0.75      0.75       334\n",
      "           1       0.70      0.70      0.70       276\n",
      "\n",
      "    accuracy                           0.72       610\n",
      "   macro avg       0.72      0.72      0.72       610\n",
      "weighted avg       0.72      0.72      0.72       610\n",
      "\n",
      "accuracy_score= 0.7245901639344262\n"
     ]
    }
   ],
   "source": [
    "\n",
    "### CLASSIFACTION Report\n",
    "\n",
    "from sklearn.metrics import classification_report\n",
    "from sklearn.metrics import accuracy_score\n",
    "\n",
    "y_pred=D_classifier.predict(x_test)\n",
    "print('classification_report Decision Tree')\n",
    "print('.......................................') \n",
    "\n",
    "print(classification_report(y_test,y_pred)) \n",
    "print(\"accuracy_score=\",accuracy_score(y_test,y_pred)) \n"
   ]
  },
  {
   "cell_type": "markdown",
   "metadata": {},
   "source": [
    "## تدريب النموذج علي أفضل11  سمة بعد معالجة القيم المفقودة\n"
   ]
  },
  {
   "cell_type": "code",
   "execution_count": 87,
   "metadata": {},
   "outputs": [
    {
     "name": "stdout",
     "output_type": "stream",
     "text": [
      "Top-11 features: \n",
      " ['Sex', 'Adress', 'LDH', 'CL', 'Creatinin', 'FBS', 'ESR', 'GPT', 'ALP', 'GOT', 'ALB']\n"
     ]
    }
   ],
   "source": [
    "\n",
    "fs = ReliefF(n_neighbors=1, n_features_to_keep= 11)\n",
    "features = fs.fit_transform(BC.drop(['CLASS'], axis=1).to_numpy(), BC['CLASS'].to_numpy()).T\n",
    "\n",
    "columns = BC.drop(['CLASS'], axis=1).columns.to_list()\n",
    "reliefF_features = []\n",
    "for feature in features:\n",
    "    for column in columns:\n",
    "        idx = (BC.drop(['CLASS'], axis=1)[column] == feature)\n",
    "        if idx.all() == True:\n",
    "            reliefF_features.append(column)\n",
    "\n",
    "print('Top-11 features: \\n', reliefF_features)"
   ]
  },
  {
   "cell_type": "code",
   "execution_count": 88,
   "metadata": {},
   "outputs": [
    {
     "data": {
      "text/plain": [
       "(2437, 11)"
      ]
     },
     "execution_count": 88,
     "metadata": {},
     "output_type": "execute_result"
    }
   ],
   "source": [
    "\n",
    "\n",
    "\n",
    "X=BC.drop([\"CLASS\",\"Age\",\"Urea\",\"CA15\",\"CEA\",\"TCa\",\"WBC\",\"RBC\",\"PLT\",\"K\",\"Na\",\"HGB\"],axis=1)\n",
    "Y=BC[\"CLASS\"] \n",
    "\n",
    "\n",
    "X.shape\n"
   ]
  },
  {
   "cell_type": "code",
   "execution_count": 89,
   "metadata": {},
   "outputs": [
    {
     "data": {
      "text/plain": [
       "((2437, 11), (2437,))"
      ]
     },
     "execution_count": 89,
     "metadata": {},
     "output_type": "execute_result"
    }
   ],
   "source": [
    "X.shape,Y.shape\n",
    "\n"
   ]
  },
  {
   "cell_type": "code",
   "execution_count": 90,
   "metadata": {},
   "outputs": [
    {
     "data": {
      "text/plain": [
       "1.0"
      ]
     },
     "execution_count": 90,
     "metadata": {},
     "output_type": "execute_result"
    }
   ],
   "source": [
    "from sklearn.model_selection import train_test_split\n",
    "\n",
    "x_train, x_test, y_train, y_test = train_test_split(X, Y, \n",
    "                                                    test_size=0.25)\n",
    "\n",
    "from sklearn.tree import DecisionTreeClassifier\n",
    "\n",
    "D_classifier= DecisionTreeClassifier(random_state=0) \n",
    "D_classifier.fit(x_train,y_train) \n",
    "D_classifier.score(x_train,y_train)\n",
    "\n"
   ]
  },
  {
   "cell_type": "code",
   "execution_count": 91,
   "metadata": {},
   "outputs": [
    {
     "data": {
      "text/plain": [
       "0.7147540983606557"
      ]
     },
     "execution_count": 91,
     "metadata": {},
     "output_type": "execute_result"
    }
   ],
   "source": [
    "y_pred=D_classifier.predict_proba(x_test)[:,1]\n",
    "\n",
    "\n",
    "new_y=[]\n",
    "for i in range (len(y_pred)):\n",
    "    if y_pred[i]<0.5:\n",
    "        new_y.append(0)\n",
    "    else:\n",
    "        new_y.append(1)\n",
    "\n",
    "from sklearn.metrics import accuracy_score\n",
    "\n",
    "\n",
    "accuracy_score(y_test,new_y)\n",
    "\n"
   ]
  },
  {
   "cell_type": "code",
   "execution_count": 92,
   "metadata": {},
   "outputs": [
    {
     "name": "stdout",
     "output_type": "stream",
     "text": [
      "mean_absolute_error is = 0.28524590163934427\n",
      "mean_squared_error is = 0.5340841709312721\n"
     ]
    }
   ],
   "source": [
    "\n",
    "from sklearn.metrics import mean_absolute_error\n",
    "from sklearn.metrics import mean_squared_error\n",
    "\n",
    "\n",
    "MAEVale=mean_absolute_error(y_test,y_pred,multioutput=\"uniform_average\")\n",
    "print(\"mean_absolute_error is =\",MAEVale)\n",
    "\n",
    "MSEVale=mean_squared_error(y_test,y_pred,multioutput=\"uniform_average\")\n",
    "RmseVal=np.sqrt(MSEVale)\n",
    "print(\"mean_squared_error is =\",RmseVal)\n"
   ]
  },
  {
   "cell_type": "code",
   "execution_count": 93,
   "metadata": {},
   "outputs": [
    {
     "name": "stdout",
     "output_type": "stream",
     "text": [
      "Decision Tree  classifiers  confusion_matrix\n",
      "Decision Tree classifier Trining Accurcy = 1.0\n",
      "Decision Tree classifier Testing Accurcy =  0.7147540983606557\n",
      "[[243  91]\n",
      " [ 83 193]]\n"
     ]
    },
    {
     "data": {
      "text/plain": [
       "Text(34.0, 0.5, 'Acutl')"
      ]
     },
     "execution_count": 93,
     "metadata": {},
     "output_type": "execute_result"
    },
    {
     "data": {
      "image/png": "[encoded data removed]",
      "text/plain": [
       "<Figure size 432x288 with 2 Axes>"
      ]
     },
     "metadata": {
      "needs_background": "light"
     },
     "output_type": "display_data"
    }
   ],
   "source": [
    "from sklearn.metrics import confusion_matrix\n",
    "\n",
    "print(\"Decision Tree  classifiers  confusion_matrix\")\n",
    "cm=confusion_matrix(y_test,new_y)\n",
    "TN=cm[0][0]\n",
    "TP=cm[1][1]\n",
    "FP=cm[0][1]\n",
    "FN=cm[1][0]\n",
    "\n",
    "print('Decision Tree classifier Trining Accurcy =',D_classifier.score(x_train,y_train) )\n",
    "print('Decision Tree classifier Testing Accurcy = ',(TP+TN)/(TP+TN+FP+FN))\n",
    "print(cm)\n",
    "                            \n",
    "sns.heatmap(cm,annot=True)\n",
    "plt.title(\"Decision Tree classifier confusion_matrix \")\n",
    "plt.xlabel(\"Predication\")\n",
    "plt.ylabel(\"Acutl\")"
   ]
  },
  {
   "cell_type": "code",
   "execution_count": 94,
   "metadata": {},
   "outputs": [
    {
     "name": "stdout",
     "output_type": "stream",
     "text": [
      "classification_report Decision Tree\n",
      ".......................................\n",
      "              precision    recall  f1-score   support\n",
      "\n",
      "           0       0.75      0.73      0.74       334\n",
      "           1       0.68      0.70      0.69       276\n",
      "\n",
      "    accuracy                           0.71       610\n",
      "   macro avg       0.71      0.71      0.71       610\n",
      "weighted avg       0.72      0.71      0.72       610\n",
      "\n",
      "accuracy_score= 0.7147540983606557\n"
     ]
    }
   ],
   "source": [
    "\n",
    "### CLASSIFACTION Report\n",
    "\n",
    "from sklearn.metrics import classification_report\n",
    "from sklearn.metrics import accuracy_score\n",
    "\n",
    "y_pred=D_classifier.predict(x_test)\n",
    "print('classification_report Decision Tree')\n",
    "print('.......................................') \n",
    "\n",
    "print(classification_report(y_test,y_pred)) \n",
    "print(\"accuracy_score=\",accuracy_score(y_test,y_pred)) \n"
   ]
  },
  {
   "cell_type": "markdown",
   "metadata": {},
   "source": [
    "## تدريب النموذج علي أفضل 12 سمة بعد معالجة القيم المفقودة\n"
   ]
  },
  {
   "cell_type": "code",
   "execution_count": 95,
   "metadata": {},
   "outputs": [
    {
     "name": "stdout",
     "output_type": "stream",
     "text": [
      "Top-12 features: \n",
      " ['Sex', 'Adress', 'LDH', 'CL', 'Creatinin', 'FBS', 'ESR', 'GPT', 'ALP', 'GOT', 'ALB', 'TCa']\n"
     ]
    }
   ],
   "source": [
    "\n",
    "fs = ReliefF(n_neighbors=1, n_features_to_keep= 12)\n",
    "features = fs.fit_transform(BC.drop(['CLASS'], axis=1).to_numpy(), BC['CLASS'].to_numpy()).T\n",
    "\n",
    "columns = BC.drop(['CLASS'], axis=1).columns.to_list()\n",
    "reliefF_features = []\n",
    "for feature in features:\n",
    "    for column in columns:\n",
    "        idx = (BC.drop(['CLASS'], axis=1)[column] == feature)\n",
    "        if idx.all() == True:\n",
    "            reliefF_features.append(column)\n",
    "\n",
    "print('Top-12 features: \\n', reliefF_features)"
   ]
  },
  {
   "cell_type": "code",
   "execution_count": 96,
   "metadata": {},
   "outputs": [
    {
     "data": {
      "text/plain": [
       "(2437, 12)"
      ]
     },
     "execution_count": 96,
     "metadata": {},
     "output_type": "execute_result"
    }
   ],
   "source": [
    "\n",
    "\n",
    "\n",
    "X=BC.drop([\"CLASS\",\"Age\",\"Urea\",\"CA15\",\"CEA\",\"WBC\",\"RBC\",\"PLT\",\"K\",\"Na\",\"HGB\"],axis=1)\n",
    "Y=BC[\"CLASS\"] \n",
    "\n",
    "\n",
    "X.shape\n"
   ]
  },
  {
   "cell_type": "code",
   "execution_count": 97,
   "metadata": {},
   "outputs": [
    {
     "data": {
      "text/plain": [
       "((2437, 12), (2437,))"
      ]
     },
     "execution_count": 97,
     "metadata": {},
     "output_type": "execute_result"
    }
   ],
   "source": [
    "X.shape,Y.shape\n",
    "\n"
   ]
  },
  {
   "cell_type": "code",
   "execution_count": 98,
   "metadata": {},
   "outputs": [
    {
     "data": {
      "text/plain": [
       "1.0"
      ]
     },
     "execution_count": 98,
     "metadata": {},
     "output_type": "execute_result"
    }
   ],
   "source": [
    "from sklearn.model_selection import train_test_split\n",
    "\n",
    "x_train, x_test, y_train, y_test = train_test_split(X, Y, \n",
    "                                                    test_size=0.25)\n",
    "\n",
    "from sklearn.tree import DecisionTreeClassifier\n",
    "\n",
    "D_classifier= DecisionTreeClassifier(random_state=0) \n",
    "D_classifier.fit(x_train,y_train) \n",
    "D_classifier.score(x_train,y_train)\n",
    "\n"
   ]
  },
  {
   "cell_type": "code",
   "execution_count": 99,
   "metadata": {},
   "outputs": [
    {
     "data": {
      "text/plain": [
       "0.7245901639344262"
      ]
     },
     "execution_count": 99,
     "metadata": {},
     "output_type": "execute_result"
    }
   ],
   "source": [
    "y_pred=D_classifier.predict_proba(x_test)[:,1]\n",
    "\n",
    "\n",
    "new_y=[]\n",
    "for i in range (len(y_pred)):\n",
    "    if y_pred[i]<0.5:\n",
    "        new_y.append(0)\n",
    "    else:\n",
    "        new_y.append(1)\n",
    "\n",
    "from sklearn.metrics import accuracy_score\n",
    "\n",
    "\n",
    "accuracy_score(y_test,new_y)\n",
    "\n"
   ]
  },
  {
   "cell_type": "code",
   "execution_count": 100,
   "metadata": {},
   "outputs": [
    {
     "name": "stdout",
     "output_type": "stream",
     "text": [
      "mean_absolute_error is = 0.2754098360655738\n",
      "mean_squared_error is = 0.5247950419597862\n"
     ]
    }
   ],
   "source": [
    "\n",
    "from sklearn.metrics import mean_absolute_error\n",
    "from sklearn.metrics import mean_squared_error\n",
    "\n",
    "\n",
    "MAEVale=mean_absolute_error(y_test,y_pred,multioutput=\"uniform_average\")\n",
    "print(\"mean_absolute_error is =\",MAEVale)\n",
    "\n",
    "MSEVale=mean_squared_error(y_test,y_pred,multioutput=\"uniform_average\")\n",
    "RmseVal=np.sqrt(MSEVale)\n",
    "print(\"mean_squared_error is =\",RmseVal)\n"
   ]
  },
  {
   "cell_type": "code",
   "execution_count": 101,
   "metadata": {},
   "outputs": [
    {
     "name": "stdout",
     "output_type": "stream",
     "text": [
      "Decision Tree  classifiers  confusion_matrix\n",
      "Decision Tree classifier Trining Accurcy = 1.0\n",
      "Decision Tree classifier Testing Accurcy =  0.7245901639344262\n",
      "[[267  89]\n",
      " [ 79 175]]\n"
     ]
    },
    {
     "data": {
      "text/plain": [
       "Text(34.0, 0.5, 'Acutl')"
      ]
     },
     "execution_count": 101,
     "metadata": {},
     "output_type": "execute_result"
    },
    {
     "data": {
      "image/png": "[encoded data removed]",
      "text/plain": [
       "<Figure size 432x288 with 2 Axes>"
      ]
     },
     "metadata": {
      "needs_background": "light"
     },
     "output_type": "display_data"
    }
   ],
   "source": [
    "from sklearn.metrics import confusion_matrix\n",
    "\n",
    "print(\"Decision Tree  classifiers  confusion_matrix\")\n",
    "cm=confusion_matrix(y_test,new_y)\n",
    "TN=cm[0][0]\n",
    "TP=cm[1][1]\n",
    "FP=cm[0][1]\n",
    "FN=cm[1][0]\n",
    "\n",
    "print('Decision Tree classifier Trining Accurcy =',D_classifier.score(x_train,y_train) )\n",
    "print('Decision Tree classifier Testing Accurcy = ',(TP+TN)/(TP+TN+FP+FN))\n",
    "print(cm)\n",
    "                            \n",
    "sns.heatmap(cm,annot=True)\n",
    "plt.title(\"Decision Tree classifier confusion_matrix \")\n",
    "plt.xlabel(\"Predication\")\n",
    "plt.ylabel(\"Acutl\")"
   ]
  },
  {
   "cell_type": "code",
   "execution_count": 102,
   "metadata": {},
   "outputs": [
    {
     "name": "stdout",
     "output_type": "stream",
     "text": [
      "classification_report Decision Tree\n",
      ".......................................\n",
      "              precision    recall  f1-score   support\n",
      "\n",
      "           0       0.77      0.75      0.76       356\n",
      "           1       0.66      0.69      0.68       254\n",
      "\n",
      "    accuracy                           0.72       610\n",
      "   macro avg       0.72      0.72      0.72       610\n",
      "weighted avg       0.73      0.72      0.73       610\n",
      "\n",
      "accuracy_score= 0.7245901639344262\n"
     ]
    }
   ],
   "source": [
    "\n",
    "### CLASSIFACTION Report\n",
    "\n",
    "from sklearn.metrics import classification_report\n",
    "from sklearn.metrics import accuracy_score\n",
    "\n",
    "y_pred=D_classifier.predict(x_test)\n",
    "print('classification_report Decision Tree')\n",
    "print('.......................................') \n",
    "\n",
    "print(classification_report(y_test,y_pred)) \n",
    "print(\"accuracy_score=\",accuracy_score(y_test,y_pred)) \n"
   ]
  },
  {
   "cell_type": "markdown",
   "metadata": {},
   "source": [
    "## تدريب النموذج علي أفضل 13 سمة بعد معالجة القيم المفقودة\n"
   ]
  },
  {
   "cell_type": "code",
   "execution_count": 103,
   "metadata": {},
   "outputs": [
    {
     "name": "stdout",
     "output_type": "stream",
     "text": [
      "Top-13 features: \n",
      " ['Sex', 'Adress', 'LDH', 'CL', 'Creatinin', 'FBS', 'ESR', 'GPT', 'ALP', 'GOT', 'ALB', 'TCa', 'PLT']\n"
     ]
    }
   ],
   "source": [
    "\n",
    "fs = ReliefF(n_neighbors=1, n_features_to_keep= 13)\n",
    "features = fs.fit_transform(BC.drop(['CLASS'], axis=1).to_numpy(), BC['CLASS'].to_numpy()).T\n",
    "\n",
    "columns = BC.drop(['CLASS'], axis=1).columns.to_list()\n",
    "reliefF_features = []\n",
    "for feature in features:\n",
    "    for column in columns:\n",
    "        idx = (BC.drop(['CLASS'], axis=1)[column] == feature)\n",
    "        if idx.all() == True:\n",
    "            reliefF_features.append(column)\n",
    "\n",
    "print('Top-13 features: \\n', reliefF_features)"
   ]
  },
  {
   "cell_type": "code",
   "execution_count": 104,
   "metadata": {},
   "outputs": [
    {
     "data": {
      "text/plain": [
       "(2437, 13)"
      ]
     },
     "execution_count": 104,
     "metadata": {},
     "output_type": "execute_result"
    }
   ],
   "source": [
    "\n",
    "\n",
    "\n",
    "X=BC.drop([\"CLASS\",\"Age\",\"Urea\",\"CA15\",\"CEA\",\"WBC\",\"RBC\",\"K\",\"Na\",\"HGB\"],axis=1)\n",
    "Y=BC[\"CLASS\"] \n",
    "\n",
    "\n",
    "X.shape\n"
   ]
  },
  {
   "cell_type": "code",
   "execution_count": 105,
   "metadata": {},
   "outputs": [
    {
     "data": {
      "text/plain": [
       "((2437, 13), (2437,))"
      ]
     },
     "execution_count": 105,
     "metadata": {},
     "output_type": "execute_result"
    }
   ],
   "source": [
    "X.shape,Y.shape\n",
    "\n"
   ]
  },
  {
   "cell_type": "code",
   "execution_count": 106,
   "metadata": {},
   "outputs": [
    {
     "data": {
      "text/plain": [
       "1.0"
      ]
     },
     "execution_count": 106,
     "metadata": {},
     "output_type": "execute_result"
    }
   ],
   "source": [
    "from sklearn.model_selection import train_test_split\n",
    "\n",
    "x_train, x_test, y_train, y_test = train_test_split(X, Y, \n",
    "                                                    test_size=0.25)\n",
    "\n",
    "from sklearn.tree import DecisionTreeClassifier\n",
    "\n",
    "D_classifier= DecisionTreeClassifier(random_state=0) \n",
    "D_classifier.fit(x_train,y_train) \n",
    "D_classifier.score(x_train,y_train)\n",
    "\n"
   ]
  },
  {
   "cell_type": "code",
   "execution_count": 107,
   "metadata": {},
   "outputs": [
    {
     "data": {
      "text/plain": [
       "0.7672131147540984"
      ]
     },
     "execution_count": 107,
     "metadata": {},
     "output_type": "execute_result"
    }
   ],
   "source": [
    "y_pred=D_classifier.predict_proba(x_test)[:,1]\n",
    "\n",
    "\n",
    "new_y=[]\n",
    "for i in range (len(y_pred)):\n",
    "    if y_pred[i]<0.5:\n",
    "        new_y.append(0)\n",
    "    else:\n",
    "        new_y.append(1)\n",
    "\n",
    "from sklearn.metrics import accuracy_score\n",
    "\n",
    "\n",
    "accuracy_score(y_test,new_y)\n",
    "\n"
   ]
  },
  {
   "cell_type": "code",
   "execution_count": 108,
   "metadata": {},
   "outputs": [
    {
     "name": "stdout",
     "output_type": "stream",
     "text": [
      "mean_absolute_error is = 0.23278688524590163\n",
      "mean_squared_error is = 0.48247993247999615\n"
     ]
    }
   ],
   "source": [
    "\n",
    "from sklearn.metrics import mean_absolute_error\n",
    "from sklearn.metrics import mean_squared_error\n",
    "\n",
    "\n",
    "MAEVale=mean_absolute_error(y_test,y_pred,multioutput=\"uniform_average\")\n",
    "print(\"mean_absolute_error is =\",MAEVale)\n",
    "\n",
    "MSEVale=mean_squared_error(y_test,y_pred,multioutput=\"uniform_average\")\n",
    "RmseVal=np.sqrt(MSEVale)\n",
    "print(\"mean_squared_error is =\",RmseVal)\n"
   ]
  },
  {
   "cell_type": "code",
   "execution_count": 109,
   "metadata": {},
   "outputs": [
    {
     "name": "stdout",
     "output_type": "stream",
     "text": [
      "Decision Tree  classifiers  confusion_matrix\n",
      "Decision Tree classifier Trining Accurcy = 1.0\n",
      "Decision Tree classifier Testing Accurcy =  0.7672131147540984\n",
      "[[284  65]\n",
      " [ 77 184]]\n"
     ]
    },
    {
     "data": {
      "text/plain": [
       "Text(34.0, 0.5, 'Acutl')"
      ]
     },
     "execution_count": 109,
     "metadata": {},
     "output_type": "execute_result"
    },
    {
     "data": {
      "image/png": "[encoded data removed]",
      "text/plain": [
       "<Figure size 432x288 with 2 Axes>"
      ]
     },
     "metadata": {
      "needs_background": "light"
     },
     "output_type": "display_data"
    }
   ],
   "source": [
    "from sklearn.metrics import confusion_matrix\n",
    "\n",
    "print(\"Decision Tree  classifiers  confusion_matrix\")\n",
    "cm=confusion_matrix(y_test,new_y)\n",
    "TN=cm[0][0]\n",
    "TP=cm[1][1]\n",
    "FP=cm[0][1]\n",
    "FN=cm[1][0]\n",
    "\n",
    "print('Decision Tree classifier Trining Accurcy =',D_classifier.score(x_train,y_train) )\n",
    "print('Decision Tree classifier Testing Accurcy = ',(TP+TN)/(TP+TN+FP+FN))\n",
    "print(cm)\n",
    "                            \n",
    "sns.heatmap(cm,annot=True)\n",
    "plt.title(\"Decision Tree classifier confusion_matrix \")\n",
    "plt.xlabel(\"Predication\")\n",
    "plt.ylabel(\"Acutl\")"
   ]
  },
  {
   "cell_type": "code",
   "execution_count": 110,
   "metadata": {},
   "outputs": [
    {
     "name": "stdout",
     "output_type": "stream",
     "text": [
      "classification_report Decision Tree\n",
      ".......................................\n",
      "              precision    recall  f1-score   support\n",
      "\n",
      "           0       0.79      0.81      0.80       349\n",
      "           1       0.74      0.70      0.72       261\n",
      "\n",
      "    accuracy                           0.77       610\n",
      "   macro avg       0.76      0.76      0.76       610\n",
      "weighted avg       0.77      0.77      0.77       610\n",
      "\n",
      "accuracy_score= 0.7672131147540984\n"
     ]
    }
   ],
   "source": [
    "\n",
    "### CLASSIFACTION Report\n",
    "\n",
    "from sklearn.metrics import classification_report\n",
    "from sklearn.metrics import accuracy_score\n",
    "\n",
    "y_pred=D_classifier.predict(x_test)\n",
    "print('classification_report Decision Tree')\n",
    "print('.......................................') \n",
    "\n",
    "print(classification_report(y_test,y_pred)) \n",
    "print(\"accuracy_score=\",accuracy_score(y_test,y_pred)) \n"
   ]
  },
  {
   "cell_type": "markdown",
   "metadata": {},
   "source": [
    "## تدريب النموذج علي أفضل 15 سمة بعد معالجة القيم المفقودة\n"
   ]
  },
  {
   "cell_type": "code",
   "execution_count": 111,
   "metadata": {},
   "outputs": [
    {
     "name": "stdout",
     "output_type": "stream",
     "text": [
      "Top-15 features: \n",
      " ['Sex', 'Adress', 'LDH', 'CL', 'Creatinin', 'FBS', 'ESR', 'GPT', 'ALP', 'GOT', 'ALB', 'TCa', 'PLT', 'Na', 'K']\n"
     ]
    }
   ],
   "source": [
    "\n",
    "fs = ReliefF(n_neighbors=1, n_features_to_keep= 15)\n",
    "features = fs.fit_transform(BC.drop(['CLASS'], axis=1).to_numpy(), BC['CLASS'].to_numpy()).T\n",
    "\n",
    "columns = BC.drop(['CLASS'], axis=1).columns.to_list()\n",
    "reliefF_features = []\n",
    "for feature in features:\n",
    "    for column in columns:\n",
    "        idx = (BC.drop(['CLASS'], axis=1)[column] == feature)\n",
    "        if idx.all() == True:\n",
    "            reliefF_features.append(column)\n",
    "\n",
    "print('Top-15 features: \\n', reliefF_features)"
   ]
  },
  {
   "cell_type": "code",
   "execution_count": 112,
   "metadata": {},
   "outputs": [
    {
     "data": {
      "text/plain": [
       "(2437, 14)"
      ]
     },
     "execution_count": 112,
     "metadata": {},
     "output_type": "execute_result"
    }
   ],
   "source": [
    "\n",
    "\n",
    "\n",
    "X=BC.drop([\"CLASS\",\"Age\",\"Urea\",\"CA15\",\"CEA\",\"WBC\",\"RBC\",\"Na\",\"HGB\"],axis=1)\n",
    "Y=BC[\"CLASS\"] \n",
    "\n",
    "\n",
    "X.shape\n"
   ]
  },
  {
   "cell_type": "code",
   "execution_count": 113,
   "metadata": {},
   "outputs": [
    {
     "data": {
      "text/plain": [
       "((2437, 14), (2437,))"
      ]
     },
     "execution_count": 113,
     "metadata": {},
     "output_type": "execute_result"
    }
   ],
   "source": [
    "X.shape,Y.shape\n",
    "\n"
   ]
  },
  {
   "cell_type": "code",
   "execution_count": 114,
   "metadata": {},
   "outputs": [
    {
     "data": {
      "text/plain": [
       "1.0"
      ]
     },
     "execution_count": 114,
     "metadata": {},
     "output_type": "execute_result"
    }
   ],
   "source": [
    "from sklearn.model_selection import train_test_split\n",
    "\n",
    "x_train, x_test, y_train, y_test = train_test_split(X, Y, \n",
    "                                                    test_size=0.25)\n",
    "\n",
    "from sklearn.tree import DecisionTreeClassifier\n",
    "\n",
    "D_classifier= DecisionTreeClassifier(random_state=0) \n",
    "D_classifier.fit(x_train,y_train) \n",
    "D_classifier.score(x_train,y_train)\n",
    "\n"
   ]
  },
  {
   "cell_type": "code",
   "execution_count": 115,
   "metadata": {},
   "outputs": [
    {
     "data": {
      "text/plain": [
       "0.7524590163934426"
      ]
     },
     "execution_count": 115,
     "metadata": {},
     "output_type": "execute_result"
    }
   ],
   "source": [
    "y_pred=D_classifier.predict_proba(x_test)[:,1]\n",
    "\n",
    "\n",
    "new_y=[]\n",
    "for i in range (len(y_pred)):\n",
    "    if y_pred[i]<0.5:\n",
    "        new_y.append(0)\n",
    "    else:\n",
    "        new_y.append(1)\n",
    "\n",
    "from sklearn.metrics import accuracy_score\n",
    "\n",
    "\n",
    "accuracy_score(y_test,new_y)\n",
    "\n"
   ]
  },
  {
   "cell_type": "code",
   "execution_count": 116,
   "metadata": {},
   "outputs": [
    {
     "name": "stdout",
     "output_type": "stream",
     "text": [
      "mean_absolute_error is = 0.24754098360655738\n",
      "mean_squared_error is = 0.4975349069226775\n"
     ]
    }
   ],
   "source": [
    "\n",
    "from sklearn.metrics import mean_absolute_error\n",
    "from sklearn.metrics import mean_squared_error\n",
    "\n",
    "\n",
    "MAEVale=mean_absolute_error(y_test,y_pred,multioutput=\"uniform_average\")\n",
    "print(\"mean_absolute_error is =\",MAEVale)\n",
    "\n",
    "MSEVale=mean_squared_error(y_test,y_pred,multioutput=\"uniform_average\")\n",
    "RmseVal=np.sqrt(MSEVale)\n",
    "print(\"mean_squared_error is =\",RmseVal)\n"
   ]
  },
  {
   "cell_type": "code",
   "execution_count": 117,
   "metadata": {},
   "outputs": [
    {
     "name": "stdout",
     "output_type": "stream",
     "text": [
      "Decision Tree  classifiers  confusion_matrix\n",
      "Decision Tree classifier Trining Accurcy = 1.0\n",
      "Decision Tree classifier Testing Accurcy =  0.7524590163934426\n",
      "[[259  76]\n",
      " [ 75 200]]\n"
     ]
    },
    {
     "data": {
      "text/plain": [
       "Text(34.0, 0.5, 'Acutl')"
      ]
     },
     "execution_count": 117,
     "metadata": {},
     "output_type": "execute_result"
    },
    {
     "data": {
      "image/png": "[encoded data removed]",
      "text/plain": [
       "<Figure size 432x288 with 2 Axes>"
      ]
     },
     "metadata": {
      "needs_background": "light"
     },
     "output_type": "display_data"
    }
   ],
   "source": [
    "from sklearn.metrics import confusion_matrix\n",
    "\n",
    "print(\"Decision Tree  classifiers  confusion_matrix\")\n",
    "cm=confusion_matrix(y_test,new_y)\n",
    "TN=cm[0][0]\n",
    "TP=cm[1][1]\n",
    "FP=cm[0][1]\n",
    "FN=cm[1][0]\n",
    "\n",
    "print('Decision Tree classifier Trining Accurcy =',D_classifier.score(x_train,y_train) )\n",
    "print('Decision Tree classifier Testing Accurcy = ',(TP+TN)/(TP+TN+FP+FN))\n",
    "print(cm)\n",
    "                            \n",
    "sns.heatmap(cm,annot=True)\n",
    "plt.title(\"Decision Tree classifier confusion_matrix \")\n",
    "plt.xlabel(\"Predication\")\n",
    "plt.ylabel(\"Acutl\")"
   ]
  },
  {
   "cell_type": "code",
   "execution_count": 118,
   "metadata": {},
   "outputs": [
    {
     "name": "stdout",
     "output_type": "stream",
     "text": [
      "classification_report Decision Tree\n",
      ".......................................\n",
      "              precision    recall  f1-score   support\n",
      "\n",
      "           0       0.78      0.77      0.77       335\n",
      "           1       0.72      0.73      0.73       275\n",
      "\n",
      "    accuracy                           0.75       610\n",
      "   macro avg       0.75      0.75      0.75       610\n",
      "weighted avg       0.75      0.75      0.75       610\n",
      "\n",
      "accuracy_score= 0.7524590163934426\n"
     ]
    }
   ],
   "source": [
    "\n",
    "### CLASSIFACTION Report\n",
    "\n",
    "from sklearn.metrics import classification_report\n",
    "from sklearn.metrics import accuracy_score\n",
    "\n",
    "y_pred=D_classifier.predict(x_test)\n",
    "print('classification_report Decision Tree')\n",
    "print('.......................................') \n",
    "\n",
    "print(classification_report(y_test,y_pred)) \n",
    "print(\"accuracy_score=\",accuracy_score(y_test,y_pred)) \n"
   ]
  },
  {
   "cell_type": "markdown",
   "metadata": {},
   "source": [
    "## تدريب النموذج علي أفضل16 سمة بعد معالجة القيم المفقودة\n"
   ]
  },
  {
   "cell_type": "code",
   "execution_count": 119,
   "metadata": {},
   "outputs": [
    {
     "name": "stdout",
     "output_type": "stream",
     "text": [
      "Top-16 features: \n",
      " ['Sex', 'Adress', 'LDH', 'CL', 'Creatinin', 'FBS', 'ESR', 'GPT', 'ALP', 'GOT', 'ALB', 'TCa', 'PLT', 'Na', 'K', 'Urea']\n"
     ]
    }
   ],
   "source": [
    "\n",
    "fs = ReliefF(n_neighbors=1, n_features_to_keep= 16)\n",
    "features = fs.fit_transform(BC.drop(['CLASS'], axis=1).to_numpy(), BC['CLASS'].to_numpy()).T\n",
    "\n",
    "columns = BC.drop(['CLASS'], axis=1).columns.to_list()\n",
    "reliefF_features = []\n",
    "for feature in features:\n",
    "    for column in columns:\n",
    "        idx = (BC.drop(['CLASS'], axis=1)[column] == feature)\n",
    "        if idx.all() == True:\n",
    "            reliefF_features.append(column)\n",
    "\n",
    "print('Top-16 features: \\n', reliefF_features)"
   ]
  },
  {
   "cell_type": "code",
   "execution_count": 120,
   "metadata": {},
   "outputs": [
    {
     "data": {
      "text/plain": [
       "(2437, 15)"
      ]
     },
     "execution_count": 120,
     "metadata": {},
     "output_type": "execute_result"
    }
   ],
   "source": [
    "\n",
    "\n",
    "\n",
    "X=BC.drop([\"CLASS\",\"Age\",\"CA15\",\"CEA\",\"WBC\",\"RBC\",\"Na\",\"HGB\"],axis=1)\n",
    "Y=BC[\"CLASS\"] \n",
    "\n",
    "\n",
    "X.shape\n"
   ]
  },
  {
   "cell_type": "code",
   "execution_count": 121,
   "metadata": {},
   "outputs": [
    {
     "data": {
      "text/plain": [
       "((2437, 15), (2437,))"
      ]
     },
     "execution_count": 121,
     "metadata": {},
     "output_type": "execute_result"
    }
   ],
   "source": [
    "X.shape,Y.shape\n",
    "\n"
   ]
  },
  {
   "cell_type": "code",
   "execution_count": 122,
   "metadata": {},
   "outputs": [
    {
     "data": {
      "text/plain": [
       "1.0"
      ]
     },
     "execution_count": 122,
     "metadata": {},
     "output_type": "execute_result"
    }
   ],
   "source": [
    "from sklearn.model_selection import train_test_split\n",
    "\n",
    "x_train, x_test, y_train, y_test = train_test_split(X, Y, \n",
    "                                                    test_size=0.25)\n",
    "\n",
    "from sklearn.tree import DecisionTreeClassifier\n",
    "\n",
    "D_classifier= DecisionTreeClassifier(random_state=0) \n",
    "D_classifier.fit(x_train,y_train) \n",
    "D_classifier.score(x_train,y_train)\n",
    "\n"
   ]
  },
  {
   "cell_type": "code",
   "execution_count": 123,
   "metadata": {},
   "outputs": [
    {
     "data": {
      "text/plain": [
       "0.7426229508196721"
      ]
     },
     "execution_count": 123,
     "metadata": {},
     "output_type": "execute_result"
    }
   ],
   "source": [
    "y_pred=D_classifier.predict_proba(x_test)[:,1]\n",
    "\n",
    "\n",
    "new_y=[]\n",
    "for i in range (len(y_pred)):\n",
    "    if y_pred[i]<0.5:\n",
    "        new_y.append(0)\n",
    "    else:\n",
    "        new_y.append(1)\n",
    "\n",
    "from sklearn.metrics import accuracy_score\n",
    "\n",
    "\n",
    "accuracy_score(y_test,new_y)\n",
    "\n"
   ]
  },
  {
   "cell_type": "code",
   "execution_count": 124,
   "metadata": {},
   "outputs": [
    {
     "name": "stdout",
     "output_type": "stream",
     "text": [
      "mean_absolute_error is = 0.2573770491803279\n",
      "mean_squared_error is = 0.5073234167474707\n"
     ]
    }
   ],
   "source": [
    "\n",
    "from sklearn.metrics import mean_absolute_error\n",
    "from sklearn.metrics import mean_squared_error\n",
    "\n",
    "\n",
    "MAEVale=mean_absolute_error(y_test,y_pred,multioutput=\"uniform_average\")\n",
    "print(\"mean_absolute_error is =\",MAEVale)\n",
    "\n",
    "MSEVale=mean_squared_error(y_test,y_pred,multioutput=\"uniform_average\")\n",
    "RmseVal=np.sqrt(MSEVale)\n",
    "print(\"mean_squared_error is =\",RmseVal)\n"
   ]
  },
  {
   "cell_type": "code",
   "execution_count": 125,
   "metadata": {},
   "outputs": [
    {
     "name": "stdout",
     "output_type": "stream",
     "text": [
      "Decision Tree  classifiers  confusion_matrix\n",
      "Decision Tree classifier Trining Accurcy = 1.0\n",
      "Decision Tree classifier Testing Accurcy =  0.7426229508196721\n",
      "[[260  91]\n",
      " [ 66 193]]\n"
     ]
    },
    {
     "data": {
      "text/plain": [
       "Text(34.0, 0.5, 'Acutl')"
      ]
     },
     "execution_count": 125,
     "metadata": {},
     "output_type": "execute_result"
    },
    {
     "data": {
      "image/png": "[encoded data removed]",
      "text/plain": [
       "<Figure size 432x288 with 2 Axes>"
      ]
     },
     "metadata": {
      "needs_background": "light"
     },
     "output_type": "display_data"
    }
   ],
   "source": [
    "from sklearn.metrics import confusion_matrix\n",
    "\n",
    "print(\"Decision Tree  classifiers  confusion_matrix\")\n",
    "cm=confusion_matrix(y_test,new_y)\n",
    "TN=cm[0][0]\n",
    "TP=cm[1][1]\n",
    "FP=cm[0][1]\n",
    "FN=cm[1][0]\n",
    "\n",
    "print('Decision Tree classifier Trining Accurcy =',D_classifier.score(x_train,y_train) )\n",
    "print('Decision Tree classifier Testing Accurcy = ',(TP+TN)/(TP+TN+FP+FN))\n",
    "print(cm)\n",
    "                            \n",
    "sns.heatmap(cm,annot=True)\n",
    "plt.title(\"Decision Tree classifier confusion_matrix \")\n",
    "plt.xlabel(\"Predication\")\n",
    "plt.ylabel(\"Acutl\")"
   ]
  },
  {
   "cell_type": "code",
   "execution_count": 126,
   "metadata": {},
   "outputs": [
    {
     "name": "stdout",
     "output_type": "stream",
     "text": [
      "classification_report Decision Tree\n",
      ".......................................\n",
      "              precision    recall  f1-score   support\n",
      "\n",
      "           0       0.80      0.74      0.77       351\n",
      "           1       0.68      0.75      0.71       259\n",
      "\n",
      "    accuracy                           0.74       610\n",
      "   macro avg       0.74      0.74      0.74       610\n",
      "weighted avg       0.75      0.74      0.74       610\n",
      "\n",
      "accuracy_score= 0.7426229508196721\n"
     ]
    }
   ],
   "source": [
    "\n",
    "### CLASSIFACTION Report\n",
    "\n",
    "from sklearn.metrics import classification_report\n",
    "from sklearn.metrics import accuracy_score\n",
    "\n",
    "y_pred=D_classifier.predict(x_test)\n",
    "print('classification_report Decision Tree')\n",
    "print('.......................................') \n",
    "\n",
    "print(classification_report(y_test,y_pred)) \n",
    "print(\"accuracy_score=\",accuracy_score(y_test,y_pred)) \n"
   ]
  },
  {
   "cell_type": "markdown",
   "metadata": {},
   "source": [
    "## تدريب النموذج علي أفضل 17 سمة بعد معالجة القيم المفقودة\n"
   ]
  },
  {
   "cell_type": "code",
   "execution_count": 127,
   "metadata": {},
   "outputs": [
    {
     "name": "stdout",
     "output_type": "stream",
     "text": [
      "Top-17 features: \n",
      " ['Sex', 'Adress', 'LDH', 'CL', 'Creatinin', 'FBS', 'ESR', 'GPT', 'ALP', 'GOT', 'ALB', 'TCa', 'PLT', 'Na', 'K', 'Urea', 'Age']\n"
     ]
    }
   ],
   "source": [
    "\n",
    "fs = ReliefF(n_neighbors=1, n_features_to_keep= 17)\n",
    "features = fs.fit_transform(BC.drop(['CLASS'], axis=1).to_numpy(), BC['CLASS'].to_numpy()).T\n",
    "\n",
    "columns = BC.drop(['CLASS'], axis=1).columns.to_list()\n",
    "reliefF_features = []\n",
    "for feature in features:\n",
    "    for column in columns:\n",
    "        idx = (BC.drop(['CLASS'], axis=1)[column] == feature)\n",
    "        if idx.all() == True:\n",
    "            reliefF_features.append(column)\n",
    "\n",
    "print('Top-17 features: \\n', reliefF_features)"
   ]
  },
  {
   "cell_type": "code",
   "execution_count": 128,
   "metadata": {},
   "outputs": [
    {
     "data": {
      "text/plain": [
       "(2437, 16)"
      ]
     },
     "execution_count": 128,
     "metadata": {},
     "output_type": "execute_result"
    }
   ],
   "source": [
    "\n",
    "\n",
    "\n",
    "X=BC.drop([\"CLASS\",\"CA15\",\"CEA\",\"WBC\",\"RBC\",\"Na\",\"HGB\"],axis=1)\n",
    "Y=BC[\"CLASS\"] \n",
    "\n",
    "\n",
    "X.shape\n"
   ]
  },
  {
   "cell_type": "code",
   "execution_count": 129,
   "metadata": {},
   "outputs": [
    {
     "data": {
      "text/plain": [
       "((2437, 16), (2437,))"
      ]
     },
     "execution_count": 129,
     "metadata": {},
     "output_type": "execute_result"
    }
   ],
   "source": [
    "X.shape,Y.shape\n",
    "\n"
   ]
  },
  {
   "cell_type": "code",
   "execution_count": 130,
   "metadata": {},
   "outputs": [
    {
     "data": {
      "text/plain": [
       "1.0"
      ]
     },
     "execution_count": 130,
     "metadata": {},
     "output_type": "execute_result"
    }
   ],
   "source": [
    "from sklearn.model_selection import train_test_split\n",
    "\n",
    "x_train, x_test, y_train, y_test = train_test_split(X, Y, \n",
    "                                                    test_size=0.25)\n",
    "\n",
    "from sklearn.tree import DecisionTreeClassifier\n",
    "\n",
    "D_classifier= DecisionTreeClassifier(random_state=0) \n",
    "D_classifier.fit(x_train,y_train) \n",
    "D_classifier.score(x_train,y_train)\n",
    "\n"
   ]
  },
  {
   "cell_type": "code",
   "execution_count": 131,
   "metadata": {},
   "outputs": [
    {
     "data": {
      "text/plain": [
       "0.7229508196721312"
      ]
     },
     "execution_count": 131,
     "metadata": {},
     "output_type": "execute_result"
    }
   ],
   "source": [
    "y_pred=D_classifier.predict_proba(x_test)[:,1]\n",
    "\n",
    "\n",
    "new_y=[]\n",
    "for i in range (len(y_pred)):\n",
    "    if y_pred[i]<0.5:\n",
    "        new_y.append(0)\n",
    "    else:\n",
    "        new_y.append(1)\n",
    "\n",
    "from sklearn.metrics import accuracy_score\n",
    "\n",
    "\n",
    "accuracy_score(y_test,new_y)\n",
    "\n"
   ]
  },
  {
   "cell_type": "code",
   "execution_count": 132,
   "metadata": {},
   "outputs": [
    {
     "name": "stdout",
     "output_type": "stream",
     "text": [
      "mean_absolute_error is = 0.27704918032786885\n",
      "mean_squared_error is = 0.5263546146162954\n"
     ]
    }
   ],
   "source": [
    "\n",
    "from sklearn.metrics import mean_absolute_error\n",
    "from sklearn.metrics import mean_squared_error\n",
    "\n",
    "\n",
    "MAEVale=mean_absolute_error(y_test,y_pred,multioutput=\"uniform_average\")\n",
    "print(\"mean_absolute_error is =\",MAEVale)\n",
    "\n",
    "MSEVale=mean_squared_error(y_test,y_pred,multioutput=\"uniform_average\")\n",
    "RmseVal=np.sqrt(MSEVale)\n",
    "print(\"mean_squared_error is =\",RmseVal)\n"
   ]
  },
  {
   "cell_type": "code",
   "execution_count": 133,
   "metadata": {},
   "outputs": [
    {
     "name": "stdout",
     "output_type": "stream",
     "text": [
      "Decision Tree  classifiers  confusion_matrix\n",
      "Decision Tree classifier Trining Accurcy = 1.0\n",
      "Decision Tree classifier Testing Accurcy =  0.7229508196721312\n",
      "[[254  83]\n",
      " [ 86 187]]\n"
     ]
    },
    {
     "data": {
      "text/plain": [
       "Text(34.0, 0.5, 'Acutl')"
      ]
     },
     "execution_count": 133,
     "metadata": {},
     "output_type": "execute_result"
    },
    {
     "data": {
      "image/png": "[encoded data removed]",
      "text/plain": [
       "<Figure size 432x288 with 2 Axes>"
      ]
     },
     "metadata": {
      "needs_background": "light"
     },
     "output_type": "display_data"
    }
   ],
   "source": [
    "from sklearn.metrics import confusion_matrix\n",
    "\n",
    "print(\"Decision Tree  classifiers  confusion_matrix\")\n",
    "cm=confusion_matrix(y_test,new_y)\n",
    "TN=cm[0][0]\n",
    "TP=cm[1][1]\n",
    "FP=cm[0][1]\n",
    "FN=cm[1][0]\n",
    "\n",
    "print('Decision Tree classifier Trining Accurcy =',D_classifier.score(x_train,y_train) )\n",
    "print('Decision Tree classifier Testing Accurcy = ',(TP+TN)/(TP+TN+FP+FN))\n",
    "print(cm)\n",
    "                            \n",
    "sns.heatmap(cm,annot=True)\n",
    "plt.title(\"Decision Tree classifier confusion_matrix \")\n",
    "plt.xlabel(\"Predication\")\n",
    "plt.ylabel(\"Acutl\")"
   ]
  },
  {
   "cell_type": "code",
   "execution_count": 134,
   "metadata": {},
   "outputs": [
    {
     "name": "stdout",
     "output_type": "stream",
     "text": [
      "classification_report Decision Tree\n",
      ".......................................\n",
      "              precision    recall  f1-score   support\n",
      "\n",
      "           0       0.75      0.75      0.75       337\n",
      "           1       0.69      0.68      0.69       273\n",
      "\n",
      "    accuracy                           0.72       610\n",
      "   macro avg       0.72      0.72      0.72       610\n",
      "weighted avg       0.72      0.72      0.72       610\n",
      "\n",
      "accuracy_score= 0.7229508196721312\n"
     ]
    }
   ],
   "source": [
    "\n",
    "### CLASSIFACTION Report\n",
    "\n",
    "from sklearn.metrics import classification_report\n",
    "from sklearn.metrics import accuracy_score\n",
    "\n",
    "y_pred=D_classifier.predict(x_test)\n",
    "print('classification_report Decision Tree')\n",
    "print('.......................................') \n",
    "\n",
    "print(classification_report(y_test,y_pred)) \n",
    "print(\"accuracy_score=\",accuracy_score(y_test,y_pred)) \n"
   ]
  },
  {
   "cell_type": "markdown",
   "metadata": {},
   "source": [
    "## تدريب النموذج علي أفضل 18 سمة بعد معالجة القيم المفقودة\n"
   ]
  },
  {
   "cell_type": "code",
   "execution_count": 135,
   "metadata": {},
   "outputs": [
    {
     "name": "stdout",
     "output_type": "stream",
     "text": [
      "Top-18 features: \n",
      " ['Sex', 'Adress', 'LDH', 'CL', 'Creatinin', 'FBS', 'ESR', 'GPT', 'ALP', 'GOT', 'ALB', 'TCa', 'PLT', 'Na', 'K', 'Urea', 'Age', 'HGB']\n"
     ]
    }
   ],
   "source": [
    "\n",
    "fs = ReliefF(n_neighbors=1, n_features_to_keep= 18)\n",
    "features = fs.fit_transform(BC.drop(['CLASS'], axis=1).to_numpy(), BC['CLASS'].to_numpy()).T\n",
    "\n",
    "columns = BC.drop(['CLASS'], axis=1).columns.to_list()\n",
    "reliefF_features = []\n",
    "for feature in features:\n",
    "    for column in columns:\n",
    "        idx = (BC.drop(['CLASS'], axis=1)[column] == feature)\n",
    "        if idx.all() == True:\n",
    "            reliefF_features.append(column)\n",
    "\n",
    "print('Top-18 features: \\n', reliefF_features)"
   ]
  },
  {
   "cell_type": "code",
   "execution_count": 137,
   "metadata": {},
   "outputs": [
    {
     "data": {
      "text/plain": [
       "(2437, 18)"
      ]
     },
     "execution_count": 137,
     "metadata": {},
     "output_type": "execute_result"
    }
   ],
   "source": [
    "\n",
    "\n",
    "\n",
    "X=BC.drop([\"CLASS\",\"CA15\",\"CEA\",\"WBC\",\"RBC\"],axis=1)\n",
    "Y=BC[\"CLASS\"] \n",
    "\n",
    "\n",
    "X.shape\n"
   ]
  },
  {
   "cell_type": "code",
   "execution_count": 138,
   "metadata": {},
   "outputs": [
    {
     "data": {
      "text/plain": [
       "((2437, 18), (2437,))"
      ]
     },
     "execution_count": 138,
     "metadata": {},
     "output_type": "execute_result"
    }
   ],
   "source": [
    "X.shape,Y.shape\n",
    "\n"
   ]
  },
  {
   "cell_type": "code",
   "execution_count": 139,
   "metadata": {},
   "outputs": [
    {
     "data": {
      "text/plain": [
       "1.0"
      ]
     },
     "execution_count": 139,
     "metadata": {},
     "output_type": "execute_result"
    }
   ],
   "source": [
    "from sklearn.model_selection import train_test_split\n",
    "\n",
    "x_train, x_test, y_train, y_test = train_test_split(X, Y, \n",
    "                                                    test_size=0.25)\n",
    "\n",
    "from sklearn.tree import DecisionTreeClassifier\n",
    "\n",
    "D_classifier= DecisionTreeClassifier(random_state=0) \n",
    "D_classifier.fit(x_train,y_train) \n",
    "D_classifier.score(x_train,y_train)\n",
    "\n"
   ]
  },
  {
   "cell_type": "code",
   "execution_count": 140,
   "metadata": {},
   "outputs": [
    {
     "data": {
      "text/plain": [
       "0.7557377049180328"
      ]
     },
     "execution_count": 140,
     "metadata": {},
     "output_type": "execute_result"
    }
   ],
   "source": [
    "y_pred=D_classifier.predict_proba(x_test)[:,1]\n",
    "\n",
    "\n",
    "new_y=[]\n",
    "for i in range (len(y_pred)):\n",
    "    if y_pred[i]<0.5:\n",
    "        new_y.append(0)\n",
    "    else:\n",
    "        new_y.append(1)\n",
    "\n",
    "from sklearn.metrics import accuracy_score\n",
    "\n",
    "\n",
    "accuracy_score(y_test,new_y)\n",
    "\n"
   ]
  },
  {
   "cell_type": "code",
   "execution_count": 141,
   "metadata": {},
   "outputs": [
    {
     "name": "stdout",
     "output_type": "stream",
     "text": [
      "mean_absolute_error is = 0.2442622950819672\n",
      "mean_squared_error is = 0.4942289905316838\n"
     ]
    }
   ],
   "source": [
    "\n",
    "from sklearn.metrics import mean_absolute_error\n",
    "from sklearn.metrics import mean_squared_error\n",
    "\n",
    "\n",
    "MAEVale=mean_absolute_error(y_test,y_pred,multioutput=\"uniform_average\")\n",
    "print(\"mean_absolute_error is =\",MAEVale)\n",
    "\n",
    "MSEVale=mean_squared_error(y_test,y_pred,multioutput=\"uniform_average\")\n",
    "RmseVal=np.sqrt(MSEVale)\n",
    "print(\"mean_squared_error is =\",RmseVal)\n"
   ]
  },
  {
   "cell_type": "code",
   "execution_count": 142,
   "metadata": {},
   "outputs": [
    {
     "name": "stdout",
     "output_type": "stream",
     "text": [
      "Decision Tree  classifiers  confusion_matrix\n",
      "Decision Tree classifier Trining Accurcy = 1.0\n",
      "Decision Tree classifier Testing Accurcy =  0.7557377049180328\n",
      "[[265  84]\n",
      " [ 65 196]]\n"
     ]
    },
    {
     "data": {
      "text/plain": [
       "Text(34.0, 0.5, 'Acutl')"
      ]
     },
     "execution_count": 142,
     "metadata": {},
     "output_type": "execute_result"
    },
    {
     "data": {
      "image/png": "[encoded data removed]",
      "text/plain": [
       "<Figure size 432x288 with 2 Axes>"
      ]
     },
     "metadata": {
      "needs_background": "light"
     },
     "output_type": "display_data"
    }
   ],
   "source": [
    "from sklearn.metrics import confusion_matrix\n",
    "\n",
    "print(\"Decision Tree  classifiers  confusion_matrix\")\n",
    "cm=confusion_matrix(y_test,new_y)\n",
    "TN=cm[0][0]\n",
    "TP=cm[1][1]\n",
    "FP=cm[0][1]\n",
    "FN=cm[1][0]\n",
    "\n",
    "print('Decision Tree classifier Trining Accurcy =',D_classifier.score(x_train,y_train) )\n",
    "print('Decision Tree classifier Testing Accurcy = ',(TP+TN)/(TP+TN+FP+FN))\n",
    "print(cm)\n",
    "                            \n",
    "sns.heatmap(cm,annot=True)\n",
    "plt.title(\"Decision Tree classifier confusion_matrix \")\n",
    "plt.xlabel(\"Predication\")\n",
    "plt.ylabel(\"Acutl\")"
   ]
  },
  {
   "cell_type": "code",
   "execution_count": 143,
   "metadata": {},
   "outputs": [
    {
     "name": "stdout",
     "output_type": "stream",
     "text": [
      "classification_report Decision Tree\n",
      ".......................................\n",
      "              precision    recall  f1-score   support\n",
      "\n",
      "           0       0.80      0.76      0.78       349\n",
      "           1       0.70      0.75      0.72       261\n",
      "\n",
      "    accuracy                           0.76       610\n",
      "   macro avg       0.75      0.76      0.75       610\n",
      "weighted avg       0.76      0.76      0.76       610\n",
      "\n",
      "accuracy_score= 0.7557377049180328\n"
     ]
    }
   ],
   "source": [
    "\n",
    "### CLASSIFACTION Report\n",
    "\n",
    "from sklearn.metrics import classification_report\n",
    "from sklearn.metrics import accuracy_score\n",
    "\n",
    "y_pred=D_classifier.predict(x_test)\n",
    "print('classification_report Decision Tree')\n",
    "print('.......................................') \n",
    "\n",
    "print(classification_report(y_test,y_pred)) \n",
    "print(\"accuracy_score=\",accuracy_score(y_test,y_pred)) \n"
   ]
  },
  {
   "cell_type": "markdown",
   "metadata": {},
   "source": [
    "## تدريب النموذج علي أفضل 19 سمة بعد معالجة القيم المفقودة\n"
   ]
  },
  {
   "cell_type": "code",
   "execution_count": 144,
   "metadata": {},
   "outputs": [
    {
     "name": "stdout",
     "output_type": "stream",
     "text": [
      "Top-19 features: \n",
      " ['Sex', 'Adress', 'LDH', 'CL', 'Creatinin', 'FBS', 'ESR', 'GPT', 'ALP', 'GOT', 'ALB', 'TCa', 'PLT', 'Na', 'K', 'Urea', 'Age', 'HGB', 'WBC']\n"
     ]
    }
   ],
   "source": [
    "\n",
    "fs = ReliefF(n_neighbors=1, n_features_to_keep= 19)\n",
    "features = fs.fit_transform(BC.drop(['CLASS'], axis=1).to_numpy(), BC['CLASS'].to_numpy()).T\n",
    "\n",
    "columns = BC.drop(['CLASS'], axis=1).columns.to_list()\n",
    "reliefF_features = []\n",
    "for feature in features:\n",
    "    for column in columns:\n",
    "        idx = (BC.drop(['CLASS'], axis=1)[column] == feature)\n",
    "        if idx.all() == True:\n",
    "            reliefF_features.append(column)\n",
    "\n",
    "print('Top-19 features: \\n', reliefF_features)"
   ]
  },
  {
   "cell_type": "code",
   "execution_count": 146,
   "metadata": {},
   "outputs": [
    {
     "data": {
      "text/plain": [
       "(2437, 19)"
      ]
     },
     "execution_count": 146,
     "metadata": {},
     "output_type": "execute_result"
    }
   ],
   "source": [
    "\n",
    "\n",
    "\n",
    "X=BC.drop([\"CLASS\",\"CA15\",\"CEA\",\"RBC\"],axis=1)\n",
    "Y=BC[\"CLASS\"] \n",
    "\n",
    "\n",
    "X.shape\n"
   ]
  },
  {
   "cell_type": "code",
   "execution_count": 147,
   "metadata": {},
   "outputs": [
    {
     "data": {
      "text/plain": [
       "((2437, 19), (2437,))"
      ]
     },
     "execution_count": 147,
     "metadata": {},
     "output_type": "execute_result"
    }
   ],
   "source": [
    "X.shape,Y.shape\n",
    "\n"
   ]
  },
  {
   "cell_type": "code",
   "execution_count": 148,
   "metadata": {},
   "outputs": [
    {
     "data": {
      "text/plain": [
       "1.0"
      ]
     },
     "execution_count": 148,
     "metadata": {},
     "output_type": "execute_result"
    }
   ],
   "source": [
    "from sklearn.model_selection import train_test_split\n",
    "\n",
    "x_train, x_test, y_train, y_test = train_test_split(X, Y, \n",
    "                                                    test_size=0.25)\n",
    "\n",
    "from sklearn.tree import DecisionTreeClassifier\n",
    "\n",
    "D_classifier= DecisionTreeClassifier(random_state=0) \n",
    "D_classifier.fit(x_train,y_train) \n",
    "D_classifier.score(x_train,y_train)\n",
    "\n"
   ]
  },
  {
   "cell_type": "code",
   "execution_count": 149,
   "metadata": {},
   "outputs": [
    {
     "data": {
      "text/plain": [
       "0.759016393442623"
      ]
     },
     "execution_count": 149,
     "metadata": {},
     "output_type": "execute_result"
    }
   ],
   "source": [
    "y_pred=D_classifier.predict_proba(x_test)[:,1]\n",
    "\n",
    "\n",
    "new_y=[]\n",
    "for i in range (len(y_pred)):\n",
    "    if y_pred[i]<0.5:\n",
    "        new_y.append(0)\n",
    "    else:\n",
    "        new_y.append(1)\n",
    "\n",
    "from sklearn.metrics import accuracy_score\n",
    "\n",
    "\n",
    "accuracy_score(y_test,new_y)\n",
    "\n"
   ]
  },
  {
   "cell_type": "code",
   "execution_count": 150,
   "metadata": {},
   "outputs": [
    {
     "name": "stdout",
     "output_type": "stream",
     "text": [
      "mean_absolute_error is = 0.24098360655737705\n",
      "mean_squared_error is = 0.4909008113227937\n"
     ]
    }
   ],
   "source": [
    "\n",
    "from sklearn.metrics import mean_absolute_error\n",
    "from sklearn.metrics import mean_squared_error\n",
    "\n",
    "\n",
    "MAEVale=mean_absolute_error(y_test,y_pred,multioutput=\"uniform_average\")\n",
    "print(\"mean_absolute_error is =\",MAEVale)\n",
    "\n",
    "MSEVale=mean_squared_error(y_test,y_pred,multioutput=\"uniform_average\")\n",
    "RmseVal=np.sqrt(MSEVale)\n",
    "print(\"mean_squared_error is =\",RmseVal)\n"
   ]
  },
  {
   "cell_type": "code",
   "execution_count": 151,
   "metadata": {},
   "outputs": [
    {
     "name": "stdout",
     "output_type": "stream",
     "text": [
      "Decision Tree  classifiers  confusion_matrix\n",
      "Decision Tree classifier Trining Accurcy = 1.0\n",
      "Decision Tree classifier Testing Accurcy =  0.759016393442623\n",
      "[[280  59]\n",
      " [ 88 183]]\n"
     ]
    },
    {
     "data": {
      "text/plain": [
       "Text(34.0, 0.5, 'Acutl')"
      ]
     },
     "execution_count": 151,
     "metadata": {},
     "output_type": "execute_result"
    },
    {
     "data": {
      "image/png": "[encoded data removed]",
      "text/plain": [
       "<Figure size 432x288 with 2 Axes>"
      ]
     },
     "metadata": {
      "needs_background": "light"
     },
     "output_type": "display_data"
    }
   ],
   "source": [
    "from sklearn.metrics import confusion_matrix\n",
    "\n",
    "print(\"Decision Tree  classifiers  confusion_matrix\")\n",
    "cm=confusion_matrix(y_test,new_y)\n",
    "TN=cm[0][0]\n",
    "TP=cm[1][1]\n",
    "FP=cm[0][1]\n",
    "FN=cm[1][0]\n",
    "\n",
    "print('Decision Tree classifier Trining Accurcy =',D_classifier.score(x_train,y_train) )\n",
    "print('Decision Tree classifier Testing Accurcy = ',(TP+TN)/(TP+TN+FP+FN))\n",
    "print(cm)\n",
    "                            \n",
    "sns.heatmap(cm,annot=True)\n",
    "plt.title(\"Decision Tree classifier confusion_matrix \")\n",
    "plt.xlabel(\"Predication\")\n",
    "plt.ylabel(\"Acutl\")"
   ]
  },
  {
   "cell_type": "code",
   "execution_count": 152,
   "metadata": {},
   "outputs": [
    {
     "name": "stdout",
     "output_type": "stream",
     "text": [
      "classification_report Decision Tree\n",
      ".......................................\n",
      "              precision    recall  f1-score   support\n",
      "\n",
      "           0       0.76      0.83      0.79       339\n",
      "           1       0.76      0.68      0.71       271\n",
      "\n",
      "    accuracy                           0.76       610\n",
      "   macro avg       0.76      0.75      0.75       610\n",
      "weighted avg       0.76      0.76      0.76       610\n",
      "\n",
      "accuracy_score= 0.759016393442623\n"
     ]
    }
   ],
   "source": [
    "\n",
    "### CLASSIFACTION Report\n",
    "\n",
    "from sklearn.metrics import classification_report\n",
    "from sklearn.metrics import accuracy_score\n",
    "\n",
    "y_pred=D_classifier.predict(x_test)\n",
    "print('classification_report Decision Tree')\n",
    "print('.......................................') \n",
    "\n",
    "print(classification_report(y_test,y_pred)) \n",
    "print(\"accuracy_score=\",accuracy_score(y_test,y_pred)) \n"
   ]
  },
  {
   "cell_type": "markdown",
   "metadata": {},
   "source": [
    "## تدريب النموذج علي أفضل 20 سمة بعد معالجة القيم المفقودة\n"
   ]
  },
  {
   "cell_type": "code",
   "execution_count": 153,
   "metadata": {},
   "outputs": [
    {
     "name": "stdout",
     "output_type": "stream",
     "text": [
      "Top-20 features: \n",
      " ['Sex', 'Adress', 'LDH', 'CL', 'Creatinin', 'FBS', 'ESR', 'GPT', 'ALP', 'GOT', 'ALB', 'TCa', 'PLT', 'Na', 'K', 'Urea', 'Age', 'HGB', 'WBC', 'RBC']\n"
     ]
    }
   ],
   "source": [
    "\n",
    "fs = ReliefF(n_neighbors=1, n_features_to_keep= 20)\n",
    "features = fs.fit_transform(BC.drop(['CLASS'], axis=1).to_numpy(), BC['CLASS'].to_numpy()).T\n",
    "\n",
    "columns = BC.drop(['CLASS'], axis=1).columns.to_list()\n",
    "reliefF_features = []\n",
    "for feature in features:\n",
    "    for column in columns:\n",
    "        idx = (BC.drop(['CLASS'], axis=1)[column] == feature)\n",
    "        if idx.all() == True:\n",
    "            reliefF_features.append(column)\n",
    "\n",
    "print('Top-20 features: \\n', reliefF_features)"
   ]
  },
  {
   "cell_type": "code",
   "execution_count": 154,
   "metadata": {},
   "outputs": [
    {
     "data": {
      "text/plain": [
       "(2437, 20)"
      ]
     },
     "execution_count": 154,
     "metadata": {},
     "output_type": "execute_result"
    }
   ],
   "source": [
    "\n",
    "\n",
    "\n",
    "X=BC.drop([\"CLASS\",\"CA15\",\"CEA\"],axis=1)\n",
    "Y=BC[\"CLASS\"] \n",
    "\n",
    "\n",
    "X.shape\n"
   ]
  },
  {
   "cell_type": "code",
   "execution_count": 155,
   "metadata": {},
   "outputs": [
    {
     "data": {
      "text/plain": [
       "((2437, 20), (2437,))"
      ]
     },
     "execution_count": 155,
     "metadata": {},
     "output_type": "execute_result"
    }
   ],
   "source": [
    "X.shape,Y.shape\n",
    "\n"
   ]
  },
  {
   "cell_type": "code",
   "execution_count": 156,
   "metadata": {},
   "outputs": [
    {
     "data": {
      "text/plain": [
       "1.0"
      ]
     },
     "execution_count": 156,
     "metadata": {},
     "output_type": "execute_result"
    }
   ],
   "source": [
    "from sklearn.model_selection import train_test_split\n",
    "\n",
    "x_train, x_test, y_train, y_test = train_test_split(X, Y, \n",
    "                                                    test_size=0.25)\n",
    "\n",
    "from sklearn.tree import DecisionTreeClassifier\n",
    "\n",
    "D_classifier= DecisionTreeClassifier(random_state=0) \n",
    "D_classifier.fit(x_train,y_train) \n",
    "D_classifier.score(x_train,y_train)\n",
    "\n"
   ]
  },
  {
   "cell_type": "code",
   "execution_count": 157,
   "metadata": {},
   "outputs": [
    {
     "data": {
      "text/plain": [
       "0.7819672131147541"
      ]
     },
     "execution_count": 157,
     "metadata": {},
     "output_type": "execute_result"
    }
   ],
   "source": [
    "y_pred=D_classifier.predict_proba(x_test)[:,1]\n",
    "\n",
    "\n",
    "new_y=[]\n",
    "for i in range (len(y_pred)):\n",
    "    if y_pred[i]<0.5:\n",
    "        new_y.append(0)\n",
    "    else:\n",
    "        new_y.append(1)\n",
    "\n",
    "from sklearn.metrics import accuracy_score\n",
    "\n",
    "\n",
    "accuracy_score(y_test,new_y)\n",
    "\n"
   ]
  },
  {
   "cell_type": "code",
   "execution_count": 158,
   "metadata": {},
   "outputs": [
    {
     "name": "stdout",
     "output_type": "stream",
     "text": [
      "mean_absolute_error is = 0.2180327868852459\n",
      "mean_squared_error is = 0.46693981077355773\n"
     ]
    }
   ],
   "source": [
    "\n",
    "from sklearn.metrics import mean_absolute_error\n",
    "from sklearn.metrics import mean_squared_error\n",
    "\n",
    "\n",
    "MAEVale=mean_absolute_error(y_test,y_pred,multioutput=\"uniform_average\")\n",
    "print(\"mean_absolute_error is =\",MAEVale)\n",
    "\n",
    "MSEVale=mean_squared_error(y_test,y_pred,multioutput=\"uniform_average\")\n",
    "RmseVal=np.sqrt(MSEVale)\n",
    "print(\"mean_squared_error is =\",RmseVal)\n"
   ]
  },
  {
   "cell_type": "code",
   "execution_count": 159,
   "metadata": {},
   "outputs": [
    {
     "name": "stdout",
     "output_type": "stream",
     "text": [
      "Decision Tree  classifiers  confusion_matrix\n",
      "Decision Tree classifier Trining Accurcy = 1.0\n",
      "Decision Tree classifier Testing Accurcy =  0.7819672131147541\n",
      "[[269  61]\n",
      " [ 72 208]]\n"
     ]
    },
    {
     "data": {
      "text/plain": [
       "Text(34.0, 0.5, 'Acutl')"
      ]
     },
     "execution_count": 159,
     "metadata": {},
     "output_type": "execute_result"
    },
    {
     "data": {
      "image/png": "[encoded data removed]",
      "text/plain": [
       "<Figure size 432x288 with 2 Axes>"
      ]
     },
     "metadata": {
      "needs_background": "light"
     },
     "output_type": "display_data"
    }
   ],
   "source": [
    "from sklearn.metrics import confusion_matrix\n",
    "\n",
    "print(\"Decision Tree  classifiers  confusion_matrix\")\n",
    "cm=confusion_matrix(y_test,new_y)\n",
    "TN=cm[0][0]\n",
    "TP=cm[1][1]\n",
    "FP=cm[0][1]\n",
    "FN=cm[1][0]\n",
    "\n",
    "print('Decision Tree classifier Trining Accurcy =',D_classifier.score(x_train,y_train) )\n",
    "print('Decision Tree classifier Testing Accurcy = ',(TP+TN)/(TP+TN+FP+FN))\n",
    "print(cm)\n",
    "                            \n",
    "sns.heatmap(cm,annot=True)\n",
    "plt.title(\"Decision Tree classifier confusion_matrix \")\n",
    "plt.xlabel(\"Predication\")\n",
    "plt.ylabel(\"Acutl\")"
   ]
  },
  {
   "cell_type": "code",
   "execution_count": 160,
   "metadata": {},
   "outputs": [
    {
     "name": "stdout",
     "output_type": "stream",
     "text": [
      "classification_report Decision Tree\n",
      ".......................................\n",
      "              precision    recall  f1-score   support\n",
      "\n",
      "           0       0.79      0.82      0.80       330\n",
      "           1       0.77      0.74      0.76       280\n",
      "\n",
      "    accuracy                           0.78       610\n",
      "   macro avg       0.78      0.78      0.78       610\n",
      "weighted avg       0.78      0.78      0.78       610\n",
      "\n",
      "accuracy_score= 0.7819672131147541\n"
     ]
    }
   ],
   "source": [
    "\n",
    "### CLASSIFACTION Report\n",
    "\n",
    "from sklearn.metrics import classification_report\n",
    "from sklearn.metrics import accuracy_score\n",
    "\n",
    "y_pred=D_classifier.predict(x_test)\n",
    "print('classification_report Decision Tree')\n",
    "print('.......................................') \n",
    "\n",
    "print(classification_report(y_test,y_pred)) \n",
    "print(\"accuracy_score=\",accuracy_score(y_test,y_pred)) \n"
   ]
  },
  {
   "cell_type": "markdown",
   "metadata": {},
   "source": [
    "## تدريب النموذج علي أفضل 21 سمة بعد معالجة القيم المفقودة\n"
   ]
  },
  {
   "cell_type": "code",
   "execution_count": 161,
   "metadata": {},
   "outputs": [
    {
     "name": "stdout",
     "output_type": "stream",
     "text": [
      "Top-21 features: \n",
      " ['Sex', 'Adress', 'LDH', 'CL', 'Creatinin', 'FBS', 'ESR', 'GPT', 'ALP', 'GOT', 'ALB', 'TCa', 'PLT', 'Na', 'K', 'Urea', 'Age', 'HGB', 'WBC', 'RBC', 'CEA']\n"
     ]
    }
   ],
   "source": [
    "\n",
    "fs = ReliefF(n_neighbors=1, n_features_to_keep= 21)\n",
    "features = fs.fit_transform(BC.drop(['CLASS'], axis=1).to_numpy(), BC['CLASS'].to_numpy()).T\n",
    "\n",
    "columns = BC.drop(['CLASS'], axis=1).columns.to_list()\n",
    "reliefF_features = []\n",
    "for feature in features:\n",
    "    for column in columns:\n",
    "        idx = (BC.drop(['CLASS'], axis=1)[column] == feature)\n",
    "        if idx.all() == True:\n",
    "            reliefF_features.append(column)\n",
    "\n",
    "print('Top-21 features: \\n', reliefF_features)"
   ]
  },
  {
   "cell_type": "code",
   "execution_count": 162,
   "metadata": {},
   "outputs": [
    {
     "data": {
      "text/plain": [
       "(2437, 21)"
      ]
     },
     "execution_count": 162,
     "metadata": {},
     "output_type": "execute_result"
    }
   ],
   "source": [
    "\n",
    "\n",
    "\n",
    "X=BC.drop([\"CLASS\",\"CA15\"],axis=1)\n",
    "Y=BC[\"CLASS\"] \n",
    "\n",
    "\n",
    "X.shape\n"
   ]
  },
  {
   "cell_type": "code",
   "execution_count": 163,
   "metadata": {},
   "outputs": [
    {
     "data": {
      "text/plain": [
       "((2437, 21), (2437,))"
      ]
     },
     "execution_count": 163,
     "metadata": {},
     "output_type": "execute_result"
    }
   ],
   "source": [
    "X.shape,Y.shape\n",
    "\n"
   ]
  },
  {
   "cell_type": "code",
   "execution_count": 164,
   "metadata": {},
   "outputs": [
    {
     "data": {
      "text/plain": [
       "1.0"
      ]
     },
     "execution_count": 164,
     "metadata": {},
     "output_type": "execute_result"
    }
   ],
   "source": [
    "from sklearn.model_selection import train_test_split\n",
    "\n",
    "x_train, x_test, y_train, y_test = train_test_split(X, Y, \n",
    "                                                    test_size=0.25)\n",
    "\n",
    "from sklearn.tree import DecisionTreeClassifier\n",
    "\n",
    "D_classifier= DecisionTreeClassifier(random_state=0) \n",
    "D_classifier.fit(x_train,y_train) \n",
    "D_classifier.score(x_train,y_train)\n",
    "\n"
   ]
  },
  {
   "cell_type": "code",
   "execution_count": 165,
   "metadata": {},
   "outputs": [
    {
     "data": {
      "text/plain": [
       "0.8803278688524591"
      ]
     },
     "execution_count": 165,
     "metadata": {},
     "output_type": "execute_result"
    }
   ],
   "source": [
    "y_pred=D_classifier.predict_proba(x_test)[:,1]\n",
    "\n",
    "\n",
    "new_y=[]\n",
    "for i in range (len(y_pred)):\n",
    "    if y_pred[i]<0.5:\n",
    "        new_y.append(0)\n",
    "    else:\n",
    "        new_y.append(1)\n",
    "\n",
    "from sklearn.metrics import accuracy_score\n",
    "\n",
    "\n",
    "accuracy_score(y_test,new_y)\n",
    "\n"
   ]
  },
  {
   "cell_type": "code",
   "execution_count": 166,
   "metadata": {},
   "outputs": [
    {
     "name": "stdout",
     "output_type": "stream",
     "text": [
      "mean_absolute_error is = 0.11967213114754098\n",
      "mean_squared_error is = 0.3459365998959072\n"
     ]
    }
   ],
   "source": [
    "\n",
    "from sklearn.metrics import mean_absolute_error\n",
    "from sklearn.metrics import mean_squared_error\n",
    "\n",
    "\n",
    "MAEVale=mean_absolute_error(y_test,y_pred,multioutput=\"uniform_average\")\n",
    "print(\"mean_absolute_error is =\",MAEVale)\n",
    "\n",
    "MSEVale=mean_squared_error(y_test,y_pred,multioutput=\"uniform_average\")\n",
    "RmseVal=np.sqrt(MSEVale)\n",
    "print(\"mean_squared_error is =\",RmseVal)\n"
   ]
  },
  {
   "cell_type": "code",
   "execution_count": 167,
   "metadata": {},
   "outputs": [
    {
     "name": "stdout",
     "output_type": "stream",
     "text": [
      "Decision Tree  classifiers  confusion_matrix\n",
      "Decision Tree classifier Trining Accurcy = 1.0\n",
      "Decision Tree classifier Testing Accurcy =  0.8803278688524591\n",
      "[[301  30]\n",
      " [ 43 236]]\n"
     ]
    },
    {
     "data": {
      "text/plain": [
       "Text(34.0, 0.5, 'Acutl')"
      ]
     },
     "execution_count": 167,
     "metadata": {},
     "output_type": "execute_result"
    },
    {
     "data": {
      "image/png": "[encoded data removed]",
      "text/plain": [
       "<Figure size 432x288 with 2 Axes>"
      ]
     },
     "metadata": {
      "needs_background": "light"
     },
     "output_type": "display_data"
    }
   ],
   "source": [
    "from sklearn.metrics import confusion_matrix\n",
    "\n",
    "print(\"Decision Tree  classifiers  confusion_matrix\")\n",
    "cm=confusion_matrix(y_test,new_y)\n",
    "TN=cm[0][0]\n",
    "TP=cm[1][1]\n",
    "FP=cm[0][1]\n",
    "FN=cm[1][0]\n",
    "\n",
    "print('Decision Tree classifier Trining Accurcy =',D_classifier.score(x_train,y_train) )\n",
    "print('Decision Tree classifier Testing Accurcy = ',(TP+TN)/(TP+TN+FP+FN))\n",
    "print(cm)\n",
    "                            \n",
    "sns.heatmap(cm,annot=True)\n",
    "plt.title(\"Decision Tree classifier confusion_matrix \")\n",
    "plt.xlabel(\"Predication\")\n",
    "plt.ylabel(\"Acutl\")"
   ]
  },
  {
   "cell_type": "code",
   "execution_count": 168,
   "metadata": {},
   "outputs": [
    {
     "name": "stdout",
     "output_type": "stream",
     "text": [
      "classification_report Decision Tree\n",
      ".......................................\n",
      "              precision    recall  f1-score   support\n",
      "\n",
      "           0       0.88      0.91      0.89       331\n",
      "           1       0.89      0.85      0.87       279\n",
      "\n",
      "    accuracy                           0.88       610\n",
      "   macro avg       0.88      0.88      0.88       610\n",
      "weighted avg       0.88      0.88      0.88       610\n",
      "\n",
      "accuracy_score= 0.8803278688524591\n"
     ]
    }
   ],
   "source": [
    "\n",
    "### CLASSIFACTION Report\n",
    "\n",
    "from sklearn.metrics import classification_report\n",
    "from sklearn.metrics import accuracy_score\n",
    "\n",
    "y_pred=D_classifier.predict(x_test)\n",
    "print('classification_report Decision Tree')\n",
    "print('.......................................') \n",
    "\n",
    "print(classification_report(y_test,y_pred)) \n",
    "print(\"accuracy_score=\",accuracy_score(y_test,y_pred)) \n"
   ]
  },
  {
   "cell_type": "markdown",
   "metadata": {},
   "source": [
    "## تدريب النموذج علي أفضل 22 سمة بعد معالجة القيم المفقودة\n"
   ]
  },
  {
   "cell_type": "code",
   "execution_count": 169,
   "metadata": {},
   "outputs": [
    {
     "name": "stdout",
     "output_type": "stream",
     "text": [
      "Top-22 features: \n",
      " ['Sex', 'Adress', 'LDH', 'CL', 'Creatinin', 'FBS', 'ESR', 'GPT', 'ALP', 'GOT', 'ALB', 'TCa', 'PLT', 'Na', 'K', 'Urea', 'Age', 'HGB', 'WBC', 'RBC', 'CEA', 'CA15']\n"
     ]
    }
   ],
   "source": [
    "\n",
    "fs = ReliefF(n_neighbors=1, n_features_to_keep= 22)\n",
    "features = fs.fit_transform(BC.drop(['CLASS'], axis=1).to_numpy(), BC['CLASS'].to_numpy()).T\n",
    "\n",
    "columns = BC.drop(['CLASS'], axis=1).columns.to_list()\n",
    "reliefF_features = []\n",
    "for feature in features:\n",
    "    for column in columns:\n",
    "        idx = (BC.drop(['CLASS'], axis=1)[column] == feature)\n",
    "        if idx.all() == True:\n",
    "            reliefF_features.append(column)\n",
    "\n",
    "print('Top-22 features: \\n', reliefF_features)"
   ]
  },
  {
   "cell_type": "code",
   "execution_count": 172,
   "metadata": {},
   "outputs": [
    {
     "data": {
      "text/plain": [
       "(2437, 22)"
      ]
     },
     "execution_count": 172,
     "metadata": {},
     "output_type": "execute_result"
    }
   ],
   "source": [
    "\n",
    "\n",
    "\n",
    "X=BC.drop([\"CLASS\"],axis=1)\n",
    "Y=BC[\"CLASS\"] \n",
    "\n",
    "\n",
    "X.shape\n"
   ]
  },
  {
   "cell_type": "code",
   "execution_count": 173,
   "metadata": {},
   "outputs": [
    {
     "data": {
      "text/plain": [
       "((2437, 22), (2437,))"
      ]
     },
     "execution_count": 173,
     "metadata": {},
     "output_type": "execute_result"
    }
   ],
   "source": [
    "X.shape,Y.shape\n",
    "\n"
   ]
  },
  {
   "cell_type": "code",
   "execution_count": 174,
   "metadata": {},
   "outputs": [
    {
     "data": {
      "text/plain": [
       "1.0"
      ]
     },
     "execution_count": 174,
     "metadata": {},
     "output_type": "execute_result"
    }
   ],
   "source": [
    "from sklearn.model_selection import train_test_split\n",
    "\n",
    "x_train, x_test, y_train, y_test = train_test_split(X, Y, \n",
    "                                                    test_size=0.25)\n",
    "\n",
    "from sklearn.tree import DecisionTreeClassifier\n",
    "\n",
    "D_classifier= DecisionTreeClassifier(random_state=0) \n",
    "D_classifier.fit(x_train,y_train) \n",
    "D_classifier.score(x_train,y_train)\n",
    "\n"
   ]
  },
  {
   "cell_type": "code",
   "execution_count": 175,
   "metadata": {},
   "outputs": [
    {
     "data": {
      "text/plain": [
       "0.8737704918032787"
      ]
     },
     "execution_count": 175,
     "metadata": {},
     "output_type": "execute_result"
    }
   ],
   "source": [
    "y_pred=D_classifier.predict_proba(x_test)[:,1]\n",
    "\n",
    "\n",
    "new_y=[]\n",
    "for i in range (len(y_pred)):\n",
    "    if y_pred[i]<0.5:\n",
    "        new_y.append(0)\n",
    "    else:\n",
    "        new_y.append(1)\n",
    "\n",
    "from sklearn.metrics import accuracy_score\n",
    "\n",
    "\n",
    "accuracy_score(y_test,new_y)\n",
    "\n"
   ]
  },
  {
   "cell_type": "code",
   "execution_count": 176,
   "metadata": {},
   "outputs": [
    {
     "name": "stdout",
     "output_type": "stream",
     "text": [
      "mean_absolute_error is = 0.12622950819672132\n",
      "mean_squared_error is = 0.35528792295365363\n"
     ]
    }
   ],
   "source": [
    "\n",
    "from sklearn.metrics import mean_absolute_error\n",
    "from sklearn.metrics import mean_squared_error\n",
    "\n",
    "\n",
    "MAEVale=mean_absolute_error(y_test,y_pred,multioutput=\"uniform_average\")\n",
    "print(\"mean_absolute_error is =\",MAEVale)\n",
    "\n",
    "MSEVale=mean_squared_error(y_test,y_pred,multioutput=\"uniform_average\")\n",
    "RmseVal=np.sqrt(MSEVale)\n",
    "print(\"mean_squared_error is =\",RmseVal)\n"
   ]
  },
  {
   "cell_type": "code",
   "execution_count": 177,
   "metadata": {},
   "outputs": [
    {
     "name": "stdout",
     "output_type": "stream",
     "text": [
      "Decision Tree  classifiers  confusion_matrix\n",
      "Decision Tree classifier Trining Accurcy = 1.0\n",
      "Decision Tree classifier Testing Accurcy =  0.8737704918032787\n",
      "[[300  36]\n",
      " [ 41 233]]\n"
     ]
    },
    {
     "data": {
      "text/plain": [
       "Text(34.0, 0.5, 'Acutl')"
      ]
     },
     "execution_count": 177,
     "metadata": {},
     "output_type": "execute_result"
    },
    {
     "data": {
      "image/png": "[encoded data removed]",
      "text/plain": [
       "<Figure size 432x288 with 2 Axes>"
      ]
     },
     "metadata": {
      "needs_background": "light"
     },
     "output_type": "display_data"
    }
   ],
   "source": [
    "from sklearn.metrics import confusion_matrix\n",
    "\n",
    "print(\"Decision Tree  classifiers  confusion_matrix\")\n",
    "cm=confusion_matrix(y_test,new_y)\n",
    "TN=cm[0][0]\n",
    "TP=cm[1][1]\n",
    "FP=cm[0][1]\n",
    "FN=cm[1][0]\n",
    "\n",
    "print('Decision Tree classifier Trining Accurcy =',D_classifier.score(x_train,y_train) )\n",
    "print('Decision Tree classifier Testing Accurcy = ',(TP+TN)/(TP+TN+FP+FN))\n",
    "print(cm)\n",
    "                            \n",
    "sns.heatmap(cm,annot=True)\n",
    "plt.title(\"Decision Tree classifier confusion_matrix \")\n",
    "plt.xlabel(\"Predication\")\n",
    "plt.ylabel(\"Acutl\")"
   ]
  },
  {
   "cell_type": "code",
   "execution_count": 178,
   "metadata": {
    "scrolled": true
   },
   "outputs": [
    {
     "name": "stdout",
     "output_type": "stream",
     "text": [
      "classification_report Decision Tree\n",
      ".......................................\n",
      "              precision    recall  f1-score   support\n",
      "\n",
      "           0       0.88      0.89      0.89       336\n",
      "           1       0.87      0.85      0.86       274\n",
      "\n",
      "    accuracy                           0.87       610\n",
      "   macro avg       0.87      0.87      0.87       610\n",
      "weighted avg       0.87      0.87      0.87       610\n",
      "\n",
      "accuracy_score= 0.8737704918032787\n"
     ]
    }
   ],
   "source": [
    "\n",
    "### CLASSIFACTION Report\n",
    "\n",
    "from sklearn.metrics import classification_report\n",
    "from sklearn.metrics import accuracy_score\n",
    "\n",
    "y_pred=D_classifier.predict(x_test)\n",
    "print('classification_report Decision Tree')\n",
    "print('.......................................') \n",
    "\n",
    "print(classification_report(y_test,y_pred)) \n",
    "print(\"accuracy_score=\",accuracy_score(y_test,y_pred)) \n"
   ]
  },
  {
   "cell_type": "code",
   "execution_count": 179,
   "metadata": {},
   "outputs": [
    {
     "data": {
      "text/html": [
       "<div>\n",
       "<style scoped>\n",
       "    .dataframe tbody tr th:only-of-type {\n",
       "        vertical-align: middle;\n",
       "    }\n",
       "\n",
       "    .dataframe tbody tr th {\n",
       "        vertical-align: top;\n",
       "    }\n",
       "\n",
       "    .dataframe thead th {\n",
       "        text-align: right;\n",
       "    }\n",
       "</style>\n",
       "<table border=\"1\" class=\"dataframe\">\n",
       "  <thead>\n",
       "    <tr style=\"text-align: right;\">\n",
       "      <th></th>\n",
       "      <th>No_best_Fs</th>\n",
       "      <th>validation_accuracy</th>\n",
       "    </tr>\n",
       "  </thead>\n",
       "  <tbody>\n",
       "    <tr>\n",
       "      <td>0</td>\n",
       "      <td>2</td>\n",
       "      <td>65</td>\n",
       "    </tr>\n",
       "    <tr>\n",
       "      <td>1</td>\n",
       "      <td>3</td>\n",
       "      <td>70</td>\n",
       "    </tr>\n",
       "    <tr>\n",
       "      <td>2</td>\n",
       "      <td>4</td>\n",
       "      <td>67</td>\n",
       "    </tr>\n",
       "    <tr>\n",
       "      <td>3</td>\n",
       "      <td>5</td>\n",
       "      <td>65</td>\n",
       "    </tr>\n",
       "    <tr>\n",
       "      <td>4</td>\n",
       "      <td>6</td>\n",
       "      <td>73</td>\n",
       "    </tr>\n",
       "    <tr>\n",
       "      <td>5</td>\n",
       "      <td>7</td>\n",
       "      <td>75</td>\n",
       "    </tr>\n",
       "    <tr>\n",
       "      <td>6</td>\n",
       "      <td>8</td>\n",
       "      <td>73</td>\n",
       "    </tr>\n",
       "    <tr>\n",
       "      <td>7</td>\n",
       "      <td>9</td>\n",
       "      <td>72</td>\n",
       "    </tr>\n",
       "    <tr>\n",
       "      <td>8</td>\n",
       "      <td>10</td>\n",
       "      <td>72</td>\n",
       "    </tr>\n",
       "    <tr>\n",
       "      <td>9</td>\n",
       "      <td>11</td>\n",
       "      <td>71</td>\n",
       "    </tr>\n",
       "    <tr>\n",
       "      <td>10</td>\n",
       "      <td>12</td>\n",
       "      <td>72</td>\n",
       "    </tr>\n",
       "    <tr>\n",
       "      <td>11</td>\n",
       "      <td>13</td>\n",
       "      <td>76</td>\n",
       "    </tr>\n",
       "    <tr>\n",
       "      <td>12</td>\n",
       "      <td>14</td>\n",
       "      <td>75</td>\n",
       "    </tr>\n",
       "    <tr>\n",
       "      <td>13</td>\n",
       "      <td>15</td>\n",
       "      <td>74</td>\n",
       "    </tr>\n",
       "    <tr>\n",
       "      <td>14</td>\n",
       "      <td>16</td>\n",
       "      <td>72</td>\n",
       "    </tr>\n",
       "    <tr>\n",
       "      <td>15</td>\n",
       "      <td>17</td>\n",
       "      <td>75</td>\n",
       "    </tr>\n",
       "    <tr>\n",
       "      <td>16</td>\n",
       "      <td>18</td>\n",
       "      <td>75</td>\n",
       "    </tr>\n",
       "    <tr>\n",
       "      <td>17</td>\n",
       "      <td>19</td>\n",
       "      <td>78</td>\n",
       "    </tr>\n",
       "    <tr>\n",
       "      <td>18</td>\n",
       "      <td>20</td>\n",
       "      <td>88</td>\n",
       "    </tr>\n",
       "    <tr>\n",
       "      <td>19</td>\n",
       "      <td>21</td>\n",
       "      <td>87</td>\n",
       "    </tr>\n",
       "  </tbody>\n",
       "</table>\n",
       "</div>"
      ],
      "text/plain": [
       "    No_best_Fs  validation_accuracy\n",
       "0            2                   65\n",
       "1            3                   70\n",
       "2            4                   67\n",
       "3            5                   65\n",
       "4            6                   73\n",
       "5            7                   75\n",
       "6            8                   73\n",
       "7            9                   72\n",
       "8           10                   72\n",
       "9           11                   71\n",
       "10          12                   72\n",
       "11          13                   76\n",
       "12          14                   75\n",
       "13          15                   74\n",
       "14          16                   72\n",
       "15          17                   75\n",
       "16          18                   75\n",
       "17          19                   78\n",
       "18          20                   88\n",
       "19          21                   87"
      ]
     },
     "execution_count": 179,
     "metadata": {},
     "output_type": "execute_result"
    }
   ],
   "source": [
    "No_best_Fs = [2,3,4,5,6,7,8,9,10,11,12,13,14,15,16,17,18,19,20,21,22]\n",
    "validation_accuracy = [65,\n",
    "                       70,\n",
    "                       67,\n",
    "                       65,\n",
    "                       73,\n",
    "                       75,\n",
    "                       73,\n",
    "                       72,\n",
    "                       72,\n",
    "                       71,\n",
    "                       72,\n",
    "                       76,\n",
    "                       75,\n",
    "                       74,\n",
    "                       72,\n",
    "                       75,\n",
    "                       75,\n",
    "                       78,\n",
    "                       88,\n",
    "                       87]\n",
    "List = zip(No_best_Fs,validation_accuracy)\n",
    "df = pd.DataFrame(data = List, columns=['No_best_Fs','validation_accuracy'],)\n",
    "df\n"
   ]
  },
  {
   "cell_type": "code",
   "execution_count": 182,
   "metadata": {},
   "outputs": [
    {
     "name": "stderr",
     "output_type": "stream",
     "text": [
      "C:\\Users\\TOSHIBA\\Anaconda3\\lib\\site-packages\\ipykernel_launcher.py:9: MatplotlibDeprecationWarning: Unrecognized location 'bst'. Falling back on 'best'; valid locations are\n",
      "\tbest\n",
      "\tupper right\n",
      "\tupper left\n",
      "\tlower left\n",
      "\tlower right\n",
      "\tright\n",
      "\tcenter left\n",
      "\tcenter right\n",
      "\tlower center\n",
      "\tupper center\n",
      "\tcenter\n",
      "This will raise an exception in 3.3.\n",
      "  if __name__ == '__main__':\n"
     ]
    },
    {
     "name": "stdout",
     "output_type": "stream",
     "text": [
      "the best fretures number by ReliefF are 20:\n",
      "Sex,Adress, LDH, CL,Creatinin, FBS, ESR, GPT, ALP, GOT, ALB, TCa, PLT, Na, K, Urea, Age, HGB, WBC, RBC, CEA\n"
     ]
    },
    {
     "data": {
      "image/png": "[encoded data removed]",
      "text/plain": [
       "<Figure size 864x432 with 1 Axes>"
      ]
     },
     "metadata": {
      "needs_background": "light"
     },
     "output_type": "display_data"
    }
   ],
   "source": [
    "plt.figure(figsize=(12,6))\n",
    "plt.plot(df['No_best_Fs'],df['validation_accuracy'],label='Number fs=20 with Acc=88',marker='o')\n",
    "\n",
    "plt.title(\"CART algorithm accuracy based on ReliefF\",fontsize=18)\n",
    "plt.axvline(x=20, color='orange', linestyle='--')\n",
    "plt.xlabel('No_best_Fs',labelpad=10, fontsize=14)\n",
    "plt.ylabel('performance',labelpad=10, fontsize=14)\n",
    "plt.legend(bbox_to_anchor=(1,1),fontsize=14)\n",
    "plt.legend(loc='bst',fontsize=14)\n",
    "\n",
    "print(\"the best fretures number by ReliefF are 20:\")\n",
    "print(\"Sex,Adress, LDH, CL,Creatinin, FBS, ESR, GPT, ALP, GOT, ALB, TCa, PLT, Na, K, Urea, Age, HGB, WBC, RBC, CEA\")\n",
    "plt.show()"
   ]
  },
  {
   "cell_type": "code",
   "execution_count": null,
   "metadata": {},
   "outputs": [],
   "source": []
  }
 ],
 "metadata": {
  "kernelspec": {
   "display_name": "Python 3 (ipykernel)",
   "language": "python",
   "name": "python3"
  },
  "language_info": {
   "codemirror_mode": {
    "name": "ipython",
    "version": 3
   },
   "file_extension": ".py",
   "mimetype": "text/x-python",
   "name": "python",
   "nbconvert_exporter": "python",
   "pygments_lexer": "ipython3",
   "version": "3.9.13"
  },
  "papermill": {
   "duration": 66.733818,
   "end_time": "2020-11-11T18:41:22.498433",
   "environment_variables": {},
   "exception": null,
   "input_path": "__notebook__.ipynb",
   "output_path": "__notebook__.ipynb",
   "parameters": {},
   "start_time": "2020-11-11T18:40:15.764615",
   "version": "2.1.0"
  }
 },
 "nbformat": 4,
 "nbformat_minor": 4
}
