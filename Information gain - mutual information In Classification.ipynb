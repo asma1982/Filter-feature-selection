{
 "cells": [
  {
   "cell_type": "markdown",
   "metadata": {},
   "source": [
    "## Filter feature selection\n"
   ]
  },
  {
   "cell_type": "markdown",
   "metadata": {},
   "source": [
    "## Feature Selection-Information gain - mutual information In Classification Problem Statements"
   ]
  },
  {
   "cell_type": "markdown",
   "metadata": {},
   "source": [
    "## the best fretures number by  mutual information are 13: \n",
    "\n",
    "## CEA , CA15 , RBC , LDH , FBS , Adress , WBC , ESR , Adress , Na , ALB , PLT , ALP\n",
    "\n",
    "## 90%\n",
    " \n"
   ]
  },
  {
   "cell_type": "markdown",
   "metadata": {},
   "source": [
    "#### Mutual Information \n",
    "\n",
    "MI Estimate mutual information for a discrete target variable.\n",
    "\n",
    "Mutual information (MI) between two random variables is a non-negative value, which measures the dependency between the variables. It is equal to zero if and only if two random variables are independent, and higher values mean higher dependency.\n",
    "\n",
    "The function relies on nonparametric methods based on entropy estimation from k-nearest neighbors distances.\n",
    "\n",
    "Inshort\n",
    "\n",
    "A quantity called mutual information measures the amount of information one can obtain from one random variable given another.\n",
    "\n",
    "The mutual information between two random variables X and Y can be stated formally as follows:\n",
    "\n",
    "<b>I(X ; Y) = H(X) – H(X | Y)<b>\n",
    "Where I(X ; Y) is the mutual information for X and Y, H(X) is the entropy for X and H(X | Y) is the conditional entropy for X given Y. The result has the units of bits."
   ]
  },
  {
   "cell_type": "markdown",
   "metadata": {},
   "source": [
    "#### Youtube Videos\n",
    "\n",
    "Entropy: https://www.youtube.com/watch?v=1IQOtJ4NI_0\n",
    "        \n",
    "Information Gain: https://www.youtube.com/watch?v=FuTRucXB9rA\n",
    "        \n",
    "Gini Impurity: https://www.youtube.com/watch?v=5aIFgrrTqOw\n",
    "\n",
    "Statistical test: https://www.youtube.com/watch?v=4-rxTA_5_xA"
   ]
  },
  {
   "cell_type": "code",
   "execution_count": 1,
   "metadata": {},
   "outputs": [],
   "source": [
    "import matplotlib.pyplot as plt\n",
    "import numpy as np\n",
    "import pandas as pd\n",
    "pd.set_option('display.max_columns', None)\n",
    "\n",
    "import seaborn as sns\n",
    "import warnings"
   ]
  },
  {
   "cell_type": "code",
   "execution_count": 2,
   "metadata": {},
   "outputs": [
    {
     "data": {
      "text/html": [
       "<div>\n",
       "<style scoped>\n",
       "    .dataframe tbody tr th:only-of-type {\n",
       "        vertical-align: middle;\n",
       "    }\n",
       "\n",
       "    .dataframe tbody tr th {\n",
       "        vertical-align: top;\n",
       "    }\n",
       "\n",
       "    .dataframe thead th {\n",
       "        text-align: right;\n",
       "    }\n",
       "</style>\n",
       "<table border=\"1\" class=\"dataframe\">\n",
       "  <thead>\n",
       "    <tr style=\"text-align: right;\">\n",
       "      <th></th>\n",
       "      <th>Sex</th>\n",
       "      <th>Age</th>\n",
       "      <th>Adress</th>\n",
       "      <th>FBS</th>\n",
       "      <th>Urea</th>\n",
       "      <th>Creatinin</th>\n",
       "      <th>ALB</th>\n",
       "      <th>TCa</th>\n",
       "      <th>GPT</th>\n",
       "      <th>GOT</th>\n",
       "      <th>ALP</th>\n",
       "      <th>CA15</th>\n",
       "      <th>CEA</th>\n",
       "      <th>WBC</th>\n",
       "      <th>RBC</th>\n",
       "      <th>HGB</th>\n",
       "      <th>PLT</th>\n",
       "      <th>ESR</th>\n",
       "      <th>LDH</th>\n",
       "      <th>Na</th>\n",
       "      <th>K</th>\n",
       "      <th>CL</th>\n",
       "      <th>CLASS</th>\n",
       "    </tr>\n",
       "  </thead>\n",
       "  <tbody>\n",
       "    <tr>\n",
       "      <td>0</td>\n",
       "      <td>1</td>\n",
       "      <td>60</td>\n",
       "      <td>Tragan</td>\n",
       "      <td>200.0</td>\n",
       "      <td>23.0</td>\n",
       "      <td>0.8</td>\n",
       "      <td>3.4</td>\n",
       "      <td>1.0</td>\n",
       "      <td>2.0</td>\n",
       "      <td>1.0</td>\n",
       "      <td>124.0</td>\n",
       "      <td>69.12</td>\n",
       "      <td>8.02</td>\n",
       "      <td>3.4</td>\n",
       "      <td>4.60</td>\n",
       "      <td>13.4</td>\n",
       "      <td>500.0</td>\n",
       "      <td>25.0</td>\n",
       "      <td>150.0</td>\n",
       "      <td>145.0</td>\n",
       "      <td>4.50</td>\n",
       "      <td>19.1</td>\n",
       "      <td>0</td>\n",
       "    </tr>\n",
       "    <tr>\n",
       "      <td>1</td>\n",
       "      <td>1</td>\n",
       "      <td>53</td>\n",
       "      <td>Sabha</td>\n",
       "      <td>400.0</td>\n",
       "      <td>22.0</td>\n",
       "      <td>0.7</td>\n",
       "      <td>NaN</td>\n",
       "      <td>9.6</td>\n",
       "      <td>3.0</td>\n",
       "      <td>7.0</td>\n",
       "      <td>133.0</td>\n",
       "      <td>51.82</td>\n",
       "      <td>7.91</td>\n",
       "      <td>4.4</td>\n",
       "      <td>5.00</td>\n",
       "      <td>12.5</td>\n",
       "      <td>NaN</td>\n",
       "      <td>15.0</td>\n",
       "      <td>260.0</td>\n",
       "      <td>137.8</td>\n",
       "      <td>4.18</td>\n",
       "      <td>19.1</td>\n",
       "      <td>0</td>\n",
       "    </tr>\n",
       "    <tr>\n",
       "      <td>2</td>\n",
       "      <td>1</td>\n",
       "      <td>50</td>\n",
       "      <td>Sabha</td>\n",
       "      <td>450.0</td>\n",
       "      <td>27.0</td>\n",
       "      <td>0.6</td>\n",
       "      <td>3.5</td>\n",
       "      <td>9.3</td>\n",
       "      <td>11.0</td>\n",
       "      <td>17.0</td>\n",
       "      <td>155.0</td>\n",
       "      <td>50.00</td>\n",
       "      <td>8.74</td>\n",
       "      <td>5.1</td>\n",
       "      <td>4.46</td>\n",
       "      <td>12.5</td>\n",
       "      <td>456.0</td>\n",
       "      <td>2.0</td>\n",
       "      <td>169.0</td>\n",
       "      <td>139.2</td>\n",
       "      <td>4.17</td>\n",
       "      <td>16.4</td>\n",
       "      <td>0</td>\n",
       "    </tr>\n",
       "    <tr>\n",
       "      <td>3</td>\n",
       "      <td>1</td>\n",
       "      <td>36</td>\n",
       "      <td>Obaree-center</td>\n",
       "      <td>300.0</td>\n",
       "      <td>15.0</td>\n",
       "      <td>1.1</td>\n",
       "      <td>4.2</td>\n",
       "      <td>8.5</td>\n",
       "      <td>13.0</td>\n",
       "      <td>1.0</td>\n",
       "      <td>NaN</td>\n",
       "      <td>40.11</td>\n",
       "      <td>10.34</td>\n",
       "      <td>3.1</td>\n",
       "      <td>4.33</td>\n",
       "      <td>13.8</td>\n",
       "      <td>600.0</td>\n",
       "      <td>15.0</td>\n",
       "      <td>138.0</td>\n",
       "      <td>14.0</td>\n",
       "      <td>4.00</td>\n",
       "      <td>1.1</td>\n",
       "      <td>0</td>\n",
       "    </tr>\n",
       "    <tr>\n",
       "      <td>4</td>\n",
       "      <td>1</td>\n",
       "      <td>30</td>\n",
       "      <td>Obaree-center</td>\n",
       "      <td>345.0</td>\n",
       "      <td>2.0</td>\n",
       "      <td>1.0</td>\n",
       "      <td>3.0</td>\n",
       "      <td>8.0</td>\n",
       "      <td>7.0</td>\n",
       "      <td>13.0</td>\n",
       "      <td>125.0</td>\n",
       "      <td>67.63</td>\n",
       "      <td>7.31</td>\n",
       "      <td>4.2</td>\n",
       "      <td>4.13</td>\n",
       "      <td>1.7</td>\n",
       "      <td>543.0</td>\n",
       "      <td>25.0</td>\n",
       "      <td>154.0</td>\n",
       "      <td>136.4</td>\n",
       "      <td>4.60</td>\n",
       "      <td>17.1</td>\n",
       "      <td>0</td>\n",
       "    </tr>\n",
       "  </tbody>\n",
       "</table>\n",
       "</div>"
      ],
      "text/plain": [
       "   Sex  Age         Adress    FBS  Urea  Creatinin  ALB  TCa   GPT   GOT  \\\n",
       "0    1   60         Tragan  200.0  23.0        0.8  3.4  1.0   2.0   1.0   \n",
       "1    1   53          Sabha  400.0  22.0        0.7  NaN  9.6   3.0   7.0   \n",
       "2    1   50          Sabha  450.0  27.0        0.6  3.5  9.3  11.0  17.0   \n",
       "3    1   36  Obaree-center  300.0  15.0        1.1  4.2  8.5  13.0   1.0   \n",
       "4    1   30  Obaree-center  345.0   2.0        1.0  3.0  8.0   7.0  13.0   \n",
       "\n",
       "     ALP   CA15    CEA  WBC   RBC   HGB    PLT   ESR    LDH     Na     K  \\\n",
       "0  124.0  69.12   8.02  3.4  4.60  13.4  500.0  25.0  150.0  145.0  4.50   \n",
       "1  133.0  51.82   7.91  4.4  5.00  12.5    NaN  15.0  260.0  137.8  4.18   \n",
       "2  155.0  50.00   8.74  5.1  4.46  12.5  456.0   2.0  169.0  139.2  4.17   \n",
       "3    NaN  40.11  10.34  3.1  4.33  13.8  600.0  15.0  138.0   14.0  4.00   \n",
       "4  125.0  67.63   7.31  4.2  4.13   1.7  543.0  25.0  154.0  136.4  4.60   \n",
       "\n",
       "     CL  CLASS  \n",
       "0  19.1      0  \n",
       "1  19.1      0  \n",
       "2  16.4      0  \n",
       "3   1.1      0  \n",
       "4  17.1      0  "
      ]
     },
     "execution_count": 2,
     "metadata": {},
     "output_type": "execute_result"
    }
   ],
   "source": [
    "BC=pd.read_csv('bc_with_mis_90.csv')\n",
    "BC.head()"
   ]
  },
  {
   "cell_type": "code",
   "execution_count": 3,
   "metadata": {},
   "outputs": [
    {
     "name": "stdout",
     "output_type": "stream",
     "text": [
      "<class 'pandas.core.frame.DataFrame'>\n",
      "RangeIndex: 2437 entries, 0 to 2436\n",
      "Data columns (total 23 columns):\n",
      "Sex          2437 non-null int64\n",
      "Age          2437 non-null int64\n",
      "Adress       2437 non-null object\n",
      "FBS          2048 non-null float64\n",
      "Urea         2275 non-null float64\n",
      "Creatinin    2282 non-null float64\n",
      "ALB          2148 non-null float64\n",
      "TCa          2142 non-null float64\n",
      "GPT          2140 non-null float64\n",
      "GOT          2202 non-null float64\n",
      "ALP          2126 non-null float64\n",
      "CA15         2435 non-null float64\n",
      "CEA          2435 non-null float64\n",
      "WBC          2333 non-null float64\n",
      "RBC          2369 non-null float64\n",
      "HGB          2337 non-null float64\n",
      "PLT          2258 non-null float64\n",
      "ESR          2049 non-null float64\n",
      "LDH          2052 non-null float64\n",
      "Na           2011 non-null float64\n",
      "K            2039 non-null float64\n",
      "CL           1775 non-null float64\n",
      "CLASS        2437 non-null int64\n",
      "dtypes: float64(19), int64(3), object(1)\n",
      "memory usage: 438.0+ KB\n"
     ]
    }
   ],
   "source": [
    "BC.info()"
   ]
  },
  {
   "cell_type": "code",
   "execution_count": 4,
   "metadata": {},
   "outputs": [],
   "source": [
    "BC[\"FBS\"].fillna(BC[\"FBS\"].mean(), inplace=True)\n",
    "BC[\"Urea\"].fillna(BC[\"Urea\"].mean(), inplace=True)\n",
    "BC[\"Creatinin\"].fillna(BC[\"Creatinin\"].mean(), inplace=True)\n",
    "BC[\"ALB\"].fillna(BC[\"ALB\"].mean(), inplace=True)\n",
    "BC[\"TCa\"].fillna(BC[\"TCa\"].mean(), inplace=True)\n",
    "BC[\"GPT\"].fillna(BC[\"GPT\"].mean(), inplace=True)\n",
    "BC[\"GOT\"].fillna(BC[\"GOT\"].mean(), inplace=True)\n",
    "BC[\"ALP\"].fillna(BC[\"ALP\"].mean(), inplace=True)\n",
    "BC[\"WBC\"].fillna(BC[\"WBC\"].mean(), inplace=True)\n",
    "BC[\"HGB\"].fillna(BC[\"HGB\"].mean(), inplace=True)\n",
    "BC[\"RBC\"].fillna(BC[\"RBC\"].mean(), inplace=True)\n",
    "BC[\"PLT\"].fillna(BC[\"PLT\"].mean(), inplace=True)\n",
    "BC[\"ESR\"].fillna(BC[\"ESR\"].mean(), inplace=True)\n",
    "BC[\"LDH\"].fillna(BC[\"LDH\"].mean(), inplace=True)\n",
    "BC[\"Na\"].fillna(BC[\"Na\"].mean(), inplace=True)\n",
    "BC[\"K\"].fillna(BC[\"K\"].mean(), inplace=True)\n",
    "BC[\"CL\"].fillna(BC[\"CL\"].mean(), inplace=True)\n",
    "BC[\"CA15\"].fillna(BC[\"CA15\"].mean(), inplace=True)\n",
    "BC[\"CEA\"].fillna(BC[\"CEA\"].mean(), inplace=True)\n"
   ]
  },
  {
   "cell_type": "markdown",
   "metadata": {},
   "source": [
    "## outlires by Z-score\n"
   ]
  },
  {
   "cell_type": "code",
   "execution_count": 5,
   "metadata": {},
   "outputs": [],
   "source": [
    "BC[\"ZScore_FBS\"] = (BC.FBS - BC.FBS.mean())/(BC.FBS.std())\n",
    "BC[\"ZScore_Urea\"] = (BC.Urea - BC.Urea.mean())/(BC.Urea.std())\n",
    "BC[\"ZScore_creatinine\"] = (BC.Creatinin - BC.Creatinin.mean())/(BC.Creatinin.std())\n",
    "BC[\"ZScore_ALB\"] = (BC.ALB - BC.ALB.mean())/(BC.ALB.std())\n",
    "BC[\"ZScore_TCa\"] = (BC.TCa - BC.TCa.mean())/(BC.TCa.std())\n",
    "BC[\"ZScore_GPT\"] = (BC.GPT - BC.GPT.mean())/(BC.GPT.std())\n",
    "BC[\"ZScore_GOT\"] = (BC.GOT - BC.GOT.mean())/(BC.GOT.std())\n",
    "BC[\"ZScore_ALP\"] = (BC.ALP - BC.ALP.mean())/(BC.ALP.std())\n",
    "BC[\"ZScore_CA15\"] = (BC.CA15 - BC.CA15.mean())/(BC.CA15.std())\n",
    "BC[\"ZScore_CEA\"] = (BC.CEA - BC.CEA.mean())/(BC.CEA.std())\n",
    "BC[\"ZScore_WBC\"] = (BC.WBC - BC.WBC.mean())/(BC.WBC.std())\n",
    "BC[\"ZScore_RBC\"] = (BC.RBC - BC.RBC.mean())/(BC.RBC.std())\n",
    "BC[\"ZScore_HGB\"] = (BC.HGB - BC.HGB.mean())/(BC.HGB.std())\n",
    "BC[\"ZScore_PLT\"] = (BC.PLT - BC.PLT.mean())/(BC.PLT.std())\n",
    "BC[\"ZScore_ESR\"] = (BC.ESR - BC.ESR.mean())/(BC.ESR.std())\n",
    "BC[\"ZScore_LDH\"] = (BC.LDH - BC.LDH.mean())/(BC.LDH.std())\n",
    "BC[\"ZScore_Na\"] = (BC.Na - BC.Na.mean())/(BC.Na.std())\n",
    "BC[\"ZScore_CL\"] = (BC.CL - BC.CL.mean())/(BC.CL.std())\n",
    "BC[\"ZScore_K\"] = (BC.K - BC.K.mean())/(BC.K.std())\n",
    "\n"
   ]
  },
  {
   "cell_type": "code",
   "execution_count": 6,
   "metadata": {},
   "outputs": [],
   "source": [
    "BC_FBS_outlier_Z = BC[(BC.ZScore_FBS>3) | (BC.ZScore_FBS<-3)]\n",
    "BC_Urea_outlier_Z = BC[(BC.ZScore_Urea>3) | (BC.ZScore_Urea<-3)]\n",
    "BC_creatinine_outlier_Z = BC[(BC.ZScore_creatinine>3) | (BC.ZScore_creatinine<-3)]\n",
    "BC_ALB_outlier_Z = BC[(BC.ZScore_ALB>3) | (BC.ZScore_ALB<-3)]\n",
    "BC_TCa_outlier_Z = BC[(BC.ZScore_TCa>3) | (BC.ZScore_TCa<-3)]\n",
    "BC_GPT_outlier_Z = BC[(BC.ZScore_GPT>3) | (BC.ZScore_GPT<-3)]\n",
    "BC_GOT_outlier_Z = BC[(BC.ZScore_GOT>3) | (BC.ZScore_GOT<-3)]\n",
    "BC_ALP_outlier_Z = BC[(BC.ZScore_ALP>3) | (BC.ZScore_ALP<-3)]\n",
    "BC_CA15_outlier_Z = BC[(BC.ZScore_CA15>3) | (BC.ZScore_CA15<-3)]\n",
    "BC_CEA_outlier_Z = BC[(BC.ZScore_CEA>3) | (BC.ZScore_CEA<-3)]\n",
    "BC_WBC_outlier_Z = BC[(BC.ZScore_WBC>3) | (BC.ZScore_WBC<-3)]\n",
    "BC_RBC_outlier_Z = BC[(BC.ZScore_RBC>3) | (BC.ZScore_RBC<-3)]\n",
    "BC_HGB_outlier_Z = BC[(BC.ZScore_HGB>3) | (BC.ZScore_HGB<-3)]\n",
    "BC_PLT_outlier_Z = BC[(BC.ZScore_PLT>3) | (BC.ZScore_PLT<-3)]\n",
    "BC_ESR_outlier_Z = BC[(BC.ZScore_ESR>3) | (BC.ZScore_ESR<-3)]\n",
    "BC_LDH_outlier_Z = BC[(BC.ZScore_LDH>3) | (BC.ZScore_LDH<-3)]\n",
    "BC_Na_outlier_Z = BC[(BC.ZScore_Na>3) | (BC.ZScore_Na<-3)]\n",
    "BC_K_outlier_Z = BC[(BC.ZScore_CL>3) | (BC.ZScore_CL<-3)]\n",
    "BC_CL_outlier_Z = BC[(BC.ZScore_K>3) | (BC.ZScore_K<-3)]\n"
   ]
  },
  {
   "cell_type": "code",
   "execution_count": 7,
   "metadata": {},
   "outputs": [
    {
     "data": {
      "text/plain": [
       "Sex                  0\n",
       "Age                  0\n",
       "Adress               0\n",
       "FBS                  0\n",
       "Urea                 0\n",
       "Creatinin            0\n",
       "ALB                  0\n",
       "TCa                  0\n",
       "GPT                  0\n",
       "GOT                  0\n",
       "ALP                  0\n",
       "CA15                 0\n",
       "CEA                  0\n",
       "WBC                  0\n",
       "RBC                  0\n",
       "HGB                  0\n",
       "PLT                  0\n",
       "ESR                  0\n",
       "LDH                  0\n",
       "Na                   0\n",
       "K                    0\n",
       "CL                   0\n",
       "CLASS                0\n",
       "ZScore_FBS           0\n",
       "ZScore_Urea          0\n",
       "ZScore_creatinine    0\n",
       "ZScore_ALB           0\n",
       "ZScore_TCa           0\n",
       "ZScore_GPT           0\n",
       "ZScore_GOT           0\n",
       "ZScore_ALP           0\n",
       "ZScore_CA15          0\n",
       "ZScore_CEA           0\n",
       "ZScore_WBC           0\n",
       "ZScore_RBC           0\n",
       "ZScore_HGB           0\n",
       "ZScore_PLT           0\n",
       "ZScore_ESR           0\n",
       "ZScore_LDH           0\n",
       "ZScore_Na            0\n",
       "ZScore_CL            0\n",
       "ZScore_K             0\n",
       "dtype: int64"
      ]
     },
     "execution_count": 7,
     "metadata": {},
     "output_type": "execute_result"
    }
   ],
   "source": [
    "BC.isnull().sum()"
   ]
  },
  {
   "cell_type": "code",
   "execution_count": 8,
   "metadata": {},
   "outputs": [],
   "source": [
    "#assigning nan to the outliers\n",
    "\n",
    "BC['FBS'].values[BC['ZScore_FBS'] > 3] = np.nan\n",
    "BC['FBS'].values[BC['ZScore_FBS'] < -3] = np.nan\n",
    "\n",
    "BC['Urea'].values[BC['ZScore_Urea'] > 3] = np.nan\n",
    "BC['Urea'].values[BC['ZScore_Urea'] < -3] = np.nan\n",
    "\n",
    "BC['Creatinin'].values[BC['ZScore_creatinine'] > 3] = np.nan\n",
    "BC['Creatinin'].values[BC['ZScore_creatinine'] < -3] = np.nan\n",
    "\n",
    "BC['ALB'].values[BC['ZScore_ALB'] > 3] = np.nan\n",
    "BC['ALB'].values[BC['ZScore_ALB'] < -3] = np.nan\n",
    "\n",
    "BC['TCa'].values[BC['ZScore_TCa'] > 3] = np.nan\n",
    "BC['TCa'].values[BC['ZScore_TCa'] < -3] = np.nan\n",
    "\n",
    "BC['GPT'].values[BC['ZScore_GPT'] > 3] = np.nan\n",
    "BC['GPT'].values[BC['ZScore_GPT'] < -3] = np.nan\n",
    "\n",
    "BC['GOT'].values[BC['ZScore_GOT'] > 3] = np.nan\n",
    "BC['GOT'].values[BC['ZScore_GOT'] < -3] = np.nan\n",
    "\n",
    "BC['ALP'].values[BC['ZScore_ALP'] > 3] = np.nan\n",
    "BC['ALP'].values[BC['ZScore_ALP'] < -3] = np.nan\n",
    "\n",
    "BC['CA15'].values[BC['ZScore_CA15'] > 3] = np.nan\n",
    "BC['CA15'].values[BC['ZScore_CA15'] < -3] = np.nan\n",
    "\n",
    "BC['CEA'].values[BC['ZScore_CEA'] > 3] = np.nan\n",
    "BC['CEA'].values[BC['ZScore_CEA'] < -3] = np.nan\n",
    "\n",
    "BC['WBC'].values[BC['ZScore_WBC'] > 3] = np.nan\n",
    "BC['WBC'].values[BC['ZScore_WBC'] < -3] = np.nan\n",
    "\n",
    "BC['RBC'].values[BC['ZScore_RBC'] > 3] = np.nan\n",
    "BC['RBC'].values[BC['ZScore_RBC'] < -3] = np.nan\n",
    "\n",
    "BC['HGB'].values[BC['ZScore_HGB'] > 3] = np.nan\n",
    "BC['HGB'].values[BC['ZScore_HGB'] < -3] = np.nan\n",
    "\n",
    "BC['PLT'].values[BC['ZScore_PLT'] > 3] = np.nan\n",
    "BC['PLT'].values[BC['ZScore_PLT'] < -3] = np.nan\n",
    "\n",
    "BC['ESR'].values[BC['ZScore_ESR'] > 3] = np.nan\n",
    "BC['ESR'].values[BC['ZScore_ESR'] < -3] = np.nan\n",
    "\n",
    "BC['LDH'].values[BC['ZScore_LDH'] > 3] = np.nan\n",
    "BC['LDH'].values[BC['ZScore_LDH'] < -3] = np.nan\n",
    "\n",
    "BC['Na'].values[BC['ZScore_Na'] > 3] = np.nan\n",
    "BC['Na'].values[BC['ZScore_Na'] < -3] = np.nan\n",
    "\n",
    "BC['CL'].values[BC['ZScore_CL'] > 3] = np.nan\n",
    "BC['CL'].values[BC['ZScore_CL'] < -3] = np.nan\n",
    "\n",
    "BC['K'].values[BC['ZScore_K'] > 3] = np.nan\n",
    "BC['K'].values[BC['ZScore_K'] < -3] = np.nan\n"
   ]
  },
  {
   "cell_type": "code",
   "execution_count": 9,
   "metadata": {},
   "outputs": [
    {
     "data": {
      "text/plain": [
       "Sex           0\n",
       "Age           0\n",
       "Adress        0\n",
       "FBS          50\n",
       "Urea         66\n",
       "Creatinin    27\n",
       "ALB          60\n",
       "TCa           8\n",
       "GPT          61\n",
       "GOT          43\n",
       "ALP          28\n",
       "CA15          3\n",
       "CEA           1\n",
       "WBC          13\n",
       "RBC           4\n",
       "HGB           3\n",
       "PLT           3\n",
       "ESR          30\n",
       "LDH          12\n",
       "Na            1\n",
       "K             8\n",
       "CL            3\n",
       "CLASS         0\n",
       "dtype: int64"
      ]
     },
     "execution_count": 9,
     "metadata": {},
     "output_type": "execute_result"
    }
   ],
   "source": [
    "BC.drop([\"ZScore_FBS\",\"ZScore_Urea\",\"ZScore_creatinine\",\"ZScore_ALB\",\"ZScore_TCa\",\"ZScore_GPT\",\"ZScore_GOT\",\"ZScore_ALP\",\n",
    "        \"ZScore_CA15\",\"ZScore_CEA\",\"ZScore_WBC\",\"ZScore_RBC\",\"ZScore_HGB\",\"ZScore_PLT\",\"ZScore_ESR\",\"ZScore_LDH\",\n",
    "        \"ZScore_Na\",\"ZScore_CL\",\"ZScore_K\"],axis=1,inplace=True)\n",
    "\n",
    "BC.isnull().sum()\n"
   ]
  },
  {
   "cell_type": "code",
   "execution_count": 10,
   "metadata": {},
   "outputs": [
    {
     "data": {
      "text/html": [
       "<div>\n",
       "<style scoped>\n",
       "    .dataframe tbody tr th:only-of-type {\n",
       "        vertical-align: middle;\n",
       "    }\n",
       "\n",
       "    .dataframe tbody tr th {\n",
       "        vertical-align: top;\n",
       "    }\n",
       "\n",
       "    .dataframe thead th {\n",
       "        text-align: right;\n",
       "    }\n",
       "</style>\n",
       "<table border=\"1\" class=\"dataframe\">\n",
       "  <thead>\n",
       "    <tr style=\"text-align: right;\">\n",
       "      <th></th>\n",
       "      <th>Sex</th>\n",
       "      <th>Age</th>\n",
       "      <th>Adress</th>\n",
       "      <th>FBS</th>\n",
       "      <th>Urea</th>\n",
       "      <th>Creatinin</th>\n",
       "      <th>ALB</th>\n",
       "      <th>TCa</th>\n",
       "      <th>GPT</th>\n",
       "      <th>GOT</th>\n",
       "      <th>ALP</th>\n",
       "      <th>CA15</th>\n",
       "      <th>CEA</th>\n",
       "      <th>WBC</th>\n",
       "      <th>RBC</th>\n",
       "      <th>HGB</th>\n",
       "      <th>PLT</th>\n",
       "      <th>ESR</th>\n",
       "      <th>LDH</th>\n",
       "      <th>Na</th>\n",
       "      <th>K</th>\n",
       "      <th>CL</th>\n",
       "      <th>CLASS</th>\n",
       "    </tr>\n",
       "  </thead>\n",
       "  <tbody>\n",
       "    <tr>\n",
       "      <td>0</td>\n",
       "      <td>1</td>\n",
       "      <td>60</td>\n",
       "      <td>Tragan</td>\n",
       "      <td>200.00000</td>\n",
       "      <td>23.0</td>\n",
       "      <td>0.8</td>\n",
       "      <td>3.400000</td>\n",
       "      <td>1.0</td>\n",
       "      <td>2.000000</td>\n",
       "      <td>1.0</td>\n",
       "      <td>124.000000</td>\n",
       "      <td>69.120000</td>\n",
       "      <td>8.020000</td>\n",
       "      <td>3.4</td>\n",
       "      <td>4.60</td>\n",
       "      <td>13.4</td>\n",
       "      <td>500.000000</td>\n",
       "      <td>25.0</td>\n",
       "      <td>150.0</td>\n",
       "      <td>145.0</td>\n",
       "      <td>4.50</td>\n",
       "      <td>19.1</td>\n",
       "      <td>0</td>\n",
       "    </tr>\n",
       "    <tr>\n",
       "      <td>1</td>\n",
       "      <td>1</td>\n",
       "      <td>53</td>\n",
       "      <td>Sabha</td>\n",
       "      <td>154.36173</td>\n",
       "      <td>22.0</td>\n",
       "      <td>0.7</td>\n",
       "      <td>4.461508</td>\n",
       "      <td>9.6</td>\n",
       "      <td>3.000000</td>\n",
       "      <td>7.0</td>\n",
       "      <td>133.000000</td>\n",
       "      <td>51.820000</td>\n",
       "      <td>7.910000</td>\n",
       "      <td>4.4</td>\n",
       "      <td>5.00</td>\n",
       "      <td>12.5</td>\n",
       "      <td>283.554362</td>\n",
       "      <td>15.0</td>\n",
       "      <td>260.0</td>\n",
       "      <td>137.8</td>\n",
       "      <td>4.18</td>\n",
       "      <td>19.1</td>\n",
       "      <td>0</td>\n",
       "    </tr>\n",
       "    <tr>\n",
       "      <td>2</td>\n",
       "      <td>1</td>\n",
       "      <td>50</td>\n",
       "      <td>Sabha</td>\n",
       "      <td>154.36173</td>\n",
       "      <td>27.0</td>\n",
       "      <td>0.6</td>\n",
       "      <td>3.500000</td>\n",
       "      <td>9.3</td>\n",
       "      <td>11.000000</td>\n",
       "      <td>17.0</td>\n",
       "      <td>155.000000</td>\n",
       "      <td>50.000000</td>\n",
       "      <td>8.740000</td>\n",
       "      <td>5.1</td>\n",
       "      <td>4.46</td>\n",
       "      <td>12.5</td>\n",
       "      <td>456.000000</td>\n",
       "      <td>2.0</td>\n",
       "      <td>169.0</td>\n",
       "      <td>139.2</td>\n",
       "      <td>4.17</td>\n",
       "      <td>16.4</td>\n",
       "      <td>0</td>\n",
       "    </tr>\n",
       "    <tr>\n",
       "      <td>3</td>\n",
       "      <td>1</td>\n",
       "      <td>36</td>\n",
       "      <td>Obaree-center</td>\n",
       "      <td>300.00000</td>\n",
       "      <td>15.0</td>\n",
       "      <td>1.1</td>\n",
       "      <td>4.200000</td>\n",
       "      <td>8.5</td>\n",
       "      <td>13.000000</td>\n",
       "      <td>1.0</td>\n",
       "      <td>140.701195</td>\n",
       "      <td>40.110000</td>\n",
       "      <td>10.340000</td>\n",
       "      <td>3.1</td>\n",
       "      <td>4.33</td>\n",
       "      <td>13.8</td>\n",
       "      <td>600.000000</td>\n",
       "      <td>15.0</td>\n",
       "      <td>138.0</td>\n",
       "      <td>14.0</td>\n",
       "      <td>4.00</td>\n",
       "      <td>1.1</td>\n",
       "      <td>0</td>\n",
       "    </tr>\n",
       "    <tr>\n",
       "      <td>4</td>\n",
       "      <td>1</td>\n",
       "      <td>30</td>\n",
       "      <td>Obaree-center</td>\n",
       "      <td>345.00000</td>\n",
       "      <td>2.0</td>\n",
       "      <td>1.0</td>\n",
       "      <td>3.000000</td>\n",
       "      <td>8.0</td>\n",
       "      <td>7.000000</td>\n",
       "      <td>13.0</td>\n",
       "      <td>125.000000</td>\n",
       "      <td>67.630000</td>\n",
       "      <td>7.310000</td>\n",
       "      <td>4.2</td>\n",
       "      <td>4.13</td>\n",
       "      <td>1.7</td>\n",
       "      <td>543.000000</td>\n",
       "      <td>25.0</td>\n",
       "      <td>154.0</td>\n",
       "      <td>136.4</td>\n",
       "      <td>4.60</td>\n",
       "      <td>17.1</td>\n",
       "      <td>0</td>\n",
       "    </tr>\n",
       "    <tr>\n",
       "      <td>...</td>\n",
       "      <td>...</td>\n",
       "      <td>...</td>\n",
       "      <td>...</td>\n",
       "      <td>...</td>\n",
       "      <td>...</td>\n",
       "      <td>...</td>\n",
       "      <td>...</td>\n",
       "      <td>...</td>\n",
       "      <td>...</td>\n",
       "      <td>...</td>\n",
       "      <td>...</td>\n",
       "      <td>...</td>\n",
       "      <td>...</td>\n",
       "      <td>...</td>\n",
       "      <td>...</td>\n",
       "      <td>...</td>\n",
       "      <td>...</td>\n",
       "      <td>...</td>\n",
       "      <td>...</td>\n",
       "      <td>...</td>\n",
       "      <td>...</td>\n",
       "      <td>...</td>\n",
       "      <td>...</td>\n",
       "    </tr>\n",
       "    <tr>\n",
       "      <td>2432</td>\n",
       "      <td>1</td>\n",
       "      <td>30</td>\n",
       "      <td>Algatroon</td>\n",
       "      <td>70.00000</td>\n",
       "      <td>28.0</td>\n",
       "      <td>0.7</td>\n",
       "      <td>5.900000</td>\n",
       "      <td>9.5</td>\n",
       "      <td>13.882247</td>\n",
       "      <td>23.0</td>\n",
       "      <td>234.000000</td>\n",
       "      <td>21.000000</td>\n",
       "      <td>1.120000</td>\n",
       "      <td>3.9</td>\n",
       "      <td>5.23</td>\n",
       "      <td>11.3</td>\n",
       "      <td>288.000000</td>\n",
       "      <td>15.0</td>\n",
       "      <td>254.0</td>\n",
       "      <td>138.7</td>\n",
       "      <td>4.35</td>\n",
       "      <td>103.6</td>\n",
       "      <td>1</td>\n",
       "    </tr>\n",
       "    <tr>\n",
       "      <td>2433</td>\n",
       "      <td>1</td>\n",
       "      <td>47</td>\n",
       "      <td>Sabha</td>\n",
       "      <td>98.00000</td>\n",
       "      <td>32.0</td>\n",
       "      <td>0.8</td>\n",
       "      <td>10.200000</td>\n",
       "      <td>8.8</td>\n",
       "      <td>13.882247</td>\n",
       "      <td>23.0</td>\n",
       "      <td>190.000000</td>\n",
       "      <td>21.370000</td>\n",
       "      <td>2.020000</td>\n",
       "      <td>4.8</td>\n",
       "      <td>4.57</td>\n",
       "      <td>13.2</td>\n",
       "      <td>249.000000</td>\n",
       "      <td>12.0</td>\n",
       "      <td>254.0</td>\n",
       "      <td>142.3</td>\n",
       "      <td>4.40</td>\n",
       "      <td>102.7</td>\n",
       "      <td>1</td>\n",
       "    </tr>\n",
       "    <tr>\n",
       "      <td>2434</td>\n",
       "      <td>1</td>\n",
       "      <td>43</td>\n",
       "      <td>Sabha</td>\n",
       "      <td>76.00000</td>\n",
       "      <td>15.0</td>\n",
       "      <td>0.6</td>\n",
       "      <td>11.400000</td>\n",
       "      <td>8.1</td>\n",
       "      <td>22.000000</td>\n",
       "      <td>15.0</td>\n",
       "      <td>143.000000</td>\n",
       "      <td>8.500000</td>\n",
       "      <td>0.500000</td>\n",
       "      <td>4.4</td>\n",
       "      <td>4.32</td>\n",
       "      <td>11.1</td>\n",
       "      <td>249.000000</td>\n",
       "      <td>8.0</td>\n",
       "      <td>254.0</td>\n",
       "      <td>137.8</td>\n",
       "      <td>4.25</td>\n",
       "      <td>110.2</td>\n",
       "      <td>1</td>\n",
       "    </tr>\n",
       "    <tr>\n",
       "      <td>2435</td>\n",
       "      <td>1</td>\n",
       "      <td>60</td>\n",
       "      <td>Sabha</td>\n",
       "      <td>120.00000</td>\n",
       "      <td>29.0</td>\n",
       "      <td>0.9</td>\n",
       "      <td>10.900000</td>\n",
       "      <td>8.2</td>\n",
       "      <td>51.000000</td>\n",
       "      <td>17.0</td>\n",
       "      <td>104.000000</td>\n",
       "      <td>30.967314</td>\n",
       "      <td>4.536407</td>\n",
       "      <td>4.5</td>\n",
       "      <td>4.41</td>\n",
       "      <td>12.9</td>\n",
       "      <td>293.000000</td>\n",
       "      <td>13.0</td>\n",
       "      <td>254.0</td>\n",
       "      <td>147.5</td>\n",
       "      <td>3.15</td>\n",
       "      <td>107.5</td>\n",
       "      <td>1</td>\n",
       "    </tr>\n",
       "    <tr>\n",
       "      <td>2436</td>\n",
       "      <td>1</td>\n",
       "      <td>68</td>\n",
       "      <td>Sabha</td>\n",
       "      <td>90.00000</td>\n",
       "      <td>29.0</td>\n",
       "      <td>0.6</td>\n",
       "      <td>5.300000</td>\n",
       "      <td>8.5</td>\n",
       "      <td>13.882247</td>\n",
       "      <td>20.0</td>\n",
       "      <td>178.000000</td>\n",
       "      <td>30.967314</td>\n",
       "      <td>4.536407</td>\n",
       "      <td>3.4</td>\n",
       "      <td>4.42</td>\n",
       "      <td>11.0</td>\n",
       "      <td>199.000000</td>\n",
       "      <td>15.0</td>\n",
       "      <td>254.0</td>\n",
       "      <td>142.3</td>\n",
       "      <td>3.23</td>\n",
       "      <td>107.5</td>\n",
       "      <td>1</td>\n",
       "    </tr>\n",
       "  </tbody>\n",
       "</table>\n",
       "<p>2437 rows × 23 columns</p>\n",
       "</div>"
      ],
      "text/plain": [
       "      Sex  Age         Adress        FBS  Urea  Creatinin        ALB  TCa  \\\n",
       "0       1   60         Tragan  200.00000  23.0        0.8   3.400000  1.0   \n",
       "1       1   53          Sabha  154.36173  22.0        0.7   4.461508  9.6   \n",
       "2       1   50          Sabha  154.36173  27.0        0.6   3.500000  9.3   \n",
       "3       1   36  Obaree-center  300.00000  15.0        1.1   4.200000  8.5   \n",
       "4       1   30  Obaree-center  345.00000   2.0        1.0   3.000000  8.0   \n",
       "...   ...  ...            ...        ...   ...        ...        ...  ...   \n",
       "2432    1   30      Algatroon   70.00000  28.0        0.7   5.900000  9.5   \n",
       "2433    1   47          Sabha   98.00000  32.0        0.8  10.200000  8.8   \n",
       "2434    1   43          Sabha   76.00000  15.0        0.6  11.400000  8.1   \n",
       "2435    1   60          Sabha  120.00000  29.0        0.9  10.900000  8.2   \n",
       "2436    1   68          Sabha   90.00000  29.0        0.6   5.300000  8.5   \n",
       "\n",
       "            GPT   GOT         ALP       CA15        CEA  WBC   RBC   HGB  \\\n",
       "0      2.000000   1.0  124.000000  69.120000   8.020000  3.4  4.60  13.4   \n",
       "1      3.000000   7.0  133.000000  51.820000   7.910000  4.4  5.00  12.5   \n",
       "2     11.000000  17.0  155.000000  50.000000   8.740000  5.1  4.46  12.5   \n",
       "3     13.000000   1.0  140.701195  40.110000  10.340000  3.1  4.33  13.8   \n",
       "4      7.000000  13.0  125.000000  67.630000   7.310000  4.2  4.13   1.7   \n",
       "...         ...   ...         ...        ...        ...  ...   ...   ...   \n",
       "2432  13.882247  23.0  234.000000  21.000000   1.120000  3.9  5.23  11.3   \n",
       "2433  13.882247  23.0  190.000000  21.370000   2.020000  4.8  4.57  13.2   \n",
       "2434  22.000000  15.0  143.000000   8.500000   0.500000  4.4  4.32  11.1   \n",
       "2435  51.000000  17.0  104.000000  30.967314   4.536407  4.5  4.41  12.9   \n",
       "2436  13.882247  20.0  178.000000  30.967314   4.536407  3.4  4.42  11.0   \n",
       "\n",
       "             PLT   ESR    LDH     Na     K     CL  CLASS  \n",
       "0     500.000000  25.0  150.0  145.0  4.50   19.1      0  \n",
       "1     283.554362  15.0  260.0  137.8  4.18   19.1      0  \n",
       "2     456.000000   2.0  169.0  139.2  4.17   16.4      0  \n",
       "3     600.000000  15.0  138.0   14.0  4.00    1.1      0  \n",
       "4     543.000000  25.0  154.0  136.4  4.60   17.1      0  \n",
       "...          ...   ...    ...    ...   ...    ...    ...  \n",
       "2432  288.000000  15.0  254.0  138.7  4.35  103.6      1  \n",
       "2433  249.000000  12.0  254.0  142.3  4.40  102.7      1  \n",
       "2434  249.000000   8.0  254.0  137.8  4.25  110.2      1  \n",
       "2435  293.000000  13.0  254.0  147.5  3.15  107.5      1  \n",
       "2436  199.000000  15.0  254.0  142.3  3.23  107.5      1  \n",
       "\n",
       "[2437 rows x 23 columns]"
      ]
     },
     "execution_count": 10,
     "metadata": {},
     "output_type": "execute_result"
    }
   ],
   "source": [
    "#imputing nan values\n",
    "\n",
    "BC[\"FBS\"].fillna(BC[\"FBS\"].mean(), inplace=True)\n",
    "BC[\"Urea\"].fillna(BC[\"Urea\"].mean(), inplace=True)\n",
    "BC[\"Creatinin\"].fillna(BC[\"Creatinin\"].mean(), inplace=True)\n",
    "BC[\"ALB\"].fillna(BC[\"ALB\"].mean(), inplace=True)\n",
    "BC[\"TCa\"].fillna(BC[\"TCa\"].mean(), inplace=True)\n",
    "BC[\"GPT\"].fillna(BC[\"GPT\"].mean(), inplace=True)\n",
    "BC[\"GOT\"].fillna(BC[\"GOT\"].mean(), inplace=True)\n",
    "BC[\"ALP\"].fillna(BC[\"ALP\"].mean(), inplace=True)\n",
    "BC[\"WBC\"].fillna(BC[\"WBC\"].mean(), inplace=True)\n",
    "BC[\"HGB\"].fillna(BC[\"HGB\"].mean(), inplace=True)\n",
    "BC[\"RBC\"].fillna(BC[\"RBC\"].mean(), inplace=True)\n",
    "BC[\"PLT\"].fillna(BC[\"PLT\"].mean(), inplace=True)\n",
    "BC[\"ESR\"].fillna(BC[\"ESR\"].mean(), inplace=True)\n",
    "BC[\"LDH\"].fillna(BC[\"LDH\"].mean(), inplace=True)\n",
    "BC[\"Na\"].fillna(BC[\"Na\"].mean(), inplace=True)\n",
    "BC[\"K\"].fillna(BC[\"K\"].mean(), inplace=True)\n",
    "BC[\"CL\"].fillna(BC[\"CL\"].mean(), inplace=True)\n",
    "BC[\"CA15\"].fillna(BC[\"CA15\"].mean(), inplace=True)\n",
    "BC[\"CEA\"].fillna(BC[\"CEA\"].mean(), inplace=True)\n",
    "BC"
   ]
  },
  {
   "cell_type": "code",
   "execution_count": 11,
   "metadata": {},
   "outputs": [],
   "source": [
    "from sklearn.preprocessing import LabelEncoder\n",
    "le = LabelEncoder()\n",
    "cols = BC.columns.tolist()\n",
    "for column in cols:\n",
    "    if BC[column].dtype == 'object':\n",
    "        BC[column] = le.fit_transform(BC[column])\n"
   ]
  },
  {
   "cell_type": "code",
   "execution_count": 12,
   "metadata": {},
   "outputs": [],
   "source": [
    "### Train test split to avoid overfitting\n",
    "\n",
    "from sklearn.model_selection import train_test_split\n",
    "\n",
    "X_train,X_test,y_train,y_test=train_test_split(BC.drop(labels=['CLASS'], axis=1),\n",
    "    BC['CLASS'],\n",
    "    test_size=0.3,\n",
    "    random_state=0)"
   ]
  },
  {
   "cell_type": "code",
   "execution_count": 13,
   "metadata": {},
   "outputs": [
    {
     "data": {
      "text/html": [
       "<div>\n",
       "<style scoped>\n",
       "    .dataframe tbody tr th:only-of-type {\n",
       "        vertical-align: middle;\n",
       "    }\n",
       "\n",
       "    .dataframe tbody tr th {\n",
       "        vertical-align: top;\n",
       "    }\n",
       "\n",
       "    .dataframe thead th {\n",
       "        text-align: right;\n",
       "    }\n",
       "</style>\n",
       "<table border=\"1\" class=\"dataframe\">\n",
       "  <thead>\n",
       "    <tr style=\"text-align: right;\">\n",
       "      <th></th>\n",
       "      <th>Sex</th>\n",
       "      <th>Age</th>\n",
       "      <th>Adress</th>\n",
       "      <th>FBS</th>\n",
       "      <th>Urea</th>\n",
       "      <th>Creatinin</th>\n",
       "      <th>ALB</th>\n",
       "      <th>TCa</th>\n",
       "      <th>GPT</th>\n",
       "      <th>GOT</th>\n",
       "      <th>ALP</th>\n",
       "      <th>CA15</th>\n",
       "      <th>CEA</th>\n",
       "      <th>WBC</th>\n",
       "      <th>RBC</th>\n",
       "      <th>HGB</th>\n",
       "      <th>PLT</th>\n",
       "      <th>ESR</th>\n",
       "      <th>LDH</th>\n",
       "      <th>Na</th>\n",
       "      <th>K</th>\n",
       "      <th>CL</th>\n",
       "    </tr>\n",
       "  </thead>\n",
       "  <tbody>\n",
       "    <tr>\n",
       "      <td>1816</td>\n",
       "      <td>1</td>\n",
       "      <td>50</td>\n",
       "      <td>5</td>\n",
       "      <td>236.0</td>\n",
       "      <td>83.00000</td>\n",
       "      <td>1.8</td>\n",
       "      <td>4.223726</td>\n",
       "      <td>8.1</td>\n",
       "      <td>4.00000</td>\n",
       "      <td>39.0</td>\n",
       "      <td>136.552018</td>\n",
       "      <td>50.00</td>\n",
       "      <td>9.11</td>\n",
       "      <td>11.2</td>\n",
       "      <td>15.30</td>\n",
       "      <td>11.002811</td>\n",
       "      <td>283.554362</td>\n",
       "      <td>25.392484</td>\n",
       "      <td>32.0</td>\n",
       "      <td>134.700000</td>\n",
       "      <td>3.34</td>\n",
       "      <td>18.3</td>\n",
       "    </tr>\n",
       "    <tr>\n",
       "      <td>260</td>\n",
       "      <td>1</td>\n",
       "      <td>50</td>\n",
       "      <td>4</td>\n",
       "      <td>83.0</td>\n",
       "      <td>14.00000</td>\n",
       "      <td>0.7</td>\n",
       "      <td>3.400000</td>\n",
       "      <td>8.4</td>\n",
       "      <td>15.59057</td>\n",
       "      <td>2.0</td>\n",
       "      <td>13.000000</td>\n",
       "      <td>39.76</td>\n",
       "      <td>7.95</td>\n",
       "      <td>4.4</td>\n",
       "      <td>3.38</td>\n",
       "      <td>14.900000</td>\n",
       "      <td>283.554362</td>\n",
       "      <td>10.000000</td>\n",
       "      <td>155.0</td>\n",
       "      <td>143.700000</td>\n",
       "      <td>4.23</td>\n",
       "      <td>16.4</td>\n",
       "    </tr>\n",
       "    <tr>\n",
       "      <td>1110</td>\n",
       "      <td>1</td>\n",
       "      <td>42</td>\n",
       "      <td>3</td>\n",
       "      <td>102.0</td>\n",
       "      <td>24.62444</td>\n",
       "      <td>0.9</td>\n",
       "      <td>3.900000</td>\n",
       "      <td>8.3</td>\n",
       "      <td>25.00000</td>\n",
       "      <td>23.0</td>\n",
       "      <td>156.000000</td>\n",
       "      <td>17.60</td>\n",
       "      <td>0.53</td>\n",
       "      <td>6.7</td>\n",
       "      <td>3.54</td>\n",
       "      <td>1.700000</td>\n",
       "      <td>217.000000</td>\n",
       "      <td>16.000000</td>\n",
       "      <td>185.0</td>\n",
       "      <td>137.200000</td>\n",
       "      <td>3.80</td>\n",
       "      <td>112.5</td>\n",
       "    </tr>\n",
       "    <tr>\n",
       "      <td>2147</td>\n",
       "      <td>1</td>\n",
       "      <td>43</td>\n",
       "      <td>19</td>\n",
       "      <td>180.0</td>\n",
       "      <td>26.00000</td>\n",
       "      <td>0.5</td>\n",
       "      <td>4.500000</td>\n",
       "      <td>9.2</td>\n",
       "      <td>14.00000</td>\n",
       "      <td>15.0</td>\n",
       "      <td>92.000000</td>\n",
       "      <td>15.28</td>\n",
       "      <td>3.35</td>\n",
       "      <td>5.7</td>\n",
       "      <td>3.56</td>\n",
       "      <td>1.000000</td>\n",
       "      <td>298.000000</td>\n",
       "      <td>15.000000</td>\n",
       "      <td>138.0</td>\n",
       "      <td>146.000000</td>\n",
       "      <td>3.90</td>\n",
       "      <td>17.0</td>\n",
       "    </tr>\n",
       "    <tr>\n",
       "      <td>1829</td>\n",
       "      <td>1</td>\n",
       "      <td>58</td>\n",
       "      <td>19</td>\n",
       "      <td>178.0</td>\n",
       "      <td>81.00000</td>\n",
       "      <td>3.9</td>\n",
       "      <td>8.200000</td>\n",
       "      <td>1.2</td>\n",
       "      <td>15.00000</td>\n",
       "      <td>2.0</td>\n",
       "      <td>140.701195</td>\n",
       "      <td>53.02</td>\n",
       "      <td>7.21</td>\n",
       "      <td>11.9</td>\n",
       "      <td>13.70</td>\n",
       "      <td>12.700000</td>\n",
       "      <td>33.000000</td>\n",
       "      <td>4.000000</td>\n",
       "      <td>185.0</td>\n",
       "      <td>130.009717</td>\n",
       "      <td>4.30</td>\n",
       "      <td>114.2</td>\n",
       "    </tr>\n",
       "  </tbody>\n",
       "</table>\n",
       "</div>"
      ],
      "text/plain": [
       "      Sex  Age  Adress    FBS      Urea  Creatinin       ALB  TCa       GPT  \\\n",
       "1816    1   50       5  236.0  83.00000        1.8  4.223726  8.1   4.00000   \n",
       "260     1   50       4   83.0  14.00000        0.7  3.400000  8.4  15.59057   \n",
       "1110    1   42       3  102.0  24.62444        0.9  3.900000  8.3  25.00000   \n",
       "2147    1   43      19  180.0  26.00000        0.5  4.500000  9.2  14.00000   \n",
       "1829    1   58      19  178.0  81.00000        3.9  8.200000  1.2  15.00000   \n",
       "\n",
       "       GOT         ALP   CA15   CEA   WBC    RBC        HGB         PLT  \\\n",
       "1816  39.0  136.552018  50.00  9.11  11.2  15.30  11.002811  283.554362   \n",
       "260    2.0   13.000000  39.76  7.95   4.4   3.38  14.900000  283.554362   \n",
       "1110  23.0  156.000000  17.60  0.53   6.7   3.54   1.700000  217.000000   \n",
       "2147  15.0   92.000000  15.28  3.35   5.7   3.56   1.000000  298.000000   \n",
       "1829   2.0  140.701195  53.02  7.21  11.9  13.70  12.700000   33.000000   \n",
       "\n",
       "            ESR    LDH          Na     K     CL  \n",
       "1816  25.392484   32.0  134.700000  3.34   18.3  \n",
       "260   10.000000  155.0  143.700000  4.23   16.4  \n",
       "1110  16.000000  185.0  137.200000  3.80  112.5  \n",
       "2147  15.000000  138.0  146.000000  3.90   17.0  \n",
       "1829   4.000000  185.0  130.009717  4.30  114.2  "
      ]
     },
     "execution_count": 13,
     "metadata": {},
     "output_type": "execute_result"
    }
   ],
   "source": [
    "X_train.head()"
   ]
  },
  {
   "cell_type": "code",
   "execution_count": 14,
   "metadata": {
    "scrolled": true
   },
   "outputs": [
    {
     "data": {
      "text/plain": [
       "array([0.00815611, 0.00664291, 0.04184095, 0.10525158, 0.00572758,\n",
       "       0.0123485 , 0.05253719, 0.        , 0.0016802 , 0.        ,\n",
       "       0.02119175, 0.13454937, 0.14613987, 0.05970275, 0.10803704,\n",
       "       0.00682192, 0.02439039, 0.04632182, 0.0951896 , 0.03547215,\n",
       "       0.02257094, 0.00886432])"
      ]
     },
     "execution_count": 14,
     "metadata": {},
     "output_type": "execute_result"
    }
   ],
   "source": [
    "from sklearn.feature_selection import mutual_info_classif\n",
    "\n",
    "# determine the mutual information\n",
    "\n",
    "mutual_info = mutual_info_classif(X_train, y_train)\n",
    "mutual_info"
   ]
  },
  {
   "cell_type": "code",
   "execution_count": 17,
   "metadata": {},
   "outputs": [
    {
     "data": {
      "text/plain": [
       "CEA          0.146140\n",
       "CA15         0.134549\n",
       "RBC          0.108037\n",
       "FBS          0.105252\n",
       "LDH          0.095190\n",
       "WBC          0.059703\n",
       "ALB          0.052537\n",
       "ESR          0.046322\n",
       "Adress       0.041841\n",
       "Na           0.035472\n",
       "PLT          0.024390\n",
       "K            0.022571\n",
       "ALP          0.021192\n",
       "Creatinin    0.012349\n",
       "CL           0.008864\n",
       "Sex          0.008156\n",
       "HGB          0.006822\n",
       "Age          0.006643\n",
       "Urea         0.005728\n",
       "GPT          0.001680\n",
       "TCa          0.000000\n",
       "GOT          0.000000\n",
       "dtype: float64"
      ]
     },
     "execution_count": 17,
     "metadata": {},
     "output_type": "execute_result"
    }
   ],
   "source": [
    "mutual_info = pd.Series(mutual_info)\n",
    "mutual_info.index = X_train.columns\n",
    "mutual_info.sort_values(ascending=False)"
   ]
  },
  {
   "cell_type": "code",
   "execution_count": 18,
   "metadata": {},
   "outputs": [
    {
     "data": {
      "text/plain": [
       "<matplotlib.axes._subplots.AxesSubplot at 0x22260568b48>"
      ]
     },
     "execution_count": 18,
     "metadata": {},
     "output_type": "execute_result"
    },
    {
     "data": {
      "image/png": "[encoded data removed]",
      "text/plain": [
       "<Figure size 1440x576 with 1 Axes>"
      ]
     },
     "metadata": {
      "needs_background": "light"
     },
     "output_type": "display_data"
    }
   ],
   "source": [
    "#let's plot the ordered mutual_info values per feature\n",
    "mutual_info.sort_values(ascending=False).plot.bar(figsize=(20, 8))"
   ]
  },
  {
   "cell_type": "markdown",
   "metadata": {},
   "source": [
    "## تدريب النموذج علي أفضل 2 سمة بعد معالجة القيم المفقودة\n"
   ]
  },
  {
   "cell_type": "code",
   "execution_count": 19,
   "metadata": {},
   "outputs": [],
   "source": [
    "\n",
    "X=BC.drop([\"CLASS\",\"Sex\",\"Age\",\"FBS\",\"Adress\",\"Urea\",\"Creatinin\",\"ALB\",\"TCa\",\"GPT\",\"GOT\",\"ALP\",\"WBC\",\"RBC\",\"PLT\",\"ESR\",\"LDH\",\"K\",\"Na\",\"CL\",\"HGB\"],axis=1)\n",
    "Y=BC[\"CLASS\"] \n"
   ]
  },
  {
   "cell_type": "code",
   "execution_count": 20,
   "metadata": {},
   "outputs": [
    {
     "data": {
      "text/plain": [
       "(2437, 2)"
      ]
     },
     "execution_count": 20,
     "metadata": {},
     "output_type": "execute_result"
    }
   ],
   "source": [
    "X.shape\n"
   ]
  },
  {
   "cell_type": "code",
   "execution_count": 21,
   "metadata": {},
   "outputs": [
    {
     "data": {
      "text/plain": [
       "DecisionTreeClassifier(class_weight=None, criterion='gini', max_depth=None,\n",
       "                       max_features=None, max_leaf_nodes=None,\n",
       "                       min_impurity_decrease=0.0, min_impurity_split=None,\n",
       "                       min_samples_leaf=1, min_samples_split=2,\n",
       "                       min_weight_fraction_leaf=0.0, presort=False,\n",
       "                       random_state=0, splitter='best')"
      ]
     },
     "execution_count": 21,
     "metadata": {},
     "output_type": "execute_result"
    }
   ],
   "source": [
    "x_train, x_test, y_train, y_test = train_test_split(X, Y, \n",
    "                                                    test_size=0.25)\n",
    "\n",
    "from sklearn.tree import DecisionTreeClassifier\n",
    "\n",
    "D_classifier= DecisionTreeClassifier(random_state=0) \n",
    "D_classifier.fit(x_train,y_train) \n"
   ]
  },
  {
   "cell_type": "code",
   "execution_count": 22,
   "metadata": {},
   "outputs": [
    {
     "data": {
      "text/plain": [
       "0.6098360655737705"
      ]
     },
     "execution_count": 22,
     "metadata": {},
     "output_type": "execute_result"
    }
   ],
   "source": [
    "y_pred=D_classifier.predict_proba(x_test)[:,1]\n",
    "\n",
    "\n",
    "new_y=[]\n",
    "for i in range (len(y_pred)):\n",
    "    if y_pred[i]<0.5:\n",
    "        new_y.append(0)\n",
    "    else:\n",
    "        new_y.append(1)\n",
    "\n",
    "from sklearn.metrics import accuracy_score\n",
    "\n",
    "\n",
    "accuracy_score(y_test,new_y)\n"
   ]
  },
  {
   "cell_type": "code",
   "execution_count": 23,
   "metadata": {},
   "outputs": [
    {
     "name": "stdout",
     "output_type": "stream",
     "text": [
      "mean_absolute_error is = 0.3920765027322405\n",
      "mean_squared_error is = 0.611628361987583\n"
     ]
    }
   ],
   "source": [
    "from sklearn.metrics import mean_absolute_error\n",
    "from sklearn.metrics import mean_squared_error\n",
    "\n",
    "\n",
    "MAEVale=mean_absolute_error(y_test,y_pred,multioutput=\"uniform_average\")\n",
    "print(\"mean_absolute_error is =\",MAEVale)\n",
    "\n",
    "MSEVale=mean_squared_error(y_test,y_pred,multioutput=\"uniform_average\")\n",
    "RmseVal=np.sqrt(MSEVale)\n",
    "print(\"mean_squared_error is =\",RmseVal)\n",
    "\n"
   ]
  },
  {
   "cell_type": "code",
   "execution_count": 24,
   "metadata": {},
   "outputs": [
    {
     "name": "stdout",
     "output_type": "stream",
     "text": [
      "Decision Tree  classifiers  confusion_matrix\n",
      "Decision Tree classifier Trining Accurcy = 0.9102353585112206\n",
      "Decision Tree classifier Testing Accurcy =  0.6098360655737705\n",
      "[[185 133]\n",
      " [105 187]]\n"
     ]
    },
    {
     "data": {
      "text/plain": [
       "Text(33.0, 0.5, 'Acutl')"
      ]
     },
     "execution_count": 24,
     "metadata": {},
     "output_type": "execute_result"
    },
    {
     "data": {
      "image/png": "[encoded data removed]",
      "text/plain": [
       "<Figure size 432x288 with 2 Axes>"
      ]
     },
     "metadata": {
      "needs_background": "light"
     },
     "output_type": "display_data"
    }
   ],
   "source": [
    "from sklearn.metrics import confusion_matrix\n",
    "\n",
    "print(\"Decision Tree  classifiers  confusion_matrix\")\n",
    "cm=confusion_matrix(y_test,new_y)\n",
    "TN=cm[0][0]\n",
    "TP=cm[1][1]\n",
    "FP=cm[0][1]\n",
    "FN=cm[1][0]\n",
    "\n",
    "print('Decision Tree classifier Trining Accurcy =',D_classifier.score(x_train,y_train) )\n",
    "print('Decision Tree classifier Testing Accurcy = ',(TP+TN)/(TP+TN+FP+FN))\n",
    "print(cm)\n",
    "                            \n",
    "sns.heatmap(cm,annot=True)\n",
    "plt.title(\"Decision Tree classifier confusion_matrix \")\n",
    "plt.xlabel(\"Predication\")\n",
    "plt.ylabel(\"Acutl\")\n"
   ]
  },
  {
   "cell_type": "code",
   "execution_count": 25,
   "metadata": {},
   "outputs": [
    {
     "name": "stdout",
     "output_type": "stream",
     "text": [
      "classification_report Decision Tree\n",
      ".......................................\n",
      "              precision    recall  f1-score   support\n",
      "\n",
      "           0       0.62      0.64      0.63       318\n",
      "           1       0.59      0.56      0.58       292\n",
      "\n",
      "    accuracy                           0.60       610\n",
      "   macro avg       0.60      0.60      0.60       610\n",
      "weighted avg       0.60      0.60      0.60       610\n",
      "\n",
      "accuracy_score= 0.6049180327868853\n"
     ]
    }
   ],
   "source": [
    "\n",
    "\n",
    "### CLASSIFACTION Report\n",
    "\n",
    "from sklearn.metrics import classification_report\n",
    "from sklearn.metrics import accuracy_score\n",
    "\n",
    "y_pred=D_classifier.predict(x_test)\n",
    "print('classification_report Decision Tree')\n",
    "print('.......................................') \n",
    "\n",
    "print(classification_report(y_test,y_pred)) \n",
    "print(\"accuracy_score=\",accuracy_score(y_test,y_pred)) \n",
    "\n",
    "\n"
   ]
  },
  {
   "cell_type": "markdown",
   "metadata": {},
   "source": [
    "#### Difference Between Information Gain And Mutual Information\n",
    "I(X ; Y) = H(X) – H(X | Y)\n",
    "and\n",
    "IG(S, a) = H(S) – H(S | a)\n",
    "\n",
    "As such, mutual information is sometimes used as a synonym for \n",
    "information gain. Technically, they calculate the same quantity\n",
    "if applied to the same data."
   ]
  },
  {
   "cell_type": "markdown",
   "metadata": {},
   "source": [
    "## تدريب النموذج علي أفضل 3 سمة بعد معالجة القيم المفقودة\n"
   ]
  },
  {
   "cell_type": "code",
   "execution_count": 26,
   "metadata": {},
   "outputs": [],
   "source": [
    "\n",
    "X=BC.drop([\"CLASS\",\"Sex\",\"Age\",\"FBS\",\"Adress\",\"Urea\",\"Creatinin\",\"ALB\",\"TCa\",\"GPT\",\"GOT\",\"ALP\",\"WBC\",\"PLT\",\"ESR\",\"LDH\",\"K\",\"Na\",\"CL\",\"HGB\"],axis=1)\n",
    "Y=BC[\"CLASS\"] \n"
   ]
  },
  {
   "cell_type": "code",
   "execution_count": 27,
   "metadata": {},
   "outputs": [
    {
     "data": {
      "text/plain": [
       "(2437, 3)"
      ]
     },
     "execution_count": 27,
     "metadata": {},
     "output_type": "execute_result"
    }
   ],
   "source": [
    "X.shape\n"
   ]
  },
  {
   "cell_type": "code",
   "execution_count": 28,
   "metadata": {},
   "outputs": [
    {
     "data": {
      "text/plain": [
       "DecisionTreeClassifier(class_weight=None, criterion='gini', max_depth=None,\n",
       "                       max_features=None, max_leaf_nodes=None,\n",
       "                       min_impurity_decrease=0.0, min_impurity_split=None,\n",
       "                       min_samples_leaf=1, min_samples_split=2,\n",
       "                       min_weight_fraction_leaf=0.0, presort=False,\n",
       "                       random_state=0, splitter='best')"
      ]
     },
     "execution_count": 28,
     "metadata": {},
     "output_type": "execute_result"
    }
   ],
   "source": [
    "x_train, x_test, y_train, y_test = train_test_split(X, Y, \n",
    "                                                    test_size=0.25)\n",
    "\n",
    "from sklearn.tree import DecisionTreeClassifier\n",
    "\n",
    "D_classifier= DecisionTreeClassifier(random_state=0) \n",
    "D_classifier.fit(x_train,y_train) \n"
   ]
  },
  {
   "cell_type": "code",
   "execution_count": 29,
   "metadata": {},
   "outputs": [
    {
     "data": {
      "text/plain": [
       "0.7278688524590164"
      ]
     },
     "execution_count": 29,
     "metadata": {},
     "output_type": "execute_result"
    }
   ],
   "source": [
    "y_pred=D_classifier.predict_proba(x_test)[:,1]\n",
    "\n",
    "\n",
    "new_y=[]\n",
    "for i in range (len(y_pred)):\n",
    "    if y_pred[i]<0.5:\n",
    "        new_y.append(0)\n",
    "    else:\n",
    "        new_y.append(1)\n",
    "\n",
    "from sklearn.metrics import accuracy_score\n",
    "\n",
    "\n",
    "accuracy_score(y_test,new_y)\n"
   ]
  },
  {
   "cell_type": "code",
   "execution_count": 30,
   "metadata": {},
   "outputs": [
    {
     "name": "stdout",
     "output_type": "stream",
     "text": [
      "mean_absolute_error is = 0.2721311475409836\n",
      "mean_squared_error is = 0.5216619092295158\n"
     ]
    }
   ],
   "source": [
    "from sklearn.metrics import mean_absolute_error\n",
    "from sklearn.metrics import mean_squared_error\n",
    "\n",
    "\n",
    "MAEVale=mean_absolute_error(y_test,y_pred,multioutput=\"uniform_average\")\n",
    "print(\"mean_absolute_error is =\",MAEVale)\n",
    "\n",
    "MSEVale=mean_squared_error(y_test,y_pred,multioutput=\"uniform_average\")\n",
    "RmseVal=np.sqrt(MSEVale)\n",
    "print(\"mean_squared_error is =\",RmseVal)\n",
    "\n"
   ]
  },
  {
   "cell_type": "code",
   "execution_count": 31,
   "metadata": {},
   "outputs": [
    {
     "name": "stdout",
     "output_type": "stream",
     "text": [
      "Decision Tree  classifiers  confusion_matrix\n",
      "Decision Tree classifier Trining Accurcy = 0.9994526546250684\n",
      "Decision Tree classifier Testing Accurcy =  0.7278688524590164\n",
      "[[252  94]\n",
      " [ 72 192]]\n"
     ]
    },
    {
     "data": {
      "text/plain": [
       "Text(33.0, 0.5, 'Acutl')"
      ]
     },
     "execution_count": 31,
     "metadata": {},
     "output_type": "execute_result"
    },
    {
     "data": {
      "image/png": "[encoded data removed]",
      "text/plain": [
       "<Figure size 432x288 with 2 Axes>"
      ]
     },
     "metadata": {
      "needs_background": "light"
     },
     "output_type": "display_data"
    }
   ],
   "source": [
    "from sklearn.metrics import confusion_matrix\n",
    "\n",
    "print(\"Decision Tree  classifiers  confusion_matrix\")\n",
    "cm=confusion_matrix(y_test,new_y)\n",
    "TN=cm[0][0]\n",
    "TP=cm[1][1]\n",
    "FP=cm[0][1]\n",
    "FN=cm[1][0]\n",
    "\n",
    "print('Decision Tree classifier Trining Accurcy =',D_classifier.score(x_train,y_train) )\n",
    "print('Decision Tree classifier Testing Accurcy = ',(TP+TN)/(TP+TN+FP+FN))\n",
    "print(cm)\n",
    "                            \n",
    "sns.heatmap(cm,annot=True)\n",
    "plt.title(\"Decision Tree classifier confusion_matrix \")\n",
    "plt.xlabel(\"Predication\")\n",
    "plt.ylabel(\"Acutl\")\n"
   ]
  },
  {
   "cell_type": "code",
   "execution_count": 32,
   "metadata": {},
   "outputs": [
    {
     "name": "stdout",
     "output_type": "stream",
     "text": [
      "classification_report Decision Tree\n",
      ".......................................\n",
      "              precision    recall  f1-score   support\n",
      "\n",
      "           0       0.78      0.73      0.75       346\n",
      "           1       0.67      0.73      0.70       264\n",
      "\n",
      "    accuracy                           0.73       610\n",
      "   macro avg       0.72      0.73      0.73       610\n",
      "weighted avg       0.73      0.73      0.73       610\n",
      "\n",
      "accuracy_score= 0.7278688524590164\n"
     ]
    }
   ],
   "source": [
    "\n",
    "\n",
    "### CLASSIFACTION Report\n",
    "\n",
    "from sklearn.metrics import classification_report\n",
    "from sklearn.metrics import accuracy_score\n",
    "\n",
    "y_pred=D_classifier.predict(x_test)\n",
    "print('classification_report Decision Tree')\n",
    "print('.......................................') \n",
    "\n",
    "print(classification_report(y_test,y_pred)) \n",
    "print(\"accuracy_score=\",accuracy_score(y_test,y_pred)) \n",
    "\n",
    "\n"
   ]
  },
  {
   "cell_type": "markdown",
   "metadata": {},
   "source": [
    "## تدريب النموذج علي أفضل 4 سمة بعد معالجة القيم المفقودة\n"
   ]
  },
  {
   "cell_type": "code",
   "execution_count": 33,
   "metadata": {},
   "outputs": [],
   "source": [
    "\n",
    "X=BC.drop([\"CLASS\",\"Sex\",\"Age\",\"Adress\",\"Urea\",\"Creatinin\",\"ALB\",\"TCa\",\"GPT\",\"GOT\",\"ALP\",\"WBC\",\"PLT\",\"ESR\",\"LDH\",\"K\",\"Na\",\"CL\",\"HGB\"],axis=1)\n",
    "Y=BC[\"CLASS\"] \n"
   ]
  },
  {
   "cell_type": "code",
   "execution_count": 34,
   "metadata": {},
   "outputs": [
    {
     "data": {
      "text/plain": [
       "(2437, 4)"
      ]
     },
     "execution_count": 34,
     "metadata": {},
     "output_type": "execute_result"
    }
   ],
   "source": [
    "X.shape\n"
   ]
  },
  {
   "cell_type": "code",
   "execution_count": 35,
   "metadata": {},
   "outputs": [
    {
     "data": {
      "text/plain": [
       "DecisionTreeClassifier(class_weight=None, criterion='gini', max_depth=None,\n",
       "                       max_features=None, max_leaf_nodes=None,\n",
       "                       min_impurity_decrease=0.0, min_impurity_split=None,\n",
       "                       min_samples_leaf=1, min_samples_split=2,\n",
       "                       min_weight_fraction_leaf=0.0, presort=False,\n",
       "                       random_state=0, splitter='best')"
      ]
     },
     "execution_count": 35,
     "metadata": {},
     "output_type": "execute_result"
    }
   ],
   "source": [
    "x_train, x_test, y_train, y_test = train_test_split(X, Y, \n",
    "                                                    test_size=0.25)\n",
    "\n",
    "from sklearn.tree import DecisionTreeClassifier\n",
    "\n",
    "D_classifier= DecisionTreeClassifier(random_state=0) \n",
    "D_classifier.fit(x_train,y_train) \n"
   ]
  },
  {
   "cell_type": "code",
   "execution_count": 36,
   "metadata": {},
   "outputs": [
    {
     "data": {
      "text/plain": [
       "0.8131147540983606"
      ]
     },
     "execution_count": 36,
     "metadata": {},
     "output_type": "execute_result"
    }
   ],
   "source": [
    "y_pred=D_classifier.predict_proba(x_test)[:,1]\n",
    "\n",
    "\n",
    "new_y=[]\n",
    "for i in range (len(y_pred)):\n",
    "    if y_pred[i]<0.5:\n",
    "        new_y.append(0)\n",
    "    else:\n",
    "        new_y.append(1)\n",
    "\n",
    "from sklearn.metrics import accuracy_score\n",
    "\n",
    "\n",
    "accuracy_score(y_test,new_y)\n"
   ]
  },
  {
   "cell_type": "code",
   "execution_count": 37,
   "metadata": {},
   "outputs": [
    {
     "name": "stdout",
     "output_type": "stream",
     "text": [
      "mean_absolute_error is = 0.18688524590163935\n",
      "mean_squared_error is = 0.43230226219815154\n"
     ]
    }
   ],
   "source": [
    "from sklearn.metrics import mean_absolute_error\n",
    "from sklearn.metrics import mean_squared_error\n",
    "\n",
    "\n",
    "MAEVale=mean_absolute_error(y_test,y_pred,multioutput=\"uniform_average\")\n",
    "print(\"mean_absolute_error is =\",MAEVale)\n",
    "\n",
    "MSEVale=mean_squared_error(y_test,y_pred,multioutput=\"uniform_average\")\n",
    "RmseVal=np.sqrt(MSEVale)\n",
    "print(\"mean_squared_error is =\",RmseVal)\n",
    "\n"
   ]
  },
  {
   "cell_type": "code",
   "execution_count": 38,
   "metadata": {},
   "outputs": [
    {
     "name": "stdout",
     "output_type": "stream",
     "text": [
      "Decision Tree  classifiers  confusion_matrix\n",
      "Decision Tree classifier Trining Accurcy = 1.0\n",
      "Decision Tree classifier Testing Accurcy =  0.8131147540983606\n",
      "[[297  59]\n",
      " [ 55 199]]\n"
     ]
    },
    {
     "data": {
      "text/plain": [
       "Text(33.0, 0.5, 'Acutl')"
      ]
     },
     "execution_count": 38,
     "metadata": {},
     "output_type": "execute_result"
    },
    {
     "data": {
      "image/png": "[encoded data removed]",
      "text/plain": [
       "<Figure size 432x288 with 2 Axes>"
      ]
     },
     "metadata": {
      "needs_background": "light"
     },
     "output_type": "display_data"
    }
   ],
   "source": [
    "from sklearn.metrics import confusion_matrix\n",
    "\n",
    "print(\"Decision Tree  classifiers  confusion_matrix\")\n",
    "cm=confusion_matrix(y_test,new_y)\n",
    "TN=cm[0][0]\n",
    "TP=cm[1][1]\n",
    "FP=cm[0][1]\n",
    "FN=cm[1][0]\n",
    "\n",
    "print('Decision Tree classifier Trining Accurcy =',D_classifier.score(x_train,y_train) )\n",
    "print('Decision Tree classifier Testing Accurcy = ',(TP+TN)/(TP+TN+FP+FN))\n",
    "print(cm)\n",
    "                            \n",
    "sns.heatmap(cm,annot=True)\n",
    "plt.title(\"Decision Tree classifier confusion_matrix \")\n",
    "plt.xlabel(\"Predication\")\n",
    "plt.ylabel(\"Acutl\")\n"
   ]
  },
  {
   "cell_type": "code",
   "execution_count": 39,
   "metadata": {},
   "outputs": [
    {
     "name": "stdout",
     "output_type": "stream",
     "text": [
      "classification_report Decision Tree\n",
      ".......................................\n",
      "              precision    recall  f1-score   support\n",
      "\n",
      "           0       0.84      0.83      0.84       356\n",
      "           1       0.77      0.78      0.78       254\n",
      "\n",
      "    accuracy                           0.81       610\n",
      "   macro avg       0.81      0.81      0.81       610\n",
      "weighted avg       0.81      0.81      0.81       610\n",
      "\n",
      "accuracy_score= 0.8131147540983606\n"
     ]
    }
   ],
   "source": [
    "\n",
    "\n",
    "### CLASSIFACTION Report\n",
    "\n",
    "from sklearn.metrics import classification_report\n",
    "from sklearn.metrics import accuracy_score\n",
    "\n",
    "y_pred=D_classifier.predict(x_test)\n",
    "print('classification_report Decision Tree')\n",
    "print('.......................................') \n",
    "\n",
    "print(classification_report(y_test,y_pred)) \n",
    "print(\"accuracy_score=\",accuracy_score(y_test,y_pred)) \n",
    "\n",
    "\n"
   ]
  },
  {
   "cell_type": "markdown",
   "metadata": {},
   "source": [
    "## تدريب النموذج علي أفضل 5 سمة بعد معالجة القيم المفقودة\n"
   ]
  },
  {
   "cell_type": "code",
   "execution_count": 40,
   "metadata": {},
   "outputs": [],
   "source": [
    "\n",
    "X=BC.drop([\"CLASS\",\"Sex\",\"Age\",\"Adress\",\"Urea\",\"Creatinin\",\"ALB\",\"TCa\",\"GPT\",\"GOT\",\"ALP\",\"WBC\",\"PLT\",\"ESR\",\"K\",\"Na\",\"CL\",\"HGB\"],axis=1)\n",
    "Y=BC[\"CLASS\"] \n"
   ]
  },
  {
   "cell_type": "code",
   "execution_count": 41,
   "metadata": {},
   "outputs": [
    {
     "data": {
      "text/plain": [
       "(2437, 5)"
      ]
     },
     "execution_count": 41,
     "metadata": {},
     "output_type": "execute_result"
    }
   ],
   "source": [
    "X.shape\n"
   ]
  },
  {
   "cell_type": "code",
   "execution_count": 42,
   "metadata": {},
   "outputs": [
    {
     "data": {
      "text/plain": [
       "DecisionTreeClassifier(class_weight=None, criterion='gini', max_depth=None,\n",
       "                       max_features=None, max_leaf_nodes=None,\n",
       "                       min_impurity_decrease=0.0, min_impurity_split=None,\n",
       "                       min_samples_leaf=1, min_samples_split=2,\n",
       "                       min_weight_fraction_leaf=0.0, presort=False,\n",
       "                       random_state=0, splitter='best')"
      ]
     },
     "execution_count": 42,
     "metadata": {},
     "output_type": "execute_result"
    }
   ],
   "source": [
    "x_train, x_test, y_train, y_test = train_test_split(X, Y, \n",
    "                                                    test_size=0.25)\n",
    "\n",
    "from sklearn.tree import DecisionTreeClassifier\n",
    "\n",
    "D_classifier= DecisionTreeClassifier(random_state=0) \n",
    "D_classifier.fit(x_train,y_train) \n"
   ]
  },
  {
   "cell_type": "code",
   "execution_count": 43,
   "metadata": {},
   "outputs": [
    {
     "data": {
      "text/plain": [
       "0.8016393442622951"
      ]
     },
     "execution_count": 43,
     "metadata": {},
     "output_type": "execute_result"
    }
   ],
   "source": [
    "y_pred=D_classifier.predict_proba(x_test)[:,1]\n",
    "\n",
    "\n",
    "new_y=[]\n",
    "for i in range (len(y_pred)):\n",
    "    if y_pred[i]<0.5:\n",
    "        new_y.append(0)\n",
    "    else:\n",
    "        new_y.append(1)\n",
    "\n",
    "from sklearn.metrics import accuracy_score\n",
    "\n",
    "\n",
    "accuracy_score(y_test,new_y)\n"
   ]
  },
  {
   "cell_type": "code",
   "execution_count": 44,
   "metadata": {},
   "outputs": [
    {
     "name": "stdout",
     "output_type": "stream",
     "text": [
      "mean_absolute_error is = 0.19836065573770492\n",
      "mean_squared_error is = 0.44537698159840383\n"
     ]
    }
   ],
   "source": [
    "from sklearn.metrics import mean_absolute_error\n",
    "from sklearn.metrics import mean_squared_error\n",
    "\n",
    "\n",
    "MAEVale=mean_absolute_error(y_test,y_pred,multioutput=\"uniform_average\")\n",
    "print(\"mean_absolute_error is =\",MAEVale)\n",
    "\n",
    "MSEVale=mean_squared_error(y_test,y_pred,multioutput=\"uniform_average\")\n",
    "RmseVal=np.sqrt(MSEVale)\n",
    "print(\"mean_squared_error is =\",RmseVal)\n",
    "\n"
   ]
  },
  {
   "cell_type": "code",
   "execution_count": 45,
   "metadata": {},
   "outputs": [
    {
     "name": "stdout",
     "output_type": "stream",
     "text": [
      "Decision Tree  classifiers  confusion_matrix\n",
      "Decision Tree classifier Trining Accurcy = 1.0\n",
      "Decision Tree classifier Testing Accurcy =  0.8016393442622951\n",
      "[[279  66]\n",
      " [ 55 210]]\n"
     ]
    },
    {
     "data": {
      "text/plain": [
       "Text(33.0, 0.5, 'Acutl')"
      ]
     },
     "execution_count": 45,
     "metadata": {},
     "output_type": "execute_result"
    },
    {
     "data": {
      "image/png": "[encoded data removed]",
      "text/plain": [
       "<Figure size 432x288 with 2 Axes>"
      ]
     },
     "metadata": {
      "needs_background": "light"
     },
     "output_type": "display_data"
    }
   ],
   "source": [
    "from sklearn.metrics import confusion_matrix\n",
    "\n",
    "print(\"Decision Tree  classifiers  confusion_matrix\")\n",
    "cm=confusion_matrix(y_test,new_y)\n",
    "TN=cm[0][0]\n",
    "TP=cm[1][1]\n",
    "FP=cm[0][1]\n",
    "FN=cm[1][0]\n",
    "\n",
    "print('Decision Tree classifier Trining Accurcy =',D_classifier.score(x_train,y_train) )\n",
    "print('Decision Tree classifier Testing Accurcy = ',(TP+TN)/(TP+TN+FP+FN))\n",
    "print(cm)\n",
    "                            \n",
    "sns.heatmap(cm,annot=True)\n",
    "plt.title(\"Decision Tree classifier confusion_matrix \")\n",
    "plt.xlabel(\"Predication\")\n",
    "plt.ylabel(\"Acutl\")\n"
   ]
  },
  {
   "cell_type": "code",
   "execution_count": 46,
   "metadata": {},
   "outputs": [
    {
     "name": "stdout",
     "output_type": "stream",
     "text": [
      "classification_report Decision Tree\n",
      ".......................................\n",
      "              precision    recall  f1-score   support\n",
      "\n",
      "           0       0.84      0.81      0.82       345\n",
      "           1       0.76      0.79      0.78       265\n",
      "\n",
      "    accuracy                           0.80       610\n",
      "   macro avg       0.80      0.80      0.80       610\n",
      "weighted avg       0.80      0.80      0.80       610\n",
      "\n",
      "accuracy_score= 0.8016393442622951\n"
     ]
    }
   ],
   "source": [
    "\n",
    "\n",
    "### CLASSIFACTION Report\n",
    "\n",
    "from sklearn.metrics import classification_report\n",
    "from sklearn.metrics import accuracy_score\n",
    "\n",
    "y_pred=D_classifier.predict(x_test)\n",
    "print('classification_report Decision Tree')\n",
    "print('.......................................') \n",
    "\n",
    "print(classification_report(y_test,y_pred)) \n",
    "print(\"accuracy_score=\",accuracy_score(y_test,y_pred)) \n",
    "\n",
    "\n"
   ]
  },
  {
   "cell_type": "markdown",
   "metadata": {},
   "source": [
    "## تدريب النموذج علي أفضل6  سمة بعد معالجة القيم المفقودة\n"
   ]
  },
  {
   "cell_type": "code",
   "execution_count": 49,
   "metadata": {},
   "outputs": [],
   "source": [
    "\n",
    "X=BC.drop([\"CLASS\",\"Sex\",\"Age\",\"Adress\",\"Urea\",\"Creatinin\",\"ALB\",\"TCa\",\"GPT\",\"GOT\",\"ALP\",\"PLT\",\"ESR\",\"K\",\"Na\",\"CL\",\"HGB\"],axis=1)\n",
    "Y=BC[\"CLASS\"] \n"
   ]
  },
  {
   "cell_type": "code",
   "execution_count": 50,
   "metadata": {},
   "outputs": [
    {
     "data": {
      "text/plain": [
       "(2437, 6)"
      ]
     },
     "execution_count": 50,
     "metadata": {},
     "output_type": "execute_result"
    }
   ],
   "source": [
    "X.shape\n"
   ]
  },
  {
   "cell_type": "code",
   "execution_count": 51,
   "metadata": {},
   "outputs": [
    {
     "data": {
      "text/plain": [
       "DecisionTreeClassifier(class_weight=None, criterion='gini', max_depth=None,\n",
       "                       max_features=None, max_leaf_nodes=None,\n",
       "                       min_impurity_decrease=0.0, min_impurity_split=None,\n",
       "                       min_samples_leaf=1, min_samples_split=2,\n",
       "                       min_weight_fraction_leaf=0.0, presort=False,\n",
       "                       random_state=0, splitter='best')"
      ]
     },
     "execution_count": 51,
     "metadata": {},
     "output_type": "execute_result"
    }
   ],
   "source": [
    "x_train, x_test, y_train, y_test = train_test_split(X, Y, \n",
    "                                                    test_size=0.25)\n",
    "\n",
    "from sklearn.tree import DecisionTreeClassifier\n",
    "\n",
    "D_classifier= DecisionTreeClassifier(random_state=0) \n",
    "D_classifier.fit(x_train,y_train) \n"
   ]
  },
  {
   "cell_type": "code",
   "execution_count": 52,
   "metadata": {},
   "outputs": [
    {
     "data": {
      "text/plain": [
       "0.8311475409836065"
      ]
     },
     "execution_count": 52,
     "metadata": {},
     "output_type": "execute_result"
    }
   ],
   "source": [
    "y_pred=D_classifier.predict_proba(x_test)[:,1]\n",
    "\n",
    "\n",
    "new_y=[]\n",
    "for i in range (len(y_pred)):\n",
    "    if y_pred[i]<0.5:\n",
    "        new_y.append(0)\n",
    "    else:\n",
    "        new_y.append(1)\n",
    "\n",
    "from sklearn.metrics import accuracy_score\n",
    "\n",
    "\n",
    "accuracy_score(y_test,new_y)\n"
   ]
  },
  {
   "cell_type": "code",
   "execution_count": 53,
   "metadata": {},
   "outputs": [
    {
     "name": "stdout",
     "output_type": "stream",
     "text": [
      "mean_absolute_error is = 0.16885245901639345\n",
      "mean_squared_error is = 0.41091660834820665\n"
     ]
    }
   ],
   "source": [
    "from sklearn.metrics import mean_absolute_error\n",
    "from sklearn.metrics import mean_squared_error\n",
    "\n",
    "\n",
    "MAEVale=mean_absolute_error(y_test,y_pred,multioutput=\"uniform_average\")\n",
    "print(\"mean_absolute_error is =\",MAEVale)\n",
    "\n",
    "MSEVale=mean_squared_error(y_test,y_pred,multioutput=\"uniform_average\")\n",
    "RmseVal=np.sqrt(MSEVale)\n",
    "print(\"mean_squared_error is =\",RmseVal)\n",
    "\n"
   ]
  },
  {
   "cell_type": "code",
   "execution_count": 54,
   "metadata": {},
   "outputs": [
    {
     "name": "stdout",
     "output_type": "stream",
     "text": [
      "Decision Tree  classifiers  confusion_matrix\n",
      "Decision Tree classifier Trining Accurcy = 1.0\n",
      "Decision Tree classifier Testing Accurcy =  0.8311475409836065\n",
      "[[268  56]\n",
      " [ 47 239]]\n"
     ]
    },
    {
     "data": {
      "text/plain": [
       "Text(33.0, 0.5, 'Acutl')"
      ]
     },
     "execution_count": 54,
     "metadata": {},
     "output_type": "execute_result"
    },
    {
     "data": {
      "image/png": "[encoded data removed]",
      "text/plain": [
       "<Figure size 432x288 with 2 Axes>"
      ]
     },
     "metadata": {
      "needs_background": "light"
     },
     "output_type": "display_data"
    }
   ],
   "source": [
    "from sklearn.metrics import confusion_matrix\n",
    "\n",
    "print(\"Decision Tree  classifiers  confusion_matrix\")\n",
    "cm=confusion_matrix(y_test,new_y)\n",
    "TN=cm[0][0]\n",
    "TP=cm[1][1]\n",
    "FP=cm[0][1]\n",
    "FN=cm[1][0]\n",
    "\n",
    "print('Decision Tree classifier Trining Accurcy =',D_classifier.score(x_train,y_train) )\n",
    "print('Decision Tree classifier Testing Accurcy = ',(TP+TN)/(TP+TN+FP+FN))\n",
    "print(cm)\n",
    "                            \n",
    "sns.heatmap(cm,annot=True)\n",
    "plt.title(\"Decision Tree classifier confusion_matrix \")\n",
    "plt.xlabel(\"Predication\")\n",
    "plt.ylabel(\"Acutl\")\n"
   ]
  },
  {
   "cell_type": "code",
   "execution_count": 55,
   "metadata": {},
   "outputs": [
    {
     "name": "stdout",
     "output_type": "stream",
     "text": [
      "classification_report Decision Tree\n",
      ".......................................\n",
      "              precision    recall  f1-score   support\n",
      "\n",
      "           0       0.85      0.83      0.84       324\n",
      "           1       0.81      0.84      0.82       286\n",
      "\n",
      "    accuracy                           0.83       610\n",
      "   macro avg       0.83      0.83      0.83       610\n",
      "weighted avg       0.83      0.83      0.83       610\n",
      "\n",
      "accuracy_score= 0.8311475409836065\n"
     ]
    }
   ],
   "source": [
    "\n",
    "\n",
    "### CLASSIFACTION Report\n",
    "\n",
    "from sklearn.metrics import classification_report\n",
    "from sklearn.metrics import accuracy_score\n",
    "\n",
    "y_pred=D_classifier.predict(x_test)\n",
    "print('classification_report Decision Tree')\n",
    "print('.......................................') \n",
    "\n",
    "print(classification_report(y_test,y_pred)) \n",
    "print(\"accuracy_score=\",accuracy_score(y_test,y_pred)) \n",
    "\n",
    "\n"
   ]
  },
  {
   "cell_type": "markdown",
   "metadata": {},
   "source": [
    "## تدريب النموذج علي أفضل7  سمة بعد معالجة القيم المفقودة\n"
   ]
  },
  {
   "cell_type": "code",
   "execution_count": 56,
   "metadata": {},
   "outputs": [],
   "source": [
    "\n",
    "X=BC.drop([\"CLASS\",\"Sex\",\"Age\",\"Adress\",\"Urea\",\"Creatinin\",\"TCa\",\"GPT\",\"GOT\",\"ALP\",\"PLT\",\"ESR\",\"K\",\"Na\",\"CL\",\"HGB\"],axis=1)\n",
    "Y=BC[\"CLASS\"] \n"
   ]
  },
  {
   "cell_type": "code",
   "execution_count": 57,
   "metadata": {},
   "outputs": [
    {
     "data": {
      "text/plain": [
       "(2437, 7)"
      ]
     },
     "execution_count": 57,
     "metadata": {},
     "output_type": "execute_result"
    }
   ],
   "source": [
    "X.shape\n"
   ]
  },
  {
   "cell_type": "code",
   "execution_count": 58,
   "metadata": {},
   "outputs": [
    {
     "data": {
      "text/plain": [
       "DecisionTreeClassifier(class_weight=None, criterion='gini', max_depth=None,\n",
       "                       max_features=None, max_leaf_nodes=None,\n",
       "                       min_impurity_decrease=0.0, min_impurity_split=None,\n",
       "                       min_samples_leaf=1, min_samples_split=2,\n",
       "                       min_weight_fraction_leaf=0.0, presort=False,\n",
       "                       random_state=0, splitter='best')"
      ]
     },
     "execution_count": 58,
     "metadata": {},
     "output_type": "execute_result"
    }
   ],
   "source": [
    "x_train, x_test, y_train, y_test = train_test_split(X, Y, \n",
    "                                                    test_size=0.25)\n",
    "\n",
    "from sklearn.tree import DecisionTreeClassifier\n",
    "\n",
    "D_classifier= DecisionTreeClassifier(random_state=0) \n",
    "D_classifier.fit(x_train,y_train) \n"
   ]
  },
  {
   "cell_type": "code",
   "execution_count": 59,
   "metadata": {},
   "outputs": [
    {
     "data": {
      "text/plain": [
       "0.8704918032786885"
      ]
     },
     "execution_count": 59,
     "metadata": {},
     "output_type": "execute_result"
    }
   ],
   "source": [
    "y_pred=D_classifier.predict_proba(x_test)[:,1]\n",
    "\n",
    "\n",
    "new_y=[]\n",
    "for i in range (len(y_pred)):\n",
    "    if y_pred[i]<0.5:\n",
    "        new_y.append(0)\n",
    "    else:\n",
    "        new_y.append(1)\n",
    "\n",
    "from sklearn.metrics import accuracy_score\n",
    "\n",
    "\n",
    "accuracy_score(y_test,new_y)\n"
   ]
  },
  {
   "cell_type": "code",
   "execution_count": 60,
   "metadata": {},
   "outputs": [
    {
     "name": "stdout",
     "output_type": "stream",
     "text": [
      "mean_absolute_error is = 0.12950819672131147\n",
      "mean_squared_error is = 0.3598724728585273\n"
     ]
    }
   ],
   "source": [
    "from sklearn.metrics import mean_absolute_error\n",
    "from sklearn.metrics import mean_squared_error\n",
    "\n",
    "\n",
    "MAEVale=mean_absolute_error(y_test,y_pred,multioutput=\"uniform_average\")\n",
    "print(\"mean_absolute_error is =\",MAEVale)\n",
    "\n",
    "MSEVale=mean_squared_error(y_test,y_pred,multioutput=\"uniform_average\")\n",
    "RmseVal=np.sqrt(MSEVale)\n",
    "print(\"mean_squared_error is =\",RmseVal)\n",
    "\n"
   ]
  },
  {
   "cell_type": "code",
   "execution_count": 61,
   "metadata": {},
   "outputs": [
    {
     "name": "stdout",
     "output_type": "stream",
     "text": [
      "Decision Tree  classifiers  confusion_matrix\n",
      "Decision Tree classifier Trining Accurcy = 1.0\n",
      "Decision Tree classifier Testing Accurcy =  0.8704918032786885\n",
      "[[309  39]\n",
      " [ 40 222]]\n"
     ]
    },
    {
     "data": {
      "text/plain": [
       "Text(33.0, 0.5, 'Acutl')"
      ]
     },
     "execution_count": 61,
     "metadata": {},
     "output_type": "execute_result"
    },
    {
     "data": {
      "image/png": "[encoded data removed]",
      "text/plain": [
       "<Figure size 432x288 with 2 Axes>"
      ]
     },
     "metadata": {
      "needs_background": "light"
     },
     "output_type": "display_data"
    }
   ],
   "source": [
    "from sklearn.metrics import confusion_matrix\n",
    "\n",
    "print(\"Decision Tree  classifiers  confusion_matrix\")\n",
    "cm=confusion_matrix(y_test,new_y)\n",
    "TN=cm[0][0]\n",
    "TP=cm[1][1]\n",
    "FP=cm[0][1]\n",
    "FN=cm[1][0]\n",
    "\n",
    "print('Decision Tree classifier Trining Accurcy =',D_classifier.score(x_train,y_train) )\n",
    "print('Decision Tree classifier Testing Accurcy = ',(TP+TN)/(TP+TN+FP+FN))\n",
    "print(cm)\n",
    "                            \n",
    "sns.heatmap(cm,annot=True)\n",
    "plt.title(\"Decision Tree classifier confusion_matrix \")\n",
    "plt.xlabel(\"Predication\")\n",
    "plt.ylabel(\"Acutl\")\n"
   ]
  },
  {
   "cell_type": "code",
   "execution_count": 62,
   "metadata": {},
   "outputs": [
    {
     "name": "stdout",
     "output_type": "stream",
     "text": [
      "classification_report Decision Tree\n",
      ".......................................\n",
      "              precision    recall  f1-score   support\n",
      "\n",
      "           0       0.89      0.89      0.89       348\n",
      "           1       0.85      0.85      0.85       262\n",
      "\n",
      "    accuracy                           0.87       610\n",
      "   macro avg       0.87      0.87      0.87       610\n",
      "weighted avg       0.87      0.87      0.87       610\n",
      "\n",
      "accuracy_score= 0.8704918032786885\n"
     ]
    }
   ],
   "source": [
    "\n",
    "\n",
    "### CLASSIFACTION Report\n",
    "\n",
    "from sklearn.metrics import classification_report\n",
    "from sklearn.metrics import accuracy_score\n",
    "\n",
    "y_pred=D_classifier.predict(x_test)\n",
    "print('classification_report Decision Tree')\n",
    "print('.......................................') \n",
    "\n",
    "print(classification_report(y_test,y_pred)) \n",
    "print(\"accuracy_score=\",accuracy_score(y_test,y_pred)) \n",
    "\n",
    "\n"
   ]
  },
  {
   "cell_type": "markdown",
   "metadata": {},
   "source": [
    "## تدريب النموذج علي أفضل8  سمة بعد معالجة القيم المفقودة\n"
   ]
  },
  {
   "cell_type": "code",
   "execution_count": 63,
   "metadata": {},
   "outputs": [],
   "source": [
    "\n",
    "X=BC.drop([\"CLASS\",\"Sex\",\"Age\",\"Adress\",\"Urea\",\"Creatinin\",\"TCa\",\"GPT\",\"GOT\",\"ALP\",\"PLT\",\"K\",\"Na\",\"CL\",\"HGB\"],axis=1)\n",
    "Y=BC[\"CLASS\"] \n"
   ]
  },
  {
   "cell_type": "code",
   "execution_count": 64,
   "metadata": {},
   "outputs": [
    {
     "data": {
      "text/plain": [
       "(2437, 8)"
      ]
     },
     "execution_count": 64,
     "metadata": {},
     "output_type": "execute_result"
    }
   ],
   "source": [
    "X.shape\n"
   ]
  },
  {
   "cell_type": "code",
   "execution_count": 65,
   "metadata": {},
   "outputs": [
    {
     "data": {
      "text/plain": [
       "DecisionTreeClassifier(class_weight=None, criterion='gini', max_depth=None,\n",
       "                       max_features=None, max_leaf_nodes=None,\n",
       "                       min_impurity_decrease=0.0, min_impurity_split=None,\n",
       "                       min_samples_leaf=1, min_samples_split=2,\n",
       "                       min_weight_fraction_leaf=0.0, presort=False,\n",
       "                       random_state=0, splitter='best')"
      ]
     },
     "execution_count": 65,
     "metadata": {},
     "output_type": "execute_result"
    }
   ],
   "source": [
    "x_train, x_test, y_train, y_test = train_test_split(X, Y, \n",
    "                                                    test_size=0.25)\n",
    "\n",
    "from sklearn.tree import DecisionTreeClassifier\n",
    "\n",
    "D_classifier= DecisionTreeClassifier(random_state=0) \n",
    "D_classifier.fit(x_train,y_train) \n"
   ]
  },
  {
   "cell_type": "code",
   "execution_count": 66,
   "metadata": {},
   "outputs": [
    {
     "data": {
      "text/plain": [
       "0.8459016393442623"
      ]
     },
     "execution_count": 66,
     "metadata": {},
     "output_type": "execute_result"
    }
   ],
   "source": [
    "y_pred=D_classifier.predict_proba(x_test)[:,1]\n",
    "\n",
    "\n",
    "new_y=[]\n",
    "for i in range (len(y_pred)):\n",
    "    if y_pred[i]<0.5:\n",
    "        new_y.append(0)\n",
    "    else:\n",
    "        new_y.append(1)\n",
    "\n",
    "from sklearn.metrics import accuracy_score\n",
    "\n",
    "\n",
    "accuracy_score(y_test,new_y)\n"
   ]
  },
  {
   "cell_type": "code",
   "execution_count": 67,
   "metadata": {},
   "outputs": [
    {
     "name": "stdout",
     "output_type": "stream",
     "text": [
      "mean_absolute_error is = 0.1540983606557377\n",
      "mean_squared_error is = 0.3925536404820846\n"
     ]
    }
   ],
   "source": [
    "from sklearn.metrics import mean_absolute_error\n",
    "from sklearn.metrics import mean_squared_error\n",
    "\n",
    "\n",
    "MAEVale=mean_absolute_error(y_test,y_pred,multioutput=\"uniform_average\")\n",
    "print(\"mean_absolute_error is =\",MAEVale)\n",
    "\n",
    "MSEVale=mean_squared_error(y_test,y_pred,multioutput=\"uniform_average\")\n",
    "RmseVal=np.sqrt(MSEVale)\n",
    "print(\"mean_squared_error is =\",RmseVal)\n",
    "\n"
   ]
  },
  {
   "cell_type": "code",
   "execution_count": 68,
   "metadata": {},
   "outputs": [
    {
     "name": "stdout",
     "output_type": "stream",
     "text": [
      "Decision Tree  classifiers  confusion_matrix\n",
      "Decision Tree classifier Trining Accurcy = 1.0\n",
      "Decision Tree classifier Testing Accurcy =  0.8459016393442623\n",
      "[[302  50]\n",
      " [ 44 214]]\n"
     ]
    },
    {
     "data": {
      "text/plain": [
       "Text(33.0, 0.5, 'Acutl')"
      ]
     },
     "execution_count": 68,
     "metadata": {},
     "output_type": "execute_result"
    },
    {
     "data": {
      "image/png": "[encoded data removed]",
      "text/plain": [
       "<Figure size 432x288 with 2 Axes>"
      ]
     },
     "metadata": {
      "needs_background": "light"
     },
     "output_type": "display_data"
    }
   ],
   "source": [
    "from sklearn.metrics import confusion_matrix\n",
    "\n",
    "print(\"Decision Tree  classifiers  confusion_matrix\")\n",
    "cm=confusion_matrix(y_test,new_y)\n",
    "TN=cm[0][0]\n",
    "TP=cm[1][1]\n",
    "FP=cm[0][1]\n",
    "FN=cm[1][0]\n",
    "\n",
    "print('Decision Tree classifier Trining Accurcy =',D_classifier.score(x_train,y_train) )\n",
    "print('Decision Tree classifier Testing Accurcy = ',(TP+TN)/(TP+TN+FP+FN))\n",
    "print(cm)\n",
    "                            \n",
    "sns.heatmap(cm,annot=True)\n",
    "plt.title(\"Decision Tree classifier confusion_matrix \")\n",
    "plt.xlabel(\"Predication\")\n",
    "plt.ylabel(\"Acutl\")\n"
   ]
  },
  {
   "cell_type": "code",
   "execution_count": 69,
   "metadata": {},
   "outputs": [
    {
     "name": "stdout",
     "output_type": "stream",
     "text": [
      "classification_report Decision Tree\n",
      ".......................................\n",
      "              precision    recall  f1-score   support\n",
      "\n",
      "           0       0.87      0.86      0.87       352\n",
      "           1       0.81      0.83      0.82       258\n",
      "\n",
      "    accuracy                           0.85       610\n",
      "   macro avg       0.84      0.84      0.84       610\n",
      "weighted avg       0.85      0.85      0.85       610\n",
      "\n",
      "accuracy_score= 0.8459016393442623\n"
     ]
    }
   ],
   "source": [
    "\n",
    "\n",
    "### CLASSIFACTION Report\n",
    "\n",
    "from sklearn.metrics import classification_report\n",
    "from sklearn.metrics import accuracy_score\n",
    "\n",
    "y_pred=D_classifier.predict(x_test)\n",
    "print('classification_report Decision Tree')\n",
    "print('.......................................') \n",
    "\n",
    "print(classification_report(y_test,y_pred)) \n",
    "print(\"accuracy_score=\",accuracy_score(y_test,y_pred)) \n",
    "\n",
    "\n"
   ]
  },
  {
   "cell_type": "markdown",
   "metadata": {},
   "source": [
    "## تدريب النموذج علي أفضل9  سمة بعد معالجة القيم المفقودة\n"
   ]
  },
  {
   "cell_type": "code",
   "execution_count": 73,
   "metadata": {},
   "outputs": [],
   "source": [
    "\n",
    "X=BC.drop([\"CLASS\",\"Sex\",\"Age\",\"Urea\",\"Creatinin\",\"TCa\",\"GPT\",\"GOT\",\"ALP\",\"PLT\",\"K\",\"Na\",\"CL\",\"HGB\"],axis=1)\n",
    "Y=BC[\"CLASS\"] \n"
   ]
  },
  {
   "cell_type": "code",
   "execution_count": 74,
   "metadata": {},
   "outputs": [
    {
     "data": {
      "text/plain": [
       "(2437, 9)"
      ]
     },
     "execution_count": 74,
     "metadata": {},
     "output_type": "execute_result"
    }
   ],
   "source": [
    "X.shape\n"
   ]
  },
  {
   "cell_type": "code",
   "execution_count": 75,
   "metadata": {},
   "outputs": [
    {
     "data": {
      "text/plain": [
       "DecisionTreeClassifier(class_weight=None, criterion='gini', max_depth=None,\n",
       "                       max_features=None, max_leaf_nodes=None,\n",
       "                       min_impurity_decrease=0.0, min_impurity_split=None,\n",
       "                       min_samples_leaf=1, min_samples_split=2,\n",
       "                       min_weight_fraction_leaf=0.0, presort=False,\n",
       "                       random_state=0, splitter='best')"
      ]
     },
     "execution_count": 75,
     "metadata": {},
     "output_type": "execute_result"
    }
   ],
   "source": [
    "x_train, x_test, y_train, y_test = train_test_split(X, Y, \n",
    "                                                    test_size=0.25)\n",
    "\n",
    "from sklearn.tree import DecisionTreeClassifier\n",
    "\n",
    "D_classifier= DecisionTreeClassifier(random_state=0) \n",
    "D_classifier.fit(x_train,y_train) \n"
   ]
  },
  {
   "cell_type": "code",
   "execution_count": 76,
   "metadata": {},
   "outputs": [
    {
     "data": {
      "text/plain": [
       "0.8524590163934426"
      ]
     },
     "execution_count": 76,
     "metadata": {},
     "output_type": "execute_result"
    }
   ],
   "source": [
    "y_pred=D_classifier.predict_proba(x_test)[:,1]\n",
    "\n",
    "\n",
    "new_y=[]\n",
    "for i in range (len(y_pred)):\n",
    "    if y_pred[i]<0.5:\n",
    "        new_y.append(0)\n",
    "    else:\n",
    "        new_y.append(1)\n",
    "\n",
    "from sklearn.metrics import accuracy_score\n",
    "\n",
    "\n",
    "accuracy_score(y_test,new_y)\n"
   ]
  },
  {
   "cell_type": "code",
   "execution_count": 77,
   "metadata": {},
   "outputs": [
    {
     "name": "stdout",
     "output_type": "stream",
     "text": [
      "mean_absolute_error is = 0.14754098360655737\n",
      "mean_squared_error is = 0.3841106397986879\n"
     ]
    }
   ],
   "source": [
    "from sklearn.metrics import mean_absolute_error\n",
    "from sklearn.metrics import mean_squared_error\n",
    "\n",
    "\n",
    "MAEVale=mean_absolute_error(y_test,y_pred,multioutput=\"uniform_average\")\n",
    "print(\"mean_absolute_error is =\",MAEVale)\n",
    "\n",
    "MSEVale=mean_squared_error(y_test,y_pred,multioutput=\"uniform_average\")\n",
    "RmseVal=np.sqrt(MSEVale)\n",
    "print(\"mean_squared_error is =\",RmseVal)\n",
    "\n"
   ]
  },
  {
   "cell_type": "code",
   "execution_count": 78,
   "metadata": {},
   "outputs": [
    {
     "name": "stdout",
     "output_type": "stream",
     "text": [
      "Decision Tree  classifiers  confusion_matrix\n",
      "Decision Tree classifier Trining Accurcy = 1.0\n",
      "Decision Tree classifier Testing Accurcy =  0.8524590163934426\n",
      "[[286  32]\n",
      " [ 58 234]]\n"
     ]
    },
    {
     "data": {
      "text/plain": [
       "Text(33.0, 0.5, 'Acutl')"
      ]
     },
     "execution_count": 78,
     "metadata": {},
     "output_type": "execute_result"
    },
    {
     "data": {
      "image/png": "[encoded data removed]",
      "text/plain": [
       "<Figure size 432x288 with 2 Axes>"
      ]
     },
     "metadata": {
      "needs_background": "light"
     },
     "output_type": "display_data"
    }
   ],
   "source": [
    "from sklearn.metrics import confusion_matrix\n",
    "\n",
    "print(\"Decision Tree  classifiers  confusion_matrix\")\n",
    "cm=confusion_matrix(y_test,new_y)\n",
    "TN=cm[0][0]\n",
    "TP=cm[1][1]\n",
    "FP=cm[0][1]\n",
    "FN=cm[1][0]\n",
    "\n",
    "print('Decision Tree classifier Trining Accurcy =',D_classifier.score(x_train,y_train) )\n",
    "print('Decision Tree classifier Testing Accurcy = ',(TP+TN)/(TP+TN+FP+FN))\n",
    "print(cm)\n",
    "                            \n",
    "sns.heatmap(cm,annot=True)\n",
    "plt.title(\"Decision Tree classifier confusion_matrix \")\n",
    "plt.xlabel(\"Predication\")\n",
    "plt.ylabel(\"Acutl\")\n"
   ]
  },
  {
   "cell_type": "code",
   "execution_count": 79,
   "metadata": {},
   "outputs": [
    {
     "name": "stdout",
     "output_type": "stream",
     "text": [
      "classification_report Decision Tree\n",
      ".......................................\n",
      "              precision    recall  f1-score   support\n",
      "\n",
      "           0       0.83      0.90      0.86       318\n",
      "           1       0.88      0.80      0.84       292\n",
      "\n",
      "    accuracy                           0.85       610\n",
      "   macro avg       0.86      0.85      0.85       610\n",
      "weighted avg       0.85      0.85      0.85       610\n",
      "\n",
      "accuracy_score= 0.8524590163934426\n"
     ]
    }
   ],
   "source": [
    "\n",
    "\n",
    "### CLASSIFACTION Report\n",
    "\n",
    "from sklearn.metrics import classification_report\n",
    "from sklearn.metrics import accuracy_score\n",
    "\n",
    "y_pred=D_classifier.predict(x_test)\n",
    "print('classification_report Decision Tree')\n",
    "print('.......................................') \n",
    "\n",
    "print(classification_report(y_test,y_pred)) \n",
    "print(\"accuracy_score=\",accuracy_score(y_test,y_pred)) \n",
    "\n",
    "\n"
   ]
  },
  {
   "cell_type": "markdown",
   "metadata": {},
   "source": [
    "## تدريب النموذج علي أفضل10  سمة بعد معالجة القيم المفقودة\n"
   ]
  },
  {
   "cell_type": "code",
   "execution_count": 80,
   "metadata": {},
   "outputs": [],
   "source": [
    "\n",
    "X=BC.drop([\"CLASS\",\"Sex\",\"Age\",\"Urea\",\"Creatinin\",\"TCa\",\"GPT\",\"GOT\",\"ALP\",\"PLT\",\"K\",\"CL\",\"HGB\"],axis=1)\n",
    "Y=BC[\"CLASS\"] \n"
   ]
  },
  {
   "cell_type": "code",
   "execution_count": 81,
   "metadata": {},
   "outputs": [
    {
     "data": {
      "text/plain": [
       "(2437, 10)"
      ]
     },
     "execution_count": 81,
     "metadata": {},
     "output_type": "execute_result"
    }
   ],
   "source": [
    "X.shape\n"
   ]
  },
  {
   "cell_type": "code",
   "execution_count": 82,
   "metadata": {},
   "outputs": [
    {
     "data": {
      "text/plain": [
       "DecisionTreeClassifier(class_weight=None, criterion='gini', max_depth=None,\n",
       "                       max_features=None, max_leaf_nodes=None,\n",
       "                       min_impurity_decrease=0.0, min_impurity_split=None,\n",
       "                       min_samples_leaf=1, min_samples_split=2,\n",
       "                       min_weight_fraction_leaf=0.0, presort=False,\n",
       "                       random_state=0, splitter='best')"
      ]
     },
     "execution_count": 82,
     "metadata": {},
     "output_type": "execute_result"
    }
   ],
   "source": [
    "x_train, x_test, y_train, y_test = train_test_split(X, Y, \n",
    "                                                    test_size=0.25)\n",
    "\n",
    "from sklearn.tree import DecisionTreeClassifier\n",
    "\n",
    "D_classifier= DecisionTreeClassifier(random_state=0) \n",
    "D_classifier.fit(x_train,y_train) \n"
   ]
  },
  {
   "cell_type": "code",
   "execution_count": 83,
   "metadata": {},
   "outputs": [
    {
     "data": {
      "text/plain": [
       "0.8639344262295082"
      ]
     },
     "execution_count": 83,
     "metadata": {},
     "output_type": "execute_result"
    }
   ],
   "source": [
    "y_pred=D_classifier.predict_proba(x_test)[:,1]\n",
    "\n",
    "\n",
    "new_y=[]\n",
    "for i in range (len(y_pred)):\n",
    "    if y_pred[i]<0.5:\n",
    "        new_y.append(0)\n",
    "    else:\n",
    "        new_y.append(1)\n",
    "\n",
    "from sklearn.metrics import accuracy_score\n",
    "\n",
    "\n",
    "accuracy_score(y_test,new_y)\n"
   ]
  },
  {
   "cell_type": "code",
   "execution_count": 84,
   "metadata": {},
   "outputs": [
    {
     "name": "stdout",
     "output_type": "stream",
     "text": [
      "mean_absolute_error is = 0.1360655737704918\n",
      "mean_squared_error is = 0.36887067350291186\n"
     ]
    }
   ],
   "source": [
    "from sklearn.metrics import mean_absolute_error\n",
    "from sklearn.metrics import mean_squared_error\n",
    "\n",
    "\n",
    "MAEVale=mean_absolute_error(y_test,y_pred,multioutput=\"uniform_average\")\n",
    "print(\"mean_absolute_error is =\",MAEVale)\n",
    "\n",
    "MSEVale=mean_squared_error(y_test,y_pred,multioutput=\"uniform_average\")\n",
    "RmseVal=np.sqrt(MSEVale)\n",
    "print(\"mean_squared_error is =\",RmseVal)\n",
    "\n"
   ]
  },
  {
   "cell_type": "code",
   "execution_count": 85,
   "metadata": {},
   "outputs": [
    {
     "name": "stdout",
     "output_type": "stream",
     "text": [
      "Decision Tree  classifiers  confusion_matrix\n",
      "Decision Tree classifier Trining Accurcy = 1.0\n",
      "Decision Tree classifier Testing Accurcy =  0.8639344262295082\n",
      "[[297  51]\n",
      " [ 32 230]]\n"
     ]
    },
    {
     "data": {
      "text/plain": [
       "Text(33.0, 0.5, 'Acutl')"
      ]
     },
     "execution_count": 85,
     "metadata": {},
     "output_type": "execute_result"
    },
    {
     "data": {
      "image/png": "[encoded data removed]",
      "text/plain": [
       "<Figure size 432x288 with 2 Axes>"
      ]
     },
     "metadata": {
      "needs_background": "light"
     },
     "output_type": "display_data"
    }
   ],
   "source": [
    "from sklearn.metrics import confusion_matrix\n",
    "\n",
    "print(\"Decision Tree  classifiers  confusion_matrix\")\n",
    "cm=confusion_matrix(y_test,new_y)\n",
    "TN=cm[0][0]\n",
    "TP=cm[1][1]\n",
    "FP=cm[0][1]\n",
    "FN=cm[1][0]\n",
    "\n",
    "print('Decision Tree classifier Trining Accurcy =',D_classifier.score(x_train,y_train) )\n",
    "print('Decision Tree classifier Testing Accurcy = ',(TP+TN)/(TP+TN+FP+FN))\n",
    "print(cm)\n",
    "                            \n",
    "sns.heatmap(cm,annot=True)\n",
    "plt.title(\"Decision Tree classifier confusion_matrix \")\n",
    "plt.xlabel(\"Predication\")\n",
    "plt.ylabel(\"Acutl\")\n"
   ]
  },
  {
   "cell_type": "code",
   "execution_count": 86,
   "metadata": {},
   "outputs": [
    {
     "name": "stdout",
     "output_type": "stream",
     "text": [
      "classification_report Decision Tree\n",
      ".......................................\n",
      "              precision    recall  f1-score   support\n",
      "\n",
      "           0       0.90      0.85      0.88       348\n",
      "           1       0.82      0.88      0.85       262\n",
      "\n",
      "    accuracy                           0.86       610\n",
      "   macro avg       0.86      0.87      0.86       610\n",
      "weighted avg       0.87      0.86      0.86       610\n",
      "\n",
      "accuracy_score= 0.8639344262295082\n"
     ]
    }
   ],
   "source": [
    "\n",
    "\n",
    "### CLASSIFACTION Report\n",
    "\n",
    "from sklearn.metrics import classification_report\n",
    "from sklearn.metrics import accuracy_score\n",
    "\n",
    "y_pred=D_classifier.predict(x_test)\n",
    "print('classification_report Decision Tree')\n",
    "print('.......................................') \n",
    "\n",
    "print(classification_report(y_test,y_pred)) \n",
    "print(\"accuracy_score=\",accuracy_score(y_test,y_pred)) \n",
    "\n",
    "\n"
   ]
  },
  {
   "cell_type": "markdown",
   "metadata": {},
   "source": [
    "## تدريب النموذج علي أفضل11  سمة بعد معالجة القيم المفقودة\n"
   ]
  },
  {
   "cell_type": "code",
   "execution_count": 87,
   "metadata": {},
   "outputs": [],
   "source": [
    "\n",
    "X=BC.drop([\"CLASS\",\"Sex\",\"Age\",\"Urea\",\"Creatinin\",\"TCa\",\"GPT\",\"GOT\",\"ALP\",\"K\",\"CL\",\"HGB\"],axis=1)\n",
    "Y=BC[\"CLASS\"] \n"
   ]
  },
  {
   "cell_type": "code",
   "execution_count": 88,
   "metadata": {},
   "outputs": [
    {
     "data": {
      "text/plain": [
       "(2437, 11)"
      ]
     },
     "execution_count": 88,
     "metadata": {},
     "output_type": "execute_result"
    }
   ],
   "source": [
    "X.shape\n"
   ]
  },
  {
   "cell_type": "code",
   "execution_count": 89,
   "metadata": {},
   "outputs": [
    {
     "data": {
      "text/plain": [
       "DecisionTreeClassifier(class_weight=None, criterion='gini', max_depth=None,\n",
       "                       max_features=None, max_leaf_nodes=None,\n",
       "                       min_impurity_decrease=0.0, min_impurity_split=None,\n",
       "                       min_samples_leaf=1, min_samples_split=2,\n",
       "                       min_weight_fraction_leaf=0.0, presort=False,\n",
       "                       random_state=0, splitter='best')"
      ]
     },
     "execution_count": 89,
     "metadata": {},
     "output_type": "execute_result"
    }
   ],
   "source": [
    "x_train, x_test, y_train, y_test = train_test_split(X, Y, \n",
    "                                                    test_size=0.25)\n",
    "\n",
    "from sklearn.tree import DecisionTreeClassifier\n",
    "\n",
    "D_classifier= DecisionTreeClassifier(random_state=0) \n",
    "D_classifier.fit(x_train,y_train) \n"
   ]
  },
  {
   "cell_type": "code",
   "execution_count": 90,
   "metadata": {},
   "outputs": [
    {
     "data": {
      "text/plain": [
       "0.8819672131147541"
      ]
     },
     "execution_count": 90,
     "metadata": {},
     "output_type": "execute_result"
    }
   ],
   "source": [
    "y_pred=D_classifier.predict_proba(x_test)[:,1]\n",
    "\n",
    "\n",
    "new_y=[]\n",
    "for i in range (len(y_pred)):\n",
    "    if y_pred[i]<0.5:\n",
    "        new_y.append(0)\n",
    "    else:\n",
    "        new_y.append(1)\n",
    "\n",
    "from sklearn.metrics import accuracy_score\n",
    "\n",
    "\n",
    "accuracy_score(y_test,new_y)\n"
   ]
  },
  {
   "cell_type": "code",
   "execution_count": 91,
   "metadata": {},
   "outputs": [
    {
     "name": "stdout",
     "output_type": "stream",
     "text": [
      "mean_absolute_error is = 0.1180327868852459\n",
      "mean_squared_error is = 0.34355900058832095\n"
     ]
    }
   ],
   "source": [
    "from sklearn.metrics import mean_absolute_error\n",
    "from sklearn.metrics import mean_squared_error\n",
    "\n",
    "\n",
    "MAEVale=mean_absolute_error(y_test,y_pred,multioutput=\"uniform_average\")\n",
    "print(\"mean_absolute_error is =\",MAEVale)\n",
    "\n",
    "MSEVale=mean_squared_error(y_test,y_pred,multioutput=\"uniform_average\")\n",
    "RmseVal=np.sqrt(MSEVale)\n",
    "print(\"mean_squared_error is =\",RmseVal)\n",
    "\n"
   ]
  },
  {
   "cell_type": "code",
   "execution_count": 92,
   "metadata": {},
   "outputs": [
    {
     "name": "stdout",
     "output_type": "stream",
     "text": [
      "Decision Tree  classifiers  confusion_matrix\n",
      "Decision Tree classifier Trining Accurcy = 1.0\n",
      "Decision Tree classifier Testing Accurcy =  0.8819672131147541\n",
      "[[306  41]\n",
      " [ 31 232]]\n"
     ]
    },
    {
     "data": {
      "text/plain": [
       "Text(33.0, 0.5, 'Acutl')"
      ]
     },
     "execution_count": 92,
     "metadata": {},
     "output_type": "execute_result"
    },
    {
     "data": {
      "image/png": "[encoded data removed]",
      "text/plain": [
       "<Figure size 432x288 with 2 Axes>"
      ]
     },
     "metadata": {
      "needs_background": "light"
     },
     "output_type": "display_data"
    }
   ],
   "source": [
    "from sklearn.metrics import confusion_matrix\n",
    "\n",
    "print(\"Decision Tree  classifiers  confusion_matrix\")\n",
    "cm=confusion_matrix(y_test,new_y)\n",
    "TN=cm[0][0]\n",
    "TP=cm[1][1]\n",
    "FP=cm[0][1]\n",
    "FN=cm[1][0]\n",
    "\n",
    "print('Decision Tree classifier Trining Accurcy =',D_classifier.score(x_train,y_train) )\n",
    "print('Decision Tree classifier Testing Accurcy = ',(TP+TN)/(TP+TN+FP+FN))\n",
    "print(cm)\n",
    "                            \n",
    "sns.heatmap(cm,annot=True)\n",
    "plt.title(\"Decision Tree classifier confusion_matrix \")\n",
    "plt.xlabel(\"Predication\")\n",
    "plt.ylabel(\"Acutl\")\n"
   ]
  },
  {
   "cell_type": "code",
   "execution_count": 93,
   "metadata": {},
   "outputs": [
    {
     "name": "stdout",
     "output_type": "stream",
     "text": [
      "classification_report Decision Tree\n",
      ".......................................\n",
      "              precision    recall  f1-score   support\n",
      "\n",
      "           0       0.91      0.88      0.89       347\n",
      "           1       0.85      0.88      0.87       263\n",
      "\n",
      "    accuracy                           0.88       610\n",
      "   macro avg       0.88      0.88      0.88       610\n",
      "weighted avg       0.88      0.88      0.88       610\n",
      "\n",
      "accuracy_score= 0.8819672131147541\n"
     ]
    }
   ],
   "source": [
    "\n",
    "\n",
    "### CLASSIFACTION Report\n",
    "\n",
    "from sklearn.metrics import classification_report\n",
    "from sklearn.metrics import accuracy_score\n",
    "\n",
    "y_pred=D_classifier.predict(x_test)\n",
    "print('classification_report Decision Tree')\n",
    "print('.......................................') \n",
    "\n",
    "print(classification_report(y_test,y_pred)) \n",
    "print(\"accuracy_score=\",accuracy_score(y_test,y_pred)) \n",
    "\n",
    "\n"
   ]
  },
  {
   "cell_type": "markdown",
   "metadata": {},
   "source": [
    "## تدريب النموذج علي أفضل12  سمة بعد معالجة القيم المفقودة\n"
   ]
  },
  {
   "cell_type": "code",
   "execution_count": 94,
   "metadata": {},
   "outputs": [],
   "source": [
    "\n",
    "X=BC.drop([\"CLASS\",\"Sex\",\"Age\",\"Urea\",\"Creatinin\",\"TCa\",\"GPT\",\"GOT\",\"ALP\",\"CL\",\"HGB\"],axis=1)\n",
    "Y=BC[\"CLASS\"] \n"
   ]
  },
  {
   "cell_type": "code",
   "execution_count": 95,
   "metadata": {},
   "outputs": [
    {
     "data": {
      "text/plain": [
       "(2437, 12)"
      ]
     },
     "execution_count": 95,
     "metadata": {},
     "output_type": "execute_result"
    }
   ],
   "source": [
    "X.shape\n"
   ]
  },
  {
   "cell_type": "code",
   "execution_count": 96,
   "metadata": {},
   "outputs": [
    {
     "data": {
      "text/plain": [
       "DecisionTreeClassifier(class_weight=None, criterion='gini', max_depth=None,\n",
       "                       max_features=None, max_leaf_nodes=None,\n",
       "                       min_impurity_decrease=0.0, min_impurity_split=None,\n",
       "                       min_samples_leaf=1, min_samples_split=2,\n",
       "                       min_weight_fraction_leaf=0.0, presort=False,\n",
       "                       random_state=0, splitter='best')"
      ]
     },
     "execution_count": 96,
     "metadata": {},
     "output_type": "execute_result"
    }
   ],
   "source": [
    "x_train, x_test, y_train, y_test = train_test_split(X, Y, \n",
    "                                                    test_size=0.25)\n",
    "\n",
    "from sklearn.tree import DecisionTreeClassifier\n",
    "\n",
    "D_classifier= DecisionTreeClassifier(random_state=0) \n",
    "D_classifier.fit(x_train,y_train) \n"
   ]
  },
  {
   "cell_type": "code",
   "execution_count": 97,
   "metadata": {},
   "outputs": [
    {
     "data": {
      "text/plain": [
       "0.8934426229508197"
      ]
     },
     "execution_count": 97,
     "metadata": {},
     "output_type": "execute_result"
    }
   ],
   "source": [
    "y_pred=D_classifier.predict_proba(x_test)[:,1]\n",
    "\n",
    "\n",
    "new_y=[]\n",
    "for i in range (len(y_pred)):\n",
    "    if y_pred[i]<0.5:\n",
    "        new_y.append(0)\n",
    "    else:\n",
    "        new_y.append(1)\n",
    "\n",
    "from sklearn.metrics import accuracy_score\n",
    "\n",
    "\n",
    "accuracy_score(y_test,new_y)\n"
   ]
  },
  {
   "cell_type": "code",
   "execution_count": 98,
   "metadata": {},
   "outputs": [
    {
     "name": "stdout",
     "output_type": "stream",
     "text": [
      "mean_absolute_error is = 0.10655737704918032\n",
      "mean_squared_error is = 0.3264312746186865\n"
     ]
    }
   ],
   "source": [
    "from sklearn.metrics import mean_absolute_error\n",
    "from sklearn.metrics import mean_squared_error\n",
    "\n",
    "\n",
    "MAEVale=mean_absolute_error(y_test,y_pred,multioutput=\"uniform_average\")\n",
    "print(\"mean_absolute_error is =\",MAEVale)\n",
    "\n",
    "MSEVale=mean_squared_error(y_test,y_pred,multioutput=\"uniform_average\")\n",
    "RmseVal=np.sqrt(MSEVale)\n",
    "print(\"mean_squared_error is =\",RmseVal)\n",
    "\n"
   ]
  },
  {
   "cell_type": "code",
   "execution_count": 99,
   "metadata": {},
   "outputs": [
    {
     "name": "stdout",
     "output_type": "stream",
     "text": [
      "Decision Tree  classifiers  confusion_matrix\n",
      "Decision Tree classifier Trining Accurcy = 1.0\n",
      "Decision Tree classifier Testing Accurcy =  0.8934426229508197\n",
      "[[295  31]\n",
      " [ 34 250]]\n"
     ]
    },
    {
     "data": {
      "text/plain": [
       "Text(33.0, 0.5, 'Acutl')"
      ]
     },
     "execution_count": 99,
     "metadata": {},
     "output_type": "execute_result"
    },
    {
     "data": {
      "image/png": "[encoded data removed]",
      "text/plain": [
       "<Figure size 432x288 with 2 Axes>"
      ]
     },
     "metadata": {
      "needs_background": "light"
     },
     "output_type": "display_data"
    }
   ],
   "source": [
    "from sklearn.metrics import confusion_matrix\n",
    "\n",
    "print(\"Decision Tree  classifiers  confusion_matrix\")\n",
    "cm=confusion_matrix(y_test,new_y)\n",
    "TN=cm[0][0]\n",
    "TP=cm[1][1]\n",
    "FP=cm[0][1]\n",
    "FN=cm[1][0]\n",
    "\n",
    "print('Decision Tree classifier Trining Accurcy =',D_classifier.score(x_train,y_train) )\n",
    "print('Decision Tree classifier Testing Accurcy = ',(TP+TN)/(TP+TN+FP+FN))\n",
    "print(cm)\n",
    "                            \n",
    "sns.heatmap(cm,annot=True)\n",
    "plt.title(\"Decision Tree classifier confusion_matrix \")\n",
    "plt.xlabel(\"Predication\")\n",
    "plt.ylabel(\"Acutl\")\n"
   ]
  },
  {
   "cell_type": "code",
   "execution_count": 100,
   "metadata": {},
   "outputs": [
    {
     "name": "stdout",
     "output_type": "stream",
     "text": [
      "classification_report Decision Tree\n",
      ".......................................\n",
      "              precision    recall  f1-score   support\n",
      "\n",
      "           0       0.90      0.90      0.90       326\n",
      "           1       0.89      0.88      0.88       284\n",
      "\n",
      "    accuracy                           0.89       610\n",
      "   macro avg       0.89      0.89      0.89       610\n",
      "weighted avg       0.89      0.89      0.89       610\n",
      "\n",
      "accuracy_score= 0.8934426229508197\n"
     ]
    }
   ],
   "source": [
    "\n",
    "\n",
    "### CLASSIFACTION Report\n",
    "\n",
    "from sklearn.metrics import classification_report\n",
    "from sklearn.metrics import accuracy_score\n",
    "\n",
    "y_pred=D_classifier.predict(x_test)\n",
    "print('classification_report Decision Tree')\n",
    "print('.......................................') \n",
    "\n",
    "print(classification_report(y_test,y_pred)) \n",
    "print(\"accuracy_score=\",accuracy_score(y_test,y_pred)) \n",
    "\n",
    "\n"
   ]
  },
  {
   "cell_type": "markdown",
   "metadata": {},
   "source": [
    "## تدريب النموذج علي أفضل13  سمة بعد معالجة القيم المفقودة\n"
   ]
  },
  {
   "cell_type": "code",
   "execution_count": 101,
   "metadata": {},
   "outputs": [],
   "source": [
    "\n",
    "X=BC.drop([\"CLASS\",\"Sex\",\"Age\",\"Urea\",\"Creatinin\",\"TCa\",\"GPT\",\"GOT\",\"CL\",\"HGB\"],axis=1)\n",
    "Y=BC[\"CLASS\"] \n"
   ]
  },
  {
   "cell_type": "code",
   "execution_count": 102,
   "metadata": {},
   "outputs": [
    {
     "data": {
      "text/plain": [
       "(2437, 13)"
      ]
     },
     "execution_count": 102,
     "metadata": {},
     "output_type": "execute_result"
    }
   ],
   "source": [
    "X.shape\n"
   ]
  },
  {
   "cell_type": "code",
   "execution_count": 103,
   "metadata": {},
   "outputs": [
    {
     "data": {
      "text/plain": [
       "DecisionTreeClassifier(class_weight=None, criterion='gini', max_depth=None,\n",
       "                       max_features=None, max_leaf_nodes=None,\n",
       "                       min_impurity_decrease=0.0, min_impurity_split=None,\n",
       "                       min_samples_leaf=1, min_samples_split=2,\n",
       "                       min_weight_fraction_leaf=0.0, presort=False,\n",
       "                       random_state=0, splitter='best')"
      ]
     },
     "execution_count": 103,
     "metadata": {},
     "output_type": "execute_result"
    }
   ],
   "source": [
    "x_train, x_test, y_train, y_test = train_test_split(X, Y, \n",
    "                                                    test_size=0.25)\n",
    "\n",
    "from sklearn.tree import DecisionTreeClassifier\n",
    "\n",
    "D_classifier= DecisionTreeClassifier(random_state=0) \n",
    "D_classifier.fit(x_train,y_train) \n"
   ]
  },
  {
   "cell_type": "code",
   "execution_count": 104,
   "metadata": {},
   "outputs": [
    {
     "data": {
      "text/plain": [
       "0.9"
      ]
     },
     "execution_count": 104,
     "metadata": {},
     "output_type": "execute_result"
    }
   ],
   "source": [
    "y_pred=D_classifier.predict_proba(x_test)[:,1]\n",
    "\n",
    "\n",
    "new_y=[]\n",
    "for i in range (len(y_pred)):\n",
    "    if y_pred[i]<0.5:\n",
    "        new_y.append(0)\n",
    "    else:\n",
    "        new_y.append(1)\n",
    "\n",
    "from sklearn.metrics import accuracy_score\n",
    "\n",
    "\n",
    "accuracy_score(y_test,new_y)\n"
   ]
  },
  {
   "cell_type": "code",
   "execution_count": 105,
   "metadata": {},
   "outputs": [
    {
     "name": "stdout",
     "output_type": "stream",
     "text": [
      "mean_absolute_error is = 0.1\n",
      "mean_squared_error is = 0.31622776601683794\n"
     ]
    }
   ],
   "source": [
    "from sklearn.metrics import mean_absolute_error\n",
    "from sklearn.metrics import mean_squared_error\n",
    "\n",
    "\n",
    "MAEVale=mean_absolute_error(y_test,y_pred,multioutput=\"uniform_average\")\n",
    "print(\"mean_absolute_error is =\",MAEVale)\n",
    "\n",
    "MSEVale=mean_squared_error(y_test,y_pred,multioutput=\"uniform_average\")\n",
    "RmseVal=np.sqrt(MSEVale)\n",
    "print(\"mean_squared_error is =\",RmseVal)\n",
    "\n"
   ]
  },
  {
   "cell_type": "code",
   "execution_count": 106,
   "metadata": {},
   "outputs": [
    {
     "name": "stdout",
     "output_type": "stream",
     "text": [
      "Decision Tree  classifiers  confusion_matrix\n",
      "Decision Tree classifier Trining Accurcy = 1.0\n",
      "Decision Tree classifier Testing Accurcy =  0.9\n",
      "[[302  29]\n",
      " [ 32 247]]\n"
     ]
    },
    {
     "data": {
      "text/plain": [
       "Text(33.0, 0.5, 'Acutl')"
      ]
     },
     "execution_count": 106,
     "metadata": {},
     "output_type": "execute_result"
    },
    {
     "data": {
      "image/png": "[encoded data removed]",
      "text/plain": [
       "<Figure size 432x288 with 2 Axes>"
      ]
     },
     "metadata": {
      "needs_background": "light"
     },
     "output_type": "display_data"
    }
   ],
   "source": [
    "from sklearn.metrics import confusion_matrix\n",
    "\n",
    "print(\"Decision Tree  classifiers  confusion_matrix\")\n",
    "cm=confusion_matrix(y_test,new_y)\n",
    "TN=cm[0][0]\n",
    "TP=cm[1][1]\n",
    "FP=cm[0][1]\n",
    "FN=cm[1][0]\n",
    "\n",
    "print('Decision Tree classifier Trining Accurcy =',D_classifier.score(x_train,y_train) )\n",
    "print('Decision Tree classifier Testing Accurcy = ',(TP+TN)/(TP+TN+FP+FN))\n",
    "print(cm)\n",
    "                            \n",
    "sns.heatmap(cm,annot=True)\n",
    "plt.title(\"Decision Tree classifier confusion_matrix \")\n",
    "plt.xlabel(\"Predication\")\n",
    "plt.ylabel(\"Acutl\")\n"
   ]
  },
  {
   "cell_type": "code",
   "execution_count": 107,
   "metadata": {},
   "outputs": [
    {
     "name": "stdout",
     "output_type": "stream",
     "text": [
      "classification_report Decision Tree\n",
      ".......................................\n",
      "              precision    recall  f1-score   support\n",
      "\n",
      "           0       0.90      0.91      0.91       331\n",
      "           1       0.89      0.89      0.89       279\n",
      "\n",
      "    accuracy                           0.90       610\n",
      "   macro avg       0.90      0.90      0.90       610\n",
      "weighted avg       0.90      0.90      0.90       610\n",
      "\n",
      "accuracy_score= 0.9\n"
     ]
    }
   ],
   "source": [
    "\n",
    "\n",
    "### CLASSIFACTION Report\n",
    "\n",
    "from sklearn.metrics import classification_report\n",
    "from sklearn.metrics import accuracy_score\n",
    "\n",
    "y_pred=D_classifier.predict(x_test)\n",
    "print('classification_report Decision Tree')\n",
    "print('.......................................') \n",
    "\n",
    "print(classification_report(y_test,y_pred)) \n",
    "print(\"accuracy_score=\",accuracy_score(y_test,y_pred)) \n",
    "\n",
    "\n"
   ]
  },
  {
   "cell_type": "markdown",
   "metadata": {},
   "source": [
    "## تدريب النموذج علي أفضل14  سمة بعد معالجة القيم المفقودة\n"
   ]
  },
  {
   "cell_type": "code",
   "execution_count": 108,
   "metadata": {},
   "outputs": [],
   "source": [
    "\n",
    "X=BC.drop([\"CLASS\",\"Sex\",\"Age\",\"Urea\",\"TCa\",\"GPT\",\"GOT\",\"CL\",\"HGB\"],axis=1)\n",
    "Y=BC[\"CLASS\"] \n"
   ]
  },
  {
   "cell_type": "code",
   "execution_count": 109,
   "metadata": {},
   "outputs": [
    {
     "data": {
      "text/plain": [
       "(2437, 14)"
      ]
     },
     "execution_count": 109,
     "metadata": {},
     "output_type": "execute_result"
    }
   ],
   "source": [
    "X.shape\n"
   ]
  },
  {
   "cell_type": "code",
   "execution_count": 110,
   "metadata": {},
   "outputs": [
    {
     "data": {
      "text/plain": [
       "DecisionTreeClassifier(class_weight=None, criterion='gini', max_depth=None,\n",
       "                       max_features=None, max_leaf_nodes=None,\n",
       "                       min_impurity_decrease=0.0, min_impurity_split=None,\n",
       "                       min_samples_leaf=1, min_samples_split=2,\n",
       "                       min_weight_fraction_leaf=0.0, presort=False,\n",
       "                       random_state=0, splitter='best')"
      ]
     },
     "execution_count": 110,
     "metadata": {},
     "output_type": "execute_result"
    }
   ],
   "source": [
    "x_train, x_test, y_train, y_test = train_test_split(X, Y, \n",
    "                                                    test_size=0.25)\n",
    "\n",
    "from sklearn.tree import DecisionTreeClassifier\n",
    "\n",
    "D_classifier= DecisionTreeClassifier(random_state=0) \n",
    "D_classifier.fit(x_train,y_train) \n"
   ]
  },
  {
   "cell_type": "code",
   "execution_count": 111,
   "metadata": {},
   "outputs": [
    {
     "data": {
      "text/plain": [
       "0.8885245901639345"
      ]
     },
     "execution_count": 111,
     "metadata": {},
     "output_type": "execute_result"
    }
   ],
   "source": [
    "y_pred=D_classifier.predict_proba(x_test)[:,1]\n",
    "\n",
    "\n",
    "new_y=[]\n",
    "for i in range (len(y_pred)):\n",
    "    if y_pred[i]<0.5:\n",
    "        new_y.append(0)\n",
    "    else:\n",
    "        new_y.append(1)\n",
    "\n",
    "from sklearn.metrics import accuracy_score\n",
    "\n",
    "\n",
    "accuracy_score(y_test,new_y)\n"
   ]
  },
  {
   "cell_type": "code",
   "execution_count": 112,
   "metadata": {},
   "outputs": [
    {
     "name": "stdout",
     "output_type": "stream",
     "text": [
      "mean_absolute_error is = 0.11147540983606558\n",
      "mean_squared_error is = 0.3338793342452713\n"
     ]
    }
   ],
   "source": [
    "from sklearn.metrics import mean_absolute_error\n",
    "from sklearn.metrics import mean_squared_error\n",
    "\n",
    "\n",
    "MAEVale=mean_absolute_error(y_test,y_pred,multioutput=\"uniform_average\")\n",
    "print(\"mean_absolute_error is =\",MAEVale)\n",
    "\n",
    "MSEVale=mean_squared_error(y_test,y_pred,multioutput=\"uniform_average\")\n",
    "RmseVal=np.sqrt(MSEVale)\n",
    "print(\"mean_squared_error is =\",RmseVal)\n",
    "\n"
   ]
  },
  {
   "cell_type": "code",
   "execution_count": 113,
   "metadata": {},
   "outputs": [
    {
     "name": "stdout",
     "output_type": "stream",
     "text": [
      "Decision Tree  classifiers  confusion_matrix\n",
      "Decision Tree classifier Trining Accurcy = 1.0\n",
      "Decision Tree classifier Testing Accurcy =  0.8885245901639345\n",
      "[[311  44]\n",
      " [ 24 231]]\n"
     ]
    },
    {
     "data": {
      "text/plain": [
       "Text(33.0, 0.5, 'Acutl')"
      ]
     },
     "execution_count": 113,
     "metadata": {},
     "output_type": "execute_result"
    },
    {
     "data": {
      "image/png": "[encoded data removed]",
      "text/plain": [
       "<Figure size 432x288 with 2 Axes>"
      ]
     },
     "metadata": {
      "needs_background": "light"
     },
     "output_type": "display_data"
    }
   ],
   "source": [
    "from sklearn.metrics import confusion_matrix\n",
    "\n",
    "print(\"Decision Tree  classifiers  confusion_matrix\")\n",
    "cm=confusion_matrix(y_test,new_y)\n",
    "TN=cm[0][0]\n",
    "TP=cm[1][1]\n",
    "FP=cm[0][1]\n",
    "FN=cm[1][0]\n",
    "\n",
    "print('Decision Tree classifier Trining Accurcy =',D_classifier.score(x_train,y_train) )\n",
    "print('Decision Tree classifier Testing Accurcy = ',(TP+TN)/(TP+TN+FP+FN))\n",
    "print(cm)\n",
    "                            \n",
    "sns.heatmap(cm,annot=True)\n",
    "plt.title(\"Decision Tree classifier confusion_matrix \")\n",
    "plt.xlabel(\"Predication\")\n",
    "plt.ylabel(\"Acutl\")\n"
   ]
  },
  {
   "cell_type": "code",
   "execution_count": 114,
   "metadata": {},
   "outputs": [
    {
     "name": "stdout",
     "output_type": "stream",
     "text": [
      "classification_report Decision Tree\n",
      ".......................................\n",
      "              precision    recall  f1-score   support\n",
      "\n",
      "           0       0.93      0.88      0.90       355\n",
      "           1       0.84      0.91      0.87       255\n",
      "\n",
      "    accuracy                           0.89       610\n",
      "   macro avg       0.88      0.89      0.89       610\n",
      "weighted avg       0.89      0.89      0.89       610\n",
      "\n",
      "accuracy_score= 0.8885245901639345\n"
     ]
    }
   ],
   "source": [
    "\n",
    "\n",
    "### CLASSIFACTION Report\n",
    "\n",
    "from sklearn.metrics import classification_report\n",
    "from sklearn.metrics import accuracy_score\n",
    "\n",
    "y_pred=D_classifier.predict(x_test)\n",
    "print('classification_report Decision Tree')\n",
    "print('.......................................') \n",
    "\n",
    "print(classification_report(y_test,y_pred)) \n",
    "print(\"accuracy_score=\",accuracy_score(y_test,y_pred)) \n",
    "\n",
    "\n"
   ]
  },
  {
   "cell_type": "markdown",
   "metadata": {},
   "source": [
    "## تدريب النموذج علي أفضل15  سمة بعد معالجة القيم المفقودة\n"
   ]
  },
  {
   "cell_type": "code",
   "execution_count": 115,
   "metadata": {},
   "outputs": [],
   "source": [
    "\n",
    "X=BC.drop([\"CLASS\",\"Sex\",\"Age\",\"Urea\",\"TCa\",\"GPT\",\"GOT\",\"HGB\"],axis=1)\n",
    "Y=BC[\"CLASS\"] \n"
   ]
  },
  {
   "cell_type": "code",
   "execution_count": 116,
   "metadata": {},
   "outputs": [
    {
     "data": {
      "text/plain": [
       "(2437, 15)"
      ]
     },
     "execution_count": 116,
     "metadata": {},
     "output_type": "execute_result"
    }
   ],
   "source": [
    "X.shape\n"
   ]
  },
  {
   "cell_type": "code",
   "execution_count": 117,
   "metadata": {},
   "outputs": [
    {
     "data": {
      "text/plain": [
       "DecisionTreeClassifier(class_weight=None, criterion='gini', max_depth=None,\n",
       "                       max_features=None, max_leaf_nodes=None,\n",
       "                       min_impurity_decrease=0.0, min_impurity_split=None,\n",
       "                       min_samples_leaf=1, min_samples_split=2,\n",
       "                       min_weight_fraction_leaf=0.0, presort=False,\n",
       "                       random_state=0, splitter='best')"
      ]
     },
     "execution_count": 117,
     "metadata": {},
     "output_type": "execute_result"
    }
   ],
   "source": [
    "x_train, x_test, y_train, y_test = train_test_split(X, Y, \n",
    "                                                    test_size=0.25)\n",
    "\n",
    "from sklearn.tree import DecisionTreeClassifier\n",
    "\n",
    "D_classifier= DecisionTreeClassifier(random_state=0) \n",
    "D_classifier.fit(x_train,y_train) \n"
   ]
  },
  {
   "cell_type": "code",
   "execution_count": 118,
   "metadata": {},
   "outputs": [
    {
     "data": {
      "text/plain": [
       "0.8622950819672132"
      ]
     },
     "execution_count": 118,
     "metadata": {},
     "output_type": "execute_result"
    }
   ],
   "source": [
    "y_pred=D_classifier.predict_proba(x_test)[:,1]\n",
    "\n",
    "\n",
    "new_y=[]\n",
    "for i in range (len(y_pred)):\n",
    "    if y_pred[i]<0.5:\n",
    "        new_y.append(0)\n",
    "    else:\n",
    "        new_y.append(1)\n",
    "\n",
    "from sklearn.metrics import accuracy_score\n",
    "\n",
    "\n",
    "accuracy_score(y_test,new_y)\n"
   ]
  },
  {
   "cell_type": "code",
   "execution_count": 119,
   "metadata": {},
   "outputs": [
    {
     "name": "stdout",
     "output_type": "stream",
     "text": [
      "mean_absolute_error is = 0.1377049180327869\n",
      "mean_squared_error is = 0.3710861329028436\n"
     ]
    }
   ],
   "source": [
    "from sklearn.metrics import mean_absolute_error\n",
    "from sklearn.metrics import mean_squared_error\n",
    "\n",
    "\n",
    "MAEVale=mean_absolute_error(y_test,y_pred,multioutput=\"uniform_average\")\n",
    "print(\"mean_absolute_error is =\",MAEVale)\n",
    "\n",
    "MSEVale=mean_squared_error(y_test,y_pred,multioutput=\"uniform_average\")\n",
    "RmseVal=np.sqrt(MSEVale)\n",
    "print(\"mean_squared_error is =\",RmseVal)\n",
    "\n"
   ]
  },
  {
   "cell_type": "code",
   "execution_count": 120,
   "metadata": {},
   "outputs": [
    {
     "name": "stdout",
     "output_type": "stream",
     "text": [
      "Decision Tree  classifiers  confusion_matrix\n",
      "Decision Tree classifier Trining Accurcy = 1.0\n",
      "Decision Tree classifier Testing Accurcy =  0.8622950819672132\n",
      "[[295  50]\n",
      " [ 34 231]]\n"
     ]
    },
    {
     "data": {
      "text/plain": [
       "Text(33.0, 0.5, 'Acutl')"
      ]
     },
     "execution_count": 120,
     "metadata": {},
     "output_type": "execute_result"
    },
    {
     "data": {
      "image/png": "[encoded data removed]",
      "text/plain": [
       "<Figure size 432x288 with 2 Axes>"
      ]
     },
     "metadata": {
      "needs_background": "light"
     },
     "output_type": "display_data"
    }
   ],
   "source": [
    "from sklearn.metrics import confusion_matrix\n",
    "\n",
    "print(\"Decision Tree  classifiers  confusion_matrix\")\n",
    "cm=confusion_matrix(y_test,new_y)\n",
    "TN=cm[0][0]\n",
    "TP=cm[1][1]\n",
    "FP=cm[0][1]\n",
    "FN=cm[1][0]\n",
    "\n",
    "print('Decision Tree classifier Trining Accurcy =',D_classifier.score(x_train,y_train) )\n",
    "print('Decision Tree classifier Testing Accurcy = ',(TP+TN)/(TP+TN+FP+FN))\n",
    "print(cm)\n",
    "                            \n",
    "sns.heatmap(cm,annot=True)\n",
    "plt.title(\"Decision Tree classifier confusion_matrix \")\n",
    "plt.xlabel(\"Predication\")\n",
    "plt.ylabel(\"Acutl\")\n"
   ]
  },
  {
   "cell_type": "code",
   "execution_count": 121,
   "metadata": {},
   "outputs": [
    {
     "name": "stdout",
     "output_type": "stream",
     "text": [
      "classification_report Decision Tree\n",
      ".......................................\n",
      "              precision    recall  f1-score   support\n",
      "\n",
      "           0       0.90      0.86      0.88       345\n",
      "           1       0.82      0.87      0.85       265\n",
      "\n",
      "    accuracy                           0.86       610\n",
      "   macro avg       0.86      0.86      0.86       610\n",
      "weighted avg       0.86      0.86      0.86       610\n",
      "\n",
      "accuracy_score= 0.8622950819672132\n"
     ]
    }
   ],
   "source": [
    "\n",
    "\n",
    "### CLASSIFACTION Report\n",
    "\n",
    "from sklearn.metrics import classification_report\n",
    "from sklearn.metrics import accuracy_score\n",
    "\n",
    "y_pred=D_classifier.predict(x_test)\n",
    "print('classification_report Decision Tree')\n",
    "print('.......................................') \n",
    "\n",
    "print(classification_report(y_test,y_pred)) \n",
    "print(\"accuracy_score=\",accuracy_score(y_test,y_pred)) \n",
    "\n",
    "\n"
   ]
  },
  {
   "cell_type": "markdown",
   "metadata": {},
   "source": [
    "## تدريب النموذج علي أفضل16  سمة بعد معالجة القيم المفقودة\n"
   ]
  },
  {
   "cell_type": "code",
   "execution_count": 122,
   "metadata": {},
   "outputs": [],
   "source": [
    "\n",
    "X=BC.drop([\"CLASS\",\"Age\",\"Urea\",\"TCa\",\"GPT\",\"GOT\",\"HGB\"],axis=1)\n",
    "Y=BC[\"CLASS\"] \n"
   ]
  },
  {
   "cell_type": "code",
   "execution_count": 123,
   "metadata": {},
   "outputs": [
    {
     "data": {
      "text/plain": [
       "(2437, 16)"
      ]
     },
     "execution_count": 123,
     "metadata": {},
     "output_type": "execute_result"
    }
   ],
   "source": [
    "X.shape\n"
   ]
  },
  {
   "cell_type": "code",
   "execution_count": 124,
   "metadata": {},
   "outputs": [
    {
     "data": {
      "text/plain": [
       "DecisionTreeClassifier(class_weight=None, criterion='gini', max_depth=None,\n",
       "                       max_features=None, max_leaf_nodes=None,\n",
       "                       min_impurity_decrease=0.0, min_impurity_split=None,\n",
       "                       min_samples_leaf=1, min_samples_split=2,\n",
       "                       min_weight_fraction_leaf=0.0, presort=False,\n",
       "                       random_state=0, splitter='best')"
      ]
     },
     "execution_count": 124,
     "metadata": {},
     "output_type": "execute_result"
    }
   ],
   "source": [
    "x_train, x_test, y_train, y_test = train_test_split(X, Y, \n",
    "                                                    test_size=0.25)\n",
    "\n",
    "from sklearn.tree import DecisionTreeClassifier\n",
    "\n",
    "D_classifier= DecisionTreeClassifier(random_state=0) \n",
    "D_classifier.fit(x_train,y_train) \n"
   ]
  },
  {
   "cell_type": "code",
   "execution_count": 125,
   "metadata": {},
   "outputs": [
    {
     "data": {
      "text/plain": [
       "0.8950819672131147"
      ]
     },
     "execution_count": 125,
     "metadata": {},
     "output_type": "execute_result"
    }
   ],
   "source": [
    "y_pred=D_classifier.predict_proba(x_test)[:,1]\n",
    "\n",
    "\n",
    "new_y=[]\n",
    "for i in range (len(y_pred)):\n",
    "    if y_pred[i]<0.5:\n",
    "        new_y.append(0)\n",
    "    else:\n",
    "        new_y.append(1)\n",
    "\n",
    "from sklearn.metrics import accuracy_score\n",
    "\n",
    "\n",
    "accuracy_score(y_test,new_y)\n"
   ]
  },
  {
   "cell_type": "code",
   "execution_count": 126,
   "metadata": {},
   "outputs": [
    {
     "name": "stdout",
     "output_type": "stream",
     "text": [
      "mean_absolute_error is = 0.10491803278688525\n",
      "mean_squared_error is = 0.3239105320715664\n"
     ]
    }
   ],
   "source": [
    "from sklearn.metrics import mean_absolute_error\n",
    "from sklearn.metrics import mean_squared_error\n",
    "\n",
    "\n",
    "MAEVale=mean_absolute_error(y_test,y_pred,multioutput=\"uniform_average\")\n",
    "print(\"mean_absolute_error is =\",MAEVale)\n",
    "\n",
    "MSEVale=mean_squared_error(y_test,y_pred,multioutput=\"uniform_average\")\n",
    "RmseVal=np.sqrt(MSEVale)\n",
    "print(\"mean_squared_error is =\",RmseVal)\n",
    "\n"
   ]
  },
  {
   "cell_type": "code",
   "execution_count": 127,
   "metadata": {},
   "outputs": [
    {
     "name": "stdout",
     "output_type": "stream",
     "text": [
      "Decision Tree  classifiers  confusion_matrix\n",
      "Decision Tree classifier Trining Accurcy = 1.0\n",
      "Decision Tree classifier Testing Accurcy =  0.8950819672131147\n",
      "[[294  32]\n",
      " [ 32 252]]\n"
     ]
    },
    {
     "data": {
      "text/plain": [
       "Text(33.0, 0.5, 'Acutl')"
      ]
     },
     "execution_count": 127,
     "metadata": {},
     "output_type": "execute_result"
    },
    {
     "data": {
      "image/png": "[encoded data removed]",
      "text/plain": [
       "<Figure size 432x288 with 2 Axes>"
      ]
     },
     "metadata": {
      "needs_background": "light"
     },
     "output_type": "display_data"
    }
   ],
   "source": [
    "from sklearn.metrics import confusion_matrix\n",
    "\n",
    "print(\"Decision Tree  classifiers  confusion_matrix\")\n",
    "cm=confusion_matrix(y_test,new_y)\n",
    "TN=cm[0][0]\n",
    "TP=cm[1][1]\n",
    "FP=cm[0][1]\n",
    "FN=cm[1][0]\n",
    "\n",
    "print('Decision Tree classifier Trining Accurcy =',D_classifier.score(x_train,y_train) )\n",
    "print('Decision Tree classifier Testing Accurcy = ',(TP+TN)/(TP+TN+FP+FN))\n",
    "print(cm)\n",
    "                            \n",
    "sns.heatmap(cm,annot=True)\n",
    "plt.title(\"Decision Tree classifier confusion_matrix \")\n",
    "plt.xlabel(\"Predication\")\n",
    "plt.ylabel(\"Acutl\")\n"
   ]
  },
  {
   "cell_type": "code",
   "execution_count": 128,
   "metadata": {},
   "outputs": [
    {
     "name": "stdout",
     "output_type": "stream",
     "text": [
      "classification_report Decision Tree\n",
      ".......................................\n",
      "              precision    recall  f1-score   support\n",
      "\n",
      "           0       0.90      0.90      0.90       326\n",
      "           1       0.89      0.89      0.89       284\n",
      "\n",
      "    accuracy                           0.90       610\n",
      "   macro avg       0.89      0.89      0.89       610\n",
      "weighted avg       0.90      0.90      0.90       610\n",
      "\n",
      "accuracy_score= 0.8950819672131147\n"
     ]
    }
   ],
   "source": [
    "\n",
    "\n",
    "### CLASSIFACTION Report\n",
    "\n",
    "from sklearn.metrics import classification_report\n",
    "from sklearn.metrics import accuracy_score\n",
    "\n",
    "y_pred=D_classifier.predict(x_test)\n",
    "print('classification_report Decision Tree')\n",
    "print('.......................................') \n",
    "\n",
    "print(classification_report(y_test,y_pred)) \n",
    "print(\"accuracy_score=\",accuracy_score(y_test,y_pred)) \n",
    "\n",
    "\n"
   ]
  },
  {
   "cell_type": "markdown",
   "metadata": {},
   "source": [
    "## تدريب النموذج علي أفضل17  سمة بعد معالجة القيم المفقودة\n"
   ]
  },
  {
   "cell_type": "code",
   "execution_count": 129,
   "metadata": {},
   "outputs": [],
   "source": [
    "\n",
    "X=BC.drop([\"CLASS\",\"Age\",\"Urea\",\"TCa\",\"GPT\",\"GOT\"],axis=1)\n",
    "Y=BC[\"CLASS\"] \n"
   ]
  },
  {
   "cell_type": "code",
   "execution_count": 130,
   "metadata": {},
   "outputs": [
    {
     "data": {
      "text/plain": [
       "(2437, 17)"
      ]
     },
     "execution_count": 130,
     "metadata": {},
     "output_type": "execute_result"
    }
   ],
   "source": [
    "X.shape\n"
   ]
  },
  {
   "cell_type": "code",
   "execution_count": 131,
   "metadata": {},
   "outputs": [
    {
     "data": {
      "text/plain": [
       "DecisionTreeClassifier(class_weight=None, criterion='gini', max_depth=None,\n",
       "                       max_features=None, max_leaf_nodes=None,\n",
       "                       min_impurity_decrease=0.0, min_impurity_split=None,\n",
       "                       min_samples_leaf=1, min_samples_split=2,\n",
       "                       min_weight_fraction_leaf=0.0, presort=False,\n",
       "                       random_state=0, splitter='best')"
      ]
     },
     "execution_count": 131,
     "metadata": {},
     "output_type": "execute_result"
    }
   ],
   "source": [
    "x_train, x_test, y_train, y_test = train_test_split(X, Y, \n",
    "                                                    test_size=0.25)\n",
    "\n",
    "from sklearn.tree import DecisionTreeClassifier\n",
    "\n",
    "D_classifier= DecisionTreeClassifier(random_state=0) \n",
    "D_classifier.fit(x_train,y_train) \n"
   ]
  },
  {
   "cell_type": "code",
   "execution_count": 132,
   "metadata": {},
   "outputs": [
    {
     "data": {
      "text/plain": [
       "0.8950819672131147"
      ]
     },
     "execution_count": 132,
     "metadata": {},
     "output_type": "execute_result"
    }
   ],
   "source": [
    "y_pred=D_classifier.predict_proba(x_test)[:,1]\n",
    "\n",
    "\n",
    "new_y=[]\n",
    "for i in range (len(y_pred)):\n",
    "    if y_pred[i]<0.5:\n",
    "        new_y.append(0)\n",
    "    else:\n",
    "        new_y.append(1)\n",
    "\n",
    "from sklearn.metrics import accuracy_score\n",
    "\n",
    "\n",
    "accuracy_score(y_test,new_y)\n"
   ]
  },
  {
   "cell_type": "code",
   "execution_count": 133,
   "metadata": {},
   "outputs": [
    {
     "name": "stdout",
     "output_type": "stream",
     "text": [
      "mean_absolute_error is = 0.10491803278688525\n",
      "mean_squared_error is = 0.3239105320715664\n"
     ]
    }
   ],
   "source": [
    "from sklearn.metrics import mean_absolute_error\n",
    "from sklearn.metrics import mean_squared_error\n",
    "\n",
    "\n",
    "MAEVale=mean_absolute_error(y_test,y_pred,multioutput=\"uniform_average\")\n",
    "print(\"mean_absolute_error is =\",MAEVale)\n",
    "\n",
    "MSEVale=mean_squared_error(y_test,y_pred,multioutput=\"uniform_average\")\n",
    "RmseVal=np.sqrt(MSEVale)\n",
    "print(\"mean_squared_error is =\",RmseVal)\n",
    "\n"
   ]
  },
  {
   "cell_type": "code",
   "execution_count": 134,
   "metadata": {},
   "outputs": [
    {
     "name": "stdout",
     "output_type": "stream",
     "text": [
      "Decision Tree  classifiers  confusion_matrix\n",
      "Decision Tree classifier Trining Accurcy = 1.0\n",
      "Decision Tree classifier Testing Accurcy =  0.8950819672131147\n",
      "[[309  37]\n",
      " [ 27 237]]\n"
     ]
    },
    {
     "data": {
      "text/plain": [
       "Text(33.0, 0.5, 'Acutl')"
      ]
     },
     "execution_count": 134,
     "metadata": {},
     "output_type": "execute_result"
    },
    {
     "data": {
      "image/png": "[encoded data removed]",
      "text/plain": [
       "<Figure size 432x288 with 2 Axes>"
      ]
     },
     "metadata": {
      "needs_background": "light"
     },
     "output_type": "display_data"
    }
   ],
   "source": [
    "from sklearn.metrics import confusion_matrix\n",
    "\n",
    "print(\"Decision Tree  classifiers  confusion_matrix\")\n",
    "cm=confusion_matrix(y_test,new_y)\n",
    "TN=cm[0][0]\n",
    "TP=cm[1][1]\n",
    "FP=cm[0][1]\n",
    "FN=cm[1][0]\n",
    "\n",
    "print('Decision Tree classifier Trining Accurcy =',D_classifier.score(x_train,y_train) )\n",
    "print('Decision Tree classifier Testing Accurcy = ',(TP+TN)/(TP+TN+FP+FN))\n",
    "print(cm)\n",
    "                            \n",
    "sns.heatmap(cm,annot=True)\n",
    "plt.title(\"Decision Tree classifier confusion_matrix \")\n",
    "plt.xlabel(\"Predication\")\n",
    "plt.ylabel(\"Acutl\")\n"
   ]
  },
  {
   "cell_type": "code",
   "execution_count": 135,
   "metadata": {},
   "outputs": [
    {
     "name": "stdout",
     "output_type": "stream",
     "text": [
      "classification_report Decision Tree\n",
      ".......................................\n",
      "              precision    recall  f1-score   support\n",
      "\n",
      "           0       0.92      0.89      0.91       346\n",
      "           1       0.86      0.90      0.88       264\n",
      "\n",
      "    accuracy                           0.90       610\n",
      "   macro avg       0.89      0.90      0.89       610\n",
      "weighted avg       0.90      0.90      0.90       610\n",
      "\n",
      "accuracy_score= 0.8950819672131147\n"
     ]
    }
   ],
   "source": [
    "\n",
    "\n",
    "### CLASSIFACTION Report\n",
    "\n",
    "from sklearn.metrics import classification_report\n",
    "from sklearn.metrics import accuracy_score\n",
    "\n",
    "y_pred=D_classifier.predict(x_test)\n",
    "print('classification_report Decision Tree')\n",
    "print('.......................................') \n",
    "\n",
    "print(classification_report(y_test,y_pred)) \n",
    "print(\"accuracy_score=\",accuracy_score(y_test,y_pred)) \n",
    "\n",
    "\n"
   ]
  },
  {
   "cell_type": "markdown",
   "metadata": {},
   "source": [
    "## تدريب النموذج علي أفضل18  سمة بعد معالجة القيم المفقودة\n"
   ]
  },
  {
   "cell_type": "code",
   "execution_count": 136,
   "metadata": {},
   "outputs": [],
   "source": [
    "\n",
    "X=BC.drop([\"CLASS\",\"Urea\",\"TCa\",\"GPT\",\"GOT\"],axis=1)\n",
    "Y=BC[\"CLASS\"] \n"
   ]
  },
  {
   "cell_type": "code",
   "execution_count": 137,
   "metadata": {},
   "outputs": [
    {
     "data": {
      "text/plain": [
       "(2437, 18)"
      ]
     },
     "execution_count": 137,
     "metadata": {},
     "output_type": "execute_result"
    }
   ],
   "source": [
    "X.shape\n"
   ]
  },
  {
   "cell_type": "code",
   "execution_count": 138,
   "metadata": {},
   "outputs": [
    {
     "data": {
      "text/plain": [
       "DecisionTreeClassifier(class_weight=None, criterion='gini', max_depth=None,\n",
       "                       max_features=None, max_leaf_nodes=None,\n",
       "                       min_impurity_decrease=0.0, min_impurity_split=None,\n",
       "                       min_samples_leaf=1, min_samples_split=2,\n",
       "                       min_weight_fraction_leaf=0.0, presort=False,\n",
       "                       random_state=0, splitter='best')"
      ]
     },
     "execution_count": 138,
     "metadata": {},
     "output_type": "execute_result"
    }
   ],
   "source": [
    "x_train, x_test, y_train, y_test = train_test_split(X, Y, \n",
    "                                                    test_size=0.25)\n",
    "\n",
    "from sklearn.tree import DecisionTreeClassifier\n",
    "\n",
    "D_classifier= DecisionTreeClassifier(random_state=0) \n",
    "D_classifier.fit(x_train,y_train) \n"
   ]
  },
  {
   "cell_type": "code",
   "execution_count": 139,
   "metadata": {},
   "outputs": [
    {
     "data": {
      "text/plain": [
       "0.8737704918032787"
      ]
     },
     "execution_count": 139,
     "metadata": {},
     "output_type": "execute_result"
    }
   ],
   "source": [
    "y_pred=D_classifier.predict_proba(x_test)[:,1]\n",
    "\n",
    "\n",
    "new_y=[]\n",
    "for i in range (len(y_pred)):\n",
    "    if y_pred[i]<0.5:\n",
    "        new_y.append(0)\n",
    "    else:\n",
    "        new_y.append(1)\n",
    "\n",
    "from sklearn.metrics import accuracy_score\n",
    "\n",
    "\n",
    "accuracy_score(y_test,new_y)\n"
   ]
  },
  {
   "cell_type": "code",
   "execution_count": 140,
   "metadata": {},
   "outputs": [
    {
     "name": "stdout",
     "output_type": "stream",
     "text": [
      "mean_absolute_error is = 0.12622950819672132\n",
      "mean_squared_error is = 0.35528792295365363\n"
     ]
    }
   ],
   "source": [
    "from sklearn.metrics import mean_absolute_error\n",
    "from sklearn.metrics import mean_squared_error\n",
    "\n",
    "\n",
    "MAEVale=mean_absolute_error(y_test,y_pred,multioutput=\"uniform_average\")\n",
    "print(\"mean_absolute_error is =\",MAEVale)\n",
    "\n",
    "MSEVale=mean_squared_error(y_test,y_pred,multioutput=\"uniform_average\")\n",
    "RmseVal=np.sqrt(MSEVale)\n",
    "print(\"mean_squared_error is =\",RmseVal)\n",
    "\n"
   ]
  },
  {
   "cell_type": "code",
   "execution_count": 141,
   "metadata": {},
   "outputs": [
    {
     "name": "stdout",
     "output_type": "stream",
     "text": [
      "Decision Tree  classifiers  confusion_matrix\n",
      "Decision Tree classifier Trining Accurcy = 1.0\n",
      "Decision Tree classifier Testing Accurcy =  0.8737704918032787\n",
      "[[299  37]\n",
      " [ 40 234]]\n"
     ]
    },
    {
     "data": {
      "text/plain": [
       "Text(33.0, 0.5, 'Acutl')"
      ]
     },
     "execution_count": 141,
     "metadata": {},
     "output_type": "execute_result"
    },
    {
     "data": {
      "image/png": "[encoded data removed]",
      "text/plain": [
       "<Figure size 432x288 with 2 Axes>"
      ]
     },
     "metadata": {
      "needs_background": "light"
     },
     "output_type": "display_data"
    }
   ],
   "source": [
    "from sklearn.metrics import confusion_matrix\n",
    "\n",
    "print(\"Decision Tree  classifiers  confusion_matrix\")\n",
    "cm=confusion_matrix(y_test,new_y)\n",
    "TN=cm[0][0]\n",
    "TP=cm[1][1]\n",
    "FP=cm[0][1]\n",
    "FN=cm[1][0]\n",
    "\n",
    "print('Decision Tree classifier Trining Accurcy =',D_classifier.score(x_train,y_train) )\n",
    "print('Decision Tree classifier Testing Accurcy = ',(TP+TN)/(TP+TN+FP+FN))\n",
    "print(cm)\n",
    "                            \n",
    "sns.heatmap(cm,annot=True)\n",
    "plt.title(\"Decision Tree classifier confusion_matrix \")\n",
    "plt.xlabel(\"Predication\")\n",
    "plt.ylabel(\"Acutl\")\n"
   ]
  },
  {
   "cell_type": "code",
   "execution_count": 142,
   "metadata": {},
   "outputs": [
    {
     "name": "stdout",
     "output_type": "stream",
     "text": [
      "classification_report Decision Tree\n",
      ".......................................\n",
      "              precision    recall  f1-score   support\n",
      "\n",
      "           0       0.88      0.89      0.89       336\n",
      "           1       0.86      0.85      0.86       274\n",
      "\n",
      "    accuracy                           0.87       610\n",
      "   macro avg       0.87      0.87      0.87       610\n",
      "weighted avg       0.87      0.87      0.87       610\n",
      "\n",
      "accuracy_score= 0.8737704918032787\n"
     ]
    }
   ],
   "source": [
    "\n",
    "\n",
    "### CLASSIFACTION Report\n",
    "\n",
    "from sklearn.metrics import classification_report\n",
    "from sklearn.metrics import accuracy_score\n",
    "\n",
    "y_pred=D_classifier.predict(x_test)\n",
    "print('classification_report Decision Tree')\n",
    "print('.......................................') \n",
    "\n",
    "print(classification_report(y_test,y_pred)) \n",
    "print(\"accuracy_score=\",accuracy_score(y_test,y_pred)) \n",
    "\n",
    "\n"
   ]
  },
  {
   "cell_type": "markdown",
   "metadata": {},
   "source": [
    "## تدريب النموذج علي أفضل19  سمة بعد معالجة القيم المفقودة\n"
   ]
  },
  {
   "cell_type": "code",
   "execution_count": 143,
   "metadata": {},
   "outputs": [],
   "source": [
    "\n",
    "X=BC.drop([\"CLASS\",\"TCa\",\"GPT\",\"GOT\"],axis=1)\n",
    "Y=BC[\"CLASS\"] \n"
   ]
  },
  {
   "cell_type": "code",
   "execution_count": 144,
   "metadata": {},
   "outputs": [
    {
     "data": {
      "text/plain": [
       "(2437, 19)"
      ]
     },
     "execution_count": 144,
     "metadata": {},
     "output_type": "execute_result"
    }
   ],
   "source": [
    "X.shape\n"
   ]
  },
  {
   "cell_type": "code",
   "execution_count": 145,
   "metadata": {},
   "outputs": [
    {
     "data": {
      "text/plain": [
       "DecisionTreeClassifier(class_weight=None, criterion='gini', max_depth=None,\n",
       "                       max_features=None, max_leaf_nodes=None,\n",
       "                       min_impurity_decrease=0.0, min_impurity_split=None,\n",
       "                       min_samples_leaf=1, min_samples_split=2,\n",
       "                       min_weight_fraction_leaf=0.0, presort=False,\n",
       "                       random_state=0, splitter='best')"
      ]
     },
     "execution_count": 145,
     "metadata": {},
     "output_type": "execute_result"
    }
   ],
   "source": [
    "x_train, x_test, y_train, y_test = train_test_split(X, Y, \n",
    "                                                    test_size=0.25)\n",
    "\n",
    "from sklearn.tree import DecisionTreeClassifier\n",
    "\n",
    "D_classifier= DecisionTreeClassifier(random_state=0) \n",
    "D_classifier.fit(x_train,y_train) \n"
   ]
  },
  {
   "cell_type": "code",
   "execution_count": 146,
   "metadata": {},
   "outputs": [
    {
     "data": {
      "text/plain": [
       "0.8754098360655738"
      ]
     },
     "execution_count": 146,
     "metadata": {},
     "output_type": "execute_result"
    }
   ],
   "source": [
    "y_pred=D_classifier.predict_proba(x_test)[:,1]\n",
    "\n",
    "\n",
    "new_y=[]\n",
    "for i in range (len(y_pred)):\n",
    "    if y_pred[i]<0.5:\n",
    "        new_y.append(0)\n",
    "    else:\n",
    "        new_y.append(1)\n",
    "\n",
    "from sklearn.metrics import accuracy_score\n",
    "\n",
    "\n",
    "accuracy_score(y_test,new_y)\n"
   ]
  },
  {
   "cell_type": "code",
   "execution_count": 147,
   "metadata": {},
   "outputs": [
    {
     "name": "stdout",
     "output_type": "stream",
     "text": [
      "mean_absolute_error is = 0.12459016393442623\n",
      "mean_squared_error is = 0.35297331901211204\n"
     ]
    }
   ],
   "source": [
    "from sklearn.metrics import mean_absolute_error\n",
    "from sklearn.metrics import mean_squared_error\n",
    "\n",
    "\n",
    "MAEVale=mean_absolute_error(y_test,y_pred,multioutput=\"uniform_average\")\n",
    "print(\"mean_absolute_error is =\",MAEVale)\n",
    "\n",
    "MSEVale=mean_squared_error(y_test,y_pred,multioutput=\"uniform_average\")\n",
    "RmseVal=np.sqrt(MSEVale)\n",
    "print(\"mean_squared_error is =\",RmseVal)\n",
    "\n"
   ]
  },
  {
   "cell_type": "code",
   "execution_count": 148,
   "metadata": {},
   "outputs": [
    {
     "name": "stdout",
     "output_type": "stream",
     "text": [
      "Decision Tree  classifiers  confusion_matrix\n",
      "Decision Tree classifier Trining Accurcy = 1.0\n",
      "Decision Tree classifier Testing Accurcy =  0.8754098360655738\n",
      "[[303  44]\n",
      " [ 32 231]]\n"
     ]
    },
    {
     "data": {
      "text/plain": [
       "Text(33.0, 0.5, 'Acutl')"
      ]
     },
     "execution_count": 148,
     "metadata": {},
     "output_type": "execute_result"
    },
    {
     "data": {
      "image/png": "[encoded data removed]",
      "text/plain": [
       "<Figure size 432x288 with 2 Axes>"
      ]
     },
     "metadata": {
      "needs_background": "light"
     },
     "output_type": "display_data"
    }
   ],
   "source": [
    "from sklearn.metrics import confusion_matrix\n",
    "\n",
    "print(\"Decision Tree  classifiers  confusion_matrix\")\n",
    "cm=confusion_matrix(y_test,new_y)\n",
    "TN=cm[0][0]\n",
    "TP=cm[1][1]\n",
    "FP=cm[0][1]\n",
    "FN=cm[1][0]\n",
    "\n",
    "print('Decision Tree classifier Trining Accurcy =',D_classifier.score(x_train,y_train) )\n",
    "print('Decision Tree classifier Testing Accurcy = ',(TP+TN)/(TP+TN+FP+FN))\n",
    "print(cm)\n",
    "                            \n",
    "sns.heatmap(cm,annot=True)\n",
    "plt.title(\"Decision Tree classifier confusion_matrix \")\n",
    "plt.xlabel(\"Predication\")\n",
    "plt.ylabel(\"Acutl\")\n"
   ]
  },
  {
   "cell_type": "code",
   "execution_count": 149,
   "metadata": {},
   "outputs": [
    {
     "name": "stdout",
     "output_type": "stream",
     "text": [
      "classification_report Decision Tree\n",
      ".......................................\n",
      "              precision    recall  f1-score   support\n",
      "\n",
      "           0       0.90      0.87      0.89       347\n",
      "           1       0.84      0.88      0.86       263\n",
      "\n",
      "    accuracy                           0.88       610\n",
      "   macro avg       0.87      0.88      0.87       610\n",
      "weighted avg       0.88      0.88      0.88       610\n",
      "\n",
      "accuracy_score= 0.8754098360655738\n"
     ]
    }
   ],
   "source": [
    "\n",
    "\n",
    "### CLASSIFACTION Report\n",
    "\n",
    "from sklearn.metrics import classification_report\n",
    "from sklearn.metrics import accuracy_score\n",
    "\n",
    "y_pred=D_classifier.predict(x_test)\n",
    "print('classification_report Decision Tree')\n",
    "print('.......................................') \n",
    "\n",
    "print(classification_report(y_test,y_pred)) \n",
    "print(\"accuracy_score=\",accuracy_score(y_test,y_pred)) \n",
    "\n",
    "\n"
   ]
  },
  {
   "cell_type": "markdown",
   "metadata": {},
   "source": [
    "## تدريب النموذج علي أفضل20  سمة بعد معالجة القيم المفقودة\n"
   ]
  },
  {
   "cell_type": "code",
   "execution_count": 150,
   "metadata": {},
   "outputs": [],
   "source": [
    "\n",
    "X=BC.drop([\"CLASS\",\"TCa\",\"GOT\"],axis=1)\n",
    "Y=BC[\"CLASS\"] \n"
   ]
  },
  {
   "cell_type": "code",
   "execution_count": 151,
   "metadata": {},
   "outputs": [
    {
     "data": {
      "text/plain": [
       "(2437, 20)"
      ]
     },
     "execution_count": 151,
     "metadata": {},
     "output_type": "execute_result"
    }
   ],
   "source": [
    "X.shape\n"
   ]
  },
  {
   "cell_type": "code",
   "execution_count": 152,
   "metadata": {},
   "outputs": [
    {
     "data": {
      "text/plain": [
       "DecisionTreeClassifier(class_weight=None, criterion='gini', max_depth=None,\n",
       "                       max_features=None, max_leaf_nodes=None,\n",
       "                       min_impurity_decrease=0.0, min_impurity_split=None,\n",
       "                       min_samples_leaf=1, min_samples_split=2,\n",
       "                       min_weight_fraction_leaf=0.0, presort=False,\n",
       "                       random_state=0, splitter='best')"
      ]
     },
     "execution_count": 152,
     "metadata": {},
     "output_type": "execute_result"
    }
   ],
   "source": [
    "x_train, x_test, y_train, y_test = train_test_split(X, Y, \n",
    "                                                    test_size=0.25)\n",
    "\n",
    "from sklearn.tree import DecisionTreeClassifier\n",
    "\n",
    "D_classifier= DecisionTreeClassifier(random_state=0) \n",
    "D_classifier.fit(x_train,y_train) \n"
   ]
  },
  {
   "cell_type": "code",
   "execution_count": 153,
   "metadata": {},
   "outputs": [
    {
     "data": {
      "text/plain": [
       "0.8754098360655738"
      ]
     },
     "execution_count": 153,
     "metadata": {},
     "output_type": "execute_result"
    }
   ],
   "source": [
    "y_pred=D_classifier.predict_proba(x_test)[:,1]\n",
    "\n",
    "\n",
    "new_y=[]\n",
    "for i in range (len(y_pred)):\n",
    "    if y_pred[i]<0.5:\n",
    "        new_y.append(0)\n",
    "    else:\n",
    "        new_y.append(1)\n",
    "\n",
    "from sklearn.metrics import accuracy_score\n",
    "\n",
    "\n",
    "accuracy_score(y_test,new_y)\n"
   ]
  },
  {
   "cell_type": "code",
   "execution_count": 154,
   "metadata": {},
   "outputs": [
    {
     "name": "stdout",
     "output_type": "stream",
     "text": [
      "mean_absolute_error is = 0.12459016393442623\n",
      "mean_squared_error is = 0.35297331901211204\n"
     ]
    }
   ],
   "source": [
    "from sklearn.metrics import mean_absolute_error\n",
    "from sklearn.metrics import mean_squared_error\n",
    "\n",
    "\n",
    "MAEVale=mean_absolute_error(y_test,y_pred,multioutput=\"uniform_average\")\n",
    "print(\"mean_absolute_error is =\",MAEVale)\n",
    "\n",
    "MSEVale=mean_squared_error(y_test,y_pred,multioutput=\"uniform_average\")\n",
    "RmseVal=np.sqrt(MSEVale)\n",
    "print(\"mean_squared_error is =\",RmseVal)\n",
    "\n"
   ]
  },
  {
   "cell_type": "code",
   "execution_count": 155,
   "metadata": {},
   "outputs": [
    {
     "name": "stdout",
     "output_type": "stream",
     "text": [
      "Decision Tree  classifiers  confusion_matrix\n",
      "Decision Tree classifier Trining Accurcy = 1.0\n",
      "Decision Tree classifier Testing Accurcy =  0.8754098360655738\n",
      "[[312  35]\n",
      " [ 41 222]]\n"
     ]
    },
    {
     "data": {
      "text/plain": [
       "Text(33.0, 0.5, 'Acutl')"
      ]
     },
     "execution_count": 155,
     "metadata": {},
     "output_type": "execute_result"
    },
    {
     "data": {
      "image/png": "[encoded data removed]",
      "text/plain": [
       "<Figure size 432x288 with 2 Axes>"
      ]
     },
     "metadata": {
      "needs_background": "light"
     },
     "output_type": "display_data"
    }
   ],
   "source": [
    "from sklearn.metrics import confusion_matrix\n",
    "\n",
    "print(\"Decision Tree  classifiers  confusion_matrix\")\n",
    "cm=confusion_matrix(y_test,new_y)\n",
    "TN=cm[0][0]\n",
    "TP=cm[1][1]\n",
    "FP=cm[0][1]\n",
    "FN=cm[1][0]\n",
    "\n",
    "print('Decision Tree classifier Trining Accurcy =',D_classifier.score(x_train,y_train) )\n",
    "print('Decision Tree classifier Testing Accurcy = ',(TP+TN)/(TP+TN+FP+FN))\n",
    "print(cm)\n",
    "                            \n",
    "sns.heatmap(cm,annot=True)\n",
    "plt.title(\"Decision Tree classifier confusion_matrix \")\n",
    "plt.xlabel(\"Predication\")\n",
    "plt.ylabel(\"Acutl\")\n"
   ]
  },
  {
   "cell_type": "code",
   "execution_count": 156,
   "metadata": {},
   "outputs": [
    {
     "name": "stdout",
     "output_type": "stream",
     "text": [
      "classification_report Decision Tree\n",
      ".......................................\n",
      "              precision    recall  f1-score   support\n",
      "\n",
      "           0       0.88      0.90      0.89       347\n",
      "           1       0.86      0.84      0.85       263\n",
      "\n",
      "    accuracy                           0.88       610\n",
      "   macro avg       0.87      0.87      0.87       610\n",
      "weighted avg       0.88      0.88      0.88       610\n",
      "\n",
      "accuracy_score= 0.8754098360655738\n"
     ]
    }
   ],
   "source": [
    "\n",
    "\n",
    "### CLASSIFACTION Report\n",
    "\n",
    "from sklearn.metrics import classification_report\n",
    "from sklearn.metrics import accuracy_score\n",
    "\n",
    "y_pred=D_classifier.predict(x_test)\n",
    "print('classification_report Decision Tree')\n",
    "print('.......................................') \n",
    "\n",
    "print(classification_report(y_test,y_pred)) \n",
    "print(\"accuracy_score=\",accuracy_score(y_test,y_pred)) \n",
    "\n",
    "\n"
   ]
  },
  {
   "cell_type": "markdown",
   "metadata": {},
   "source": [
    "## تدريب النموذج علي أفضل21  سمة بعد معالجة القيم المفقودة\n"
   ]
  },
  {
   "cell_type": "code",
   "execution_count": 157,
   "metadata": {},
   "outputs": [],
   "source": [
    "\n",
    "X=BC.drop([\"CLASS\",\"GOT\"],axis=1)\n",
    "Y=BC[\"CLASS\"] \n"
   ]
  },
  {
   "cell_type": "code",
   "execution_count": 158,
   "metadata": {},
   "outputs": [
    {
     "data": {
      "text/plain": [
       "(2437, 21)"
      ]
     },
     "execution_count": 158,
     "metadata": {},
     "output_type": "execute_result"
    }
   ],
   "source": [
    "X.shape\n"
   ]
  },
  {
   "cell_type": "code",
   "execution_count": 159,
   "metadata": {},
   "outputs": [
    {
     "data": {
      "text/plain": [
       "DecisionTreeClassifier(class_weight=None, criterion='gini', max_depth=None,\n",
       "                       max_features=None, max_leaf_nodes=None,\n",
       "                       min_impurity_decrease=0.0, min_impurity_split=None,\n",
       "                       min_samples_leaf=1, min_samples_split=2,\n",
       "                       min_weight_fraction_leaf=0.0, presort=False,\n",
       "                       random_state=0, splitter='best')"
      ]
     },
     "execution_count": 159,
     "metadata": {},
     "output_type": "execute_result"
    }
   ],
   "source": [
    "x_train, x_test, y_train, y_test = train_test_split(X, Y, \n",
    "                                                    test_size=0.25)\n",
    "\n",
    "from sklearn.tree import DecisionTreeClassifier\n",
    "\n",
    "D_classifier= DecisionTreeClassifier(random_state=0) \n",
    "D_classifier.fit(x_train,y_train) \n"
   ]
  },
  {
   "cell_type": "code",
   "execution_count": 160,
   "metadata": {},
   "outputs": [
    {
     "data": {
      "text/plain": [
       "0.8836065573770492"
      ]
     },
     "execution_count": 160,
     "metadata": {},
     "output_type": "execute_result"
    }
   ],
   "source": [
    "y_pred=D_classifier.predict_proba(x_test)[:,1]\n",
    "\n",
    "\n",
    "new_y=[]\n",
    "for i in range (len(y_pred)):\n",
    "    if y_pred[i]<0.5:\n",
    "        new_y.append(0)\n",
    "    else:\n",
    "        new_y.append(1)\n",
    "\n",
    "from sklearn.metrics import accuracy_score\n",
    "\n",
    "\n",
    "accuracy_score(y_test,new_y)\n"
   ]
  },
  {
   "cell_type": "code",
   "execution_count": 161,
   "metadata": {},
   "outputs": [
    {
     "name": "stdout",
     "output_type": "stream",
     "text": [
      "mean_absolute_error is = 0.11639344262295082\n",
      "mean_squared_error is = 0.34116483204303283\n"
     ]
    }
   ],
   "source": [
    "from sklearn.metrics import mean_absolute_error\n",
    "from sklearn.metrics import mean_squared_error\n",
    "\n",
    "\n",
    "MAEVale=mean_absolute_error(y_test,y_pred,multioutput=\"uniform_average\")\n",
    "print(\"mean_absolute_error is =\",MAEVale)\n",
    "\n",
    "MSEVale=mean_squared_error(y_test,y_pred,multioutput=\"uniform_average\")\n",
    "RmseVal=np.sqrt(MSEVale)\n",
    "print(\"mean_squared_error is =\",RmseVal)\n",
    "\n"
   ]
  },
  {
   "cell_type": "code",
   "execution_count": 162,
   "metadata": {},
   "outputs": [
    {
     "name": "stdout",
     "output_type": "stream",
     "text": [
      "Decision Tree  classifiers  confusion_matrix\n",
      "Decision Tree classifier Trining Accurcy = 1.0\n",
      "Decision Tree classifier Testing Accurcy =  0.8836065573770492\n",
      "[[288  29]\n",
      " [ 42 251]]\n"
     ]
    },
    {
     "data": {
      "text/plain": [
       "Text(33.0, 0.5, 'Acutl')"
      ]
     },
     "execution_count": 162,
     "metadata": {},
     "output_type": "execute_result"
    },
    {
     "data": {
      "image/png": "[encoded data removed]",
      "text/plain": [
       "<Figure size 432x288 with 2 Axes>"
      ]
     },
     "metadata": {
      "needs_background": "light"
     },
     "output_type": "display_data"
    }
   ],
   "source": [
    "from sklearn.metrics import confusion_matrix\n",
    "\n",
    "print(\"Decision Tree  classifiers  confusion_matrix\")\n",
    "cm=confusion_matrix(y_test,new_y)\n",
    "TN=cm[0][0]\n",
    "TP=cm[1][1]\n",
    "FP=cm[0][1]\n",
    "FN=cm[1][0]\n",
    "\n",
    "print('Decision Tree classifier Trining Accurcy =',D_classifier.score(x_train,y_train) )\n",
    "print('Decision Tree classifier Testing Accurcy = ',(TP+TN)/(TP+TN+FP+FN))\n",
    "print(cm)\n",
    "                            \n",
    "sns.heatmap(cm,annot=True)\n",
    "plt.title(\"Decision Tree classifier confusion_matrix \")\n",
    "plt.xlabel(\"Predication\")\n",
    "plt.ylabel(\"Acutl\")\n"
   ]
  },
  {
   "cell_type": "code",
   "execution_count": 163,
   "metadata": {
    "scrolled": true
   },
   "outputs": [
    {
     "name": "stdout",
     "output_type": "stream",
     "text": [
      "classification_report Decision Tree\n",
      ".......................................\n",
      "              precision    recall  f1-score   support\n",
      "\n",
      "           0       0.87      0.91      0.89       317\n",
      "           1       0.90      0.86      0.88       293\n",
      "\n",
      "    accuracy                           0.88       610\n",
      "   macro avg       0.88      0.88      0.88       610\n",
      "weighted avg       0.88      0.88      0.88       610\n",
      "\n",
      "accuracy_score= 0.8836065573770492\n"
     ]
    }
   ],
   "source": [
    "\n",
    "\n",
    "### CLASSIFACTION Report\n",
    "\n",
    "from sklearn.metrics import classification_report\n",
    "from sklearn.metrics import accuracy_score\n",
    "\n",
    "y_pred=D_classifier.predict(x_test)\n",
    "print('classification_report Decision Tree')\n",
    "print('.......................................') \n",
    "\n",
    "print(classification_report(y_test,y_pred)) \n",
    "print(\"accuracy_score=\",accuracy_score(y_test,y_pred)) \n",
    "\n",
    "\n"
   ]
  },
  {
   "cell_type": "markdown",
   "metadata": {},
   "source": [
    "## تدريب النموذج علي أفضل22  سمة بعد معالجة القيم المفقودة\n"
   ]
  },
  {
   "cell_type": "code",
   "execution_count": 164,
   "metadata": {},
   "outputs": [],
   "source": [
    "\n",
    "X=BC.drop([\"CLASS\"],axis=1)\n",
    "Y=BC[\"CLASS\"] \n"
   ]
  },
  {
   "cell_type": "code",
   "execution_count": 165,
   "metadata": {},
   "outputs": [
    {
     "data": {
      "text/plain": [
       "(2437, 22)"
      ]
     },
     "execution_count": 165,
     "metadata": {},
     "output_type": "execute_result"
    }
   ],
   "source": [
    "X.shape\n"
   ]
  },
  {
   "cell_type": "code",
   "execution_count": 166,
   "metadata": {},
   "outputs": [
    {
     "data": {
      "text/plain": [
       "DecisionTreeClassifier(class_weight=None, criterion='gini', max_depth=None,\n",
       "                       max_features=None, max_leaf_nodes=None,\n",
       "                       min_impurity_decrease=0.0, min_impurity_split=None,\n",
       "                       min_samples_leaf=1, min_samples_split=2,\n",
       "                       min_weight_fraction_leaf=0.0, presort=False,\n",
       "                       random_state=0, splitter='best')"
      ]
     },
     "execution_count": 166,
     "metadata": {},
     "output_type": "execute_result"
    }
   ],
   "source": [
    "x_train, x_test, y_train, y_test = train_test_split(X, Y, \n",
    "                                                    test_size=0.25)\n",
    "\n",
    "from sklearn.tree import DecisionTreeClassifier\n",
    "\n",
    "D_classifier= DecisionTreeClassifier(random_state=0) \n",
    "D_classifier.fit(x_train,y_train) \n"
   ]
  },
  {
   "cell_type": "code",
   "execution_count": 167,
   "metadata": {},
   "outputs": [
    {
     "data": {
      "text/plain": [
       "0.8918032786885246"
      ]
     },
     "execution_count": 167,
     "metadata": {},
     "output_type": "execute_result"
    }
   ],
   "source": [
    "y_pred=D_classifier.predict_proba(x_test)[:,1]\n",
    "\n",
    "\n",
    "new_y=[]\n",
    "for i in range (len(y_pred)):\n",
    "    if y_pred[i]<0.5:\n",
    "        new_y.append(0)\n",
    "    else:\n",
    "        new_y.append(1)\n",
    "\n",
    "from sklearn.metrics import accuracy_score\n",
    "\n",
    "\n",
    "accuracy_score(y_test,new_y)\n"
   ]
  },
  {
   "cell_type": "code",
   "execution_count": 168,
   "metadata": {},
   "outputs": [
    {
     "name": "stdout",
     "output_type": "stream",
     "text": [
      "mean_absolute_error is = 0.10819672131147541\n",
      "mean_squared_error is = 0.32893270027693416\n"
     ]
    }
   ],
   "source": [
    "from sklearn.metrics import mean_absolute_error\n",
    "from sklearn.metrics import mean_squared_error\n",
    "\n",
    "\n",
    "MAEVale=mean_absolute_error(y_test,y_pred,multioutput=\"uniform_average\")\n",
    "print(\"mean_absolute_error is =\",MAEVale)\n",
    "\n",
    "MSEVale=mean_squared_error(y_test,y_pred,multioutput=\"uniform_average\")\n",
    "RmseVal=np.sqrt(MSEVale)\n",
    "print(\"mean_squared_error is =\",RmseVal)\n",
    "\n"
   ]
  },
  {
   "cell_type": "code",
   "execution_count": 169,
   "metadata": {},
   "outputs": [
    {
     "name": "stdout",
     "output_type": "stream",
     "text": [
      "Decision Tree  classifiers  confusion_matrix\n",
      "Decision Tree classifier Trining Accurcy = 1.0\n",
      "Decision Tree classifier Testing Accurcy =  0.8918032786885246\n",
      "[[308  30]\n",
      " [ 36 236]]\n"
     ]
    },
    {
     "data": {
      "text/plain": [
       "Text(33.0, 0.5, 'Acutl')"
      ]
     },
     "execution_count": 169,
     "metadata": {},
     "output_type": "execute_result"
    },
    {
     "data": {
      "image/png": "[encoded data removed]",
      "text/plain": [
       "<Figure size 432x288 with 2 Axes>"
      ]
     },
     "metadata": {
      "needs_background": "light"
     },
     "output_type": "display_data"
    }
   ],
   "source": [
    "from sklearn.metrics import confusion_matrix\n",
    "\n",
    "print(\"Decision Tree  classifiers  confusion_matrix\")\n",
    "cm=confusion_matrix(y_test,new_y)\n",
    "TN=cm[0][0]\n",
    "TP=cm[1][1]\n",
    "FP=cm[0][1]\n",
    "FN=cm[1][0]\n",
    "\n",
    "print('Decision Tree classifier Trining Accurcy =',D_classifier.score(x_train,y_train) )\n",
    "print('Decision Tree classifier Testing Accurcy = ',(TP+TN)/(TP+TN+FP+FN))\n",
    "print(cm)\n",
    "                            \n",
    "sns.heatmap(cm,annot=True)\n",
    "plt.title(\"Decision Tree classifier confusion_matrix \")\n",
    "plt.xlabel(\"Predication\")\n",
    "plt.ylabel(\"Acutl\")\n"
   ]
  },
  {
   "cell_type": "code",
   "execution_count": 170,
   "metadata": {},
   "outputs": [
    {
     "name": "stdout",
     "output_type": "stream",
     "text": [
      "classification_report Decision Tree\n",
      ".......................................\n",
      "              precision    recall  f1-score   support\n",
      "\n",
      "           0       0.90      0.91      0.90       338\n",
      "           1       0.89      0.87      0.88       272\n",
      "\n",
      "    accuracy                           0.89       610\n",
      "   macro avg       0.89      0.89      0.89       610\n",
      "weighted avg       0.89      0.89      0.89       610\n",
      "\n",
      "accuracy_score= 0.8918032786885246\n"
     ]
    }
   ],
   "source": [
    "\n",
    "\n",
    "### CLASSIFACTION Report\n",
    "\n",
    "from sklearn.metrics import classification_report\n",
    "from sklearn.metrics import accuracy_score\n",
    "\n",
    "y_pred=D_classifier.predict(x_test)\n",
    "print('classification_report Decision Tree')\n",
    "print('.......................................') \n",
    "\n",
    "print(classification_report(y_test,y_pred)) \n",
    "print(\"accuracy_score=\",accuracy_score(y_test,y_pred)) \n",
    "\n",
    "\n"
   ]
  },
  {
   "cell_type": "code",
   "execution_count": 171,
   "metadata": {},
   "outputs": [
    {
     "data": {
      "text/html": [
       "<div>\n",
       "<style scoped>\n",
       "    .dataframe tbody tr th:only-of-type {\n",
       "        vertical-align: middle;\n",
       "    }\n",
       "\n",
       "    .dataframe tbody tr th {\n",
       "        vertical-align: top;\n",
       "    }\n",
       "\n",
       "    .dataframe thead th {\n",
       "        text-align: right;\n",
       "    }\n",
       "</style>\n",
       "<table border=\"1\" class=\"dataframe\">\n",
       "  <thead>\n",
       "    <tr style=\"text-align: right;\">\n",
       "      <th></th>\n",
       "      <th>No_best_Fs</th>\n",
       "      <th>validation_accuracy</th>\n",
       "    </tr>\n",
       "  </thead>\n",
       "  <tbody>\n",
       "    <tr>\n",
       "      <td>0</td>\n",
       "      <td>2</td>\n",
       "      <td>60</td>\n",
       "    </tr>\n",
       "    <tr>\n",
       "      <td>1</td>\n",
       "      <td>3</td>\n",
       "      <td>72</td>\n",
       "    </tr>\n",
       "    <tr>\n",
       "      <td>2</td>\n",
       "      <td>4</td>\n",
       "      <td>81</td>\n",
       "    </tr>\n",
       "    <tr>\n",
       "      <td>3</td>\n",
       "      <td>5</td>\n",
       "      <td>80</td>\n",
       "    </tr>\n",
       "    <tr>\n",
       "      <td>4</td>\n",
       "      <td>6</td>\n",
       "      <td>83</td>\n",
       "    </tr>\n",
       "    <tr>\n",
       "      <td>5</td>\n",
       "      <td>7</td>\n",
       "      <td>87</td>\n",
       "    </tr>\n",
       "    <tr>\n",
       "      <td>6</td>\n",
       "      <td>8</td>\n",
       "      <td>84</td>\n",
       "    </tr>\n",
       "    <tr>\n",
       "      <td>7</td>\n",
       "      <td>9</td>\n",
       "      <td>86</td>\n",
       "    </tr>\n",
       "    <tr>\n",
       "      <td>8</td>\n",
       "      <td>10</td>\n",
       "      <td>85</td>\n",
       "    </tr>\n",
       "    <tr>\n",
       "      <td>9</td>\n",
       "      <td>11</td>\n",
       "      <td>88</td>\n",
       "    </tr>\n",
       "    <tr>\n",
       "      <td>10</td>\n",
       "      <td>12</td>\n",
       "      <td>89</td>\n",
       "    </tr>\n",
       "    <tr>\n",
       "      <td>11</td>\n",
       "      <td>13</td>\n",
       "      <td>90</td>\n",
       "    </tr>\n",
       "    <tr>\n",
       "      <td>12</td>\n",
       "      <td>14</td>\n",
       "      <td>88</td>\n",
       "    </tr>\n",
       "    <tr>\n",
       "      <td>13</td>\n",
       "      <td>15</td>\n",
       "      <td>86</td>\n",
       "    </tr>\n",
       "    <tr>\n",
       "      <td>14</td>\n",
       "      <td>16</td>\n",
       "      <td>89</td>\n",
       "    </tr>\n",
       "    <tr>\n",
       "      <td>15</td>\n",
       "      <td>17</td>\n",
       "      <td>89</td>\n",
       "    </tr>\n",
       "    <tr>\n",
       "      <td>16</td>\n",
       "      <td>18</td>\n",
       "      <td>87</td>\n",
       "    </tr>\n",
       "    <tr>\n",
       "      <td>17</td>\n",
       "      <td>19</td>\n",
       "      <td>87</td>\n",
       "    </tr>\n",
       "    <tr>\n",
       "      <td>18</td>\n",
       "      <td>20</td>\n",
       "      <td>87</td>\n",
       "    </tr>\n",
       "    <tr>\n",
       "      <td>19</td>\n",
       "      <td>21</td>\n",
       "      <td>88</td>\n",
       "    </tr>\n",
       "    <tr>\n",
       "      <td>20</td>\n",
       "      <td>22</td>\n",
       "      <td>89</td>\n",
       "    </tr>\n",
       "  </tbody>\n",
       "</table>\n",
       "</div>"
      ],
      "text/plain": [
       "    No_best_Fs  validation_accuracy\n",
       "0            2                   60\n",
       "1            3                   72\n",
       "2            4                   81\n",
       "3            5                   80\n",
       "4            6                   83\n",
       "5            7                   87\n",
       "6            8                   84\n",
       "7            9                   86\n",
       "8           10                   85\n",
       "9           11                   88\n",
       "10          12                   89\n",
       "11          13                   90\n",
       "12          14                   88\n",
       "13          15                   86\n",
       "14          16                   89\n",
       "15          17                   89\n",
       "16          18                   87\n",
       "17          19                   87\n",
       "18          20                   87\n",
       "19          21                   88\n",
       "20          22                   89"
      ]
     },
     "execution_count": 171,
     "metadata": {},
     "output_type": "execute_result"
    }
   ],
   "source": [
    "No_best_Fs = [2,3,4,5,6,7,8,9,10,11,12,13,14,15,16,17,18,19,20,21,22]\n",
    "validation_accuracy = [60,\n",
    "                       72,\n",
    "                       81,\n",
    "                       80,\n",
    "                       83,\n",
    "                       87,\n",
    "                       84,\n",
    "                       86,\n",
    "                       85,\n",
    "                       88,\n",
    "                       89,\n",
    "                       90,\n",
    "                       88,\n",
    "                       86,\n",
    "                       89,\n",
    "                       89,\n",
    "                       87,\n",
    "                       87,\n",
    "                       87,\n",
    "                       88,\n",
    "                       89]\n",
    "                       \n",
    "List = zip(No_best_Fs,validation_accuracy)\n",
    "df = pd.DataFrame(data = List, columns=['No_best_Fs','validation_accuracy'],)\n",
    "df\n"
   ]
  },
  {
   "cell_type": "code",
   "execution_count": 174,
   "metadata": {},
   "outputs": [
    {
     "name": "stderr",
     "output_type": "stream",
     "text": [
      "C:\\Users\\TOSHIBA\\Anaconda3\\lib\\site-packages\\ipykernel_launcher.py:9: MatplotlibDeprecationWarning: Unrecognized location 'bst'. Falling back on 'best'; valid locations are\n",
      "\tbest\n",
      "\tupper right\n",
      "\tupper left\n",
      "\tlower left\n",
      "\tlower right\n",
      "\tright\n",
      "\tcenter left\n",
      "\tcenter right\n",
      "\tlower center\n",
      "\tupper center\n",
      "\tcenter\n",
      "This will raise an exception in 3.3.\n",
      "  if __name__ == '__main__':\n"
     ]
    },
    {
     "name": "stdout",
     "output_type": "stream",
     "text": [
      "the best fretures number by  mutual information are 13:\n",
      "CEA , CA15 , RBC , LDH , FBS , Adress , WBC , ESR , Adress , Na , ALB , PLT , ALP\n"
     ]
    },
    {
     "data": {
      "image/png": "[encoded data removed]",
      "text/plain": [
       "<Figure size 864x432 with 1 Axes>"
      ]
     },
     "metadata": {
      "needs_background": "light"
     },
     "output_type": "display_data"
    }
   ],
   "source": [
    "plt.figure(figsize=(12,6))\n",
    "plt.plot(df['No_best_Fs'],df['validation_accuracy'],label='Number fs=13 with Acc=90',marker='o')\n",
    "\n",
    "plt.title(\"CART algorithm accuracy based on mutual information\",fontsize=18)\n",
    "plt.axvline(x=13, color='orange', linestyle='--')\n",
    "plt.xlabel('Num_best_Fs',labelpad=10, fontsize=14)\n",
    "plt.ylabel('performance',labelpad=10, fontsize=14)\n",
    "plt.legend(bbox_to_anchor=(1,1),fontsize=14)\n",
    "plt.legend(loc='bst',fontsize=14)\n",
    "\n",
    "print(\"the best fretures number by  mutual information are 13:\")\n",
    "print(\"CEA , CA15 , RBC , LDH , FBS , Adress , WBC , ESR , Adress , Na , ALB , PLT , ALP\")\n",
    "plt.show()"
   ]
  },
  {
   "cell_type": "code",
   "execution_count": null,
   "metadata": {},
   "outputs": [],
   "source": []
  },
  {
   "cell_type": "code",
   "execution_count": null,
   "metadata": {},
   "outputs": [],
   "source": []
  }
 ],
 "metadata": {
  "kernelspec": {
   "display_name": "Python 3 (ipykernel)",
   "language": "python",
   "name": "python3"
  },
  "language_info": {
   "codemirror_mode": {
    "name": "ipython",
    "version": 3
   },
   "file_extension": ".py",
   "mimetype": "text/x-python",
   "name": "python",
   "nbconvert_exporter": "python",
   "pygments_lexer": "ipython3",
   "version": "3.9.13"
  }
 },
 "nbformat": 4,
 "nbformat_minor": 4
}
